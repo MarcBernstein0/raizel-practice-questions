{
 "metadata": {
  "language_info": {
   "codemirror_mode": {
    "name": "ipython",
    "version": 3
   },
   "file_extension": ".py",
   "mimetype": "text/x-python",
   "name": "python",
   "nbconvert_exporter": "python",
   "pygments_lexer": "ipython3",
   "version": "3.6.9"
  },
  "orig_nbformat": 2,
  "kernelspec": {
   "name": "python369jvsc74a57bd046b47b15db4d080f21329d2f276a485f6920bd7282f904e9c80d5824bcc53c6e",
   "display_name": "Python 3.6.9 64-bit ('learn-env': conda)"
  }
 },
 "nbformat": 4,
 "nbformat_minor": 2,
 "cells": [
  {
   "cell_type": "code",
   "execution_count": 1,
   "metadata": {},
   "outputs": [],
   "source": [
    "#given two words are they anagrams - true or false - make a function"
   ]
  },
  {
   "cell_type": "code",
   "execution_count": 11,
   "metadata": {},
   "outputs": [],
   "source": [
    "def anagram(first, second):\n",
    "    count_char_first = {}\n",
    "    count_char_second = {}\n",
    "    first = first.replace(' ', '')\n",
    "    second = second.replace(' ', '')\n",
    "    if len(first) != len(second):\n",
    "        return False\n",
    "    for character in first:\n",
    "        if character not in count_char_first:\n",
    "            count_char_first[character] = 1\n",
    "        else:\n",
    "            count_char_first[character] += 1 \n",
    "    for character in second:\n",
    "        if character not in count_char_second:\n",
    "            count_char_second[character] =1\n",
    "        else:\n",
    "            count_char_second[character] += 1\n",
    "    return count_char_first == count_char_second   "
   ]
  },
  {
   "cell_type": "code",
   "execution_count": 12,
   "metadata": {},
   "outputs": [
    {
     "output_type": "execute_result",
     "data": {
      "text/plain": [
       "True"
      ]
     },
     "metadata": {},
     "execution_count": 12
    }
   ],
   "source": [
    "anagram('dormitory', 'dirty room')"
   ]
  },
  {
   "cell_type": "code",
   "execution_count": 13,
   "metadata": {},
   "outputs": [
    {
     "output_type": "execute_result",
     "data": {
      "text/plain": [
       "False"
      ]
     },
     "metadata": {},
     "execution_count": 13
    }
   ],
   "source": [
    "anagram('hello', 'hi')"
   ]
  },
  {
   "cell_type": "code",
   "execution_count": 14,
   "metadata": {},
   "outputs": [],
   "source": [
    "def anagrams(first, second):\n",
    "    count_char_first = {}\n",
    "    count_char_second = {}\n",
    "    first = first.replace(' ', '')\n",
    "    second = second.replace(' ', '')\n",
    "    if len(first) != len(second):\n",
    "        return False\n",
    "    for index in range(len(second)):\n",
    "        if first[index] not in count_char_first:\n",
    "            count_char_first[first[index]] = 1  \n",
    "        elif first[index] in count_char_first:\n",
    "            count_char_first[first[index]] += 1 \n",
    "\n",
    "        if second[index] not in count_char_second:\n",
    "            count_char_second[second[index]] = 1\n",
    "        elif second[index] in count_char_second:\n",
    "            count_char_second[second[index]] += 1\n",
    "    \n",
    "    return count_char_first == count_char_second"
   ]
  },
  {
   "cell_type": "code",
   "execution_count": 15,
   "metadata": {},
   "outputs": [
    {
     "output_type": "execute_result",
     "data": {
      "text/plain": [
       "True"
      ]
     },
     "metadata": {},
     "execution_count": 15
    }
   ],
   "source": [
    "anagrams('marc', 'arcm')"
   ]
  },
  {
   "cell_type": "code",
   "execution_count": 16,
   "metadata": {},
   "outputs": [
    {
     "output_type": "execute_result",
     "data": {
      "text/plain": [
       "False"
      ]
     },
     "metadata": {},
     "execution_count": 16
    }
   ],
   "source": [
    "anagrams('asdfhl', 'oiewurqp')"
   ]
  },
  {
   "cell_type": "code",
   "execution_count": 17,
   "metadata": {},
   "outputs": [
    {
     "output_type": "execute_result",
     "data": {
      "text/plain": [
       "True"
      ]
     },
     "metadata": {},
     "execution_count": 17
    }
   ],
   "source": [
    "anagrams('dormitory', 'dirty room')"
   ]
  },
  {
   "cell_type": "code",
   "execution_count": 18,
   "metadata": {},
   "outputs": [
    {
     "output_type": "execute_result",
     "data": {
      "text/plain": [
       "False"
      ]
     },
     "metadata": {},
     "execution_count": 18
    }
   ],
   "source": [
    "anagram('hello', 'hi')"
   ]
  },
  {
   "cell_type": "code",
   "execution_count": 28,
   "metadata": {},
   "outputs": [],
   "source": [
    "def anagrams(first, second):\n",
    "    from collections import Counter \n",
    "    first, second = first.replace(' ', ''), second.replace(' ', '')\n",
    "    return Counter(first) == Counter(second)"
   ]
  },
  {
   "cell_type": "code",
   "execution_count": 29,
   "metadata": {},
   "outputs": [
    {
     "output_type": "execute_result",
     "data": {
      "text/plain": [
       "True"
      ]
     },
     "metadata": {},
     "execution_count": 29
    }
   ],
   "source": [
    "anagrams('dormitory', 'dirty room')"
   ]
  },
  {
   "cell_type": "code",
   "execution_count": null,
   "metadata": {},
   "outputs": [],
   "source": []
  }
 ]
}