{
 "metadata": {
  "language_info": {
   "codemirror_mode": {
    "name": "ipython",
    "version": 3
   },
   "file_extension": ".py",
   "mimetype": "text/x-python",
   "name": "python",
   "nbconvert_exporter": "python",
   "pygments_lexer": "ipython3",
   "version": "3.6.9"
  },
  "orig_nbformat": 2,
  "kernelspec": {
   "name": "python369jvsc74a57bd046b47b15db4d080f21329d2f276a485f6920bd7282f904e9c80d5824bcc53c6e",
   "display_name": "Python 3.6.9 64-bit ('learn-env': conda)"
  }
 },
 "nbformat": 4,
 "nbformat_minor": 2,
 "cells": [
  {
   "cell_type": "code",
   "execution_count": 1,
   "metadata": {},
   "outputs": [],
   "source": [
    "#given two words are they anagrams - true or false - make a function"
   ]
  },
  {
   "cell_type": "code",
   "execution_count": 11,
   "metadata": {},
   "outputs": [],
   "source": [
    "def anagram(first, second):\n",
    "    count_char_first = {}\n",
    "    count_char_second = {}\n",
    "    first = first.replace(' ', '')\n",
    "    second = second.replace(' ', '')\n",
    "    if len(first) != len(second):\n",
    "        return False\n",
    "    for character in first:\n",
    "        if character not in count_char_first:\n",
    "            count_char_first[character] = 1\n",
    "        else:\n",
    "            count_char_first[character] += 1 \n",
    "    for character in second:\n",
    "        if character not in count_char_second:\n",
    "            count_char_second[character] =1\n",
    "        else:\n",
    "            count_char_second[character] += 1\n",
    "    return count_char_first == count_char_second   "
   ]
  },
  {
   "cell_type": "code",
   "execution_count": 12,
   "metadata": {},
   "outputs": [
    {
     "output_type": "execute_result",
     "data": {
      "text/plain": [
       "True"
      ]
     },
     "metadata": {},
     "execution_count": 12
    }
   ],
   "source": [
    "anagram('dormitory', 'dirty room')"
   ]
  },
  {
   "cell_type": "code",
   "execution_count": 13,
   "metadata": {},
   "outputs": [
    {
     "output_type": "execute_result",
     "data": {
      "text/plain": [
       "False"
      ]
     },
     "metadata": {},
     "execution_count": 13
    }
   ],
   "source": [
    "anagram('hello', 'hi')"
   ]
  },
  {
   "cell_type": "code",
   "execution_count": 14,
   "metadata": {},
   "outputs": [],
   "source": [
    "def anagrams(first, second):\n",
    "    count_char_first = {}\n",
    "    count_char_second = {}\n",
    "    first = first.replace(' ', '')\n",
    "    second = second.replace(' ', '')\n",
    "    if len(first) != len(second):\n",
    "        return False\n",
    "    for index in range(len(second)):\n",
    "        if first[index] not in count_char_first:\n",
    "            count_char_first[first[index]] = 1  \n",
    "        elif first[index] in count_char_first:\n",
    "            count_char_first[first[index]] += 1 \n",
    "\n",
    "        if second[index] not in count_char_second:\n",
    "            count_char_second[second[index]] = 1\n",
    "        elif second[index] in count_char_second:\n",
    "            count_char_second[second[index]] += 1\n",
    "    \n",
    "    return count_char_first == count_char_second"
   ]
  },
  {
   "cell_type": "code",
   "execution_count": 15,
   "metadata": {},
   "outputs": [
    {
     "output_type": "execute_result",
     "data": {
      "text/plain": [
       "True"
      ]
     },
     "metadata": {},
     "execution_count": 15
    }
   ],
   "source": [
    "anagrams('marc', 'arcm')"
   ]
  },
  {
   "cell_type": "code",
   "execution_count": 16,
   "metadata": {},
   "outputs": [
    {
     "output_type": "execute_result",
     "data": {
      "text/plain": [
       "False"
      ]
     },
     "metadata": {},
     "execution_count": 16
    }
   ],
   "source": [
    "anagrams('asdfhl', 'oiewurqp')"
   ]
  },
  {
   "cell_type": "code",
   "execution_count": 17,
   "metadata": {},
   "outputs": [
    {
     "output_type": "execute_result",
     "data": {
      "text/plain": [
       "True"
      ]
     },
     "metadata": {},
     "execution_count": 17
    }
   ],
   "source": [
    "anagrams('dormitory', 'dirty room')"
   ]
  },
  {
   "cell_type": "code",
   "execution_count": 18,
   "metadata": {},
   "outputs": [
    {
     "output_type": "execute_result",
     "data": {
      "text/plain": [
       "False"
      ]
     },
     "metadata": {},
     "execution_count": 18
    }
   ],
   "source": [
    "anagram('hello', 'hi')"
   ]
  },
  {
   "cell_type": "code",
   "execution_count": 28,
   "metadata": {},
   "outputs": [],
   "source": [
    "def anagrams(first, second):\n",
    "    from collections import Counter \n",
    "    first, second = first.replace(' ', ''), second.replace(' ', '')\n",
    "    return Counter(first) == Counter(second)"
   ]
  },
  {
   "cell_type": "code",
   "execution_count": 29,
   "metadata": {},
   "outputs": [
    {
     "output_type": "execute_result",
     "data": {
      "text/plain": [
       "True"
      ]
     },
     "metadata": {},
     "execution_count": 29
    }
   ],
   "source": [
    "anagrams('dormitory', 'dirty room')"
   ]
  },
  {
   "cell_type": "code",
   "execution_count": 30,
   "metadata": {},
   "outputs": [],
   "source": [
    "def anagrams_sorted(first, second):\n",
    "    first, second = first.replace(' ', ''), second.replace(' ', '')\n",
    "    return sorted(first) == sorted(second)"
   ]
  },
  {
   "cell_type": "code",
   "execution_count": 31,
   "metadata": {},
   "outputs": [
    {
     "output_type": "execute_result",
     "data": {
      "text/plain": [
       "True"
      ]
     },
     "metadata": {},
     "execution_count": 31
    }
   ],
   "source": [
    "anagrams_sorted('dormitory', 'dirty room')"
   ]
  },
  {
   "cell_type": "code",
   "execution_count": 32,
   "metadata": {},
   "outputs": [
    {
     "output_type": "execute_result",
     "data": {
      "text/plain": [
       "False"
      ]
     },
     "metadata": {},
     "execution_count": 32
    }
   ],
   "source": [
    "anagram('hello', 'hi')"
   ]
  },
  {
   "cell_type": "code",
   "execution_count": 28,
   "metadata": {},
   "outputs": [],
   "source": [
    "def find_max(lst):\n",
    "    ''' given a list of numbers (floats or ints) find and return the max value in the list and the values index in the list\n",
    "\n",
    "        you can return multiple values, just right return value1, value2\n",
    "    '''\n",
    "    # return max(lst)\n",
    "\n",
    "    current_max = lst[0]\n",
    "    current_max_index = 0\n",
    "    for num in range(len(lst)):\n",
    "        if current_max < lst[num]:\n",
    "            # print(lst[num])\n",
    "            current_max = lst[num]\n",
    "            current_max_index = num \n",
    "    return current_max, current_max_index"
   ]
  },
  {
   "cell_type": "code",
   "execution_count": 29,
   "metadata": {},
   "outputs": [
    {
     "output_type": "stream",
     "name": "stdout",
     "text": [
      "(10, 4)\n(0, 0)\n(-1, 4)\n"
     ]
    }
   ],
   "source": [
    "# [0, -1.3, 5, -4, 10, -1, 2] expected result 10, 4\n",
    "print(find_max([0, -1.3, 5, -4, 10, -1, 2]))\n",
    "\n",
    "# [0, -1.3, -5, -4, -10, -1, -2] expected result 0, 0\n",
    "print(find_max([0, -1.3, -5, -4, -10, -1, -2]))\n",
    "\n",
    "# [-1.3, -5, -4, -10, -1, -2] expected result -1, 4\n",
    "print(find_max([-1.3, -5, -4, -10, -1, -2]))"
   ]
  },
  {
   "cell_type": "code",
   "execution_count": 31,
   "metadata": {},
   "outputs": [
    {
     "output_type": "stream",
     "name": "stdout",
     "text": [
      "10 4\n"
     ]
    }
   ],
   "source": [
    "max_val = max([0, -1.3, 5, -4, 10, -1, 2])\n",
    "print(max_val, [0, -1.3, 5, -4, 10, -1, 2].index(max_val))"
   ]
  },
  {
   "cell_type": "code",
   "execution_count": 44,
   "metadata": {},
   "outputs": [],
   "source": [
    "def print_odd_numbers_in_range(start, end):\n",
    "    ''' given two numbers that represent a range of values, print all the odd numbers in that range\n",
    "    '''\n",
    "    lst = []\n",
    "    for num in range(start, end+1):\n",
    "        if num % 2 != 0:\n",
    "            lst.append(num)\n",
    "    print(lst)"
   ]
  },
  {
   "cell_type": "code",
   "execution_count": 45,
   "metadata": {},
   "outputs": [
    {
     "output_type": "stream",
     "name": "stdout",
     "text": [
      "[1, 3, 5]\n[5, 7, 9]\n"
     ]
    }
   ],
   "source": [
    "print_odd_numbers_in_range(0, 5) # expected output: 1 3 5\n",
    "print_odd_numbers_in_range(4, 10) # expected output: 5 7 9  "
   ]
  },
  {
   "cell_type": "code",
   "execution_count": 50,
   "metadata": {},
   "outputs": [],
   "source": [
    "def reverse_lst(lst):\n",
    "    ''' return the reversed list\n",
    "    '''\n",
    "    return lst[::-1]"
   ]
  },
  {
   "cell_type": "code",
   "execution_count": 51,
   "metadata": {},
   "outputs": [
    {
     "output_type": "stream",
     "name": "stdout",
     "text": [
      "[-2, -1, -10, -4, -5, -1.3, 0]\n[0, -1.3, -5, -4, -10, -1, -2]\n"
     ]
    }
   ],
   "source": [
    "print(reverse_lst([0, -1.3, -5, -4, -10, -1, -2])) # expected output: [-2, -1, -10, -4, -5, -1.3, 0]\n",
    "print(reverse_lst([-2, -1, -10, -4, -5, -1.3, 0])) # expected output: [0, -1.3, -5, -4, -10, -1, -2]"
   ]
  },
  {
   "cell_type": "code",
   "execution_count": null,
   "metadata": {},
   "outputs": [],
   "source": []
  }
 ]
}