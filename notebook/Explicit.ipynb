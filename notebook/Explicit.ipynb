{
 "metadata": {
  "language_info": {
   "codemirror_mode": {
    "name": "ipython",
    "version": 3
   },
   "file_extension": ".py",
   "mimetype": "text/x-python",
   "name": "python",
   "nbconvert_exporter": "python",
   "pygments_lexer": "ipython3",
   "version": "3.8.3-final"
  },
  "orig_nbformat": 2,
  "kernelspec": {
   "name": "learn-env",
   "display_name": "learn-env"
  }
 },
 "nbformat": 4,
 "nbformat_minor": 2,
 "cells": [
  {
   "cell_type": "code",
   "execution_count": 52,
   "metadata": {},
   "outputs": [],
   "source": [
    "import pandas as pd \n",
    "import matplotlib.pyplot as plt\n",
    "import numpy as np\n",
    "import requests\n",
    "import json\n",
    "import matplotlib.pyplot as plt\n",
    "import seaborn as sns\n",
    "from matplotlib.pyplot import MaxNLocator, FuncFormatter\n",
    "import pylab as p"
   ]
  },
  {
   "cell_type": "code",
   "execution_count": 2,
   "metadata": {},
   "outputs": [],
   "source": [
    "# lets try to get some data from yelp!\n",
    "url = 'https://api.spotify.com/v1'\n",
    "response = requests.get(url)"
   ]
  },
  {
   "cell_type": "code",
   "execution_count": 3,
   "metadata": {},
   "outputs": [],
   "source": [
    "# 11be57c79dbd40c69e75f1b90431d529 - client ID"
   ]
  },
  {
   "cell_type": "code",
   "execution_count": 4,
   "metadata": {},
   "outputs": [],
   "source": [
    "# f4ab417ba6d54327a0b98ea12ceef847 - secret ID"
   ]
  },
  {
   "cell_type": "code",
   "execution_count": 5,
   "metadata": {},
   "outputs": [],
   "source": [
    "# import spotipy\n",
    "# from spotipy.oauth2 import SpotifyOAuth\n",
    "\n",
    "# scope = \"user-library-read\"\n",
    "\n",
    "# sp = spotipy.Spotify(auth_manager=SpotifyOAuth(scope=scope))\n",
    "\n",
    "# results = sp.current_user_saved_tracks()\n",
    "# for idx, item in enumerate(results['items']):\n",
    "#     track = item['track']\n",
    "#     print(idx, track['artists'][0]['name'], \" – \", track['name'])"
   ]
  },
  {
   "cell_type": "code",
   "execution_count": 6,
   "metadata": {},
   "outputs": [],
   "source": [
    "# export SPOTIPY_CLIENT_ID='11be57c79dbd40c69e75f1b90431d529'\n",
    "# export SPOTIPY_CLIENT_SECRET='your-spotify-client-secret'\n",
    "# export SPOTIPY_REDIRECT_URI='your-app-redirect-url'"
   ]
  },
  {
   "cell_type": "code",
   "execution_count": 7,
   "metadata": {},
   "outputs": [
    {
     "output_type": "stream",
     "name": "stdout",
     "text": [
      "0 cardigan\n1 cardigan\n2 cardigan - the long pond studio sessions\n3 WAP (feat. Megan Thee Stallion)\n4 Cardigan\n5 Cardiac Arrest\n6 I Like It\n7 Money\n8 Bet You Wanna (feat. Cardi B)\n9 cardigan - cabin in candlelight version\n10 Bodak Yellow\n11 Thru Your Phone\n12 Rodeo\n13 Please Me\n14 Bartier Cardi (feat. 21 Savage)\n15 Finesse - Remix; feat. Cardi B\n16 Clout (feat. Cardi B)\n17 Twerk (feat. Cardi B)\n18 Be Careful\n19 Girls Like You (feat. Cardi B)\ndict_keys(['album', 'artists', 'available_markets', 'disc_number', 'duration_ms', 'explicit', 'external_ids', 'external_urls', 'href', 'id', 'is_local', 'name', 'popularity', 'preview_url', 'track_number', 'type', 'uri'])\n"
     ]
    }
   ],
   "source": [
    "import spotipy\n",
    "from spotipy.oauth2 import SpotifyClientCredentials\n",
    "\n",
    "sp = spotipy.Spotify(auth_manager=SpotifyClientCredentials(client_id=\"11be57c79dbd40c69e75f1b90431d529\",\n",
    "                                                           client_secret=\"f4ab417ba6d54327a0b98ea12ceef847\"))\n",
    "\n",
    "results = sp.search(q='cardi', limit=20)\n",
    "for idx, track in enumerate(results['tracks']['items']):\n",
    "    print(idx, track['name'])\n",
    "print(track.keys())"
   ]
  },
  {
   "cell_type": "code",
   "execution_count": 8,
   "metadata": {},
   "outputs": [],
   "source": [
    "df = pd.DataFrame.from_dict(results['tracks'])"
   ]
  },
  {
   "cell_type": "code",
   "execution_count": 9,
   "metadata": {},
   "outputs": [
    {
     "output_type": "execute_result",
     "data": {
      "text/plain": [
       "                                                 href  \\\n",
       "0   https://api.spotify.com/v1/search?query=cardi&...   \n",
       "1   https://api.spotify.com/v1/search?query=cardi&...   \n",
       "2   https://api.spotify.com/v1/search?query=cardi&...   \n",
       "3   https://api.spotify.com/v1/search?query=cardi&...   \n",
       "4   https://api.spotify.com/v1/search?query=cardi&...   \n",
       "5   https://api.spotify.com/v1/search?query=cardi&...   \n",
       "6   https://api.spotify.com/v1/search?query=cardi&...   \n",
       "7   https://api.spotify.com/v1/search?query=cardi&...   \n",
       "8   https://api.spotify.com/v1/search?query=cardi&...   \n",
       "9   https://api.spotify.com/v1/search?query=cardi&...   \n",
       "10  https://api.spotify.com/v1/search?query=cardi&...   \n",
       "11  https://api.spotify.com/v1/search?query=cardi&...   \n",
       "12  https://api.spotify.com/v1/search?query=cardi&...   \n",
       "13  https://api.spotify.com/v1/search?query=cardi&...   \n",
       "14  https://api.spotify.com/v1/search?query=cardi&...   \n",
       "15  https://api.spotify.com/v1/search?query=cardi&...   \n",
       "16  https://api.spotify.com/v1/search?query=cardi&...   \n",
       "17  https://api.spotify.com/v1/search?query=cardi&...   \n",
       "18  https://api.spotify.com/v1/search?query=cardi&...   \n",
       "19  https://api.spotify.com/v1/search?query=cardi&...   \n",
       "\n",
       "                                                items  limit  \\\n",
       "0   {'album': {'album_type': 'album', 'artists': [...     20   \n",
       "1   {'album': {'album_type': 'album', 'artists': [...     20   \n",
       "2   {'album': {'album_type': 'album', 'artists': [...     20   \n",
       "3   {'album': {'album_type': 'single', 'artists': ...     20   \n",
       "4   {'album': {'album_type': 'album', 'artists': [...     20   \n",
       "5   {'album': {'album_type': 'album', 'artists': [...     20   \n",
       "6   {'album': {'album_type': 'album', 'artists': [...     20   \n",
       "7   {'album': {'album_type': 'single', 'artists': ...     20   \n",
       "8   {'album': {'album_type': 'album', 'artists': [...     20   \n",
       "9   {'album': {'album_type': 'single', 'artists': ...     20   \n",
       "10  {'album': {'album_type': 'album', 'artists': [...     20   \n",
       "11  {'album': {'album_type': 'album', 'artists': [...     20   \n",
       "12  {'album': {'album_type': 'single', 'artists': ...     20   \n",
       "13  {'album': {'album_type': 'single', 'artists': ...     20   \n",
       "14  {'album': {'album_type': 'album', 'artists': [...     20   \n",
       "15  {'album': {'album_type': 'single', 'artists': ...     20   \n",
       "16  {'album': {'album_type': 'album', 'artists': [...     20   \n",
       "17  {'album': {'album_type': 'album', 'artists': [...     20   \n",
       "18  {'album': {'album_type': 'album', 'artists': [...     20   \n",
       "19  {'album': {'album_type': 'album', 'artists': [...     20   \n",
       "\n",
       "                                                 next  offset previous   total  \n",
       "0   https://api.spotify.com/v1/search?query=cardi&...       0     None  100005  \n",
       "1   https://api.spotify.com/v1/search?query=cardi&...       0     None  100005  \n",
       "2   https://api.spotify.com/v1/search?query=cardi&...       0     None  100005  \n",
       "3   https://api.spotify.com/v1/search?query=cardi&...       0     None  100005  \n",
       "4   https://api.spotify.com/v1/search?query=cardi&...       0     None  100005  \n",
       "5   https://api.spotify.com/v1/search?query=cardi&...       0     None  100005  \n",
       "6   https://api.spotify.com/v1/search?query=cardi&...       0     None  100005  \n",
       "7   https://api.spotify.com/v1/search?query=cardi&...       0     None  100005  \n",
       "8   https://api.spotify.com/v1/search?query=cardi&...       0     None  100005  \n",
       "9   https://api.spotify.com/v1/search?query=cardi&...       0     None  100005  \n",
       "10  https://api.spotify.com/v1/search?query=cardi&...       0     None  100005  \n",
       "11  https://api.spotify.com/v1/search?query=cardi&...       0     None  100005  \n",
       "12  https://api.spotify.com/v1/search?query=cardi&...       0     None  100005  \n",
       "13  https://api.spotify.com/v1/search?query=cardi&...       0     None  100005  \n",
       "14  https://api.spotify.com/v1/search?query=cardi&...       0     None  100005  \n",
       "15  https://api.spotify.com/v1/search?query=cardi&...       0     None  100005  \n",
       "16  https://api.spotify.com/v1/search?query=cardi&...       0     None  100005  \n",
       "17  https://api.spotify.com/v1/search?query=cardi&...       0     None  100005  \n",
       "18  https://api.spotify.com/v1/search?query=cardi&...       0     None  100005  \n",
       "19  https://api.spotify.com/v1/search?query=cardi&...       0     None  100005  "
      ],
      "text/html": "<div>\n<style scoped>\n    .dataframe tbody tr th:only-of-type {\n        vertical-align: middle;\n    }\n\n    .dataframe tbody tr th {\n        vertical-align: top;\n    }\n\n    .dataframe thead th {\n        text-align: right;\n    }\n</style>\n<table border=\"1\" class=\"dataframe\">\n  <thead>\n    <tr style=\"text-align: right;\">\n      <th></th>\n      <th>href</th>\n      <th>items</th>\n      <th>limit</th>\n      <th>next</th>\n      <th>offset</th>\n      <th>previous</th>\n      <th>total</th>\n    </tr>\n  </thead>\n  <tbody>\n    <tr>\n      <th>0</th>\n      <td>https://api.spotify.com/v1/search?query=cardi&amp;...</td>\n      <td>{'album': {'album_type': 'album', 'artists': [...</td>\n      <td>20</td>\n      <td>https://api.spotify.com/v1/search?query=cardi&amp;...</td>\n      <td>0</td>\n      <td>None</td>\n      <td>100005</td>\n    </tr>\n    <tr>\n      <th>1</th>\n      <td>https://api.spotify.com/v1/search?query=cardi&amp;...</td>\n      <td>{'album': {'album_type': 'album', 'artists': [...</td>\n      <td>20</td>\n      <td>https://api.spotify.com/v1/search?query=cardi&amp;...</td>\n      <td>0</td>\n      <td>None</td>\n      <td>100005</td>\n    </tr>\n    <tr>\n      <th>2</th>\n      <td>https://api.spotify.com/v1/search?query=cardi&amp;...</td>\n      <td>{'album': {'album_type': 'album', 'artists': [...</td>\n      <td>20</td>\n      <td>https://api.spotify.com/v1/search?query=cardi&amp;...</td>\n      <td>0</td>\n      <td>None</td>\n      <td>100005</td>\n    </tr>\n    <tr>\n      <th>3</th>\n      <td>https://api.spotify.com/v1/search?query=cardi&amp;...</td>\n      <td>{'album': {'album_type': 'single', 'artists': ...</td>\n      <td>20</td>\n      <td>https://api.spotify.com/v1/search?query=cardi&amp;...</td>\n      <td>0</td>\n      <td>None</td>\n      <td>100005</td>\n    </tr>\n    <tr>\n      <th>4</th>\n      <td>https://api.spotify.com/v1/search?query=cardi&amp;...</td>\n      <td>{'album': {'album_type': 'album', 'artists': [...</td>\n      <td>20</td>\n      <td>https://api.spotify.com/v1/search?query=cardi&amp;...</td>\n      <td>0</td>\n      <td>None</td>\n      <td>100005</td>\n    </tr>\n    <tr>\n      <th>5</th>\n      <td>https://api.spotify.com/v1/search?query=cardi&amp;...</td>\n      <td>{'album': {'album_type': 'album', 'artists': [...</td>\n      <td>20</td>\n      <td>https://api.spotify.com/v1/search?query=cardi&amp;...</td>\n      <td>0</td>\n      <td>None</td>\n      <td>100005</td>\n    </tr>\n    <tr>\n      <th>6</th>\n      <td>https://api.spotify.com/v1/search?query=cardi&amp;...</td>\n      <td>{'album': {'album_type': 'album', 'artists': [...</td>\n      <td>20</td>\n      <td>https://api.spotify.com/v1/search?query=cardi&amp;...</td>\n      <td>0</td>\n      <td>None</td>\n      <td>100005</td>\n    </tr>\n    <tr>\n      <th>7</th>\n      <td>https://api.spotify.com/v1/search?query=cardi&amp;...</td>\n      <td>{'album': {'album_type': 'single', 'artists': ...</td>\n      <td>20</td>\n      <td>https://api.spotify.com/v1/search?query=cardi&amp;...</td>\n      <td>0</td>\n      <td>None</td>\n      <td>100005</td>\n    </tr>\n    <tr>\n      <th>8</th>\n      <td>https://api.spotify.com/v1/search?query=cardi&amp;...</td>\n      <td>{'album': {'album_type': 'album', 'artists': [...</td>\n      <td>20</td>\n      <td>https://api.spotify.com/v1/search?query=cardi&amp;...</td>\n      <td>0</td>\n      <td>None</td>\n      <td>100005</td>\n    </tr>\n    <tr>\n      <th>9</th>\n      <td>https://api.spotify.com/v1/search?query=cardi&amp;...</td>\n      <td>{'album': {'album_type': 'single', 'artists': ...</td>\n      <td>20</td>\n      <td>https://api.spotify.com/v1/search?query=cardi&amp;...</td>\n      <td>0</td>\n      <td>None</td>\n      <td>100005</td>\n    </tr>\n    <tr>\n      <th>10</th>\n      <td>https://api.spotify.com/v1/search?query=cardi&amp;...</td>\n      <td>{'album': {'album_type': 'album', 'artists': [...</td>\n      <td>20</td>\n      <td>https://api.spotify.com/v1/search?query=cardi&amp;...</td>\n      <td>0</td>\n      <td>None</td>\n      <td>100005</td>\n    </tr>\n    <tr>\n      <th>11</th>\n      <td>https://api.spotify.com/v1/search?query=cardi&amp;...</td>\n      <td>{'album': {'album_type': 'album', 'artists': [...</td>\n      <td>20</td>\n      <td>https://api.spotify.com/v1/search?query=cardi&amp;...</td>\n      <td>0</td>\n      <td>None</td>\n      <td>100005</td>\n    </tr>\n    <tr>\n      <th>12</th>\n      <td>https://api.spotify.com/v1/search?query=cardi&amp;...</td>\n      <td>{'album': {'album_type': 'single', 'artists': ...</td>\n      <td>20</td>\n      <td>https://api.spotify.com/v1/search?query=cardi&amp;...</td>\n      <td>0</td>\n      <td>None</td>\n      <td>100005</td>\n    </tr>\n    <tr>\n      <th>13</th>\n      <td>https://api.spotify.com/v1/search?query=cardi&amp;...</td>\n      <td>{'album': {'album_type': 'single', 'artists': ...</td>\n      <td>20</td>\n      <td>https://api.spotify.com/v1/search?query=cardi&amp;...</td>\n      <td>0</td>\n      <td>None</td>\n      <td>100005</td>\n    </tr>\n    <tr>\n      <th>14</th>\n      <td>https://api.spotify.com/v1/search?query=cardi&amp;...</td>\n      <td>{'album': {'album_type': 'album', 'artists': [...</td>\n      <td>20</td>\n      <td>https://api.spotify.com/v1/search?query=cardi&amp;...</td>\n      <td>0</td>\n      <td>None</td>\n      <td>100005</td>\n    </tr>\n    <tr>\n      <th>15</th>\n      <td>https://api.spotify.com/v1/search?query=cardi&amp;...</td>\n      <td>{'album': {'album_type': 'single', 'artists': ...</td>\n      <td>20</td>\n      <td>https://api.spotify.com/v1/search?query=cardi&amp;...</td>\n      <td>0</td>\n      <td>None</td>\n      <td>100005</td>\n    </tr>\n    <tr>\n      <th>16</th>\n      <td>https://api.spotify.com/v1/search?query=cardi&amp;...</td>\n      <td>{'album': {'album_type': 'album', 'artists': [...</td>\n      <td>20</td>\n      <td>https://api.spotify.com/v1/search?query=cardi&amp;...</td>\n      <td>0</td>\n      <td>None</td>\n      <td>100005</td>\n    </tr>\n    <tr>\n      <th>17</th>\n      <td>https://api.spotify.com/v1/search?query=cardi&amp;...</td>\n      <td>{'album': {'album_type': 'album', 'artists': [...</td>\n      <td>20</td>\n      <td>https://api.spotify.com/v1/search?query=cardi&amp;...</td>\n      <td>0</td>\n      <td>None</td>\n      <td>100005</td>\n    </tr>\n    <tr>\n      <th>18</th>\n      <td>https://api.spotify.com/v1/search?query=cardi&amp;...</td>\n      <td>{'album': {'album_type': 'album', 'artists': [...</td>\n      <td>20</td>\n      <td>https://api.spotify.com/v1/search?query=cardi&amp;...</td>\n      <td>0</td>\n      <td>None</td>\n      <td>100005</td>\n    </tr>\n    <tr>\n      <th>19</th>\n      <td>https://api.spotify.com/v1/search?query=cardi&amp;...</td>\n      <td>{'album': {'album_type': 'album', 'artists': [...</td>\n      <td>20</td>\n      <td>https://api.spotify.com/v1/search?query=cardi&amp;...</td>\n      <td>0</td>\n      <td>None</td>\n      <td>100005</td>\n    </tr>\n  </tbody>\n</table>\n</div>"
     },
     "metadata": {},
     "execution_count": 9
    }
   ],
   "source": [
    "df"
   ]
  },
  {
   "cell_type": "code",
   "execution_count": 10,
   "metadata": {},
   "outputs": [],
   "source": [
    "# import spotipy\n",
    "# from spotipy.oauth2 import SpotifyOAuth\n",
    "\n",
    "# scope = 'user-top-read'\n",
    "# ranges = ['short_term', 'medium_term', 'long_term']\n",
    "\n",
    "# sp = spotipy.Spotify(auth_manager=SpotifyOAuth(scope=scope))\n",
    "\n",
    "# for sp_range in ['short_term', 'medium_term', 'long_term']:\n",
    "#     print(\"range:\", sp_range)\n",
    "\n",
    "#     results = sp.current_user_top_artists(time_range=sp_range, limit=50)\n",
    "\n",
    "#     for i, item in enumerate(results['items']):\n",
    "#         print(i, item['name'])\n",
    "#     print()"
   ]
  },
  {
   "cell_type": "code",
   "execution_count": 11,
   "metadata": {},
   "outputs": [],
   "source": [
    "from bs4 import BeautifulSoup\n",
    "import requests\n",
    "import random"
   ]
  },
  {
   "cell_type": "code",
   "execution_count": 12,
   "metadata": {},
   "outputs": [],
   "source": [
    "html_page = requests.get('https://www.lyrics.com/lyric/37397727/Cardi+B/WAP')\n",
    "soup = BeautifulSoup(html_page.content, 'html.parser')"
   ]
  },
  {
   "cell_type": "code",
   "execution_count": 13,
   "metadata": {},
   "outputs": [
    {
     "output_type": "stream",
     "name": "stdout",
     "text": [
      "(Whores in this house)\n(There's some whores in this house)\n(There's some whores in this house)\n(There's some whores in this house)\n\nI said, certified freak\nSeven days a week\nWet-ass pussy\nMake that pull-out game weak, woo\n\nYeah, yeah, yeah, yeah\nYeah, you fucking with some wet-ass pussy\nBring a bucket and a mop for this wet-ass pussy\nGive me everything you got for this wet-ass pussy\n\nBeat it up, nigga, catch a charge\nExtra large and extra hard\nPut this pussy right in your face\nSwipe your nose like a credit card\nHop on top, I wanna ride\nI do a kegel while it's inside\nSpit in my mouth, look in my eyes\nThis pussy is wet, come take a dive\nTie me up like I'm surprised\nLet's role play, I'll wear a disguise\nI want you to park that big Mack truck\nRight in this little garage\nMake it cream, make me scream\nOut in public, make a scene\nI don't cook, I don't clean\nBut let me tell you how I got this ring (ayy, ayy)\n\nGobble me, swallow me, drip down the side of me\nQuick, jump out 'fore you let it get inside of me\nI tell him where to put it, never tell him where I'm 'bout to be\nI'll run down on him 'fore I have a nigga running me\nTalk your shit, bite your lip\nAsk for a car while you ride that dick (while you ride that dick)\nYou really ain't never gotta f*ck him for a thang\nHe already made his mind up 'fore he came\nNow get your boots and your coat\nFor this wet-ass pussy\nHe bought a phone just for pictures\nOf this wet-ass pussy\nPay my tuition just to kiss me\nOn this wet-ass pussy\nNow make it rain if you wanna\nSee some wet-ass pussy\n\nLook, I need a hard hitter, I need a deep stroker\nI need a Henny drinker, I need a weed smoker\nNot a garden snake, I need a king cobra\nWith a hook in it, hope it lean over\nHe got some money, then that's where I'm headed\nPussy A1, just like his credit\nHe got a beard, well, I'm tryna wet it\nI let him taste it, now he diabetic\nI don't wanna spit, I wanna gulp\nI wanna gag, I wanna choke\nI want you to touch that lil' dangly thing\nThat swing in the back of my throat\nMy head game is fire, punani Dasani\nIt's going in dry and it's coming out soggy\nI ride on that thang like the cops is behind me\nI spit on his mic and now he tryna sign me, woo\n\nYour honor, I'm a freak bitch, handcuffs, leashes\nSwitch my wig, make him feel like he cheating\nPut him on his knees, give him something to believe in\nNever lost a fight, but I'm looking for a beating\nIn the food chain, I'm the one that eat ya\nIf he ate my ass, he's a bottom feeder\nBig D stand for big demeanor\nI could make you bust before I ever meet ya\nIf it don't hang, then he can't bang\nYou can't hurt my feelings, but I like pain\nIf he f*ck me and ask, \"Whose is it?\"\nWhen I ride the dick, I'ma spell my name\nAh (whores in this house)\n\nYeah, yeah, yeah\nYeah, you fucking with some wet-ass pussy\nBring a bucket and a mop for this wet-ass pussy\nGive me everything you got for this wet-ass pussy\nNow from the top, make it drop\nThat's some wet-ass pussy\nNow get a bucket and a mop\nThat's some wet-ass pussy\nI'm talking WAP, WAP, WAP\nThat's some wet-ass pussy\nMacaroni in a pot\nThat's some wet-ass pussy, huh\n\n(There's some whores in this house)\n(There's some whores in this house)\n(There's some whores in this house)\n(There's some whores in this house)\n(There's some whores in this house)\n(There's some whores in this house)\n(There's some whores in this house)\n(There's some whores in this house)\n(There's some whores in this house)\n(There's some whores in this house)\n(There's some whores in this house)\n(There's some whores in this house)\n"
     ]
    }
   ],
   "source": [
    "wap_lyrics = soup.find(class_=\"lyric-body\").text.strip()\n",
    "print(wap_lyrics)"
   ]
  },
  {
   "cell_type": "code",
   "execution_count": 14,
   "metadata": {},
   "outputs": [
    {
     "output_type": "stream",
     "name": "stdout",
     "text": [
      "0 Toxic\n1 Oops!...I Did It Again\n2 ...Baby One More Time\n3 Womanizer\n4 Scream & Shout\n5 Gimme More\n6 My Only Wish (This Year)\n7 Circus\n8 Work Bitch\n9 I'm a Slave 4 U\n10 If U Seek Amy\n11 Stronger\n12 Criminal\n13 Lucky\n14 Till the World Ends\n15 I Wanna Go\n16 Sometimes\n17 Piece of Me\n18 3\n19 (You Drive Me) Crazy\n"
     ]
    }
   ],
   "source": [
    "results = sp.search(q='britney', limit=20)\n",
    "for idx, track in enumerate(results['tracks']['items']):\n",
    "    print(idx, track['name'])"
   ]
  },
  {
   "cell_type": "code",
   "execution_count": 15,
   "metadata": {},
   "outputs": [
    {
     "output_type": "stream",
     "name": "stdout",
     "text": [
      "Toxic 80\n",
      "Oops!...I Did It Again 78\n",
      "...Baby One More Time 77\n",
      "Womanizer 76\n",
      "Scream & Shout 75\n",
      "Gimme More 74\n",
      "My Only Wish (This Year) 72\n",
      "Circus 70\n",
      "Work Bitch 71\n",
      "I'm a Slave 4 U 69\n",
      "If U Seek Amy 67\n",
      "Stronger 66\n",
      "Criminal 71\n",
      "Lucky 65\n",
      "Till the World Ends 65\n",
      "I Wanna Go 66\n",
      "Sometimes 68\n",
      "Piece of Me 65\n",
      "3 63\n",
      "(You Drive Me) Crazy 61\n"
     ]
    }
   ],
   "source": [
    "results = sp.search(q='britney', limit=20)\n",
    "for idx, track in enumerate(results['tracks']['items']):\n",
    "    print(track['name'], track['popularity'])"
   ]
  },
  {
   "cell_type": "code",
   "execution_count": 16,
   "metadata": {},
   "outputs": [],
   "source": [
    "# results['tracks']['items']"
   ]
  },
  {
   "cell_type": "code",
   "execution_count": 17,
   "metadata": {},
   "outputs": [],
   "source": [
    "# briteny_df = pd.DataFrame.from_dict(results['tracks']['items'])"
   ]
  },
  {
   "cell_type": "code",
   "execution_count": 18,
   "metadata": {},
   "outputs": [],
   "source": [
    "# britney_df"
   ]
  },
  {
   "cell_type": "code",
   "execution_count": 19,
   "metadata": {},
   "outputs": [
    {
     "output_type": "stream",
     "name": "stdout",
     "text": [
      "Toxic 80\nOops!...I Did It Again 78\n...Baby One More Time 77\nWomanizer 76\nScream & Shout 75\nGimme More 74\nMy Only Wish (This Year) 72\nCircus 70\nWork Bitch 71\nI'm a Slave 4 U 69\nIf U Seek Amy 67\nStronger 66\nCriminal 71\nLucky 65\nTill the World Ends 65\nI Wanna Go 66\nSometimes 68\nPiece of Me 65\n3 63\n(You Drive Me) Crazy 61\n"
     ]
    }
   ],
   "source": [
    "results = sp.search(q='britney', limit=20)\n",
    "britney = {}\n",
    "for idx, track in enumerate(results['tracks']['items']):\n",
    "    print(track['name'], track['popularity'])\n",
    "    britney[track['name']] = track['popularity']"
   ]
  },
  {
   "cell_type": "code",
   "execution_count": 20,
   "metadata": {},
   "outputs": [
    {
     "output_type": "execute_result",
     "data": {
      "text/plain": [
       "{'Toxic': 80,\n",
       " 'Oops!...I Did It Again': 78,\n",
       " '...Baby One More Time': 77,\n",
       " 'Womanizer': 76,\n",
       " 'Scream & Shout': 75,\n",
       " 'Gimme More': 74,\n",
       " 'My Only Wish (This Year)': 72,\n",
       " 'Circus': 70,\n",
       " 'Work Bitch': 71,\n",
       " \"I'm a Slave 4 U\": 69,\n",
       " 'If U Seek Amy': 67,\n",
       " 'Stronger': 66,\n",
       " 'Criminal': 71,\n",
       " 'Lucky': 65,\n",
       " 'Till the World Ends': 65,\n",
       " 'I Wanna Go': 66,\n",
       " 'Sometimes': 68,\n",
       " 'Piece of Me': 65,\n",
       " '3': 63,\n",
       " '(You Drive Me) Crazy': 61}"
      ]
     },
     "metadata": {},
     "execution_count": 20
    }
   ],
   "source": [
    "britney"
   ]
  },
  {
   "cell_type": "code",
   "execution_count": 71,
   "metadata": {},
   "outputs": [],
   "source": [
    "# results = sp.search(q='britney', limit=20)\n",
    "# for i in enumerate(results['tracks']['items']):\n",
    "#     print({track['name'] : track['popularity']})"
   ]
  },
  {
   "cell_type": "code",
   "execution_count": 22,
   "metadata": {},
   "outputs": [],
   "source": [
    "# results = sp.search(q='britney', limit=20)\n",
    "# for i in range(0, results['tracks']['items']):\n",
    "#     print({track['name'][i] : track['popularity'][i]})"
   ]
  },
  {
   "cell_type": "code",
   "execution_count": 70,
   "metadata": {},
   "outputs": [],
   "source": [
    "# results = sp.search(q='britney', limit=20)\n",
    "# key = []\n",
    "# value = []\n",
    "# for idx, track in enumerate(results['tracks']['items']):\n",
    "#     key.append(track['name']) \n",
    "#     value.append(track['popularity'])"
   ]
  },
  {
   "cell_type": "code",
   "execution_count": 69,
   "metadata": {},
   "outputs": [],
   "source": [
    "# key, value"
   ]
  },
  {
   "cell_type": "code",
   "execution_count": 37,
   "metadata": {},
   "outputs": [],
   "source": [
    "# results = sp.search(q='britney', limit=20)\n",
    "# key = []\n",
    "# value = []\n",
    "# for idx, track in enumerate(results['tracks']['items']):\n",
    "#     print(set(track['name'], track['popularity']))"
   ]
  },
  {
   "cell_type": "code",
   "execution_count": 26,
   "metadata": {},
   "outputs": [],
   "source": [
    "# britney = {}\n",
    "# for song in key:\n",
    "#     britney[song] = \n",
    "# brintey"
   ]
  },
  {
   "cell_type": "code",
   "execution_count": 27,
   "metadata": {},
   "outputs": [],
   "source": [
    "#genius\n",
    "# _M7YYVww3znjUv4L_10A1b1rObmnbj0B8JSrG5JceUZ0LcfVmfr73ZZ3H6ByBCJW - client id\n",
    "# JarELnHAXadjSZ6C8XFTSVyY5NIIkSDEgwuqBO5MKodLd-iMnrINrQL8kcNhbkpF - client access token"
   ]
  },
  {
   "cell_type": "code",
   "execution_count": 28,
   "metadata": {},
   "outputs": [
    {
     "output_type": "stream",
     "name": "stdout",
     "text": [
      "Searching for songs by Britney Spears...\n",
      "\n",
      "Song 1: \"3\"\n",
      "Song 2: \"3 (Groove Police Club Mix)\"\n",
      "Song 3: \"3 (Manhattan Clique Remix Club)\"\n",
      "\n",
      "Reached user-specified song limit (3).\n",
      "Done. Found 3 songs.\n",
      "[('3', 'Britney Spears'), ('3 (Groove Police Club Mix)', 'Britney Spears'), ('3 (Manhattan Clique Remix Club)', 'Britney Spears')]\n"
     ]
    }
   ],
   "source": [
    "import lyricsgenius\n",
    "genius = lyricsgenius.Genius(\"JarELnHAXadjSZ6C8XFTSVyY5NIIkSDEgwuqBO5MKodLd-iMnrINrQL8kcNhbkpF\")\n",
    "artist = genius.search_artist(\"Britney Spears\", max_songs=3, sort=\"title\")\n",
    "print(artist.songs)"
   ]
  },
  {
   "cell_type": "code",
   "execution_count": 29,
   "metadata": {},
   "outputs": [
    {
     "output_type": "stream",
     "name": "stdout",
     "text": [
      "Searching for \"I wanna go\" by Britney Spears...\n",
      "Done.\n",
      "[Verse 1]\n",
      "Lately, I've been stuck imagining\n",
      "What I wanna do and what I really think\n",
      "Time to blow out\n",
      "Be a little inappropriate\n",
      "'Cause I know that everybody's thinking it, when the light's out\n",
      "\n",
      "[Pre-Chorus]\n",
      "Shame on me\n",
      "To need release\n",
      "Uncontrollably\n",
      "\n",
      "[Chorus]\n",
      "I wanna go all the way\n",
      "Taking out my freak tonight\n",
      "I wanna show all the dirt I got running through my mind, woah\n",
      "I wanna go all the way\n",
      "Taking out my freak tonight\n",
      "I wanna show all the dirt I got running through my mind, whoa\n",
      "\n",
      "[Verse 2]\n",
      "Lately, people got me all tied up\n",
      "There's a countdown waiting for me to erupt\n",
      "Time to blow out\n",
      "I've been told just what to do with it\n",
      "To keep both my hands above the blanket, when the light's out\n",
      "\n",
      "[Pre-Chorus]\n",
      "Shame on me\n",
      "To need release\n",
      "Uncontrollably\n",
      "\n",
      "[Chorus]\n",
      "I wanna go all the way\n",
      "Taking out my freak tonight\n",
      "I wanna show all the dirt I got running through my mind, woah\n",
      "I wanna go all the way\n",
      "Taking out my freak tonight\n",
      "I wanna show all the dirt I got running through my mind, whoa\n",
      "\n",
      "[Breakdown]\n",
      "Shame on me (Shame on me)\n",
      "To need release (To need release)\n",
      "Uncontrollably (Uncontrollably, -lably, -lably, -lably...)\n",
      "\n",
      "[Chorus]\n",
      "I wanna go (I wanna go...) all the way\n",
      "Taking out my freak tonight\n",
      "I wanna show (I wanna show...) all the dirt I got running through my mind\n",
      "I wanna go all the way\n",
      "Taking out my freak tonight\n",
      "I wanna show all the dirt I got running through my mind, whoa\n"
     ]
    }
   ],
   "source": [
    "song = genius.search_song(\"I wanna go\", artist.name)\n",
    "print(song.lyrics)"
   ]
  },
  {
   "cell_type": "code",
   "execution_count": 38,
   "metadata": {},
   "outputs": [
    {
     "output_type": "stream",
     "name": "stdout",
     "text": [
      "Call Me Maybe 69\n"
     ]
    }
   ],
   "source": [
    "song = {}\n",
    "results = sp.search(q='call me maybe', limit=1)\n",
    "for idx, track in enumerate(results['tracks']['items']):\n",
    "    print(track['name'], track['popularity'])\n",
    "    song[track['name']] = track['popularity']"
   ]
  },
  {
   "cell_type": "code",
   "execution_count": 39,
   "metadata": {},
   "outputs": [
    {
     "output_type": "stream",
     "name": "stdout",
     "text": [
      "Despacito 79\n"
     ]
    }
   ],
   "source": [
    "results = sp.search(q='despacito', limit=1)\n",
    "for idx, track in enumerate(results['tracks']['items']):\n",
    "    print(track['name'], track['popularity'])\n",
    "    song[track['name']] = track['popularity']"
   ]
  },
  {
   "cell_type": "code",
   "execution_count": 40,
   "metadata": {},
   "outputs": [
    {
     "output_type": "execute_result",
     "data": {
      "text/plain": [
       "{'Call Me Maybe': 69, 'Despacito': 79}"
      ]
     },
     "metadata": {},
     "execution_count": 40
    }
   ],
   "source": [
    "song"
   ]
  },
  {
   "cell_type": "code",
   "execution_count": 41,
   "metadata": {},
   "outputs": [
    {
     "output_type": "stream",
     "name": "stdout",
     "text": [
      "Mo Bamba 78\n"
     ]
    }
   ],
   "source": [
    "results = sp.search(q='mo bamba', limit=1)\n",
    "for idx, track in enumerate(results['tracks']['items']):\n",
    "    print(track['name'], track['popularity'])\n",
    "    song[track['name']] = track['popularity']"
   ]
  },
  {
   "cell_type": "code",
   "execution_count": 42,
   "metadata": {},
   "outputs": [
    {
     "output_type": "stream",
     "name": "stdout",
     "text": [
      "WAP (feat. Megan Thee Stallion) 96\n"
     ]
    }
   ],
   "source": [
    "results = sp.search(q='WAP', limit=1)\n",
    "for idx, track in enumerate(results['tracks']['items']):\n",
    "    print(track['name'], track['popularity'])\n",
    "    song[track['name']] = track['popularity']"
   ]
  },
  {
   "cell_type": "code",
   "execution_count": 43,
   "metadata": {},
   "outputs": [
    {
     "output_type": "stream",
     "name": "stdout",
     "text": [
      "SICKO MODE 87\n"
     ]
    }
   ],
   "source": [
    "results = sp.search(q='Sicko Mode', limit=1)\n",
    "for idx, track in enumerate(results['tracks']['items']):\n",
    "    print(track['name'], track['popularity'])\n",
    "    song[track['name']] = track['popularity']"
   ]
  },
  {
   "cell_type": "code",
   "execution_count": 44,
   "metadata": {},
   "outputs": [
    {
     "output_type": "stream",
     "name": "stdout",
     "text": [
      "Trap Queen 74\n"
     ]
    }
   ],
   "source": [
    "results = sp.search(q='trap queen', limit=1)\n",
    "for idx, track in enumerate(results['tracks']['items']):\n",
    "    print(track['name'], track['popularity'])\n",
    "    song[track['name']] = track['popularity']"
   ]
  },
  {
   "cell_type": "code",
   "execution_count": 45,
   "metadata": {},
   "outputs": [
    {
     "output_type": "execute_result",
     "data": {
      "text/plain": [
       "{'Call Me Maybe': 69,\n",
       " 'Despacito': 79,\n",
       " 'Mo Bamba': 78,\n",
       " 'WAP (feat. Megan Thee Stallion)': 96,\n",
       " 'SICKO MODE': 87,\n",
       " 'Trap Queen': 74}"
      ]
     },
     "metadata": {},
     "execution_count": 45
    }
   ],
   "source": [
    "song"
   ]
  },
  {
   "cell_type": "code",
   "execution_count": 47,
   "metadata": {},
   "outputs": [
    {
     "output_type": "execute_result",
     "data": {
      "text/plain": [
       "dict_keys(['Call Me Maybe', 'Despacito', 'Mo Bamba', 'WAP (feat. Megan Thee Stallion)', 'SICKO MODE', 'Trap Queen'])"
      ]
     },
     "metadata": {},
     "execution_count": 47
    }
   ],
   "source": [
    "song.keys()"
   ]
  },
  {
   "cell_type": "code",
   "execution_count": 68,
   "metadata": {},
   "outputs": [
    {
     "output_type": "execute_result",
     "data": {
      "text/plain": [
       "dict_values([69, 79, 78, 96, 87, 74])"
      ]
     },
     "metadata": {},
     "execution_count": 68
    }
   ],
   "source": [
    "song.values()"
   ]
  },
  {
   "cell_type": "code",
   "execution_count": 67,
   "metadata": {},
   "outputs": [
    {
     "output_type": "execute_result",
     "data": {
      "text/plain": [
       "[Text(0, 0.0, '69'),\n",
       " Text(0, 20.0, '79'),\n",
       " Text(0, 40.0, '78'),\n",
       " Text(0, 60.0, '96'),\n",
       " Text(0, 80.0, '87'),\n",
       " Text(0, 100.0, '74'),\n",
       " Text(0, 120.0, '')]"
      ]
     },
     "metadata": {},
     "execution_count": 67
    },
    {
     "output_type": "display_data",
     "data": {
      "text/plain": "<Figure size 792x792 with 1 Axes>",
      "image/svg+xml": "<?xml version=\"1.0\" encoding=\"utf-8\" standalone=\"no\"?>\r\n<!DOCTYPE svg PUBLIC \"-//W3C//DTD SVG 1.1//EN\"\r\n  \"http://www.w3.org/Graphics/SVG/1.1/DTD/svg11.dtd\">\r\n<!-- Created with matplotlib (https://matplotlib.org/) -->\r\n<svg height=\"852.463438pt\" version=\"1.1\" viewBox=\"0 0 668.987188 852.463438\" width=\"668.987188pt\" xmlns=\"http://www.w3.org/2000/svg\" xmlns:xlink=\"http://www.w3.org/1999/xlink\">\r\n <metadata>\r\n  <rdf:RDF xmlns:cc=\"http://creativecommons.org/ns#\" xmlns:dc=\"http://purl.org/dc/elements/1.1/\" xmlns:rdf=\"http://www.w3.org/1999/02/22-rdf-syntax-ns#\">\r\n   <cc:Work>\r\n    <dc:type rdf:resource=\"http://purl.org/dc/dcmitype/StillImage\"/>\r\n    <dc:date>2020-11-25T16:37:20.059313</dc:date>\r\n    <dc:format>image/svg+xml</dc:format>\r\n    <dc:creator>\r\n     <cc:Agent>\r\n      <dc:title>Matplotlib v3.3.2, https://matplotlib.org/</dc:title>\r\n     </cc:Agent>\r\n    </dc:creator>\r\n   </cc:Work>\r\n  </rdf:RDF>\r\n </metadata>\r\n <defs>\r\n  <style type=\"text/css\">*{stroke-linecap:butt;stroke-linejoin:round;}</style>\r\n </defs>\r\n <g id=\"figure_1\">\r\n  <g id=\"patch_1\">\r\n   <path d=\"M 0 852.463438 \r\nL 668.987188 852.463438 \r\nL 668.987188 0 \r\nL 0 0 \r\nz\r\n\" style=\"fill:none;\"/>\r\n  </g>\r\n  <g id=\"axes_1\">\r\n   <g id=\"patch_2\">\r\n    <path d=\"M 47.987187 626.356875 \r\nL 661.787188 626.356875 \r\nL 661.787188 28.396875 \r\nL 47.987187 28.396875 \r\nz\r\n\" style=\"fill:#ffffff;\"/>\r\n   </g>\r\n   <g id=\"patch_3\">\r\n    <path clip-path=\"url(#p055fc31ef1)\" d=\"M 75.887187 626.356875 \r\nL 152.852705 626.356875 \r\nL 152.852705 217.039018 \r\nL 75.887187 217.039018 \r\nz\r\n\" style=\"fill:#ff1493;\"/>\r\n   </g>\r\n   <g id=\"patch_4\">\r\n    <path clip-path=\"url(#p055fc31ef1)\" d=\"M 172.094084 626.356875 \r\nL 249.059601 626.356875 \r\nL 249.059601 157.717589 \r\nL 172.094084 157.717589 \r\nz\r\n\" style=\"fill:#4b0082;\"/>\r\n   </g>\r\n   <g id=\"patch_5\">\r\n    <path clip-path=\"url(#p055fc31ef1)\" d=\"M 268.300981 626.356875 \r\nL 345.266498 626.356875 \r\nL 345.266498 163.649732 \r\nL 268.300981 163.649732 \r\nz\r\n\" style=\"fill:#ff1493;\"/>\r\n   </g>\r\n   <g id=\"patch_6\">\r\n    <path clip-path=\"url(#p055fc31ef1)\" d=\"M 364.507877 626.356875 \r\nL 441.473394 626.356875 \r\nL 441.473394 56.871161 \r\nL 364.507877 56.871161 \r\nz\r\n\" style=\"fill:#4b0082;\"/>\r\n   </g>\r\n   <g id=\"patch_7\">\r\n    <path clip-path=\"url(#p055fc31ef1)\" d=\"M 460.714774 626.356875 \r\nL 537.680291 626.356875 \r\nL 537.680291 110.260446 \r\nL 460.714774 110.260446 \r\nz\r\n\" style=\"fill:#ff1493;\"/>\r\n   </g>\r\n   <g id=\"patch_8\">\r\n    <path clip-path=\"url(#p055fc31ef1)\" d=\"M 556.92167 626.356875 \r\nL 633.887188 626.356875 \r\nL 633.887188 187.378304 \r\nL 556.92167 187.378304 \r\nz\r\n\" style=\"fill:#4b0082;\"/>\r\n   </g>\r\n   <g id=\"matplotlib.axis_1\">\r\n    <g id=\"xtick_1\">\r\n     <g id=\"line2d_1\">\r\n      <defs>\r\n       <path d=\"M 0 0 \r\nL 0 3.5 \r\n\" id=\"m1a7404810a\" style=\"stroke:#000000;stroke-width:0.8;\"/>\r\n      </defs>\r\n      <g>\r\n       <use style=\"stroke:#000000;stroke-width:0.8;\" x=\"114.369946\" xlink:href=\"#m1a7404810a\" y=\"626.356875\"/>\r\n      </g>\r\n     </g>\r\n     <g id=\"text_1\">\r\n      <!-- Call Me Maybe -->\r\n      <g transform=\"translate(117.681196 720.934375)rotate(-90)scale(0.12 -0.12)\">\r\n       <defs>\r\n        <path d=\"M 64.40625 67.28125 \r\nL 64.40625 56.890625 \r\nQ 59.421875 61.53125 53.78125 63.8125 \r\nQ 48.140625 66.109375 41.796875 66.109375 \r\nQ 29.296875 66.109375 22.65625 58.46875 \r\nQ 16.015625 50.828125 16.015625 36.375 \r\nQ 16.015625 21.96875 22.65625 14.328125 \r\nQ 29.296875 6.6875 41.796875 6.6875 \r\nQ 48.140625 6.6875 53.78125 8.984375 \r\nQ 59.421875 11.28125 64.40625 15.921875 \r\nL 64.40625 5.609375 \r\nQ 59.234375 2.09375 53.4375 0.328125 \r\nQ 47.65625 -1.421875 41.21875 -1.421875 \r\nQ 24.65625 -1.421875 15.125 8.703125 \r\nQ 5.609375 18.84375 5.609375 36.375 \r\nQ 5.609375 53.953125 15.125 64.078125 \r\nQ 24.65625 74.21875 41.21875 74.21875 \r\nQ 47.75 74.21875 53.53125 72.484375 \r\nQ 59.328125 70.75 64.40625 67.28125 \r\nz\r\n\" id=\"DejaVuSans-67\"/>\r\n        <path d=\"M 34.28125 27.484375 \r\nQ 23.390625 27.484375 19.1875 25 \r\nQ 14.984375 22.515625 14.984375 16.5 \r\nQ 14.984375 11.71875 18.140625 8.90625 \r\nQ 21.296875 6.109375 26.703125 6.109375 \r\nQ 34.1875 6.109375 38.703125 11.40625 \r\nQ 43.21875 16.703125 43.21875 25.484375 \r\nL 43.21875 27.484375 \r\nz\r\nM 52.203125 31.203125 \r\nL 52.203125 0 \r\nL 43.21875 0 \r\nL 43.21875 8.296875 \r\nQ 40.140625 3.328125 35.546875 0.953125 \r\nQ 30.953125 -1.421875 24.3125 -1.421875 \r\nQ 15.921875 -1.421875 10.953125 3.296875 \r\nQ 6 8.015625 6 15.921875 \r\nQ 6 25.140625 12.171875 29.828125 \r\nQ 18.359375 34.515625 30.609375 34.515625 \r\nL 43.21875 34.515625 \r\nL 43.21875 35.40625 \r\nQ 43.21875 41.609375 39.140625 45 \r\nQ 35.0625 48.390625 27.6875 48.390625 \r\nQ 23 48.390625 18.546875 47.265625 \r\nQ 14.109375 46.140625 10.015625 43.890625 \r\nL 10.015625 52.203125 \r\nQ 14.9375 54.109375 19.578125 55.046875 \r\nQ 24.21875 56 28.609375 56 \r\nQ 40.484375 56 46.34375 49.84375 \r\nQ 52.203125 43.703125 52.203125 31.203125 \r\nz\r\n\" id=\"DejaVuSans-97\"/>\r\n        <path d=\"M 9.421875 75.984375 \r\nL 18.40625 75.984375 \r\nL 18.40625 0 \r\nL 9.421875 0 \r\nz\r\n\" id=\"DejaVuSans-108\"/>\r\n        <path id=\"DejaVuSans-32\"/>\r\n        <path d=\"M 9.8125 72.90625 \r\nL 24.515625 72.90625 \r\nL 43.109375 23.296875 \r\nL 61.8125 72.90625 \r\nL 76.515625 72.90625 \r\nL 76.515625 0 \r\nL 66.890625 0 \r\nL 66.890625 64.015625 \r\nL 48.09375 14.015625 \r\nL 38.1875 14.015625 \r\nL 19.390625 64.015625 \r\nL 19.390625 0 \r\nL 9.8125 0 \r\nz\r\n\" id=\"DejaVuSans-77\"/>\r\n        <path d=\"M 56.203125 29.59375 \r\nL 56.203125 25.203125 \r\nL 14.890625 25.203125 \r\nQ 15.484375 15.921875 20.484375 11.0625 \r\nQ 25.484375 6.203125 34.421875 6.203125 \r\nQ 39.59375 6.203125 44.453125 7.46875 \r\nQ 49.3125 8.734375 54.109375 11.28125 \r\nL 54.109375 2.78125 \r\nQ 49.265625 0.734375 44.1875 -0.34375 \r\nQ 39.109375 -1.421875 33.890625 -1.421875 \r\nQ 20.796875 -1.421875 13.15625 6.1875 \r\nQ 5.515625 13.8125 5.515625 26.8125 \r\nQ 5.515625 40.234375 12.765625 48.109375 \r\nQ 20.015625 56 32.328125 56 \r\nQ 43.359375 56 49.78125 48.890625 \r\nQ 56.203125 41.796875 56.203125 29.59375 \r\nz\r\nM 47.21875 32.234375 \r\nQ 47.125 39.59375 43.09375 43.984375 \r\nQ 39.0625 48.390625 32.421875 48.390625 \r\nQ 24.90625 48.390625 20.390625 44.140625 \r\nQ 15.875 39.890625 15.1875 32.171875 \r\nz\r\n\" id=\"DejaVuSans-101\"/>\r\n        <path d=\"M 32.171875 -5.078125 \r\nQ 28.375 -14.84375 24.75 -17.8125 \r\nQ 21.140625 -20.796875 15.09375 -20.796875 \r\nL 7.90625 -20.796875 \r\nL 7.90625 -13.28125 \r\nL 13.1875 -13.28125 \r\nQ 16.890625 -13.28125 18.9375 -11.515625 \r\nQ 21 -9.765625 23.484375 -3.21875 \r\nL 25.09375 0.875 \r\nL 2.984375 54.6875 \r\nL 12.5 54.6875 \r\nL 29.59375 11.921875 \r\nL 46.6875 54.6875 \r\nL 56.203125 54.6875 \r\nz\r\n\" id=\"DejaVuSans-121\"/>\r\n        <path d=\"M 48.6875 27.296875 \r\nQ 48.6875 37.203125 44.609375 42.84375 \r\nQ 40.53125 48.484375 33.40625 48.484375 \r\nQ 26.265625 48.484375 22.1875 42.84375 \r\nQ 18.109375 37.203125 18.109375 27.296875 \r\nQ 18.109375 17.390625 22.1875 11.75 \r\nQ 26.265625 6.109375 33.40625 6.109375 \r\nQ 40.53125 6.109375 44.609375 11.75 \r\nQ 48.6875 17.390625 48.6875 27.296875 \r\nz\r\nM 18.109375 46.390625 \r\nQ 20.953125 51.265625 25.265625 53.625 \r\nQ 29.59375 56 35.59375 56 \r\nQ 45.5625 56 51.78125 48.09375 \r\nQ 58.015625 40.1875 58.015625 27.296875 \r\nQ 58.015625 14.40625 51.78125 6.484375 \r\nQ 45.5625 -1.421875 35.59375 -1.421875 \r\nQ 29.59375 -1.421875 25.265625 0.953125 \r\nQ 20.953125 3.328125 18.109375 8.203125 \r\nL 18.109375 0 \r\nL 9.078125 0 \r\nL 9.078125 75.984375 \r\nL 18.109375 75.984375 \r\nz\r\n\" id=\"DejaVuSans-98\"/>\r\n       </defs>\r\n       <use xlink:href=\"#DejaVuSans-67\"/>\r\n       <use x=\"69.824219\" xlink:href=\"#DejaVuSans-97\"/>\r\n       <use x=\"131.103516\" xlink:href=\"#DejaVuSans-108\"/>\r\n       <use x=\"158.886719\" xlink:href=\"#DejaVuSans-108\"/>\r\n       <use x=\"186.669922\" xlink:href=\"#DejaVuSans-32\"/>\r\n       <use x=\"218.457031\" xlink:href=\"#DejaVuSans-77\"/>\r\n       <use x=\"304.736328\" xlink:href=\"#DejaVuSans-101\"/>\r\n       <use x=\"366.259766\" xlink:href=\"#DejaVuSans-32\"/>\r\n       <use x=\"398.046875\" xlink:href=\"#DejaVuSans-77\"/>\r\n       <use x=\"484.326172\" xlink:href=\"#DejaVuSans-97\"/>\r\n       <use x=\"545.605469\" xlink:href=\"#DejaVuSans-121\"/>\r\n       <use x=\"604.785156\" xlink:href=\"#DejaVuSans-98\"/>\r\n       <use x=\"668.261719\" xlink:href=\"#DejaVuSans-101\"/>\r\n      </g>\r\n     </g>\r\n    </g>\r\n    <g id=\"xtick_2\">\r\n     <g id=\"line2d_2\">\r\n      <g>\r\n       <use style=\"stroke:#000000;stroke-width:0.8;\" x=\"210.576843\" xlink:href=\"#m1a7404810a\" y=\"626.356875\"/>\r\n      </g>\r\n     </g>\r\n     <g id=\"text_2\">\r\n      <!-- Despacito -->\r\n      <g transform=\"translate(213.888093 693.1825)rotate(-90)scale(0.12 -0.12)\">\r\n       <defs>\r\n        <path d=\"M 19.671875 64.796875 \r\nL 19.671875 8.109375 \r\nL 31.59375 8.109375 \r\nQ 46.6875 8.109375 53.6875 14.9375 \r\nQ 60.6875 21.78125 60.6875 36.53125 \r\nQ 60.6875 51.171875 53.6875 57.984375 \r\nQ 46.6875 64.796875 31.59375 64.796875 \r\nz\r\nM 9.8125 72.90625 \r\nL 30.078125 72.90625 \r\nQ 51.265625 72.90625 61.171875 64.09375 \r\nQ 71.09375 55.28125 71.09375 36.53125 \r\nQ 71.09375 17.671875 61.125 8.828125 \r\nQ 51.171875 0 30.078125 0 \r\nL 9.8125 0 \r\nz\r\n\" id=\"DejaVuSans-68\"/>\r\n        <path d=\"M 44.28125 53.078125 \r\nL 44.28125 44.578125 \r\nQ 40.484375 46.53125 36.375 47.5 \r\nQ 32.28125 48.484375 27.875 48.484375 \r\nQ 21.1875 48.484375 17.84375 46.4375 \r\nQ 14.5 44.390625 14.5 40.28125 \r\nQ 14.5 37.15625 16.890625 35.375 \r\nQ 19.28125 33.59375 26.515625 31.984375 \r\nL 29.59375 31.296875 \r\nQ 39.15625 29.25 43.1875 25.515625 \r\nQ 47.21875 21.78125 47.21875 15.09375 \r\nQ 47.21875 7.46875 41.1875 3.015625 \r\nQ 35.15625 -1.421875 24.609375 -1.421875 \r\nQ 20.21875 -1.421875 15.453125 -0.5625 \r\nQ 10.6875 0.296875 5.421875 2 \r\nL 5.421875 11.28125 \r\nQ 10.40625 8.6875 15.234375 7.390625 \r\nQ 20.0625 6.109375 24.8125 6.109375 \r\nQ 31.15625 6.109375 34.5625 8.28125 \r\nQ 37.984375 10.453125 37.984375 14.40625 \r\nQ 37.984375 18.0625 35.515625 20.015625 \r\nQ 33.0625 21.96875 24.703125 23.78125 \r\nL 21.578125 24.515625 \r\nQ 13.234375 26.265625 9.515625 29.90625 \r\nQ 5.8125 33.546875 5.8125 39.890625 \r\nQ 5.8125 47.609375 11.28125 51.796875 \r\nQ 16.75 56 26.8125 56 \r\nQ 31.78125 56 36.171875 55.265625 \r\nQ 40.578125 54.546875 44.28125 53.078125 \r\nz\r\n\" id=\"DejaVuSans-115\"/>\r\n        <path d=\"M 18.109375 8.203125 \r\nL 18.109375 -20.796875 \r\nL 9.078125 -20.796875 \r\nL 9.078125 54.6875 \r\nL 18.109375 54.6875 \r\nL 18.109375 46.390625 \r\nQ 20.953125 51.265625 25.265625 53.625 \r\nQ 29.59375 56 35.59375 56 \r\nQ 45.5625 56 51.78125 48.09375 \r\nQ 58.015625 40.1875 58.015625 27.296875 \r\nQ 58.015625 14.40625 51.78125 6.484375 \r\nQ 45.5625 -1.421875 35.59375 -1.421875 \r\nQ 29.59375 -1.421875 25.265625 0.953125 \r\nQ 20.953125 3.328125 18.109375 8.203125 \r\nz\r\nM 48.6875 27.296875 \r\nQ 48.6875 37.203125 44.609375 42.84375 \r\nQ 40.53125 48.484375 33.40625 48.484375 \r\nQ 26.265625 48.484375 22.1875 42.84375 \r\nQ 18.109375 37.203125 18.109375 27.296875 \r\nQ 18.109375 17.390625 22.1875 11.75 \r\nQ 26.265625 6.109375 33.40625 6.109375 \r\nQ 40.53125 6.109375 44.609375 11.75 \r\nQ 48.6875 17.390625 48.6875 27.296875 \r\nz\r\n\" id=\"DejaVuSans-112\"/>\r\n        <path d=\"M 48.78125 52.59375 \r\nL 48.78125 44.1875 \r\nQ 44.96875 46.296875 41.140625 47.34375 \r\nQ 37.3125 48.390625 33.40625 48.390625 \r\nQ 24.65625 48.390625 19.8125 42.84375 \r\nQ 14.984375 37.3125 14.984375 27.296875 \r\nQ 14.984375 17.28125 19.8125 11.734375 \r\nQ 24.65625 6.203125 33.40625 6.203125 \r\nQ 37.3125 6.203125 41.140625 7.25 \r\nQ 44.96875 8.296875 48.78125 10.40625 \r\nL 48.78125 2.09375 \r\nQ 45.015625 0.34375 40.984375 -0.53125 \r\nQ 36.96875 -1.421875 32.421875 -1.421875 \r\nQ 20.0625 -1.421875 12.78125 6.34375 \r\nQ 5.515625 14.109375 5.515625 27.296875 \r\nQ 5.515625 40.671875 12.859375 48.328125 \r\nQ 20.21875 56 33.015625 56 \r\nQ 37.15625 56 41.109375 55.140625 \r\nQ 45.0625 54.296875 48.78125 52.59375 \r\nz\r\n\" id=\"DejaVuSans-99\"/>\r\n        <path d=\"M 9.421875 54.6875 \r\nL 18.40625 54.6875 \r\nL 18.40625 0 \r\nL 9.421875 0 \r\nz\r\nM 9.421875 75.984375 \r\nL 18.40625 75.984375 \r\nL 18.40625 64.59375 \r\nL 9.421875 64.59375 \r\nz\r\n\" id=\"DejaVuSans-105\"/>\r\n        <path d=\"M 18.3125 70.21875 \r\nL 18.3125 54.6875 \r\nL 36.8125 54.6875 \r\nL 36.8125 47.703125 \r\nL 18.3125 47.703125 \r\nL 18.3125 18.015625 \r\nQ 18.3125 11.328125 20.140625 9.421875 \r\nQ 21.96875 7.515625 27.59375 7.515625 \r\nL 36.8125 7.515625 \r\nL 36.8125 0 \r\nL 27.59375 0 \r\nQ 17.1875 0 13.234375 3.875 \r\nQ 9.28125 7.765625 9.28125 18.015625 \r\nL 9.28125 47.703125 \r\nL 2.6875 47.703125 \r\nL 2.6875 54.6875 \r\nL 9.28125 54.6875 \r\nL 9.28125 70.21875 \r\nz\r\n\" id=\"DejaVuSans-116\"/>\r\n        <path d=\"M 30.609375 48.390625 \r\nQ 23.390625 48.390625 19.1875 42.75 \r\nQ 14.984375 37.109375 14.984375 27.296875 \r\nQ 14.984375 17.484375 19.15625 11.84375 \r\nQ 23.34375 6.203125 30.609375 6.203125 \r\nQ 37.796875 6.203125 41.984375 11.859375 \r\nQ 46.1875 17.53125 46.1875 27.296875 \r\nQ 46.1875 37.015625 41.984375 42.703125 \r\nQ 37.796875 48.390625 30.609375 48.390625 \r\nz\r\nM 30.609375 56 \r\nQ 42.328125 56 49.015625 48.375 \r\nQ 55.71875 40.765625 55.71875 27.296875 \r\nQ 55.71875 13.875 49.015625 6.21875 \r\nQ 42.328125 -1.421875 30.609375 -1.421875 \r\nQ 18.84375 -1.421875 12.171875 6.21875 \r\nQ 5.515625 13.875 5.515625 27.296875 \r\nQ 5.515625 40.765625 12.171875 48.375 \r\nQ 18.84375 56 30.609375 56 \r\nz\r\n\" id=\"DejaVuSans-111\"/>\r\n       </defs>\r\n       <use xlink:href=\"#DejaVuSans-68\"/>\r\n       <use x=\"77.001953\" xlink:href=\"#DejaVuSans-101\"/>\r\n       <use x=\"138.525391\" xlink:href=\"#DejaVuSans-115\"/>\r\n       <use x=\"190.625\" xlink:href=\"#DejaVuSans-112\"/>\r\n       <use x=\"254.101562\" xlink:href=\"#DejaVuSans-97\"/>\r\n       <use x=\"315.380859\" xlink:href=\"#DejaVuSans-99\"/>\r\n       <use x=\"370.361328\" xlink:href=\"#DejaVuSans-105\"/>\r\n       <use x=\"398.144531\" xlink:href=\"#DejaVuSans-116\"/>\r\n       <use x=\"437.353516\" xlink:href=\"#DejaVuSans-111\"/>\r\n      </g>\r\n     </g>\r\n    </g>\r\n    <g id=\"xtick_3\">\r\n     <g id=\"line2d_3\">\r\n      <g>\r\n       <use style=\"stroke:#000000;stroke-width:0.8;\" x=\"306.783739\" xlink:href=\"#m1a7404810a\" y=\"626.356875\"/>\r\n      </g>\r\n     </g>\r\n     <g id=\"text_3\">\r\n      <!-- Mo Bamba -->\r\n      <g transform=\"translate(310.094989 697.114375)rotate(-90)scale(0.12 -0.12)\">\r\n       <defs>\r\n        <path d=\"M 19.671875 34.8125 \r\nL 19.671875 8.109375 \r\nL 35.5 8.109375 \r\nQ 43.453125 8.109375 47.28125 11.40625 \r\nQ 51.125 14.703125 51.125 21.484375 \r\nQ 51.125 28.328125 47.28125 31.5625 \r\nQ 43.453125 34.8125 35.5 34.8125 \r\nz\r\nM 19.671875 64.796875 \r\nL 19.671875 42.828125 \r\nL 34.28125 42.828125 \r\nQ 41.5 42.828125 45.03125 45.53125 \r\nQ 48.578125 48.25 48.578125 53.8125 \r\nQ 48.578125 59.328125 45.03125 62.0625 \r\nQ 41.5 64.796875 34.28125 64.796875 \r\nz\r\nM 9.8125 72.90625 \r\nL 35.015625 72.90625 \r\nQ 46.296875 72.90625 52.390625 68.21875 \r\nQ 58.5 63.53125 58.5 54.890625 \r\nQ 58.5 48.1875 55.375 44.234375 \r\nQ 52.25 40.28125 46.1875 39.3125 \r\nQ 53.46875 37.75 57.5 32.78125 \r\nQ 61.53125 27.828125 61.53125 20.40625 \r\nQ 61.53125 10.640625 54.890625 5.3125 \r\nQ 48.25 0 35.984375 0 \r\nL 9.8125 0 \r\nz\r\n\" id=\"DejaVuSans-66\"/>\r\n        <path d=\"M 52 44.1875 \r\nQ 55.375 50.25 60.0625 53.125 \r\nQ 64.75 56 71.09375 56 \r\nQ 79.640625 56 84.28125 50.015625 \r\nQ 88.921875 44.046875 88.921875 33.015625 \r\nL 88.921875 0 \r\nL 79.890625 0 \r\nL 79.890625 32.71875 \r\nQ 79.890625 40.578125 77.09375 44.375 \r\nQ 74.3125 48.1875 68.609375 48.1875 \r\nQ 61.625 48.1875 57.5625 43.546875 \r\nQ 53.515625 38.921875 53.515625 30.90625 \r\nL 53.515625 0 \r\nL 44.484375 0 \r\nL 44.484375 32.71875 \r\nQ 44.484375 40.625 41.703125 44.40625 \r\nQ 38.921875 48.1875 33.109375 48.1875 \r\nQ 26.21875 48.1875 22.15625 43.53125 \r\nQ 18.109375 38.875 18.109375 30.90625 \r\nL 18.109375 0 \r\nL 9.078125 0 \r\nL 9.078125 54.6875 \r\nL 18.109375 54.6875 \r\nL 18.109375 46.1875 \r\nQ 21.1875 51.21875 25.484375 53.609375 \r\nQ 29.78125 56 35.6875 56 \r\nQ 41.65625 56 45.828125 52.96875 \r\nQ 50 49.953125 52 44.1875 \r\nz\r\n\" id=\"DejaVuSans-109\"/>\r\n       </defs>\r\n       <use xlink:href=\"#DejaVuSans-77\"/>\r\n       <use x=\"86.279297\" xlink:href=\"#DejaVuSans-111\"/>\r\n       <use x=\"147.460938\" xlink:href=\"#DejaVuSans-32\"/>\r\n       <use x=\"179.248047\" xlink:href=\"#DejaVuSans-66\"/>\r\n       <use x=\"247.851562\" xlink:href=\"#DejaVuSans-97\"/>\r\n       <use x=\"309.130859\" xlink:href=\"#DejaVuSans-109\"/>\r\n       <use x=\"406.542969\" xlink:href=\"#DejaVuSans-98\"/>\r\n       <use x=\"470.019531\" xlink:href=\"#DejaVuSans-97\"/>\r\n      </g>\r\n     </g>\r\n    </g>\r\n    <g id=\"xtick_4\">\r\n     <g id=\"line2d_4\">\r\n      <g>\r\n       <use style=\"stroke:#000000;stroke-width:0.8;\" x=\"402.990636\" xlink:href=\"#m1a7404810a\" y=\"626.356875\"/>\r\n      </g>\r\n     </g>\r\n     <g id=\"text_4\">\r\n      <!-- WAP (feat. Megan Thee Stallion) -->\r\n      <g transform=\"translate(406.301886 826.74625)rotate(-90)scale(0.12 -0.12)\">\r\n       <defs>\r\n        <path d=\"M 3.328125 72.90625 \r\nL 13.28125 72.90625 \r\nL 28.609375 11.28125 \r\nL 43.890625 72.90625 \r\nL 54.984375 72.90625 \r\nL 70.3125 11.28125 \r\nL 85.59375 72.90625 \r\nL 95.609375 72.90625 \r\nL 77.296875 0 \r\nL 64.890625 0 \r\nL 49.515625 63.28125 \r\nL 33.984375 0 \r\nL 21.578125 0 \r\nz\r\n\" id=\"DejaVuSans-87\"/>\r\n        <path d=\"M 34.1875 63.1875 \r\nL 20.796875 26.90625 \r\nL 47.609375 26.90625 \r\nz\r\nM 28.609375 72.90625 \r\nL 39.796875 72.90625 \r\nL 67.578125 0 \r\nL 57.328125 0 \r\nL 50.6875 18.703125 \r\nL 17.828125 18.703125 \r\nL 11.1875 0 \r\nL 0.78125 0 \r\nz\r\n\" id=\"DejaVuSans-65\"/>\r\n        <path d=\"M 19.671875 64.796875 \r\nL 19.671875 37.40625 \r\nL 32.078125 37.40625 \r\nQ 38.96875 37.40625 42.71875 40.96875 \r\nQ 46.484375 44.53125 46.484375 51.125 \r\nQ 46.484375 57.671875 42.71875 61.234375 \r\nQ 38.96875 64.796875 32.078125 64.796875 \r\nz\r\nM 9.8125 72.90625 \r\nL 32.078125 72.90625 \r\nQ 44.34375 72.90625 50.609375 67.359375 \r\nQ 56.890625 61.8125 56.890625 51.125 \r\nQ 56.890625 40.328125 50.609375 34.8125 \r\nQ 44.34375 29.296875 32.078125 29.296875 \r\nL 19.671875 29.296875 \r\nL 19.671875 0 \r\nL 9.8125 0 \r\nz\r\n\" id=\"DejaVuSans-80\"/>\r\n        <path d=\"M 31 75.875 \r\nQ 24.46875 64.65625 21.28125 53.65625 \r\nQ 18.109375 42.671875 18.109375 31.390625 \r\nQ 18.109375 20.125 21.3125 9.0625 \r\nQ 24.515625 -2 31 -13.1875 \r\nL 23.1875 -13.1875 \r\nQ 15.875 -1.703125 12.234375 9.375 \r\nQ 8.59375 20.453125 8.59375 31.390625 \r\nQ 8.59375 42.28125 12.203125 53.3125 \r\nQ 15.828125 64.359375 23.1875 75.875 \r\nz\r\n\" id=\"DejaVuSans-40\"/>\r\n        <path d=\"M 37.109375 75.984375 \r\nL 37.109375 68.5 \r\nL 28.515625 68.5 \r\nQ 23.6875 68.5 21.796875 66.546875 \r\nQ 19.921875 64.59375 19.921875 59.515625 \r\nL 19.921875 54.6875 \r\nL 34.71875 54.6875 \r\nL 34.71875 47.703125 \r\nL 19.921875 47.703125 \r\nL 19.921875 0 \r\nL 10.890625 0 \r\nL 10.890625 47.703125 \r\nL 2.296875 47.703125 \r\nL 2.296875 54.6875 \r\nL 10.890625 54.6875 \r\nL 10.890625 58.5 \r\nQ 10.890625 67.625 15.140625 71.796875 \r\nQ 19.390625 75.984375 28.609375 75.984375 \r\nz\r\n\" id=\"DejaVuSans-102\"/>\r\n        <path d=\"M 10.6875 12.40625 \r\nL 21 12.40625 \r\nL 21 0 \r\nL 10.6875 0 \r\nz\r\n\" id=\"DejaVuSans-46\"/>\r\n        <path d=\"M 45.40625 27.984375 \r\nQ 45.40625 37.75 41.375 43.109375 \r\nQ 37.359375 48.484375 30.078125 48.484375 \r\nQ 22.859375 48.484375 18.828125 43.109375 \r\nQ 14.796875 37.75 14.796875 27.984375 \r\nQ 14.796875 18.265625 18.828125 12.890625 \r\nQ 22.859375 7.515625 30.078125 7.515625 \r\nQ 37.359375 7.515625 41.375 12.890625 \r\nQ 45.40625 18.265625 45.40625 27.984375 \r\nz\r\nM 54.390625 6.78125 \r\nQ 54.390625 -7.171875 48.1875 -13.984375 \r\nQ 42 -20.796875 29.203125 -20.796875 \r\nQ 24.46875 -20.796875 20.265625 -20.09375 \r\nQ 16.0625 -19.390625 12.109375 -17.921875 \r\nL 12.109375 -9.1875 \r\nQ 16.0625 -11.328125 19.921875 -12.34375 \r\nQ 23.78125 -13.375 27.78125 -13.375 \r\nQ 36.625 -13.375 41.015625 -8.765625 \r\nQ 45.40625 -4.15625 45.40625 5.171875 \r\nL 45.40625 9.625 \r\nQ 42.625 4.78125 38.28125 2.390625 \r\nQ 33.9375 0 27.875 0 \r\nQ 17.828125 0 11.671875 7.65625 \r\nQ 5.515625 15.328125 5.515625 27.984375 \r\nQ 5.515625 40.671875 11.671875 48.328125 \r\nQ 17.828125 56 27.875 56 \r\nQ 33.9375 56 38.28125 53.609375 \r\nQ 42.625 51.21875 45.40625 46.390625 \r\nL 45.40625 54.6875 \r\nL 54.390625 54.6875 \r\nz\r\n\" id=\"DejaVuSans-103\"/>\r\n        <path d=\"M 54.890625 33.015625 \r\nL 54.890625 0 \r\nL 45.90625 0 \r\nL 45.90625 32.71875 \r\nQ 45.90625 40.484375 42.875 44.328125 \r\nQ 39.84375 48.1875 33.796875 48.1875 \r\nQ 26.515625 48.1875 22.3125 43.546875 \r\nQ 18.109375 38.921875 18.109375 30.90625 \r\nL 18.109375 0 \r\nL 9.078125 0 \r\nL 9.078125 54.6875 \r\nL 18.109375 54.6875 \r\nL 18.109375 46.1875 \r\nQ 21.34375 51.125 25.703125 53.5625 \r\nQ 30.078125 56 35.796875 56 \r\nQ 45.21875 56 50.046875 50.171875 \r\nQ 54.890625 44.34375 54.890625 33.015625 \r\nz\r\n\" id=\"DejaVuSans-110\"/>\r\n        <path d=\"M -0.296875 72.90625 \r\nL 61.375 72.90625 \r\nL 61.375 64.59375 \r\nL 35.5 64.59375 \r\nL 35.5 0 \r\nL 25.59375 0 \r\nL 25.59375 64.59375 \r\nL -0.296875 64.59375 \r\nz\r\n\" id=\"DejaVuSans-84\"/>\r\n        <path d=\"M 54.890625 33.015625 \r\nL 54.890625 0 \r\nL 45.90625 0 \r\nL 45.90625 32.71875 \r\nQ 45.90625 40.484375 42.875 44.328125 \r\nQ 39.84375 48.1875 33.796875 48.1875 \r\nQ 26.515625 48.1875 22.3125 43.546875 \r\nQ 18.109375 38.921875 18.109375 30.90625 \r\nL 18.109375 0 \r\nL 9.078125 0 \r\nL 9.078125 75.984375 \r\nL 18.109375 75.984375 \r\nL 18.109375 46.1875 \r\nQ 21.34375 51.125 25.703125 53.5625 \r\nQ 30.078125 56 35.796875 56 \r\nQ 45.21875 56 50.046875 50.171875 \r\nQ 54.890625 44.34375 54.890625 33.015625 \r\nz\r\n\" id=\"DejaVuSans-104\"/>\r\n        <path d=\"M 53.515625 70.515625 \r\nL 53.515625 60.890625 \r\nQ 47.90625 63.578125 42.921875 64.890625 \r\nQ 37.9375 66.21875 33.296875 66.21875 \r\nQ 25.25 66.21875 20.875 63.09375 \r\nQ 16.5 59.96875 16.5 54.203125 \r\nQ 16.5 49.359375 19.40625 46.890625 \r\nQ 22.3125 44.4375 30.421875 42.921875 \r\nL 36.375 41.703125 \r\nQ 47.40625 39.59375 52.65625 34.296875 \r\nQ 57.90625 29 57.90625 20.125 \r\nQ 57.90625 9.515625 50.796875 4.046875 \r\nQ 43.703125 -1.421875 29.984375 -1.421875 \r\nQ 24.8125 -1.421875 18.96875 -0.25 \r\nQ 13.140625 0.921875 6.890625 3.21875 \r\nL 6.890625 13.375 \r\nQ 12.890625 10.015625 18.65625 8.296875 \r\nQ 24.421875 6.59375 29.984375 6.59375 \r\nQ 38.421875 6.59375 43.015625 9.90625 \r\nQ 47.609375 13.234375 47.609375 19.390625 \r\nQ 47.609375 24.75 44.3125 27.78125 \r\nQ 41.015625 30.8125 33.5 32.328125 \r\nL 27.484375 33.5 \r\nQ 16.453125 35.6875 11.515625 40.375 \r\nQ 6.59375 45.0625 6.59375 53.421875 \r\nQ 6.59375 63.09375 13.40625 68.65625 \r\nQ 20.21875 74.21875 32.171875 74.21875 \r\nQ 37.3125 74.21875 42.625 73.28125 \r\nQ 47.953125 72.359375 53.515625 70.515625 \r\nz\r\n\" id=\"DejaVuSans-83\"/>\r\n        <path d=\"M 8.015625 75.875 \r\nL 15.828125 75.875 \r\nQ 23.140625 64.359375 26.78125 53.3125 \r\nQ 30.421875 42.28125 30.421875 31.390625 \r\nQ 30.421875 20.453125 26.78125 9.375 \r\nQ 23.140625 -1.703125 15.828125 -13.1875 \r\nL 8.015625 -13.1875 \r\nQ 14.5 -2 17.703125 9.0625 \r\nQ 20.90625 20.125 20.90625 31.390625 \r\nQ 20.90625 42.671875 17.703125 53.65625 \r\nQ 14.5 64.65625 8.015625 75.875 \r\nz\r\n\" id=\"DejaVuSans-41\"/>\r\n       </defs>\r\n       <use xlink:href=\"#DejaVuSans-87\"/>\r\n       <use x=\"93.376953\" xlink:href=\"#DejaVuSans-65\"/>\r\n       <use x=\"161.785156\" xlink:href=\"#DejaVuSans-80\"/>\r\n       <use x=\"222.087891\" xlink:href=\"#DejaVuSans-32\"/>\r\n       <use x=\"253.875\" xlink:href=\"#DejaVuSans-40\"/>\r\n       <use x=\"292.888672\" xlink:href=\"#DejaVuSans-102\"/>\r\n       <use x=\"328.09375\" xlink:href=\"#DejaVuSans-101\"/>\r\n       <use x=\"389.617188\" xlink:href=\"#DejaVuSans-97\"/>\r\n       <use x=\"450.896484\" xlink:href=\"#DejaVuSans-116\"/>\r\n       <use x=\"490.105469\" xlink:href=\"#DejaVuSans-46\"/>\r\n       <use x=\"521.892578\" xlink:href=\"#DejaVuSans-32\"/>\r\n       <use x=\"553.679688\" xlink:href=\"#DejaVuSans-77\"/>\r\n       <use x=\"639.958984\" xlink:href=\"#DejaVuSans-101\"/>\r\n       <use x=\"701.482422\" xlink:href=\"#DejaVuSans-103\"/>\r\n       <use x=\"764.958984\" xlink:href=\"#DejaVuSans-97\"/>\r\n       <use x=\"826.238281\" xlink:href=\"#DejaVuSans-110\"/>\r\n       <use x=\"889.617188\" xlink:href=\"#DejaVuSans-32\"/>\r\n       <use x=\"921.404297\" xlink:href=\"#DejaVuSans-84\"/>\r\n       <use x=\"982.488281\" xlink:href=\"#DejaVuSans-104\"/>\r\n       <use x=\"1045.867188\" xlink:href=\"#DejaVuSans-101\"/>\r\n       <use x=\"1107.390625\" xlink:href=\"#DejaVuSans-101\"/>\r\n       <use x=\"1168.914062\" xlink:href=\"#DejaVuSans-32\"/>\r\n       <use x=\"1200.701172\" xlink:href=\"#DejaVuSans-83\"/>\r\n       <use x=\"1264.177734\" xlink:href=\"#DejaVuSans-116\"/>\r\n       <use x=\"1303.386719\" xlink:href=\"#DejaVuSans-97\"/>\r\n       <use x=\"1364.666016\" xlink:href=\"#DejaVuSans-108\"/>\r\n       <use x=\"1392.449219\" xlink:href=\"#DejaVuSans-108\"/>\r\n       <use x=\"1420.232422\" xlink:href=\"#DejaVuSans-105\"/>\r\n       <use x=\"1448.015625\" xlink:href=\"#DejaVuSans-111\"/>\r\n       <use x=\"1509.197266\" xlink:href=\"#DejaVuSans-110\"/>\r\n       <use x=\"1572.576172\" xlink:href=\"#DejaVuSans-41\"/>\r\n      </g>\r\n     </g>\r\n    </g>\r\n    <g id=\"xtick_5\">\r\n     <g id=\"line2d_5\">\r\n      <g>\r\n       <use style=\"stroke:#000000;stroke-width:0.8;\" x=\"499.197532\" xlink:href=\"#m1a7404810a\" y=\"626.356875\"/>\r\n      </g>\r\n     </g>\r\n     <g id=\"text_5\">\r\n      <!-- SICKO MODE -->\r\n      <g transform=\"translate(502.508782 709.98625)rotate(-90)scale(0.12 -0.12)\">\r\n       <defs>\r\n        <path d=\"M 9.8125 72.90625 \r\nL 19.671875 72.90625 \r\nL 19.671875 0 \r\nL 9.8125 0 \r\nz\r\n\" id=\"DejaVuSans-73\"/>\r\n        <path d=\"M 9.8125 72.90625 \r\nL 19.671875 72.90625 \r\nL 19.671875 42.09375 \r\nL 52.390625 72.90625 \r\nL 65.09375 72.90625 \r\nL 28.90625 38.921875 \r\nL 67.671875 0 \r\nL 54.6875 0 \r\nL 19.671875 35.109375 \r\nL 19.671875 0 \r\nL 9.8125 0 \r\nz\r\n\" id=\"DejaVuSans-75\"/>\r\n        <path d=\"M 39.40625 66.21875 \r\nQ 28.65625 66.21875 22.328125 58.203125 \r\nQ 16.015625 50.203125 16.015625 36.375 \r\nQ 16.015625 22.609375 22.328125 14.59375 \r\nQ 28.65625 6.59375 39.40625 6.59375 \r\nQ 50.140625 6.59375 56.421875 14.59375 \r\nQ 62.703125 22.609375 62.703125 36.375 \r\nQ 62.703125 50.203125 56.421875 58.203125 \r\nQ 50.140625 66.21875 39.40625 66.21875 \r\nz\r\nM 39.40625 74.21875 \r\nQ 54.734375 74.21875 63.90625 63.9375 \r\nQ 73.09375 53.65625 73.09375 36.375 \r\nQ 73.09375 19.140625 63.90625 8.859375 \r\nQ 54.734375 -1.421875 39.40625 -1.421875 \r\nQ 24.03125 -1.421875 14.8125 8.828125 \r\nQ 5.609375 19.09375 5.609375 36.375 \r\nQ 5.609375 53.65625 14.8125 63.9375 \r\nQ 24.03125 74.21875 39.40625 74.21875 \r\nz\r\n\" id=\"DejaVuSans-79\"/>\r\n        <path d=\"M 9.8125 72.90625 \r\nL 55.90625 72.90625 \r\nL 55.90625 64.59375 \r\nL 19.671875 64.59375 \r\nL 19.671875 43.015625 \r\nL 54.390625 43.015625 \r\nL 54.390625 34.71875 \r\nL 19.671875 34.71875 \r\nL 19.671875 8.296875 \r\nL 56.78125 8.296875 \r\nL 56.78125 0 \r\nL 9.8125 0 \r\nz\r\n\" id=\"DejaVuSans-69\"/>\r\n       </defs>\r\n       <use xlink:href=\"#DejaVuSans-83\"/>\r\n       <use x=\"63.476562\" xlink:href=\"#DejaVuSans-73\"/>\r\n       <use x=\"92.96875\" xlink:href=\"#DejaVuSans-67\"/>\r\n       <use x=\"162.792969\" xlink:href=\"#DejaVuSans-75\"/>\r\n       <use x=\"222.869141\" xlink:href=\"#DejaVuSans-79\"/>\r\n       <use x=\"301.580078\" xlink:href=\"#DejaVuSans-32\"/>\r\n       <use x=\"333.367188\" xlink:href=\"#DejaVuSans-77\"/>\r\n       <use x=\"419.646484\" xlink:href=\"#DejaVuSans-79\"/>\r\n       <use x=\"498.357422\" xlink:href=\"#DejaVuSans-68\"/>\r\n       <use x=\"575.359375\" xlink:href=\"#DejaVuSans-69\"/>\r\n      </g>\r\n     </g>\r\n    </g>\r\n    <g id=\"xtick_6\">\r\n     <g id=\"line2d_6\">\r\n      <g>\r\n       <use style=\"stroke:#000000;stroke-width:0.8;\" x=\"595.404429\" xlink:href=\"#m1a7404810a\" y=\"626.356875\"/>\r\n      </g>\r\n     </g>\r\n     <g id=\"text_6\">\r\n      <!-- Trap Queen -->\r\n      <g transform=\"translate(598.715679 702.05875)rotate(-90)scale(0.12 -0.12)\">\r\n       <defs>\r\n        <path d=\"M 41.109375 46.296875 \r\nQ 39.59375 47.171875 37.8125 47.578125 \r\nQ 36.03125 48 33.890625 48 \r\nQ 26.265625 48 22.1875 43.046875 \r\nQ 18.109375 38.09375 18.109375 28.8125 \r\nL 18.109375 0 \r\nL 9.078125 0 \r\nL 9.078125 54.6875 \r\nL 18.109375 54.6875 \r\nL 18.109375 46.1875 \r\nQ 20.953125 51.171875 25.484375 53.578125 \r\nQ 30.03125 56 36.53125 56 \r\nQ 37.453125 56 38.578125 55.875 \r\nQ 39.703125 55.765625 41.0625 55.515625 \r\nz\r\n\" id=\"DejaVuSans-114\"/>\r\n        <path d=\"M 39.40625 66.21875 \r\nQ 28.65625 66.21875 22.328125 58.203125 \r\nQ 16.015625 50.203125 16.015625 36.375 \r\nQ 16.015625 22.609375 22.328125 14.59375 \r\nQ 28.65625 6.59375 39.40625 6.59375 \r\nQ 50.140625 6.59375 56.421875 14.59375 \r\nQ 62.703125 22.609375 62.703125 36.375 \r\nQ 62.703125 50.203125 56.421875 58.203125 \r\nQ 50.140625 66.21875 39.40625 66.21875 \r\nz\r\nM 53.21875 1.3125 \r\nL 66.21875 -12.890625 \r\nL 54.296875 -12.890625 \r\nL 43.5 -1.21875 \r\nQ 41.890625 -1.3125 41.03125 -1.359375 \r\nQ 40.1875 -1.421875 39.40625 -1.421875 \r\nQ 24.03125 -1.421875 14.8125 8.859375 \r\nQ 5.609375 19.140625 5.609375 36.375 \r\nQ 5.609375 53.65625 14.8125 63.9375 \r\nQ 24.03125 74.21875 39.40625 74.21875 \r\nQ 54.734375 74.21875 63.90625 63.9375 \r\nQ 73.09375 53.65625 73.09375 36.375 \r\nQ 73.09375 23.6875 67.984375 14.640625 \r\nQ 62.890625 5.609375 53.21875 1.3125 \r\nz\r\n\" id=\"DejaVuSans-81\"/>\r\n        <path d=\"M 8.5 21.578125 \r\nL 8.5 54.6875 \r\nL 17.484375 54.6875 \r\nL 17.484375 21.921875 \r\nQ 17.484375 14.15625 20.5 10.265625 \r\nQ 23.53125 6.390625 29.59375 6.390625 \r\nQ 36.859375 6.390625 41.078125 11.03125 \r\nQ 45.3125 15.671875 45.3125 23.6875 \r\nL 45.3125 54.6875 \r\nL 54.296875 54.6875 \r\nL 54.296875 0 \r\nL 45.3125 0 \r\nL 45.3125 8.40625 \r\nQ 42.046875 3.421875 37.71875 1 \r\nQ 33.40625 -1.421875 27.6875 -1.421875 \r\nQ 18.265625 -1.421875 13.375 4.4375 \r\nQ 8.5 10.296875 8.5 21.578125 \r\nz\r\nM 31.109375 56 \r\nz\r\n\" id=\"DejaVuSans-117\"/>\r\n       </defs>\r\n       <use xlink:href=\"#DejaVuSans-84\"/>\r\n       <use x=\"46.333984\" xlink:href=\"#DejaVuSans-114\"/>\r\n       <use x=\"87.447266\" xlink:href=\"#DejaVuSans-97\"/>\r\n       <use x=\"148.726562\" xlink:href=\"#DejaVuSans-112\"/>\r\n       <use x=\"212.203125\" xlink:href=\"#DejaVuSans-32\"/>\r\n       <use x=\"243.990234\" xlink:href=\"#DejaVuSans-81\"/>\r\n       <use x=\"322.701172\" xlink:href=\"#DejaVuSans-117\"/>\r\n       <use x=\"386.080078\" xlink:href=\"#DejaVuSans-101\"/>\r\n       <use x=\"447.603516\" xlink:href=\"#DejaVuSans-101\"/>\r\n       <use x=\"509.126953\" xlink:href=\"#DejaVuSans-110\"/>\r\n      </g>\r\n     </g>\r\n    </g>\r\n    <g id=\"text_7\">\r\n     <!-- Songs -->\r\n     <g transform=\"translate(332.115313 842.143906)scale(0.15 -0.15)\">\r\n      <use xlink:href=\"#DejaVuSans-83\"/>\r\n      <use x=\"63.476562\" xlink:href=\"#DejaVuSans-111\"/>\r\n      <use x=\"124.658203\" xlink:href=\"#DejaVuSans-110\"/>\r\n      <use x=\"188.037109\" xlink:href=\"#DejaVuSans-103\"/>\r\n      <use x=\"251.513672\" xlink:href=\"#DejaVuSans-115\"/>\r\n     </g>\r\n    </g>\r\n   </g>\r\n   <g id=\"matplotlib.axis_2\">\r\n    <g id=\"ytick_1\">\r\n     <g id=\"line2d_7\">\r\n      <defs>\r\n       <path d=\"M 0 0 \r\nL -3.5 0 \r\n\" id=\"m65def81390\" style=\"stroke:#000000;stroke-width:0.8;\"/>\r\n      </defs>\r\n      <g>\r\n       <use style=\"stroke:#000000;stroke-width:0.8;\" x=\"47.987187\" xlink:href=\"#m65def81390\" y=\"626.356875\"/>\r\n      </g>\r\n     </g>\r\n     <g id=\"text_8\">\r\n      <!-- 69 -->\r\n      <g transform=\"translate(25.717187 630.915938)scale(0.12 -0.12)\">\r\n       <defs>\r\n        <path d=\"M 33.015625 40.375 \r\nQ 26.375 40.375 22.484375 35.828125 \r\nQ 18.609375 31.296875 18.609375 23.390625 \r\nQ 18.609375 15.53125 22.484375 10.953125 \r\nQ 26.375 6.390625 33.015625 6.390625 \r\nQ 39.65625 6.390625 43.53125 10.953125 \r\nQ 47.40625 15.53125 47.40625 23.390625 \r\nQ 47.40625 31.296875 43.53125 35.828125 \r\nQ 39.65625 40.375 33.015625 40.375 \r\nz\r\nM 52.59375 71.296875 \r\nL 52.59375 62.3125 \r\nQ 48.875 64.0625 45.09375 64.984375 \r\nQ 41.3125 65.921875 37.59375 65.921875 \r\nQ 27.828125 65.921875 22.671875 59.328125 \r\nQ 17.53125 52.734375 16.796875 39.40625 \r\nQ 19.671875 43.65625 24.015625 45.921875 \r\nQ 28.375 48.1875 33.59375 48.1875 \r\nQ 44.578125 48.1875 50.953125 41.515625 \r\nQ 57.328125 34.859375 57.328125 23.390625 \r\nQ 57.328125 12.15625 50.6875 5.359375 \r\nQ 44.046875 -1.421875 33.015625 -1.421875 \r\nQ 20.359375 -1.421875 13.671875 8.265625 \r\nQ 6.984375 17.96875 6.984375 36.375 \r\nQ 6.984375 53.65625 15.1875 63.9375 \r\nQ 23.390625 74.21875 37.203125 74.21875 \r\nQ 40.921875 74.21875 44.703125 73.484375 \r\nQ 48.484375 72.75 52.59375 71.296875 \r\nz\r\n\" id=\"DejaVuSans-54\"/>\r\n        <path d=\"M 10.984375 1.515625 \r\nL 10.984375 10.5 \r\nQ 14.703125 8.734375 18.5 7.8125 \r\nQ 22.3125 6.890625 25.984375 6.890625 \r\nQ 35.75 6.890625 40.890625 13.453125 \r\nQ 46.046875 20.015625 46.78125 33.40625 \r\nQ 43.953125 29.203125 39.59375 26.953125 \r\nQ 35.25 24.703125 29.984375 24.703125 \r\nQ 19.046875 24.703125 12.671875 31.3125 \r\nQ 6.296875 37.9375 6.296875 49.421875 \r\nQ 6.296875 60.640625 12.9375 67.421875 \r\nQ 19.578125 74.21875 30.609375 74.21875 \r\nQ 43.265625 74.21875 49.921875 64.515625 \r\nQ 56.59375 54.828125 56.59375 36.375 \r\nQ 56.59375 19.140625 48.40625 8.859375 \r\nQ 40.234375 -1.421875 26.421875 -1.421875 \r\nQ 22.703125 -1.421875 18.890625 -0.6875 \r\nQ 15.09375 0.046875 10.984375 1.515625 \r\nz\r\nM 30.609375 32.421875 \r\nQ 37.25 32.421875 41.125 36.953125 \r\nQ 45.015625 41.5 45.015625 49.421875 \r\nQ 45.015625 57.28125 41.125 61.84375 \r\nQ 37.25 66.40625 30.609375 66.40625 \r\nQ 23.96875 66.40625 20.09375 61.84375 \r\nQ 16.21875 57.28125 16.21875 49.421875 \r\nQ 16.21875 41.5 20.09375 36.953125 \r\nQ 23.96875 32.421875 30.609375 32.421875 \r\nz\r\n\" id=\"DejaVuSans-57\"/>\r\n       </defs>\r\n       <use xlink:href=\"#DejaVuSans-54\"/>\r\n       <use x=\"63.623047\" xlink:href=\"#DejaVuSans-57\"/>\r\n      </g>\r\n     </g>\r\n    </g>\r\n    <g id=\"ytick_2\">\r\n     <g id=\"line2d_8\">\r\n      <g>\r\n       <use style=\"stroke:#000000;stroke-width:0.8;\" x=\"47.987187\" xlink:href=\"#m65def81390\" y=\"507.714018\"/>\r\n      </g>\r\n     </g>\r\n     <g id=\"text_9\">\r\n      <!-- 79 -->\r\n      <g transform=\"translate(25.717187 512.27308)scale(0.12 -0.12)\">\r\n       <defs>\r\n        <path d=\"M 8.203125 72.90625 \r\nL 55.078125 72.90625 \r\nL 55.078125 68.703125 \r\nL 28.609375 0 \r\nL 18.3125 0 \r\nL 43.21875 64.59375 \r\nL 8.203125 64.59375 \r\nz\r\n\" id=\"DejaVuSans-55\"/>\r\n       </defs>\r\n       <use xlink:href=\"#DejaVuSans-55\"/>\r\n       <use x=\"63.623047\" xlink:href=\"#DejaVuSans-57\"/>\r\n      </g>\r\n     </g>\r\n    </g>\r\n    <g id=\"ytick_3\">\r\n     <g id=\"line2d_9\">\r\n      <g>\r\n       <use style=\"stroke:#000000;stroke-width:0.8;\" x=\"47.987187\" xlink:href=\"#m65def81390\" y=\"389.071161\"/>\r\n      </g>\r\n     </g>\r\n     <g id=\"text_10\">\r\n      <!-- 78 -->\r\n      <g transform=\"translate(25.717187 393.630223)scale(0.12 -0.12)\">\r\n       <defs>\r\n        <path d=\"M 31.78125 34.625 \r\nQ 24.75 34.625 20.71875 30.859375 \r\nQ 16.703125 27.09375 16.703125 20.515625 \r\nQ 16.703125 13.921875 20.71875 10.15625 \r\nQ 24.75 6.390625 31.78125 6.390625 \r\nQ 38.8125 6.390625 42.859375 10.171875 \r\nQ 46.921875 13.96875 46.921875 20.515625 \r\nQ 46.921875 27.09375 42.890625 30.859375 \r\nQ 38.875 34.625 31.78125 34.625 \r\nz\r\nM 21.921875 38.8125 \r\nQ 15.578125 40.375 12.03125 44.71875 \r\nQ 8.5 49.078125 8.5 55.328125 \r\nQ 8.5 64.0625 14.71875 69.140625 \r\nQ 20.953125 74.21875 31.78125 74.21875 \r\nQ 42.671875 74.21875 48.875 69.140625 \r\nQ 55.078125 64.0625 55.078125 55.328125 \r\nQ 55.078125 49.078125 51.53125 44.71875 \r\nQ 48 40.375 41.703125 38.8125 \r\nQ 48.828125 37.15625 52.796875 32.3125 \r\nQ 56.78125 27.484375 56.78125 20.515625 \r\nQ 56.78125 9.90625 50.3125 4.234375 \r\nQ 43.84375 -1.421875 31.78125 -1.421875 \r\nQ 19.734375 -1.421875 13.25 4.234375 \r\nQ 6.78125 9.90625 6.78125 20.515625 \r\nQ 6.78125 27.484375 10.78125 32.3125 \r\nQ 14.796875 37.15625 21.921875 38.8125 \r\nz\r\nM 18.3125 54.390625 \r\nQ 18.3125 48.734375 21.84375 45.5625 \r\nQ 25.390625 42.390625 31.78125 42.390625 \r\nQ 38.140625 42.390625 41.71875 45.5625 \r\nQ 45.3125 48.734375 45.3125 54.390625 \r\nQ 45.3125 60.0625 41.71875 63.234375 \r\nQ 38.140625 66.40625 31.78125 66.40625 \r\nQ 25.390625 66.40625 21.84375 63.234375 \r\nQ 18.3125 60.0625 18.3125 54.390625 \r\nz\r\n\" id=\"DejaVuSans-56\"/>\r\n       </defs>\r\n       <use xlink:href=\"#DejaVuSans-55\"/>\r\n       <use x=\"63.623047\" xlink:href=\"#DejaVuSans-56\"/>\r\n      </g>\r\n     </g>\r\n    </g>\r\n    <g id=\"ytick_4\">\r\n     <g id=\"line2d_10\">\r\n      <g>\r\n       <use style=\"stroke:#000000;stroke-width:0.8;\" x=\"47.987187\" xlink:href=\"#m65def81390\" y=\"270.428304\"/>\r\n      </g>\r\n     </g>\r\n     <g id=\"text_11\">\r\n      <!-- 96 -->\r\n      <g transform=\"translate(25.717187 274.987366)scale(0.12 -0.12)\">\r\n       <use xlink:href=\"#DejaVuSans-57\"/>\r\n       <use x=\"63.623047\" xlink:href=\"#DejaVuSans-54\"/>\r\n      </g>\r\n     </g>\r\n    </g>\r\n    <g id=\"ytick_5\">\r\n     <g id=\"line2d_11\">\r\n      <g>\r\n       <use style=\"stroke:#000000;stroke-width:0.8;\" x=\"47.987187\" xlink:href=\"#m65def81390\" y=\"151.785446\"/>\r\n      </g>\r\n     </g>\r\n     <g id=\"text_12\">\r\n      <!-- 87 -->\r\n      <g transform=\"translate(25.717187 156.344509)scale(0.12 -0.12)\">\r\n       <use xlink:href=\"#DejaVuSans-56\"/>\r\n       <use x=\"63.623047\" xlink:href=\"#DejaVuSans-55\"/>\r\n      </g>\r\n     </g>\r\n    </g>\r\n    <g id=\"ytick_6\">\r\n     <g id=\"line2d_12\">\r\n      <g>\r\n       <use style=\"stroke:#000000;stroke-width:0.8;\" x=\"47.987187\" xlink:href=\"#m65def81390\" y=\"33.142589\"/>\r\n      </g>\r\n     </g>\r\n     <g id=\"text_13\">\r\n      <!-- 74 -->\r\n      <g transform=\"translate(25.717187 37.701652)scale(0.12 -0.12)\">\r\n       <defs>\r\n        <path d=\"M 37.796875 64.3125 \r\nL 12.890625 25.390625 \r\nL 37.796875 25.390625 \r\nz\r\nM 35.203125 72.90625 \r\nL 47.609375 72.90625 \r\nL 47.609375 25.390625 \r\nL 58.015625 25.390625 \r\nL 58.015625 17.1875 \r\nL 47.609375 17.1875 \r\nL 47.609375 0 \r\nL 37.796875 0 \r\nL 37.796875 17.1875 \r\nL 4.890625 17.1875 \r\nL 4.890625 26.703125 \r\nz\r\n\" id=\"DejaVuSans-52\"/>\r\n       </defs>\r\n       <use xlink:href=\"#DejaVuSans-55\"/>\r\n       <use x=\"63.623047\" xlink:href=\"#DejaVuSans-52\"/>\r\n      </g>\r\n     </g>\r\n    </g>\r\n    <g id=\"text_14\">\r\n     <!-- Popularity -->\r\n     <g transform=\"translate(18.597656 364.956563)rotate(-90)scale(0.15 -0.15)\">\r\n      <use xlink:href=\"#DejaVuSans-80\"/>\r\n      <use x=\"56.677734\" xlink:href=\"#DejaVuSans-111\"/>\r\n      <use x=\"117.859375\" xlink:href=\"#DejaVuSans-112\"/>\r\n      <use x=\"181.335938\" xlink:href=\"#DejaVuSans-117\"/>\r\n      <use x=\"244.714844\" xlink:href=\"#DejaVuSans-108\"/>\r\n      <use x=\"272.498047\" xlink:href=\"#DejaVuSans-97\"/>\r\n      <use x=\"333.777344\" xlink:href=\"#DejaVuSans-114\"/>\r\n      <use x=\"374.890625\" xlink:href=\"#DejaVuSans-105\"/>\r\n      <use x=\"402.673828\" xlink:href=\"#DejaVuSans-116\"/>\r\n      <use x=\"441.882812\" xlink:href=\"#DejaVuSans-121\"/>\r\n     </g>\r\n    </g>\r\n   </g>\r\n   <g id=\"patch_9\">\r\n    <path d=\"M 47.987187 626.356875 \r\nL 47.987187 28.396875 \r\n\" style=\"fill:none;stroke:#000000;stroke-linecap:square;stroke-linejoin:miter;stroke-width:0.8;\"/>\r\n   </g>\r\n   <g id=\"patch_10\">\r\n    <path d=\"M 661.787188 626.356875 \r\nL 661.787188 28.396875 \r\n\" style=\"fill:none;stroke:#000000;stroke-linecap:square;stroke-linejoin:miter;stroke-width:0.8;\"/>\r\n   </g>\r\n   <g id=\"patch_11\">\r\n    <path d=\"M 47.987188 626.356875 \r\nL 661.787188 626.356875 \r\n\" style=\"fill:none;stroke:#000000;stroke-linecap:square;stroke-linejoin:miter;stroke-width:0.8;\"/>\r\n   </g>\r\n   <g id=\"patch_12\">\r\n    <path d=\"M 47.987188 28.396875 \r\nL 661.787188 28.396875 \r\n\" style=\"fill:none;stroke:#000000;stroke-linecap:square;stroke-linejoin:miter;stroke-width:0.8;\"/>\r\n   </g>\r\n   <g id=\"text_15\">\r\n    <!-- Songs Popularity -->\r\n    <g transform=\"translate(271.240313 22.396875)scale(0.2 -0.2)\">\r\n     <use xlink:href=\"#DejaVuSans-83\"/>\r\n     <use x=\"63.476562\" xlink:href=\"#DejaVuSans-111\"/>\r\n     <use x=\"124.658203\" xlink:href=\"#DejaVuSans-110\"/>\r\n     <use x=\"188.037109\" xlink:href=\"#DejaVuSans-103\"/>\r\n     <use x=\"251.513672\" xlink:href=\"#DejaVuSans-115\"/>\r\n     <use x=\"303.613281\" xlink:href=\"#DejaVuSans-32\"/>\r\n     <use x=\"335.400391\" xlink:href=\"#DejaVuSans-80\"/>\r\n     <use x=\"392.078125\" xlink:href=\"#DejaVuSans-111\"/>\r\n     <use x=\"453.259766\" xlink:href=\"#DejaVuSans-112\"/>\r\n     <use x=\"516.736328\" xlink:href=\"#DejaVuSans-117\"/>\r\n     <use x=\"580.115234\" xlink:href=\"#DejaVuSans-108\"/>\r\n     <use x=\"607.898438\" xlink:href=\"#DejaVuSans-97\"/>\r\n     <use x=\"669.177734\" xlink:href=\"#DejaVuSans-114\"/>\r\n     <use x=\"710.291016\" xlink:href=\"#DejaVuSans-105\"/>\r\n     <use x=\"738.074219\" xlink:href=\"#DejaVuSans-116\"/>\r\n     <use x=\"777.283203\" xlink:href=\"#DejaVuSans-121\"/>\r\n    </g>\r\n   </g>\r\n  </g>\r\n </g>\r\n <defs>\r\n  <clipPath id=\"p055fc31ef1\">\r\n   <rect height=\"597.96\" width=\"613.8\" x=\"47.987187\" y=\"28.396875\"/>\r\n  </clipPath>\r\n </defs>\r\n</svg>\r\n",
      "image/png": "[encoded data removed]"
     },
     "metadata": {
      "needs_background": "light"
     }
    }
   ],
   "source": [
    "fig, ax = plt.subplots(figsize = (11,11))\n",
    "plt.bar(song.keys(), song.values(), color = ['deeppink', 'indigo'])\n",
    "\n",
    "ax.set_title('Songs Popularity', fontsize = 20);\n",
    "ax.set_xlabel('Songs', fontsize = 15)\n",
    "ax.set_ylabel('Popularity', fontsize = 15)\n",
    "ax.set_xticklabels(song.keys(), rotation = 'vertical', fontsize = 12)\n",
    "ax.set_yticklabels(song.values(), fontsize = 12)\n",
    "\n",
    "plt.savefig('Song Popularity')"
   ]
  },
  {
   "cell_type": "code",
   "execution_count": 36,
   "metadata": {},
   "outputs": [],
   "source": [
    "# import matplotlib.pyplot as plt\n",
    "# %matplotlib inline\n",
    "\n",
    "# fig, axes = plt.subplots(nrows=2, ncols=2, figsize=(16,3))\n",
    "\n",
    "# for xcol, ax in zip(['britney', 'britney', 'britney', 'britney'], axes):\n",
    "#     data.plot(kind='bar', x=xcol, y='mpg', ax=ax, alpha=0.4, color='b')"
   ]
  },
  {
   "cell_type": "code",
   "execution_count": 77,
   "metadata": {},
   "outputs": [],
   "source": [
    "artist = {}\n",
    "\n",
    "results = sp.search(q='britney', limit=20)\n",
    "for idx, track in enumerate(results['tracks']['items']):\n",
    "    artist[track['name']] = track['popularity']\n",
    "\n",
    "results = sp.search(q='beyonce', limit=20)\n",
    "for idx, track in enumerate(results['tracks']['items']):\n",
    "    artist[track['name']] = track['popularity']\n",
    "\n",
    "results = sp.search(q='rihanna', limit=20)\n",
    "for idx, track in enumerate(results['tracks']['items']):\n",
    "    artist[track['name']] = track['popularity']\n",
    "\n",
    "results = sp.search(q='weeknd', limit=20)\n",
    "for idx, track in enumerate(results['tracks']['items']):\n",
    "    artist[track['name']] = track['popularity']\n",
    "\n",
    "results = sp.search(q='J. Cole', limit=20)\n",
    "for idx, track in enumerate(results['tracks']['items']):\n",
    "    artist[track['name']] = track['popularity']\n",
    "\n",
    "results = sp.search(q='drake', limit=20)\n",
    "for idx, track in enumerate(results['tracks']['items']):\n",
    "    artist[track['name']] = track['popularity']"
   ]
  },
  {
   "cell_type": "code",
   "execution_count": 78,
   "metadata": {},
   "outputs": [
    {
     "output_type": "execute_result",
     "data": {
      "text/plain": [
       "{'Toxic': 80,\n",
       " 'Oops!...I Did It Again': 78,\n",
       " '...Baby One More Time': 77,\n",
       " 'Womanizer': 76,\n",
       " 'Scream & Shout': 75,\n",
       " 'Gimme More': 74,\n",
       " 'My Only Wish (This Year)': 72,\n",
       " 'Circus': 70,\n",
       " 'Work Bitch': 71,\n",
       " \"I'm a Slave 4 U\": 69,\n",
       " 'If U Seek Amy': 67,\n",
       " 'Stronger': 66,\n",
       " 'Criminal': 71,\n",
       " 'Lucky': 65,\n",
       " 'Till the World Ends': 65,\n",
       " 'I Wanna Go': 66,\n",
       " 'Sometimes': 68,\n",
       " 'Piece of Me': 65,\n",
       " '3': 63,\n",
       " '(You Drive Me) Crazy': 61,\n",
       " 'Savage Remix (feat. Beyoncé)': 27,\n",
       " 'Halo': 77,\n",
       " 'Formation': 75,\n",
       " 'Crazy In Love (feat. Jay-Z)': 76,\n",
       " 'Love On Top': 75,\n",
       " 'Hold Up': 73,\n",
       " 'Partition': 71,\n",
       " 'Run the World (Girls)': 74,\n",
       " 'Telephone': 68,\n",
       " 'Sorry': 70,\n",
       " 'Irreplaceable': 72,\n",
       " 'If I Were a Boy': 68,\n",
       " 'Best Thing I Never Had': 73,\n",
       " '7/11': 72,\n",
       " 'Drunk in Love (feat. Jay-Z)': 71,\n",
       " 'Perfect Duet (Ed Sheeran & Beyoncé)': 76,\n",
       " 'BLACK PARADE': 69,\n",
       " 'Single Ladies (Put a Ring on It)': 69,\n",
       " 'Needed Me': 79,\n",
       " 'BELIEVE IT': 80,\n",
       " 'Love The Way You Lie': 82,\n",
       " 'Desperado': 78,\n",
       " 'Love On The Brain': 80,\n",
       " 'FourFiveSeconds': 79,\n",
       " 'Disturbia': 76,\n",
       " 'This Is What You Came For (feat. Rihanna)': 79,\n",
       " 'Pon de Replay': 78,\n",
       " 'Bitch Better Have My Money': 76,\n",
       " 'Take A Bow': 77,\n",
       " 'Umbrella': 81,\n",
       " 'Live Your Life': 75,\n",
       " 'Take Care': 73,\n",
       " 'Work': 76,\n",
       " 'We Found Love': 75,\n",
       " 'LOYALTY. FEAT. RIHANNA.': 71,\n",
       " 'The Monster': 76,\n",
       " 'Run This Town': 72,\n",
       " 'S&M': 72,\n",
       " 'Blinding Lights': 96,\n",
       " 'off the table (with The Weeknd)': 85,\n",
       " 'Smile (with The Weeknd)': 76,\n",
       " 'Hawái - Remix': 90,\n",
       " 'The Hills': 83,\n",
       " 'Starboy': 83,\n",
       " 'Heartless': 80,\n",
       " 'Over Now (with The Weeknd)': 81,\n",
       " 'In Your Eyes': 85,\n",
       " 'Call Out My Name': 82,\n",
       " 'Or Nah (feat. The Weeknd, Wiz Khalifa & DJ Mustard) - Remix': 80,\n",
       " 'Low Life (feat. The Weeknd)': 74,\n",
       " 'After Hours': 80,\n",
       " 'Die For You': 77,\n",
       " \"Can't Feel My Face\": 79,\n",
       " 'Often': 77,\n",
       " 'Weeknd': 43,\n",
       " 'I Feel It Coming': 79,\n",
       " 'Pray For Me (with Kendrick Lamar)': 75,\n",
       " 'No Role Modelz': 84,\n",
       " 'MIDDLE CHILD': 82,\n",
       " 'Work Out': 79,\n",
       " 'Wet Dreamz': 79,\n",
       " 'Pretty Little Fears (feat. J. Cole)': 76,\n",
       " 'Under The Sun (with J. Cole & Lute feat. DaBaby)': 74,\n",
       " 'The London (feat. J. Cole & Travis Scott)': 75,\n",
       " 'The Climb Back': 74,\n",
       " 'Power Trip (feat. Miguel)': 73,\n",
       " 'G.O.M.D.': 73,\n",
       " 'Planez': 72,\n",
       " 'Kevin’s Heart': 72,\n",
       " 'Come Through and Chill (feat. J. Cole & Salaam Remi)': 72,\n",
       " 'Lion King On Ice': 72,\n",
       " 'Neighbors': 72,\n",
       " 'Snow On Tha Bluff': 71,\n",
       " 'KOD': 71,\n",
       " 'Love Yourz': 70,\n",
       " 'Tribe (with J. Cole)': 71,\n",
       " 'Laugh Now Cry Later (feat. Lil Durk)': 93,\n",
       " 'POPSTAR (feat. Drake)': 91,\n",
       " 'GREECE (feat. Drake)': 87,\n",
       " 'Life Is Good (feat. Drake)': 85,\n",
       " 'No Guidance (feat. Drake)': 84,\n",
       " 'Chicago Freestyle (feat. Giveon)': 84,\n",
       " 'Going Bad (feat. Drake)': 82,\n",
       " 'Money In The Grave (Drake ft. Rick Ross)': 82,\n",
       " 'Yes Indeed': 79,\n",
       " 'Toosie Slide': 84,\n",
       " \"God's Plan\": 83,\n",
       " 'Nonstop': 79,\n",
       " 'Drama (feat. Drake)': 77,\n",
       " 'Girls Need Love (with Drake) - Remix': 78,\n",
       " 'Passionfruit': 79,\n",
       " 'Nice For What': 78,\n",
       " 'You’re Mines Still (feat. Drake)': 78,\n",
       " 'Mr. Right Now (feat. Drake)': 86,\n",
       " \"F**kin' Problems (feat. Drake, 2 Chainz & Kendrick Lamar)\": 76,\n",
       " 'MIA (feat. Drake)': 79}"
      ]
     },
     "metadata": {},
     "execution_count": 78
    }
   ],
   "source": [
    "artist"
   ]
  },
  {
   "cell_type": "code",
   "execution_count": 82,
   "metadata": {},
   "outputs": [],
   "source": [
    "df_artists = pd.DataFrame(artist.items(), columns = ['Song', 'Popularity'])"
   ]
  },
  {
   "cell_type": "code",
   "execution_count": 83,
   "metadata": {},
   "outputs": [
    {
     "output_type": "execute_result",
     "data": {
      "text/plain": [
       "                                                  Song  Popularity\n",
       "0                                                Toxic          80\n",
       "1                               Oops!...I Did It Again          78\n",
       "2                                ...Baby One More Time          77\n",
       "3                                            Womanizer          76\n",
       "4                                       Scream & Shout          75\n",
       "..                                                 ...         ...\n",
       "111                                      Nice For What          78\n",
       "112                   You’re Mines Still (feat. Drake)          78\n",
       "113                        Mr. Right Now (feat. Drake)          86\n",
       "114  F**kin' Problems (feat. Drake, 2 Chainz & Kend...          76\n",
       "115                                  MIA (feat. Drake)          79\n",
       "\n",
       "[116 rows x 2 columns]"
      ],
      "text/html": "<div>\n<style scoped>\n    .dataframe tbody tr th:only-of-type {\n        vertical-align: middle;\n    }\n\n    .dataframe tbody tr th {\n        vertical-align: top;\n    }\n\n    .dataframe thead th {\n        text-align: right;\n    }\n</style>\n<table border=\"1\" class=\"dataframe\">\n  <thead>\n    <tr style=\"text-align: right;\">\n      <th></th>\n      <th>Song</th>\n      <th>Popularity</th>\n    </tr>\n  </thead>\n  <tbody>\n    <tr>\n      <th>0</th>\n      <td>Toxic</td>\n      <td>80</td>\n    </tr>\n    <tr>\n      <th>1</th>\n      <td>Oops!...I Did It Again</td>\n      <td>78</td>\n    </tr>\n    <tr>\n      <th>2</th>\n      <td>...Baby One More Time</td>\n      <td>77</td>\n    </tr>\n    <tr>\n      <th>3</th>\n      <td>Womanizer</td>\n      <td>76</td>\n    </tr>\n    <tr>\n      <th>4</th>\n      <td>Scream &amp; Shout</td>\n      <td>75</td>\n    </tr>\n    <tr>\n      <th>...</th>\n      <td>...</td>\n      <td>...</td>\n    </tr>\n    <tr>\n      <th>111</th>\n      <td>Nice For What</td>\n      <td>78</td>\n    </tr>\n    <tr>\n      <th>112</th>\n      <td>You’re Mines Still (feat. Drake)</td>\n      <td>78</td>\n    </tr>\n    <tr>\n      <th>113</th>\n      <td>Mr. Right Now (feat. Drake)</td>\n      <td>86</td>\n    </tr>\n    <tr>\n      <th>114</th>\n      <td>F**kin' Problems (feat. Drake, 2 Chainz &amp; Kend...</td>\n      <td>76</td>\n    </tr>\n    <tr>\n      <th>115</th>\n      <td>MIA (feat. Drake)</td>\n      <td>79</td>\n    </tr>\n  </tbody>\n</table>\n<p>116 rows × 2 columns</p>\n</div>"
     },
     "metadata": {},
     "execution_count": 83
    }
   ],
   "source": [
    "df_artists"
   ]
  },
  {
   "cell_type": "code",
   "execution_count": null,
   "metadata": {},
   "outputs": [],
   "source": []
  }
 ]
}