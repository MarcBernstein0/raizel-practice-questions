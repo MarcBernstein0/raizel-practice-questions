{
 "metadata": {
  "language_info": {
   "codemirror_mode": {
    "name": "ipython",
    "version": 3
   },
   "file_extension": ".py",
   "mimetype": "text/x-python",
   "name": "python",
   "nbconvert_exporter": "python",
   "pygments_lexer": "ipython3",
   "version": "3.8.3-final"
  },
  "orig_nbformat": 2,
  "kernelspec": {
   "name": "learn-env",
   "display_name": "learn-env"
  }
 },
 "nbformat": 4,
 "nbformat_minor": 2,
 "cells": [
  {
   "cell_type": "code",
   "execution_count": 2,
   "metadata": {},
   "outputs": [],
   "source": [
    "import pandas as pd \n",
    "import matplotlib.pyplot as plt\n",
    "import numpy as np\n",
    "import requests\n",
    "import json\n",
    "import matplotlib.pyplot as plt\n",
    "import seaborn as sns"
   ]
  },
  {
   "cell_type": "code",
   "execution_count": 13,
   "metadata": {},
   "outputs": [],
   "source": [
    "# lets try to get some data from yelp!\n",
    "url = 'https://api.spotify.com/v1'\n",
    "response = requests.get(url)"
   ]
  },
  {
   "cell_type": "code",
   "execution_count": 4,
   "metadata": {},
   "outputs": [],
   "source": [
    "# 11be57c79dbd40c69e75f1b90431d529 - client ID"
   ]
  },
  {
   "cell_type": "code",
   "execution_count": 5,
   "metadata": {},
   "outputs": [],
   "source": [
    "# f4ab417ba6d54327a0b98ea12ceef847 - secret ID"
   ]
  },
  {
   "cell_type": "code",
   "execution_count": 8,
   "metadata": {},
   "outputs": [],
   "source": [
    "# import spotipy\n",
    "# from spotipy.oauth2 import SpotifyOAuth\n",
    "\n",
    "# scope = \"user-library-read\"\n",
    "\n",
    "# sp = spotipy.Spotify(auth_manager=SpotifyOAuth(scope=scope))\n",
    "\n",
    "# results = sp.current_user_saved_tracks()\n",
    "# for idx, item in enumerate(results['items']):\n",
    "#     track = item['track']\n",
    "#     print(idx, track['artists'][0]['name'], \" – \", track['name'])"
   ]
  },
  {
   "cell_type": "code",
   "execution_count": 9,
   "metadata": {},
   "outputs": [],
   "source": [
    "# export SPOTIPY_CLIENT_ID='11be57c79dbd40c69e75f1b90431d529'\n",
    "# export SPOTIPY_CLIENT_SECRET='your-spotify-client-secret'\n",
    "# export SPOTIPY_REDIRECT_URI='your-app-redirect-url'"
   ]
  },
  {
   "cell_type": "code",
   "execution_count": 12,
   "metadata": {},
   "outputs": [
    {
     "output_type": "stream",
     "name": "stdout",
     "text": [
      "0 cardigan\n1 WAP (feat. Megan Thee Stallion)\n2 Cardigan\n3 Cardiac Arrest\n4 I Like It\n5 Bet You Wanna (feat. Cardi B)\n6 Money\n7 cardigan - cabin in candlelight version\n8 Bodak Yellow\n9 Thru Your Phone\n10 Rodeo\n11 Please Me\n12 Girls Like You\n13 Finesse - Remix; feat. Cardi B\n14 Bartier Cardi (feat. 21 Savage)\n15 Clout (feat. Cardi B)\n16 Twerk (feat. Cardi B)\n17 Be Careful\n18 Girls Like You (feat. Cardi B)\n19 I Do (feat. SZA)\ndict_keys(['album', 'artists', 'available_markets', 'disc_number', 'duration_ms', 'explicit', 'external_ids', 'external_urls', 'href', 'id', 'is_local', 'name', 'popularity', 'preview_url', 'track_number', 'type', 'uri'])\n"
     ]
    }
   ],
   "source": [
    "import spotipy\n",
    "from spotipy.oauth2 import SpotifyClientCredentials\n",
    "\n",
    "sp = spotipy.Spotify(auth_manager=SpotifyClientCredentials(client_id=\"11be57c79dbd40c69e75f1b90431d529\",\n",
    "                                                           client_secret=\"f4ab417ba6d54327a0b98ea12ceef847\"))\n",
    "\n",
    "results = sp.search(q='cardi', limit=20)\n",
    "for idx, track in enumerate(results['tracks']['items']):\n",
    "    print(idx, track['name'])\n",
    "print(track.keys())"
   ]
  },
  {
   "cell_type": "code",
   "execution_count": 17,
   "metadata": {},
   "outputs": [],
   "source": [
    "df = pd.DataFrame.from_dict(results['tracks'])"
   ]
  },
  {
   "cell_type": "code",
   "execution_count": 18,
   "metadata": {},
   "outputs": [
    {
     "output_type": "execute_result",
     "data": {
      "text/plain": [
       "                                                 href  \\\n",
       "0   https://api.spotify.com/v1/search?query=cardi&...   \n",
       "1   https://api.spotify.com/v1/search?query=cardi&...   \n",
       "2   https://api.spotify.com/v1/search?query=cardi&...   \n",
       "3   https://api.spotify.com/v1/search?query=cardi&...   \n",
       "4   https://api.spotify.com/v1/search?query=cardi&...   \n",
       "5   https://api.spotify.com/v1/search?query=cardi&...   \n",
       "6   https://api.spotify.com/v1/search?query=cardi&...   \n",
       "7   https://api.spotify.com/v1/search?query=cardi&...   \n",
       "8   https://api.spotify.com/v1/search?query=cardi&...   \n",
       "9   https://api.spotify.com/v1/search?query=cardi&...   \n",
       "10  https://api.spotify.com/v1/search?query=cardi&...   \n",
       "11  https://api.spotify.com/v1/search?query=cardi&...   \n",
       "12  https://api.spotify.com/v1/search?query=cardi&...   \n",
       "13  https://api.spotify.com/v1/search?query=cardi&...   \n",
       "14  https://api.spotify.com/v1/search?query=cardi&...   \n",
       "15  https://api.spotify.com/v1/search?query=cardi&...   \n",
       "16  https://api.spotify.com/v1/search?query=cardi&...   \n",
       "17  https://api.spotify.com/v1/search?query=cardi&...   \n",
       "18  https://api.spotify.com/v1/search?query=cardi&...   \n",
       "19  https://api.spotify.com/v1/search?query=cardi&...   \n",
       "\n",
       "                                                items  limit  \\\n",
       "0   {'album': {'album_type': 'album', 'artists': [...     20   \n",
       "1   {'album': {'album_type': 'single', 'artists': ...     20   \n",
       "2   {'album': {'album_type': 'album', 'artists': [...     20   \n",
       "3   {'album': {'album_type': 'album', 'artists': [...     20   \n",
       "4   {'album': {'album_type': 'album', 'artists': [...     20   \n",
       "5   {'album': {'album_type': 'album', 'artists': [...     20   \n",
       "6   {'album': {'album_type': 'single', 'artists': ...     20   \n",
       "7   {'album': {'album_type': 'single', 'artists': ...     20   \n",
       "8   {'album': {'album_type': 'album', 'artists': [...     20   \n",
       "9   {'album': {'album_type': 'album', 'artists': [...     20   \n",
       "10  {'album': {'album_type': 'single', 'artists': ...     20   \n",
       "11  {'album': {'album_type': 'single', 'artists': ...     20   \n",
       "12  {'album': {'album_type': 'compilation', 'artis...     20   \n",
       "13  {'album': {'album_type': 'single', 'artists': ...     20   \n",
       "14  {'album': {'album_type': 'album', 'artists': [...     20   \n",
       "15  {'album': {'album_type': 'album', 'artists': [...     20   \n",
       "16  {'album': {'album_type': 'album', 'artists': [...     20   \n",
       "17  {'album': {'album_type': 'album', 'artists': [...     20   \n",
       "18  {'album': {'album_type': 'album', 'artists': [...     20   \n",
       "19  {'album': {'album_type': 'album', 'artists': [...     20   \n",
       "\n",
       "                                                 next  offset previous   total  \n",
       "0   https://api.spotify.com/v1/search?query=cardi&...       0     None  100005  \n",
       "1   https://api.spotify.com/v1/search?query=cardi&...       0     None  100005  \n",
       "2   https://api.spotify.com/v1/search?query=cardi&...       0     None  100005  \n",
       "3   https://api.spotify.com/v1/search?query=cardi&...       0     None  100005  \n",
       "4   https://api.spotify.com/v1/search?query=cardi&...       0     None  100005  \n",
       "5   https://api.spotify.com/v1/search?query=cardi&...       0     None  100005  \n",
       "6   https://api.spotify.com/v1/search?query=cardi&...       0     None  100005  \n",
       "7   https://api.spotify.com/v1/search?query=cardi&...       0     None  100005  \n",
       "8   https://api.spotify.com/v1/search?query=cardi&...       0     None  100005  \n",
       "9   https://api.spotify.com/v1/search?query=cardi&...       0     None  100005  \n",
       "10  https://api.spotify.com/v1/search?query=cardi&...       0     None  100005  \n",
       "11  https://api.spotify.com/v1/search?query=cardi&...       0     None  100005  \n",
       "12  https://api.spotify.com/v1/search?query=cardi&...       0     None  100005  \n",
       "13  https://api.spotify.com/v1/search?query=cardi&...       0     None  100005  \n",
       "14  https://api.spotify.com/v1/search?query=cardi&...       0     None  100005  \n",
       "15  https://api.spotify.com/v1/search?query=cardi&...       0     None  100005  \n",
       "16  https://api.spotify.com/v1/search?query=cardi&...       0     None  100005  \n",
       "17  https://api.spotify.com/v1/search?query=cardi&...       0     None  100005  \n",
       "18  https://api.spotify.com/v1/search?query=cardi&...       0     None  100005  \n",
       "19  https://api.spotify.com/v1/search?query=cardi&...       0     None  100005  "
      ],
      "text/html": "<div>\n<style scoped>\n    .dataframe tbody tr th:only-of-type {\n        vertical-align: middle;\n    }\n\n    .dataframe tbody tr th {\n        vertical-align: top;\n    }\n\n    .dataframe thead th {\n        text-align: right;\n    }\n</style>\n<table border=\"1\" class=\"dataframe\">\n  <thead>\n    <tr style=\"text-align: right;\">\n      <th></th>\n      <th>href</th>\n      <th>items</th>\n      <th>limit</th>\n      <th>next</th>\n      <th>offset</th>\n      <th>previous</th>\n      <th>total</th>\n    </tr>\n  </thead>\n  <tbody>\n    <tr>\n      <th>0</th>\n      <td>https://api.spotify.com/v1/search?query=cardi&amp;...</td>\n      <td>{'album': {'album_type': 'album', 'artists': [...</td>\n      <td>20</td>\n      <td>https://api.spotify.com/v1/search?query=cardi&amp;...</td>\n      <td>0</td>\n      <td>None</td>\n      <td>100005</td>\n    </tr>\n    <tr>\n      <th>1</th>\n      <td>https://api.spotify.com/v1/search?query=cardi&amp;...</td>\n      <td>{'album': {'album_type': 'single', 'artists': ...</td>\n      <td>20</td>\n      <td>https://api.spotify.com/v1/search?query=cardi&amp;...</td>\n      <td>0</td>\n      <td>None</td>\n      <td>100005</td>\n    </tr>\n    <tr>\n      <th>2</th>\n      <td>https://api.spotify.com/v1/search?query=cardi&amp;...</td>\n      <td>{'album': {'album_type': 'album', 'artists': [...</td>\n      <td>20</td>\n      <td>https://api.spotify.com/v1/search?query=cardi&amp;...</td>\n      <td>0</td>\n      <td>None</td>\n      <td>100005</td>\n    </tr>\n    <tr>\n      <th>3</th>\n      <td>https://api.spotify.com/v1/search?query=cardi&amp;...</td>\n      <td>{'album': {'album_type': 'album', 'artists': [...</td>\n      <td>20</td>\n      <td>https://api.spotify.com/v1/search?query=cardi&amp;...</td>\n      <td>0</td>\n      <td>None</td>\n      <td>100005</td>\n    </tr>\n    <tr>\n      <th>4</th>\n      <td>https://api.spotify.com/v1/search?query=cardi&amp;...</td>\n      <td>{'album': {'album_type': 'album', 'artists': [...</td>\n      <td>20</td>\n      <td>https://api.spotify.com/v1/search?query=cardi&amp;...</td>\n      <td>0</td>\n      <td>None</td>\n      <td>100005</td>\n    </tr>\n    <tr>\n      <th>5</th>\n      <td>https://api.spotify.com/v1/search?query=cardi&amp;...</td>\n      <td>{'album': {'album_type': 'album', 'artists': [...</td>\n      <td>20</td>\n      <td>https://api.spotify.com/v1/search?query=cardi&amp;...</td>\n      <td>0</td>\n      <td>None</td>\n      <td>100005</td>\n    </tr>\n    <tr>\n      <th>6</th>\n      <td>https://api.spotify.com/v1/search?query=cardi&amp;...</td>\n      <td>{'album': {'album_type': 'single', 'artists': ...</td>\n      <td>20</td>\n      <td>https://api.spotify.com/v1/search?query=cardi&amp;...</td>\n      <td>0</td>\n      <td>None</td>\n      <td>100005</td>\n    </tr>\n    <tr>\n      <th>7</th>\n      <td>https://api.spotify.com/v1/search?query=cardi&amp;...</td>\n      <td>{'album': {'album_type': 'single', 'artists': ...</td>\n      <td>20</td>\n      <td>https://api.spotify.com/v1/search?query=cardi&amp;...</td>\n      <td>0</td>\n      <td>None</td>\n      <td>100005</td>\n    </tr>\n    <tr>\n      <th>8</th>\n      <td>https://api.spotify.com/v1/search?query=cardi&amp;...</td>\n      <td>{'album': {'album_type': 'album', 'artists': [...</td>\n      <td>20</td>\n      <td>https://api.spotify.com/v1/search?query=cardi&amp;...</td>\n      <td>0</td>\n      <td>None</td>\n      <td>100005</td>\n    </tr>\n    <tr>\n      <th>9</th>\n      <td>https://api.spotify.com/v1/search?query=cardi&amp;...</td>\n      <td>{'album': {'album_type': 'album', 'artists': [...</td>\n      <td>20</td>\n      <td>https://api.spotify.com/v1/search?query=cardi&amp;...</td>\n      <td>0</td>\n      <td>None</td>\n      <td>100005</td>\n    </tr>\n    <tr>\n      <th>10</th>\n      <td>https://api.spotify.com/v1/search?query=cardi&amp;...</td>\n      <td>{'album': {'album_type': 'single', 'artists': ...</td>\n      <td>20</td>\n      <td>https://api.spotify.com/v1/search?query=cardi&amp;...</td>\n      <td>0</td>\n      <td>None</td>\n      <td>100005</td>\n    </tr>\n    <tr>\n      <th>11</th>\n      <td>https://api.spotify.com/v1/search?query=cardi&amp;...</td>\n      <td>{'album': {'album_type': 'single', 'artists': ...</td>\n      <td>20</td>\n      <td>https://api.spotify.com/v1/search?query=cardi&amp;...</td>\n      <td>0</td>\n      <td>None</td>\n      <td>100005</td>\n    </tr>\n    <tr>\n      <th>12</th>\n      <td>https://api.spotify.com/v1/search?query=cardi&amp;...</td>\n      <td>{'album': {'album_type': 'compilation', 'artis...</td>\n      <td>20</td>\n      <td>https://api.spotify.com/v1/search?query=cardi&amp;...</td>\n      <td>0</td>\n      <td>None</td>\n      <td>100005</td>\n    </tr>\n    <tr>\n      <th>13</th>\n      <td>https://api.spotify.com/v1/search?query=cardi&amp;...</td>\n      <td>{'album': {'album_type': 'single', 'artists': ...</td>\n      <td>20</td>\n      <td>https://api.spotify.com/v1/search?query=cardi&amp;...</td>\n      <td>0</td>\n      <td>None</td>\n      <td>100005</td>\n    </tr>\n    <tr>\n      <th>14</th>\n      <td>https://api.spotify.com/v1/search?query=cardi&amp;...</td>\n      <td>{'album': {'album_type': 'album', 'artists': [...</td>\n      <td>20</td>\n      <td>https://api.spotify.com/v1/search?query=cardi&amp;...</td>\n      <td>0</td>\n      <td>None</td>\n      <td>100005</td>\n    </tr>\n    <tr>\n      <th>15</th>\n      <td>https://api.spotify.com/v1/search?query=cardi&amp;...</td>\n      <td>{'album': {'album_type': 'album', 'artists': [...</td>\n      <td>20</td>\n      <td>https://api.spotify.com/v1/search?query=cardi&amp;...</td>\n      <td>0</td>\n      <td>None</td>\n      <td>100005</td>\n    </tr>\n    <tr>\n      <th>16</th>\n      <td>https://api.spotify.com/v1/search?query=cardi&amp;...</td>\n      <td>{'album': {'album_type': 'album', 'artists': [...</td>\n      <td>20</td>\n      <td>https://api.spotify.com/v1/search?query=cardi&amp;...</td>\n      <td>0</td>\n      <td>None</td>\n      <td>100005</td>\n    </tr>\n    <tr>\n      <th>17</th>\n      <td>https://api.spotify.com/v1/search?query=cardi&amp;...</td>\n      <td>{'album': {'album_type': 'album', 'artists': [...</td>\n      <td>20</td>\n      <td>https://api.spotify.com/v1/search?query=cardi&amp;...</td>\n      <td>0</td>\n      <td>None</td>\n      <td>100005</td>\n    </tr>\n    <tr>\n      <th>18</th>\n      <td>https://api.spotify.com/v1/search?query=cardi&amp;...</td>\n      <td>{'album': {'album_type': 'album', 'artists': [...</td>\n      <td>20</td>\n      <td>https://api.spotify.com/v1/search?query=cardi&amp;...</td>\n      <td>0</td>\n      <td>None</td>\n      <td>100005</td>\n    </tr>\n    <tr>\n      <th>19</th>\n      <td>https://api.spotify.com/v1/search?query=cardi&amp;...</td>\n      <td>{'album': {'album_type': 'album', 'artists': [...</td>\n      <td>20</td>\n      <td>https://api.spotify.com/v1/search?query=cardi&amp;...</td>\n      <td>0</td>\n      <td>None</td>\n      <td>100005</td>\n    </tr>\n  </tbody>\n</table>\n</div>"
     },
     "metadata": {},
     "execution_count": 18
    }
   ],
   "source": [
    "df"
   ]
  },
  {
   "cell_type": "code",
   "execution_count": 24,
   "metadata": {},
   "outputs": [],
   "source": [
    "# import spotipy\n",
    "# from spotipy.oauth2 import SpotifyOAuth\n",
    "\n",
    "# scope = 'user-top-read'\n",
    "# ranges = ['short_term', 'medium_term', 'long_term']\n",
    "\n",
    "# sp = spotipy.Spotify(auth_manager=SpotifyOAuth(scope=scope))\n",
    "\n",
    "# for sp_range in ['short_term', 'medium_term', 'long_term']:\n",
    "#     print(\"range:\", sp_range)\n",
    "\n",
    "#     results = sp.current_user_top_artists(time_range=sp_range, limit=50)\n",
    "\n",
    "#     for i, item in enumerate(results['items']):\n",
    "#         print(i, item['name'])\n",
    "#     print()"
   ]
  },
  {
   "cell_type": "code",
   "execution_count": 20,
   "metadata": {},
   "outputs": [],
   "source": [
    "from bs4 import BeautifulSoup\n",
    "import requests\n",
    "import random"
   ]
  },
  {
   "cell_type": "code",
   "execution_count": 22,
   "metadata": {},
   "outputs": [],
   "source": [
    "html_page = requests.get('https://www.lyrics.com/lyric/37397727/Cardi+B/WAP')\n",
    "soup = BeautifulSoup(html_page.content, 'html.parser')"
   ]
  },
  {
   "cell_type": "code",
   "execution_count": 23,
   "metadata": {},
   "outputs": [
    {
     "output_type": "stream",
     "name": "stdout",
     "text": [
      "(Whores in this house)\n(There's some whores in this house)\n(There's some whores in this house)\n(There's some whores in this house)\n\nI said, certified freak\nSeven days a week\nWet-ass pussy\nMake that pull-out game weak, woo\n\nYeah, yeah, yeah, yeah\nYeah, you fucking with some wet-ass pussy\nBring a bucket and a mop for this wet-ass pussy\nGive me everything you got for this wet-ass pussy\n\nBeat it up, nigga, catch a charge\nExtra large and extra hard\nPut this pussy right in your face\nSwipe your nose like a credit card\nHop on top, I wanna ride\nI do a kegel while it's inside\nSpit in my mouth, look in my eyes\nThis pussy is wet, come take a dive\nTie me up like I'm surprised\nLet's role play, I'll wear a disguise\nI want you to park that big Mack truck\nRight in this little garage\nMake it cream, make me scream\nOut in public, make a scene\nI don't cook, I don't clean\nBut let me tell you how I got this ring (ayy, ayy)\n\nGobble me, swallow me, drip down the side of me\nQuick, jump out 'fore you let it get inside of me\nI tell him where to put it, never tell him where I'm 'bout to be\nI'll run down on him 'fore I have a nigga running me\nTalk your shit, bite your lip\nAsk for a car while you ride that dick (while you ride that dick)\nYou really ain't never gotta f*ck him for a thang\nHe already made his mind up 'fore he came\nNow get your boots and your coat\nFor this wet-ass pussy\nHe bought a phone just for pictures\nOf this wet-ass pussy\nPay my tuition just to kiss me\nOn this wet-ass pussy\nNow make it rain if you wanna\nSee some wet-ass pussy\n\nLook, I need a hard hitter, I need a deep stroker\nI need a Henny drinker, I need a weed smoker\nNot a garden snake, I need a king cobra\nWith a hook in it, hope it lean over\nHe got some money, then that's where I'm headed\nPussy A1, just like his credit\nHe got a beard, well, I'm tryna wet it\nI let him taste it, now he diabetic\nI don't wanna spit, I wanna gulp\nI wanna gag, I wanna choke\nI want you to touch that lil' dangly thing\nThat swing in the back of my throat\nMy head game is fire, punani Dasani\nIt's going in dry and it's coming out soggy\nI ride on that thang like the cops is behind me\nI spit on his mic and now he tryna sign me, woo\n\nYour honor, I'm a freak bitch, handcuffs, leashes\nSwitch my wig, make him feel like he cheating\nPut him on his knees, give him something to believe in\nNever lost a fight, but I'm looking for a beating\nIn the food chain, I'm the one that eat ya\nIf he ate my ass, he's a bottom feeder\nBig D stand for big demeanor\nI could make you bust before I ever meet ya\nIf it don't hang, then he can't bang\nYou can't hurt my feelings, but I like pain\nIf he f*ck me and ask, \"Whose is it?\"\nWhen I ride the dick, I'ma spell my name\nAh (whores in this house)\n\nYeah, yeah, yeah\nYeah, you fucking with some wet-ass pussy\nBring a bucket and a mop for this wet-ass pussy\nGive me everything you got for this wet-ass pussy\nNow from the top, make it drop\nThat's some wet-ass pussy\nNow get a bucket and a mop\nThat's some wet-ass pussy\nI'm talking WAP, WAP, WAP\nThat's some wet-ass pussy\nMacaroni in a pot\nThat's some wet-ass pussy, huh\n\n(There's some whores in this house)\n(There's some whores in this house)\n(There's some whores in this house)\n(There's some whores in this house)\n(There's some whores in this house)\n(There's some whores in this house)\n(There's some whores in this house)\n(There's some whores in this house)\n(There's some whores in this house)\n(There's some whores in this house)\n(There's some whores in this house)\n(There's some whores in this house)\n"
     ]
    }
   ],
   "source": [
    "wap_lyrics = soup.find(class_=\"lyric-body\").text.strip()\n",
    "print(wap_lyrics)"
   ]
  },
  {
   "cell_type": "code",
   "execution_count": 25,
   "metadata": {},
   "outputs": [
    {
     "output_type": "stream",
     "name": "stdout",
     "text": [
      "0 Toxic\n1 Oops!...I Did It Again\n2 ...Baby One More Time\n3 Womanizer\n4 Scream & Shout\n5 Gimme More\n6 Circus\n7 Work Bitch\n8 My Only Wish (This Year)\n9 I'm a Slave 4 U\n10 If U Seek Amy\n11 Stronger\n12 Criminal\n13 Lucky\n14 Till the World Ends\n15 I Wanna Go\n16 Sometimes\n17 Piece of Me\n18 3\n19 (You Drive Me) Crazy\n"
     ]
    }
   ],
   "source": [
    "results = sp.search(q='britney', limit=20)\n",
    "for idx, track in enumerate(results['tracks']['items']):\n",
    "    print(idx, track['name'])"
   ]
  },
  {
   "cell_type": "code",
   "execution_count": 29,
   "metadata": {},
   "outputs": [
    {
     "output_type": "stream",
     "name": "stdout",
     "text": [
      "Toxic 80\nOops!...I Did It Again 78\n...Baby One More Time 77\nWomanizer 76\nScream & Shout 76\nGimme More 74\nCircus 71\nWork Bitch 71\nMy Only Wish (This Year) 69\nI'm a Slave 4 U 70\nIf U Seek Amy 67\nStronger 66\nCriminal 71\nLucky 66\nTill the World Ends 65\nI Wanna Go 66\nSometimes 68\nPiece of Me 65\n3 63\n(You Drive Me) Crazy 61\n"
     ]
    }
   ],
   "source": [
    "results = sp.search(q='britney', limit=20)\n",
    "for idx, track in enumerate(results['tracks']['items']):\n",
    "    print(track['name'], track['popularity'])"
   ]
  },
  {
   "cell_type": "code",
   "execution_count": 37,
   "metadata": {},
   "outputs": [],
   "source": [
    "# results['tracks']['items']"
   ]
  },
  {
   "cell_type": "code",
   "execution_count": 42,
   "metadata": {},
   "outputs": [],
   "source": [
    "# briteny_df = pd.DataFrame.from_dict(results['tracks']['items'])"
   ]
  },
  {
   "cell_type": "code",
   "execution_count": 43,
   "metadata": {},
   "outputs": [],
   "source": [
    "# britney_df"
   ]
  },
  {
   "cell_type": "code",
   "execution_count": 66,
   "metadata": {},
   "outputs": [
    {
     "output_type": "stream",
     "name": "stdout",
     "text": [
      "Toxic 80\nOops!...I Did It Again 78\n...Baby One More Time 77\nWomanizer 76\nScream & Shout 76\nGimme More 74\nCircus 71\nWork Bitch 71\nMy Only Wish (This Year) 69\nI'm a Slave 4 U 70\nIf U Seek Amy 67\nStronger 66\nCriminal 71\nLucky 66\nTill the World Ends 65\nI Wanna Go 66\nSometimes 68\nPiece of Me 65\n3 63\n(You Drive Me) Crazy 61\n"
     ]
    }
   ],
   "source": [
    "results = sp.search(q='britney', limit=20)\n",
    "britney = {}\n",
    "for idx, track in enumerate(results['tracks']['items']):\n",
    "    print(track['name'], track['popularity'])\n",
    "    britney[track['name']] = track['popularity']"
   ]
  },
  {
   "cell_type": "code",
   "execution_count": 68,
   "metadata": {},
   "outputs": [
    {
     "output_type": "execute_result",
     "data": {
      "text/plain": [
       "{'Toxic': 80,\n",
       " 'Oops!...I Did It Again': 78,\n",
       " '...Baby One More Time': 77,\n",
       " 'Womanizer': 76,\n",
       " 'Scream & Shout': 76,\n",
       " 'Gimme More': 74,\n",
       " 'Circus': 71,\n",
       " 'Work Bitch': 71,\n",
       " 'My Only Wish (This Year)': 69,\n",
       " \"I'm a Slave 4 U\": 70,\n",
       " 'If U Seek Amy': 67,\n",
       " 'Stronger': 66,\n",
       " 'Criminal': 71,\n",
       " 'Lucky': 66,\n",
       " 'Till the World Ends': 65,\n",
       " 'I Wanna Go': 66,\n",
       " 'Sometimes': 68,\n",
       " 'Piece of Me': 65,\n",
       " '3': 63,\n",
       " '(You Drive Me) Crazy': 61}"
      ]
     },
     "metadata": {},
     "execution_count": 68
    }
   ],
   "source": [
    "britney"
   ]
  },
  {
   "cell_type": "code",
   "execution_count": 51,
   "metadata": {},
   "outputs": [
    {
     "output_type": "stream",
     "name": "stdout",
     "text": [
      "{'(You Drive Me) Crazy': 61}\n{'(You Drive Me) Crazy': 61}\n{'(You Drive Me) Crazy': 61}\n{'(You Drive Me) Crazy': 61}\n{'(You Drive Me) Crazy': 61}\n{'(You Drive Me) Crazy': 61}\n{'(You Drive Me) Crazy': 61}\n{'(You Drive Me) Crazy': 61}\n{'(You Drive Me) Crazy': 61}\n{'(You Drive Me) Crazy': 61}\n{'(You Drive Me) Crazy': 61}\n{'(You Drive Me) Crazy': 61}\n{'(You Drive Me) Crazy': 61}\n{'(You Drive Me) Crazy': 61}\n{'(You Drive Me) Crazy': 61}\n{'(You Drive Me) Crazy': 61}\n{'(You Drive Me) Crazy': 61}\n{'(You Drive Me) Crazy': 61}\n{'(You Drive Me) Crazy': 61}\n{'(You Drive Me) Crazy': 61}\n"
     ]
    }
   ],
   "source": [
    "results = sp.search(q='britney', limit=20)\n",
    "for i in enumerate(results['tracks']['items']):\n",
    "    print({track['name'] : track['popularity']})"
   ]
  },
  {
   "cell_type": "code",
   "execution_count": 55,
   "metadata": {},
   "outputs": [],
   "source": [
    "# results = sp.search(q='britney', limit=20)\n",
    "# for i in range(0, results['tracks']['items']):\n",
    "#     print({track['name'][i] : track['popularity'][i]})"
   ]
  },
  {
   "cell_type": "code",
   "execution_count": 58,
   "metadata": {},
   "outputs": [],
   "source": [
    "results = sp.search(q='britney', limit=20)\n",
    "key = []\n",
    "value = []\n",
    "for idx, track in enumerate(results['tracks']['items']):\n",
    "    key.append(track['name']) \n",
    "    value.append(track['popularity'])"
   ]
  },
  {
   "cell_type": "code",
   "execution_count": 59,
   "metadata": {},
   "outputs": [
    {
     "output_type": "execute_result",
     "data": {
      "text/plain": [
       "(['Toxic',\n",
       "  'Oops!...I Did It Again',\n",
       "  '...Baby One More Time',\n",
       "  'Womanizer',\n",
       "  'Scream & Shout',\n",
       "  'Gimme More',\n",
       "  'Circus',\n",
       "  'Work Bitch',\n",
       "  'My Only Wish (This Year)',\n",
       "  \"I'm a Slave 4 U\",\n",
       "  'If U Seek Amy',\n",
       "  'Stronger',\n",
       "  'Criminal',\n",
       "  'Lucky',\n",
       "  'Till the World Ends',\n",
       "  'I Wanna Go',\n",
       "  'Sometimes',\n",
       "  'Piece of Me',\n",
       "  '3',\n",
       "  '(You Drive Me) Crazy'],\n",
       " [80,\n",
       "  78,\n",
       "  77,\n",
       "  76,\n",
       "  76,\n",
       "  74,\n",
       "  71,\n",
       "  71,\n",
       "  69,\n",
       "  70,\n",
       "  67,\n",
       "  66,\n",
       "  71,\n",
       "  66,\n",
       "  65,\n",
       "  66,\n",
       "  68,\n",
       "  65,\n",
       "  63,\n",
       "  61])"
      ]
     },
     "metadata": {},
     "execution_count": 59
    }
   ],
   "source": [
    "key, value"
   ]
  },
  {
   "cell_type": "code",
   "execution_count": 63,
   "metadata": {},
   "outputs": [
    {
     "output_type": "error",
     "ename": "TypeError",
     "evalue": "set expected at most 1 argument, got 2",
     "traceback": [
      "\u001b[1;31m---------------------------------------------------------------------------\u001b[0m",
      "\u001b[1;31mTypeError\u001b[0m                                 Traceback (most recent call last)",
      "\u001b[1;32m<ipython-input-63-2da647d3c708>\u001b[0m in \u001b[0;36m<module>\u001b[1;34m\u001b[0m\n\u001b[0;32m      3\u001b[0m \u001b[0mvalue\u001b[0m \u001b[1;33m=\u001b[0m \u001b[1;33m[\u001b[0m\u001b[1;33m]\u001b[0m\u001b[1;33m\u001b[0m\u001b[1;33m\u001b[0m\u001b[0m\n\u001b[0;32m      4\u001b[0m \u001b[1;32mfor\u001b[0m \u001b[0midx\u001b[0m\u001b[1;33m,\u001b[0m \u001b[0mtrack\u001b[0m \u001b[1;32min\u001b[0m \u001b[0menumerate\u001b[0m\u001b[1;33m(\u001b[0m\u001b[0mresults\u001b[0m\u001b[1;33m[\u001b[0m\u001b[1;34m'tracks'\u001b[0m\u001b[1;33m]\u001b[0m\u001b[1;33m[\u001b[0m\u001b[1;34m'items'\u001b[0m\u001b[1;33m]\u001b[0m\u001b[1;33m)\u001b[0m\u001b[1;33m:\u001b[0m\u001b[1;33m\u001b[0m\u001b[1;33m\u001b[0m\u001b[0m\n\u001b[1;32m----> 5\u001b[1;33m     \u001b[0mprint\u001b[0m\u001b[1;33m(\u001b[0m\u001b[0mset\u001b[0m\u001b[1;33m(\u001b[0m\u001b[0mtrack\u001b[0m\u001b[1;33m[\u001b[0m\u001b[1;34m'name'\u001b[0m\u001b[1;33m]\u001b[0m\u001b[1;33m,\u001b[0m \u001b[0mtrack\u001b[0m\u001b[1;33m[\u001b[0m\u001b[1;34m'popularity'\u001b[0m\u001b[1;33m]\u001b[0m\u001b[1;33m)\u001b[0m\u001b[1;33m)\u001b[0m\u001b[1;33m\u001b[0m\u001b[1;33m\u001b[0m\u001b[0m\n\u001b[0m",
      "\u001b[1;31mTypeError\u001b[0m: set expected at most 1 argument, got 2"
     ]
    }
   ],
   "source": [
    "results = sp.search(q='britney', limit=20)\n",
    "key = []\n",
    "value = []\n",
    "for idx, track in enumerate(results['tracks']['items']):\n",
    "    print(set(track['name'], track['popularity']))"
   ]
  },
  {
   "cell_type": "code",
   "execution_count": 65,
   "metadata": {},
   "outputs": [],
   "source": [
    "# britney = {}\n",
    "# for song in key:\n",
    "#     britney[song] = \n",
    "# brintey"
   ]
  },
  {
   "cell_type": "code",
   "execution_count": 69,
   "metadata": {},
   "outputs": [],
   "source": [
    "#genius\n",
    "# _M7YYVww3znjUv4L_10A1b1rObmnbj0B8JSrG5JceUZ0LcfVmfr73ZZ3H6ByBCJW - client id\n",
    "# JarELnHAXadjSZ6C8XFTSVyY5NIIkSDEgwuqBO5MKodLd-iMnrINrQL8kcNhbkpF - client access token"
   ]
  },
  {
   "cell_type": "code",
   "execution_count": 74,
   "metadata": {},
   "outputs": [
    {
     "output_type": "stream",
     "name": "stdout",
     "text": [
      "Searching for songs by Britney Spears...\n",
      "\n",
      "Song 1: \"3\"\n",
      "Song 2: \"3 (Groove Police Club Mix)\"\n",
      "Song 3: \"3 (Manhattan Clique Remix Club)\"\n",
      "\n",
      "Reached user-specified song limit (3).\n",
      "Done. Found 3 songs.\n",
      "[('3', 'Britney Spears'), ('3 (Groove Police Club Mix)', 'Britney Spears'), ('3 (Manhattan Clique Remix Club)', 'Britney Spears')]\n"
     ]
    }
   ],
   "source": [
    "import lyricsgenius\n",
    "genius = lyricsgenius.Genius(\"JarELnHAXadjSZ6C8XFTSVyY5NIIkSDEgwuqBO5MKodLd-iMnrINrQL8kcNhbkpF\")\n",
    "artist = genius.search_artist(\"Britney Spears\", max_songs=3, sort=\"title\")\n",
    "print(artist.songs)"
   ]
  },
  {
   "cell_type": "code",
   "execution_count": 75,
   "metadata": {},
   "outputs": [
    {
     "output_type": "stream",
     "name": "stdout",
     "text": [
      "Searching for \"I wanna go\" by Britney Spears...\n",
      "Done.\n",
      "[Verse 1]\n",
      "Lately, I've been stuck imagining\n",
      "What I wanna do and what I really think\n",
      "Time to blow out\n",
      "Be a little inappropriate\n",
      "'Cause I know that everybody's thinking it, when the light's out\n",
      "\n",
      "[Pre-Chorus]\n",
      "Shame on me\n",
      "To need release\n",
      "Uncontrollably\n",
      "\n",
      "[Chorus]\n",
      "I wanna go all the way\n",
      "Taking out my freak tonight\n",
      "I wanna show all the dirt I got running through my mind, woah\n",
      "I wanna go all the way\n",
      "Taking out my freak tonight\n",
      "I wanna show all the dirt I got running through my mind, whoa\n",
      "\n",
      "[Verse 2]\n",
      "Lately, people got me all tied up\n",
      "There's a countdown waiting for me to erupt\n",
      "Time to blow out\n",
      "I've been told just what to do with it\n",
      "To keep both my hands above the blanket, when the light's out\n",
      "\n",
      "[Pre-Chorus]\n",
      "Shame on me\n",
      "To need release\n",
      "Uncontrollably\n",
      "\n",
      "[Chorus]\n",
      "I wanna go all the way\n",
      "Taking out my freak tonight\n",
      "I wanna show all the dirt I got running through my mind, woah\n",
      "I wanna go all the way\n",
      "Taking out my freak tonight\n",
      "I wanna show all the dirt I got running through my mind, whoa\n",
      "\n",
      "[Breakdown]\n",
      "Shame on me (Shame on me)\n",
      "To need release (To need release)\n",
      "Uncontrollably (Uncontrollably, -lably, -lably, -lably...)\n",
      "\n",
      "[Chorus]\n",
      "I wanna go (I wanna go...) all the way\n",
      "Taking out my freak tonight\n",
      "I wanna show (I wanna show...) all the dirt I got running through my mind\n",
      "I wanna go all the way\n",
      "Taking out my freak tonight\n",
      "I wanna show all the dirt I got running through my mind, whoa\n"
     ]
    }
   ],
   "source": [
    "song = genius.search_song(\"I wanna go\", artist.name)\n",
    "print(song.lyrics)"
   ]
  },
  {
   "cell_type": "code",
   "execution_count": null,
   "metadata": {},
   "outputs": [],
   "source": []
  }
 ]
}