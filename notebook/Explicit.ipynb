{
 "metadata": {
  "language_info": {
   "codemirror_mode": {
    "name": "ipython",
    "version": 3
   },
   "file_extension": ".py",
   "mimetype": "text/x-python",
   "name": "python",
   "nbconvert_exporter": "python",
   "pygments_lexer": "ipython3",
   "version": "3.8.3-final"
  },
  "orig_nbformat": 2,
  "kernelspec": {
   "name": "learn-env",
   "display_name": "learn-env"
  }
 },
 "nbformat": 4,
 "nbformat_minor": 2,
 "cells": [
  {
   "cell_type": "code",
   "execution_count": 2,
   "metadata": {},
   "outputs": [],
   "source": [
    "import pandas as pd \n",
    "import matplotlib.pyplot as plt\n",
    "import numpy as np\n",
    "import requests\n",
    "import json\n",
    "import matplotlib.pyplot as plt\n",
    "import seaborn as sns"
   ]
  },
  {
   "cell_type": "code",
   "execution_count": 13,
   "metadata": {},
   "outputs": [],
   "source": [
    "# lets try to get some data from yelp!\n",
    "url = 'https://api.spotify.com/v1'\n",
    "response = requests.get(url)"
   ]
  },
  {
   "cell_type": "code",
   "execution_count": 4,
   "metadata": {},
   "outputs": [],
   "source": [
    "# 11be57c79dbd40c69e75f1b90431d529 - client ID"
   ]
  },
  {
   "cell_type": "code",
   "execution_count": 5,
   "metadata": {},
   "outputs": [],
   "source": [
    "# f4ab417ba6d54327a0b98ea12ceef847 - secret ID"
   ]
  },
  {
   "cell_type": "code",
   "execution_count": 8,
   "metadata": {},
   "outputs": [],
   "source": [
    "# import spotipy\n",
    "# from spotipy.oauth2 import SpotifyOAuth\n",
    "\n",
    "# scope = \"user-library-read\"\n",
    "\n",
    "# sp = spotipy.Spotify(auth_manager=SpotifyOAuth(scope=scope))\n",
    "\n",
    "# results = sp.current_user_saved_tracks()\n",
    "# for idx, item in enumerate(results['items']):\n",
    "#     track = item['track']\n",
    "#     print(idx, track['artists'][0]['name'], \" – \", track['name'])"
   ]
  },
  {
   "cell_type": "code",
   "execution_count": 9,
   "metadata": {},
   "outputs": [],
   "source": [
    "# export SPOTIPY_CLIENT_ID='11be57c79dbd40c69e75f1b90431d529'\n",
    "# export SPOTIPY_CLIENT_SECRET='your-spotify-client-secret'\n",
    "# export SPOTIPY_REDIRECT_URI='your-app-redirect-url'"
   ]
  },
  {
   "cell_type": "code",
   "execution_count": 12,
   "metadata": {},
   "outputs": [
    {
     "output_type": "stream",
     "name": "stdout",
     "text": [
      "0 cardigan\n1 WAP (feat. Megan Thee Stallion)\n2 Cardigan\n3 Cardiac Arrest\n4 I Like It\n5 Bet You Wanna (feat. Cardi B)\n6 Money\n7 cardigan - cabin in candlelight version\n8 Bodak Yellow\n9 Thru Your Phone\n10 Rodeo\n11 Please Me\n12 Girls Like You\n13 Finesse - Remix; feat. Cardi B\n14 Bartier Cardi (feat. 21 Savage)\n15 Clout (feat. Cardi B)\n16 Twerk (feat. Cardi B)\n17 Be Careful\n18 Girls Like You (feat. Cardi B)\n19 I Do (feat. SZA)\ndict_keys(['album', 'artists', 'available_markets', 'disc_number', 'duration_ms', 'explicit', 'external_ids', 'external_urls', 'href', 'id', 'is_local', 'name', 'popularity', 'preview_url', 'track_number', 'type', 'uri'])\n"
     ]
    }
   ],
   "source": [
    "import spotipy\n",
    "from spotipy.oauth2 import SpotifyClientCredentials\n",
    "\n",
    "sp = spotipy.Spotify(auth_manager=SpotifyClientCredentials(client_id=\"11be57c79dbd40c69e75f1b90431d529\",\n",
    "                                                           client_secret=\"f4ab417ba6d54327a0b98ea12ceef847\"))\n",
    "\n",
    "results = sp.search(q='cardi', limit=20)\n",
    "for idx, track in enumerate(results['tracks']['items']):\n",
    "    print(idx, track['name'])\n",
    "print(track.keys())"
   ]
  },
  {
   "cell_type": "code",
   "execution_count": 17,
   "metadata": {},
   "outputs": [],
   "source": [
    "df = pd.DataFrame.from_dict(results['tracks'])"
   ]
  },
  {
   "cell_type": "code",
   "execution_count": 18,
   "metadata": {},
   "outputs": [
    {
     "output_type": "execute_result",
     "data": {
      "text/plain": [
       "                                                 href  \\\n",
       "0   https://api.spotify.com/v1/search?query=cardi&...   \n",
       "1   https://api.spotify.com/v1/search?query=cardi&...   \n",
       "2   https://api.spotify.com/v1/search?query=cardi&...   \n",
       "3   https://api.spotify.com/v1/search?query=cardi&...   \n",
       "4   https://api.spotify.com/v1/search?query=cardi&...   \n",
       "5   https://api.spotify.com/v1/search?query=cardi&...   \n",
       "6   https://api.spotify.com/v1/search?query=cardi&...   \n",
       "7   https://api.spotify.com/v1/search?query=cardi&...   \n",
       "8   https://api.spotify.com/v1/search?query=cardi&...   \n",
       "9   https://api.spotify.com/v1/search?query=cardi&...   \n",
       "10  https://api.spotify.com/v1/search?query=cardi&...   \n",
       "11  https://api.spotify.com/v1/search?query=cardi&...   \n",
       "12  https://api.spotify.com/v1/search?query=cardi&...   \n",
       "13  https://api.spotify.com/v1/search?query=cardi&...   \n",
       "14  https://api.spotify.com/v1/search?query=cardi&...   \n",
       "15  https://api.spotify.com/v1/search?query=cardi&...   \n",
       "16  https://api.spotify.com/v1/search?query=cardi&...   \n",
       "17  https://api.spotify.com/v1/search?query=cardi&...   \n",
       "18  https://api.spotify.com/v1/search?query=cardi&...   \n",
       "19  https://api.spotify.com/v1/search?query=cardi&...   \n",
       "\n",
       "                                                items  limit  \\\n",
       "0   {'album': {'album_type': 'album', 'artists': [...     20   \n",
       "1   {'album': {'album_type': 'single', 'artists': ...     20   \n",
       "2   {'album': {'album_type': 'album', 'artists': [...     20   \n",
       "3   {'album': {'album_type': 'album', 'artists': [...     20   \n",
       "4   {'album': {'album_type': 'album', 'artists': [...     20   \n",
       "5   {'album': {'album_type': 'album', 'artists': [...     20   \n",
       "6   {'album': {'album_type': 'single', 'artists': ...     20   \n",
       "7   {'album': {'album_type': 'single', 'artists': ...     20   \n",
       "8   {'album': {'album_type': 'album', 'artists': [...     20   \n",
       "9   {'album': {'album_type': 'album', 'artists': [...     20   \n",
       "10  {'album': {'album_type': 'single', 'artists': ...     20   \n",
       "11  {'album': {'album_type': 'single', 'artists': ...     20   \n",
       "12  {'album': {'album_type': 'compilation', 'artis...     20   \n",
       "13  {'album': {'album_type': 'single', 'artists': ...     20   \n",
       "14  {'album': {'album_type': 'album', 'artists': [...     20   \n",
       "15  {'album': {'album_type': 'album', 'artists': [...     20   \n",
       "16  {'album': {'album_type': 'album', 'artists': [...     20   \n",
       "17  {'album': {'album_type': 'album', 'artists': [...     20   \n",
       "18  {'album': {'album_type': 'album', 'artists': [...     20   \n",
       "19  {'album': {'album_type': 'album', 'artists': [...     20   \n",
       "\n",
       "                                                 next  offset previous   total  \n",
       "0   https://api.spotify.com/v1/search?query=cardi&...       0     None  100005  \n",
       "1   https://api.spotify.com/v1/search?query=cardi&...       0     None  100005  \n",
       "2   https://api.spotify.com/v1/search?query=cardi&...       0     None  100005  \n",
       "3   https://api.spotify.com/v1/search?query=cardi&...       0     None  100005  \n",
       "4   https://api.spotify.com/v1/search?query=cardi&...       0     None  100005  \n",
       "5   https://api.spotify.com/v1/search?query=cardi&...       0     None  100005  \n",
       "6   https://api.spotify.com/v1/search?query=cardi&...       0     None  100005  \n",
       "7   https://api.spotify.com/v1/search?query=cardi&...       0     None  100005  \n",
       "8   https://api.spotify.com/v1/search?query=cardi&...       0     None  100005  \n",
       "9   https://api.spotify.com/v1/search?query=cardi&...       0     None  100005  \n",
       "10  https://api.spotify.com/v1/search?query=cardi&...       0     None  100005  \n",
       "11  https://api.spotify.com/v1/search?query=cardi&...       0     None  100005  \n",
       "12  https://api.spotify.com/v1/search?query=cardi&...       0     None  100005  \n",
       "13  https://api.spotify.com/v1/search?query=cardi&...       0     None  100005  \n",
       "14  https://api.spotify.com/v1/search?query=cardi&...       0     None  100005  \n",
       "15  https://api.spotify.com/v1/search?query=cardi&...       0     None  100005  \n",
       "16  https://api.spotify.com/v1/search?query=cardi&...       0     None  100005  \n",
       "17  https://api.spotify.com/v1/search?query=cardi&...       0     None  100005  \n",
       "18  https://api.spotify.com/v1/search?query=cardi&...       0     None  100005  \n",
       "19  https://api.spotify.com/v1/search?query=cardi&...       0     None  100005  "
      ],
      "text/html": "<div>\n<style scoped>\n    .dataframe tbody tr th:only-of-type {\n        vertical-align: middle;\n    }\n\n    .dataframe tbody tr th {\n        vertical-align: top;\n    }\n\n    .dataframe thead th {\n        text-align: right;\n    }\n</style>\n<table border=\"1\" class=\"dataframe\">\n  <thead>\n    <tr style=\"text-align: right;\">\n      <th></th>\n      <th>href</th>\n      <th>items</th>\n      <th>limit</th>\n      <th>next</th>\n      <th>offset</th>\n      <th>previous</th>\n      <th>total</th>\n    </tr>\n  </thead>\n  <tbody>\n    <tr>\n      <th>0</th>\n      <td>https://api.spotify.com/v1/search?query=cardi&amp;...</td>\n      <td>{'album': {'album_type': 'album', 'artists': [...</td>\n      <td>20</td>\n      <td>https://api.spotify.com/v1/search?query=cardi&amp;...</td>\n      <td>0</td>\n      <td>None</td>\n      <td>100005</td>\n    </tr>\n    <tr>\n      <th>1</th>\n      <td>https://api.spotify.com/v1/search?query=cardi&amp;...</td>\n      <td>{'album': {'album_type': 'single', 'artists': ...</td>\n      <td>20</td>\n      <td>https://api.spotify.com/v1/search?query=cardi&amp;...</td>\n      <td>0</td>\n      <td>None</td>\n      <td>100005</td>\n    </tr>\n    <tr>\n      <th>2</th>\n      <td>https://api.spotify.com/v1/search?query=cardi&amp;...</td>\n      <td>{'album': {'album_type': 'album', 'artists': [...</td>\n      <td>20</td>\n      <td>https://api.spotify.com/v1/search?query=cardi&amp;...</td>\n      <td>0</td>\n      <td>None</td>\n      <td>100005</td>\n    </tr>\n    <tr>\n      <th>3</th>\n      <td>https://api.spotify.com/v1/search?query=cardi&amp;...</td>\n      <td>{'album': {'album_type': 'album', 'artists': [...</td>\n      <td>20</td>\n      <td>https://api.spotify.com/v1/search?query=cardi&amp;...</td>\n      <td>0</td>\n      <td>None</td>\n      <td>100005</td>\n    </tr>\n    <tr>\n      <th>4</th>\n      <td>https://api.spotify.com/v1/search?query=cardi&amp;...</td>\n      <td>{'album': {'album_type': 'album', 'artists': [...</td>\n      <td>20</td>\n      <td>https://api.spotify.com/v1/search?query=cardi&amp;...</td>\n      <td>0</td>\n      <td>None</td>\n      <td>100005</td>\n    </tr>\n    <tr>\n      <th>5</th>\n      <td>https://api.spotify.com/v1/search?query=cardi&amp;...</td>\n      <td>{'album': {'album_type': 'album', 'artists': [...</td>\n      <td>20</td>\n      <td>https://api.spotify.com/v1/search?query=cardi&amp;...</td>\n      <td>0</td>\n      <td>None</td>\n      <td>100005</td>\n    </tr>\n    <tr>\n      <th>6</th>\n      <td>https://api.spotify.com/v1/search?query=cardi&amp;...</td>\n      <td>{'album': {'album_type': 'single', 'artists': ...</td>\n      <td>20</td>\n      <td>https://api.spotify.com/v1/search?query=cardi&amp;...</td>\n      <td>0</td>\n      <td>None</td>\n      <td>100005</td>\n    </tr>\n    <tr>\n      <th>7</th>\n      <td>https://api.spotify.com/v1/search?query=cardi&amp;...</td>\n      <td>{'album': {'album_type': 'single', 'artists': ...</td>\n      <td>20</td>\n      <td>https://api.spotify.com/v1/search?query=cardi&amp;...</td>\n      <td>0</td>\n      <td>None</td>\n      <td>100005</td>\n    </tr>\n    <tr>\n      <th>8</th>\n      <td>https://api.spotify.com/v1/search?query=cardi&amp;...</td>\n      <td>{'album': {'album_type': 'album', 'artists': [...</td>\n      <td>20</td>\n      <td>https://api.spotify.com/v1/search?query=cardi&amp;...</td>\n      <td>0</td>\n      <td>None</td>\n      <td>100005</td>\n    </tr>\n    <tr>\n      <th>9</th>\n      <td>https://api.spotify.com/v1/search?query=cardi&amp;...</td>\n      <td>{'album': {'album_type': 'album', 'artists': [...</td>\n      <td>20</td>\n      <td>https://api.spotify.com/v1/search?query=cardi&amp;...</td>\n      <td>0</td>\n      <td>None</td>\n      <td>100005</td>\n    </tr>\n    <tr>\n      <th>10</th>\n      <td>https://api.spotify.com/v1/search?query=cardi&amp;...</td>\n      <td>{'album': {'album_type': 'single', 'artists': ...</td>\n      <td>20</td>\n      <td>https://api.spotify.com/v1/search?query=cardi&amp;...</td>\n      <td>0</td>\n      <td>None</td>\n      <td>100005</td>\n    </tr>\n    <tr>\n      <th>11</th>\n      <td>https://api.spotify.com/v1/search?query=cardi&amp;...</td>\n      <td>{'album': {'album_type': 'single', 'artists': ...</td>\n      <td>20</td>\n      <td>https://api.spotify.com/v1/search?query=cardi&amp;...</td>\n      <td>0</td>\n      <td>None</td>\n      <td>100005</td>\n    </tr>\n    <tr>\n      <th>12</th>\n      <td>https://api.spotify.com/v1/search?query=cardi&amp;...</td>\n      <td>{'album': {'album_type': 'compilation', 'artis...</td>\n      <td>20</td>\n      <td>https://api.spotify.com/v1/search?query=cardi&amp;...</td>\n      <td>0</td>\n      <td>None</td>\n      <td>100005</td>\n    </tr>\n    <tr>\n      <th>13</th>\n      <td>https://api.spotify.com/v1/search?query=cardi&amp;...</td>\n      <td>{'album': {'album_type': 'single', 'artists': ...</td>\n      <td>20</td>\n      <td>https://api.spotify.com/v1/search?query=cardi&amp;...</td>\n      <td>0</td>\n      <td>None</td>\n      <td>100005</td>\n    </tr>\n    <tr>\n      <th>14</th>\n      <td>https://api.spotify.com/v1/search?query=cardi&amp;...</td>\n      <td>{'album': {'album_type': 'album', 'artists': [...</td>\n      <td>20</td>\n      <td>https://api.spotify.com/v1/search?query=cardi&amp;...</td>\n      <td>0</td>\n      <td>None</td>\n      <td>100005</td>\n    </tr>\n    <tr>\n      <th>15</th>\n      <td>https://api.spotify.com/v1/search?query=cardi&amp;...</td>\n      <td>{'album': {'album_type': 'album', 'artists': [...</td>\n      <td>20</td>\n      <td>https://api.spotify.com/v1/search?query=cardi&amp;...</td>\n      <td>0</td>\n      <td>None</td>\n      <td>100005</td>\n    </tr>\n    <tr>\n      <th>16</th>\n      <td>https://api.spotify.com/v1/search?query=cardi&amp;...</td>\n      <td>{'album': {'album_type': 'album', 'artists': [...</td>\n      <td>20</td>\n      <td>https://api.spotify.com/v1/search?query=cardi&amp;...</td>\n      <td>0</td>\n      <td>None</td>\n      <td>100005</td>\n    </tr>\n    <tr>\n      <th>17</th>\n      <td>https://api.spotify.com/v1/search?query=cardi&amp;...</td>\n      <td>{'album': {'album_type': 'album', 'artists': [...</td>\n      <td>20</td>\n      <td>https://api.spotify.com/v1/search?query=cardi&amp;...</td>\n      <td>0</td>\n      <td>None</td>\n      <td>100005</td>\n    </tr>\n    <tr>\n      <th>18</th>\n      <td>https://api.spotify.com/v1/search?query=cardi&amp;...</td>\n      <td>{'album': {'album_type': 'album', 'artists': [...</td>\n      <td>20</td>\n      <td>https://api.spotify.com/v1/search?query=cardi&amp;...</td>\n      <td>0</td>\n      <td>None</td>\n      <td>100005</td>\n    </tr>\n    <tr>\n      <th>19</th>\n      <td>https://api.spotify.com/v1/search?query=cardi&amp;...</td>\n      <td>{'album': {'album_type': 'album', 'artists': [...</td>\n      <td>20</td>\n      <td>https://api.spotify.com/v1/search?query=cardi&amp;...</td>\n      <td>0</td>\n      <td>None</td>\n      <td>100005</td>\n    </tr>\n  </tbody>\n</table>\n</div>"
     },
     "metadata": {},
     "execution_count": 18
    }
   ],
   "source": [
    "df"
   ]
  },
  {
   "cell_type": "code",
   "execution_count": 19,
   "metadata": {},
   "outputs": [
    {
     "output_type": "error",
     "ename": "SpotifyOauthError",
     "evalue": "No client_id. Pass it or set a SPOTIPY_CLIENT_ID environment variable.",
     "traceback": [
      "\u001b[1;31m---------------------------------------------------------------------------\u001b[0m",
      "\u001b[1;31mSpotifyOauthError\u001b[0m                         Traceback (most recent call last)",
      "\u001b[1;32m<ipython-input-19-cb00872adef2>\u001b[0m in \u001b[0;36m<module>\u001b[1;34m\u001b[0m\n\u001b[0;32m      5\u001b[0m \u001b[0mranges\u001b[0m \u001b[1;33m=\u001b[0m \u001b[1;33m[\u001b[0m\u001b[1;34m'short_term'\u001b[0m\u001b[1;33m,\u001b[0m \u001b[1;34m'medium_term'\u001b[0m\u001b[1;33m,\u001b[0m \u001b[1;34m'long_term'\u001b[0m\u001b[1;33m]\u001b[0m\u001b[1;33m\u001b[0m\u001b[1;33m\u001b[0m\u001b[0m\n\u001b[0;32m      6\u001b[0m \u001b[1;33m\u001b[0m\u001b[0m\n\u001b[1;32m----> 7\u001b[1;33m \u001b[0msp\u001b[0m \u001b[1;33m=\u001b[0m \u001b[0mspotipy\u001b[0m\u001b[1;33m.\u001b[0m\u001b[0mSpotify\u001b[0m\u001b[1;33m(\u001b[0m\u001b[0mauth_manager\u001b[0m\u001b[1;33m=\u001b[0m\u001b[0mSpotifyOAuth\u001b[0m\u001b[1;33m(\u001b[0m\u001b[0mscope\u001b[0m\u001b[1;33m=\u001b[0m\u001b[0mscope\u001b[0m\u001b[1;33m)\u001b[0m\u001b[1;33m)\u001b[0m\u001b[1;33m\u001b[0m\u001b[1;33m\u001b[0m\u001b[0m\n\u001b[0m\u001b[0;32m      8\u001b[0m \u001b[1;33m\u001b[0m\u001b[0m\n\u001b[0;32m      9\u001b[0m \u001b[1;32mfor\u001b[0m \u001b[0msp_range\u001b[0m \u001b[1;32min\u001b[0m \u001b[1;33m[\u001b[0m\u001b[1;34m'short_term'\u001b[0m\u001b[1;33m,\u001b[0m \u001b[1;34m'medium_term'\u001b[0m\u001b[1;33m,\u001b[0m \u001b[1;34m'long_term'\u001b[0m\u001b[1;33m]\u001b[0m\u001b[1;33m:\u001b[0m\u001b[1;33m\u001b[0m\u001b[1;33m\u001b[0m\u001b[0m\n",
      "\u001b[1;32m~\\anaconda3\\lib\\site-packages\\spotipy\\oauth2.py\u001b[0m in \u001b[0;36m__init__\u001b[1;34m(self, client_id, client_secret, redirect_uri, state, scope, cache_path, username, proxies, show_dialog, requests_session, requests_timeout, open_browser)\u001b[0m\n\u001b[0;32m    271\u001b[0m         \u001b[0msuper\u001b[0m\u001b[1;33m(\u001b[0m\u001b[0mSpotifyOAuth\u001b[0m\u001b[1;33m,\u001b[0m \u001b[0mself\u001b[0m\u001b[1;33m)\u001b[0m\u001b[1;33m.\u001b[0m\u001b[0m__init__\u001b[0m\u001b[1;33m(\u001b[0m\u001b[0mrequests_session\u001b[0m\u001b[1;33m)\u001b[0m\u001b[1;33m\u001b[0m\u001b[1;33m\u001b[0m\u001b[0m\n\u001b[0;32m    272\u001b[0m \u001b[1;33m\u001b[0m\u001b[0m\n\u001b[1;32m--> 273\u001b[1;33m         \u001b[0mself\u001b[0m\u001b[1;33m.\u001b[0m\u001b[0mclient_id\u001b[0m \u001b[1;33m=\u001b[0m \u001b[0mclient_id\u001b[0m\u001b[1;33m\u001b[0m\u001b[1;33m\u001b[0m\u001b[0m\n\u001b[0m\u001b[0;32m    274\u001b[0m         \u001b[0mself\u001b[0m\u001b[1;33m.\u001b[0m\u001b[0mclient_secret\u001b[0m \u001b[1;33m=\u001b[0m \u001b[0mclient_secret\u001b[0m\u001b[1;33m\u001b[0m\u001b[1;33m\u001b[0m\u001b[0m\n\u001b[0;32m    275\u001b[0m         \u001b[0mself\u001b[0m\u001b[1;33m.\u001b[0m\u001b[0mredirect_uri\u001b[0m \u001b[1;33m=\u001b[0m \u001b[0mredirect_uri\u001b[0m\u001b[1;33m\u001b[0m\u001b[1;33m\u001b[0m\u001b[0m\n",
      "\u001b[1;32m~\\anaconda3\\lib\\site-packages\\spotipy\\oauth2.py\u001b[0m in \u001b[0;36mclient_id\u001b[1;34m(self, val)\u001b[0m\n\u001b[0;32m    107\u001b[0m     \u001b[1;33m@\u001b[0m\u001b[0mclient_id\u001b[0m\u001b[1;33m.\u001b[0m\u001b[0msetter\u001b[0m\u001b[1;33m\u001b[0m\u001b[1;33m\u001b[0m\u001b[0m\n\u001b[0;32m    108\u001b[0m     \u001b[1;32mdef\u001b[0m \u001b[0mclient_id\u001b[0m\u001b[1;33m(\u001b[0m\u001b[0mself\u001b[0m\u001b[1;33m,\u001b[0m \u001b[0mval\u001b[0m\u001b[1;33m)\u001b[0m\u001b[1;33m:\u001b[0m\u001b[1;33m\u001b[0m\u001b[1;33m\u001b[0m\u001b[0m\n\u001b[1;32m--> 109\u001b[1;33m         \u001b[0mself\u001b[0m\u001b[1;33m.\u001b[0m\u001b[0m_client_id\u001b[0m \u001b[1;33m=\u001b[0m \u001b[0m_ensure_value\u001b[0m\u001b[1;33m(\u001b[0m\u001b[0mval\u001b[0m\u001b[1;33m,\u001b[0m \u001b[1;34m\"client_id\"\u001b[0m\u001b[1;33m)\u001b[0m\u001b[1;33m\u001b[0m\u001b[1;33m\u001b[0m\u001b[0m\n\u001b[0m\u001b[0;32m    110\u001b[0m \u001b[1;33m\u001b[0m\u001b[0m\n\u001b[0;32m    111\u001b[0m     \u001b[1;33m@\u001b[0m\u001b[0mproperty\u001b[0m\u001b[1;33m\u001b[0m\u001b[1;33m\u001b[0m\u001b[0m\n",
      "\u001b[1;32m~\\anaconda3\\lib\\site-packages\\spotipy\\oauth2.py\u001b[0m in \u001b[0;36m_ensure_value\u001b[1;34m(value, env_key)\u001b[0m\n\u001b[0;32m     75\u001b[0m             \u001b[0menv_val\u001b[0m\u001b[1;33m,\u001b[0m\u001b[1;33m\u001b[0m\u001b[1;33m\u001b[0m\u001b[0m\n\u001b[0;32m     76\u001b[0m         )\n\u001b[1;32m---> 77\u001b[1;33m         \u001b[1;32mraise\u001b[0m \u001b[0mSpotifyOauthError\u001b[0m\u001b[1;33m(\u001b[0m\u001b[0mmsg\u001b[0m\u001b[1;33m)\u001b[0m\u001b[1;33m\u001b[0m\u001b[1;33m\u001b[0m\u001b[0m\n\u001b[0m\u001b[0;32m     78\u001b[0m     \u001b[1;32mreturn\u001b[0m \u001b[0m_val\u001b[0m\u001b[1;33m\u001b[0m\u001b[1;33m\u001b[0m\u001b[0m\n\u001b[0;32m     79\u001b[0m \u001b[1;33m\u001b[0m\u001b[0m\n",
      "\u001b[1;31mSpotifyOauthError\u001b[0m: No client_id. Pass it or set a SPOTIPY_CLIENT_ID environment variable."
     ]
    }
   ],
   "source": [
    "import spotipy\n",
    "from spotipy.oauth2 import SpotifyOAuth\n",
    "\n",
    "scope = 'user-top-read'\n",
    "ranges = ['short_term', 'medium_term', 'long_term']\n",
    "\n",
    "sp = spotipy.Spotify(auth_manager=SpotifyOAuth(scope=scope))\n",
    "\n",
    "for sp_range in ['short_term', 'medium_term', 'long_term']:\n",
    "    print(\"range:\", sp_range)\n",
    "\n",
    "    results = sp.current_user_top_artists(time_range=sp_range, limit=50)\n",
    "\n",
    "    for i, item in enumerate(results['items']):\n",
    "        print(i, item['name'])\n",
    "    print()"
   ]
  },
  {
   "cell_type": "code",
   "execution_count": null,
   "metadata": {},
   "outputs": [],
   "source": []
  }
 ]
}