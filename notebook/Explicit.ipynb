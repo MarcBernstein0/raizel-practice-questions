{
 "metadata": {
  "language_info": {
   "codemirror_mode": {
    "name": "ipython",
    "version": 3
   },
   "file_extension": ".py",
   "mimetype": "text/x-python",
   "name": "python",
   "nbconvert_exporter": "python",
   "pygments_lexer": "ipython3",
   "version": "3.8.3-final"
  },
  "orig_nbformat": 2,
  "kernelspec": {
   "name": "learn-env",
   "display_name": "learn-env"
  }
 },
 "nbformat": 4,
 "nbformat_minor": 2,
 "cells": [
  {
   "cell_type": "code",
   "execution_count": 2,
   "metadata": {},
   "outputs": [],
   "source": [
    "import pandas as pd \n",
    "import matplotlib.pyplot as plt\n",
    "import numpy as np\n",
    "import requests\n",
    "import json\n",
    "import matplotlib.pyplot as plt\n",
    "import seaborn as sns"
   ]
  },
  {
   "cell_type": "code",
   "execution_count": 3,
   "metadata": {},
   "outputs": [],
   "source": [
    "# lets try to get some data from yelp!\n",
    "url = 'https://api.spotify.com/v1'\n",
    "response = requests.get(url)"
   ]
  },
  {
   "cell_type": "code",
   "execution_count": 5,
   "metadata": {},
   "outputs": [],
   "source": [
    "# 11be57c79dbd40c69e75f1b90431d529 - client ID"
   ]
  },
  {
   "cell_type": "code",
   "execution_count": 4,
   "metadata": {},
   "outputs": [],
   "source": [
    "# f4ab417ba6d54327a0b98ea12ceef847 - secret ID"
   ]
  },
  {
   "cell_type": "code",
   "execution_count": 6,
   "metadata": {},
   "outputs": [],
   "source": [
    "# import spotipy\n",
    "# from spotipy.oauth2 import SpotifyOAuth\n",
    "\n",
    "# scope = \"user-library-read\"\n",
    "\n",
    "# sp = spotipy.Spotify(auth_manager=SpotifyOAuth(scope=scope))\n",
    "\n",
    "# results = sp.current_user_saved_tracks()\n",
    "# for idx, item in enumerate(results['items']):\n",
    "#     track = item['track']\n",
    "#     print(idx, track['artists'][0]['name'], \" – \", track['name'])"
   ]
  },
  {
   "cell_type": "code",
   "execution_count": 7,
   "metadata": {},
   "outputs": [],
   "source": [
    "# export SPOTIPY_CLIENT_ID='11be57c79dbd40c69e75f1b90431d529'\n",
    "# export SPOTIPY_CLIENT_SECRET='your-spotify-client-secret'\n",
    "# export SPOTIPY_REDIRECT_URI='your-app-redirect-url'"
   ]
  },
  {
   "cell_type": "code",
   "execution_count": null,
   "metadata": {},
   "outputs": [],
   "source": [
    "import spotipy\n",
    "from spotipy.oauth2 import SpotifyClientCredentials\n",
    "\n",
    "sp = spotipy.Spotify(auth_manager=SpotifyClientCredentials(client_id=\"11be57c79dbd40c69e75f1b90431d529\",\n",
    "                                                           client_secret=\"f4ab417ba6d54327a0b98ea12ceef847\"))\n",
    "\n",
    "results = sp.search(q='cardi', limit=20)\n",
    "for idx, track in enumerate(results['tracks']['items']):\n",
    "    print(idx, track['name'])\n",
    "print(track.keys())"
   ]
  },
  {
   "cell_type": "code",
   "execution_count": null,
   "metadata": {},
   "outputs": [],
   "source": [
    "df = pd.DataFrame.from_dict(results['tracks'])"
   ]
  },
  {
   "cell_type": "code",
   "execution_count": 8,
   "metadata": {},
   "outputs": [
    {
     "output_type": "error",
     "ename": "NameError",
     "evalue": "name 'df' is not defined",
     "traceback": [
      "\u001b[1;31m---------------------------------------------------------------------------\u001b[0m",
      "\u001b[1;31mNameError\u001b[0m                                 Traceback (most recent call last)",
      "\u001b[1;32m<ipython-input-8-00cf07b74dcd>\u001b[0m in \u001b[0;36m<module>\u001b[1;34m\u001b[0m\n\u001b[1;32m----> 1\u001b[1;33m \u001b[0mdf\u001b[0m\u001b[1;33m\u001b[0m\u001b[1;33m\u001b[0m\u001b[0m\n\u001b[0m",
      "\u001b[1;31mNameError\u001b[0m: name 'df' is not defined"
     ]
    }
   ],
   "source": [
    "df"
   ]
  },
  {
   "cell_type": "code",
   "execution_count": null,
   "metadata": {},
   "outputs": [],
   "source": [
    "# import spotipy\n",
    "# from spotipy.oauth2 import SpotifyOAuth\n",
    "\n",
    "# scope = 'user-top-read'\n",
    "# ranges = ['short_term', 'medium_term', 'long_term']\n",
    "\n",
    "# sp = spotipy.Spotify(auth_manager=SpotifyOAuth(scope=scope))\n",
    "\n",
    "# for sp_range in ['short_term', 'medium_term', 'long_term']:\n",
    "#     print(\"range:\", sp_range)\n",
    "\n",
    "#     results = sp.current_user_top_artists(time_range=sp_range, limit=50)\n",
    "\n",
    "#     for i, item in enumerate(results['items']):\n",
    "#         print(i, item['name'])\n",
    "#     print()"
   ]
  },
  {
   "cell_type": "code",
   "execution_count": 1,
   "metadata": {},
   "outputs": [],
   "source": [
    "from bs4 import BeautifulSoup\n",
    "import requests\n",
    "import random"
   ]
  },
  {
   "cell_type": "code",
   "execution_count": null,
   "metadata": {},
   "outputs": [],
   "source": [
    "html_page = requests.get('https://www.lyrics.com/lyric/37397727/Cardi+B/WAP')\n",
    "soup = BeautifulSoup(html_page.content, 'html.parser')"
   ]
  },
  {
   "cell_type": "code",
   "execution_count": null,
   "metadata": {},
   "outputs": [],
   "source": [
    "wap_lyrics = soup.find(class_=\"lyric-body\").text.strip()\n",
    "print(wap_lyrics)"
   ]
  },
  {
   "cell_type": "code",
   "execution_count": null,
   "metadata": {},
   "outputs": [],
   "source": [
    "results = sp.search(q='britney', limit=20)\n",
    "for idx, track in enumerate(results['tracks']['items']):\n",
    "    print(idx, track['name'])"
   ]
  },
  {
   "cell_type": "code",
   "execution_count": null,
   "metadata": {},
   "outputs": [],
   "source": [
    "results = sp.search(q='britney', limit=20)\n",
    "for idx, track in enumerate(results['tracks']['items']):\n",
    "    print(track['name'], track['popularity'])"
   ]
  },
  {
   "cell_type": "code",
   "execution_count": null,
   "metadata": {},
   "outputs": [],
   "source": [
    "# results['tracks']['items']"
   ]
  },
  {
   "cell_type": "code",
   "execution_count": null,
   "metadata": {},
   "outputs": [],
   "source": [
    "# briteny_df = pd.DataFrame.from_dict(results['tracks']['items'])"
   ]
  },
  {
   "cell_type": "code",
   "execution_count": null,
   "metadata": {},
   "outputs": [],
   "source": [
    "# britney_df"
   ]
  },
  {
   "cell_type": "code",
   "execution_count": null,
   "metadata": {},
   "outputs": [],
   "source": [
    "results = sp.search(q='britney', limit=20)\n",
    "britney = {}\n",
    "for idx, track in enumerate(results['tracks']['items']):\n",
    "    print(track['name'], track['popularity'])\n",
    "    britney[track['name']] = track['popularity']"
   ]
  },
  {
   "cell_type": "code",
   "execution_count": 20,
   "metadata": {},
   "outputs": [
    {
     "output_type": "execute_result",
     "data": {
      "text/plain": [
       "{'Toxic': 80,\n",
       " 'Oops!...I Did It Again': 78,\n",
       " '...Baby One More Time': 77,\n",
       " 'Womanizer': 76,\n",
       " 'Scream & Shout': 75,\n",
       " 'Gimme More': 74,\n",
       " 'Circus': 71,\n",
       " 'My Only Wish (This Year)': 71,\n",
       " 'Work Bitch': 71,\n",
       " \"I'm a Slave 4 U\": 70,\n",
       " 'If U Seek Amy': 67,\n",
       " 'Stronger': 66,\n",
       " 'Criminal': 71,\n",
       " 'Lucky': 66,\n",
       " 'Till the World Ends': 65,\n",
       " 'I Wanna Go': 66,\n",
       " 'Sometimes': 68,\n",
       " 'Piece of Me': 65,\n",
       " '3': 63,\n",
       " '(You Drive Me) Crazy': 61}"
      ]
     },
     "metadata": {},
     "execution_count": 20
    }
   ],
   "source": [
    "britney"
   ]
  },
  {
   "cell_type": "code",
   "execution_count": 21,
   "metadata": {},
   "outputs": [
    {
     "output_type": "stream",
     "name": "stdout",
     "text": [
      "{'(You Drive Me) Crazy': 61}\n",
      "{'(You Drive Me) Crazy': 61}\n",
      "{'(You Drive Me) Crazy': 61}\n",
      "{'(You Drive Me) Crazy': 61}\n",
      "{'(You Drive Me) Crazy': 61}\n",
      "{'(You Drive Me) Crazy': 61}\n",
      "{'(You Drive Me) Crazy': 61}\n",
      "{'(You Drive Me) Crazy': 61}\n",
      "{'(You Drive Me) Crazy': 61}\n",
      "{'(You Drive Me) Crazy': 61}\n",
      "{'(You Drive Me) Crazy': 61}\n",
      "{'(You Drive Me) Crazy': 61}\n",
      "{'(You Drive Me) Crazy': 61}\n",
      "{'(You Drive Me) Crazy': 61}\n",
      "{'(You Drive Me) Crazy': 61}\n",
      "{'(You Drive Me) Crazy': 61}\n",
      "{'(You Drive Me) Crazy': 61}\n",
      "{'(You Drive Me) Crazy': 61}\n",
      "{'(You Drive Me) Crazy': 61}\n",
      "{'(You Drive Me) Crazy': 61}\n"
     ]
    }
   ],
   "source": [
    "results = sp.search(q='britney', limit=20)\n",
    "for i in enumerate(results['tracks']['items']):\n",
    "    print({track['name'] : track['popularity']})"
   ]
  },
  {
   "cell_type": "code",
   "execution_count": 22,
   "metadata": {},
   "outputs": [],
   "source": [
    "# results = sp.search(q='britney', limit=20)\n",
    "# for i in range(0, results['tracks']['items']):\n",
    "#     print({track['name'][i] : track['popularity'][i]})"
   ]
  },
  {
   "cell_type": "code",
   "execution_count": 23,
   "metadata": {},
   "outputs": [],
   "source": [
    "results = sp.search(q='britney', limit=20)\n",
    "key = []\n",
    "value = []\n",
    "for idx, track in enumerate(results['tracks']['items']):\n",
    "    key.append(track['name']) \n",
    "    value.append(track['popularity'])"
   ]
  },
  {
   "cell_type": "code",
   "execution_count": 24,
   "metadata": {},
   "outputs": [
    {
     "output_type": "execute_result",
     "data": {
      "text/plain": [
       "(['Toxic',\n",
       "  'Oops!...I Did It Again',\n",
       "  '...Baby One More Time',\n",
       "  'Womanizer',\n",
       "  'Scream & Shout',\n",
       "  'Gimme More',\n",
       "  'Circus',\n",
       "  'My Only Wish (This Year)',\n",
       "  'Work Bitch',\n",
       "  \"I'm a Slave 4 U\",\n",
       "  'If U Seek Amy',\n",
       "  'Stronger',\n",
       "  'Criminal',\n",
       "  'Lucky',\n",
       "  'Till the World Ends',\n",
       "  'I Wanna Go',\n",
       "  'Sometimes',\n",
       "  'Piece of Me',\n",
       "  '3',\n",
       "  '(You Drive Me) Crazy'],\n",
       " [80,\n",
       "  78,\n",
       "  77,\n",
       "  76,\n",
       "  75,\n",
       "  74,\n",
       "  71,\n",
       "  71,\n",
       "  71,\n",
       "  70,\n",
       "  67,\n",
       "  66,\n",
       "  71,\n",
       "  66,\n",
       "  65,\n",
       "  66,\n",
       "  68,\n",
       "  65,\n",
       "  63,\n",
       "  61])"
      ]
     },
     "metadata": {},
     "execution_count": 24
    }
   ],
   "source": [
    "key, value"
   ]
  },
  {
   "cell_type": "code",
   "execution_count": 25,
   "metadata": {},
   "outputs": [
    {
     "output_type": "error",
     "ename": "TypeError",
     "evalue": "set expected at most 1 argument, got 2",
     "traceback": [
      "\u001b[1;31m---------------------------------------------------------------------------\u001b[0m",
      "\u001b[1;31mTypeError\u001b[0m                                 Traceback (most recent call last)",
      "\u001b[1;32m<ipython-input-25-2da647d3c708>\u001b[0m in \u001b[0;36m<module>\u001b[1;34m\u001b[0m\n\u001b[0;32m      3\u001b[0m \u001b[0mvalue\u001b[0m \u001b[1;33m=\u001b[0m \u001b[1;33m[\u001b[0m\u001b[1;33m]\u001b[0m\u001b[1;33m\u001b[0m\u001b[1;33m\u001b[0m\u001b[0m\n\u001b[0;32m      4\u001b[0m \u001b[1;32mfor\u001b[0m \u001b[0midx\u001b[0m\u001b[1;33m,\u001b[0m \u001b[0mtrack\u001b[0m \u001b[1;32min\u001b[0m \u001b[0menumerate\u001b[0m\u001b[1;33m(\u001b[0m\u001b[0mresults\u001b[0m\u001b[1;33m[\u001b[0m\u001b[1;34m'tracks'\u001b[0m\u001b[1;33m]\u001b[0m\u001b[1;33m[\u001b[0m\u001b[1;34m'items'\u001b[0m\u001b[1;33m]\u001b[0m\u001b[1;33m)\u001b[0m\u001b[1;33m:\u001b[0m\u001b[1;33m\u001b[0m\u001b[1;33m\u001b[0m\u001b[0m\n\u001b[1;32m----> 5\u001b[1;33m     \u001b[0mprint\u001b[0m\u001b[1;33m(\u001b[0m\u001b[0mset\u001b[0m\u001b[1;33m(\u001b[0m\u001b[0mtrack\u001b[0m\u001b[1;33m[\u001b[0m\u001b[1;34m'name'\u001b[0m\u001b[1;33m]\u001b[0m\u001b[1;33m,\u001b[0m \u001b[0mtrack\u001b[0m\u001b[1;33m[\u001b[0m\u001b[1;34m'popularity'\u001b[0m\u001b[1;33m]\u001b[0m\u001b[1;33m)\u001b[0m\u001b[1;33m)\u001b[0m\u001b[1;33m\u001b[0m\u001b[1;33m\u001b[0m\u001b[0m\n\u001b[0m",
      "\u001b[1;31mTypeError\u001b[0m: set expected at most 1 argument, got 2"
     ]
    }
   ],
   "source": [
    "results = sp.search(q='britney', limit=20)\n",
    "key = []\n",
    "value = []\n",
    "for idx, track in enumerate(results['tracks']['items']):\n",
    "    print(set(track['name'], track['popularity']))"
   ]
  },
  {
   "cell_type": "code",
   "execution_count": 26,
   "metadata": {},
   "outputs": [],
   "source": [
    "# britney = {}\n",
    "# for song in key:\n",
    "#     britney[song] = \n",
    "# brintey"
   ]
  },
  {
   "cell_type": "code",
   "execution_count": 27,
   "metadata": {},
   "outputs": [],
   "source": [
    "#genius\n",
    "# _M7YYVww3znjUv4L_10A1b1rObmnbj0B8JSrG5JceUZ0LcfVmfr73ZZ3H6ByBCJW - client id\n",
    "# JarELnHAXadjSZ6C8XFTSVyY5NIIkSDEgwuqBO5MKodLd-iMnrINrQL8kcNhbkpF - client access token"
   ]
  },
  {
   "cell_type": "code",
   "execution_count": 28,
   "metadata": {},
   "outputs": [
    {
     "output_type": "stream",
     "name": "stdout",
     "text": [
      "Searching for songs by Britney Spears...\n",
      "\n",
      "Song 1: \"3\"\n",
      "Song 2: \"3 (Groove Police Club Mix)\"\n",
      "Song 3: \"3 (Manhattan Clique Remix Club)\"\n",
      "\n",
      "Reached user-specified song limit (3).\n",
      "Done. Found 3 songs.\n",
      "[('3', 'Britney Spears'), ('3 (Groove Police Club Mix)', 'Britney Spears'), ('3 (Manhattan Clique Remix Club)', 'Britney Spears')]\n"
     ]
    }
   ],
   "source": [
    "import lyricsgenius\n",
    "genius = lyricsgenius.Genius(\"JarELnHAXadjSZ6C8XFTSVyY5NIIkSDEgwuqBO5MKodLd-iMnrINrQL8kcNhbkpF\")\n",
    "artist = genius.search_artist(\"Britney Spears\", max_songs=3, sort=\"title\")\n",
    "print(artist.songs)"
   ]
  },
  {
   "cell_type": "code",
   "execution_count": 29,
   "metadata": {},
   "outputs": [
    {
     "output_type": "stream",
     "name": "stdout",
     "text": [
      "Searching for \"I wanna go\" by Britney Spears...\n",
      "Done.\n",
      "[Verse 1]\n",
      "Lately, I've been stuck imagining\n",
      "What I wanna do and what I really think\n",
      "Time to blow out\n",
      "Be a little inappropriate\n",
      "'Cause I know that everybody's thinking it, when the light's out\n",
      "\n",
      "[Pre-Chorus]\n",
      "Shame on me\n",
      "To need release\n",
      "Uncontrollably\n",
      "\n",
      "[Chorus]\n",
      "I wanna go all the way\n",
      "Taking out my freak tonight\n",
      "I wanna show all the dirt I got running through my mind, woah\n",
      "I wanna go all the way\n",
      "Taking out my freak tonight\n",
      "I wanna show all the dirt I got running through my mind, whoa\n",
      "\n",
      "[Verse 2]\n",
      "Lately, people got me all tied up\n",
      "There's a countdown waiting for me to erupt\n",
      "Time to blow out\n",
      "I've been told just what to do with it\n",
      "To keep both my hands above the blanket, when the light's out\n",
      "\n",
      "[Pre-Chorus]\n",
      "Shame on me\n",
      "To need release\n",
      "Uncontrollably\n",
      "\n",
      "[Chorus]\n",
      "I wanna go all the way\n",
      "Taking out my freak tonight\n",
      "I wanna show all the dirt I got running through my mind, woah\n",
      "I wanna go all the way\n",
      "Taking out my freak tonight\n",
      "I wanna show all the dirt I got running through my mind, whoa\n",
      "\n",
      "[Breakdown]\n",
      "Shame on me (Shame on me)\n",
      "To need release (To need release)\n",
      "Uncontrollably (Uncontrollably, -lably, -lably, -lably...)\n",
      "\n",
      "[Chorus]\n",
      "I wanna go (I wanna go...) all the way\n",
      "Taking out my freak tonight\n",
      "I wanna show (I wanna show...) all the dirt I got running through my mind\n",
      "I wanna go all the way\n",
      "Taking out my freak tonight\n",
      "I wanna show all the dirt I got running through my mind, whoa\n"
     ]
    }
   ],
   "source": [
    "song = genius.search_song(\"I wanna go\", artist.name)\n",
    "print(song.lyrics)"
   ]
  },
  {
   "cell_type": "code",
   "execution_count": 31,
   "metadata": {},
   "outputs": [
    {
     "output_type": "stream",
     "name": "stdout",
     "text": [
      "Call Me Maybe 69\n"
     ]
    }
   ],
   "source": [
    "results = sp.search(q='call me maybe', limit=1)\n",
    "for idx, track in enumerate(results['tracks']['items']):\n",
    "    print(track['name'], track['popularity'])"
   ]
  },
  {
   "cell_type": "code",
   "execution_count": 32,
   "metadata": {},
   "outputs": [
    {
     "output_type": "stream",
     "name": "stdout",
     "text": [
      "Despacito 79\n"
     ]
    }
   ],
   "source": [
    "results = sp.search(q='despacito', limit=1)\n",
    "for idx, track in enumerate(results['tracks']['items']):\n",
    "    print(track['name'], track['popularity'])"
   ]
  },
  {
   "cell_type": "code",
   "execution_count": 33,
   "metadata": {},
   "outputs": [
    {
     "output_type": "stream",
     "name": "stdout",
     "text": [
      "Mo Bamba 78\n"
     ]
    }
   ],
   "source": [
    "results = sp.search(q='mo bamba', limit=1)\n",
    "for idx, track in enumerate(results['tracks']['items']):\n",
    "    print(track['name'], track['popularity'])"
   ]
  },
  {
   "cell_type": "code",
   "execution_count": 34,
   "metadata": {},
   "outputs": [
    {
     "output_type": "stream",
     "name": "stdout",
     "text": [
      "WAP (feat. Megan Thee Stallion) 96\n"
     ]
    }
   ],
   "source": [
    "results = sp.search(q='WAP', limit=1)\n",
    "for idx, track in enumerate(results['tracks']['items']):\n",
    "    print(track['name'], track['popularity'])"
   ]
  },
  {
   "cell_type": "code",
   "execution_count": 35,
   "metadata": {},
   "outputs": [
    {
     "output_type": "stream",
     "name": "stdout",
     "text": [
      "SICKO MODE 88\n"
     ]
    }
   ],
   "source": [
    "results = sp.search(q='Sicko Mode', limit=1)\n",
    "for idx, track in enumerate(results['tracks']['items']):\n",
    "    print(track['name'], track['popularity'])"
   ]
  },
  {
   "cell_type": "code",
   "execution_count": 36,
   "metadata": {},
   "outputs": [
    {
     "output_type": "stream",
     "name": "stdout",
     "text": [
      "Trap Queen 74\n"
     ]
    }
   ],
   "source": [
    "results = sp.search(q='trap queen', limit=1)\n",
    "for idx, track in enumerate(results['tracks']['items']):\n",
    "    print(track['name'], track['popularity'])"
   ]
  },
  {
   "cell_type": "code",
   "execution_count": null,
   "metadata": {},
   "outputs": [],
   "source": []
  }
 ]
}