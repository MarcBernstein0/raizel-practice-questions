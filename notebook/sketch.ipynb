{
 "metadata": {
  "language_info": {
   "codemirror_mode": {
    "name": "ipython",
    "version": 3
   },
   "file_extension": ".py",
   "mimetype": "text/x-python",
   "name": "python",
   "nbconvert_exporter": "python",
   "pygments_lexer": "ipython3",
   "version": "3.8.6-final"
  },
  "orig_nbformat": 2,
  "kernelspec": {
   "name": "python3",
   "display_name": "Python 3",
   "language": "python"
  }
 },
 "nbformat": 4,
 "nbformat_minor": 2,
 "cells": [
  {
   "cell_type": "code",
   "execution_count": 7,
   "metadata": {},
   "outputs": [],
   "source": [
    "from sketchify import sketch"
   ]
  },
  {
   "cell_type": "code",
   "execution_count": 5,
   "metadata": {},
   "outputs": [],
   "source": [
    "sketch.normalsketch('C:/Users/Raizel/Dropbox/Raizel/Photos/2016IcelandPhone/IMG_8026.JPG', 'C:/Users/Raizel/Dropbox/Raizel/databootcamp/marc-prac repo/raizel-practice-questions/notebook/sketches', 'icelandsketch')"
   ]
  },
  {
   "cell_type": "code",
   "execution_count": 2,
   "metadata": {},
   "outputs": [],
   "source": [
    "#vscode://vscode.github-authentication/did-authenticate?windowid=1&code=1fc5f902f63b06696b24&state=dcb01aec-f0bf-4e00-ad8c-97a5bee5b160"
   ]
  },
  {
   "cell_type": "code",
   "execution_count": 8,
   "metadata": {},
   "outputs": [],
   "source": [
    "sketch.normalsketch('C:/Users/Raizel/Dropbox/Raizel/databootcamp/marc-prac repo/raizel-practice-questions/notebook/sketches/IMG_0914.JPG', 'C:/Users/Raizel/Dropbox/Raizel/databootcamp/marc-prac repo/raizel-practice-questions/notebook/sketches', 'marcsketch')"
   ]
  },
  {
   "cell_type": "code",
   "execution_count": null,
   "metadata": {},
   "outputs": [],
   "source": []
  }
 ]
}