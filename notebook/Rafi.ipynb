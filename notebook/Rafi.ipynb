{
 "cells": [
  {
   "cell_type": "code",
   "execution_count": 1,
   "metadata": {},
   "outputs": [],
   "source": [
    "import pandas as pd\n",
    "import matplotlib.pyplot as plt\n",
    "import seaborn as sns\n",
    "import numpy as np"
   ]
  },
  {
   "cell_type": "code",
   "execution_count": 2,
   "metadata": {},
   "outputs": [],
   "source": [
    "rafi = pd.read_csv('../data/Rafi.csv')"
   ]
  },
  {
   "cell_type": "code",
   "execution_count": 3,
   "metadata": {},
   "outputs": [
    {
     "data": {
      "text/plain": [
       "No     4\n",
       "Yes    3\n",
       "Name: Have you ever had Covid, dtype: int64"
      ]
     },
     "execution_count": 3,
     "metadata": {},
     "output_type": "execute_result"
    }
   ],
   "source": [
    "rafi['Have you ever had Covid'].value_counts()"
   ]
  },
  {
   "cell_type": "code",
   "execution_count": 4,
   "metadata": {},
   "outputs": [
    {
     "data": {
      "text/plain": [
       "Index(['Timestamp', 'Username', 'Have you ever had Covid',\n",
       "       'What kind of eggs did Rafi learn how to make at the girl scout camp?',\n",
       "       'What was Rafi's master thesis about?', 'Does Rafi eat bacon',\n",
       "       'What was Rafi's favorite activity at the girl scout camp?',\n",
       "       'What is Rafi getting a PhD in?', 'What's Rafi's favorite holiday?',\n",
       "       'Rafi is a ', 'Where does Rafi live?',\n",
       "       'What is Rafi's favorite tv show?',\n",
       "       'If Rafi had a baby what should be the baby's name? ',\n",
       "       'Is Rafi an Ana or Pola', 'What's Rafi's cat named?',\n",
       "       'Has Rafi ever found the afikomen?',\n",
       "       'Is Juan proud of Rafi - in general?', 'Who does Rafi have beef with?',\n",
       "       'What's Rafi's favorite food?', 'Is Rafi more of a coke or a pepsi',\n",
       "       'What's Rafi's favorite book?',\n",
       "       'Anything else you want to say to Rafi write here'],\n",
       "      dtype='object')"
      ]
     },
     "execution_count": 4,
     "metadata": {},
     "output_type": "execute_result"
    }
   ],
   "source": [
    "rafi.columns"
   ]
  },
  {
   "cell_type": "code",
   "execution_count": 6,
   "metadata": {},
   "outputs": [
    {
     "data": {
      "text/plain": [
       "Text(0.5, 1.0, 'Is Rafi an ANA or POLA?')"
      ]
     },
     "execution_count": 6,
     "metadata": {},
     "output_type": "execute_result"
    },
    {
     "data": {
      "image/png": "[encoded data removed]",
      "text/plain": [
       "<Figure size 864x432 with 1 Axes>"
      ]
     },
     "metadata": {
      "needs_background": "light"
     },
     "output_type": "display_data"
    }
   ],
   "source": [
    "plt.subplots(figsize=(12,6))\n",
    "rafi['Is Rafi an Ana or Pola'].value_counts().plot(kind='bar', color='forestgreen')\n",
    "plt.xticks(fontsize=12, rotation=0)\n",
    "plt.yticks(np.arange(0,8,step=1))\n",
    "plt.title('Is Rafi an ANA or POLA?', fontsize=20)"
   ]
  },
  {
   "cell_type": "code",
   "execution_count": 7,
   "metadata": {},
   "outputs": [
    {
     "data": {
      "text/plain": [
       "array([nan, 'He is killing it', 'bro...',\n",
       "       'i nominate ANDREW to be the subject of the next quiz! (this is rafi)',\n",
       "       'I am just a kitten hardly fit my mittens'], dtype=object)"
      ]
     },
     "execution_count": 7,
     "metadata": {},
     "output_type": "execute_result"
    }
   ],
   "source": [
    "rafi['Anything else you want to say to Rafi write here'].unique()"
   ]
  },
  {
   "cell_type": "code",
   "execution_count": 8,
   "metadata": {},
   "outputs": [
    {
     "data": {
      "text/plain": [
       "0                       Ana and Pola\n",
       "1                           Feminism\n",
       "2    Keeping up with the Kardashians\n",
       "3                                KKK\n",
       "4                                KKK\n",
       "5                       Ana and Pola\n",
       "Name: What was Rafi's master thesis about?, dtype: object"
      ]
     },
     "execution_count": 8,
     "metadata": {},
     "output_type": "execute_result"
    }
   ],
   "source": [
    "rafi[\"What was Rafi's master thesis about?\"]"
   ]
  },
  {
   "cell_type": "code",
   "execution_count": 7,
   "metadata": {},
   "outputs": [
    {
     "data": {
      "text/plain": [
       "Sean       5\n",
       "Jeffrey    2\n",
       "Bryan      1\n",
       "Name: Who does Rafi have beef with?, dtype: int64"
      ]
     },
     "execution_count": 7,
     "metadata": {},
     "output_type": "execute_result"
    }
   ],
   "source": [
    "rafi['Who does Rafi have beef with?'].value_counts()"
   ]
  },
  {
   "cell_type": "code",
   "execution_count": 16,
   "metadata": {},
   "outputs": [
    {
     "data": {
      "text/plain": [
       "Text(0, 0.5, 'Number of Cousins')"
      ]
     },
     "execution_count": 16,
     "metadata": {},
     "output_type": "execute_result"
    },
    {
     "data": {
      "image/png": "[encoded data removed]",
      "text/plain": [
       "<Figure size 864x360 with 1 Axes>"
      ]
     },
     "metadata": {
      "needs_background": "light"
     },
     "output_type": "display_data"
    }
   ],
   "source": [
    "plt.subplots(figsize=(12,5))\n",
    "rafi['What kind of eggs did Rafi learn how to make at the girl scout camp?'].value_counts().plot(kind='bar')\n",
    "plt.xticks(fontsize=14, rotation=0)\n",
    "plt.yticks(np.arange(0,7,step=1))\n",
    "plt.title('What kind of eggs did Rafi learn to make at the girl scout camp?', fontsize=20)\n",
    "plt.xlabel('Eggs', color='yellow', fontsize=17)\n",
    "plt.ylabel('Number of Cousins', fontsize=16)"
   ]
  },
  {
   "cell_type": "code",
   "execution_count": 11,
   "metadata": {},
   "outputs": [
    {
     "data": {
      "text/plain": [
       "0           hiking\n",
       "1    scary stories\n",
       "2         swimming\n",
       "3        bat watch\n",
       "4        bat watch\n",
       "5    scary stories\n",
       "Name: What was Rafi's favorite activity at the girl scout camp?, dtype: object"
      ]
     },
     "execution_count": 11,
     "metadata": {},
     "output_type": "execute_result"
    }
   ],
   "source": [
    "rafi[\"What was Rafi's favorite activity at the girl scout camp?\"]"
   ]
  },
  {
   "cell_type": "code",
   "execution_count": 13,
   "metadata": {},
   "outputs": [
    {
     "data": {
      "text/plain": [
       "Yes    6\n",
       "Name: Is Juan proud of Rafi - in general?, dtype: int64"
      ]
     },
     "execution_count": 13,
     "metadata": {},
     "output_type": "execute_result"
    }
   ],
   "source": [
    "rafi['Is Juan proud of Rafi - in general?'].value_counts()"
   ]
  },
  {
   "cell_type": "code",
   "execution_count": null,
   "metadata": {},
   "outputs": [],
   "source": []
  }
 ],
 "metadata": {
  "kernelspec": {
   "display_name": "Python 3",
   "language": "python",
   "name": "python3"
  },
  "language_info": {
   "codemirror_mode": {
    "name": "ipython",
    "version": 3
   },
   "file_extension": ".py",
   "mimetype": "text/x-python",
   "name": "python",
   "nbconvert_exporter": "python",
   "pygments_lexer": "ipython3",
   "version": "3.8.3"
  }
 },
 "nbformat": 4,
 "nbformat_minor": 4
}
