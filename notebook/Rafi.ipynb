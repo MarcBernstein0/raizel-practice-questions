{
 "cells": [
  {
   "cell_type": "code",
   "execution_count": 18,
   "metadata": {},
   "outputs": [],
   "source": [
    "import pandas as pd\n",
    "import matplotlib.pyplot as plt\n",
    "import seaborn as sns\n",
    "import numpy as np"
   ]
  },
  {
   "cell_type": "code",
   "execution_count": 7,
   "metadata": {},
   "outputs": [],
   "source": [
    "rafi = pd.read_csv('../data/Rafi.csv')"
   ]
  },
  {
   "cell_type": "code",
   "execution_count": 10,
   "metadata": {},
   "outputs": [
    {
     "data": {
      "text/plain": [
       "No     4\n",
       "Yes    1\n",
       "Name: Have you ever had Covid, dtype: int64"
      ]
     },
     "execution_count": 10,
     "metadata": {},
     "output_type": "execute_result"
    }
   ],
   "source": [
    "rafi['Have you ever had Covid'].value_counts()"
   ]
  },
  {
   "cell_type": "code",
   "execution_count": 12,
   "metadata": {},
   "outputs": [
    {
     "data": {
      "text/plain": [
       "Index(['Timestamp', 'Username', 'Have you ever had Covid',\n",
       "       'What kind of eggs did Rafi learn how to make at the girl scout camp?',\n",
       "       'What was Rafi's master thesis about?', 'Does Rafi eat bacon',\n",
       "       'What was Rafi's favorite activity at the girl scout camp?',\n",
       "       'What is Rafi getting a PhD in?', 'What's Rafi's favorite holiday?',\n",
       "       'Rafi is a ', 'Where does Rafi live?',\n",
       "       'What is Rafi's favorite tv show?',\n",
       "       'If Rafi had a baby what should be the baby's name? ',\n",
       "       'Is Rafi an Ana or Pola', 'What's Rafi's cat named?',\n",
       "       'Has Rafi ever found the afikomen?',\n",
       "       'Is Juan proud of Rafi - in general?', 'Who does Rafi have beef with?',\n",
       "       'What's Rafi's favorite food?', 'Is Rafi more of a coke or a pepsi',\n",
       "       'What's Rafi's favorite book?',\n",
       "       'Anything else you want to say to Rafi write here'],\n",
       "      dtype='object')"
      ]
     },
     "execution_count": 12,
     "metadata": {},
     "output_type": "execute_result"
    }
   ],
   "source": [
    "rafi.columns"
   ]
  },
  {
   "cell_type": "code",
   "execution_count": 30,
   "metadata": {},
   "outputs": [
    {
     "data": {
      "text/plain": [
       "Text(0.5, 1.0, 'Is Rafi an ANA or POLA?')"
      ]
     },
     "execution_count": 30,
     "metadata": {},
     "output_type": "execute_result"
    },
    {
     "data": {
      "image/png": "[encoded data removed]",
      "text/plain": [
       "<Figure size 864x432 with 1 Axes>"
      ]
     },
     "metadata": {
      "needs_background": "light"
     },
     "output_type": "display_data"
    }
   ],
   "source": [
    "plt.subplots(figsize=(12,6))\n",
    "rafi['Is Rafi an Ana or Pola'].value_counts().plot(kind='bar', color='forestgreen')\n",
    "plt.xticks(fontsize=12, rotation=0)\n",
    "plt.yticks(np.arange(0,5,step=1))\n",
    "plt.title('Is Rafi an ANA or POLA?', fontsize=20)"
   ]
  },
  {
   "cell_type": "code",
   "execution_count": 33,
   "metadata": {},
   "outputs": [
    {
     "data": {
      "text/plain": [
       "array([nan, 'He is killing it', 'bro...',\n",
       "       'i nominate ANDREW to be the subject of the next quiz! (this is rafi)'],\n",
       "      dtype=object)"
      ]
     },
     "execution_count": 33,
     "metadata": {},
     "output_type": "execute_result"
    }
   ],
   "source": [
    "rafi['Anything else you want to say to Rafi write here'].unique()"
   ]
  },
  {
   "cell_type": "code",
   "execution_count": 34,
   "metadata": {},
   "outputs": [
    {
     "data": {
      "text/plain": [
       "0                       Ana and Pola\n",
       "1                           Feminism\n",
       "2    Keeping up with the Kardashians\n",
       "3                                KKK\n",
       "4                                KKK\n",
       "Name: What was Rafi's master thesis about?, dtype: object"
      ]
     },
     "execution_count": 34,
     "metadata": {},
     "output_type": "execute_result"
    }
   ],
   "source": [
    "rafi[\"What was Rafi's master thesis about?\"]"
   ]
  },
  {
   "cell_type": "code",
   "execution_count": null,
   "metadata": {},
   "outputs": [],
   "source": []
  }
 ],
 "metadata": {
  "kernelspec": {
   "display_name": "Python 3",
   "language": "python",
   "name": "python3"
  },
  "language_info": {
   "codemirror_mode": {
    "name": "ipython",
    "version": 3
   },
   "file_extension": ".py",
   "mimetype": "text/x-python",
   "name": "python",
   "nbconvert_exporter": "python",
   "pygments_lexer": "ipython3",
   "version": "3.8.3"
  }
 },
 "nbformat": 4,
 "nbformat_minor": 4
}
