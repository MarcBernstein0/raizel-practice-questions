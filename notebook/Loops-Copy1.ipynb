{
 "cells": [
  {
   "cell_type": "code",
   "execution_count": 2,
   "metadata": {},
   "outputs": [],
   "source": [
    "import pandas as pd\n",
    "file_name = 'cities.xlsx'\n",
    "travel_df = pd.read_excel(file_name)"
   ]
  },
  {
   "cell_type": "code",
   "execution_count": 3,
   "metadata": {},
   "outputs": [
    {
     "data": {
      "text/html": [
       "<div>\n",
       "<style scoped>\n",
       "    .dataframe tbody tr th:only-of-type {\n",
       "        vertical-align: middle;\n",
       "    }\n",
       "\n",
       "    .dataframe tbody tr th {\n",
       "        vertical-align: top;\n",
       "    }\n",
       "\n",
       "    .dataframe thead th {\n",
       "        text-align: right;\n",
       "    }\n",
       "</style>\n",
       "<table border=\"1\" class=\"dataframe\">\n",
       "  <thead>\n",
       "    <tr style=\"text-align: right;\">\n",
       "      <th></th>\n",
       "      <th>City</th>\n",
       "      <th>Country</th>\n",
       "      <th>Population</th>\n",
       "      <th>Area</th>\n",
       "    </tr>\n",
       "  </thead>\n",
       "  <tbody>\n",
       "    <tr>\n",
       "      <th>0</th>\n",
       "      <td>Buenos Aires</td>\n",
       "      <td>Argentina</td>\n",
       "      <td>2891000</td>\n",
       "      <td>4758</td>\n",
       "    </tr>\n",
       "    <tr>\n",
       "      <th>1</th>\n",
       "      <td>Toronto</td>\n",
       "      <td>Canada</td>\n",
       "      <td>2800000</td>\n",
       "      <td>2731571</td>\n",
       "    </tr>\n",
       "    <tr>\n",
       "      <th>2</th>\n",
       "      <td>Pyeongchang</td>\n",
       "      <td>South Korea</td>\n",
       "      <td>2581000</td>\n",
       "      <td>3194</td>\n",
       "    </tr>\n",
       "    <tr>\n",
       "      <th>3</th>\n",
       "      <td>Marakesh</td>\n",
       "      <td>Morocco</td>\n",
       "      <td>928850</td>\n",
       "      <td>200</td>\n",
       "    </tr>\n",
       "    <tr>\n",
       "      <th>4</th>\n",
       "      <td>Albuquerque</td>\n",
       "      <td>New Mexico</td>\n",
       "      <td>559277</td>\n",
       "      <td>491</td>\n",
       "    </tr>\n",
       "    <tr>\n",
       "      <th>5</th>\n",
       "      <td>Los Cabos</td>\n",
       "      <td>Mexico</td>\n",
       "      <td>287651</td>\n",
       "      <td>3750</td>\n",
       "    </tr>\n",
       "    <tr>\n",
       "      <th>6</th>\n",
       "      <td>Greenville</td>\n",
       "      <td>USA</td>\n",
       "      <td>84554</td>\n",
       "      <td>68</td>\n",
       "    </tr>\n",
       "    <tr>\n",
       "      <th>7</th>\n",
       "      <td>Archipelago Sea</td>\n",
       "      <td>Finland</td>\n",
       "      <td>60000</td>\n",
       "      <td>8300</td>\n",
       "    </tr>\n",
       "    <tr>\n",
       "      <th>8</th>\n",
       "      <td>Walla Walla Valley</td>\n",
       "      <td>USA</td>\n",
       "      <td>32237</td>\n",
       "      <td>33</td>\n",
       "    </tr>\n",
       "    <tr>\n",
       "      <th>9</th>\n",
       "      <td>Salina Island</td>\n",
       "      <td>Italy</td>\n",
       "      <td>4000</td>\n",
       "      <td>27</td>\n",
       "    </tr>\n",
       "    <tr>\n",
       "      <th>10</th>\n",
       "      <td>Solta</td>\n",
       "      <td>Croatia</td>\n",
       "      <td>1700</td>\n",
       "      <td>59</td>\n",
       "    </tr>\n",
       "    <tr>\n",
       "      <th>11</th>\n",
       "      <td>Iguazu Falls</td>\n",
       "      <td>Argentina</td>\n",
       "      <td>0</td>\n",
       "      <td>672</td>\n",
       "    </tr>\n",
       "  </tbody>\n",
       "</table>\n",
       "</div>"
      ],
      "text/plain": [
       "                  City      Country  Population     Area\n",
       "0         Buenos Aires    Argentina     2891000     4758\n",
       "1              Toronto       Canada     2800000  2731571\n",
       "2          Pyeongchang  South Korea     2581000     3194\n",
       "3             Marakesh      Morocco      928850      200\n",
       "4          Albuquerque   New Mexico      559277      491\n",
       "5            Los Cabos       Mexico      287651     3750\n",
       "6           Greenville          USA       84554       68\n",
       "7      Archipelago Sea      Finland       60000     8300\n",
       "8   Walla Walla Valley          USA       32237       33\n",
       "9        Salina Island        Italy        4000       27\n",
       "10               Solta      Croatia        1700       59\n",
       "11        Iguazu Falls    Argentina           0      672"
      ]
     },
     "execution_count": 3,
     "metadata": {},
     "output_type": "execute_result"
    }
   ],
   "source": [
    "travel_df"
   ]
  },
  {
   "cell_type": "code",
   "execution_count": 4,
   "metadata": {},
   "outputs": [],
   "source": [
    "cities = travel_df.to_dict('records')"
   ]
  },
  {
   "cell_type": "code",
   "execution_count": 5,
   "metadata": {},
   "outputs": [
    {
     "data": {
      "text/plain": [
       "[{'City': 'Buenos Aires',\n",
       "  'Country': 'Argentina',\n",
       "  'Population': 2891000,\n",
       "  'Area': 4758},\n",
       " {'City': 'Toronto',\n",
       "  'Country': 'Canada',\n",
       "  'Population': 2800000,\n",
       "  'Area': 2731571},\n",
       " {'City': 'Pyeongchang',\n",
       "  'Country': 'South Korea',\n",
       "  'Population': 2581000,\n",
       "  'Area': 3194},\n",
       " {'City': 'Marakesh', 'Country': 'Morocco', 'Population': 928850, 'Area': 200},\n",
       " {'City': 'Albuquerque',\n",
       "  'Country': 'New Mexico',\n",
       "  'Population': 559277,\n",
       "  'Area': 491},\n",
       " {'City': 'Los Cabos',\n",
       "  'Country': 'Mexico',\n",
       "  'Population': 287651,\n",
       "  'Area': 3750},\n",
       " {'City': 'Greenville', 'Country': 'USA', 'Population': 84554, 'Area': 68},\n",
       " {'City': 'Archipelago Sea',\n",
       "  'Country': 'Finland',\n",
       "  'Population': 60000,\n",
       "  'Area': 8300},\n",
       " {'City': 'Walla Walla Valley',\n",
       "  'Country': 'USA',\n",
       "  'Population': 32237,\n",
       "  'Area': 33},\n",
       " {'City': 'Salina Island', 'Country': 'Italy', 'Population': 4000, 'Area': 27},\n",
       " {'City': 'Solta', 'Country': 'Croatia', 'Population': 1700, 'Area': 59},\n",
       " {'City': 'Iguazu Falls',\n",
       "  'Country': 'Argentina',\n",
       "  'Population': 0,\n",
       "  'Area': 672}]"
      ]
     },
     "execution_count": 5,
     "metadata": {},
     "output_type": "execute_result"
    }
   ],
   "source": [
    "cities"
   ]
  },
  {
   "cell_type": "code",
   "execution_count": 6,
   "metadata": {},
   "outputs": [
    {
     "data": {
      "text/plain": [
       "{'City': 'Salina Island', 'Country': 'Italy', 'Population': 4000, 'Area': 27}"
      ]
     },
     "execution_count": 6,
     "metadata": {},
     "output_type": "execute_result"
    }
   ],
   "source": [
    "salina = cities[-3]\n",
    "salina"
   ]
  },
  {
   "cell_type": "code",
   "execution_count": 7,
   "metadata": {},
   "outputs": [
    {
     "data": {
      "text/plain": [
       "928850"
      ]
     },
     "execution_count": 7,
     "metadata": {},
     "output_type": "execute_result"
    }
   ],
   "source": [
    "los_cabos_pop = cities[3]['Population']\n",
    "los_cabos_pop "
   ]
  },
  {
   "cell_type": "code",
   "execution_count": 8,
   "metadata": {},
   "outputs": [
    {
     "data": {
      "text/plain": [
       "'Iguazu Falls'"
      ]
     },
     "execution_count": 8,
     "metadata": {},
     "output_type": "execute_result"
    }
   ],
   "source": [
    "cities[11]['City']"
   ]
  },
  {
   "cell_type": "code",
   "execution_count": 9,
   "metadata": {},
   "outputs": [
    {
     "data": {
      "text/plain": [
       "'PyeongChang'"
      ]
     },
     "execution_count": 9,
     "metadata": {},
     "output_type": "execute_result"
    }
   ],
   "source": [
    "cities[11]['City'] = 'PyeongChang'\n",
    "cities[11]['City'] "
   ]
  },
  {
   "cell_type": "code",
   "execution_count": 10,
   "metadata": {},
   "outputs": [
    {
     "name": "stdout",
     "output_type": "stream",
     "text": [
      "['PyeongChang', 'Argentina', 0, 672]\n"
     ]
    },
    {
     "data": {
      "text/plain": [
       "list"
      ]
     },
     "execution_count": 10,
     "metadata": {},
     "output_type": "execute_result"
    }
   ],
   "source": [
    "pyeongchang_values = list(cities[11].values())\n",
    "\n",
    "print(pyeongchang_values) # ['PyeongChang', 'South Korea', 2581000, 3194]\n",
    "type(pyeongchang_values) # list"
   ]
  },
  {
   "cell_type": "code",
   "execution_count": 11,
   "metadata": {},
   "outputs": [
    {
     "name": "stdout",
     "output_type": "stream",
     "text": [
      "['City', 'Country', 'Population', 'Area']\n"
     ]
    },
    {
     "data": {
      "text/plain": [
       "list"
      ]
     },
     "execution_count": 11,
     "metadata": {},
     "output_type": "execute_result"
    }
   ],
   "source": [
    "pyeongchang_keys = list(cities[11].keys())\n",
    "\n",
    "\n",
    "print(pyeongchang_keys) # ['City', 'Country', 'Population', 'Area']\n",
    "type(pyeongchang_keys) # list"
   ]
  },
  {
   "cell_type": "code",
   "execution_count": 12,
   "metadata": {},
   "outputs": [],
   "source": [
    "family_df = pd.read_excel('family.xlsx')"
   ]
  },
  {
   "cell_type": "code",
   "execution_count": 13,
   "metadata": {},
   "outputs": [
    {
     "data": {
      "text/html": [
       "<div>\n",
       "<style scoped>\n",
       "    .dataframe tbody tr th:only-of-type {\n",
       "        vertical-align: middle;\n",
       "    }\n",
       "\n",
       "    .dataframe tbody tr th {\n",
       "        vertical-align: top;\n",
       "    }\n",
       "\n",
       "    .dataframe thead th {\n",
       "        text-align: right;\n",
       "    }\n",
       "</style>\n",
       "<table border=\"1\" class=\"dataframe\">\n",
       "  <thead>\n",
       "    <tr style=\"text-align: right;\">\n",
       "      <th></th>\n",
       "      <th>Name</th>\n",
       "      <th>Birthday</th>\n",
       "      <th>Occupation</th>\n",
       "      <th>Favorite Holiday</th>\n",
       "      <th>Favorite Season</th>\n",
       "    </tr>\n",
       "  </thead>\n",
       "  <tbody>\n",
       "    <tr>\n",
       "      <th>0</th>\n",
       "      <td>Briana Faith Feirstein</td>\n",
       "      <td>1996-10-05</td>\n",
       "      <td>Genetic Counselor</td>\n",
       "      <td>Thanksgiving</td>\n",
       "      <td>Fall</td>\n",
       "    </tr>\n",
       "    <tr>\n",
       "      <th>1</th>\n",
       "      <td>Marc Seth Bernstein</td>\n",
       "      <td>1998-06-24</td>\n",
       "      <td>Software engineer</td>\n",
       "      <td>Thanksgiving</td>\n",
       "      <td>Fall</td>\n",
       "    </tr>\n",
       "    <tr>\n",
       "      <th>2</th>\n",
       "      <td>Nina Rebecca Bigler</td>\n",
       "      <td>1994-04-25</td>\n",
       "      <td>Nonprofit Administrator</td>\n",
       "      <td>Thanksgiving</td>\n",
       "      <td>Spring</td>\n",
       "    </tr>\n",
       "    <tr>\n",
       "      <th>3</th>\n",
       "      <td>Megan Haley Fitter</td>\n",
       "      <td>1992-10-02</td>\n",
       "      <td>PhD Candidate</td>\n",
       "      <td>Thanksgiving</td>\n",
       "      <td>Summer</td>\n",
       "    </tr>\n",
       "    <tr>\n",
       "      <th>4</th>\n",
       "      <td>Eliana Lisa Bernstein</td>\n",
       "      <td>1995-03-31</td>\n",
       "      <td>Project Manager</td>\n",
       "      <td>Thanksgiving</td>\n",
       "      <td>Spring</td>\n",
       "    </tr>\n",
       "    <tr>\n",
       "      <th>5</th>\n",
       "      <td>Ariel Julian Abrahams</td>\n",
       "      <td>1988-01-30</td>\n",
       "      <td>Soundproofer</td>\n",
       "      <td>Yom Kippur</td>\n",
       "      <td>Fall</td>\n",
       "    </tr>\n",
       "    <tr>\n",
       "      <th>6</th>\n",
       "      <td>Rafi Noah Abrahams</td>\n",
       "      <td>1990-08-23</td>\n",
       "      <td>Student</td>\n",
       "      <td>4.2</td>\n",
       "      <td>Fall</td>\n",
       "    </tr>\n",
       "    <tr>\n",
       "      <th>7</th>\n",
       "      <td>Juliana Rebecca Biller</td>\n",
       "      <td>1994-06-03</td>\n",
       "      <td>Paraprofessional</td>\n",
       "      <td>Passover</td>\n",
       "      <td>Winter</td>\n",
       "    </tr>\n",
       "    <tr>\n",
       "      <th>8</th>\n",
       "      <td>Jessica Fitter</td>\n",
       "      <td>1998-05-19</td>\n",
       "      <td>Banker</td>\n",
       "      <td>Thanksgiving</td>\n",
       "      <td>Summer</td>\n",
       "    </tr>\n",
       "    <tr>\n",
       "      <th>9</th>\n",
       "      <td>Denise Emma Fitter</td>\n",
       "      <td>1994-11-18</td>\n",
       "      <td>Paralegal</td>\n",
       "      <td>Thanksgiving</td>\n",
       "      <td>Fall</td>\n",
       "    </tr>\n",
       "    <tr>\n",
       "      <th>10</th>\n",
       "      <td>Andrew Fitter</td>\n",
       "      <td>2001-02-22</td>\n",
       "      <td>Student</td>\n",
       "      <td>Thanksgiving</td>\n",
       "      <td>Fall</td>\n",
       "    </tr>\n",
       "    <tr>\n",
       "      <th>11</th>\n",
       "      <td>Sean Pierce Fitter</td>\n",
       "      <td>2009-09-24</td>\n",
       "      <td>Student</td>\n",
       "      <td>Thanksgiving</td>\n",
       "      <td>Summer</td>\n",
       "    </tr>\n",
       "    <tr>\n",
       "      <th>12</th>\n",
       "      <td>Myles Anderson Fitter</td>\n",
       "      <td>2012-05-15</td>\n",
       "      <td>Student</td>\n",
       "      <td>Chanukkah</td>\n",
       "      <td>Fall</td>\n",
       "    </tr>\n",
       "    <tr>\n",
       "      <th>13</th>\n",
       "      <td>Raizel Bernstein</td>\n",
       "      <td>1993-06-27</td>\n",
       "      <td>unemployed</td>\n",
       "      <td>Thanksgiving</td>\n",
       "      <td>Fall</td>\n",
       "    </tr>\n",
       "  </tbody>\n",
       "</table>\n",
       "</div>"
      ],
      "text/plain": [
       "                      Name   Birthday               Occupation  \\\n",
       "0   Briana Faith Feirstein 1996-10-05        Genetic Counselor   \n",
       "1      Marc Seth Bernstein 1998-06-24        Software engineer   \n",
       "2      Nina Rebecca Bigler 1994-04-25  Nonprofit Administrator   \n",
       "3       Megan Haley Fitter 1992-10-02            PhD Candidate   \n",
       "4    Eliana Lisa Bernstein 1995-03-31          Project Manager   \n",
       "5    Ariel Julian Abrahams 1988-01-30             Soundproofer   \n",
       "6       Rafi Noah Abrahams 1990-08-23                  Student   \n",
       "7   Juliana Rebecca Biller 1994-06-03         Paraprofessional   \n",
       "8           Jessica Fitter 1998-05-19                   Banker   \n",
       "9       Denise Emma Fitter 1994-11-18                Paralegal   \n",
       "10           Andrew Fitter 2001-02-22                  Student   \n",
       "11      Sean Pierce Fitter 2009-09-24                  Student   \n",
       "12   Myles Anderson Fitter 2012-05-15                  Student   \n",
       "13        Raizel Bernstein 1993-06-27               unemployed   \n",
       "\n",
       "   Favorite Holiday Favorite Season  \n",
       "0      Thanksgiving            Fall  \n",
       "1      Thanksgiving            Fall  \n",
       "2      Thanksgiving          Spring  \n",
       "3      Thanksgiving          Summer  \n",
       "4      Thanksgiving          Spring  \n",
       "5        Yom Kippur            Fall  \n",
       "6               4.2            Fall  \n",
       "7          Passover          Winter  \n",
       "8      Thanksgiving          Summer  \n",
       "9      Thanksgiving            Fall  \n",
       "10     Thanksgiving            Fall  \n",
       "11     Thanksgiving          Summer  \n",
       "12        Chanukkah            Fall  \n",
       "13     Thanksgiving            Fall  "
      ]
     },
     "execution_count": 13,
     "metadata": {},
     "output_type": "execute_result"
    }
   ],
   "source": [
    "family_df"
   ]
  },
  {
   "cell_type": "code",
   "execution_count": 14,
   "metadata": {},
   "outputs": [],
   "source": [
    "family = family_df.to_dict('records')"
   ]
  },
  {
   "cell_type": "code",
   "execution_count": 15,
   "metadata": {},
   "outputs": [
    {
     "data": {
      "text/plain": [
       "[{'Name': 'Briana Faith Feirstein',\n",
       "  'Birthday': Timestamp('1996-10-05 00:00:00'),\n",
       "  'Occupation': 'Genetic Counselor',\n",
       "  'Favorite Holiday': 'Thanksgiving',\n",
       "  'Favorite Season': 'Fall'},\n",
       " {'Name': 'Marc Seth Bernstein',\n",
       "  'Birthday': Timestamp('1998-06-24 00:00:00'),\n",
       "  'Occupation': 'Software engineer',\n",
       "  'Favorite Holiday': 'Thanksgiving',\n",
       "  'Favorite Season': 'Fall'},\n",
       " {'Name': 'Nina Rebecca Bigler',\n",
       "  'Birthday': Timestamp('1994-04-25 00:00:00'),\n",
       "  'Occupation': 'Nonprofit Administrator',\n",
       "  'Favorite Holiday': 'Thanksgiving',\n",
       "  'Favorite Season': 'Spring'},\n",
       " {'Name': 'Megan Haley Fitter',\n",
       "  'Birthday': Timestamp('1992-10-02 00:00:00'),\n",
       "  'Occupation': 'PhD Candidate',\n",
       "  'Favorite Holiday': 'Thanksgiving',\n",
       "  'Favorite Season': 'Summer'},\n",
       " {'Name': 'Eliana Lisa Bernstein',\n",
       "  'Birthday': Timestamp('1995-03-31 00:00:00'),\n",
       "  'Occupation': 'Project Manager',\n",
       "  'Favorite Holiday': 'Thanksgiving',\n",
       "  'Favorite Season': 'Spring'},\n",
       " {'Name': 'Ariel Julian Abrahams',\n",
       "  'Birthday': Timestamp('1988-01-30 00:00:00'),\n",
       "  'Occupation': 'Soundproofer',\n",
       "  'Favorite Holiday': 'Yom Kippur',\n",
       "  'Favorite Season': 'Fall'},\n",
       " {'Name': 'Rafi Noah Abrahams',\n",
       "  'Birthday': Timestamp('1990-08-23 00:00:00'),\n",
       "  'Occupation': 'Student',\n",
       "  'Favorite Holiday': 4.2,\n",
       "  'Favorite Season': 'Fall'},\n",
       " {'Name': 'Juliana Rebecca Biller',\n",
       "  'Birthday': Timestamp('1994-06-03 00:00:00'),\n",
       "  'Occupation': 'Paraprofessional',\n",
       "  'Favorite Holiday': 'Passover',\n",
       "  'Favorite Season': 'Winter'},\n",
       " {'Name': 'Jessica Fitter',\n",
       "  'Birthday': Timestamp('1998-05-19 00:00:00'),\n",
       "  'Occupation': 'Banker',\n",
       "  'Favorite Holiday': 'Thanksgiving',\n",
       "  'Favorite Season': 'Summer'},\n",
       " {'Name': 'Denise Emma Fitter',\n",
       "  'Birthday': Timestamp('1994-11-18 00:00:00'),\n",
       "  'Occupation': 'Paralegal',\n",
       "  'Favorite Holiday': 'Thanksgiving',\n",
       "  'Favorite Season': 'Fall'},\n",
       " {'Name': 'Andrew Fitter',\n",
       "  'Birthday': Timestamp('2001-02-22 00:00:00'),\n",
       "  'Occupation': 'Student',\n",
       "  'Favorite Holiday': 'Thanksgiving',\n",
       "  'Favorite Season': 'Fall'},\n",
       " {'Name': 'Sean Pierce Fitter',\n",
       "  'Birthday': Timestamp('2009-09-24 00:00:00'),\n",
       "  'Occupation': 'Student',\n",
       "  'Favorite Holiday': 'Thanksgiving',\n",
       "  'Favorite Season': 'Summer'},\n",
       " {'Name': 'Myles Anderson Fitter',\n",
       "  'Birthday': Timestamp('2012-05-15 00:00:00'),\n",
       "  'Occupation': 'Student',\n",
       "  'Favorite Holiday': 'Chanukkah',\n",
       "  'Favorite Season': 'Fall'},\n",
       " {'Name': 'Raizel Bernstein',\n",
       "  'Birthday': Timestamp('1993-06-27 00:00:00'),\n",
       "  'Occupation': 'unemployed',\n",
       "  'Favorite Holiday': 'Thanksgiving',\n",
       "  'Favorite Season': 'Fall'}]"
      ]
     },
     "execution_count": 15,
     "metadata": {},
     "output_type": "execute_result"
    }
   ],
   "source": [
    "family"
   ]
  },
  {
   "cell_type": "code",
   "execution_count": 16,
   "metadata": {},
   "outputs": [
    {
     "data": {
      "text/plain": [
       "{'Name': 'Sean Pierce Fitter',\n",
       " 'Birthday': Timestamp('2009-09-24 00:00:00'),\n",
       " 'Occupation': 'Student',\n",
       " 'Favorite Holiday': 'Thanksgiving',\n",
       " 'Favorite Season': 'Summer'}"
      ]
     },
     "execution_count": 16,
     "metadata": {},
     "output_type": "execute_result"
    }
   ],
   "source": [
    "family[-3]"
   ]
  },
  {
   "cell_type": "code",
   "execution_count": 17,
   "metadata": {},
   "outputs": [],
   "source": [
    "Sean = family[-3]"
   ]
  },
  {
   "cell_type": "code",
   "execution_count": 18,
   "metadata": {},
   "outputs": [
    {
     "data": {
      "text/plain": [
       "{'Name': 'Sean Pierce Fitter',\n",
       " 'Birthday': Timestamp('2009-09-24 00:00:00'),\n",
       " 'Occupation': 'Student',\n",
       " 'Favorite Holiday': 'Thanksgiving',\n",
       " 'Favorite Season': 'Summer'}"
      ]
     },
     "execution_count": 18,
     "metadata": {},
     "output_type": "execute_result"
    }
   ],
   "source": [
    "Sean"
   ]
  },
  {
   "cell_type": "code",
   "execution_count": 19,
   "metadata": {},
   "outputs": [],
   "source": [
    "Sean = family[-3]['Name']"
   ]
  },
  {
   "cell_type": "code",
   "execution_count": 20,
   "metadata": {},
   "outputs": [
    {
     "data": {
      "text/plain": [
       "'Sean Pierce Fitter'"
      ]
     },
     "execution_count": 20,
     "metadata": {},
     "output_type": "execute_result"
    }
   ],
   "source": [
    "Sean"
   ]
  },
  {
   "cell_type": "code",
   "execution_count": 21,
   "metadata": {},
   "outputs": [
    {
     "data": {
      "text/plain": [
       "['Sean Pierce Fitter',\n",
       " Timestamp('2009-09-24 00:00:00'),\n",
       " 'Student',\n",
       " 'Thanksgiving',\n",
       " 'Summer']"
      ]
     },
     "execution_count": 21,
     "metadata": {},
     "output_type": "execute_result"
    }
   ],
   "source": [
    "Sean_values = list((family[-3].values()))\n",
    "Sean_values"
   ]
  },
  {
   "cell_type": "code",
   "execution_count": 22,
   "metadata": {},
   "outputs": [
    {
     "data": {
      "text/plain": [
       "['Name', 'Birthday', 'Occupation', 'Favorite Holiday', 'Favorite Season']"
      ]
     },
     "execution_count": 22,
     "metadata": {},
     "output_type": "execute_result"
    }
   ],
   "source": [
    "Sean_keys = list(family[-3].keys())\n",
    "Sean_keys"
   ]
  },
  {
   "cell_type": "code",
   "execution_count": 23,
   "metadata": {},
   "outputs": [
    {
     "data": {
      "text/plain": [
       "{'City': 'Albuquerque',\n",
       " 'Country': 'New Mexico',\n",
       " 'Population': 559277,\n",
       " 'Area': 491}"
      ]
     },
     "execution_count": 23,
     "metadata": {},
     "output_type": "execute_result"
    }
   ],
   "source": [
    "cities[4]"
   ]
  },
  {
   "cell_type": "code",
   "execution_count": 24,
   "metadata": {},
   "outputs": [
    {
     "data": {
      "text/plain": [
       "'New Mexico'"
      ]
     },
     "execution_count": 24,
     "metadata": {},
     "output_type": "execute_result"
    }
   ],
   "source": [
    "cities[4]['Country']"
   ]
  },
  {
   "cell_type": "code",
   "execution_count": 25,
   "metadata": {
    "scrolled": true
   },
   "outputs": [
    {
     "data": {
      "image/png": "[encoded data removed]",
      "text/plain": [
       "<Figure size 432x288 with 1 Axes>"
      ]
     },
     "metadata": {
      "needs_background": "light"
     },
     "output_type": "display_data"
    }
   ],
   "source": [
    "import matplotlib.pyplot as plt\n",
    "\n",
    "%matplotlib inline\n",
    "\n",
    "x_values = [cities[0]['City'], cities[1]['City'], cities[2]['City']]\n",
    "y_values = [cities[0]['Population'], cities[1]['Population'], cities[2]['Population']]\n",
    " \n",
    "plt.bar(x_values, y_values)\n",
    "plt.ylabel('Population')\n",
    "plt.title('City Populations')\n",
    " \n",
    "plt.show()"
   ]
  },
  {
   "cell_type": "code",
   "execution_count": 30,
   "metadata": {},
   "outputs": [],
   "source": [
    "# x_values = [family[0]['Name'], family[1]['Name'], family[2]['Name']]\n",
    "# y_values = [family[0]['Favorite Season'], family[1]['Favorite Season'], family[2]['Favorite Season']]\n",
    "\n",
    "# plt.bar(x_values, y_values)\n",
    "# plt.ylabel('Name')\n",
    "# plt.title('Season')\n",
    " \n",
    "# plt.show()"
   ]
  },
  {
   "cell_type": "code",
   "execution_count": 31,
   "metadata": {},
   "outputs": [
    {
     "data": {
      "text/plain": [
       "[0, 1, 2, 3, 4, 5, 6, 7, 8, 9, 10, 11]"
      ]
     },
     "execution_count": 31,
     "metadata": {},
     "output_type": "execute_result"
    }
   ],
   "source": [
    "city_indices = list(range(0,12))\n",
    "city_indices"
   ]
  },
  {
   "cell_type": "code",
   "execution_count": 32,
   "metadata": {},
   "outputs": [
    {
     "data": {
      "text/plain": [
       "['Buenos Aires',\n",
       " 'Toronto',\n",
       " 'Pyeongchang',\n",
       " 'Marakesh',\n",
       " 'Albuquerque',\n",
       " 'Los Cabos',\n",
       " 'Greenville',\n",
       " 'Archipelago Sea',\n",
       " 'Walla Walla Valley',\n",
       " 'Salina Island',\n",
       " 'Solta',\n",
       " 'PyeongChang']"
      ]
     },
     "execution_count": 32,
     "metadata": {},
     "output_type": "execute_result"
    }
   ],
   "source": [
    "city_names = []\n",
    "for city in cities:\n",
    "    city_names.append(city['City'])\n",
    "city_names"
   ]
  },
  {
   "cell_type": "code",
   "execution_count": 62,
   "metadata": {},
   "outputs": [
    {
     "data": {
      "text/plain": [
       "[2891000,\n",
       " 2800000,\n",
       " 2581000,\n",
       " 928850,\n",
       " 559277,\n",
       " 287651,\n",
       " 84554,\n",
       " 60000,\n",
       " 32237,\n",
       " 4000,\n",
       " 1700,\n",
       " 0]"
      ]
     },
     "execution_count": 62,
     "metadata": {},
     "output_type": "execute_result"
    }
   ],
   "source": [
    "city_population = []\n",
    "for city in cities:\n",
    "    city_population.append(city['Population'])\n",
    "city_population"
   ]
  },
  {
   "cell_type": "code",
   "execution_count": 63,
   "metadata": {},
   "outputs": [
    {
     "data": {
      "text/plain": [
       "['1. Buenos Aires',\n",
       " '2. Toronto',\n",
       " '3. Pyeongchang',\n",
       " '4. Marakesh',\n",
       " '5. Albuquerque',\n",
       " '6. Los Cabos',\n",
       " '7. Greenville',\n",
       " '8. Archipelago Sea',\n",
       " '9. Walla Walla Valley',\n",
       " '10. Salina Island',\n",
       " '11. Solta',\n",
       " '12. PyeongChang']"
      ]
     },
     "execution_count": 63,
     "metadata": {},
     "output_type": "execute_result"
    }
   ],
   "source": [
    "names_and_ranks = []\n",
    "for i in city_indices:\n",
    "    names_and_ranks.append(str(i+1) + '. ' + cities[i]['City'])\n",
    "names_and_ranks"
   ]
  },
  {
   "cell_type": "code",
   "execution_count": 64,
   "metadata": {},
   "outputs": [
    {
     "data": {
      "image/png": "[encoded data removed]",
      "text/plain": [
       "<Figure size 432x288 with 1 Axes>"
      ]
     },
     "metadata": {
      "needs_background": "light"
     },
     "output_type": "display_data"
    }
   ],
   "source": [
    "plt.bar(names_and_ranks, city_population)\n",
    "plt.xticks(rotation='vertical')\n",
    "plt.ylabel('Population')\n",
    "plt.title('City Populations')\n",
    "plt.show()"
   ]
  },
  {
   "cell_type": "code",
   "execution_count": 65,
   "metadata": {},
   "outputs": [
    {
     "data": {
      "text/plain": [
       "[4758, 2731571, 3194, 200, 491, 3750, 68, 8300, 33, 27, 59, 672]"
      ]
     },
     "execution_count": 65,
     "metadata": {},
     "output_type": "execute_result"
    }
   ],
   "source": [
    "city_areas = []\n",
    "for city in cities:\n",
    "    city_areas.append(city['Area'])\n",
    "city_areas"
   ]
  },
  {
   "cell_type": "code",
   "execution_count": 67,
   "metadata": {},
   "outputs": [],
   "source": [
    "# plt.bar(names_and_ranks, city_areas)\n",
    "# plt.ylabel('Area')\n",
    "# plt.xlabel('Cities')\n",
    "# plt.title('City Areas')\n",
    "# plt.xticks(rotation='vertical')\n",
    " \n",
    "# plt.show()"
   ]
  },
  {
   "cell_type": "code",
   "execution_count": null,
   "metadata": {},
   "outputs": [],
   "source": []
  }
 ],
 "metadata": {
  "kernelspec": {
   "display_name": "Python 3",
   "language": "python",
   "name": "python3"
  },
  "language_info": {
   "codemirror_mode": {
    "name": "ipython",
    "version": 3
   },
   "file_extension": ".py",
   "mimetype": "text/x-python",
   "name": "python",
   "nbconvert_exporter": "python",
   "pygments_lexer": "ipython3",
   "version": "3.8.3"
  }
 },
 "nbformat": 4,
 "nbformat_minor": 4
}
