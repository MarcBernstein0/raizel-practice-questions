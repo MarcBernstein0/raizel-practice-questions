{
 "metadata": {
  "language_info": {
   "codemirror_mode": {
    "name": "ipython",
    "version": 3
   },
   "file_extension": ".py",
   "mimetype": "text/x-python",
   "name": "python",
   "nbconvert_exporter": "python",
   "pygments_lexer": "ipython3",
   "version": "3.8.3-final"
  },
  "orig_nbformat": 2,
  "kernelspec": {
   "name": "learn-env",
   "display_name": "learn-env"
  }
 },
 "nbformat": 4,
 "nbformat_minor": 2,
 "cells": [
  {
   "cell_type": "code",
   "execution_count": 18,
   "metadata": {},
   "outputs": [],
   "source": [
    "import pandas as pd\n",
    "import numpy as np\n",
    "import matplotlib.pyplot as plt\n",
    "pd.set_option(\"display.max_rows\", 70)"
   ]
  },
  {
   "cell_type": "code",
   "execution_count": 19,
   "metadata": {},
   "outputs": [],
   "source": [
    "# import os\n",
    "# data_path = os.path.join('zippedData')\n",
    "# files = os.listdir(data_path)\n",
    "# file_paths = ['zippedData/' + file for file in files]"
   ]
  },
  {
   "cell_type": "code",
   "execution_count": 20,
   "metadata": {},
   "outputs": [],
   "source": [
    "# \"\"\"Adding files into a DataFrame dictionary so the file becomes recognizable.\n",
    "# The file is the key and the data is the value\"\"\"\n",
    "# df_dict = {}\n",
    "# file_paths = ['zippedData/bom.movie_gross.csv.gz', 'zippedData/imdb.name.basics.csv.gz', \n",
    "#               'zippedData/imdb.title.akas.csv.gz', 'zippedData/imdb.title.basics.csv.gz', \n",
    "#               'zippedData/imdb.title.crew.csv.gz', 'zippedData/imdb.title.principals.csv.gz', \n",
    "#               'zippedData/imdb.title.ratings.csv.gz','zippedData/tmdb.movies.csv.gz', 'zippedData/tn.movie_budgets.csv.gz']\n",
    "# for file in file_paths:\n",
    "#     df_dict[file] = pd.read_csv(file)\n",
    "# rotten_file_paths = ['zippedData/rt.movie_info.tsv.gz', 'zippedData/rt.reviews.tsv.gz']\n",
    "# for file in rotten_file_paths:\n",
    "#     df_dict[file] = pd.read_csv(file, delimiter='\\t', encoding='ISO-8859-1')    \n",
    "# print(df_dict)"
   ]
  },
  {
   "cell_type": "code",
   "execution_count": 26,
   "metadata": {},
   "outputs": [
    {
     "output_type": "execute_result",
     "data": {
      "text/plain": [
       "           tconst                                primary_title  \\\n",
       "0       tt0063540                                    Sunghursh   \n",
       "1       tt0066787              One Day Before the Rainy Season   \n",
       "2       tt0069049                   The Other Side of the Wind   \n",
       "3       tt0069204                              Sabse Bada Sukh   \n",
       "4       tt0100275                     The Wandering Soap Opera   \n",
       "...           ...                                          ...   \n",
       "146139  tt9916538                          Kuambil Lagi Hatiku   \n",
       "146140  tt9916622  Rodolpho Teóphilo - O Legado de um Pioneiro   \n",
       "146141  tt9916706                              Dankyavar Danka   \n",
       "146142  tt9916730                                       6 Gunn   \n",
       "146143  tt9916754               Chico Albuquerque - Revelações   \n",
       "\n",
       "                                     original_title  start_year  \\\n",
       "0                                         Sunghursh        2013   \n",
       "1                                   Ashad Ka Ek Din        2019   \n",
       "2                        The Other Side of the Wind        2018   \n",
       "3                                   Sabse Bada Sukh        2018   \n",
       "4                             La Telenovela Errante        2017   \n",
       "...                                             ...         ...   \n",
       "146139                          Kuambil Lagi Hatiku        2019   \n",
       "146140  Rodolpho Teóphilo - O Legado de um Pioneiro        2015   \n",
       "146141                              Dankyavar Danka        2013   \n",
       "146142                                       6 Gunn        2017   \n",
       "146143               Chico Albuquerque - Revelações        2013   \n",
       "\n",
       "        runtime_minutes                genres  \n",
       "0                 175.0    Action,Crime,Drama  \n",
       "1                 114.0       Biography,Drama  \n",
       "2                 122.0                 Drama  \n",
       "3                   NaN          Comedy,Drama  \n",
       "4                  80.0  Comedy,Drama,Fantasy  \n",
       "...                 ...                   ...  \n",
       "146139            123.0                 Drama  \n",
       "146140              NaN           Documentary  \n",
       "146141              NaN                Comedy  \n",
       "146142            116.0                   NaN  \n",
       "146143              NaN           Documentary  \n",
       "\n",
       "[146144 rows x 6 columns]"
      ],
      "text/html": "<div>\n<style scoped>\n    .dataframe tbody tr th:only-of-type {\n        vertical-align: middle;\n    }\n\n    .dataframe tbody tr th {\n        vertical-align: top;\n    }\n\n    .dataframe thead th {\n        text-align: right;\n    }\n</style>\n<table border=\"1\" class=\"dataframe\">\n  <thead>\n    <tr style=\"text-align: right;\">\n      <th></th>\n      <th>tconst</th>\n      <th>primary_title</th>\n      <th>original_title</th>\n      <th>start_year</th>\n      <th>runtime_minutes</th>\n      <th>genres</th>\n    </tr>\n  </thead>\n  <tbody>\n    <tr>\n      <th>0</th>\n      <td>tt0063540</td>\n      <td>Sunghursh</td>\n      <td>Sunghursh</td>\n      <td>2013</td>\n      <td>175.0</td>\n      <td>Action,Crime,Drama</td>\n    </tr>\n    <tr>\n      <th>1</th>\n      <td>tt0066787</td>\n      <td>One Day Before the Rainy Season</td>\n      <td>Ashad Ka Ek Din</td>\n      <td>2019</td>\n      <td>114.0</td>\n      <td>Biography,Drama</td>\n    </tr>\n    <tr>\n      <th>2</th>\n      <td>tt0069049</td>\n      <td>The Other Side of the Wind</td>\n      <td>The Other Side of the Wind</td>\n      <td>2018</td>\n      <td>122.0</td>\n      <td>Drama</td>\n    </tr>\n    <tr>\n      <th>3</th>\n      <td>tt0069204</td>\n      <td>Sabse Bada Sukh</td>\n      <td>Sabse Bada Sukh</td>\n      <td>2018</td>\n      <td>NaN</td>\n      <td>Comedy,Drama</td>\n    </tr>\n    <tr>\n      <th>4</th>\n      <td>tt0100275</td>\n      <td>The Wandering Soap Opera</td>\n      <td>La Telenovela Errante</td>\n      <td>2017</td>\n      <td>80.0</td>\n      <td>Comedy,Drama,Fantasy</td>\n    </tr>\n    <tr>\n      <th>...</th>\n      <td>...</td>\n      <td>...</td>\n      <td>...</td>\n      <td>...</td>\n      <td>...</td>\n      <td>...</td>\n    </tr>\n    <tr>\n      <th>146139</th>\n      <td>tt9916538</td>\n      <td>Kuambil Lagi Hatiku</td>\n      <td>Kuambil Lagi Hatiku</td>\n      <td>2019</td>\n      <td>123.0</td>\n      <td>Drama</td>\n    </tr>\n    <tr>\n      <th>146140</th>\n      <td>tt9916622</td>\n      <td>Rodolpho Teóphilo - O Legado de um Pioneiro</td>\n      <td>Rodolpho Teóphilo - O Legado de um Pioneiro</td>\n      <td>2015</td>\n      <td>NaN</td>\n      <td>Documentary</td>\n    </tr>\n    <tr>\n      <th>146141</th>\n      <td>tt9916706</td>\n      <td>Dankyavar Danka</td>\n      <td>Dankyavar Danka</td>\n      <td>2013</td>\n      <td>NaN</td>\n      <td>Comedy</td>\n    </tr>\n    <tr>\n      <th>146142</th>\n      <td>tt9916730</td>\n      <td>6 Gunn</td>\n      <td>6 Gunn</td>\n      <td>2017</td>\n      <td>116.0</td>\n      <td>NaN</td>\n    </tr>\n    <tr>\n      <th>146143</th>\n      <td>tt9916754</td>\n      <td>Chico Albuquerque - Revelações</td>\n      <td>Chico Albuquerque - Revelações</td>\n      <td>2013</td>\n      <td>NaN</td>\n      <td>Documentary</td>\n    </tr>\n  </tbody>\n</table>\n<p>146144 rows × 6 columns</p>\n</div>"
     },
     "metadata": {},
     "execution_count": 26
    }
   ],
   "source": [
    "df1 = pd.read_csv('../data/imdb.title.basics.csv.gz')\n",
    "df1"
   ]
  },
  {
   "cell_type": "code",
   "execution_count": 27,
   "metadata": {},
   "outputs": [
    {
     "output_type": "execute_result",
     "data": {
      "text/plain": [
       "           tconst  averagerating  numvotes\n",
       "0      tt10356526            8.3        31\n",
       "1      tt10384606            8.9       559\n",
       "2       tt1042974            6.4        20\n",
       "3       tt1043726            4.2     50352\n",
       "4       tt1060240            6.5        21\n",
       "...           ...            ...       ...\n",
       "73851   tt9805820            8.1        25\n",
       "73852   tt9844256            7.5        24\n",
       "73853   tt9851050            4.7        14\n",
       "73854   tt9886934            7.0         5\n",
       "73855   tt9894098            6.3       128\n",
       "\n",
       "[73856 rows x 3 columns]"
      ],
      "text/html": "<div>\n<style scoped>\n    .dataframe tbody tr th:only-of-type {\n        vertical-align: middle;\n    }\n\n    .dataframe tbody tr th {\n        vertical-align: top;\n    }\n\n    .dataframe thead th {\n        text-align: right;\n    }\n</style>\n<table border=\"1\" class=\"dataframe\">\n  <thead>\n    <tr style=\"text-align: right;\">\n      <th></th>\n      <th>tconst</th>\n      <th>averagerating</th>\n      <th>numvotes</th>\n    </tr>\n  </thead>\n  <tbody>\n    <tr>\n      <th>0</th>\n      <td>tt10356526</td>\n      <td>8.3</td>\n      <td>31</td>\n    </tr>\n    <tr>\n      <th>1</th>\n      <td>tt10384606</td>\n      <td>8.9</td>\n      <td>559</td>\n    </tr>\n    <tr>\n      <th>2</th>\n      <td>tt1042974</td>\n      <td>6.4</td>\n      <td>20</td>\n    </tr>\n    <tr>\n      <th>3</th>\n      <td>tt1043726</td>\n      <td>4.2</td>\n      <td>50352</td>\n    </tr>\n    <tr>\n      <th>4</th>\n      <td>tt1060240</td>\n      <td>6.5</td>\n      <td>21</td>\n    </tr>\n    <tr>\n      <th>...</th>\n      <td>...</td>\n      <td>...</td>\n      <td>...</td>\n    </tr>\n    <tr>\n      <th>73851</th>\n      <td>tt9805820</td>\n      <td>8.1</td>\n      <td>25</td>\n    </tr>\n    <tr>\n      <th>73852</th>\n      <td>tt9844256</td>\n      <td>7.5</td>\n      <td>24</td>\n    </tr>\n    <tr>\n      <th>73853</th>\n      <td>tt9851050</td>\n      <td>4.7</td>\n      <td>14</td>\n    </tr>\n    <tr>\n      <th>73854</th>\n      <td>tt9886934</td>\n      <td>7.0</td>\n      <td>5</td>\n    </tr>\n    <tr>\n      <th>73855</th>\n      <td>tt9894098</td>\n      <td>6.3</td>\n      <td>128</td>\n    </tr>\n  </tbody>\n</table>\n<p>73856 rows × 3 columns</p>\n</div>"
     },
     "metadata": {},
     "execution_count": 27
    }
   ],
   "source": [
    "df2 = pd.read_csv('../data/imdb.title.ratings.csv.gz')\n",
    "df2"
   ]
  },
  {
   "cell_type": "code",
   "execution_count": 28,
   "metadata": {},
   "outputs": [
    {
     "output_type": "execute_result",
     "data": {
      "text/plain": [
       "                                            title      studio  domestic_gross  \\\n",
       "0                                     Toy Story 3          BV     415000000.0   \n",
       "1                      Alice in Wonderland (2010)          BV     334200000.0   \n",
       "2     Harry Potter and the Deathly Hallows Part 1          WB     296000000.0   \n",
       "3                                       Inception          WB     292600000.0   \n",
       "4                             Shrek Forever After        P/DW     238700000.0   \n",
       "...                                           ...         ...             ...   \n",
       "3382                                    The Quake       Magn.          6200.0   \n",
       "3383                  Edward II (2018 re-release)          FM          4800.0   \n",
       "3384                                     El Pacto        Sony          2500.0   \n",
       "3385                                     The Swan  Synergetic          2400.0   \n",
       "3386                            An Actor Prepares       Grav.          1700.0   \n",
       "\n",
       "     foreign_gross  year  \n",
       "0        652000000  2010  \n",
       "1        691300000  2010  \n",
       "2        664300000  2010  \n",
       "3        535700000  2010  \n",
       "4        513900000  2010  \n",
       "...            ...   ...  \n",
       "3382           NaN  2018  \n",
       "3383           NaN  2018  \n",
       "3384           NaN  2018  \n",
       "3385           NaN  2018  \n",
       "3386           NaN  2018  \n",
       "\n",
       "[3387 rows x 5 columns]"
      ],
      "text/html": "<div>\n<style scoped>\n    .dataframe tbody tr th:only-of-type {\n        vertical-align: middle;\n    }\n\n    .dataframe tbody tr th {\n        vertical-align: top;\n    }\n\n    .dataframe thead th {\n        text-align: right;\n    }\n</style>\n<table border=\"1\" class=\"dataframe\">\n  <thead>\n    <tr style=\"text-align: right;\">\n      <th></th>\n      <th>title</th>\n      <th>studio</th>\n      <th>domestic_gross</th>\n      <th>foreign_gross</th>\n      <th>year</th>\n    </tr>\n  </thead>\n  <tbody>\n    <tr>\n      <th>0</th>\n      <td>Toy Story 3</td>\n      <td>BV</td>\n      <td>415000000.0</td>\n      <td>652000000</td>\n      <td>2010</td>\n    </tr>\n    <tr>\n      <th>1</th>\n      <td>Alice in Wonderland (2010)</td>\n      <td>BV</td>\n      <td>334200000.0</td>\n      <td>691300000</td>\n      <td>2010</td>\n    </tr>\n    <tr>\n      <th>2</th>\n      <td>Harry Potter and the Deathly Hallows Part 1</td>\n      <td>WB</td>\n      <td>296000000.0</td>\n      <td>664300000</td>\n      <td>2010</td>\n    </tr>\n    <tr>\n      <th>3</th>\n      <td>Inception</td>\n      <td>WB</td>\n      <td>292600000.0</td>\n      <td>535700000</td>\n      <td>2010</td>\n    </tr>\n    <tr>\n      <th>4</th>\n      <td>Shrek Forever After</td>\n      <td>P/DW</td>\n      <td>238700000.0</td>\n      <td>513900000</td>\n      <td>2010</td>\n    </tr>\n    <tr>\n      <th>...</th>\n      <td>...</td>\n      <td>...</td>\n      <td>...</td>\n      <td>...</td>\n      <td>...</td>\n    </tr>\n    <tr>\n      <th>3382</th>\n      <td>The Quake</td>\n      <td>Magn.</td>\n      <td>6200.0</td>\n      <td>NaN</td>\n      <td>2018</td>\n    </tr>\n    <tr>\n      <th>3383</th>\n      <td>Edward II (2018 re-release)</td>\n      <td>FM</td>\n      <td>4800.0</td>\n      <td>NaN</td>\n      <td>2018</td>\n    </tr>\n    <tr>\n      <th>3384</th>\n      <td>El Pacto</td>\n      <td>Sony</td>\n      <td>2500.0</td>\n      <td>NaN</td>\n      <td>2018</td>\n    </tr>\n    <tr>\n      <th>3385</th>\n      <td>The Swan</td>\n      <td>Synergetic</td>\n      <td>2400.0</td>\n      <td>NaN</td>\n      <td>2018</td>\n    </tr>\n    <tr>\n      <th>3386</th>\n      <td>An Actor Prepares</td>\n      <td>Grav.</td>\n      <td>1700.0</td>\n      <td>NaN</td>\n      <td>2018</td>\n    </tr>\n  </tbody>\n</table>\n<p>3387 rows × 5 columns</p>\n</div>"
     },
     "metadata": {},
     "execution_count": 28
    }
   ],
   "source": [
    "df3 = pd.read_csv('../data/bom.movie_gross.csv.gz')\n",
    "df3"
   ]
  },
  {
   "cell_type": "code",
   "execution_count": 30,
   "metadata": {},
   "outputs": [
    {
     "output_type": "execute_result",
     "data": {
      "text/plain": [
       "          tconst                    primary_title              original_title  \\\n",
       "0      tt0063540                        Sunghursh                   Sunghursh   \n",
       "1      tt0066787  One Day Before the Rainy Season             Ashad Ka Ek Din   \n",
       "2      tt0069049       The Other Side of the Wind  The Other Side of the Wind   \n",
       "3      tt0069204                  Sabse Bada Sukh             Sabse Bada Sukh   \n",
       "4      tt0100275         The Wandering Soap Opera       La Telenovela Errante   \n",
       "...          ...                              ...                         ...   \n",
       "73851  tt9913084                 Diabolik sono io            Diabolik sono io   \n",
       "73852  tt9914286                Sokagin Çocuklari           Sokagin Çocuklari   \n",
       "73853  tt9914642                        Albatross                   Albatross   \n",
       "73854  tt9914942       La vida sense la Sara Amat  La vida sense la Sara Amat   \n",
       "73855  tt9916160                       Drømmeland                  Drømmeland   \n",
       "\n",
       "       start_year  runtime_minutes                genres  averagerating  \\\n",
       "0            2013            175.0    Action,Crime,Drama            7.0   \n",
       "1            2019            114.0       Biography,Drama            7.2   \n",
       "2            2018            122.0                 Drama            6.9   \n",
       "3            2018              NaN          Comedy,Drama            6.1   \n",
       "4            2017             80.0  Comedy,Drama,Fantasy            6.5   \n",
       "...           ...              ...                   ...            ...   \n",
       "73851        2019             75.0           Documentary            6.2   \n",
       "73852        2019             98.0          Drama,Family            8.7   \n",
       "73853        2017              NaN           Documentary            8.5   \n",
       "73854        2019              NaN                   NaN            6.6   \n",
       "73855        2019             72.0           Documentary            6.5   \n",
       "\n",
       "       numvotes  \n",
       "0            77  \n",
       "1            43  \n",
       "2          4517  \n",
       "3            13  \n",
       "4           119  \n",
       "...         ...  \n",
       "73851         6  \n",
       "73852       136  \n",
       "73853         8  \n",
       "73854         5  \n",
       "73855        11  \n",
       "\n",
       "[73856 rows x 8 columns]"
      ],
      "text/html": "<div>\n<style scoped>\n    .dataframe tbody tr th:only-of-type {\n        vertical-align: middle;\n    }\n\n    .dataframe tbody tr th {\n        vertical-align: top;\n    }\n\n    .dataframe thead th {\n        text-align: right;\n    }\n</style>\n<table border=\"1\" class=\"dataframe\">\n  <thead>\n    <tr style=\"text-align: right;\">\n      <th></th>\n      <th>tconst</th>\n      <th>primary_title</th>\n      <th>original_title</th>\n      <th>start_year</th>\n      <th>runtime_minutes</th>\n      <th>genres</th>\n      <th>averagerating</th>\n      <th>numvotes</th>\n    </tr>\n  </thead>\n  <tbody>\n    <tr>\n      <th>0</th>\n      <td>tt0063540</td>\n      <td>Sunghursh</td>\n      <td>Sunghursh</td>\n      <td>2013</td>\n      <td>175.0</td>\n      <td>Action,Crime,Drama</td>\n      <td>7.0</td>\n      <td>77</td>\n    </tr>\n    <tr>\n      <th>1</th>\n      <td>tt0066787</td>\n      <td>One Day Before the Rainy Season</td>\n      <td>Ashad Ka Ek Din</td>\n      <td>2019</td>\n      <td>114.0</td>\n      <td>Biography,Drama</td>\n      <td>7.2</td>\n      <td>43</td>\n    </tr>\n    <tr>\n      <th>2</th>\n      <td>tt0069049</td>\n      <td>The Other Side of the Wind</td>\n      <td>The Other Side of the Wind</td>\n      <td>2018</td>\n      <td>122.0</td>\n      <td>Drama</td>\n      <td>6.9</td>\n      <td>4517</td>\n    </tr>\n    <tr>\n      <th>3</th>\n      <td>tt0069204</td>\n      <td>Sabse Bada Sukh</td>\n      <td>Sabse Bada Sukh</td>\n      <td>2018</td>\n      <td>NaN</td>\n      <td>Comedy,Drama</td>\n      <td>6.1</td>\n      <td>13</td>\n    </tr>\n    <tr>\n      <th>4</th>\n      <td>tt0100275</td>\n      <td>The Wandering Soap Opera</td>\n      <td>La Telenovela Errante</td>\n      <td>2017</td>\n      <td>80.0</td>\n      <td>Comedy,Drama,Fantasy</td>\n      <td>6.5</td>\n      <td>119</td>\n    </tr>\n    <tr>\n      <th>...</th>\n      <td>...</td>\n      <td>...</td>\n      <td>...</td>\n      <td>...</td>\n      <td>...</td>\n      <td>...</td>\n      <td>...</td>\n      <td>...</td>\n    </tr>\n    <tr>\n      <th>73851</th>\n      <td>tt9913084</td>\n      <td>Diabolik sono io</td>\n      <td>Diabolik sono io</td>\n      <td>2019</td>\n      <td>75.0</td>\n      <td>Documentary</td>\n      <td>6.2</td>\n      <td>6</td>\n    </tr>\n    <tr>\n      <th>73852</th>\n      <td>tt9914286</td>\n      <td>Sokagin Çocuklari</td>\n      <td>Sokagin Çocuklari</td>\n      <td>2019</td>\n      <td>98.0</td>\n      <td>Drama,Family</td>\n      <td>8.7</td>\n      <td>136</td>\n    </tr>\n    <tr>\n      <th>73853</th>\n      <td>tt9914642</td>\n      <td>Albatross</td>\n      <td>Albatross</td>\n      <td>2017</td>\n      <td>NaN</td>\n      <td>Documentary</td>\n      <td>8.5</td>\n      <td>8</td>\n    </tr>\n    <tr>\n      <th>73854</th>\n      <td>tt9914942</td>\n      <td>La vida sense la Sara Amat</td>\n      <td>La vida sense la Sara Amat</td>\n      <td>2019</td>\n      <td>NaN</td>\n      <td>NaN</td>\n      <td>6.6</td>\n      <td>5</td>\n    </tr>\n    <tr>\n      <th>73855</th>\n      <td>tt9916160</td>\n      <td>Drømmeland</td>\n      <td>Drømmeland</td>\n      <td>2019</td>\n      <td>72.0</td>\n      <td>Documentary</td>\n      <td>6.5</td>\n      <td>11</td>\n    </tr>\n  </tbody>\n</table>\n<p>73856 rows × 8 columns</p>\n</div>"
     },
     "metadata": {},
     "execution_count": 30
    }
   ],
   "source": [
    "df = pd.merge(df1, df2, on = 'tconst')\n",
    "df"
   ]
  },
  {
   "cell_type": "code",
   "execution_count": 33,
   "metadata": {},
   "outputs": [
    {
     "output_type": "execute_result",
     "data": {
      "text/plain": [
       "         tconst                    primary_title  \\\n",
       "0     tt0315642                            Wazir   \n",
       "1     tt0337692                      On the Road   \n",
       "2     tt4339118                      On the Road   \n",
       "3     tt5647250                      On the Road   \n",
       "4     tt0359950  The Secret Life of Walter Mitty   \n",
       "...         ...                              ...   \n",
       "3022  tt8331988                  The Chambermaid   \n",
       "3023  tt8404272           How Long Will I Love U   \n",
       "3024  tt8427036                  Helicopter Eela   \n",
       "3025  tt9078374                      Last Letter   \n",
       "3026  tt9151704        Burn the Stage: The Movie   \n",
       "\n",
       "                       original_title  start_year  runtime_minutes  \\\n",
       "0                               Wazir        2016            103.0   \n",
       "1                         On the Road        2012            124.0   \n",
       "2                         On the Road        2014             89.0   \n",
       "3                         On the Road        2016            121.0   \n",
       "4     The Secret Life of Walter Mitty        2013            114.0   \n",
       "...                               ...         ...              ...   \n",
       "3022                     La camarista        2018            102.0   \n",
       "3023            Chao shi kong tong ju        2018            101.0   \n",
       "3024                  Helicopter Eela        2018            135.0   \n",
       "3025                   Ni hao, Zhihua        2018            114.0   \n",
       "3026        Burn the Stage: The Movie        2018             84.0   \n",
       "\n",
       "                       genres  averagerating  numvotes  \\\n",
       "0          Action,Crime,Drama            7.1     15378   \n",
       "1     Adventure,Drama,Romance            6.1     37886   \n",
       "2                       Drama            6.0         6   \n",
       "3                       Drama            5.7       127   \n",
       "4      Adventure,Comedy,Drama            7.3    275300   \n",
       "...                       ...            ...       ...   \n",
       "3022                    Drama            7.1       147   \n",
       "3023                  Romance            6.5       607   \n",
       "3024                    Drama            5.4       673   \n",
       "3025            Drama,Romance            6.4       322   \n",
       "3026        Documentary,Music            8.8      2067   \n",
       "\n",
       "                                title     studio  domestic_gross  \\\n",
       "0                               Wazir    Relbig.       1100000.0   \n",
       "1                         On the Road        IFC        744000.0   \n",
       "2                         On the Road        IFC        744000.0   \n",
       "3                         On the Road        IFC        744000.0   \n",
       "4     The Secret Life of Walter Mitty        Fox      58200000.0   \n",
       "...                               ...        ...             ...   \n",
       "3022                  The Chambermaid         FM           300.0   \n",
       "3023           How Long Will I Love U      WGUSA        747000.0   \n",
       "3024                  Helicopter Eela       Eros         72000.0   \n",
       "3025                      Last Letter         CL        181000.0   \n",
       "3026        Burn the Stage: The Movie  Trafalgar       4200000.0   \n",
       "\n",
       "     foreign_gross  year  \n",
       "0              NaN  2016  \n",
       "1          8000000  2012  \n",
       "2          8000000  2012  \n",
       "3          8000000  2012  \n",
       "4        129900000  2013  \n",
       "...            ...   ...  \n",
       "3022           NaN  2015  \n",
       "3023      82100000  2018  \n",
       "3024           NaN  2018  \n",
       "3025           NaN  2018  \n",
       "3026      16100000  2018  \n",
       "\n",
       "[3027 rows x 13 columns]"
      ],
      "text/html": "<div>\n<style scoped>\n    .dataframe tbody tr th:only-of-type {\n        vertical-align: middle;\n    }\n\n    .dataframe tbody tr th {\n        vertical-align: top;\n    }\n\n    .dataframe thead th {\n        text-align: right;\n    }\n</style>\n<table border=\"1\" class=\"dataframe\">\n  <thead>\n    <tr style=\"text-align: right;\">\n      <th></th>\n      <th>tconst</th>\n      <th>primary_title</th>\n      <th>original_title</th>\n      <th>start_year</th>\n      <th>runtime_minutes</th>\n      <th>genres</th>\n      <th>averagerating</th>\n      <th>numvotes</th>\n      <th>title</th>\n      <th>studio</th>\n      <th>domestic_gross</th>\n      <th>foreign_gross</th>\n      <th>year</th>\n    </tr>\n  </thead>\n  <tbody>\n    <tr>\n      <th>0</th>\n      <td>tt0315642</td>\n      <td>Wazir</td>\n      <td>Wazir</td>\n      <td>2016</td>\n      <td>103.0</td>\n      <td>Action,Crime,Drama</td>\n      <td>7.1</td>\n      <td>15378</td>\n      <td>Wazir</td>\n      <td>Relbig.</td>\n      <td>1100000.0</td>\n      <td>NaN</td>\n      <td>2016</td>\n    </tr>\n    <tr>\n      <th>1</th>\n      <td>tt0337692</td>\n      <td>On the Road</td>\n      <td>On the Road</td>\n      <td>2012</td>\n      <td>124.0</td>\n      <td>Adventure,Drama,Romance</td>\n      <td>6.1</td>\n      <td>37886</td>\n      <td>On the Road</td>\n      <td>IFC</td>\n      <td>744000.0</td>\n      <td>8000000</td>\n      <td>2012</td>\n    </tr>\n    <tr>\n      <th>2</th>\n      <td>tt4339118</td>\n      <td>On the Road</td>\n      <td>On the Road</td>\n      <td>2014</td>\n      <td>89.0</td>\n      <td>Drama</td>\n      <td>6.0</td>\n      <td>6</td>\n      <td>On the Road</td>\n      <td>IFC</td>\n      <td>744000.0</td>\n      <td>8000000</td>\n      <td>2012</td>\n    </tr>\n    <tr>\n      <th>3</th>\n      <td>tt5647250</td>\n      <td>On the Road</td>\n      <td>On the Road</td>\n      <td>2016</td>\n      <td>121.0</td>\n      <td>Drama</td>\n      <td>5.7</td>\n      <td>127</td>\n      <td>On the Road</td>\n      <td>IFC</td>\n      <td>744000.0</td>\n      <td>8000000</td>\n      <td>2012</td>\n    </tr>\n    <tr>\n      <th>4</th>\n      <td>tt0359950</td>\n      <td>The Secret Life of Walter Mitty</td>\n      <td>The Secret Life of Walter Mitty</td>\n      <td>2013</td>\n      <td>114.0</td>\n      <td>Adventure,Comedy,Drama</td>\n      <td>7.3</td>\n      <td>275300</td>\n      <td>The Secret Life of Walter Mitty</td>\n      <td>Fox</td>\n      <td>58200000.0</td>\n      <td>129900000</td>\n      <td>2013</td>\n    </tr>\n    <tr>\n      <th>...</th>\n      <td>...</td>\n      <td>...</td>\n      <td>...</td>\n      <td>...</td>\n      <td>...</td>\n      <td>...</td>\n      <td>...</td>\n      <td>...</td>\n      <td>...</td>\n      <td>...</td>\n      <td>...</td>\n      <td>...</td>\n      <td>...</td>\n    </tr>\n    <tr>\n      <th>3022</th>\n      <td>tt8331988</td>\n      <td>The Chambermaid</td>\n      <td>La camarista</td>\n      <td>2018</td>\n      <td>102.0</td>\n      <td>Drama</td>\n      <td>7.1</td>\n      <td>147</td>\n      <td>The Chambermaid</td>\n      <td>FM</td>\n      <td>300.0</td>\n      <td>NaN</td>\n      <td>2015</td>\n    </tr>\n    <tr>\n      <th>3023</th>\n      <td>tt8404272</td>\n      <td>How Long Will I Love U</td>\n      <td>Chao shi kong tong ju</td>\n      <td>2018</td>\n      <td>101.0</td>\n      <td>Romance</td>\n      <td>6.5</td>\n      <td>607</td>\n      <td>How Long Will I Love U</td>\n      <td>WGUSA</td>\n      <td>747000.0</td>\n      <td>82100000</td>\n      <td>2018</td>\n    </tr>\n    <tr>\n      <th>3024</th>\n      <td>tt8427036</td>\n      <td>Helicopter Eela</td>\n      <td>Helicopter Eela</td>\n      <td>2018</td>\n      <td>135.0</td>\n      <td>Drama</td>\n      <td>5.4</td>\n      <td>673</td>\n      <td>Helicopter Eela</td>\n      <td>Eros</td>\n      <td>72000.0</td>\n      <td>NaN</td>\n      <td>2018</td>\n    </tr>\n    <tr>\n      <th>3025</th>\n      <td>tt9078374</td>\n      <td>Last Letter</td>\n      <td>Ni hao, Zhihua</td>\n      <td>2018</td>\n      <td>114.0</td>\n      <td>Drama,Romance</td>\n      <td>6.4</td>\n      <td>322</td>\n      <td>Last Letter</td>\n      <td>CL</td>\n      <td>181000.0</td>\n      <td>NaN</td>\n      <td>2018</td>\n    </tr>\n    <tr>\n      <th>3026</th>\n      <td>tt9151704</td>\n      <td>Burn the Stage: The Movie</td>\n      <td>Burn the Stage: The Movie</td>\n      <td>2018</td>\n      <td>84.0</td>\n      <td>Documentary,Music</td>\n      <td>8.8</td>\n      <td>2067</td>\n      <td>Burn the Stage: The Movie</td>\n      <td>Trafalgar</td>\n      <td>4200000.0</td>\n      <td>16100000</td>\n      <td>2018</td>\n    </tr>\n  </tbody>\n</table>\n<p>3027 rows × 13 columns</p>\n</div>"
     },
     "metadata": {},
     "execution_count": 33
    }
   ],
   "source": [
    "main = pd.merge(df, df3, left_on = 'primary_title', right_on = 'title')\n",
    "main"
   ]
  },
  {
   "cell_type": "code",
   "execution_count": 35,
   "metadata": {},
   "outputs": [
    {
     "output_type": "execute_result",
     "data": {
      "text/plain": [
       "      tconst                    primary_title  \\\n",
       "0  tt0315642                            Wazir   \n",
       "1  tt0337692                      On the Road   \n",
       "2  tt4339118                      On the Road   \n",
       "3  tt5647250                      On the Road   \n",
       "4  tt0359950  The Secret Life of Walter Mitty   \n",
       "\n",
       "                    original_title  start_year  runtime_minutes  \\\n",
       "0                            Wazir        2016            103.0   \n",
       "1                      On the Road        2012            124.0   \n",
       "2                      On the Road        2014             89.0   \n",
       "3                      On the Road        2016            121.0   \n",
       "4  The Secret Life of Walter Mitty        2013            114.0   \n",
       "\n",
       "                    genres  averagerating  numvotes  \\\n",
       "0       Action,Crime,Drama            7.1     15378   \n",
       "1  Adventure,Drama,Romance            6.1     37886   \n",
       "2                    Drama            6.0         6   \n",
       "3                    Drama            5.7       127   \n",
       "4   Adventure,Comedy,Drama            7.3    275300   \n",
       "\n",
       "                             title   studio  domestic_gross foreign_gross  \\\n",
       "0                            Wazir  Relbig.       1100000.0           NaN   \n",
       "1                      On the Road      IFC        744000.0       8000000   \n",
       "2                      On the Road      IFC        744000.0       8000000   \n",
       "3                      On the Road      IFC        744000.0       8000000   \n",
       "4  The Secret Life of Walter Mitty      Fox      58200000.0     129900000   \n",
       "\n",
       "   year  \n",
       "0  2016  \n",
       "1  2012  \n",
       "2  2012  \n",
       "3  2012  \n",
       "4  2013  "
      ],
      "text/html": "<div>\n<style scoped>\n    .dataframe tbody tr th:only-of-type {\n        vertical-align: middle;\n    }\n\n    .dataframe tbody tr th {\n        vertical-align: top;\n    }\n\n    .dataframe thead th {\n        text-align: right;\n    }\n</style>\n<table border=\"1\" class=\"dataframe\">\n  <thead>\n    <tr style=\"text-align: right;\">\n      <th></th>\n      <th>tconst</th>\n      <th>primary_title</th>\n      <th>original_title</th>\n      <th>start_year</th>\n      <th>runtime_minutes</th>\n      <th>genres</th>\n      <th>averagerating</th>\n      <th>numvotes</th>\n      <th>title</th>\n      <th>studio</th>\n      <th>domestic_gross</th>\n      <th>foreign_gross</th>\n      <th>year</th>\n    </tr>\n  </thead>\n  <tbody>\n    <tr>\n      <th>0</th>\n      <td>tt0315642</td>\n      <td>Wazir</td>\n      <td>Wazir</td>\n      <td>2016</td>\n      <td>103.0</td>\n      <td>Action,Crime,Drama</td>\n      <td>7.1</td>\n      <td>15378</td>\n      <td>Wazir</td>\n      <td>Relbig.</td>\n      <td>1100000.0</td>\n      <td>NaN</td>\n      <td>2016</td>\n    </tr>\n    <tr>\n      <th>1</th>\n      <td>tt0337692</td>\n      <td>On the Road</td>\n      <td>On the Road</td>\n      <td>2012</td>\n      <td>124.0</td>\n      <td>Adventure,Drama,Romance</td>\n      <td>6.1</td>\n      <td>37886</td>\n      <td>On the Road</td>\n      <td>IFC</td>\n      <td>744000.0</td>\n      <td>8000000</td>\n      <td>2012</td>\n    </tr>\n    <tr>\n      <th>2</th>\n      <td>tt4339118</td>\n      <td>On the Road</td>\n      <td>On the Road</td>\n      <td>2014</td>\n      <td>89.0</td>\n      <td>Drama</td>\n      <td>6.0</td>\n      <td>6</td>\n      <td>On the Road</td>\n      <td>IFC</td>\n      <td>744000.0</td>\n      <td>8000000</td>\n      <td>2012</td>\n    </tr>\n    <tr>\n      <th>3</th>\n      <td>tt5647250</td>\n      <td>On the Road</td>\n      <td>On the Road</td>\n      <td>2016</td>\n      <td>121.0</td>\n      <td>Drama</td>\n      <td>5.7</td>\n      <td>127</td>\n      <td>On the Road</td>\n      <td>IFC</td>\n      <td>744000.0</td>\n      <td>8000000</td>\n      <td>2012</td>\n    </tr>\n    <tr>\n      <th>4</th>\n      <td>tt0359950</td>\n      <td>The Secret Life of Walter Mitty</td>\n      <td>The Secret Life of Walter Mitty</td>\n      <td>2013</td>\n      <td>114.0</td>\n      <td>Adventure,Comedy,Drama</td>\n      <td>7.3</td>\n      <td>275300</td>\n      <td>The Secret Life of Walter Mitty</td>\n      <td>Fox</td>\n      <td>58200000.0</td>\n      <td>129900000</td>\n      <td>2013</td>\n    </tr>\n  </tbody>\n</table>\n</div>"
     },
     "metadata": {},
     "execution_count": 35
    }
   ],
   "source": [
    "main = main.dropna(subset = ['genres', 'averagerating'])\n",
    "main.head()"
   ]
  },
  {
   "cell_type": "code",
   "execution_count": 37,
   "metadata": {},
   "outputs": [
    {
     "output_type": "execute_result",
     "data": {
      "text/plain": [
       "array(['Action,Crime,Drama', 'Adventure,Drama,Romance', 'Drama',\n",
       "       'Adventure,Comedy,Drama', 'Action,Adventure,Sci-Fi',\n",
       "       'Action,Comedy,Crime', 'Comedy,Drama', 'Crime,Drama',\n",
       "       'Comedy,Family', 'Adventure,Animation,Comedy',\n",
       "       'Crime,Drama,Thriller', 'Action,Sci-Fi,Thriller',\n",
       "       'Drama,Mystery,Sci-Fi', 'Drama,Thriller', 'Comedy,Romance',\n",
       "       'Biography,Drama,History', 'Comedy', 'Action,Adventure,Thriller',\n",
       "       'Horror,Mystery,Thriller', 'Action,Drama,Family',\n",
       "       'Drama,Romance,Sci-Fi', 'Comedy,Drama,Romance',\n",
       "       'Documentary,Drama,News', 'Action,Comedy,Fantasy',\n",
       "       'Action,Adventure,Animation', 'Action,Adventure,Fantasy', 'Sci-Fi',\n",
       "       'Documentary,Drama,Sport', 'Adventure,Drama,Fantasy',\n",
       "       'Horror,Thriller', 'Action,Crime,Thriller',\n",
       "       'Adventure,Comedy,Western', 'Drama,Horror,Sci-Fi', 'Comedy,Horror',\n",
       "       'Comedy,Drama,Music', 'Action,Thriller', 'Documentary',\n",
       "       'Action,Crime', 'Adventure,Drama,Mystery', 'Drama,Fantasy',\n",
       "       'Action,Adventure,Comedy', 'Action,Adventure,Crime',\n",
       "       'Action,Adventure,Drama', 'Comedy,Crime,Drama',\n",
       "       'Drama,History,Romance', 'Adventure,Comedy,Family',\n",
       "       'Animation,Family', 'Drama,Horror,Mystery', 'Documentary,Music',\n",
       "       'Drama,Fantasy,Horror', 'Biography,Drama',\n",
       "       'Adventure,Comedy,Fantasy', 'Biography,Drama,Romance',\n",
       "       'Biography,Drama,Music', 'Drama,War', 'Comedy,Family,Fantasy',\n",
       "       'Horror', 'Adventure,Drama,Sci-Fi', 'Action,Adventure,Horror',\n",
       "       'Action,Drama,Fantasy', 'Animation,Comedy,Family',\n",
       "       'Animation,Comedy,Crime', 'Adventure,Animation,Family',\n",
       "       'Action,Animation,Drama', 'Action,Crime,Horror', 'Drama,Romance',\n",
       "       'Adventure,Drama,Thriller', 'Action,Drama,Thriller',\n",
       "       'Action,Biography,Crime', 'Adventure,Family,Fantasy',\n",
       "       'Action,Adventure,Family', 'Action,Mystery,Thriller',\n",
       "       'Action,Drama,Sci-Fi', 'Crime,Drama,Horror', 'Action,Drama',\n",
       "       'Biography,Drama,Sport', 'Crime,Drama,History',\n",
       "       'Adventure,Drama,Family', 'Biography,Comedy,Drama',\n",
       "       'Drama,Romance,War', 'Biography,Crime,Drama',\n",
       "       'Action,Animation,Comedy', 'Action', 'Adventure,Animation,Drama',\n",
       "       'Adventure', 'Adventure,Drama,History', 'Biography,Drama,Thriller',\n",
       "       'Biography,Drama,Family', 'Action,Fantasy,Western',\n",
       "       'Action,Comedy,Sci-Fi', 'Fantasy,Horror,Mystery',\n",
       "       'Action,Comedy,Romance', 'Action,Family,Fantasy',\n",
       "       'Action,Fantasy,Horror', 'Action,Crime,Sci-Fi',\n",
       "       'Action,Fantasy,Thriller', 'Biography,Drama,Fantasy',\n",
       "       'Comedy,Fantasy,Horror', 'Drama,Mystery,Thriller',\n",
       "       'Action,Biography,Drama', 'Animation', 'Adventure,Comedy,Sci-Fi',\n",
       "       'Crime,Drama,Mystery', 'Crime,Mystery,Thriller',\n",
       "       'Documentary,News', 'Drama,Horror,Thriller',\n",
       "       'Drama,Fantasy,Sci-Fi', 'Drama,Music,Musical', 'Mystery,Thriller',\n",
       "       'Thriller', 'Drama,Fantasy,Romance', 'Biography,Documentary',\n",
       "       'Adventure,Fantasy', 'Adventure,Biography,Comedy',\n",
       "       'Biography,Documentary,Music', 'Biography,Comedy,Crime',\n",
       "       'Comedy,Drama,Family', 'Action,Drama,Romance',\n",
       "       'Action,Adventure,Western', 'Action,Crime,Mystery',\n",
       "       'Adventure,Biography,Drama', 'Mystery,Sci-Fi,Thriller',\n",
       "       'Comedy,Family,Romance', 'Adventure,Documentary',\n",
       "       'Adventure,Comedy,Music', 'Drama,Music', 'Adventure,Comedy',\n",
       "       'Comedy,Sci-Fi', 'Animation,Crime,Drama', 'Drama,Mystery,Romance',\n",
       "       'Biography,Documentary,Sport', 'Action,Comedy', 'Horror,Mystery',\n",
       "       'Fantasy,Horror,Thriller', 'Action,Comedy,Family',\n",
       "       'Comedy,Drama,Fantasy', 'Comedy,Crime,Romance', 'Drama,Sport',\n",
       "       'Crime,Thriller', 'Drama,Music,Romance', 'Action,Comedy,Horror',\n",
       "       'Horror,Romance', 'Biography,Drama,War', 'Crime,Documentary',\n",
       "       'Comedy,Crime,History', 'Adventure,Drama,Sport', 'Fantasy,Romance',\n",
       "       'Drama,History', 'Crime,Horror,Mystery', 'Comedy,Drama,Musical',\n",
       "       'Drama,Fantasy,Music', 'Animation,Comedy,Fantasy',\n",
       "       'Drama,Romance,Thriller', 'Drama,Fantasy,Thriller',\n",
       "       'Drama,Mystery,Western', 'Action,Drama,Mystery',\n",
       "       'Drama,Thriller,War', 'Drama,History,War', 'Animation,Drama',\n",
       "       'Romance,Sci-Fi,Thriller', 'Drama,Sci-Fi', 'Comedy,Crime,Thriller',\n",
       "       'Action,Adventure,Biography', 'Drama,Mystery',\n",
       "       'Adventure,Fantasy,Horror', 'Adventure,Drama,Western',\n",
       "       'Comedy,Romance,Sport', 'Family,Sport', 'Comedy,Mystery',\n",
       "       'Action,Drama,History', 'Drama,Family,Music', 'Drama,Family',\n",
       "       'Action,History,Thriller', 'Adventure,Mystery,Sci-Fi',\n",
       "       'Drama,Sci-Fi,Thriller', 'Drama,History,Thriller',\n",
       "       'Drama,Fantasy,Mystery', 'Comedy,Drama,Sport',\n",
       "       'Biography,Drama,Musical', 'Action,Drama,War', 'Comedy,Fantasy',\n",
       "       'Documentary,History', 'Comedy,Drama,Mystery', 'Comedy,Crime',\n",
       "       'Romance,Thriller', 'Action,Comedy,Drama', 'Drama,Western',\n",
       "       'Comedy,Mystery,Romance', 'Crime,Drama,Fantasy',\n",
       "       'Thriller,Western', 'Action,Comedy,Western',\n",
       "       'Comedy,Crime,Mystery', 'Crime,Drama,Romance',\n",
       "       'Crime,Documentary,History', 'Documentary,War', 'Action,History',\n",
       "       'Family', 'Comedy,Drama,Horror', 'Documentary,Drama,Mystery',\n",
       "       'Comedy,Crime,Documentary', 'Comedy,Horror,Romance',\n",
       "       'Action,Sci-Fi', 'Comedy,Fantasy,Romance',\n",
       "       'Biography,Documentary,Drama', 'Adventure,History', 'Drama,Horror',\n",
       "       'Comedy,Mystery,Thriller', 'Biography,Documentary,History',\n",
       "       'Adventure,Drama', 'Action,Comedy,Sport', 'Fantasy',\n",
       "       'Action,Horror,Mystery', 'Action,Adventure', 'Documentary,Drama',\n",
       "       'Horror,Sci-Fi,Thriller', 'Biography', 'Crime',\n",
       "       'Comedy,Documentary,Drama', 'Documentary,Drama,Family',\n",
       "       'Action,Documentary,History', 'Documentary,Musical',\n",
       "       'Action,Horror,Thriller', 'Action,Drama,Horror', 'Mystery',\n",
       "       'Horror,Mystery,Sci-Fi', 'Action,Mystery,Sci-Fi',\n",
       "       'Animation,Drama,Family', 'Drama,History,Sport', 'Comedy,Thriller',\n",
       "       'Animation,Drama,Sci-Fi', 'Animation,Fantasy',\n",
       "       'Drama,Musical,Romance', 'Action,Adventure,Mystery',\n",
       "       'Adventure,Crime,Drama', 'Mystery,Romance,Thriller',\n",
       "       'Action,Horror,Sci-Fi', 'Action,Fantasy,Romance',\n",
       "       'Comedy,Music,Romance', 'Sport', 'Adventure,Comedy,Crime',\n",
       "       'Comedy,Family,Sci-Fi', 'Drama,Sport,Thriller',\n",
       "       'Action,Comedy,Thriller', 'Biography,Crime,Documentary',\n",
       "       'Crime,Documentary,Drama', 'Action,Comedy,Musical',\n",
       "       'Animation,Biography,Drama', 'Action,Romance,Thriller',\n",
       "       'Action,Sport,War', 'Comedy,History', 'Biography,Comedy',\n",
       "       'Horror,Romance,Thriller', 'Action,Drama,Western',\n",
       "       'Fantasy,Thriller', 'Music', 'Comedy,Drama,History',\n",
       "       'Comedy,Musical', 'Adventure,Family,Sci-Fi', 'Romance',\n",
       "       'Comedy,Musical,Romance', 'Documentary,Family',\n",
       "       'Adventure,Thriller', 'Drama,Family,Sport', 'Adventure,Family',\n",
       "       'Animation,Comedy,Drama', 'Action,Animation',\n",
       "       'Fantasy,Mystery,Romance', 'Adventure,Horror',\n",
       "       'Crime,Horror,Thriller', 'Documentary,History,News',\n",
       "       'Documentary,Drama,History', 'Comedy,Western',\n",
       "       'Comedy,Horror,Thriller', 'Comedy,Documentary',\n",
       "       'Comedy,Mystery,Sci-Fi', 'Action,Drama,Sport',\n",
       "       'Documentary,History,Thriller', 'Biography,Documentary,Mystery',\n",
       "       'Action,Horror', 'Biography,Documentary,Family',\n",
       "       'Adventure,Comedy,Romance', 'Comedy,Music',\n",
       "       'Documentary,Drama,Music', 'Adventure,Drama,Horror',\n",
       "       'Drama,War,Western', 'Comedy,Drama,Thriller', 'Action,Romance',\n",
       "       'Adventure,Western', 'Adventure,Biography,Documentary',\n",
       "       'Crime,Romance,Thriller', 'Animation,Biography,Crime',\n",
       "       'Biography,Comedy,Documentary', 'Animation,Drama,Fantasy',\n",
       "       'Documentary,Drama,Romance', 'Action,Biography,Comedy',\n",
       "       'Comedy,Drama,War', 'Crime,Drama,War', 'Animation,Comedy,Music',\n",
       "       'Action,Sport', 'Adventure,Documentary,Sport',\n",
       "       'Biography,Documentary,Thriller', 'Fantasy,Horror',\n",
       "       'Horror,Music,Thriller', 'Biography,History,Thriller',\n",
       "       'Action,Animation,Sci-Fi', 'Comedy,Crime,Horror',\n",
       "       'Action,Comedy,War', 'Animation,Drama,History',\n",
       "       'Action,Animation,Crime', 'Action,Biography,History',\n",
       "       'Crime,Mystery', 'Documentary,Mystery', 'Animation,Drama,Romance',\n",
       "       'Action,Fantasy', 'Fantasy,Romance,Thriller',\n",
       "       'Adventure,Comedy,Horror', 'Adventure,Comedy,History',\n",
       "       'Action,Drama,Music', 'Documentary,History,War', 'Comedy,Sport',\n",
       "       'Action,Comedy,Mystery', 'Documentary,Sport'], dtype=object)"
      ]
     },
     "metadata": {},
     "execution_count": 37
    }
   ],
   "source": [
    "main['genres'].unique()"
   ]
  },
  {
   "cell_type": "code",
   "execution_count": 40,
   "metadata": {},
   "outputs": [
    {
     "output_type": "execute_result",
     "data": {
      "text/plain": [
       "\"['Action,Crime,Drama' 'Adventure,Drama,Romance' 'Drama'\\n 'Adventure,Comedy,Drama' 'Action,Adventure,Sci-Fi' 'Action,Comedy,Crime'\\n 'Comedy,Drama' 'Crime,Drama' 'Comedy,Family' 'Adventure,Animation,Comedy'\\n 'Crime,Drama,Thriller' 'Action,Sci-Fi,Thriller' 'Drama,Mystery,Sci-Fi'\\n 'Drama,Thriller' 'Comedy,Romance' 'Biography,Drama,History' 'Comedy'\\n 'Action,Adventure,Thriller' 'Horror,Mystery,Thriller'\\n 'Action,Drama,Family' 'Drama,Romance,Sci-Fi' 'Comedy,Drama,Romance'\\n 'Documentary,Drama,News' 'Action,Comedy,Fantasy'\\n 'Action,Adventure,Animation' 'Action,Adventure,Fantasy' 'Sci-Fi'\\n 'Documentary,Drama,Sport' 'Adventure,Drama,Fantasy' 'Horror,Thriller'\\n 'Action,Crime,Thriller' 'Adventure,Comedy,Western' 'Drama,Horror,Sci-Fi'\\n 'Comedy,Horror' 'Comedy,Drama,Music' 'Action,Thriller' 'Documentary'\\n 'Action,Crime' 'Adventure,Drama,Mystery' 'Drama,Fantasy'\\n 'Action,Adventure,Comedy' 'Action,Adventure,Crime'\\n 'Action,Adventure,Drama' 'Comedy,Crime,Drama' 'Drama,History,Romance'\\n 'Adventure,Comedy,Family' 'Animation,Family' 'Drama,Horror,Mystery'\\n 'Documentary,Music' 'Drama,Fantasy,Horror' 'Biography,Drama'\\n 'Adventure,Comedy,Fantasy' 'Biography,Drama,Romance'\\n 'Biography,Drama,Music' 'Drama,War' 'Comedy,Family,Fantasy' 'Horror'\\n 'Adventure,Drama,Sci-Fi' 'Action,Adventure,Horror' 'Action,Drama,Fantasy'\\n 'Animation,Comedy,Family' 'Animation,Comedy,Crime'\\n 'Adventure,Animation,Family' 'Action,Animation,Drama'\\n 'Action,Crime,Horror' 'Drama,Romance' 'Adventure,Drama,Thriller'\\n 'Action,Drama,Thriller' 'Action,Biography,Crime'\\n 'Adventure,Family,Fantasy' 'Action,Adventure,Family'\\n 'Action,Mystery,Thriller' 'Action,Drama,Sci-Fi' 'Crime,Drama,Horror'\\n 'Action,Drama' 'Biography,Drama,Sport' 'Crime,Drama,History'\\n 'Adventure,Drama,Family' 'Biography,Comedy,Drama' 'Drama,Romance,War'\\n 'Biography,Crime,Drama' 'Action,Animation,Comedy' 'Action'\\n 'Adventure,Animation,Drama' 'Adventure' 'Adventure,Drama,History'\\n 'Biography,Drama,Thriller' 'Biography,Drama,Family'\\n 'Action,Fantasy,Western' 'Action,Comedy,Sci-Fi' 'Fantasy,Horror,Mystery'\\n 'Action,Comedy,Romance' 'Action,Family,Fantasy' 'Action,Fantasy,Horror'\\n 'Action,Crime,Sci-Fi' 'Action,Fantasy,Thriller' 'Biography,Drama,Fantasy'\\n 'Comedy,Fantasy,Horror' 'Drama,Mystery,Thriller' 'Action,Biography,Drama'\\n 'Animation' 'Adventure,Comedy,Sci-Fi' 'Crime,Drama,Mystery'\\n 'Crime,Mystery,Thriller' 'Documentary,News' 'Drama,Horror,Thriller'\\n 'Drama,Fantasy,Sci-Fi' 'Drama,Music,Musical' 'Mystery,Thriller'\\n 'Thriller' 'Drama,Fantasy,Romance' 'Biography,Documentary'\\n 'Adventure,Fantasy' 'Adventure,Biography,Comedy'\\n 'Biography,Documentary,Music' 'Biography,Comedy,Crime'\\n 'Comedy,Drama,Family' 'Action,Drama,Romance' 'Action,Adventure,Western'\\n 'Action,Crime,Mystery' 'Adventure,Biography,Drama'\\n 'Mystery,Sci-Fi,Thriller' 'Comedy,Family,Romance' 'Adventure,Documentary'\\n 'Adventure,Comedy,Music' 'Drama,Music' 'Adventure,Comedy' 'Comedy,Sci-Fi'\\n 'Animation,Crime,Drama' 'Drama,Mystery,Romance'\\n 'Biography,Documentary,Sport' 'Action,Comedy' 'Horror,Mystery'\\n 'Fantasy,Horror,Thriller' 'Action,Comedy,Family' 'Comedy,Drama,Fantasy'\\n 'Comedy,Crime,Romance' 'Drama,Sport' 'Crime,Thriller'\\n 'Drama,Music,Romance' 'Action,Comedy,Horror' 'Horror,Romance'\\n 'Biography,Drama,War' 'Crime,Documentary' 'Comedy,Crime,History'\\n 'Adventure,Drama,Sport' 'Fantasy,Romance' 'Drama,History'\\n 'Crime,Horror,Mystery' 'Comedy,Drama,Musical' 'Drama,Fantasy,Music'\\n 'Animation,Comedy,Fantasy' 'Drama,Romance,Thriller'\\n 'Drama,Fantasy,Thriller' 'Drama,Mystery,Western' 'Action,Drama,Mystery'\\n 'Drama,Thriller,War' 'Drama,History,War' 'Animation,Drama'\\n 'Romance,Sci-Fi,Thriller' 'Drama,Sci-Fi' 'Comedy,Crime,Thriller'\\n 'Action,Adventure,Biography' 'Drama,Mystery' 'Adventure,Fantasy,Horror'\\n 'Adventure,Drama,Western' 'Comedy,Romance,Sport' 'Family,Sport'\\n 'Comedy,Mystery' 'Action,Drama,History' 'Drama,Family,Music'\\n 'Drama,Family' 'Action,History,Thriller' 'Adventure,Mystery,Sci-Fi'\\n 'Drama,Sci-Fi,Thriller' 'Drama,History,Thriller' 'Drama,Fantasy,Mystery'\\n 'Comedy,Drama,Sport' 'Biography,Drama,Musical' 'Action,Drama,War'\\n 'Comedy,Fantasy' 'Documentary,History' 'Comedy,Drama,Mystery'\\n 'Comedy,Crime' 'Romance,Thriller' 'Action,Comedy,Drama' 'Drama,Western'\\n 'Comedy,Mystery,Romance' 'Crime,Drama,Fantasy' 'Thriller,Western'\\n 'Action,Comedy,Western' 'Comedy,Crime,Mystery' 'Crime,Drama,Romance'\\n 'Crime,Documentary,History' 'Documentary,War' 'Action,History' 'Family'\\n 'Comedy,Drama,Horror' 'Documentary,Drama,Mystery'\\n 'Comedy,Crime,Documentary' 'Comedy,Horror,Romance' 'Action,Sci-Fi'\\n 'Comedy,Fantasy,Romance' 'Biography,Documentary,Drama'\\n 'Adventure,History' 'Drama,Horror' 'Comedy,Mystery,Thriller'\\n 'Biography,Documentary,History' 'Adventure,Drama' 'Action,Comedy,Sport'\\n 'Fantasy' 'Action,Horror,Mystery' 'Action,Adventure' 'Documentary,Drama'\\n 'Horror,Sci-Fi,Thriller' 'Biography' 'Crime' 'Comedy,Documentary,Drama'\\n 'Documentary,Drama,Family' 'Action,Documentary,History'\\n 'Documentary,Musical' 'Action,Horror,Thriller' 'Action,Drama,Horror'\\n 'Mystery' 'Horror,Mystery,Sci-Fi' 'Action,Mystery,Sci-Fi'\\n 'Animation,Drama,Family' 'Drama,History,Sport' 'Comedy,Thriller'\\n 'Animation,Drama,Sci-Fi' 'Animation,Fantasy' 'Drama,Musical,Romance'\\n 'Action,Adventure,Mystery' 'Adventure,Crime,Drama'\\n 'Mystery,Romance,Thriller' 'Action,Horror,Sci-Fi'\\n 'Action,Fantasy,Romance' 'Comedy,Music,Romance' 'Sport'\\n 'Adventure,Comedy,Crime' 'Comedy,Family,Sci-Fi' 'Drama,Sport,Thriller'\\n 'Action,Comedy,Thriller' 'Biography,Crime,Documentary'\\n 'Crime,Documentary,Drama' 'Action,Comedy,Musical'\\n 'Animation,Biography,Drama' 'Action,Romance,Thriller' 'Action,Sport,War'\\n 'Comedy,History' 'Biography,Comedy' 'Horror,Romance,Thriller'\\n 'Action,Drama,Western' 'Fantasy,Thriller' 'Music' 'Comedy,Drama,History'\\n 'Comedy,Musical' 'Adventure,Family,Sci-Fi' 'Romance'\\n 'Comedy,Musical,Romance' 'Documentary,Family' 'Adventure,Thriller'\\n 'Drama,Family,Sport' 'Adventure,Family' 'Animation,Comedy,Drama'\\n 'Action,Animation' 'Fantasy,Mystery,Romance' 'Adventure,Horror'\\n 'Crime,Horror,Thriller' 'Documentary,History,News'\\n 'Documentary,Drama,History' 'Comedy,Western' 'Comedy,Horror,Thriller'\\n 'Comedy,Documentary' 'Comedy,Mystery,Sci-Fi' 'Action,Drama,Sport'\\n 'Documentary,History,Thriller' 'Biography,Documentary,Mystery'\\n 'Action,Horror' 'Biography,Documentary,Family' 'Adventure,Comedy,Romance'\\n 'Comedy,Music' 'Documentary,Drama,Music' 'Adventure,Drama,Horror'\\n 'Drama,War,Western' 'Comedy,Drama,Thriller' 'Action,Romance'\\n 'Adventure,Western' 'Adventure,Biography,Documentary'\\n 'Crime,Romance,Thriller' 'Animation,Biography,Crime'\\n 'Biography,Comedy,Documentary' 'Animation,Drama,Fantasy'\\n 'Documentary,Drama,Romance' 'Action,Biography,Comedy' 'Comedy,Drama,War'\\n 'Crime,Drama,War' 'Animation,Comedy,Music' 'Action,Sport'\\n 'Adventure,Documentary,Sport' 'Biography,Documentary,Thriller'\\n 'Fantasy,Horror' 'Horror,Music,Thriller' 'Biography,History,Thriller'\\n 'Action,Animation,Sci-Fi' 'Comedy,Crime,Horror' 'Action,Comedy,War'\\n 'Animation,Drama,History' 'Action,Animation,Crime'\\n 'Action,Biography,History' 'Crime,Mystery' 'Documentary,Mystery'\\n 'Animation,Drama,Romance' 'Action,Fantasy' 'Fantasy,Romance,Thriller'\\n 'Adventure,Comedy,Horror' 'Adventure,Comedy,History' 'Action,Drama,Music'\\n 'Documentary,History,War' 'Comedy,Sport' 'Action,Comedy,Mystery'\\n 'Documentary,Sport']\""
      ]
     },
     "metadata": {},
     "execution_count": 40
    }
   ],
   "source": [
    "genres = str(main['genres'].unique())\n",
    "genres"
   ]
  },
  {
   "cell_type": "code",
   "execution_count": 46,
   "metadata": {},
   "outputs": [
    {
     "output_type": "execute_result",
     "data": {
      "text/plain": [
       "{'Action',\n",
       " 'Adventure',\n",
       " 'Animation',\n",
       " 'Biography',\n",
       " 'Comedy',\n",
       " 'Crime',\n",
       " 'Documentary',\n",
       " 'Drama',\n",
       " 'Family',\n",
       " 'Fantasy',\n",
       " 'History',\n",
       " 'Horror',\n",
       " 'Music',\n",
       " 'Musical',\n",
       " 'Mystery',\n",
       " 'News',\n",
       " 'Romance',\n",
       " 'Sci-Fi',\n",
       " 'Sport',\n",
       " 'Thriller',\n",
       " 'War',\n",
       " 'Western'}"
      ]
     },
     "metadata": {},
     "execution_count": 46
    }
   ],
   "source": [
    "genre = set(genres.replace(\"[\",\"\").replace(\"]\",\"\").replace(\"\\n\", \"\").replace(\"'\", \"\").replace(\" \", \",\").split(\",\"))\n",
    "genre"
   ]
  },
  {
   "cell_type": "code",
   "execution_count": 48,
   "metadata": {},
   "outputs": [],
   "source": [
    "genre = sorted(genre)"
   ]
  },
  {
   "cell_type": "code",
   "execution_count": 54,
   "metadata": {},
   "outputs": [
    {
     "output_type": "execute_result",
     "data": {
      "text/plain": [
       "{'Action': 6.27523219814241,\n",
       " 'Adventure': 6.4783599088838235,\n",
       " 'Animation': 6.6999999999999975,\n",
       " 'Biography': 6.9733333333333345,\n",
       " 'Comedy': 6.247624190064795,\n",
       " 'Crime': 6.479581151832458,\n",
       " 'Documentary': 7.292511013215861,\n",
       " 'Drama': 6.589350797266525,\n",
       " 'Family': 6.224786324786326,\n",
       " 'Fantasy': 6.242352941176468,\n",
       " 'History': 6.878676470588236,\n",
       " 'Horror': 5.684583333333332,\n",
       " 'Music': 6.698130841121496,\n",
       " 'Musical': 6.316666666666666,\n",
       " 'Mystery': 6.274879227053139,\n",
       " 'News': 7.1000000000000005,\n",
       " 'Romance': 6.33547008547008,\n",
       " 'Sci-Fi': 6.451111111111111,\n",
       " 'Sport': 6.867924528301884,\n",
       " 'Thriller': 6.17262693156732,\n",
       " 'War': 6.801960784313725,\n",
       " 'Western': 6.561904761904763}"
      ]
     },
     "metadata": {},
     "execution_count": 54
    }
   ],
   "source": [
    "genre_dict = {}\n",
    "for type in genre:\n",
    "    genre_dict[type] = main[main['genres'].str.contains(type)]['averagerating'].mean()\n",
    "genre_dict"
   ]
  },
  {
   "cell_type": "code",
   "execution_count": 57,
   "metadata": {},
   "outputs": [
    {
     "output_type": "execute_result",
     "data": {
      "text/plain": [
       "22"
      ]
     },
     "metadata": {},
     "execution_count": 57
    }
   ],
   "source": [
    "len(genre_dict)"
   ]
  },
  {
   "cell_type": "code",
   "execution_count": 65,
   "metadata": {},
   "outputs": [
    {
     "output_type": "display_data",
     "data": {
      "text/plain": "<Figure size 792x792 with 1 Axes>",
      "image/svg+xml": "<?xml version=\"1.0\" encoding=\"utf-8\" standalone=\"no\"?>\r\n<!DOCTYPE svg PUBLIC \"-//W3C//DTD SVG 1.1//EN\"\r\n  \"http://www.w3.org/Graphics/SVG/1.1/DTD/svg11.dtd\">\r\n<!-- Created with matplotlib (https://matplotlib.org/) -->\r\n<svg height=\"727.038125pt\" version=\"1.1\" viewBox=\"0 0 666.442187 727.038125\" width=\"666.442187pt\" xmlns=\"http://www.w3.org/2000/svg\" xmlns:xlink=\"http://www.w3.org/1999/xlink\">\r\n <defs>\r\n  <style type=\"text/css\">\r\n*{stroke-linecap:butt;stroke-linejoin:round;}\r\n  </style>\r\n </defs>\r\n <g id=\"figure_1\">\r\n  <g id=\"patch_1\">\r\n   <path d=\"M 0 727.038125 \r\nL 666.442187 727.038125 \r\nL 666.442187 0 \r\nL 0 0 \r\nz\r\n\" style=\"fill:none;\"/>\r\n  </g>\r\n  <g id=\"axes_1\">\r\n   <g id=\"patch_2\">\r\n    <path d=\"M 45.442187 626.356875 \r\nL 659.242188 626.356875 \r\nL 659.242188 28.396875 \r\nL 45.442187 28.396875 \r\nz\r\n\" style=\"fill:#ffffff;\"/>\r\n   </g>\r\n   <g id=\"patch_3\">\r\n    <path clip-path=\"url(#p565d07abaf)\" d=\"M 73.342187 626.356875 \r\nL 93.819252 626.356875 \r\nL 93.819252 251.12309 \r\nL 73.342187 251.12309 \r\nz\r\n\" style=\"fill:#ff0000;\"/>\r\n   </g>\r\n   <g id=\"patch_4\">\r\n    <path clip-path=\"url(#p565d07abaf)\" d=\"M 98.938518 626.356875 \r\nL 119.415582 626.356875 \r\nL 119.415582 238.976866 \r\nL 98.938518 238.976866 \r\nz\r\n\" style=\"fill:#ff4500;\"/>\r\n   </g>\r\n   <g id=\"patch_5\">\r\n    <path clip-path=\"url(#p565d07abaf)\" d=\"M 124.534848 626.356875 \r\nL 145.011912 626.356875 \r\nL 145.011912 225.723675 \r\nL 124.534848 225.723675 \r\nz\r\n\" style=\"fill:#800000;\"/>\r\n   </g>\r\n   <g id=\"patch_6\">\r\n    <path clip-path=\"url(#p565d07abaf)\" d=\"M 150.131178 626.356875 \r\nL 170.608243 626.356875 \r\nL 170.608243 209.379435 \r\nL 150.131178 209.379435 \r\nz\r\n\" style=\"fill:#ffff00;\"/>\r\n   </g>\r\n   <g id=\"patch_7\">\r\n    <path clip-path=\"url(#p565d07abaf)\" d=\"M 175.727509 626.356875 \r\nL 196.204573 626.356875 \r\nL 196.204573 252.773939 \r\nL 175.727509 252.773939 \r\nz\r\n\" style=\"fill:#ffd700;\"/>\r\n   </g>\r\n   <g id=\"patch_8\">\r\n    <path clip-path=\"url(#p565d07abaf)\" d=\"M 201.323839 626.356875 \r\nL 221.800903 626.356875 \r\nL 221.800903 238.90384 \r\nL 201.323839 238.90384 \r\nz\r\n\" style=\"fill:#ffa500;\"/>\r\n   </g>\r\n   <g id=\"patch_9\">\r\n    <path clip-path=\"url(#p565d07abaf)\" d=\"M 226.920169 626.356875 \r\nL 247.397233 626.356875 \r\nL 247.397233 190.293886 \r\nL 226.920169 190.293886 \r\nz\r\n\" style=\"fill:#dc143c;\"/>\r\n   </g>\r\n   <g id=\"patch_10\">\r\n    <path clip-path=\"url(#p565d07abaf)\" d=\"M 252.516499 626.356875 \r\nL 272.993564 626.356875 \r\nL 272.993564 232.340055 \r\nL 252.516499 232.340055 \r\nz\r\n\" style=\"fill:#7fff00;\"/>\r\n   </g>\r\n   <g id=\"patch_11\">\r\n    <path clip-path=\"url(#p565d07abaf)\" d=\"M 278.11283 626.356875 \r\nL 298.589894 626.356875 \r\nL 298.589894 254.139552 \r\nL 278.11283 254.139552 \r\nz\r\n\" style=\"fill:#008000;\"/>\r\n   </g>\r\n   <g id=\"patch_12\">\r\n    <path clip-path=\"url(#p565d07abaf)\" d=\"M 303.70916 626.356875 \r\nL 324.186224 626.356875 \r\nL 324.186224 253.089139 \r\nL 303.70916 253.089139 \r\nz\r\n\" style=\"fill:#00ff00;\"/>\r\n   </g>\r\n   <g id=\"patch_13\">\r\n    <path clip-path=\"url(#p565d07abaf)\" d=\"M 329.30549 626.356875 \r\nL 349.782554 626.356875 \r\nL 349.782554 215.039537 \r\nL 329.30549 215.039537 \r\nz\r\n\" style=\"fill:#00ffff;\"/>\r\n   </g>\r\n   <g id=\"patch_14\">\r\n    <path clip-path=\"url(#p565d07abaf)\" d=\"M 354.901821 626.356875 \r\nL 375.378885 626.356875 \r\nL 375.378885 286.44153 \r\nL 354.901821 286.44153 \r\nz\r\n\" style=\"fill:#0000ff;\"/>\r\n   </g>\r\n   <g id=\"patch_15\">\r\n    <path clip-path=\"url(#p565d07abaf)\" d=\"M 380.498151 626.356875 \r\nL 400.975215 626.356875 \r\nL 400.975215 225.835443 \r\nL 380.498151 225.835443 \r\nz\r\n\" style=\"fill:#00bfff;\"/>\r\n   </g>\r\n   <g id=\"patch_16\">\r\n    <path clip-path=\"url(#p565d07abaf)\" d=\"M 406.094481 626.356875 \r\nL 426.571545 626.356875 \r\nL 426.571545 248.645475 \r\nL 406.094481 248.645475 \r\nz\r\n\" style=\"fill:#4169e1;\"/>\r\n   </g>\r\n   <g id=\"patch_17\">\r\n    <path clip-path=\"url(#p565d07abaf)\" d=\"M 431.690811 626.356875 \r\nL 452.167876 626.356875 \r\nL 452.167876 251.144197 \r\nL 431.690811 251.144197 \r\nz\r\n\" style=\"fill:#ff00ff;\"/>\r\n   </g>\r\n   <g id=\"patch_18\">\r\n    <path clip-path=\"url(#p565d07abaf)\" d=\"M 457.287142 626.356875 \r\nL 477.764206 626.356875 \r\nL 477.764206 201.805275 \r\nL 457.287142 201.805275 \r\nz\r\n\" style=\"fill:#ffc0cb;\"/>\r\n   </g>\r\n   <g id=\"patch_19\">\r\n    <path clip-path=\"url(#p565d07abaf)\" d=\"M 482.883472 626.356875 \r\nL 503.360536 626.356875 \r\nL 503.360536 247.521106 \r\nL 482.883472 247.521106 \r\nz\r\n\" style=\"fill:#ff1493;\"/>\r\n   </g>\r\n   <g id=\"patch_20\">\r\n    <path clip-path=\"url(#p565d07abaf)\" d=\"M 508.479802 626.356875 \r\nL 528.956866 626.356875 \r\nL 528.956866 240.606235 \r\nL 508.479802 240.606235 \r\nz\r\n\" style=\"fill:#4b0082;\"/>\r\n   </g>\r\n   <g id=\"patch_21\">\r\n    <path clip-path=\"url(#p565d07abaf)\" d=\"M 534.076132 626.356875 \r\nL 554.553197 626.356875 \r\nL 554.553197 215.68246 \r\nL 534.076132 215.68246 \r\nz\r\n\" style=\"fill:#e6e6fa;\"/>\r\n   </g>\r\n   <g id=\"patch_22\">\r\n    <path clip-path=\"url(#p565d07abaf)\" d=\"M 559.672463 626.356875 \r\nL 580.149527 626.356875 \r\nL 580.149527 257.258475 \r\nL 559.672463 257.258475 \r\nz\r\n\" style=\"fill:#9400d3;\"/>\r\n   </g>\r\n   <g id=\"patch_23\">\r\n    <path clip-path=\"url(#p565d07abaf)\" d=\"M 585.268793 626.356875 \r\nL 605.745857 626.356875 \r\nL 605.745857 219.626828 \r\nL 585.268793 219.626828 \r\nz\r\n\" style=\"fill:#c0c0c0;\"/>\r\n   </g>\r\n   <g id=\"patch_24\">\r\n    <path clip-path=\"url(#p565d07abaf)\" d=\"M 610.865123 626.356875 \r\nL 631.342187 626.356875 \r\nL 631.342187 233.981218 \r\nL 610.865123 233.981218 \r\nz\r\n\"/>\r\n   </g>\r\n   <g id=\"matplotlib.axis_1\">\r\n    <g id=\"xtick_1\">\r\n     <g id=\"line2d_1\">\r\n      <defs>\r\n       <path d=\"M 0 0 \r\nL 0 3.5 \r\n\" id=\"m7ee95d0b67\" style=\"stroke:#000000;stroke-width:0.8;\"/>\r\n      </defs>\r\n      <g>\r\n       <use style=\"stroke:#000000;stroke-width:0.8;\" x=\"83.58072\" xlink:href=\"#m7ee95d0b67\" y=\"626.356875\"/>\r\n      </g>\r\n     </g>\r\n     <g id=\"text_1\">\r\n      <!-- Action -->\r\n      <defs>\r\n       <path d=\"M 34.1875 63.1875 \r\nL 20.796875 26.90625 \r\nL 47.609375 26.90625 \r\nz\r\nM 28.609375 72.90625 \r\nL 39.796875 72.90625 \r\nL 67.578125 0 \r\nL 57.328125 0 \r\nL 50.6875 18.703125 \r\nL 17.828125 18.703125 \r\nL 11.1875 0 \r\nL 0.78125 0 \r\nz\r\n\" id=\"DejaVuSans-65\"/>\r\n       <path d=\"M 48.78125 52.59375 \r\nL 48.78125 44.1875 \r\nQ 44.96875 46.296875 41.140625 47.34375 \r\nQ 37.3125 48.390625 33.40625 48.390625 \r\nQ 24.65625 48.390625 19.8125 42.84375 \r\nQ 14.984375 37.3125 14.984375 27.296875 \r\nQ 14.984375 17.28125 19.8125 11.734375 \r\nQ 24.65625 6.203125 33.40625 6.203125 \r\nQ 37.3125 6.203125 41.140625 7.25 \r\nQ 44.96875 8.296875 48.78125 10.40625 \r\nL 48.78125 2.09375 \r\nQ 45.015625 0.34375 40.984375 -0.53125 \r\nQ 36.96875 -1.421875 32.421875 -1.421875 \r\nQ 20.0625 -1.421875 12.78125 6.34375 \r\nQ 5.515625 14.109375 5.515625 27.296875 \r\nQ 5.515625 40.671875 12.859375 48.328125 \r\nQ 20.21875 56 33.015625 56 \r\nQ 37.15625 56 41.109375 55.140625 \r\nQ 45.0625 54.296875 48.78125 52.59375 \r\nz\r\n\" id=\"DejaVuSans-99\"/>\r\n       <path d=\"M 18.3125 70.21875 \r\nL 18.3125 54.6875 \r\nL 36.8125 54.6875 \r\nL 36.8125 47.703125 \r\nL 18.3125 47.703125 \r\nL 18.3125 18.015625 \r\nQ 18.3125 11.328125 20.140625 9.421875 \r\nQ 21.96875 7.515625 27.59375 7.515625 \r\nL 36.8125 7.515625 \r\nL 36.8125 0 \r\nL 27.59375 0 \r\nQ 17.1875 0 13.234375 3.875 \r\nQ 9.28125 7.765625 9.28125 18.015625 \r\nL 9.28125 47.703125 \r\nL 2.6875 47.703125 \r\nL 2.6875 54.6875 \r\nL 9.28125 54.6875 \r\nL 9.28125 70.21875 \r\nz\r\n\" id=\"DejaVuSans-116\"/>\r\n       <path d=\"M 9.421875 54.6875 \r\nL 18.40625 54.6875 \r\nL 18.40625 0 \r\nL 9.421875 0 \r\nz\r\nM 9.421875 75.984375 \r\nL 18.40625 75.984375 \r\nL 18.40625 64.59375 \r\nL 9.421875 64.59375 \r\nz\r\n\" id=\"DejaVuSans-105\"/>\r\n       <path d=\"M 30.609375 48.390625 \r\nQ 23.390625 48.390625 19.1875 42.75 \r\nQ 14.984375 37.109375 14.984375 27.296875 \r\nQ 14.984375 17.484375 19.15625 11.84375 \r\nQ 23.34375 6.203125 30.609375 6.203125 \r\nQ 37.796875 6.203125 41.984375 11.859375 \r\nQ 46.1875 17.53125 46.1875 27.296875 \r\nQ 46.1875 37.015625 41.984375 42.703125 \r\nQ 37.796875 48.390625 30.609375 48.390625 \r\nz\r\nM 30.609375 56 \r\nQ 42.328125 56 49.015625 48.375 \r\nQ 55.71875 40.765625 55.71875 27.296875 \r\nQ 55.71875 13.875 49.015625 6.21875 \r\nQ 42.328125 -1.421875 30.609375 -1.421875 \r\nQ 18.84375 -1.421875 12.171875 6.21875 \r\nQ 5.515625 13.875 5.515625 27.296875 \r\nQ 5.515625 40.765625 12.171875 48.375 \r\nQ 18.84375 56 30.609375 56 \r\nz\r\n\" id=\"DejaVuSans-111\"/>\r\n       <path d=\"M 54.890625 33.015625 \r\nL 54.890625 0 \r\nL 45.90625 0 \r\nL 45.90625 32.71875 \r\nQ 45.90625 40.484375 42.875 44.328125 \r\nQ 39.84375 48.1875 33.796875 48.1875 \r\nQ 26.515625 48.1875 22.3125 43.546875 \r\nQ 18.109375 38.921875 18.109375 30.90625 \r\nL 18.109375 0 \r\nL 9.078125 0 \r\nL 9.078125 54.6875 \r\nL 18.109375 54.6875 \r\nL 18.109375 46.1875 \r\nQ 21.34375 51.125 25.703125 53.5625 \r\nQ 30.078125 56 35.796875 56 \r\nQ 45.21875 56 50.046875 50.171875 \r\nQ 54.890625 44.34375 54.890625 33.015625 \r\nz\r\n\" id=\"DejaVuSans-110\"/>\r\n      </defs>\r\n      <g transform=\"translate(86.340095 664.675625)rotate(-90)scale(0.1 -0.1)\">\r\n       <use xlink:href=\"#DejaVuSans-65\"/>\r\n       <use x=\"66.658203\" xlink:href=\"#DejaVuSans-99\"/>\r\n       <use x=\"121.638672\" xlink:href=\"#DejaVuSans-116\"/>\r\n       <use x=\"160.847656\" xlink:href=\"#DejaVuSans-105\"/>\r\n       <use x=\"188.630859\" xlink:href=\"#DejaVuSans-111\"/>\r\n       <use x=\"249.8125\" xlink:href=\"#DejaVuSans-110\"/>\r\n      </g>\r\n     </g>\r\n    </g>\r\n    <g id=\"xtick_2\">\r\n     <g id=\"line2d_2\">\r\n      <g>\r\n       <use style=\"stroke:#000000;stroke-width:0.8;\" x=\"109.17705\" xlink:href=\"#m7ee95d0b67\" y=\"626.356875\"/>\r\n      </g>\r\n     </g>\r\n     <g id=\"text_2\">\r\n      <!-- Adventure -->\r\n      <defs>\r\n       <path d=\"M 45.40625 46.390625 \r\nL 45.40625 75.984375 \r\nL 54.390625 75.984375 \r\nL 54.390625 0 \r\nL 45.40625 0 \r\nL 45.40625 8.203125 \r\nQ 42.578125 3.328125 38.25 0.953125 \r\nQ 33.9375 -1.421875 27.875 -1.421875 \r\nQ 17.96875 -1.421875 11.734375 6.484375 \r\nQ 5.515625 14.40625 5.515625 27.296875 \r\nQ 5.515625 40.1875 11.734375 48.09375 \r\nQ 17.96875 56 27.875 56 \r\nQ 33.9375 56 38.25 53.625 \r\nQ 42.578125 51.265625 45.40625 46.390625 \r\nz\r\nM 14.796875 27.296875 \r\nQ 14.796875 17.390625 18.875 11.75 \r\nQ 22.953125 6.109375 30.078125 6.109375 \r\nQ 37.203125 6.109375 41.296875 11.75 \r\nQ 45.40625 17.390625 45.40625 27.296875 \r\nQ 45.40625 37.203125 41.296875 42.84375 \r\nQ 37.203125 48.484375 30.078125 48.484375 \r\nQ 22.953125 48.484375 18.875 42.84375 \r\nQ 14.796875 37.203125 14.796875 27.296875 \r\nz\r\n\" id=\"DejaVuSans-100\"/>\r\n       <path d=\"M 2.984375 54.6875 \r\nL 12.5 54.6875 \r\nL 29.59375 8.796875 \r\nL 46.6875 54.6875 \r\nL 56.203125 54.6875 \r\nL 35.6875 0 \r\nL 23.484375 0 \r\nz\r\n\" id=\"DejaVuSans-118\"/>\r\n       <path d=\"M 56.203125 29.59375 \r\nL 56.203125 25.203125 \r\nL 14.890625 25.203125 \r\nQ 15.484375 15.921875 20.484375 11.0625 \r\nQ 25.484375 6.203125 34.421875 6.203125 \r\nQ 39.59375 6.203125 44.453125 7.46875 \r\nQ 49.3125 8.734375 54.109375 11.28125 \r\nL 54.109375 2.78125 \r\nQ 49.265625 0.734375 44.1875 -0.34375 \r\nQ 39.109375 -1.421875 33.890625 -1.421875 \r\nQ 20.796875 -1.421875 13.15625 6.1875 \r\nQ 5.515625 13.8125 5.515625 26.8125 \r\nQ 5.515625 40.234375 12.765625 48.109375 \r\nQ 20.015625 56 32.328125 56 \r\nQ 43.359375 56 49.78125 48.890625 \r\nQ 56.203125 41.796875 56.203125 29.59375 \r\nz\r\nM 47.21875 32.234375 \r\nQ 47.125 39.59375 43.09375 43.984375 \r\nQ 39.0625 48.390625 32.421875 48.390625 \r\nQ 24.90625 48.390625 20.390625 44.140625 \r\nQ 15.875 39.890625 15.1875 32.171875 \r\nz\r\n\" id=\"DejaVuSans-101\"/>\r\n       <path d=\"M 8.5 21.578125 \r\nL 8.5 54.6875 \r\nL 17.484375 54.6875 \r\nL 17.484375 21.921875 \r\nQ 17.484375 14.15625 20.5 10.265625 \r\nQ 23.53125 6.390625 29.59375 6.390625 \r\nQ 36.859375 6.390625 41.078125 11.03125 \r\nQ 45.3125 15.671875 45.3125 23.6875 \r\nL 45.3125 54.6875 \r\nL 54.296875 54.6875 \r\nL 54.296875 0 \r\nL 45.3125 0 \r\nL 45.3125 8.40625 \r\nQ 42.046875 3.421875 37.71875 1 \r\nQ 33.40625 -1.421875 27.6875 -1.421875 \r\nQ 18.265625 -1.421875 13.375 4.4375 \r\nQ 8.5 10.296875 8.5 21.578125 \r\nz\r\nM 31.109375 56 \r\nz\r\n\" id=\"DejaVuSans-117\"/>\r\n       <path d=\"M 41.109375 46.296875 \r\nQ 39.59375 47.171875 37.8125 47.578125 \r\nQ 36.03125 48 33.890625 48 \r\nQ 26.265625 48 22.1875 43.046875 \r\nQ 18.109375 38.09375 18.109375 28.8125 \r\nL 18.109375 0 \r\nL 9.078125 0 \r\nL 9.078125 54.6875 \r\nL 18.109375 54.6875 \r\nL 18.109375 46.1875 \r\nQ 20.953125 51.171875 25.484375 53.578125 \r\nQ 30.03125 56 36.53125 56 \r\nQ 37.453125 56 38.578125 55.875 \r\nQ 39.703125 55.765625 41.0625 55.515625 \r\nz\r\n\" id=\"DejaVuSans-114\"/>\r\n      </defs>\r\n      <g transform=\"translate(111.936425 685.077187)rotate(-90)scale(0.1 -0.1)\">\r\n       <use xlink:href=\"#DejaVuSans-65\"/>\r\n       <use x=\"66.658203\" xlink:href=\"#DejaVuSans-100\"/>\r\n       <use x=\"130.134766\" xlink:href=\"#DejaVuSans-118\"/>\r\n       <use x=\"189.314453\" xlink:href=\"#DejaVuSans-101\"/>\r\n       <use x=\"250.837891\" xlink:href=\"#DejaVuSans-110\"/>\r\n       <use x=\"314.216797\" xlink:href=\"#DejaVuSans-116\"/>\r\n       <use x=\"353.425781\" xlink:href=\"#DejaVuSans-117\"/>\r\n       <use x=\"416.804688\" xlink:href=\"#DejaVuSans-114\"/>\r\n       <use x=\"455.667969\" xlink:href=\"#DejaVuSans-101\"/>\r\n      </g>\r\n     </g>\r\n    </g>\r\n    <g id=\"xtick_3\">\r\n     <g id=\"line2d_3\">\r\n      <g>\r\n       <use style=\"stroke:#000000;stroke-width:0.8;\" x=\"134.77338\" xlink:href=\"#m7ee95d0b67\" y=\"626.356875\"/>\r\n      </g>\r\n     </g>\r\n     <g id=\"text_3\">\r\n      <!-- Animation -->\r\n      <defs>\r\n       <path d=\"M 52 44.1875 \r\nQ 55.375 50.25 60.0625 53.125 \r\nQ 64.75 56 71.09375 56 \r\nQ 79.640625 56 84.28125 50.015625 \r\nQ 88.921875 44.046875 88.921875 33.015625 \r\nL 88.921875 0 \r\nL 79.890625 0 \r\nL 79.890625 32.71875 \r\nQ 79.890625 40.578125 77.09375 44.375 \r\nQ 74.3125 48.1875 68.609375 48.1875 \r\nQ 61.625 48.1875 57.5625 43.546875 \r\nQ 53.515625 38.921875 53.515625 30.90625 \r\nL 53.515625 0 \r\nL 44.484375 0 \r\nL 44.484375 32.71875 \r\nQ 44.484375 40.625 41.703125 44.40625 \r\nQ 38.921875 48.1875 33.109375 48.1875 \r\nQ 26.21875 48.1875 22.15625 43.53125 \r\nQ 18.109375 38.875 18.109375 30.90625 \r\nL 18.109375 0 \r\nL 9.078125 0 \r\nL 9.078125 54.6875 \r\nL 18.109375 54.6875 \r\nL 18.109375 46.1875 \r\nQ 21.1875 51.21875 25.484375 53.609375 \r\nQ 29.78125 56 35.6875 56 \r\nQ 41.65625 56 45.828125 52.96875 \r\nQ 50 49.953125 52 44.1875 \r\nz\r\n\" id=\"DejaVuSans-109\"/>\r\n       <path d=\"M 34.28125 27.484375 \r\nQ 23.390625 27.484375 19.1875 25 \r\nQ 14.984375 22.515625 14.984375 16.5 \r\nQ 14.984375 11.71875 18.140625 8.90625 \r\nQ 21.296875 6.109375 26.703125 6.109375 \r\nQ 34.1875 6.109375 38.703125 11.40625 \r\nQ 43.21875 16.703125 43.21875 25.484375 \r\nL 43.21875 27.484375 \r\nz\r\nM 52.203125 31.203125 \r\nL 52.203125 0 \r\nL 43.21875 0 \r\nL 43.21875 8.296875 \r\nQ 40.140625 3.328125 35.546875 0.953125 \r\nQ 30.953125 -1.421875 24.3125 -1.421875 \r\nQ 15.921875 -1.421875 10.953125 3.296875 \r\nQ 6 8.015625 6 15.921875 \r\nQ 6 25.140625 12.171875 29.828125 \r\nQ 18.359375 34.515625 30.609375 34.515625 \r\nL 43.21875 34.515625 \r\nL 43.21875 35.40625 \r\nQ 43.21875 41.609375 39.140625 45 \r\nQ 35.0625 48.390625 27.6875 48.390625 \r\nQ 23 48.390625 18.546875 47.265625 \r\nQ 14.109375 46.140625 10.015625 43.890625 \r\nL 10.015625 52.203125 \r\nQ 14.9375 54.109375 19.578125 55.046875 \r\nQ 24.21875 56 28.609375 56 \r\nQ 40.484375 56 46.34375 49.84375 \r\nQ 52.203125 43.703125 52.203125 31.203125 \r\nz\r\n\" id=\"DejaVuSans-97\"/>\r\n      </defs>\r\n      <g transform=\"translate(137.532755 684.336562)rotate(-90)scale(0.1 -0.1)\">\r\n       <use xlink:href=\"#DejaVuSans-65\"/>\r\n       <use x=\"68.408203\" xlink:href=\"#DejaVuSans-110\"/>\r\n       <use x=\"131.787109\" xlink:href=\"#DejaVuSans-105\"/>\r\n       <use x=\"159.570312\" xlink:href=\"#DejaVuSans-109\"/>\r\n       <use x=\"256.982422\" xlink:href=\"#DejaVuSans-97\"/>\r\n       <use x=\"318.261719\" xlink:href=\"#DejaVuSans-116\"/>\r\n       <use x=\"357.470703\" xlink:href=\"#DejaVuSans-105\"/>\r\n       <use x=\"385.253906\" xlink:href=\"#DejaVuSans-111\"/>\r\n       <use x=\"446.435547\" xlink:href=\"#DejaVuSans-110\"/>\r\n      </g>\r\n     </g>\r\n    </g>\r\n    <g id=\"xtick_4\">\r\n     <g id=\"line2d_4\">\r\n      <g>\r\n       <use style=\"stroke:#000000;stroke-width:0.8;\" x=\"160.36971\" xlink:href=\"#m7ee95d0b67\" y=\"626.356875\"/>\r\n      </g>\r\n     </g>\r\n     <g id=\"text_4\">\r\n      <!-- Biography -->\r\n      <defs>\r\n       <path d=\"M 19.671875 34.8125 \r\nL 19.671875 8.109375 \r\nL 35.5 8.109375 \r\nQ 43.453125 8.109375 47.28125 11.40625 \r\nQ 51.125 14.703125 51.125 21.484375 \r\nQ 51.125 28.328125 47.28125 31.5625 \r\nQ 43.453125 34.8125 35.5 34.8125 \r\nz\r\nM 19.671875 64.796875 \r\nL 19.671875 42.828125 \r\nL 34.28125 42.828125 \r\nQ 41.5 42.828125 45.03125 45.53125 \r\nQ 48.578125 48.25 48.578125 53.8125 \r\nQ 48.578125 59.328125 45.03125 62.0625 \r\nQ 41.5 64.796875 34.28125 64.796875 \r\nz\r\nM 9.8125 72.90625 \r\nL 35.015625 72.90625 \r\nQ 46.296875 72.90625 52.390625 68.21875 \r\nQ 58.5 63.53125 58.5 54.890625 \r\nQ 58.5 48.1875 55.375 44.234375 \r\nQ 52.25 40.28125 46.1875 39.3125 \r\nQ 53.46875 37.75 57.5 32.78125 \r\nQ 61.53125 27.828125 61.53125 20.40625 \r\nQ 61.53125 10.640625 54.890625 5.3125 \r\nQ 48.25 0 35.984375 0 \r\nL 9.8125 0 \r\nz\r\n\" id=\"DejaVuSans-66\"/>\r\n       <path d=\"M 45.40625 27.984375 \r\nQ 45.40625 37.75 41.375 43.109375 \r\nQ 37.359375 48.484375 30.078125 48.484375 \r\nQ 22.859375 48.484375 18.828125 43.109375 \r\nQ 14.796875 37.75 14.796875 27.984375 \r\nQ 14.796875 18.265625 18.828125 12.890625 \r\nQ 22.859375 7.515625 30.078125 7.515625 \r\nQ 37.359375 7.515625 41.375 12.890625 \r\nQ 45.40625 18.265625 45.40625 27.984375 \r\nz\r\nM 54.390625 6.78125 \r\nQ 54.390625 -7.171875 48.1875 -13.984375 \r\nQ 42 -20.796875 29.203125 -20.796875 \r\nQ 24.46875 -20.796875 20.265625 -20.09375 \r\nQ 16.0625 -19.390625 12.109375 -17.921875 \r\nL 12.109375 -9.1875 \r\nQ 16.0625 -11.328125 19.921875 -12.34375 \r\nQ 23.78125 -13.375 27.78125 -13.375 \r\nQ 36.625 -13.375 41.015625 -8.765625 \r\nQ 45.40625 -4.15625 45.40625 5.171875 \r\nL 45.40625 9.625 \r\nQ 42.625 4.78125 38.28125 2.390625 \r\nQ 33.9375 0 27.875 0 \r\nQ 17.828125 0 11.671875 7.65625 \r\nQ 5.515625 15.328125 5.515625 27.984375 \r\nQ 5.515625 40.671875 11.671875 48.328125 \r\nQ 17.828125 56 27.875 56 \r\nQ 33.9375 56 38.28125 53.609375 \r\nQ 42.625 51.21875 45.40625 46.390625 \r\nL 45.40625 54.6875 \r\nL 54.390625 54.6875 \r\nz\r\n\" id=\"DejaVuSans-103\"/>\r\n       <path d=\"M 18.109375 8.203125 \r\nL 18.109375 -20.796875 \r\nL 9.078125 -20.796875 \r\nL 9.078125 54.6875 \r\nL 18.109375 54.6875 \r\nL 18.109375 46.390625 \r\nQ 20.953125 51.265625 25.265625 53.625 \r\nQ 29.59375 56 35.59375 56 \r\nQ 45.5625 56 51.78125 48.09375 \r\nQ 58.015625 40.1875 58.015625 27.296875 \r\nQ 58.015625 14.40625 51.78125 6.484375 \r\nQ 45.5625 -1.421875 35.59375 -1.421875 \r\nQ 29.59375 -1.421875 25.265625 0.953125 \r\nQ 20.953125 3.328125 18.109375 8.203125 \r\nz\r\nM 48.6875 27.296875 \r\nQ 48.6875 37.203125 44.609375 42.84375 \r\nQ 40.53125 48.484375 33.40625 48.484375 \r\nQ 26.265625 48.484375 22.1875 42.84375 \r\nQ 18.109375 37.203125 18.109375 27.296875 \r\nQ 18.109375 17.390625 22.1875 11.75 \r\nQ 26.265625 6.109375 33.40625 6.109375 \r\nQ 40.53125 6.109375 44.609375 11.75 \r\nQ 48.6875 17.390625 48.6875 27.296875 \r\nz\r\n\" id=\"DejaVuSans-112\"/>\r\n       <path d=\"M 54.890625 33.015625 \r\nL 54.890625 0 \r\nL 45.90625 0 \r\nL 45.90625 32.71875 \r\nQ 45.90625 40.484375 42.875 44.328125 \r\nQ 39.84375 48.1875 33.796875 48.1875 \r\nQ 26.515625 48.1875 22.3125 43.546875 \r\nQ 18.109375 38.921875 18.109375 30.90625 \r\nL 18.109375 0 \r\nL 9.078125 0 \r\nL 9.078125 75.984375 \r\nL 18.109375 75.984375 \r\nL 18.109375 46.1875 \r\nQ 21.34375 51.125 25.703125 53.5625 \r\nQ 30.078125 56 35.796875 56 \r\nQ 45.21875 56 50.046875 50.171875 \r\nQ 54.890625 44.34375 54.890625 33.015625 \r\nz\r\n\" id=\"DejaVuSans-104\"/>\r\n       <path d=\"M 32.171875 -5.078125 \r\nQ 28.375 -14.84375 24.75 -17.8125 \r\nQ 21.140625 -20.796875 15.09375 -20.796875 \r\nL 7.90625 -20.796875 \r\nL 7.90625 -13.28125 \r\nL 13.1875 -13.28125 \r\nQ 16.890625 -13.28125 18.9375 -11.515625 \r\nQ 21 -9.765625 23.484375 -3.21875 \r\nL 25.09375 0.875 \r\nL 2.984375 54.6875 \r\nL 12.5 54.6875 \r\nL 29.59375 11.921875 \r\nL 46.6875 54.6875 \r\nL 56.203125 54.6875 \r\nz\r\n\" id=\"DejaVuSans-121\"/>\r\n      </defs>\r\n      <g transform=\"translate(163.129085 684.306875)rotate(-90)scale(0.1 -0.1)\">\r\n       <use xlink:href=\"#DejaVuSans-66\"/>\r\n       <use x=\"68.603516\" xlink:href=\"#DejaVuSans-105\"/>\r\n       <use x=\"96.386719\" xlink:href=\"#DejaVuSans-111\"/>\r\n       <use x=\"157.568359\" xlink:href=\"#DejaVuSans-103\"/>\r\n       <use x=\"221.044922\" xlink:href=\"#DejaVuSans-114\"/>\r\n       <use x=\"262.158203\" xlink:href=\"#DejaVuSans-97\"/>\r\n       <use x=\"323.4375\" xlink:href=\"#DejaVuSans-112\"/>\r\n       <use x=\"386.914062\" xlink:href=\"#DejaVuSans-104\"/>\r\n       <use x=\"450.292969\" xlink:href=\"#DejaVuSans-121\"/>\r\n      </g>\r\n     </g>\r\n    </g>\r\n    <g id=\"xtick_5\">\r\n     <g id=\"line2d_5\">\r\n      <g>\r\n       <use style=\"stroke:#000000;stroke-width:0.8;\" x=\"185.966041\" xlink:href=\"#m7ee95d0b67\" y=\"626.356875\"/>\r\n      </g>\r\n     </g>\r\n     <g id=\"text_5\">\r\n      <!-- Comedy -->\r\n      <defs>\r\n       <path d=\"M 64.40625 67.28125 \r\nL 64.40625 56.890625 \r\nQ 59.421875 61.53125 53.78125 63.8125 \r\nQ 48.140625 66.109375 41.796875 66.109375 \r\nQ 29.296875 66.109375 22.65625 58.46875 \r\nQ 16.015625 50.828125 16.015625 36.375 \r\nQ 16.015625 21.96875 22.65625 14.328125 \r\nQ 29.296875 6.6875 41.796875 6.6875 \r\nQ 48.140625 6.6875 53.78125 8.984375 \r\nQ 59.421875 11.28125 64.40625 15.921875 \r\nL 64.40625 5.609375 \r\nQ 59.234375 2.09375 53.4375 0.328125 \r\nQ 47.65625 -1.421875 41.21875 -1.421875 \r\nQ 24.65625 -1.421875 15.125 8.703125 \r\nQ 5.609375 18.84375 5.609375 36.375 \r\nQ 5.609375 53.953125 15.125 64.078125 \r\nQ 24.65625 74.21875 41.21875 74.21875 \r\nQ 47.75 74.21875 53.53125 72.484375 \r\nQ 59.328125 70.75 64.40625 67.28125 \r\nz\r\n\" id=\"DejaVuSans-67\"/>\r\n      </defs>\r\n      <g transform=\"translate(188.725416 674.619375)rotate(-90)scale(0.1 -0.1)\">\r\n       <use xlink:href=\"#DejaVuSans-67\"/>\r\n       <use x=\"69.824219\" xlink:href=\"#DejaVuSans-111\"/>\r\n       <use x=\"131.005859\" xlink:href=\"#DejaVuSans-109\"/>\r\n       <use x=\"228.417969\" xlink:href=\"#DejaVuSans-101\"/>\r\n       <use x=\"289.941406\" xlink:href=\"#DejaVuSans-100\"/>\r\n       <use x=\"353.417969\" xlink:href=\"#DejaVuSans-121\"/>\r\n      </g>\r\n     </g>\r\n    </g>\r\n    <g id=\"xtick_6\">\r\n     <g id=\"line2d_6\">\r\n      <g>\r\n       <use style=\"stroke:#000000;stroke-width:0.8;\" x=\"211.562371\" xlink:href=\"#m7ee95d0b67\" y=\"626.356875\"/>\r\n      </g>\r\n     </g>\r\n     <g id=\"text_6\">\r\n      <!-- Crime -->\r\n      <g transform=\"translate(214.321746 663.1225)rotate(-90)scale(0.1 -0.1)\">\r\n       <use xlink:href=\"#DejaVuSans-67\"/>\r\n       <use x=\"69.824219\" xlink:href=\"#DejaVuSans-114\"/>\r\n       <use x=\"110.9375\" xlink:href=\"#DejaVuSans-105\"/>\r\n       <use x=\"138.720703\" xlink:href=\"#DejaVuSans-109\"/>\r\n       <use x=\"236.132812\" xlink:href=\"#DejaVuSans-101\"/>\r\n      </g>\r\n     </g>\r\n    </g>\r\n    <g id=\"xtick_7\">\r\n     <g id=\"line2d_7\">\r\n      <g>\r\n       <use style=\"stroke:#000000;stroke-width:0.8;\" x=\"237.158701\" xlink:href=\"#m7ee95d0b67\" y=\"626.356875\"/>\r\n      </g>\r\n     </g>\r\n     <g id=\"text_7\">\r\n      <!-- Documentary -->\r\n      <defs>\r\n       <path d=\"M 19.671875 64.796875 \r\nL 19.671875 8.109375 \r\nL 31.59375 8.109375 \r\nQ 46.6875 8.109375 53.6875 14.9375 \r\nQ 60.6875 21.78125 60.6875 36.53125 \r\nQ 60.6875 51.171875 53.6875 57.984375 \r\nQ 46.6875 64.796875 31.59375 64.796875 \r\nz\r\nM 9.8125 72.90625 \r\nL 30.078125 72.90625 \r\nQ 51.265625 72.90625 61.171875 64.09375 \r\nQ 71.09375 55.28125 71.09375 36.53125 \r\nQ 71.09375 17.671875 61.125 8.828125 \r\nQ 51.171875 0 30.078125 0 \r\nL 9.8125 0 \r\nz\r\n\" id=\"DejaVuSans-68\"/>\r\n      </defs>\r\n      <g transform=\"translate(239.918076 701.320937)rotate(-90)scale(0.1 -0.1)\">\r\n       <use xlink:href=\"#DejaVuSans-68\"/>\r\n       <use x=\"77.001953\" xlink:href=\"#DejaVuSans-111\"/>\r\n       <use x=\"138.183594\" xlink:href=\"#DejaVuSans-99\"/>\r\n       <use x=\"193.164062\" xlink:href=\"#DejaVuSans-117\"/>\r\n       <use x=\"256.542969\" xlink:href=\"#DejaVuSans-109\"/>\r\n       <use x=\"353.955078\" xlink:href=\"#DejaVuSans-101\"/>\r\n       <use x=\"415.478516\" xlink:href=\"#DejaVuSans-110\"/>\r\n       <use x=\"478.857422\" xlink:href=\"#DejaVuSans-116\"/>\r\n       <use x=\"518.066406\" xlink:href=\"#DejaVuSans-97\"/>\r\n       <use x=\"579.345703\" xlink:href=\"#DejaVuSans-114\"/>\r\n       <use x=\"620.458984\" xlink:href=\"#DejaVuSans-121\"/>\r\n      </g>\r\n     </g>\r\n    </g>\r\n    <g id=\"xtick_8\">\r\n     <g id=\"line2d_8\">\r\n      <g>\r\n       <use style=\"stroke:#000000;stroke-width:0.8;\" x=\"262.755032\" xlink:href=\"#m7ee95d0b67\" y=\"626.356875\"/>\r\n      </g>\r\n     </g>\r\n     <g id=\"text_8\">\r\n      <!-- Drama -->\r\n      <g transform=\"translate(265.514407 667.164687)rotate(-90)scale(0.1 -0.1)\">\r\n       <use xlink:href=\"#DejaVuSans-68\"/>\r\n       <use x=\"77.001953\" xlink:href=\"#DejaVuSans-114\"/>\r\n       <use x=\"118.115234\" xlink:href=\"#DejaVuSans-97\"/>\r\n       <use x=\"179.394531\" xlink:href=\"#DejaVuSans-109\"/>\r\n       <use x=\"276.806641\" xlink:href=\"#DejaVuSans-97\"/>\r\n      </g>\r\n     </g>\r\n    </g>\r\n    <g id=\"xtick_9\">\r\n     <g id=\"line2d_9\">\r\n      <g>\r\n       <use style=\"stroke:#000000;stroke-width:0.8;\" x=\"288.351362\" xlink:href=\"#m7ee95d0b67\" y=\"626.356875\"/>\r\n      </g>\r\n     </g>\r\n     <g id=\"text_9\">\r\n      <!-- Family -->\r\n      <defs>\r\n       <path d=\"M 9.8125 72.90625 \r\nL 51.703125 72.90625 \r\nL 51.703125 64.59375 \r\nL 19.671875 64.59375 \r\nL 19.671875 43.109375 \r\nL 48.578125 43.109375 \r\nL 48.578125 34.8125 \r\nL 19.671875 34.8125 \r\nL 19.671875 0 \r\nL 9.8125 0 \r\nz\r\n\" id=\"DejaVuSans-70\"/>\r\n       <path d=\"M 9.421875 75.984375 \r\nL 18.40625 75.984375 \r\nL 18.40625 0 \r\nL 9.421875 0 \r\nz\r\n\" id=\"DejaVuSans-108\"/>\r\n      </defs>\r\n      <g transform=\"translate(291.110737 665.539687)rotate(-90)scale(0.1 -0.1)\">\r\n       <use xlink:href=\"#DejaVuSans-70\"/>\r\n       <use x=\"48.394531\" xlink:href=\"#DejaVuSans-97\"/>\r\n       <use x=\"109.673828\" xlink:href=\"#DejaVuSans-109\"/>\r\n       <use x=\"207.085938\" xlink:href=\"#DejaVuSans-105\"/>\r\n       <use x=\"234.869141\" xlink:href=\"#DejaVuSans-108\"/>\r\n       <use x=\"262.652344\" xlink:href=\"#DejaVuSans-121\"/>\r\n      </g>\r\n     </g>\r\n    </g>\r\n    <g id=\"xtick_10\">\r\n     <g id=\"line2d_10\">\r\n      <g>\r\n       <use style=\"stroke:#000000;stroke-width:0.8;\" x=\"313.947692\" xlink:href=\"#m7ee95d0b67\" y=\"626.356875\"/>\r\n      </g>\r\n     </g>\r\n     <g id=\"text_10\">\r\n      <!-- Fantasy -->\r\n      <defs>\r\n       <path d=\"M 44.28125 53.078125 \r\nL 44.28125 44.578125 \r\nQ 40.484375 46.53125 36.375 47.5 \r\nQ 32.28125 48.484375 27.875 48.484375 \r\nQ 21.1875 48.484375 17.84375 46.4375 \r\nQ 14.5 44.390625 14.5 40.28125 \r\nQ 14.5 37.15625 16.890625 35.375 \r\nQ 19.28125 33.59375 26.515625 31.984375 \r\nL 29.59375 31.296875 \r\nQ 39.15625 29.25 43.1875 25.515625 \r\nQ 47.21875 21.78125 47.21875 15.09375 \r\nQ 47.21875 7.46875 41.1875 3.015625 \r\nQ 35.15625 -1.421875 24.609375 -1.421875 \r\nQ 20.21875 -1.421875 15.453125 -0.5625 \r\nQ 10.6875 0.296875 5.421875 2 \r\nL 5.421875 11.28125 \r\nQ 10.40625 8.6875 15.234375 7.390625 \r\nQ 20.0625 6.109375 24.8125 6.109375 \r\nQ 31.15625 6.109375 34.5625 8.28125 \r\nQ 37.984375 10.453125 37.984375 14.40625 \r\nQ 37.984375 18.0625 35.515625 20.015625 \r\nQ 33.0625 21.96875 24.703125 23.78125 \r\nL 21.578125 24.515625 \r\nQ 13.234375 26.265625 9.515625 29.90625 \r\nQ 5.8125 33.546875 5.8125 39.890625 \r\nQ 5.8125 47.609375 11.28125 51.796875 \r\nQ 16.75 56 26.8125 56 \r\nQ 31.78125 56 36.171875 55.265625 \r\nQ 40.578125 54.546875 44.28125 53.078125 \r\nz\r\n\" id=\"DejaVuSans-115\"/>\r\n      </defs>\r\n      <g transform=\"translate(316.707067 671.838125)rotate(-90)scale(0.1 -0.1)\">\r\n       <use xlink:href=\"#DejaVuSans-70\"/>\r\n       <use x=\"48.394531\" xlink:href=\"#DejaVuSans-97\"/>\r\n       <use x=\"109.673828\" xlink:href=\"#DejaVuSans-110\"/>\r\n       <use x=\"173.052734\" xlink:href=\"#DejaVuSans-116\"/>\r\n       <use x=\"212.261719\" xlink:href=\"#DejaVuSans-97\"/>\r\n       <use x=\"273.541016\" xlink:href=\"#DejaVuSans-115\"/>\r\n       <use x=\"325.640625\" xlink:href=\"#DejaVuSans-121\"/>\r\n      </g>\r\n     </g>\r\n    </g>\r\n    <g id=\"xtick_11\">\r\n     <g id=\"line2d_11\">\r\n      <g>\r\n       <use style=\"stroke:#000000;stroke-width:0.8;\" x=\"339.544022\" xlink:href=\"#m7ee95d0b67\" y=\"626.356875\"/>\r\n      </g>\r\n     </g>\r\n     <g id=\"text_11\">\r\n      <!-- History -->\r\n      <defs>\r\n       <path d=\"M 9.8125 72.90625 \r\nL 19.671875 72.90625 \r\nL 19.671875 43.015625 \r\nL 55.515625 43.015625 \r\nL 55.515625 72.90625 \r\nL 65.375 72.90625 \r\nL 65.375 0 \r\nL 55.515625 0 \r\nL 55.515625 34.71875 \r\nL 19.671875 34.71875 \r\nL 19.671875 0 \r\nL 9.8125 0 \r\nz\r\n\" id=\"DejaVuSans-72\"/>\r\n      </defs>\r\n      <g transform=\"translate(342.303397 668.933437)rotate(-90)scale(0.1 -0.1)\">\r\n       <use xlink:href=\"#DejaVuSans-72\"/>\r\n       <use x=\"75.195312\" xlink:href=\"#DejaVuSans-105\"/>\r\n       <use x=\"102.978516\" xlink:href=\"#DejaVuSans-115\"/>\r\n       <use x=\"155.078125\" xlink:href=\"#DejaVuSans-116\"/>\r\n       <use x=\"194.287109\" xlink:href=\"#DejaVuSans-111\"/>\r\n       <use x=\"255.46875\" xlink:href=\"#DejaVuSans-114\"/>\r\n       <use x=\"296.582031\" xlink:href=\"#DejaVuSans-121\"/>\r\n      </g>\r\n     </g>\r\n    </g>\r\n    <g id=\"xtick_12\">\r\n     <g id=\"line2d_12\">\r\n      <g>\r\n       <use style=\"stroke:#000000;stroke-width:0.8;\" x=\"365.140353\" xlink:href=\"#m7ee95d0b67\" y=\"626.356875\"/>\r\n      </g>\r\n     </g>\r\n     <g id=\"text_12\">\r\n      <!-- Horror -->\r\n      <g transform=\"translate(367.899728 665.0475)rotate(-90)scale(0.1 -0.1)\">\r\n       <use xlink:href=\"#DejaVuSans-72\"/>\r\n       <use x=\"75.195312\" xlink:href=\"#DejaVuSans-111\"/>\r\n       <use x=\"136.376953\" xlink:href=\"#DejaVuSans-114\"/>\r\n       <use x=\"175.740234\" xlink:href=\"#DejaVuSans-114\"/>\r\n       <use x=\"214.603516\" xlink:href=\"#DejaVuSans-111\"/>\r\n       <use x=\"275.785156\" xlink:href=\"#DejaVuSans-114\"/>\r\n      </g>\r\n     </g>\r\n    </g>\r\n    <g id=\"xtick_13\">\r\n     <g id=\"line2d_13\">\r\n      <g>\r\n       <use style=\"stroke:#000000;stroke-width:0.8;\" x=\"390.736683\" xlink:href=\"#m7ee95d0b67\" y=\"626.356875\"/>\r\n      </g>\r\n     </g>\r\n     <g id=\"text_13\">\r\n      <!-- Music -->\r\n      <defs>\r\n       <path d=\"M 9.8125 72.90625 \r\nL 24.515625 72.90625 \r\nL 43.109375 23.296875 \r\nL 61.8125 72.90625 \r\nL 76.515625 72.90625 \r\nL 76.515625 0 \r\nL 66.890625 0 \r\nL 66.890625 64.015625 \r\nL 48.09375 14.015625 \r\nL 38.1875 14.015625 \r\nL 19.390625 64.015625 \r\nL 19.390625 0 \r\nL 9.8125 0 \r\nz\r\n\" id=\"DejaVuSans-77\"/>\r\n      </defs>\r\n      <g transform=\"translate(393.496058 661.808437)rotate(-90)scale(0.1 -0.1)\">\r\n       <use xlink:href=\"#DejaVuSans-77\"/>\r\n       <use x=\"86.279297\" xlink:href=\"#DejaVuSans-117\"/>\r\n       <use x=\"149.658203\" xlink:href=\"#DejaVuSans-115\"/>\r\n       <use x=\"201.757812\" xlink:href=\"#DejaVuSans-105\"/>\r\n       <use x=\"229.541016\" xlink:href=\"#DejaVuSans-99\"/>\r\n      </g>\r\n     </g>\r\n    </g>\r\n    <g id=\"xtick_14\">\r\n     <g id=\"line2d_14\">\r\n      <g>\r\n       <use style=\"stroke:#000000;stroke-width:0.8;\" x=\"416.333013\" xlink:href=\"#m7ee95d0b67\" y=\"626.356875\"/>\r\n      </g>\r\n     </g>\r\n     <g id=\"text_14\">\r\n      <!-- Musical -->\r\n      <g transform=\"translate(419.092388 670.714687)rotate(-90)scale(0.1 -0.1)\">\r\n       <use xlink:href=\"#DejaVuSans-77\"/>\r\n       <use x=\"86.279297\" xlink:href=\"#DejaVuSans-117\"/>\r\n       <use x=\"149.658203\" xlink:href=\"#DejaVuSans-115\"/>\r\n       <use x=\"201.757812\" xlink:href=\"#DejaVuSans-105\"/>\r\n       <use x=\"229.541016\" xlink:href=\"#DejaVuSans-99\"/>\r\n       <use x=\"284.521484\" xlink:href=\"#DejaVuSans-97\"/>\r\n       <use x=\"345.800781\" xlink:href=\"#DejaVuSans-108\"/>\r\n      </g>\r\n     </g>\r\n    </g>\r\n    <g id=\"xtick_15\">\r\n     <g id=\"line2d_15\">\r\n      <g>\r\n       <use style=\"stroke:#000000;stroke-width:0.8;\" x=\"441.929343\" xlink:href=\"#m7ee95d0b67\" y=\"626.356875\"/>\r\n      </g>\r\n     </g>\r\n     <g id=\"text_15\">\r\n      <!-- Mystery -->\r\n      <g transform=\"translate(444.688718 673.21625)rotate(-90)scale(0.1 -0.1)\">\r\n       <use xlink:href=\"#DejaVuSans-77\"/>\r\n       <use x=\"86.279297\" xlink:href=\"#DejaVuSans-121\"/>\r\n       <use x=\"145.458984\" xlink:href=\"#DejaVuSans-115\"/>\r\n       <use x=\"197.558594\" xlink:href=\"#DejaVuSans-116\"/>\r\n       <use x=\"236.767578\" xlink:href=\"#DejaVuSans-101\"/>\r\n       <use x=\"298.291016\" xlink:href=\"#DejaVuSans-114\"/>\r\n       <use x=\"339.404297\" xlink:href=\"#DejaVuSans-121\"/>\r\n      </g>\r\n     </g>\r\n    </g>\r\n    <g id=\"xtick_16\">\r\n     <g id=\"line2d_16\">\r\n      <g>\r\n       <use style=\"stroke:#000000;stroke-width:0.8;\" x=\"467.525674\" xlink:href=\"#m7ee95d0b67\" y=\"626.356875\"/>\r\n      </g>\r\n     </g>\r\n     <g id=\"text_16\">\r\n      <!-- News -->\r\n      <defs>\r\n       <path d=\"M 9.8125 72.90625 \r\nL 23.09375 72.90625 \r\nL 55.421875 11.921875 \r\nL 55.421875 72.90625 \r\nL 64.984375 72.90625 \r\nL 64.984375 0 \r\nL 51.703125 0 \r\nL 19.390625 60.984375 \r\nL 19.390625 0 \r\nL 9.8125 0 \r\nz\r\n\" id=\"DejaVuSans-78\"/>\r\n       <path d=\"M 4.203125 54.6875 \r\nL 13.1875 54.6875 \r\nL 24.421875 12.015625 \r\nL 35.59375 54.6875 \r\nL 46.1875 54.6875 \r\nL 57.421875 12.015625 \r\nL 68.609375 54.6875 \r\nL 77.59375 54.6875 \r\nL 63.28125 0 \r\nL 52.6875 0 \r\nL 40.921875 44.828125 \r\nL 29.109375 0 \r\nL 18.5 0 \r\nz\r\n\" id=\"DejaVuSans-119\"/>\r\n      </defs>\r\n      <g transform=\"translate(470.285049 660.37875)rotate(-90)scale(0.1 -0.1)\">\r\n       <use xlink:href=\"#DejaVuSans-78\"/>\r\n       <use x=\"74.804688\" xlink:href=\"#DejaVuSans-101\"/>\r\n       <use x=\"136.328125\" xlink:href=\"#DejaVuSans-119\"/>\r\n       <use x=\"218.115234\" xlink:href=\"#DejaVuSans-115\"/>\r\n      </g>\r\n     </g>\r\n    </g>\r\n    <g id=\"xtick_17\">\r\n     <g id=\"line2d_17\">\r\n      <g>\r\n       <use style=\"stroke:#000000;stroke-width:0.8;\" x=\"493.122004\" xlink:href=\"#m7ee95d0b67\" y=\"626.356875\"/>\r\n      </g>\r\n     </g>\r\n     <g id=\"text_17\">\r\n      <!-- Romance -->\r\n      <defs>\r\n       <path d=\"M 44.390625 34.1875 \r\nQ 47.5625 33.109375 50.5625 29.59375 \r\nQ 53.5625 26.078125 56.59375 19.921875 \r\nL 66.609375 0 \r\nL 56 0 \r\nL 46.6875 18.703125 \r\nQ 43.0625 26.03125 39.671875 28.421875 \r\nQ 36.28125 30.8125 30.421875 30.8125 \r\nL 19.671875 30.8125 \r\nL 19.671875 0 \r\nL 9.8125 0 \r\nL 9.8125 72.90625 \r\nL 32.078125 72.90625 \r\nQ 44.578125 72.90625 50.734375 67.671875 \r\nQ 56.890625 62.453125 56.890625 51.90625 \r\nQ 56.890625 45.015625 53.6875 40.46875 \r\nQ 50.484375 35.9375 44.390625 34.1875 \r\nz\r\nM 19.671875 64.796875 \r\nL 19.671875 38.921875 \r\nL 32.078125 38.921875 \r\nQ 39.203125 38.921875 42.84375 42.21875 \r\nQ 46.484375 45.515625 46.484375 51.90625 \r\nQ 46.484375 58.296875 42.84375 61.546875 \r\nQ 39.203125 64.796875 32.078125 64.796875 \r\nz\r\n\" id=\"DejaVuSans-82\"/>\r\n      </defs>\r\n      <g transform=\"translate(495.881379 679.831875)rotate(-90)scale(0.1 -0.1)\">\r\n       <use xlink:href=\"#DejaVuSans-82\"/>\r\n       <use x=\"64.982422\" xlink:href=\"#DejaVuSans-111\"/>\r\n       <use x=\"126.164062\" xlink:href=\"#DejaVuSans-109\"/>\r\n       <use x=\"223.576172\" xlink:href=\"#DejaVuSans-97\"/>\r\n       <use x=\"284.855469\" xlink:href=\"#DejaVuSans-110\"/>\r\n       <use x=\"348.234375\" xlink:href=\"#DejaVuSans-99\"/>\r\n       <use x=\"403.214844\" xlink:href=\"#DejaVuSans-101\"/>\r\n      </g>\r\n     </g>\r\n    </g>\r\n    <g id=\"xtick_18\">\r\n     <g id=\"line2d_18\">\r\n      <g>\r\n       <use style=\"stroke:#000000;stroke-width:0.8;\" x=\"518.718334\" xlink:href=\"#m7ee95d0b67\" y=\"626.356875\"/>\r\n      </g>\r\n     </g>\r\n     <g id=\"text_18\">\r\n      <!-- Sci-Fi -->\r\n      <defs>\r\n       <path d=\"M 53.515625 70.515625 \r\nL 53.515625 60.890625 \r\nQ 47.90625 63.578125 42.921875 64.890625 \r\nQ 37.9375 66.21875 33.296875 66.21875 \r\nQ 25.25 66.21875 20.875 63.09375 \r\nQ 16.5 59.96875 16.5 54.203125 \r\nQ 16.5 49.359375 19.40625 46.890625 \r\nQ 22.3125 44.4375 30.421875 42.921875 \r\nL 36.375 41.703125 \r\nQ 47.40625 39.59375 52.65625 34.296875 \r\nQ 57.90625 29 57.90625 20.125 \r\nQ 57.90625 9.515625 50.796875 4.046875 \r\nQ 43.703125 -1.421875 29.984375 -1.421875 \r\nQ 24.8125 -1.421875 18.96875 -0.25 \r\nQ 13.140625 0.921875 6.890625 3.21875 \r\nL 6.890625 13.375 \r\nQ 12.890625 10.015625 18.65625 8.296875 \r\nQ 24.421875 6.59375 29.984375 6.59375 \r\nQ 38.421875 6.59375 43.015625 9.90625 \r\nQ 47.609375 13.234375 47.609375 19.390625 \r\nQ 47.609375 24.75 44.3125 27.78125 \r\nQ 41.015625 30.8125 33.5 32.328125 \r\nL 27.484375 33.5 \r\nQ 16.453125 35.6875 11.515625 40.375 \r\nQ 6.59375 45.0625 6.59375 53.421875 \r\nQ 6.59375 63.09375 13.40625 68.65625 \r\nQ 20.21875 74.21875 32.171875 74.21875 \r\nQ 37.3125 74.21875 42.625 73.28125 \r\nQ 47.953125 72.359375 53.515625 70.515625 \r\nz\r\n\" id=\"DejaVuSans-83\"/>\r\n       <path d=\"M 4.890625 31.390625 \r\nL 31.203125 31.390625 \r\nL 31.203125 23.390625 \r\nL 4.890625 23.390625 \r\nz\r\n\" id=\"DejaVuSans-45\"/>\r\n      </defs>\r\n      <g transform=\"translate(521.477709 659.394375)rotate(-90)scale(0.1 -0.1)\">\r\n       <use xlink:href=\"#DejaVuSans-83\"/>\r\n       <use x=\"63.476562\" xlink:href=\"#DejaVuSans-99\"/>\r\n       <use x=\"118.457031\" xlink:href=\"#DejaVuSans-105\"/>\r\n       <use x=\"146.240234\" xlink:href=\"#DejaVuSans-45\"/>\r\n       <use x=\"182.324219\" xlink:href=\"#DejaVuSans-70\"/>\r\n       <use x=\"232.59375\" xlink:href=\"#DejaVuSans-105\"/>\r\n      </g>\r\n     </g>\r\n    </g>\r\n    <g id=\"xtick_19\">\r\n     <g id=\"line2d_19\">\r\n      <g>\r\n       <use style=\"stroke:#000000;stroke-width:0.8;\" x=\"544.314665\" xlink:href=\"#m7ee95d0b67\" y=\"626.356875\"/>\r\n      </g>\r\n     </g>\r\n     <g id=\"text_19\">\r\n      <!-- Sport -->\r\n      <g transform=\"translate(547.07404 660.20375)rotate(-90)scale(0.1 -0.1)\">\r\n       <use xlink:href=\"#DejaVuSans-83\"/>\r\n       <use x=\"63.476562\" xlink:href=\"#DejaVuSans-112\"/>\r\n       <use x=\"126.953125\" xlink:href=\"#DejaVuSans-111\"/>\r\n       <use x=\"188.134766\" xlink:href=\"#DejaVuSans-114\"/>\r\n       <use x=\"229.248047\" xlink:href=\"#DejaVuSans-116\"/>\r\n      </g>\r\n     </g>\r\n    </g>\r\n    <g id=\"xtick_20\">\r\n     <g id=\"line2d_20\">\r\n      <g>\r\n       <use style=\"stroke:#000000;stroke-width:0.8;\" x=\"569.910995\" xlink:href=\"#m7ee95d0b67\" y=\"626.356875\"/>\r\n      </g>\r\n     </g>\r\n     <g id=\"text_20\">\r\n      <!-- Thriller -->\r\n      <defs>\r\n       <path d=\"M -0.296875 72.90625 \r\nL 61.375 72.90625 \r\nL 61.375 64.59375 \r\nL 35.5 64.59375 \r\nL 35.5 0 \r\nL 25.59375 0 \r\nL 25.59375 64.59375 \r\nL -0.296875 64.59375 \r\nz\r\n\" id=\"DejaVuSans-84\"/>\r\n      </defs>\r\n      <g transform=\"translate(572.67037 668.511562)rotate(-90)scale(0.1 -0.1)\">\r\n       <use xlink:href=\"#DejaVuSans-84\"/>\r\n       <use x=\"61.083984\" xlink:href=\"#DejaVuSans-104\"/>\r\n       <use x=\"124.462891\" xlink:href=\"#DejaVuSans-114\"/>\r\n       <use x=\"165.576172\" xlink:href=\"#DejaVuSans-105\"/>\r\n       <use x=\"193.359375\" xlink:href=\"#DejaVuSans-108\"/>\r\n       <use x=\"221.142578\" xlink:href=\"#DejaVuSans-108\"/>\r\n       <use x=\"248.925781\" xlink:href=\"#DejaVuSans-101\"/>\r\n       <use x=\"310.449219\" xlink:href=\"#DejaVuSans-114\"/>\r\n      </g>\r\n     </g>\r\n    </g>\r\n    <g id=\"xtick_21\">\r\n     <g id=\"line2d_21\">\r\n      <g>\r\n       <use style=\"stroke:#000000;stroke-width:0.8;\" x=\"595.507325\" xlink:href=\"#m7ee95d0b67\" y=\"626.356875\"/>\r\n      </g>\r\n     </g>\r\n     <g id=\"text_21\">\r\n      <!-- War -->\r\n      <defs>\r\n       <path d=\"M 3.328125 72.90625 \r\nL 13.28125 72.90625 \r\nL 28.609375 11.28125 \r\nL 43.890625 72.90625 \r\nL 54.984375 72.90625 \r\nL 70.3125 11.28125 \r\nL 85.59375 72.90625 \r\nL 95.609375 72.90625 \r\nL 77.296875 0 \r\nL 64.890625 0 \r\nL 49.515625 63.28125 \r\nL 33.984375 0 \r\nL 21.578125 0 \r\nz\r\n\" id=\"DejaVuSans-87\"/>\r\n      </defs>\r\n      <g transform=\"translate(598.2667 652.845937)rotate(-90)scale(0.1 -0.1)\">\r\n       <use xlink:href=\"#DejaVuSans-87\"/>\r\n       <use x=\"92.501953\" xlink:href=\"#DejaVuSans-97\"/>\r\n       <use x=\"153.78125\" xlink:href=\"#DejaVuSans-114\"/>\r\n      </g>\r\n     </g>\r\n    </g>\r\n    <g id=\"xtick_22\">\r\n     <g id=\"line2d_22\">\r\n      <g>\r\n       <use style=\"stroke:#000000;stroke-width:0.8;\" x=\"621.103655\" xlink:href=\"#m7ee95d0b67\" y=\"626.356875\"/>\r\n      </g>\r\n     </g>\r\n     <g id=\"text_22\">\r\n      <!-- Western -->\r\n      <g transform=\"translate(623.86303 674.36625)rotate(-90)scale(0.1 -0.1)\">\r\n       <use xlink:href=\"#DejaVuSans-87\"/>\r\n       <use x=\"93.001953\" xlink:href=\"#DejaVuSans-101\"/>\r\n       <use x=\"154.525391\" xlink:href=\"#DejaVuSans-115\"/>\r\n       <use x=\"206.625\" xlink:href=\"#DejaVuSans-116\"/>\r\n       <use x=\"245.833984\" xlink:href=\"#DejaVuSans-101\"/>\r\n       <use x=\"307.357422\" xlink:href=\"#DejaVuSans-114\"/>\r\n       <use x=\"346.720703\" xlink:href=\"#DejaVuSans-110\"/>\r\n      </g>\r\n     </g>\r\n    </g>\r\n    <g id=\"text_23\">\r\n     <!-- Genre -->\r\n     <defs>\r\n      <path d=\"M 59.515625 10.40625 \r\nL 59.515625 29.984375 \r\nL 43.40625 29.984375 \r\nL 43.40625 38.09375 \r\nL 69.28125 38.09375 \r\nL 69.28125 6.78125 \r\nQ 63.578125 2.734375 56.6875 0.65625 \r\nQ 49.8125 -1.421875 42 -1.421875 \r\nQ 24.90625 -1.421875 15.25 8.5625 \r\nQ 5.609375 18.5625 5.609375 36.375 \r\nQ 5.609375 54.25 15.25 64.234375 \r\nQ 24.90625 74.21875 42 74.21875 \r\nQ 49.125 74.21875 55.546875 72.453125 \r\nQ 61.96875 70.703125 67.390625 67.28125 \r\nL 67.390625 56.78125 \r\nQ 61.921875 61.421875 55.765625 63.765625 \r\nQ 49.609375 66.109375 42.828125 66.109375 \r\nQ 29.4375 66.109375 22.71875 58.640625 \r\nQ 16.015625 51.171875 16.015625 36.375 \r\nQ 16.015625 21.625 22.71875 14.15625 \r\nQ 29.4375 6.6875 42.828125 6.6875 \r\nQ 48.046875 6.6875 52.140625 7.59375 \r\nQ 56.25 8.5 59.515625 10.40625 \r\nz\r\n\" id=\"DejaVuSans-71\"/>\r\n     </defs>\r\n     <g transform=\"translate(329.633594 716.718594)scale(0.15 -0.15)\">\r\n      <use xlink:href=\"#DejaVuSans-71\"/>\r\n      <use x=\"77.490234\" xlink:href=\"#DejaVuSans-101\"/>\r\n      <use x=\"139.013672\" xlink:href=\"#DejaVuSans-110\"/>\r\n      <use x=\"202.392578\" xlink:href=\"#DejaVuSans-114\"/>\r\n      <use x=\"241.255859\" xlink:href=\"#DejaVuSans-101\"/>\r\n     </g>\r\n    </g>\r\n   </g>\r\n   <g id=\"matplotlib.axis_2\">\r\n    <g id=\"ytick_1\">\r\n     <g id=\"line2d_23\">\r\n      <defs>\r\n       <path d=\"M 0 0 \r\nL -3.5 0 \r\n\" id=\"m000be7aaa9\" style=\"stroke:#000000;stroke-width:0.8;\"/>\r\n      </defs>\r\n      <g>\r\n       <use style=\"stroke:#000000;stroke-width:0.8;\" x=\"45.442187\" xlink:href=\"#m000be7aaa9\" y=\"626.356875\"/>\r\n      </g>\r\n     </g>\r\n     <g id=\"text_24\">\r\n      <!-- 0 -->\r\n      <defs>\r\n       <path d=\"M 31.78125 66.40625 \r\nQ 24.171875 66.40625 20.328125 58.90625 \r\nQ 16.5 51.421875 16.5 36.375 \r\nQ 16.5 21.390625 20.328125 13.890625 \r\nQ 24.171875 6.390625 31.78125 6.390625 \r\nQ 39.453125 6.390625 43.28125 13.890625 \r\nQ 47.125 21.390625 47.125 36.375 \r\nQ 47.125 51.421875 43.28125 58.90625 \r\nQ 39.453125 66.40625 31.78125 66.40625 \r\nz\r\nM 31.78125 74.21875 \r\nQ 44.046875 74.21875 50.515625 64.515625 \r\nQ 56.984375 54.828125 56.984375 36.375 \r\nQ 56.984375 17.96875 50.515625 8.265625 \r\nQ 44.046875 -1.421875 31.78125 -1.421875 \r\nQ 19.53125 -1.421875 13.0625 8.265625 \r\nQ 6.59375 17.96875 6.59375 36.375 \r\nQ 6.59375 54.828125 13.0625 64.515625 \r\nQ 19.53125 74.21875 31.78125 74.21875 \r\nz\r\n\" id=\"DejaVuSans-48\"/>\r\n      </defs>\r\n      <g transform=\"translate(32.079687 630.156094)scale(0.1 -0.1)\">\r\n       <use xlink:href=\"#DejaVuSans-48\"/>\r\n      </g>\r\n     </g>\r\n    </g>\r\n    <g id=\"ytick_2\">\r\n     <g id=\"line2d_24\">\r\n      <g>\r\n       <use style=\"stroke:#000000;stroke-width:0.8;\" x=\"45.442187\" xlink:href=\"#m000be7aaa9\" y=\"506.764875\"/>\r\n      </g>\r\n     </g>\r\n     <g id=\"text_25\">\r\n      <!-- 2 -->\r\n      <defs>\r\n       <path d=\"M 19.1875 8.296875 \r\nL 53.609375 8.296875 \r\nL 53.609375 0 \r\nL 7.328125 0 \r\nL 7.328125 8.296875 \r\nQ 12.9375 14.109375 22.625 23.890625 \r\nQ 32.328125 33.6875 34.8125 36.53125 \r\nQ 39.546875 41.84375 41.421875 45.53125 \r\nQ 43.3125 49.21875 43.3125 52.78125 \r\nQ 43.3125 58.59375 39.234375 62.25 \r\nQ 35.15625 65.921875 28.609375 65.921875 \r\nQ 23.96875 65.921875 18.8125 64.3125 \r\nQ 13.671875 62.703125 7.8125 59.421875 \r\nL 7.8125 69.390625 \r\nQ 13.765625 71.78125 18.9375 73 \r\nQ 24.125 74.21875 28.421875 74.21875 \r\nQ 39.75 74.21875 46.484375 68.546875 \r\nQ 53.21875 62.890625 53.21875 53.421875 \r\nQ 53.21875 48.921875 51.53125 44.890625 \r\nQ 49.859375 40.875 45.40625 35.40625 \r\nQ 44.1875 33.984375 37.640625 27.21875 \r\nQ 31.109375 20.453125 19.1875 8.296875 \r\nz\r\n\" id=\"DejaVuSans-50\"/>\r\n      </defs>\r\n      <g transform=\"translate(32.079687 510.564094)scale(0.1 -0.1)\">\r\n       <use xlink:href=\"#DejaVuSans-50\"/>\r\n      </g>\r\n     </g>\r\n    </g>\r\n    <g id=\"ytick_3\">\r\n     <g id=\"line2d_25\">\r\n      <g>\r\n       <use style=\"stroke:#000000;stroke-width:0.8;\" x=\"45.442187\" xlink:href=\"#m000be7aaa9\" y=\"387.172875\"/>\r\n      </g>\r\n     </g>\r\n     <g id=\"text_26\">\r\n      <!-- 4 -->\r\n      <defs>\r\n       <path d=\"M 37.796875 64.3125 \r\nL 12.890625 25.390625 \r\nL 37.796875 25.390625 \r\nz\r\nM 35.203125 72.90625 \r\nL 47.609375 72.90625 \r\nL 47.609375 25.390625 \r\nL 58.015625 25.390625 \r\nL 58.015625 17.1875 \r\nL 47.609375 17.1875 \r\nL 47.609375 0 \r\nL 37.796875 0 \r\nL 37.796875 17.1875 \r\nL 4.890625 17.1875 \r\nL 4.890625 26.703125 \r\nz\r\n\" id=\"DejaVuSans-52\"/>\r\n      </defs>\r\n      <g transform=\"translate(32.079687 390.972094)scale(0.1 -0.1)\">\r\n       <use xlink:href=\"#DejaVuSans-52\"/>\r\n      </g>\r\n     </g>\r\n    </g>\r\n    <g id=\"ytick_4\">\r\n     <g id=\"line2d_26\">\r\n      <g>\r\n       <use style=\"stroke:#000000;stroke-width:0.8;\" x=\"45.442187\" xlink:href=\"#m000be7aaa9\" y=\"267.580875\"/>\r\n      </g>\r\n     </g>\r\n     <g id=\"text_27\">\r\n      <!-- 6 -->\r\n      <defs>\r\n       <path d=\"M 33.015625 40.375 \r\nQ 26.375 40.375 22.484375 35.828125 \r\nQ 18.609375 31.296875 18.609375 23.390625 \r\nQ 18.609375 15.53125 22.484375 10.953125 \r\nQ 26.375 6.390625 33.015625 6.390625 \r\nQ 39.65625 6.390625 43.53125 10.953125 \r\nQ 47.40625 15.53125 47.40625 23.390625 \r\nQ 47.40625 31.296875 43.53125 35.828125 \r\nQ 39.65625 40.375 33.015625 40.375 \r\nz\r\nM 52.59375 71.296875 \r\nL 52.59375 62.3125 \r\nQ 48.875 64.0625 45.09375 64.984375 \r\nQ 41.3125 65.921875 37.59375 65.921875 \r\nQ 27.828125 65.921875 22.671875 59.328125 \r\nQ 17.53125 52.734375 16.796875 39.40625 \r\nQ 19.671875 43.65625 24.015625 45.921875 \r\nQ 28.375 48.1875 33.59375 48.1875 \r\nQ 44.578125 48.1875 50.953125 41.515625 \r\nQ 57.328125 34.859375 57.328125 23.390625 \r\nQ 57.328125 12.15625 50.6875 5.359375 \r\nQ 44.046875 -1.421875 33.015625 -1.421875 \r\nQ 20.359375 -1.421875 13.671875 8.265625 \r\nQ 6.984375 17.96875 6.984375 36.375 \r\nQ 6.984375 53.65625 15.1875 63.9375 \r\nQ 23.390625 74.21875 37.203125 74.21875 \r\nQ 40.921875 74.21875 44.703125 73.484375 \r\nQ 48.484375 72.75 52.59375 71.296875 \r\nz\r\n\" id=\"DejaVuSans-54\"/>\r\n      </defs>\r\n      <g transform=\"translate(32.079687 271.380094)scale(0.1 -0.1)\">\r\n       <use xlink:href=\"#DejaVuSans-54\"/>\r\n      </g>\r\n     </g>\r\n    </g>\r\n    <g id=\"ytick_5\">\r\n     <g id=\"line2d_27\">\r\n      <g>\r\n       <use style=\"stroke:#000000;stroke-width:0.8;\" x=\"45.442187\" xlink:href=\"#m000be7aaa9\" y=\"147.988875\"/>\r\n      </g>\r\n     </g>\r\n     <g id=\"text_28\">\r\n      <!-- 8 -->\r\n      <defs>\r\n       <path d=\"M 31.78125 34.625 \r\nQ 24.75 34.625 20.71875 30.859375 \r\nQ 16.703125 27.09375 16.703125 20.515625 \r\nQ 16.703125 13.921875 20.71875 10.15625 \r\nQ 24.75 6.390625 31.78125 6.390625 \r\nQ 38.8125 6.390625 42.859375 10.171875 \r\nQ 46.921875 13.96875 46.921875 20.515625 \r\nQ 46.921875 27.09375 42.890625 30.859375 \r\nQ 38.875 34.625 31.78125 34.625 \r\nz\r\nM 21.921875 38.8125 \r\nQ 15.578125 40.375 12.03125 44.71875 \r\nQ 8.5 49.078125 8.5 55.328125 \r\nQ 8.5 64.0625 14.71875 69.140625 \r\nQ 20.953125 74.21875 31.78125 74.21875 \r\nQ 42.671875 74.21875 48.875 69.140625 \r\nQ 55.078125 64.0625 55.078125 55.328125 \r\nQ 55.078125 49.078125 51.53125 44.71875 \r\nQ 48 40.375 41.703125 38.8125 \r\nQ 48.828125 37.15625 52.796875 32.3125 \r\nQ 56.78125 27.484375 56.78125 20.515625 \r\nQ 56.78125 9.90625 50.3125 4.234375 \r\nQ 43.84375 -1.421875 31.78125 -1.421875 \r\nQ 19.734375 -1.421875 13.25 4.234375 \r\nQ 6.78125 9.90625 6.78125 20.515625 \r\nQ 6.78125 27.484375 10.78125 32.3125 \r\nQ 14.796875 37.15625 21.921875 38.8125 \r\nz\r\nM 18.3125 54.390625 \r\nQ 18.3125 48.734375 21.84375 45.5625 \r\nQ 25.390625 42.390625 31.78125 42.390625 \r\nQ 38.140625 42.390625 41.71875 45.5625 \r\nQ 45.3125 48.734375 45.3125 54.390625 \r\nQ 45.3125 60.0625 41.71875 63.234375 \r\nQ 38.140625 66.40625 31.78125 66.40625 \r\nQ 25.390625 66.40625 21.84375 63.234375 \r\nQ 18.3125 60.0625 18.3125 54.390625 \r\nz\r\n\" id=\"DejaVuSans-56\"/>\r\n      </defs>\r\n      <g transform=\"translate(32.079687 151.788094)scale(0.1 -0.1)\">\r\n       <use xlink:href=\"#DejaVuSans-56\"/>\r\n      </g>\r\n     </g>\r\n    </g>\r\n    <g id=\"ytick_6\">\r\n     <g id=\"line2d_28\">\r\n      <g>\r\n       <use style=\"stroke:#000000;stroke-width:0.8;\" x=\"45.442187\" xlink:href=\"#m000be7aaa9\" y=\"28.396875\"/>\r\n      </g>\r\n     </g>\r\n     <g id=\"text_29\">\r\n      <!-- 10 -->\r\n      <defs>\r\n       <path d=\"M 12.40625 8.296875 \r\nL 28.515625 8.296875 \r\nL 28.515625 63.921875 \r\nL 10.984375 60.40625 \r\nL 10.984375 69.390625 \r\nL 28.421875 72.90625 \r\nL 38.28125 72.90625 \r\nL 38.28125 8.296875 \r\nL 54.390625 8.296875 \r\nL 54.390625 0 \r\nL 12.40625 0 \r\nz\r\n\" id=\"DejaVuSans-49\"/>\r\n      </defs>\r\n      <g transform=\"translate(25.717187 32.196094)scale(0.1 -0.1)\">\r\n       <use xlink:href=\"#DejaVuSans-49\"/>\r\n       <use x=\"63.623047\" xlink:href=\"#DejaVuSans-48\"/>\r\n      </g>\r\n     </g>\r\n    </g>\r\n    <g id=\"text_30\">\r\n     <!-- Ratings -->\r\n     <g transform=\"translate(18.597656 355.460859)rotate(-90)scale(0.15 -0.15)\">\r\n      <use xlink:href=\"#DejaVuSans-82\"/>\r\n      <use x=\"67.232422\" xlink:href=\"#DejaVuSans-97\"/>\r\n      <use x=\"128.511719\" xlink:href=\"#DejaVuSans-116\"/>\r\n      <use x=\"167.720703\" xlink:href=\"#DejaVuSans-105\"/>\r\n      <use x=\"195.503906\" xlink:href=\"#DejaVuSans-110\"/>\r\n      <use x=\"258.882812\" xlink:href=\"#DejaVuSans-103\"/>\r\n      <use x=\"322.359375\" xlink:href=\"#DejaVuSans-115\"/>\r\n     </g>\r\n    </g>\r\n   </g>\r\n   <g id=\"patch_25\">\r\n    <path d=\"M 45.442187 626.356875 \r\nL 45.442187 28.396875 \r\n\" style=\"fill:none;stroke:#000000;stroke-linecap:square;stroke-linejoin:miter;stroke-width:0.8;\"/>\r\n   </g>\r\n   <g id=\"patch_26\">\r\n    <path d=\"M 659.242188 626.356875 \r\nL 659.242188 28.396875 \r\n\" style=\"fill:none;stroke:#000000;stroke-linecap:square;stroke-linejoin:miter;stroke-width:0.8;\"/>\r\n   </g>\r\n   <g id=\"patch_27\">\r\n    <path d=\"M 45.442187 626.356875 \r\nL 659.242187 626.356875 \r\n\" style=\"fill:none;stroke:#000000;stroke-linecap:square;stroke-linejoin:miter;stroke-width:0.8;\"/>\r\n   </g>\r\n   <g id=\"patch_28\">\r\n    <path d=\"M 45.442187 28.396875 \r\nL 659.242187 28.396875 \r\n\" style=\"fill:none;stroke:#000000;stroke-linecap:square;stroke-linejoin:miter;stroke-width:0.8;\"/>\r\n   </g>\r\n   <g id=\"text_31\">\r\n    <!-- Genres and Ratings -->\r\n    <defs>\r\n     <path id=\"DejaVuSans-32\"/>\r\n    </defs>\r\n    <g transform=\"translate(254.239062 22.396875)scale(0.2 -0.2)\">\r\n     <use xlink:href=\"#DejaVuSans-71\"/>\r\n     <use x=\"77.490234\" xlink:href=\"#DejaVuSans-101\"/>\r\n     <use x=\"139.013672\" xlink:href=\"#DejaVuSans-110\"/>\r\n     <use x=\"202.392578\" xlink:href=\"#DejaVuSans-114\"/>\r\n     <use x=\"241.255859\" xlink:href=\"#DejaVuSans-101\"/>\r\n     <use x=\"302.779297\" xlink:href=\"#DejaVuSans-115\"/>\r\n     <use x=\"354.878906\" xlink:href=\"#DejaVuSans-32\"/>\r\n     <use x=\"386.666016\" xlink:href=\"#DejaVuSans-97\"/>\r\n     <use x=\"447.945312\" xlink:href=\"#DejaVuSans-110\"/>\r\n     <use x=\"511.324219\" xlink:href=\"#DejaVuSans-100\"/>\r\n     <use x=\"574.800781\" xlink:href=\"#DejaVuSans-32\"/>\r\n     <use x=\"606.587891\" xlink:href=\"#DejaVuSans-82\"/>\r\n     <use x=\"673.820312\" xlink:href=\"#DejaVuSans-97\"/>\r\n     <use x=\"735.099609\" xlink:href=\"#DejaVuSans-116\"/>\r\n     <use x=\"774.308594\" xlink:href=\"#DejaVuSans-105\"/>\r\n     <use x=\"802.091797\" xlink:href=\"#DejaVuSans-110\"/>\r\n     <use x=\"865.470703\" xlink:href=\"#DejaVuSans-103\"/>\r\n     <use x=\"928.947266\" xlink:href=\"#DejaVuSans-115\"/>\r\n    </g>\r\n   </g>\r\n  </g>\r\n </g>\r\n <defs>\r\n  <clipPath id=\"p565d07abaf\">\r\n   <rect height=\"597.96\" width=\"613.8\" x=\"45.442187\" y=\"28.396875\"/>\r\n  </clipPath>\r\n </defs>\r\n</svg>\r\n",
      "image/png": "[encoded data removed]"
     },
     "metadata": {
      "needs_background": "light"
     }
    }
   ],
   "source": [
    "fig, ax = plt.subplots(figsize = (11,11))\n",
    "x = genre_dict.keys()\n",
    "y = genre_dict.values()\n",
    "color = [\"red\", \"orangered\", \"maroon\", \"yellow\", \"gold\", \"orange\", \"crimson\", \"chartreuse\", \"green\", \"lime\", \n",
    "         \"cyan\", \"blue\", \"deepskyblue\", \"royalblue\", \"fuchsia\", \"pink\", \"deeppink\", \"indigo\", \n",
    "         \"lavender\", \"darkviolet\", \"silver\", \"black\"]\n",
    "plt.bar(x, y, color = color)\n",
    "\n",
    "ax.set_title('Genres and Ratings', fontsize = 20);\n",
    "ax.set_xlabel('Genre', fontsize = 15)\n",
    "ax.set_ylabel('Ratings', fontsize = 15)\n",
    "ax.set_ylim(0, 10)\n",
    "ax.set_xticklabels(genre_dict.keys(), rotation = 'vertical')\n",
    "\n",
    "plt.savefig('genres')"
   ]
  },
  {
   "cell_type": "code",
   "execution_count": null,
   "metadata": {},
   "outputs": [],
   "source": []
  }
 ]
}