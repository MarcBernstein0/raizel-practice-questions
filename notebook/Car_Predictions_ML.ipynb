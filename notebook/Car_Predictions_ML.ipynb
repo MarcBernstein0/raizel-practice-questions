{
 "cells": [
  {
   "cell_type": "code",
   "execution_count": 5,
   "metadata": {},
   "outputs": [
    {
     "name": "stderr",
     "output_type": "stream",
     "text": [
      "<ipython-input-5-57d7e6d0810a>:9: FutureWarning: Passing a negative integer is deprecated in version 1.0 and will not be supported in future version. Instead, use None to not limit the column width.\n",
      "  pd.set_option('display.max_colwidth', -1)\n"
     ]
    }
   ],
   "source": [
    "import numpy as np \n",
    "import pandas as pd\n",
    "import seaborn as sns\n",
    "from datetime import datetime\n",
    "import matplotlib.pyplot as plt\n",
    "%matplotlib inline\n",
    "pd.set_option('display.max_columns', 100)\n",
    "pd.set_option('display.max_rows', 100)\n",
    "pd.set_option('display.max_colwidth', -1)\n",
    "\n",
    "\n",
    "import sklearn\n",
    "\n",
    "from sklearn.ensemble import RandomForestRegressor\n",
    "from sklearn.ensemble import GradientBoostingClassifier\n",
    "from sklearn.model_selection import GridSearchCV\n",
    "from sklearn.model_selection import cross_val_score\n",
    "import matplotlib.pyplot as plt\n",
    "\n",
    "from sklearn.utils import shuffle\n",
    "from sklearn.model_selection import train_test_split\n",
    "from sklearn.metrics import classification_report, make_scorer, mean_squared_error\n",
    "\n",
    "#git status, git add , git commit -m \"\", git push"
   ]
  },
  {
   "cell_type": "markdown",
   "metadata": {},
   "source": [
    "### All this code is from Machine Learning Bookcamp by Alexey Grigorev Chapter 2 Machine Learning for Regression"
   ]
  },
  {
   "cell_type": "code",
   "execution_count": 6,
   "metadata": {},
   "outputs": [],
   "source": [
    "data = pd.read_csv('data/car_predictions.csv')"
   ]
  },
  {
   "cell_type": "code",
   "execution_count": 7,
   "metadata": {},
   "outputs": [
    {
     "data": {
      "text/html": [
       "<div>\n",
       "<style scoped>\n",
       "    .dataframe tbody tr th:only-of-type {\n",
       "        vertical-align: middle;\n",
       "    }\n",
       "\n",
       "    .dataframe tbody tr th {\n",
       "        vertical-align: top;\n",
       "    }\n",
       "\n",
       "    .dataframe thead th {\n",
       "        text-align: right;\n",
       "    }\n",
       "</style>\n",
       "<table border=\"1\" class=\"dataframe\">\n",
       "  <thead>\n",
       "    <tr style=\"text-align: right;\">\n",
       "      <th></th>\n",
       "      <th>Make</th>\n",
       "      <th>Model</th>\n",
       "      <th>Year</th>\n",
       "      <th>Engine Fuel Type</th>\n",
       "      <th>Engine HP</th>\n",
       "      <th>Engine Cylinders</th>\n",
       "      <th>Transmission Type</th>\n",
       "      <th>Driven_Wheels</th>\n",
       "      <th>Number of Doors</th>\n",
       "      <th>Market Category</th>\n",
       "      <th>Vehicle Size</th>\n",
       "      <th>Vehicle Style</th>\n",
       "      <th>highway MPG</th>\n",
       "      <th>city mpg</th>\n",
       "      <th>Popularity</th>\n",
       "      <th>MSRP</th>\n",
       "    </tr>\n",
       "  </thead>\n",
       "  <tbody>\n",
       "    <tr>\n",
       "      <th>0</th>\n",
       "      <td>BMW</td>\n",
       "      <td>1 Series M</td>\n",
       "      <td>2011</td>\n",
       "      <td>premium unleaded (required)</td>\n",
       "      <td>335.0</td>\n",
       "      <td>6.0</td>\n",
       "      <td>MANUAL</td>\n",
       "      <td>rear wheel drive</td>\n",
       "      <td>2.0</td>\n",
       "      <td>Factory Tuner,Luxury,High-Performance</td>\n",
       "      <td>Compact</td>\n",
       "      <td>Coupe</td>\n",
       "      <td>26</td>\n",
       "      <td>19</td>\n",
       "      <td>3916</td>\n",
       "      <td>46135</td>\n",
       "    </tr>\n",
       "    <tr>\n",
       "      <th>1</th>\n",
       "      <td>BMW</td>\n",
       "      <td>1 Series</td>\n",
       "      <td>2011</td>\n",
       "      <td>premium unleaded (required)</td>\n",
       "      <td>300.0</td>\n",
       "      <td>6.0</td>\n",
       "      <td>MANUAL</td>\n",
       "      <td>rear wheel drive</td>\n",
       "      <td>2.0</td>\n",
       "      <td>Luxury,Performance</td>\n",
       "      <td>Compact</td>\n",
       "      <td>Convertible</td>\n",
       "      <td>28</td>\n",
       "      <td>19</td>\n",
       "      <td>3916</td>\n",
       "      <td>40650</td>\n",
       "    </tr>\n",
       "    <tr>\n",
       "      <th>2</th>\n",
       "      <td>BMW</td>\n",
       "      <td>1 Series</td>\n",
       "      <td>2011</td>\n",
       "      <td>premium unleaded (required)</td>\n",
       "      <td>300.0</td>\n",
       "      <td>6.0</td>\n",
       "      <td>MANUAL</td>\n",
       "      <td>rear wheel drive</td>\n",
       "      <td>2.0</td>\n",
       "      <td>Luxury,High-Performance</td>\n",
       "      <td>Compact</td>\n",
       "      <td>Coupe</td>\n",
       "      <td>28</td>\n",
       "      <td>20</td>\n",
       "      <td>3916</td>\n",
       "      <td>36350</td>\n",
       "    </tr>\n",
       "    <tr>\n",
       "      <th>3</th>\n",
       "      <td>BMW</td>\n",
       "      <td>1 Series</td>\n",
       "      <td>2011</td>\n",
       "      <td>premium unleaded (required)</td>\n",
       "      <td>230.0</td>\n",
       "      <td>6.0</td>\n",
       "      <td>MANUAL</td>\n",
       "      <td>rear wheel drive</td>\n",
       "      <td>2.0</td>\n",
       "      <td>Luxury,Performance</td>\n",
       "      <td>Compact</td>\n",
       "      <td>Coupe</td>\n",
       "      <td>28</td>\n",
       "      <td>18</td>\n",
       "      <td>3916</td>\n",
       "      <td>29450</td>\n",
       "    </tr>\n",
       "    <tr>\n",
       "      <th>4</th>\n",
       "      <td>BMW</td>\n",
       "      <td>1 Series</td>\n",
       "      <td>2011</td>\n",
       "      <td>premium unleaded (required)</td>\n",
       "      <td>230.0</td>\n",
       "      <td>6.0</td>\n",
       "      <td>MANUAL</td>\n",
       "      <td>rear wheel drive</td>\n",
       "      <td>2.0</td>\n",
       "      <td>Luxury</td>\n",
       "      <td>Compact</td>\n",
       "      <td>Convertible</td>\n",
       "      <td>28</td>\n",
       "      <td>18</td>\n",
       "      <td>3916</td>\n",
       "      <td>34500</td>\n",
       "    </tr>\n",
       "  </tbody>\n",
       "</table>\n",
       "</div>"
      ],
      "text/plain": [
       "  Make       Model  Year             Engine Fuel Type  Engine HP  \\\n",
       "0  BMW  1 Series M  2011  premium unleaded (required)  335.0       \n",
       "1  BMW  1 Series    2011  premium unleaded (required)  300.0       \n",
       "2  BMW  1 Series    2011  premium unleaded (required)  300.0       \n",
       "3  BMW  1 Series    2011  premium unleaded (required)  230.0       \n",
       "4  BMW  1 Series    2011  premium unleaded (required)  230.0       \n",
       "\n",
       "   Engine Cylinders Transmission Type     Driven_Wheels  Number of Doors  \\\n",
       "0  6.0               MANUAL            rear wheel drive  2.0               \n",
       "1  6.0               MANUAL            rear wheel drive  2.0               \n",
       "2  6.0               MANUAL            rear wheel drive  2.0               \n",
       "3  6.0               MANUAL            rear wheel drive  2.0               \n",
       "4  6.0               MANUAL            rear wheel drive  2.0               \n",
       "\n",
       "                         Market Category Vehicle Size Vehicle Style  \\\n",
       "0  Factory Tuner,Luxury,High-Performance  Compact      Coupe          \n",
       "1  Luxury,Performance                     Compact      Convertible    \n",
       "2  Luxury,High-Performance                Compact      Coupe          \n",
       "3  Luxury,Performance                     Compact      Coupe          \n",
       "4  Luxury                                 Compact      Convertible    \n",
       "\n",
       "   highway MPG  city mpg  Popularity   MSRP  \n",
       "0  26           19        3916        46135  \n",
       "1  28           19        3916        40650  \n",
       "2  28           20        3916        36350  \n",
       "3  28           18        3916        29450  \n",
       "4  28           18        3916        34500  "
      ]
     },
     "execution_count": 7,
     "metadata": {},
     "output_type": "execute_result"
    }
   ],
   "source": [
    "data.head()"
   ]
  },
  {
   "cell_type": "code",
   "execution_count": 8,
   "metadata": {},
   "outputs": [
    {
     "data": {
      "text/plain": [
       "Index(['Make', 'Model', 'Year', 'Engine Fuel Type', 'Engine HP',\n",
       "       'Engine Cylinders', 'Transmission Type', 'Driven_Wheels',\n",
       "       'Number of Doors', 'Market Category', 'Vehicle Size', 'Vehicle Style',\n",
       "       'highway MPG', 'city mpg', 'Popularity', 'MSRP'],\n",
       "      dtype='object')"
      ]
     },
     "execution_count": 8,
     "metadata": {},
     "output_type": "execute_result"
    }
   ],
   "source": [
    "data.columns"
   ]
  },
  {
   "cell_type": "raw",
   "metadata": {},
   "source": [
    "features - description of cars, like make, model, age\n",
    "  - the characteristics\n",
    "target variable - price\n",
    "  - something we want to predict"
   ]
  },
  {
   "cell_type": "raw",
   "metadata": {},
   "source": [
    "ex. supervised learning: we have some info about the price of cars and we can use it to predict the price of others\n",
    "regression - when the target variable is numerical\n",
    "classification - when the target variable is categorical "
   ]
  },
  {
   "cell_type": "code",
   "execution_count": 9,
   "metadata": {},
   "outputs": [
    {
     "data": {
      "text/plain": [
       "11914"
      ]
     },
     "execution_count": 9,
     "metadata": {},
     "output_type": "execute_result"
    }
   ],
   "source": [
    "len(data)"
   ]
  },
  {
   "cell_type": "code",
   "execution_count": 13,
   "metadata": {},
   "outputs": [],
   "source": [
    "#replacing all the column names with lower case and underscore seperators\n",
    "data.columns = data.columns.str.lower().str.replace(' ','_')"
   ]
  },
  {
   "cell_type": "code",
   "execution_count": 22,
   "metadata": {},
   "outputs": [
    {
     "data": {
      "text/plain": [
       "['make',\n",
       " 'model',\n",
       " 'engine_fuel_type',\n",
       " 'transmission_type',\n",
       " 'driven_wheels',\n",
       " 'market_category',\n",
       " 'vehicle_size',\n",
       " 'vehicle_style']"
      ]
     },
     "execution_count": 22,
     "metadata": {},
     "output_type": "execute_result"
    }
   ],
   "source": [
    "#filtering for columns with the str dtype (need .index otherwise it ouputs values and just shows 'O')\n",
    "str_cols = list(data.dtypes[data.dtypes == 'object'].index)\n",
    "str_cols"
   ]
  },
  {
   "cell_type": "code",
   "execution_count": 23,
   "metadata": {},
   "outputs": [],
   "source": [
    "#replace empty spaces with underscore in the string columns, there's prob a faster way than a for loop to do this but I'm just following the book\n",
    "for col in str_cols:\n",
    "    data[col] = data[col].str.lower().str.replace(' ', '_')"
   ]
  },
  {
   "cell_type": "code",
   "execution_count": 24,
   "metadata": {},
   "outputs": [
    {
     "data": {
      "text/html": [
       "<div>\n",
       "<style scoped>\n",
       "    .dataframe tbody tr th:only-of-type {\n",
       "        vertical-align: middle;\n",
       "    }\n",
       "\n",
       "    .dataframe tbody tr th {\n",
       "        vertical-align: top;\n",
       "    }\n",
       "\n",
       "    .dataframe thead th {\n",
       "        text-align: right;\n",
       "    }\n",
       "</style>\n",
       "<table border=\"1\" class=\"dataframe\">\n",
       "  <thead>\n",
       "    <tr style=\"text-align: right;\">\n",
       "      <th></th>\n",
       "      <th>make</th>\n",
       "      <th>model</th>\n",
       "      <th>year</th>\n",
       "      <th>engine_fuel_type</th>\n",
       "      <th>engine_hp</th>\n",
       "      <th>engine_cylinders</th>\n",
       "      <th>transmission_type</th>\n",
       "      <th>driven_wheels</th>\n",
       "      <th>number_of_doors</th>\n",
       "      <th>market_category</th>\n",
       "      <th>vehicle_size</th>\n",
       "      <th>vehicle_style</th>\n",
       "      <th>highway_mpg</th>\n",
       "      <th>city_mpg</th>\n",
       "      <th>popularity</th>\n",
       "      <th>msrp</th>\n",
       "    </tr>\n",
       "  </thead>\n",
       "  <tbody>\n",
       "    <tr>\n",
       "      <th>0</th>\n",
       "      <td>bmw</td>\n",
       "      <td>1_series_m</td>\n",
       "      <td>2011</td>\n",
       "      <td>premium_unleaded_(required)</td>\n",
       "      <td>335.0</td>\n",
       "      <td>6.0</td>\n",
       "      <td>manual</td>\n",
       "      <td>rear_wheel_drive</td>\n",
       "      <td>2.0</td>\n",
       "      <td>factory_tuner,luxury,high-performance</td>\n",
       "      <td>compact</td>\n",
       "      <td>coupe</td>\n",
       "      <td>26</td>\n",
       "      <td>19</td>\n",
       "      <td>3916</td>\n",
       "      <td>46135</td>\n",
       "    </tr>\n",
       "    <tr>\n",
       "      <th>1</th>\n",
       "      <td>bmw</td>\n",
       "      <td>1_series</td>\n",
       "      <td>2011</td>\n",
       "      <td>premium_unleaded_(required)</td>\n",
       "      <td>300.0</td>\n",
       "      <td>6.0</td>\n",
       "      <td>manual</td>\n",
       "      <td>rear_wheel_drive</td>\n",
       "      <td>2.0</td>\n",
       "      <td>luxury,performance</td>\n",
       "      <td>compact</td>\n",
       "      <td>convertible</td>\n",
       "      <td>28</td>\n",
       "      <td>19</td>\n",
       "      <td>3916</td>\n",
       "      <td>40650</td>\n",
       "    </tr>\n",
       "    <tr>\n",
       "      <th>2</th>\n",
       "      <td>bmw</td>\n",
       "      <td>1_series</td>\n",
       "      <td>2011</td>\n",
       "      <td>premium_unleaded_(required)</td>\n",
       "      <td>300.0</td>\n",
       "      <td>6.0</td>\n",
       "      <td>manual</td>\n",
       "      <td>rear_wheel_drive</td>\n",
       "      <td>2.0</td>\n",
       "      <td>luxury,high-performance</td>\n",
       "      <td>compact</td>\n",
       "      <td>coupe</td>\n",
       "      <td>28</td>\n",
       "      <td>20</td>\n",
       "      <td>3916</td>\n",
       "      <td>36350</td>\n",
       "    </tr>\n",
       "    <tr>\n",
       "      <th>3</th>\n",
       "      <td>bmw</td>\n",
       "      <td>1_series</td>\n",
       "      <td>2011</td>\n",
       "      <td>premium_unleaded_(required)</td>\n",
       "      <td>230.0</td>\n",
       "      <td>6.0</td>\n",
       "      <td>manual</td>\n",
       "      <td>rear_wheel_drive</td>\n",
       "      <td>2.0</td>\n",
       "      <td>luxury,performance</td>\n",
       "      <td>compact</td>\n",
       "      <td>coupe</td>\n",
       "      <td>28</td>\n",
       "      <td>18</td>\n",
       "      <td>3916</td>\n",
       "      <td>29450</td>\n",
       "    </tr>\n",
       "    <tr>\n",
       "      <th>4</th>\n",
       "      <td>bmw</td>\n",
       "      <td>1_series</td>\n",
       "      <td>2011</td>\n",
       "      <td>premium_unleaded_(required)</td>\n",
       "      <td>230.0</td>\n",
       "      <td>6.0</td>\n",
       "      <td>manual</td>\n",
       "      <td>rear_wheel_drive</td>\n",
       "      <td>2.0</td>\n",
       "      <td>luxury</td>\n",
       "      <td>compact</td>\n",
       "      <td>convertible</td>\n",
       "      <td>28</td>\n",
       "      <td>18</td>\n",
       "      <td>3916</td>\n",
       "      <td>34500</td>\n",
       "    </tr>\n",
       "  </tbody>\n",
       "</table>\n",
       "</div>"
      ],
      "text/plain": [
       "  make       model  year             engine_fuel_type  engine_hp  \\\n",
       "0  bmw  1_series_m  2011  premium_unleaded_(required)  335.0       \n",
       "1  bmw  1_series    2011  premium_unleaded_(required)  300.0       \n",
       "2  bmw  1_series    2011  premium_unleaded_(required)  300.0       \n",
       "3  bmw  1_series    2011  premium_unleaded_(required)  230.0       \n",
       "4  bmw  1_series    2011  premium_unleaded_(required)  230.0       \n",
       "\n",
       "   engine_cylinders transmission_type     driven_wheels  number_of_doors  \\\n",
       "0  6.0               manual            rear_wheel_drive  2.0               \n",
       "1  6.0               manual            rear_wheel_drive  2.0               \n",
       "2  6.0               manual            rear_wheel_drive  2.0               \n",
       "3  6.0               manual            rear_wheel_drive  2.0               \n",
       "4  6.0               manual            rear_wheel_drive  2.0               \n",
       "\n",
       "                         market_category vehicle_size vehicle_style  \\\n",
       "0  factory_tuner,luxury,high-performance  compact      coupe          \n",
       "1  luxury,performance                     compact      convertible    \n",
       "2  luxury,high-performance                compact      coupe          \n",
       "3  luxury,performance                     compact      coupe          \n",
       "4  luxury                                 compact      convertible    \n",
       "\n",
       "   highway_mpg  city_mpg  popularity   msrp  \n",
       "0  26           19        3916        46135  \n",
       "1  28           19        3916        40650  \n",
       "2  28           20        3916        36350  \n",
       "3  28           18        3916        29450  \n",
       "4  28           18        3916        34500  "
      ]
     },
     "execution_count": 24,
     "metadata": {},
     "output_type": "execute_result"
    }
   ],
   "source": [
    "data.head()"
   ]
  },
  {
   "cell_type": "raw",
   "metadata": {},
   "source": [
    "- make: make of a car (BMW, Toyota, and so on)\n",
    "- model: model of a car\n",
    "- year: year when the car was manufactured\n",
    "- enginge_fuel_type: type of fuel the engine needs (diesel, electric, and so on)\n",
    "- engine_hp: horsepower of the engine\n",
    "- engine_cylinders: number of cylinders in the engine\n",
    "- transmission_type: type of transmission (automatic or manuel)\n",
    "- driven_wheels: front, rear, all\n",
    "- number_of_doors: number of doors the car has\n",
    "- market_category: luxury, crossover, and so on\n",
    "- vehicle_size: compact, midsize, or large\n",
    "- vehicle_style: sedan or convertible\n",
    "- highway_mpg: miles per gallon (mpg) on the highway\n",
    "- city_mpg: miles per gallon in the city\n",
    "- popularity: number of times the car was mentioned in a Twitter stream\n",
    "- msrp: manufactureres suggested retail price"
   ]
  },
  {
   "cell_type": "markdown",
   "metadata": {},
   "source": [
    "Target variable analysis - MSRP column contains the import info (target variable). The y, which we want to learn to predict. The first step of exploratory analysis is to look at the value of y, typically by checking the y's distribution, using a histogram visulization. "
   ]
  },
  {
   "cell_type": "code",
   "execution_count": 25,
   "metadata": {},
   "outputs": [
    {
     "data": {
      "text/plain": [
       "<AxesSubplot:xlabel='msrp', ylabel='Count'>"
      ]
     },
     "execution_count": 25,
     "metadata": {},
     "output_type": "execute_result"
    },
    {
     "data": {
      "image/png": "[encoded data removed]",
      "text/plain": [
       "<Figure size 432x288 with 1 Axes>"
      ]
     },
     "metadata": {
      "needs_background": "light"
     },
     "output_type": "display_data"
    }
   ],
   "source": [
    "sns.histplot(data['msrp'], bins=40)"
   ]
  },
  {
   "cell_type": "raw",
   "metadata": {},
   "source": [
    "There is a very long tail. Many cars with low prices, but the number of cars with high prices quickly drops. "
   ]
  },
  {
   "cell_type": "code",
   "execution_count": 28,
   "metadata": {},
   "outputs": [
    {
     "data": {
      "text/plain": [
       "<AxesSubplot:xlabel='msrp', ylabel='Count'>"
      ]
     },
     "execution_count": 28,
     "metadata": {},
     "output_type": "execute_result"
    },
    {
     "data": {
      "image/png": "[encoded data removed]",
      "text/plain": [
       "<Figure size 432x288 with 1 Axes>"
      ]
     },
     "metadata": {
      "needs_background": "light"
     },
     "output_type": "display_data"
    }
   ],
   "source": [
    "#values below $100,000\n",
    "sns.histplot(data['msrp'][data['msrp'] < 100000])"
   ]
  },
  {
   "cell_type": "code",
   "execution_count": null,
   "metadata": {},
   "outputs": [],
   "source": [
    "sns.histplot(data[data['msrp'] < 100000])"
   ]
  },
  {
   "cell_type": "code",
   "execution_count": null,
   "metadata": {},
   "outputs": [],
   "source": [
    "# If true, include make and model in Random Forest\n",
    "# Shows how much make and model come into play, but when when we calculate prices\n",
    "# we should omit to see if the models are overpriced\n",
    "includeMakeAndModel = True\n",
    "\n",
    "# Number of trees in forest\n",
    "nEstimators = 500\n",
    "\n",
    "def GetDataMatrix():\n",
    "    \n",
    "    # Data frame with make and model\n",
    "    Xmodelmake = pd.read_csv(\"../input/data.csv\",header=0, usecols=(0,1,2,3,4,5,6,7,8,9,10,11,13,14,));\n",
    "    \n",
    "    # Excluding make and model\n",
    "    if not includeMakeAndModel:\n",
    "        X = pd.read_csv(\"../input/data.csv\",header=0, usecols=(2,3,4,5,6,7,8,9,10,11,13,14,));\n",
    "    else:\n",
    "        X = Xmodelmake\n",
    "    Y = pd.read_csv(\"../input/data.csv\",header=0, usecols=(15,));\n",
    "\n",
    "    X, Y, Xmodelmake = shuffle(X, Y, Xmodelmake)\n",
    "    Xmake = Xmodelmake['Make']\n",
    "    Xmodel = Xmodelmake['Model']\n",
    "    \n",
    "    # Turns categorical data into binary values across many columns\n",
    "    if not includeMakeAndModel:\n",
    "        X = pd.get_dummies(X, dummy_na = False, columns=['Engine Fuel Type', 'Transmission Type', 'Driven_Wheels', 'Market Category', 'Vehicle Size', 'Vehicle Style'] );\n",
    "    else:    \n",
    "        X = pd.get_dummies(X, dummy_na = False, columns=['Make', 'Model', 'Engine Fuel Type', 'Transmission Type', 'Driven_Wheels', 'Market Category', 'Vehicle Size', 'Vehicle Style'] );\n",
    "    \n",
    "    X.insert(0, 'ModelRef', Xmodel);\n",
    "    X.insert(0, 'MakeRef', Xmake);\n",
    "    \n",
    "    # Fill the null values with zeros\n",
    "    X.fillna(0, inplace=True);\n",
    "    return (X, Y, Xmodelmake)\n",
    "\n",
    "##########\n",
    "\n",
    "(X, Y, Xmodelmake) = GetDataMatrix() #Gets the X,Y\n",
    "\n",
    "# Turn into a proper one D arrayY = numpy.ravel(Y);\n",
    "Y_unraveled = np.ravel(Y);\n",
    "\n",
    "# Split dataset into training and testing\n",
    "print('Splitting into training and testing...')\n",
    "X_train, X_test, Y_train, y_test = train_test_split(X, Y_unraveled, test_size=0.10, random_state=32)\n",
    "MSE_Scorer = make_scorer(mean_squared_error);\n",
    "\n",
    "# Model/Make columns are only used later on to relate indices to Model/Makes\n",
    "X_train2 = X_train.drop('MakeRef', axis = 1).drop('ModelRef', axis = 1)\n",
    "X_test2 = X_test.drop('MakeRef', axis = 1).drop('ModelRef', axis = 1)\n",
    "\n",
    "# Train using Random Forest\n",
    "print('Training classifier...')\n",
    "clf = RandomForestRegressor(n_estimators=nEstimators, max_features=\"sqrt\");\n",
    "# The gradient boosting classifier didnt finish running\n",
    "# clf = GradientBoostingClassifier(n_estimators=5)\n",
    "clf = clf.fit(X_train2, Y_train);\n",
    "print(\"Done training best classifier.\")\n",
    "\n",
    "print('Calculating error...')\n",
    "y_pred = clf.predict(X_test2);\n",
    "scores = cross_val_score(clf,X_test2,y_test, cv = 5)\n",
    "print()\n",
    "\n",
    "print(\"Scores:\")\n",
    "print(scores);\n",
    "print(\"Mean absolute error:\");\n",
    "mean_error = sum(abs(y_test-y_pred))/len(y_test);\n",
    "print(mean_error);\n",
    "print(\"Mean percent error: \")\n",
    "print(mean_error/np.mean(y_test))\n",
    "print()\n",
    "\n",
    "print(\"ypred:\");\n",
    "print(y_test);\n",
    "print(y_pred);\n",
    "np.savetxt(\"ypred_test.csv\",(y_pred,y_test),delimiter=\",\");\n",
    "print()"
   ]
  }
 ],
 "metadata": {
  "kernelspec": {
   "display_name": "Python 3",
   "language": "python",
   "name": "python3"
  },
  "language_info": {
   "codemirror_mode": {
    "name": "ipython",
    "version": 3
   },
   "file_extension": ".py",
   "mimetype": "text/x-python",
   "name": "python",
   "nbconvert_exporter": "python",
   "pygments_lexer": "ipython3",
   "version": "3.8.3"
  }
 },
 "nbformat": 4,
 "nbformat_minor": 4
}
