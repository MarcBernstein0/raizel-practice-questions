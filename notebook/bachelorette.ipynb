{
 "metadata": {
  "language_info": {
   "codemirror_mode": {
    "name": "ipython",
    "version": 3
   },
   "file_extension": ".py",
   "mimetype": "text/x-python",
   "name": "python",
   "nbconvert_exporter": "python",
   "pygments_lexer": "ipython3",
   "version": "3.8.3-final"
  },
  "orig_nbformat": 2,
  "kernelspec": {
   "name": "Python 3.8.3 64-bit ('berns': virtualenv)",
   "display_name": "Python 3.8.3 64-bit ('berns': virtualenv)",
   "metadata": {
    "interpreter": {
     "hash": "7e56207c1ecf5e070ccde26abc0e05f3d6c0c3ae8cb038c6d1936758cd8e50c2"
    }
   }
  }
 },
 "nbformat": 4,
 "nbformat_minor": 2,
 "cells": [
  {
   "cell_type": "code",
   "execution_count": 3,
   "metadata": {},
   "outputs": [],
   "source": [
    "import pandas as pd \n",
    "import matplotlib.pyplot as plt"
   ]
  },
  {
   "cell_type": "code",
   "execution_count": 4,
   "metadata": {},
   "outputs": [],
   "source": [
    "df = pd.read_csv('../data/bachelor.csv')"
   ]
  },
  {
   "cell_type": "code",
   "execution_count": 5,
   "metadata": {},
   "outputs": [
    {
     "output_type": "execute_result",
     "data": {
      "text/plain": [
       "                 Name  Age                     Occupation  \\\n",
       "0       Nikki Ferrell   26                Pediatric Nurse   \n",
       "1       Clare Crawley   32                    Hairstylist   \n",
       "2        Andi Dorfman   26    Assistant District Attorney   \n",
       "3         Renee Oteri   32              Real Estate Agent   \n",
       "4     Chelsie Webster   24               Science Educator   \n",
       "..                ...  ...                            ...   \n",
       "199     Jenna Serrano   22                Nursing Student   \n",
       "200  Katrina Badowski   28                 Pro NBA Dancer   \n",
       "201       Kylie Ramos   26  Entertainment Sales Associate   \n",
       "202     Maurissa Gunn   23       Patient Care Coordinator   \n",
       "203        Megan Hops   26               Flight Attendant   \n",
       "\n",
       "                             Hometown  Height  ElimWeek  Season  \n",
       "0                   Kearney, Missouri     NaN       NaN      18  \n",
       "1              Sacramento, California     NaN      10.0      18  \n",
       "2                   Buckhead, Georgia     NaN       9.0      18  \n",
       "3    Martha's Vineyard, Massachusetts     NaN       8.0      18  \n",
       "4                     Lexington, Ohio     NaN       7.0      18  \n",
       "..                                ...     ...       ...     ...  \n",
       "199               New Lenox, Illinois     NaN       1.0      24  \n",
       "200             St. Charles, Illinois     NaN       1.0      24  \n",
       "201                 Davis, California     NaN       1.0      24  \n",
       "202                   Laurel, Montana     NaN       1.0      24  \n",
       "203             San Bruno, California     NaN       1.0      24  \n",
       "\n",
       "[204 rows x 7 columns]"
      ],
      "text/html": "<div>\n<style scoped>\n    .dataframe tbody tr th:only-of-type {\n        vertical-align: middle;\n    }\n\n    .dataframe tbody tr th {\n        vertical-align: top;\n    }\n\n    .dataframe thead th {\n        text-align: right;\n    }\n</style>\n<table border=\"1\" class=\"dataframe\">\n  <thead>\n    <tr style=\"text-align: right;\">\n      <th></th>\n      <th>Name</th>\n      <th>Age</th>\n      <th>Occupation</th>\n      <th>Hometown</th>\n      <th>Height</th>\n      <th>ElimWeek</th>\n      <th>Season</th>\n    </tr>\n  </thead>\n  <tbody>\n    <tr>\n      <th>0</th>\n      <td>Nikki Ferrell</td>\n      <td>26</td>\n      <td>Pediatric Nurse</td>\n      <td>Kearney, Missouri</td>\n      <td>NaN</td>\n      <td>NaN</td>\n      <td>18</td>\n    </tr>\n    <tr>\n      <th>1</th>\n      <td>Clare Crawley</td>\n      <td>32</td>\n      <td>Hairstylist</td>\n      <td>Sacramento, California</td>\n      <td>NaN</td>\n      <td>10.0</td>\n      <td>18</td>\n    </tr>\n    <tr>\n      <th>2</th>\n      <td>Andi Dorfman</td>\n      <td>26</td>\n      <td>Assistant District Attorney</td>\n      <td>Buckhead, Georgia</td>\n      <td>NaN</td>\n      <td>9.0</td>\n      <td>18</td>\n    </tr>\n    <tr>\n      <th>3</th>\n      <td>Renee Oteri</td>\n      <td>32</td>\n      <td>Real Estate Agent</td>\n      <td>Martha's Vineyard, Massachusetts</td>\n      <td>NaN</td>\n      <td>8.0</td>\n      <td>18</td>\n    </tr>\n    <tr>\n      <th>4</th>\n      <td>Chelsie Webster</td>\n      <td>24</td>\n      <td>Science Educator</td>\n      <td>Lexington, Ohio</td>\n      <td>NaN</td>\n      <td>7.0</td>\n      <td>18</td>\n    </tr>\n    <tr>\n      <th>...</th>\n      <td>...</td>\n      <td>...</td>\n      <td>...</td>\n      <td>...</td>\n      <td>...</td>\n      <td>...</td>\n      <td>...</td>\n    </tr>\n    <tr>\n      <th>199</th>\n      <td>Jenna Serrano</td>\n      <td>22</td>\n      <td>Nursing Student</td>\n      <td>New Lenox, Illinois</td>\n      <td>NaN</td>\n      <td>1.0</td>\n      <td>24</td>\n    </tr>\n    <tr>\n      <th>200</th>\n      <td>Katrina Badowski</td>\n      <td>28</td>\n      <td>Pro NBA Dancer</td>\n      <td>St. Charles, Illinois</td>\n      <td>NaN</td>\n      <td>1.0</td>\n      <td>24</td>\n    </tr>\n    <tr>\n      <th>201</th>\n      <td>Kylie Ramos</td>\n      <td>26</td>\n      <td>Entertainment Sales Associate</td>\n      <td>Davis, California</td>\n      <td>NaN</td>\n      <td>1.0</td>\n      <td>24</td>\n    </tr>\n    <tr>\n      <th>202</th>\n      <td>Maurissa Gunn</td>\n      <td>23</td>\n      <td>Patient Care Coordinator</td>\n      <td>Laurel, Montana</td>\n      <td>NaN</td>\n      <td>1.0</td>\n      <td>24</td>\n    </tr>\n    <tr>\n      <th>203</th>\n      <td>Megan Hops</td>\n      <td>26</td>\n      <td>Flight Attendant</td>\n      <td>San Bruno, California</td>\n      <td>NaN</td>\n      <td>1.0</td>\n      <td>24</td>\n    </tr>\n  </tbody>\n</table>\n<p>204 rows × 7 columns</p>\n</div>"
     },
     "metadata": {},
     "execution_count": 5
    }
   ],
   "source": [
    "df"
   ]
  },
  {
   "cell_type": "code",
   "execution_count": 6,
   "metadata": {},
   "outputs": [],
   "source": [
    "bachelorette = pd.read_csv('../data/bachelorette.csv')"
   ]
  },
  {
   "cell_type": "code",
   "execution_count": 7,
   "metadata": {},
   "outputs": [
    {
     "output_type": "execute_result",
     "data": {
      "text/plain": [
       "             SHOW  SEASON     CONTESTANT ELIMINATION-1 ELIMINATION-2  \\\n",
       "0            SHOW  SEASON             ID             1             2   \n",
       "1    Bachelorette      13     13_BRYAN_A            R1           NaN   \n",
       "2    Bachelorette      13     13_PETER_K           NaN             R   \n",
       "3    Bachelorette      13      13_ERIC_B           NaN           NaN   \n",
       "4    Bachelorette      13      13_DEAN_U           NaN             R   \n",
       "..            ...     ...            ...           ...           ...   \n",
       "916      Bachelor      01  01_KRISTINA_X             E           NaN   \n",
       "917      Bachelor      01      01_LISA_X             E           NaN   \n",
       "918      Bachelor      01     01_PAULA_X             E           NaN   \n",
       "919      Bachelor      01    01_RACHEL_X             E           NaN   \n",
       "920      Bachelor      01     01_WENDI_X             E           NaN   \n",
       "\n",
       "    ELIMINATION-3 ELIMINATION-4 ELIMINATION-5 ELIMINATION-6 ELIMINATION-7  \\\n",
       "0               3             4             5             6             7   \n",
       "1             NaN             R             R           NaN             R   \n",
       "2             NaN           NaN           NaN             R             R   \n",
       "3               R           NaN           NaN             R             R   \n",
       "4             NaN             R           NaN           NaN             R   \n",
       "..            ...           ...           ...           ...           ...   \n",
       "916           NaN           NaN           NaN           NaN           NaN   \n",
       "917           NaN           NaN           NaN           NaN           NaN   \n",
       "918           NaN           NaN           NaN           NaN           NaN   \n",
       "919           NaN           NaN           NaN           NaN           NaN   \n",
       "920           NaN           NaN           NaN           NaN           NaN   \n",
       "\n",
       "     ... DATES-1 DATES-2 DATES-3 DATES-4 DATES-5 DATES-6 DATES-7 DATES-8  \\\n",
       "0    ...       1       2       3       4       5       6       7       8   \n",
       "1    ...     NaN     NaN      D6     D13      D1      D7      D1      D1   \n",
       "2    ...     NaN      D1      D6     D13      D9      D7      D1      D1   \n",
       "3    ...     NaN     D10      D8     D13      D9      D1      D3      D1   \n",
       "4    ...     NaN      D8      D8      D1      D9      D7      D1      D1   \n",
       "..   ...     ...     ...     ...     ...     ...     ...     ...     ...   \n",
       "916  ...     NaN     NaN     NaN     NaN     NaN     NaN     NaN     NaN   \n",
       "917  ...     NaN     NaN     NaN     NaN     NaN     NaN     NaN     NaN   \n",
       "918  ...     NaN     NaN     NaN     NaN     NaN     NaN     NaN     NaN   \n",
       "919  ...     NaN     NaN     NaN     NaN     NaN     NaN     NaN     NaN   \n",
       "920  ...     NaN     NaN     NaN     NaN     NaN     NaN     NaN     NaN   \n",
       "\n",
       "    DATES-9 DATES-10  \n",
       "0         9       10  \n",
       "1        D1       D1  \n",
       "2        D1       D1  \n",
       "3        D1      NaN  \n",
       "4       NaN      NaN  \n",
       "..      ...      ...  \n",
       "916     NaN      NaN  \n",
       "917     NaN      NaN  \n",
       "918     NaN      NaN  \n",
       "919     NaN      NaN  \n",
       "920     NaN      NaN  \n",
       "\n",
       "[921 rows x 23 columns]"
      ],
      "text/html": "<div>\n<style scoped>\n    .dataframe tbody tr th:only-of-type {\n        vertical-align: middle;\n    }\n\n    .dataframe tbody tr th {\n        vertical-align: top;\n    }\n\n    .dataframe thead th {\n        text-align: right;\n    }\n</style>\n<table border=\"1\" class=\"dataframe\">\n  <thead>\n    <tr style=\"text-align: right;\">\n      <th></th>\n      <th>SHOW</th>\n      <th>SEASON</th>\n      <th>CONTESTANT</th>\n      <th>ELIMINATION-1</th>\n      <th>ELIMINATION-2</th>\n      <th>ELIMINATION-3</th>\n      <th>ELIMINATION-4</th>\n      <th>ELIMINATION-5</th>\n      <th>ELIMINATION-6</th>\n      <th>ELIMINATION-7</th>\n      <th>...</th>\n      <th>DATES-1</th>\n      <th>DATES-2</th>\n      <th>DATES-3</th>\n      <th>DATES-4</th>\n      <th>DATES-5</th>\n      <th>DATES-6</th>\n      <th>DATES-7</th>\n      <th>DATES-8</th>\n      <th>DATES-9</th>\n      <th>DATES-10</th>\n    </tr>\n  </thead>\n  <tbody>\n    <tr>\n      <th>0</th>\n      <td>SHOW</td>\n      <td>SEASON</td>\n      <td>ID</td>\n      <td>1</td>\n      <td>2</td>\n      <td>3</td>\n      <td>4</td>\n      <td>5</td>\n      <td>6</td>\n      <td>7</td>\n      <td>...</td>\n      <td>1</td>\n      <td>2</td>\n      <td>3</td>\n      <td>4</td>\n      <td>5</td>\n      <td>6</td>\n      <td>7</td>\n      <td>8</td>\n      <td>9</td>\n      <td>10</td>\n    </tr>\n    <tr>\n      <th>1</th>\n      <td>Bachelorette</td>\n      <td>13</td>\n      <td>13_BRYAN_A</td>\n      <td>R1</td>\n      <td>NaN</td>\n      <td>NaN</td>\n      <td>R</td>\n      <td>R</td>\n      <td>NaN</td>\n      <td>R</td>\n      <td>...</td>\n      <td>NaN</td>\n      <td>NaN</td>\n      <td>D6</td>\n      <td>D13</td>\n      <td>D1</td>\n      <td>D7</td>\n      <td>D1</td>\n      <td>D1</td>\n      <td>D1</td>\n      <td>D1</td>\n    </tr>\n    <tr>\n      <th>2</th>\n      <td>Bachelorette</td>\n      <td>13</td>\n      <td>13_PETER_K</td>\n      <td>NaN</td>\n      <td>R</td>\n      <td>NaN</td>\n      <td>NaN</td>\n      <td>NaN</td>\n      <td>R</td>\n      <td>R</td>\n      <td>...</td>\n      <td>NaN</td>\n      <td>D1</td>\n      <td>D6</td>\n      <td>D13</td>\n      <td>D9</td>\n      <td>D7</td>\n      <td>D1</td>\n      <td>D1</td>\n      <td>D1</td>\n      <td>D1</td>\n    </tr>\n    <tr>\n      <th>3</th>\n      <td>Bachelorette</td>\n      <td>13</td>\n      <td>13_ERIC_B</td>\n      <td>NaN</td>\n      <td>NaN</td>\n      <td>R</td>\n      <td>NaN</td>\n      <td>NaN</td>\n      <td>R</td>\n      <td>R</td>\n      <td>...</td>\n      <td>NaN</td>\n      <td>D10</td>\n      <td>D8</td>\n      <td>D13</td>\n      <td>D9</td>\n      <td>D1</td>\n      <td>D3</td>\n      <td>D1</td>\n      <td>D1</td>\n      <td>NaN</td>\n    </tr>\n    <tr>\n      <th>4</th>\n      <td>Bachelorette</td>\n      <td>13</td>\n      <td>13_DEAN_U</td>\n      <td>NaN</td>\n      <td>R</td>\n      <td>NaN</td>\n      <td>R</td>\n      <td>NaN</td>\n      <td>NaN</td>\n      <td>R</td>\n      <td>...</td>\n      <td>NaN</td>\n      <td>D8</td>\n      <td>D8</td>\n      <td>D1</td>\n      <td>D9</td>\n      <td>D7</td>\n      <td>D1</td>\n      <td>D1</td>\n      <td>NaN</td>\n      <td>NaN</td>\n    </tr>\n    <tr>\n      <th>...</th>\n      <td>...</td>\n      <td>...</td>\n      <td>...</td>\n      <td>...</td>\n      <td>...</td>\n      <td>...</td>\n      <td>...</td>\n      <td>...</td>\n      <td>...</td>\n      <td>...</td>\n      <td>...</td>\n      <td>...</td>\n      <td>...</td>\n      <td>...</td>\n      <td>...</td>\n      <td>...</td>\n      <td>...</td>\n      <td>...</td>\n      <td>...</td>\n      <td>...</td>\n      <td>...</td>\n    </tr>\n    <tr>\n      <th>916</th>\n      <td>Bachelor</td>\n      <td>01</td>\n      <td>01_KRISTINA_X</td>\n      <td>E</td>\n      <td>NaN</td>\n      <td>NaN</td>\n      <td>NaN</td>\n      <td>NaN</td>\n      <td>NaN</td>\n      <td>NaN</td>\n      <td>...</td>\n      <td>NaN</td>\n      <td>NaN</td>\n      <td>NaN</td>\n      <td>NaN</td>\n      <td>NaN</td>\n      <td>NaN</td>\n      <td>NaN</td>\n      <td>NaN</td>\n      <td>NaN</td>\n      <td>NaN</td>\n    </tr>\n    <tr>\n      <th>917</th>\n      <td>Bachelor</td>\n      <td>01</td>\n      <td>01_LISA_X</td>\n      <td>E</td>\n      <td>NaN</td>\n      <td>NaN</td>\n      <td>NaN</td>\n      <td>NaN</td>\n      <td>NaN</td>\n      <td>NaN</td>\n      <td>...</td>\n      <td>NaN</td>\n      <td>NaN</td>\n      <td>NaN</td>\n      <td>NaN</td>\n      <td>NaN</td>\n      <td>NaN</td>\n      <td>NaN</td>\n      <td>NaN</td>\n      <td>NaN</td>\n      <td>NaN</td>\n    </tr>\n    <tr>\n      <th>918</th>\n      <td>Bachelor</td>\n      <td>01</td>\n      <td>01_PAULA_X</td>\n      <td>E</td>\n      <td>NaN</td>\n      <td>NaN</td>\n      <td>NaN</td>\n      <td>NaN</td>\n      <td>NaN</td>\n      <td>NaN</td>\n      <td>...</td>\n      <td>NaN</td>\n      <td>NaN</td>\n      <td>NaN</td>\n      <td>NaN</td>\n      <td>NaN</td>\n      <td>NaN</td>\n      <td>NaN</td>\n      <td>NaN</td>\n      <td>NaN</td>\n      <td>NaN</td>\n    </tr>\n    <tr>\n      <th>919</th>\n      <td>Bachelor</td>\n      <td>01</td>\n      <td>01_RACHEL_X</td>\n      <td>E</td>\n      <td>NaN</td>\n      <td>NaN</td>\n      <td>NaN</td>\n      <td>NaN</td>\n      <td>NaN</td>\n      <td>NaN</td>\n      <td>...</td>\n      <td>NaN</td>\n      <td>NaN</td>\n      <td>NaN</td>\n      <td>NaN</td>\n      <td>NaN</td>\n      <td>NaN</td>\n      <td>NaN</td>\n      <td>NaN</td>\n      <td>NaN</td>\n      <td>NaN</td>\n    </tr>\n    <tr>\n      <th>920</th>\n      <td>Bachelor</td>\n      <td>01</td>\n      <td>01_WENDI_X</td>\n      <td>E</td>\n      <td>NaN</td>\n      <td>NaN</td>\n      <td>NaN</td>\n      <td>NaN</td>\n      <td>NaN</td>\n      <td>NaN</td>\n      <td>...</td>\n      <td>NaN</td>\n      <td>NaN</td>\n      <td>NaN</td>\n      <td>NaN</td>\n      <td>NaN</td>\n      <td>NaN</td>\n      <td>NaN</td>\n      <td>NaN</td>\n      <td>NaN</td>\n      <td>NaN</td>\n    </tr>\n  </tbody>\n</table>\n<p>921 rows × 23 columns</p>\n</div>"
     },
     "metadata": {},
     "execution_count": 7
    }
   ],
   "source": [
    "bachelorette"
   ]
  },
  {
   "cell_type": "code",
   "execution_count": 8,
   "metadata": {},
   "outputs": [
    {
     "output_type": "execute_result",
     "data": {
      "text/plain": [
       "Season  Age  Name              \n",
       "18      22   Cassandra Ferguson    1\n",
       "        23   Christine Llano       1\n",
       "             Kylie Lewis           1\n",
       "        24   Alexis Morgado        1\n",
       "             Chelsie Webster       1\n",
       "                                  ..\n",
       "24      27   Shiann Lewis          1\n",
       "             Victoria Paul         1\n",
       "        28   Katrina Badowski      1\n",
       "             Kelsey Weier          1\n",
       "        31   Natasha Parker        1\n",
       "Name: Age, Length: 204, dtype: int64"
      ]
     },
     "metadata": {},
     "execution_count": 8
    }
   ],
   "source": [
    "df.groupby(['Season', 'Age', 'Name'])['Age'].count()"
   ]
  },
  {
   "cell_type": "code",
   "execution_count": 12,
   "metadata": {},
   "outputs": [
    {
     "output_type": "execute_result",
     "data": {
      "text/plain": [
       "26    35\n",
       "25    33\n",
       "23    31\n",
       "24    28\n",
       "27    22\n",
       "29    14\n",
       "28    13\n",
       "30    10\n",
       "31     8\n",
       "22     4\n",
       "32     3\n",
       "33     2\n",
       "21     1\n",
       "Name: Age, dtype: int64"
      ]
     },
     "metadata": {},
     "execution_count": 12
    }
   ],
   "source": [
    "df['Age'].value_counts()"
   ]
  },
  {
   "cell_type": "code",
   "execution_count": 14,
   "metadata": {},
   "outputs": [
    {
     "output_type": "execute_result",
     "data": {
      "text/plain": [
       "25    6\n",
       "26    5\n",
       "27    4\n",
       "24    4\n",
       "29    2\n",
       "23    2\n",
       "32    2\n",
       "31    1\n",
       "22    1\n",
       "Name: Age, dtype: int64"
      ]
     },
     "metadata": {},
     "execution_count": 14
    }
   ],
   "source": [
    "df_18 = df.loc[(df['Season'] == 18)]['Age'].value_counts()\n",
    "df_18"
   ]
  },
  {
   "cell_type": "code",
   "execution_count": 15,
   "metadata": {},
   "outputs": [
    {
     "output_type": "execute_result",
     "data": {
      "text/plain": [
       "29    5\n",
       "25    5\n",
       "24    5\n",
       "28    4\n",
       "26    4\n",
       "30    2\n",
       "27    2\n",
       "31    1\n",
       "21    1\n",
       "33    1\n",
       "Name: Age, dtype: int64"
      ]
     },
     "metadata": {},
     "execution_count": 15
    }
   ],
   "source": [
    "df_19 = df.loc[(df['Season'] == 19)]['Age'].value_counts()\n",
    "df_19"
   ]
  },
  {
   "cell_type": "code",
   "execution_count": 16,
   "metadata": {},
   "outputs": [
    {
     "output_type": "execute_result",
     "data": {
      "text/plain": [
       "23    8\n",
       "25    6\n",
       "24    5\n",
       "30    3\n",
       "26    3\n",
       "27    2\n",
       "28    1\n",
       "Name: Age, dtype: int64"
      ]
     },
     "metadata": {},
     "execution_count": 16
    }
   ],
   "source": [
    "df_20 = df.loc[(df['Season'] == 20)]['Age'].value_counts()\n",
    "df_20"
   ]
  },
  {
   "cell_type": "code",
   "execution_count": 17,
   "metadata": {},
   "outputs": [
    {
     "output_type": "execute_result",
     "data": {
      "text/plain": [
       "25    7\n",
       "26    5\n",
       "24    5\n",
       "23    4\n",
       "29    3\n",
       "31    2\n",
       "28    2\n",
       "30    1\n",
       "27    1\n",
       "Name: Age, dtype: int64"
      ]
     },
     "metadata": {},
     "execution_count": 17
    }
   ],
   "source": [
    "df_21 = df.loc[(df['Season'] == 21)]['Age'].value_counts()\n",
    "df_21"
   ]
  },
  {
   "cell_type": "code",
   "execution_count": 18,
   "metadata": {},
   "outputs": [
    {
     "output_type": "execute_result",
     "data": {
      "text/plain": [
       "27    6\n",
       "26    6\n",
       "25    4\n",
       "30    3\n",
       "29    3\n",
       "23    2\n",
       "31    1\n",
       "28    1\n",
       "22    1\n",
       "33    1\n",
       "32    1\n",
       "Name: Age, dtype: int64"
      ]
     },
     "metadata": {},
     "execution_count": 18
    }
   ],
   "source": [
    "df_22 = df.loc[(df['Season'] == 22)]['Age'].value_counts()\n",
    "df_22"
   ]
  },
  {
   "cell_type": "code",
   "execution_count": 19,
   "metadata": {},
   "outputs": [
    {
     "output_type": "execute_result",
     "data": {
      "text/plain": [
       "23    9\n",
       "26    5\n",
       "25    4\n",
       "24    4\n",
       "28    3\n",
       "31    2\n",
       "30    1\n",
       "29    1\n",
       "27    1\n",
       "Name: Age, dtype: int64"
      ]
     },
     "metadata": {},
     "execution_count": 19
    }
   ],
   "source": [
    "df_23 = df.loc[(df['Season'] == 23)]['Age'].value_counts()\n",
    "df_23"
   ]
  },
  {
   "cell_type": "code",
   "execution_count": 20,
   "metadata": {},
   "outputs": [
    {
     "output_type": "execute_result",
     "data": {
      "text/plain": [
       "26    7\n",
       "27    6\n",
       "23    6\n",
       "24    5\n",
       "28    2\n",
       "22    2\n",
       "31    1\n",
       "25    1\n",
       "Name: Age, dtype: int64"
      ]
     },
     "metadata": {},
     "execution_count": 20
    }
   ],
   "source": [
    "df_24 = df.loc[(df['Season'] == 24)]['Age'].value_counts()\n",
    "df_24"
   ]
  },
  {
   "cell_type": "code",
   "execution_count": null,
   "metadata": {},
   "outputs": [],
   "source": [
    "import numpy as np\n",
    "\n",
    "fig, ax = plt.subplots(figsize = (15, 7.5))\n",
    "\n",
    "x = [x for x in df_18.index]\n",
    "x1 = [x for x in df_19.index]\n",
    "x2 = [x for x in df_20.index]\n",
    "x3 = [x for x in df_21.index]\n",
    "x4 = [x for x in df_22.index]\n",
    "x5 = [x for x in df_23.index]\n",
    "x6 = [x for x in df_24.index]\n",
    "\n",
    "y = list(df_18.values)\n",
    "y1 = list(df_19.values)\n",
    "y2 = list(df_20.values)\n",
    "y3 = list(df_21.values)\n",
    "y4 = list(df_22.values)\n",
    "y5 = list(df_23.values)\n",
    "y6 = list(df_24.values)\n",
    "\n",
    "w = .2\n",
    "plt.bar(np.array(x), y, w, label='Season 19', color = 'black')\n",
    "plt.bar(np.array(x1) + w, y1, w, label=\"Season 20\", color = 'magenta')\n",
    "plt.bar(np.array(x2) + w*2, y2, w, label=\"Season 21\", color = 'midnightblue')\n",
    "plt.bar(np.array(x3) + w*3, y3, w, label=\"Season 22\", color = 'red')\n",
    "plt.bar(np.array(x4) + w*4, y4, w, label=\"Season 23\", color = 'yellow')\n",
    "plt.bar(np.array(x5) + w*5, y5, w, label=\"Season 24\", color = 'orange')\n",
    "plt.bar(np.array(x6) + w*6, y6, w, label=\"Season 25\", color = 'green')\n",
    "ax.set_xlabel('Ages', fontsize = 12)\n",
    "ax.set_ylabel('Number of Contestants', fontsize = 12)\n",
    "ax.set_title('Number of Contestants at Each Age', fontsize = 20)\n",
    "# plt.xticks(x + w*.5, ['20', '21', '22', '23', '24', '25', '26', '27', '28', '29', '30', '31', '32', '33', '34', '35'], fontsize = 11)\n",
    "plt.yticks()\n",
    "plt.legend(['season18', 'season19', 'season20', 'season21', 'season22', 'season23', 'season24'])\n",
    "\n",
    "plt.show()\n",
    "\n",
    "plt.savefig('extendedbachelor')"
   ]
  }
 ]
}