{
 "metadata": {
  "language_info": {
   "codemirror_mode": {
    "name": "ipython",
    "version": 3
   },
   "file_extension": ".py",
   "mimetype": "text/x-python",
   "name": "python",
   "nbconvert_exporter": "python",
   "pygments_lexer": "ipython3",
   "version": "3.8.3-final"
  },
  "orig_nbformat": 2,
  "kernelspec": {
   "name": "Python 3.8.3 64-bit ('base': conda)",
   "display_name": "Python 3.8.3 64-bit ('base': conda)",
   "metadata": {
    "interpreter": {
     "hash": "7e56207c1ecf5e070ccde26abc0e05f3d6c0c3ae8cb038c6d1936758cd8e50c2"
    }
   }
  }
 },
 "nbformat": 4,
 "nbformat_minor": 2,
 "cells": [
  {
   "cell_type": "code",
   "execution_count": 2,
   "metadata": {},
   "outputs": [],
   "source": [
    "import pandas as pd \n",
    "import matplotlib.pyplot as plt"
   ]
  },
  {
   "cell_type": "code",
   "execution_count": 3,
   "metadata": {},
   "outputs": [],
   "source": [
    "df = pd.read_csv('../data/bachelor.csv')"
   ]
  },
  {
   "cell_type": "code",
   "execution_count": 4,
   "metadata": {},
   "outputs": [
    {
     "output_type": "execute_result",
     "data": {
      "text/plain": [
       "                 Name  Age                     Occupation  \\\n",
       "0       Nikki Ferrell   26                Pediatric Nurse   \n",
       "1       Clare Crawley   32                    Hairstylist   \n",
       "2        Andi Dorfman   26    Assistant District Attorney   \n",
       "3         Renee Oteri   32              Real Estate Agent   \n",
       "4     Chelsie Webster   24               Science Educator   \n",
       "..                ...  ...                            ...   \n",
       "199     Jenna Serrano   22                Nursing Student   \n",
       "200  Katrina Badowski   28                 Pro NBA Dancer   \n",
       "201       Kylie Ramos   26  Entertainment Sales Associate   \n",
       "202     Maurissa Gunn   23       Patient Care Coordinator   \n",
       "203        Megan Hops   26               Flight Attendant   \n",
       "\n",
       "                             Hometown  Height  ElimWeek  Season  \n",
       "0                   Kearney, Missouri     NaN       NaN      18  \n",
       "1              Sacramento, California     NaN      10.0      18  \n",
       "2                   Buckhead, Georgia     NaN       9.0      18  \n",
       "3    Martha's Vineyard, Massachusetts     NaN       8.0      18  \n",
       "4                     Lexington, Ohio     NaN       7.0      18  \n",
       "..                                ...     ...       ...     ...  \n",
       "199               New Lenox, Illinois     NaN       1.0      24  \n",
       "200             St. Charles, Illinois     NaN       1.0      24  \n",
       "201                 Davis, California     NaN       1.0      24  \n",
       "202                   Laurel, Montana     NaN       1.0      24  \n",
       "203             San Bruno, California     NaN       1.0      24  \n",
       "\n",
       "[204 rows x 7 columns]"
      ],
      "text/html": "<div>\n<style scoped>\n    .dataframe tbody tr th:only-of-type {\n        vertical-align: middle;\n    }\n\n    .dataframe tbody tr th {\n        vertical-align: top;\n    }\n\n    .dataframe thead th {\n        text-align: right;\n    }\n</style>\n<table border=\"1\" class=\"dataframe\">\n  <thead>\n    <tr style=\"text-align: right;\">\n      <th></th>\n      <th>Name</th>\n      <th>Age</th>\n      <th>Occupation</th>\n      <th>Hometown</th>\n      <th>Height</th>\n      <th>ElimWeek</th>\n      <th>Season</th>\n    </tr>\n  </thead>\n  <tbody>\n    <tr>\n      <th>0</th>\n      <td>Nikki Ferrell</td>\n      <td>26</td>\n      <td>Pediatric Nurse</td>\n      <td>Kearney, Missouri</td>\n      <td>NaN</td>\n      <td>NaN</td>\n      <td>18</td>\n    </tr>\n    <tr>\n      <th>1</th>\n      <td>Clare Crawley</td>\n      <td>32</td>\n      <td>Hairstylist</td>\n      <td>Sacramento, California</td>\n      <td>NaN</td>\n      <td>10.0</td>\n      <td>18</td>\n    </tr>\n    <tr>\n      <th>2</th>\n      <td>Andi Dorfman</td>\n      <td>26</td>\n      <td>Assistant District Attorney</td>\n      <td>Buckhead, Georgia</td>\n      <td>NaN</td>\n      <td>9.0</td>\n      <td>18</td>\n    </tr>\n    <tr>\n      <th>3</th>\n      <td>Renee Oteri</td>\n      <td>32</td>\n      <td>Real Estate Agent</td>\n      <td>Martha's Vineyard, Massachusetts</td>\n      <td>NaN</td>\n      <td>8.0</td>\n      <td>18</td>\n    </tr>\n    <tr>\n      <th>4</th>\n      <td>Chelsie Webster</td>\n      <td>24</td>\n      <td>Science Educator</td>\n      <td>Lexington, Ohio</td>\n      <td>NaN</td>\n      <td>7.0</td>\n      <td>18</td>\n    </tr>\n    <tr>\n      <th>...</th>\n      <td>...</td>\n      <td>...</td>\n      <td>...</td>\n      <td>...</td>\n      <td>...</td>\n      <td>...</td>\n      <td>...</td>\n    </tr>\n    <tr>\n      <th>199</th>\n      <td>Jenna Serrano</td>\n      <td>22</td>\n      <td>Nursing Student</td>\n      <td>New Lenox, Illinois</td>\n      <td>NaN</td>\n      <td>1.0</td>\n      <td>24</td>\n    </tr>\n    <tr>\n      <th>200</th>\n      <td>Katrina Badowski</td>\n      <td>28</td>\n      <td>Pro NBA Dancer</td>\n      <td>St. Charles, Illinois</td>\n      <td>NaN</td>\n      <td>1.0</td>\n      <td>24</td>\n    </tr>\n    <tr>\n      <th>201</th>\n      <td>Kylie Ramos</td>\n      <td>26</td>\n      <td>Entertainment Sales Associate</td>\n      <td>Davis, California</td>\n      <td>NaN</td>\n      <td>1.0</td>\n      <td>24</td>\n    </tr>\n    <tr>\n      <th>202</th>\n      <td>Maurissa Gunn</td>\n      <td>23</td>\n      <td>Patient Care Coordinator</td>\n      <td>Laurel, Montana</td>\n      <td>NaN</td>\n      <td>1.0</td>\n      <td>24</td>\n    </tr>\n    <tr>\n      <th>203</th>\n      <td>Megan Hops</td>\n      <td>26</td>\n      <td>Flight Attendant</td>\n      <td>San Bruno, California</td>\n      <td>NaN</td>\n      <td>1.0</td>\n      <td>24</td>\n    </tr>\n  </tbody>\n</table>\n<p>204 rows × 7 columns</p>\n</div>"
     },
     "metadata": {},
     "execution_count": 4
    }
   ],
   "source": [
    "df"
   ]
  },
  {
   "cell_type": "code",
   "execution_count": 6,
   "metadata": {},
   "outputs": [],
   "source": [
    "bachelorette = pd.read_csv('../data/bachelorette.csv')"
   ]
  },
  {
   "cell_type": "code",
   "execution_count": 7,
   "metadata": {},
   "outputs": [
    {
     "output_type": "execute_result",
     "data": {
      "text/plain": [
       "             SHOW  SEASON     CONTESTANT ELIMINATION-1 ELIMINATION-2  \\\n",
       "0            SHOW  SEASON             ID             1             2   \n",
       "1    Bachelorette      13     13_BRYAN_A            R1           NaN   \n",
       "2    Bachelorette      13     13_PETER_K           NaN             R   \n",
       "3    Bachelorette      13      13_ERIC_B           NaN           NaN   \n",
       "4    Bachelorette      13      13_DEAN_U           NaN             R   \n",
       "..            ...     ...            ...           ...           ...   \n",
       "916      Bachelor      01  01_KRISTINA_X             E           NaN   \n",
       "917      Bachelor      01      01_LISA_X             E           NaN   \n",
       "918      Bachelor      01     01_PAULA_X             E           NaN   \n",
       "919      Bachelor      01    01_RACHEL_X             E           NaN   \n",
       "920      Bachelor      01     01_WENDI_X             E           NaN   \n",
       "\n",
       "    ELIMINATION-3 ELIMINATION-4 ELIMINATION-5 ELIMINATION-6 ELIMINATION-7  \\\n",
       "0               3             4             5             6             7   \n",
       "1             NaN             R             R           NaN             R   \n",
       "2             NaN           NaN           NaN             R             R   \n",
       "3               R           NaN           NaN             R             R   \n",
       "4             NaN             R           NaN           NaN             R   \n",
       "..            ...           ...           ...           ...           ...   \n",
       "916           NaN           NaN           NaN           NaN           NaN   \n",
       "917           NaN           NaN           NaN           NaN           NaN   \n",
       "918           NaN           NaN           NaN           NaN           NaN   \n",
       "919           NaN           NaN           NaN           NaN           NaN   \n",
       "920           NaN           NaN           NaN           NaN           NaN   \n",
       "\n",
       "     ... DATES-1 DATES-2 DATES-3 DATES-4 DATES-5 DATES-6 DATES-7 DATES-8  \\\n",
       "0    ...       1       2       3       4       5       6       7       8   \n",
       "1    ...     NaN     NaN      D6     D13      D1      D7      D1      D1   \n",
       "2    ...     NaN      D1      D6     D13      D9      D7      D1      D1   \n",
       "3    ...     NaN     D10      D8     D13      D9      D1      D3      D1   \n",
       "4    ...     NaN      D8      D8      D1      D9      D7      D1      D1   \n",
       "..   ...     ...     ...     ...     ...     ...     ...     ...     ...   \n",
       "916  ...     NaN     NaN     NaN     NaN     NaN     NaN     NaN     NaN   \n",
       "917  ...     NaN     NaN     NaN     NaN     NaN     NaN     NaN     NaN   \n",
       "918  ...     NaN     NaN     NaN     NaN     NaN     NaN     NaN     NaN   \n",
       "919  ...     NaN     NaN     NaN     NaN     NaN     NaN     NaN     NaN   \n",
       "920  ...     NaN     NaN     NaN     NaN     NaN     NaN     NaN     NaN   \n",
       "\n",
       "    DATES-9 DATES-10  \n",
       "0         9       10  \n",
       "1        D1       D1  \n",
       "2        D1       D1  \n",
       "3        D1      NaN  \n",
       "4       NaN      NaN  \n",
       "..      ...      ...  \n",
       "916     NaN      NaN  \n",
       "917     NaN      NaN  \n",
       "918     NaN      NaN  \n",
       "919     NaN      NaN  \n",
       "920     NaN      NaN  \n",
       "\n",
       "[921 rows x 23 columns]"
      ],
      "text/html": "<div>\n<style scoped>\n    .dataframe tbody tr th:only-of-type {\n        vertical-align: middle;\n    }\n\n    .dataframe tbody tr th {\n        vertical-align: top;\n    }\n\n    .dataframe thead th {\n        text-align: right;\n    }\n</style>\n<table border=\"1\" class=\"dataframe\">\n  <thead>\n    <tr style=\"text-align: right;\">\n      <th></th>\n      <th>SHOW</th>\n      <th>SEASON</th>\n      <th>CONTESTANT</th>\n      <th>ELIMINATION-1</th>\n      <th>ELIMINATION-2</th>\n      <th>ELIMINATION-3</th>\n      <th>ELIMINATION-4</th>\n      <th>ELIMINATION-5</th>\n      <th>ELIMINATION-6</th>\n      <th>ELIMINATION-7</th>\n      <th>...</th>\n      <th>DATES-1</th>\n      <th>DATES-2</th>\n      <th>DATES-3</th>\n      <th>DATES-4</th>\n      <th>DATES-5</th>\n      <th>DATES-6</th>\n      <th>DATES-7</th>\n      <th>DATES-8</th>\n      <th>DATES-9</th>\n      <th>DATES-10</th>\n    </tr>\n  </thead>\n  <tbody>\n    <tr>\n      <th>0</th>\n      <td>SHOW</td>\n      <td>SEASON</td>\n      <td>ID</td>\n      <td>1</td>\n      <td>2</td>\n      <td>3</td>\n      <td>4</td>\n      <td>5</td>\n      <td>6</td>\n      <td>7</td>\n      <td>...</td>\n      <td>1</td>\n      <td>2</td>\n      <td>3</td>\n      <td>4</td>\n      <td>5</td>\n      <td>6</td>\n      <td>7</td>\n      <td>8</td>\n      <td>9</td>\n      <td>10</td>\n    </tr>\n    <tr>\n      <th>1</th>\n      <td>Bachelorette</td>\n      <td>13</td>\n      <td>13_BRYAN_A</td>\n      <td>R1</td>\n      <td>NaN</td>\n      <td>NaN</td>\n      <td>R</td>\n      <td>R</td>\n      <td>NaN</td>\n      <td>R</td>\n      <td>...</td>\n      <td>NaN</td>\n      <td>NaN</td>\n      <td>D6</td>\n      <td>D13</td>\n      <td>D1</td>\n      <td>D7</td>\n      <td>D1</td>\n      <td>D1</td>\n      <td>D1</td>\n      <td>D1</td>\n    </tr>\n    <tr>\n      <th>2</th>\n      <td>Bachelorette</td>\n      <td>13</td>\n      <td>13_PETER_K</td>\n      <td>NaN</td>\n      <td>R</td>\n      <td>NaN</td>\n      <td>NaN</td>\n      <td>NaN</td>\n      <td>R</td>\n      <td>R</td>\n      <td>...</td>\n      <td>NaN</td>\n      <td>D1</td>\n      <td>D6</td>\n      <td>D13</td>\n      <td>D9</td>\n      <td>D7</td>\n      <td>D1</td>\n      <td>D1</td>\n      <td>D1</td>\n      <td>D1</td>\n    </tr>\n    <tr>\n      <th>3</th>\n      <td>Bachelorette</td>\n      <td>13</td>\n      <td>13_ERIC_B</td>\n      <td>NaN</td>\n      <td>NaN</td>\n      <td>R</td>\n      <td>NaN</td>\n      <td>NaN</td>\n      <td>R</td>\n      <td>R</td>\n      <td>...</td>\n      <td>NaN</td>\n      <td>D10</td>\n      <td>D8</td>\n      <td>D13</td>\n      <td>D9</td>\n      <td>D1</td>\n      <td>D3</td>\n      <td>D1</td>\n      <td>D1</td>\n      <td>NaN</td>\n    </tr>\n    <tr>\n      <th>4</th>\n      <td>Bachelorette</td>\n      <td>13</td>\n      <td>13_DEAN_U</td>\n      <td>NaN</td>\n      <td>R</td>\n      <td>NaN</td>\n      <td>R</td>\n      <td>NaN</td>\n      <td>NaN</td>\n      <td>R</td>\n      <td>...</td>\n      <td>NaN</td>\n      <td>D8</td>\n      <td>D8</td>\n      <td>D1</td>\n      <td>D9</td>\n      <td>D7</td>\n      <td>D1</td>\n      <td>D1</td>\n      <td>NaN</td>\n      <td>NaN</td>\n    </tr>\n    <tr>\n      <th>...</th>\n      <td>...</td>\n      <td>...</td>\n      <td>...</td>\n      <td>...</td>\n      <td>...</td>\n      <td>...</td>\n      <td>...</td>\n      <td>...</td>\n      <td>...</td>\n      <td>...</td>\n      <td>...</td>\n      <td>...</td>\n      <td>...</td>\n      <td>...</td>\n      <td>...</td>\n      <td>...</td>\n      <td>...</td>\n      <td>...</td>\n      <td>...</td>\n      <td>...</td>\n      <td>...</td>\n    </tr>\n    <tr>\n      <th>916</th>\n      <td>Bachelor</td>\n      <td>01</td>\n      <td>01_KRISTINA_X</td>\n      <td>E</td>\n      <td>NaN</td>\n      <td>NaN</td>\n      <td>NaN</td>\n      <td>NaN</td>\n      <td>NaN</td>\n      <td>NaN</td>\n      <td>...</td>\n      <td>NaN</td>\n      <td>NaN</td>\n      <td>NaN</td>\n      <td>NaN</td>\n      <td>NaN</td>\n      <td>NaN</td>\n      <td>NaN</td>\n      <td>NaN</td>\n      <td>NaN</td>\n      <td>NaN</td>\n    </tr>\n    <tr>\n      <th>917</th>\n      <td>Bachelor</td>\n      <td>01</td>\n      <td>01_LISA_X</td>\n      <td>E</td>\n      <td>NaN</td>\n      <td>NaN</td>\n      <td>NaN</td>\n      <td>NaN</td>\n      <td>NaN</td>\n      <td>NaN</td>\n      <td>...</td>\n      <td>NaN</td>\n      <td>NaN</td>\n      <td>NaN</td>\n      <td>NaN</td>\n      <td>NaN</td>\n      <td>NaN</td>\n      <td>NaN</td>\n      <td>NaN</td>\n      <td>NaN</td>\n      <td>NaN</td>\n    </tr>\n    <tr>\n      <th>918</th>\n      <td>Bachelor</td>\n      <td>01</td>\n      <td>01_PAULA_X</td>\n      <td>E</td>\n      <td>NaN</td>\n      <td>NaN</td>\n      <td>NaN</td>\n      <td>NaN</td>\n      <td>NaN</td>\n      <td>NaN</td>\n      <td>...</td>\n      <td>NaN</td>\n      <td>NaN</td>\n      <td>NaN</td>\n      <td>NaN</td>\n      <td>NaN</td>\n      <td>NaN</td>\n      <td>NaN</td>\n      <td>NaN</td>\n      <td>NaN</td>\n      <td>NaN</td>\n    </tr>\n    <tr>\n      <th>919</th>\n      <td>Bachelor</td>\n      <td>01</td>\n      <td>01_RACHEL_X</td>\n      <td>E</td>\n      <td>NaN</td>\n      <td>NaN</td>\n      <td>NaN</td>\n      <td>NaN</td>\n      <td>NaN</td>\n      <td>NaN</td>\n      <td>...</td>\n      <td>NaN</td>\n      <td>NaN</td>\n      <td>NaN</td>\n      <td>NaN</td>\n      <td>NaN</td>\n      <td>NaN</td>\n      <td>NaN</td>\n      <td>NaN</td>\n      <td>NaN</td>\n      <td>NaN</td>\n    </tr>\n    <tr>\n      <th>920</th>\n      <td>Bachelor</td>\n      <td>01</td>\n      <td>01_WENDI_X</td>\n      <td>E</td>\n      <td>NaN</td>\n      <td>NaN</td>\n      <td>NaN</td>\n      <td>NaN</td>\n      <td>NaN</td>\n      <td>NaN</td>\n      <td>...</td>\n      <td>NaN</td>\n      <td>NaN</td>\n      <td>NaN</td>\n      <td>NaN</td>\n      <td>NaN</td>\n      <td>NaN</td>\n      <td>NaN</td>\n      <td>NaN</td>\n      <td>NaN</td>\n      <td>NaN</td>\n    </tr>\n  </tbody>\n</table>\n<p>921 rows × 23 columns</p>\n</div>"
     },
     "metadata": {},
     "execution_count": 7
    }
   ],
   "source": [
    "bachelorette"
   ]
  },
  {
   "cell_type": "code",
   "execution_count": 8,
   "metadata": {},
   "outputs": [
    {
     "output_type": "execute_result",
     "data": {
      "text/plain": [
       "Season  Age  Name              \n",
       "18      22   Cassandra Ferguson    1\n",
       "        23   Christine Llano       1\n",
       "             Kylie Lewis           1\n",
       "        24   Alexis Morgado        1\n",
       "             Chelsie Webster       1\n",
       "                                  ..\n",
       "24      27   Shiann Lewis          1\n",
       "             Victoria Paul         1\n",
       "        28   Katrina Badowski      1\n",
       "             Kelsey Weier          1\n",
       "        31   Natasha Parker        1\n",
       "Name: Age, Length: 204, dtype: int64"
      ]
     },
     "metadata": {},
     "execution_count": 8
    }
   ],
   "source": [
    "df.groupby(['Season', 'Age', 'Name'])['Age'].count()"
   ]
  },
  {
   "cell_type": "code",
   "execution_count": 12,
   "metadata": {},
   "outputs": [
    {
     "output_type": "execute_result",
     "data": {
      "text/plain": [
       "26    35\n",
       "25    33\n",
       "23    31\n",
       "24    28\n",
       "27    22\n",
       "29    14\n",
       "28    13\n",
       "30    10\n",
       "31     8\n",
       "22     4\n",
       "32     3\n",
       "33     2\n",
       "21     1\n",
       "Name: Age, dtype: int64"
      ]
     },
     "metadata": {},
     "execution_count": 12
    }
   ],
   "source": [
    "df['Age'].value_counts()"
   ]
  },
  {
   "cell_type": "code",
   "execution_count": 14,
   "metadata": {},
   "outputs": [
    {
     "output_type": "execute_result",
     "data": {
      "text/plain": [
       "25    6\n",
       "26    5\n",
       "27    4\n",
       "24    4\n",
       "29    2\n",
       "23    2\n",
       "32    2\n",
       "31    1\n",
       "22    1\n",
       "Name: Age, dtype: int64"
      ]
     },
     "metadata": {},
     "execution_count": 14
    }
   ],
   "source": [
    "df_18 = df.loc[(df['Season'] == 18)]['Age'].value_counts()\n",
    "df_18"
   ]
  },
  {
   "cell_type": "code",
   "execution_count": 15,
   "metadata": {},
   "outputs": [
    {
     "output_type": "execute_result",
     "data": {
      "text/plain": [
       "29    5\n",
       "25    5\n",
       "24    5\n",
       "28    4\n",
       "26    4\n",
       "30    2\n",
       "27    2\n",
       "31    1\n",
       "21    1\n",
       "33    1\n",
       "Name: Age, dtype: int64"
      ]
     },
     "metadata": {},
     "execution_count": 15
    }
   ],
   "source": [
    "df_19 = df.loc[(df['Season'] == 19)]['Age'].value_counts()\n",
    "df_19"
   ]
  },
  {
   "cell_type": "code",
   "execution_count": 16,
   "metadata": {},
   "outputs": [
    {
     "output_type": "execute_result",
     "data": {
      "text/plain": [
       "23    8\n",
       "25    6\n",
       "24    5\n",
       "30    3\n",
       "26    3\n",
       "27    2\n",
       "28    1\n",
       "Name: Age, dtype: int64"
      ]
     },
     "metadata": {},
     "execution_count": 16
    }
   ],
   "source": [
    "df_20 = df.loc[(df['Season'] == 20)]['Age'].value_counts()\n",
    "df_20"
   ]
  },
  {
   "cell_type": "code",
   "execution_count": 17,
   "metadata": {},
   "outputs": [
    {
     "output_type": "execute_result",
     "data": {
      "text/plain": [
       "25    7\n",
       "26    5\n",
       "24    5\n",
       "23    4\n",
       "29    3\n",
       "31    2\n",
       "28    2\n",
       "30    1\n",
       "27    1\n",
       "Name: Age, dtype: int64"
      ]
     },
     "metadata": {},
     "execution_count": 17
    }
   ],
   "source": [
    "df_21 = df.loc[(df['Season'] == 21)]['Age'].value_counts()\n",
    "df_21"
   ]
  },
  {
   "cell_type": "code",
   "execution_count": 18,
   "metadata": {},
   "outputs": [
    {
     "output_type": "execute_result",
     "data": {
      "text/plain": [
       "27    6\n",
       "26    6\n",
       "25    4\n",
       "30    3\n",
       "29    3\n",
       "23    2\n",
       "31    1\n",
       "28    1\n",
       "22    1\n",
       "33    1\n",
       "32    1\n",
       "Name: Age, dtype: int64"
      ]
     },
     "metadata": {},
     "execution_count": 18
    }
   ],
   "source": [
    "df_22 = df.loc[(df['Season'] == 22)]['Age'].value_counts()\n",
    "df_22"
   ]
  },
  {
   "cell_type": "code",
   "execution_count": 19,
   "metadata": {},
   "outputs": [
    {
     "output_type": "execute_result",
     "data": {
      "text/plain": [
       "23    9\n",
       "26    5\n",
       "25    4\n",
       "24    4\n",
       "28    3\n",
       "31    2\n",
       "30    1\n",
       "29    1\n",
       "27    1\n",
       "Name: Age, dtype: int64"
      ]
     },
     "metadata": {},
     "execution_count": 19
    }
   ],
   "source": [
    "df_23 = df.loc[(df['Season'] == 23)]['Age'].value_counts()\n",
    "df_23"
   ]
  },
  {
   "cell_type": "code",
   "execution_count": 20,
   "metadata": {},
   "outputs": [
    {
     "output_type": "execute_result",
     "data": {
      "text/plain": [
       "26    7\n",
       "27    6\n",
       "23    6\n",
       "24    5\n",
       "28    2\n",
       "22    2\n",
       "31    1\n",
       "25    1\n",
       "Name: Age, dtype: int64"
      ]
     },
     "metadata": {},
     "execution_count": 20
    }
   ],
   "source": [
    "df_24 = df.loc[(df['Season'] == 24)]['Age'].value_counts()\n",
    "df_24"
   ]
  },
  {
   "cell_type": "code",
   "execution_count": 21,
   "metadata": {},
   "outputs": [
    {
     "output_type": "display_data",
     "data": {
      "text/plain": "<Figure size 1080x540 with 1 Axes>",
      "image/svg+xml": "<?xml version=\"1.0\" encoding=\"utf-8\" standalone=\"no\"?>\r\n<!DOCTYPE svg PUBLIC \"-//W3C//DTD SVG 1.1//EN\"\r\n  \"http://www.w3.org/Graphics/SVG/1.1/DTD/svg11.dtd\">\r\n<!-- Created with matplotlib (https://matplotlib.org/) -->\r\n<svg height=\"475.58875pt\" version=\"1.1\" viewBox=\"0 0 880.37625 475.58875\" width=\"880.37625pt\" xmlns=\"http://www.w3.org/2000/svg\" xmlns:xlink=\"http://www.w3.org/1999/xlink\">\r\n <defs>\r\n  <style type=\"text/css\">\r\n*{stroke-linecap:butt;stroke-linejoin:round;}\r\n  </style>\r\n </defs>\r\n <g id=\"figure_1\">\r\n  <g id=\"patch_1\">\r\n   <path d=\"M 0 475.58875 \r\nL 880.37625 475.58875 \r\nL 880.37625 0 \r\nL 0 0 \r\nz\r\n\" style=\"fill:none;\"/>\r\n  </g>\r\n  <g id=\"axes_1\">\r\n   <g id=\"patch_2\">\r\n    <path d=\"M 36.17625 436.096875 \r\nL 873.17625 436.096875 \r\nL 873.17625 28.396875 \r\nL 36.17625 28.396875 \r\nz\r\n\" style=\"fill:#ffffff;\"/>\r\n   </g>\r\n   <g id=\"patch_3\">\r\n    <path clip-path=\"url(#p767571bbc6)\" d=\"M 300.116591 436.096875 \r\nL 312.005795 436.096875 \r\nL 312.005795 177.239732 \r\nL 300.116591 177.239732 \r\nz\r\n\"/>\r\n   </g>\r\n   <g id=\"patch_4\">\r\n    <path clip-path=\"url(#p767571bbc6)\" d=\"M 359.562614 436.096875 \r\nL 371.451818 436.096875 \r\nL 371.451818 220.382589 \r\nL 359.562614 220.382589 \r\nz\r\n\"/>\r\n   </g>\r\n   <g id=\"patch_5\">\r\n    <path clip-path=\"url(#p767571bbc6)\" d=\"M 419.008636 436.096875 \r\nL 430.897841 436.096875 \r\nL 430.897841 263.525446 \r\nL 419.008636 263.525446 \r\nz\r\n\"/>\r\n   </g>\r\n   <g id=\"patch_6\">\r\n    <path clip-path=\"url(#p767571bbc6)\" d=\"M 240.670568 436.096875 \r\nL 252.559773 436.096875 \r\nL 252.559773 263.525446 \r\nL 240.670568 263.525446 \r\nz\r\n\"/>\r\n   </g>\r\n   <g id=\"patch_7\">\r\n    <path clip-path=\"url(#p767571bbc6)\" d=\"M 537.900682 436.096875 \r\nL 549.789886 436.096875 \r\nL 549.789886 349.811161 \r\nL 537.900682 349.811161 \r\nz\r\n\"/>\r\n   </g>\r\n   <g id=\"patch_8\">\r\n    <path clip-path=\"url(#p767571bbc6)\" d=\"M 181.224545 436.096875 \r\nL 193.11375 436.096875 \r\nL 193.11375 349.811161 \r\nL 181.224545 349.811161 \r\nz\r\n\"/>\r\n   </g>\r\n   <g id=\"patch_9\">\r\n    <path clip-path=\"url(#p767571bbc6)\" d=\"M 716.23875 436.096875 \r\nL 728.127955 436.096875 \r\nL 728.127955 349.811161 \r\nL 716.23875 349.811161 \r\nz\r\n\"/>\r\n   </g>\r\n   <g id=\"patch_10\">\r\n    <path clip-path=\"url(#p767571bbc6)\" d=\"M 656.792727 436.096875 \r\nL 668.681932 436.096875 \r\nL 668.681932 392.954018 \r\nL 656.792727 392.954018 \r\nz\r\n\"/>\r\n   </g>\r\n   <g id=\"patch_11\">\r\n    <path clip-path=\"url(#p767571bbc6)\" d=\"M 121.778523 436.096875 \r\nL 133.667727 436.096875 \r\nL 133.667727 392.954018 \r\nL 121.778523 392.954018 \r\nz\r\n\"/>\r\n   </g>\r\n   <g id=\"patch_12\">\r\n    <path clip-path=\"url(#p767571bbc6)\" d=\"M 549.789886 436.096875 \r\nL 561.679091 436.096875 \r\nL 561.679091 220.382589 \r\nL 549.789886 220.382589 \r\nz\r\n\" style=\"fill:#ff00ff;\"/>\r\n   </g>\r\n   <g id=\"patch_13\">\r\n    <path clip-path=\"url(#p767571bbc6)\" d=\"M 312.005795 436.096875 \r\nL 323.895 436.096875 \r\nL 323.895 220.382589 \r\nL 312.005795 220.382589 \r\nz\r\n\" style=\"fill:#ff00ff;\"/>\r\n   </g>\r\n   <g id=\"patch_14\">\r\n    <path clip-path=\"url(#p767571bbc6)\" d=\"M 252.559773 436.096875 \r\nL 264.448977 436.096875 \r\nL 264.448977 220.382589 \r\nL 252.559773 220.382589 \r\nz\r\n\" style=\"fill:#ff00ff;\"/>\r\n   </g>\r\n   <g id=\"patch_15\">\r\n    <path clip-path=\"url(#p767571bbc6)\" d=\"M 490.343864 436.096875 \r\nL 502.233068 436.096875 \r\nL 502.233068 263.525446 \r\nL 490.343864 263.525446 \r\nz\r\n\" style=\"fill:#ff00ff;\"/>\r\n   </g>\r\n   <g id=\"patch_16\">\r\n    <path clip-path=\"url(#p767571bbc6)\" d=\"M 371.451818 436.096875 \r\nL 383.341023 436.096875 \r\nL 383.341023 263.525446 \r\nL 371.451818 263.525446 \r\nz\r\n\" style=\"fill:#ff00ff;\"/>\r\n   </g>\r\n   <g id=\"patch_17\">\r\n    <path clip-path=\"url(#p767571bbc6)\" d=\"M 609.235909 436.096875 \r\nL 621.125114 436.096875 \r\nL 621.125114 349.811161 \r\nL 609.235909 349.811161 \r\nz\r\n\" style=\"fill:#ff00ff;\"/>\r\n   </g>\r\n   <g id=\"patch_18\">\r\n    <path clip-path=\"url(#p767571bbc6)\" d=\"M 430.897841 436.096875 \r\nL 442.787045 436.096875 \r\nL 442.787045 349.811161 \r\nL 430.897841 349.811161 \r\nz\r\n\" style=\"fill:#ff00ff;\"/>\r\n   </g>\r\n   <g id=\"patch_19\">\r\n    <path clip-path=\"url(#p767571bbc6)\" d=\"M 668.681932 436.096875 \r\nL 680.571136 436.096875 \r\nL 680.571136 392.954018 \r\nL 668.681932 392.954018 \r\nz\r\n\" style=\"fill:#ff00ff;\"/>\r\n   </g>\r\n   <g id=\"patch_20\">\r\n    <path clip-path=\"url(#p767571bbc6)\" d=\"M 74.221705 436.096875 \r\nL 86.110909 436.096875 \r\nL 86.110909 392.954018 \r\nL 74.221705 392.954018 \r\nz\r\n\" style=\"fill:#ff00ff;\"/>\r\n   </g>\r\n   <g id=\"patch_21\">\r\n    <path clip-path=\"url(#p767571bbc6)\" d=\"M 787.573977 436.096875 \r\nL 799.463182 436.096875 \r\nL 799.463182 392.954018 \r\nL 787.573977 392.954018 \r\nz\r\n\" style=\"fill:#ff00ff;\"/>\r\n   </g>\r\n   <g id=\"patch_22\">\r\n    <path clip-path=\"url(#p767571bbc6)\" d=\"M 205.002955 436.096875 \r\nL 216.892159 436.096875 \r\nL 216.892159 90.954018 \r\nL 205.002955 90.954018 \r\nz\r\n\" style=\"fill:#191970;\"/>\r\n   </g>\r\n   <g id=\"patch_23\">\r\n    <path clip-path=\"url(#p767571bbc6)\" d=\"M 323.895 436.096875 \r\nL 335.784205 436.096875 \r\nL 335.784205 177.239732 \r\nL 323.895 177.239732 \r\nz\r\n\" style=\"fill:#191970;\"/>\r\n   </g>\r\n   <g id=\"patch_24\">\r\n    <path clip-path=\"url(#p767571bbc6)\" d=\"M 264.448977 436.096875 \r\nL 276.338182 436.096875 \r\nL 276.338182 220.382589 \r\nL 264.448977 220.382589 \r\nz\r\n\" style=\"fill:#191970;\"/>\r\n   </g>\r\n   <g id=\"patch_25\">\r\n    <path clip-path=\"url(#p767571bbc6)\" d=\"M 621.125114 436.096875 \r\nL 633.014318 436.096875 \r\nL 633.014318 306.668304 \r\nL 621.125114 306.668304 \r\nz\r\n\" style=\"fill:#191970;\"/>\r\n   </g>\r\n   <g id=\"patch_26\">\r\n    <path clip-path=\"url(#p767571bbc6)\" d=\"M 383.341023 436.096875 \r\nL 395.230227 436.096875 \r\nL 395.230227 306.668304 \r\nL 383.341023 306.668304 \r\nz\r\n\" style=\"fill:#191970;\"/>\r\n   </g>\r\n   <g id=\"patch_27\">\r\n    <path clip-path=\"url(#p767571bbc6)\" d=\"M 442.787045 436.096875 \r\nL 454.67625 436.096875 \r\nL 454.67625 349.811161 \r\nL 442.787045 349.811161 \r\nz\r\n\" style=\"fill:#191970;\"/>\r\n   </g>\r\n   <g id=\"patch_28\">\r\n    <path clip-path=\"url(#p767571bbc6)\" d=\"M 502.233068 436.096875 \r\nL 514.122273 436.096875 \r\nL 514.122273 392.954018 \r\nL 502.233068 392.954018 \r\nz\r\n\" style=\"fill:#191970;\"/>\r\n   </g>\r\n   <g id=\"patch_29\">\r\n    <path clip-path=\"url(#p767571bbc6)\" d=\"M 335.784205 436.096875 \r\nL 347.673409 436.096875 \r\nL 347.673409 134.096875 \r\nL 335.784205 134.096875 \r\nz\r\n\" style=\"fill:#ff0000;\"/>\r\n   </g>\r\n   <g id=\"patch_30\">\r\n    <path clip-path=\"url(#p767571bbc6)\" d=\"M 395.230227 436.096875 \r\nL 407.119432 436.096875 \r\nL 407.119432 220.382589 \r\nL 395.230227 220.382589 \r\nz\r\n\" style=\"fill:#ff0000;\"/>\r\n   </g>\r\n   <g id=\"patch_31\">\r\n    <path clip-path=\"url(#p767571bbc6)\" d=\"M 276.338182 436.096875 \r\nL 288.227386 436.096875 \r\nL 288.227386 220.382589 \r\nL 276.338182 220.382589 \r\nz\r\n\" style=\"fill:#ff0000;\"/>\r\n   </g>\r\n   <g id=\"patch_32\">\r\n    <path clip-path=\"url(#p767571bbc6)\" d=\"M 216.892159 436.096875 \r\nL 228.781364 436.096875 \r\nL 228.781364 263.525446 \r\nL 216.892159 263.525446 \r\nz\r\n\" style=\"fill:#ff0000;\"/>\r\n   </g>\r\n   <g id=\"patch_33\">\r\n    <path clip-path=\"url(#p767571bbc6)\" d=\"M 573.568295 436.096875 \r\nL 585.4575 436.096875 \r\nL 585.4575 306.668304 \r\nL 573.568295 306.668304 \r\nz\r\n\" style=\"fill:#ff0000;\"/>\r\n   </g>\r\n   <g id=\"patch_34\">\r\n    <path clip-path=\"url(#p767571bbc6)\" d=\"M 692.460341 436.096875 \r\nL 704.349545 436.096875 \r\nL 704.349545 349.811161 \r\nL 692.460341 349.811161 \r\nz\r\n\" style=\"fill:#ff0000;\"/>\r\n   </g>\r\n   <g id=\"patch_35\">\r\n    <path clip-path=\"url(#p767571bbc6)\" d=\"M 514.122273 436.096875 \r\nL 526.011477 436.096875 \r\nL 526.011477 349.811161 \r\nL 514.122273 349.811161 \r\nz\r\n\" style=\"fill:#ff0000;\"/>\r\n   </g>\r\n   <g id=\"patch_36\">\r\n    <path clip-path=\"url(#p767571bbc6)\" d=\"M 633.014318 436.096875 \r\nL 644.903523 436.096875 \r\nL 644.903523 392.954018 \r\nL 633.014318 392.954018 \r\nz\r\n\" style=\"fill:#ff0000;\"/>\r\n   </g>\r\n   <g id=\"patch_37\">\r\n    <path clip-path=\"url(#p767571bbc6)\" d=\"M 454.67625 436.096875 \r\nL 466.565455 436.096875 \r\nL 466.565455 392.954018 \r\nL 454.67625 392.954018 \r\nz\r\n\" style=\"fill:#ff0000;\"/>\r\n   </g>\r\n   <g id=\"patch_38\">\r\n    <path clip-path=\"url(#p767571bbc6)\" d=\"M 466.565455 436.096875 \r\nL 478.454659 436.096875 \r\nL 478.454659 177.239732 \r\nL 466.565455 177.239732 \r\nz\r\n\" style=\"fill:#ffff00;\"/>\r\n   </g>\r\n   <g id=\"patch_39\">\r\n    <path clip-path=\"url(#p767571bbc6)\" d=\"M 407.119432 436.096875 \r\nL 419.008636 436.096875 \r\nL 419.008636 177.239732 \r\nL 407.119432 177.239732 \r\nz\r\n\" style=\"fill:#ffff00;\"/>\r\n   </g>\r\n   <g id=\"patch_40\">\r\n    <path clip-path=\"url(#p767571bbc6)\" d=\"M 347.673409 436.096875 \r\nL 359.562614 436.096875 \r\nL 359.562614 263.525446 \r\nL 347.673409 263.525446 \r\nz\r\n\" style=\"fill:#ffff00;\"/>\r\n   </g>\r\n   <g id=\"patch_41\">\r\n    <path clip-path=\"url(#p767571bbc6)\" d=\"M 644.903523 436.096875 \r\nL 656.792727 436.096875 \r\nL 656.792727 306.668304 \r\nL 644.903523 306.668304 \r\nz\r\n\" style=\"fill:#ffff00;\"/>\r\n   </g>\r\n   <g id=\"patch_42\">\r\n    <path clip-path=\"url(#p767571bbc6)\" d=\"M 585.4575 436.096875 \r\nL 597.346705 436.096875 \r\nL 597.346705 306.668304 \r\nL 585.4575 306.668304 \r\nz\r\n\" style=\"fill:#ffff00;\"/>\r\n   </g>\r\n   <g id=\"patch_43\">\r\n    <path clip-path=\"url(#p767571bbc6)\" d=\"M 228.781364 436.096875 \r\nL 240.670568 436.096875 \r\nL 240.670568 349.811161 \r\nL 228.781364 349.811161 \r\nz\r\n\" style=\"fill:#ffff00;\"/>\r\n   </g>\r\n   <g id=\"patch_44\">\r\n    <path clip-path=\"url(#p767571bbc6)\" d=\"M 704.349545 436.096875 \r\nL 716.23875 436.096875 \r\nL 716.23875 392.954018 \r\nL 704.349545 392.954018 \r\nz\r\n\" style=\"fill:#ffff00;\"/>\r\n   </g>\r\n   <g id=\"patch_45\">\r\n    <path clip-path=\"url(#p767571bbc6)\" d=\"M 526.011477 436.096875 \r\nL 537.900682 436.096875 \r\nL 537.900682 392.954018 \r\nL 526.011477 392.954018 \r\nz\r\n\" style=\"fill:#ffff00;\"/>\r\n   </g>\r\n   <g id=\"patch_46\">\r\n    <path clip-path=\"url(#p767571bbc6)\" d=\"M 169.335341 436.096875 \r\nL 181.224545 436.096875 \r\nL 181.224545 392.954018 \r\nL 169.335341 392.954018 \r\nz\r\n\" style=\"fill:#ffff00;\"/>\r\n   </g>\r\n   <g id=\"patch_47\">\r\n    <path clip-path=\"url(#p767571bbc6)\" d=\"M 823.241591 436.096875 \r\nL 835.130795 436.096875 \r\nL 835.130795 392.954018 \r\nL 823.241591 392.954018 \r\nz\r\n\" style=\"fill:#ffff00;\"/>\r\n   </g>\r\n   <g id=\"patch_48\">\r\n    <path clip-path=\"url(#p767571bbc6)\" d=\"M 763.795568 436.096875 \r\nL 775.684773 436.096875 \r\nL 775.684773 392.954018 \r\nL 763.795568 392.954018 \r\nz\r\n\" style=\"fill:#ffff00;\"/>\r\n   </g>\r\n   <g id=\"patch_49\">\r\n    <path clip-path=\"url(#p767571bbc6)\" d=\"M 240.670568 436.096875 \r\nL 252.559773 436.096875 \r\nL 252.559773 47.811161 \r\nL 240.670568 47.811161 \r\nz\r\n\" style=\"fill:#ffa500;\"/>\r\n   </g>\r\n   <g id=\"patch_50\">\r\n    <path clip-path=\"url(#p767571bbc6)\" d=\"M 419.008636 436.096875 \r\nL 430.897841 436.096875 \r\nL 430.897841 220.382589 \r\nL 419.008636 220.382589 \r\nz\r\n\" style=\"fill:#ffa500;\"/>\r\n   </g>\r\n   <g id=\"patch_51\">\r\n    <path clip-path=\"url(#p767571bbc6)\" d=\"M 359.562614 436.096875 \r\nL 371.451818 436.096875 \r\nL 371.451818 263.525446 \r\nL 359.562614 263.525446 \r\nz\r\n\" style=\"fill:#ffa500;\"/>\r\n   </g>\r\n   <g id=\"patch_52\">\r\n    <path clip-path=\"url(#p767571bbc6)\" d=\"M 300.116591 436.096875 \r\nL 312.005795 436.096875 \r\nL 312.005795 263.525446 \r\nL 300.116591 263.525446 \r\nz\r\n\" style=\"fill:#ffa500;\"/>\r\n   </g>\r\n   <g id=\"patch_53\">\r\n    <path clip-path=\"url(#p767571bbc6)\" d=\"M 537.900682 436.096875 \r\nL 549.789886 436.096875 \r\nL 549.789886 306.668304 \r\nL 537.900682 306.668304 \r\nz\r\n\" style=\"fill:#ffa500;\"/>\r\n   </g>\r\n   <g id=\"patch_54\">\r\n    <path clip-path=\"url(#p767571bbc6)\" d=\"M 716.23875 436.096875 \r\nL 728.127955 436.096875 \r\nL 728.127955 349.811161 \r\nL 716.23875 349.811161 \r\nz\r\n\" style=\"fill:#ffa500;\"/>\r\n   </g>\r\n   <g id=\"patch_55\">\r\n    <path clip-path=\"url(#p767571bbc6)\" d=\"M 656.792727 436.096875 \r\nL 668.681932 436.096875 \r\nL 668.681932 392.954018 \r\nL 656.792727 392.954018 \r\nz\r\n\" style=\"fill:#ffa500;\"/>\r\n   </g>\r\n   <g id=\"patch_56\">\r\n    <path clip-path=\"url(#p767571bbc6)\" d=\"M 597.346705 436.096875 \r\nL 609.235909 436.096875 \r\nL 609.235909 392.954018 \r\nL 597.346705 392.954018 \r\nz\r\n\" style=\"fill:#ffa500;\"/>\r\n   </g>\r\n   <g id=\"patch_57\">\r\n    <path clip-path=\"url(#p767571bbc6)\" d=\"M 478.454659 436.096875 \r\nL 490.343864 436.096875 \r\nL 490.343864 392.954018 \r\nL 478.454659 392.954018 \r\nz\r\n\" style=\"fill:#ffa500;\"/>\r\n   </g>\r\n   <g id=\"patch_58\">\r\n    <path clip-path=\"url(#p767571bbc6)\" d=\"M 430.897841 436.096875 \r\nL 442.787045 436.096875 \r\nL 442.787045 134.096875 \r\nL 430.897841 134.096875 \r\nz\r\n\" style=\"fill:#008000;\"/>\r\n   </g>\r\n   <g id=\"patch_59\">\r\n    <path clip-path=\"url(#p767571bbc6)\" d=\"M 490.343864 436.096875 \r\nL 502.233068 436.096875 \r\nL 502.233068 177.239732 \r\nL 490.343864 177.239732 \r\nz\r\n\" style=\"fill:#008000;\"/>\r\n   </g>\r\n   <g id=\"patch_60\">\r\n    <path clip-path=\"url(#p767571bbc6)\" d=\"M 252.559773 436.096875 \r\nL 264.448977 436.096875 \r\nL 264.448977 177.239732 \r\nL 252.559773 177.239732 \r\nz\r\n\" style=\"fill:#008000;\"/>\r\n   </g>\r\n   <g id=\"patch_61\">\r\n    <path clip-path=\"url(#p767571bbc6)\" d=\"M 312.005795 436.096875 \r\nL 323.895 436.096875 \r\nL 323.895 220.382589 \r\nL 312.005795 220.382589 \r\nz\r\n\" style=\"fill:#008000;\"/>\r\n   </g>\r\n   <g id=\"patch_62\">\r\n    <path clip-path=\"url(#p767571bbc6)\" d=\"M 549.789886 436.096875 \r\nL 561.679091 436.096875 \r\nL 561.679091 349.811161 \r\nL 549.789886 349.811161 \r\nz\r\n\" style=\"fill:#008000;\"/>\r\n   </g>\r\n   <g id=\"patch_63\">\r\n    <path clip-path=\"url(#p767571bbc6)\" d=\"M 193.11375 436.096875 \r\nL 205.002955 436.096875 \r\nL 205.002955 349.811161 \r\nL 193.11375 349.811161 \r\nz\r\n\" style=\"fill:#008000;\"/>\r\n   </g>\r\n   <g id=\"patch_64\">\r\n    <path clip-path=\"url(#p767571bbc6)\" d=\"M 728.127955 436.096875 \r\nL 740.017159 436.096875 \r\nL 740.017159 392.954018 \r\nL 728.127955 392.954018 \r\nz\r\n\" style=\"fill:#008000;\"/>\r\n   </g>\r\n   <g id=\"patch_65\">\r\n    <path clip-path=\"url(#p767571bbc6)\" d=\"M 371.451818 436.096875 \r\nL 383.341023 436.096875 \r\nL 383.341023 392.954018 \r\nL 371.451818 392.954018 \r\nz\r\n\" style=\"fill:#008000;\"/>\r\n   </g>\r\n   <g id=\"matplotlib.axis_1\">\r\n    <g id=\"xtick_1\">\r\n     <g id=\"line2d_1\">\r\n      <defs>\r\n       <path d=\"M 0 0 \r\nL 0 3.5 \r\n\" id=\"m2a985a277c\" style=\"stroke:#000000;stroke-width:0.8;\"/>\r\n      </defs>\r\n      <g>\r\n       <use style=\"stroke:#000000;stroke-width:0.8;\" x=\"127.723125\" xlink:href=\"#m2a985a277c\" y=\"436.096875\"/>\r\n      </g>\r\n     </g>\r\n     <g id=\"text_1\">\r\n      <!-- 22 -->\r\n      <defs>\r\n       <path d=\"M 19.1875 8.296875 \r\nL 53.609375 8.296875 \r\nL 53.609375 0 \r\nL 7.328125 0 \r\nL 7.328125 8.296875 \r\nQ 12.9375 14.109375 22.625 23.890625 \r\nQ 32.328125 33.6875 34.8125 36.53125 \r\nQ 39.546875 41.84375 41.421875 45.53125 \r\nQ 43.3125 49.21875 43.3125 52.78125 \r\nQ 43.3125 58.59375 39.234375 62.25 \r\nQ 35.15625 65.921875 28.609375 65.921875 \r\nQ 23.96875 65.921875 18.8125 64.3125 \r\nQ 13.671875 62.703125 7.8125 59.421875 \r\nL 7.8125 69.390625 \r\nQ 13.765625 71.78125 18.9375 73 \r\nQ 24.125 74.21875 28.421875 74.21875 \r\nQ 39.75 74.21875 46.484375 68.546875 \r\nQ 53.21875 62.890625 53.21875 53.421875 \r\nQ 53.21875 48.921875 51.53125 44.890625 \r\nQ 49.859375 40.875 45.40625 35.40625 \r\nQ 44.1875 33.984375 37.640625 27.21875 \r\nQ 31.109375 20.453125 19.1875 8.296875 \r\nz\r\n\" id=\"DejaVuSans-50\"/>\r\n      </defs>\r\n      <g transform=\"translate(121.360625 450.695312)scale(0.1 -0.1)\">\r\n       <use xlink:href=\"#DejaVuSans-50\"/>\r\n       <use x=\"63.623047\" xlink:href=\"#DejaVuSans-50\"/>\r\n      </g>\r\n     </g>\r\n    </g>\r\n    <g id=\"xtick_2\">\r\n     <g id=\"line2d_2\">\r\n      <g>\r\n       <use style=\"stroke:#000000;stroke-width:0.8;\" x=\"246.61517\" xlink:href=\"#m2a985a277c\" y=\"436.096875\"/>\r\n      </g>\r\n     </g>\r\n     <g id=\"text_2\">\r\n      <!-- 24 -->\r\n      <defs>\r\n       <path d=\"M 37.796875 64.3125 \r\nL 12.890625 25.390625 \r\nL 37.796875 25.390625 \r\nz\r\nM 35.203125 72.90625 \r\nL 47.609375 72.90625 \r\nL 47.609375 25.390625 \r\nL 58.015625 25.390625 \r\nL 58.015625 17.1875 \r\nL 47.609375 17.1875 \r\nL 47.609375 0 \r\nL 37.796875 0 \r\nL 37.796875 17.1875 \r\nL 4.890625 17.1875 \r\nL 4.890625 26.703125 \r\nz\r\n\" id=\"DejaVuSans-52\"/>\r\n      </defs>\r\n      <g transform=\"translate(240.25267 450.695312)scale(0.1 -0.1)\">\r\n       <use xlink:href=\"#DejaVuSans-50\"/>\r\n       <use x=\"63.623047\" xlink:href=\"#DejaVuSans-52\"/>\r\n      </g>\r\n     </g>\r\n    </g>\r\n    <g id=\"xtick_3\">\r\n     <g id=\"line2d_3\">\r\n      <g>\r\n       <use style=\"stroke:#000000;stroke-width:0.8;\" x=\"365.507216\" xlink:href=\"#m2a985a277c\" y=\"436.096875\"/>\r\n      </g>\r\n     </g>\r\n     <g id=\"text_3\">\r\n      <!-- 26 -->\r\n      <defs>\r\n       <path d=\"M 33.015625 40.375 \r\nQ 26.375 40.375 22.484375 35.828125 \r\nQ 18.609375 31.296875 18.609375 23.390625 \r\nQ 18.609375 15.53125 22.484375 10.953125 \r\nQ 26.375 6.390625 33.015625 6.390625 \r\nQ 39.65625 6.390625 43.53125 10.953125 \r\nQ 47.40625 15.53125 47.40625 23.390625 \r\nQ 47.40625 31.296875 43.53125 35.828125 \r\nQ 39.65625 40.375 33.015625 40.375 \r\nz\r\nM 52.59375 71.296875 \r\nL 52.59375 62.3125 \r\nQ 48.875 64.0625 45.09375 64.984375 \r\nQ 41.3125 65.921875 37.59375 65.921875 \r\nQ 27.828125 65.921875 22.671875 59.328125 \r\nQ 17.53125 52.734375 16.796875 39.40625 \r\nQ 19.671875 43.65625 24.015625 45.921875 \r\nQ 28.375 48.1875 33.59375 48.1875 \r\nQ 44.578125 48.1875 50.953125 41.515625 \r\nQ 57.328125 34.859375 57.328125 23.390625 \r\nQ 57.328125 12.15625 50.6875 5.359375 \r\nQ 44.046875 -1.421875 33.015625 -1.421875 \r\nQ 20.359375 -1.421875 13.671875 8.265625 \r\nQ 6.984375 17.96875 6.984375 36.375 \r\nQ 6.984375 53.65625 15.1875 63.9375 \r\nQ 23.390625 74.21875 37.203125 74.21875 \r\nQ 40.921875 74.21875 44.703125 73.484375 \r\nQ 48.484375 72.75 52.59375 71.296875 \r\nz\r\n\" id=\"DejaVuSans-54\"/>\r\n      </defs>\r\n      <g transform=\"translate(359.144716 450.695312)scale(0.1 -0.1)\">\r\n       <use xlink:href=\"#DejaVuSans-50\"/>\r\n       <use x=\"63.623047\" xlink:href=\"#DejaVuSans-54\"/>\r\n      </g>\r\n     </g>\r\n    </g>\r\n    <g id=\"xtick_4\">\r\n     <g id=\"line2d_4\">\r\n      <g>\r\n       <use style=\"stroke:#000000;stroke-width:0.8;\" x=\"484.399261\" xlink:href=\"#m2a985a277c\" y=\"436.096875\"/>\r\n      </g>\r\n     </g>\r\n     <g id=\"text_4\">\r\n      <!-- 28 -->\r\n      <defs>\r\n       <path d=\"M 31.78125 34.625 \r\nQ 24.75 34.625 20.71875 30.859375 \r\nQ 16.703125 27.09375 16.703125 20.515625 \r\nQ 16.703125 13.921875 20.71875 10.15625 \r\nQ 24.75 6.390625 31.78125 6.390625 \r\nQ 38.8125 6.390625 42.859375 10.171875 \r\nQ 46.921875 13.96875 46.921875 20.515625 \r\nQ 46.921875 27.09375 42.890625 30.859375 \r\nQ 38.875 34.625 31.78125 34.625 \r\nz\r\nM 21.921875 38.8125 \r\nQ 15.578125 40.375 12.03125 44.71875 \r\nQ 8.5 49.078125 8.5 55.328125 \r\nQ 8.5 64.0625 14.71875 69.140625 \r\nQ 20.953125 74.21875 31.78125 74.21875 \r\nQ 42.671875 74.21875 48.875 69.140625 \r\nQ 55.078125 64.0625 55.078125 55.328125 \r\nQ 55.078125 49.078125 51.53125 44.71875 \r\nQ 48 40.375 41.703125 38.8125 \r\nQ 48.828125 37.15625 52.796875 32.3125 \r\nQ 56.78125 27.484375 56.78125 20.515625 \r\nQ 56.78125 9.90625 50.3125 4.234375 \r\nQ 43.84375 -1.421875 31.78125 -1.421875 \r\nQ 19.734375 -1.421875 13.25 4.234375 \r\nQ 6.78125 9.90625 6.78125 20.515625 \r\nQ 6.78125 27.484375 10.78125 32.3125 \r\nQ 14.796875 37.15625 21.921875 38.8125 \r\nz\r\nM 18.3125 54.390625 \r\nQ 18.3125 48.734375 21.84375 45.5625 \r\nQ 25.390625 42.390625 31.78125 42.390625 \r\nQ 38.140625 42.390625 41.71875 45.5625 \r\nQ 45.3125 48.734375 45.3125 54.390625 \r\nQ 45.3125 60.0625 41.71875 63.234375 \r\nQ 38.140625 66.40625 31.78125 66.40625 \r\nQ 25.390625 66.40625 21.84375 63.234375 \r\nQ 18.3125 60.0625 18.3125 54.390625 \r\nz\r\n\" id=\"DejaVuSans-56\"/>\r\n      </defs>\r\n      <g transform=\"translate(478.036761 450.695312)scale(0.1 -0.1)\">\r\n       <use xlink:href=\"#DejaVuSans-50\"/>\r\n       <use x=\"63.623047\" xlink:href=\"#DejaVuSans-56\"/>\r\n      </g>\r\n     </g>\r\n    </g>\r\n    <g id=\"xtick_5\">\r\n     <g id=\"line2d_5\">\r\n      <g>\r\n       <use style=\"stroke:#000000;stroke-width:0.8;\" x=\"603.291307\" xlink:href=\"#m2a985a277c\" y=\"436.096875\"/>\r\n      </g>\r\n     </g>\r\n     <g id=\"text_5\">\r\n      <!-- 30 -->\r\n      <defs>\r\n       <path d=\"M 40.578125 39.3125 \r\nQ 47.65625 37.796875 51.625 33 \r\nQ 55.609375 28.21875 55.609375 21.1875 \r\nQ 55.609375 10.40625 48.1875 4.484375 \r\nQ 40.765625 -1.421875 27.09375 -1.421875 \r\nQ 22.515625 -1.421875 17.65625 -0.515625 \r\nQ 12.796875 0.390625 7.625 2.203125 \r\nL 7.625 11.71875 \r\nQ 11.71875 9.328125 16.59375 8.109375 \r\nQ 21.484375 6.890625 26.8125 6.890625 \r\nQ 36.078125 6.890625 40.9375 10.546875 \r\nQ 45.796875 14.203125 45.796875 21.1875 \r\nQ 45.796875 27.640625 41.28125 31.265625 \r\nQ 36.765625 34.90625 28.71875 34.90625 \r\nL 20.21875 34.90625 \r\nL 20.21875 43.015625 \r\nL 29.109375 43.015625 \r\nQ 36.375 43.015625 40.234375 45.921875 \r\nQ 44.09375 48.828125 44.09375 54.296875 \r\nQ 44.09375 59.90625 40.109375 62.90625 \r\nQ 36.140625 65.921875 28.71875 65.921875 \r\nQ 24.65625 65.921875 20.015625 65.03125 \r\nQ 15.375 64.15625 9.8125 62.3125 \r\nL 9.8125 71.09375 \r\nQ 15.4375 72.65625 20.34375 73.4375 \r\nQ 25.25 74.21875 29.59375 74.21875 \r\nQ 40.828125 74.21875 47.359375 69.109375 \r\nQ 53.90625 64.015625 53.90625 55.328125 \r\nQ 53.90625 49.265625 50.4375 45.09375 \r\nQ 46.96875 40.921875 40.578125 39.3125 \r\nz\r\n\" id=\"DejaVuSans-51\"/>\r\n       <path d=\"M 31.78125 66.40625 \r\nQ 24.171875 66.40625 20.328125 58.90625 \r\nQ 16.5 51.421875 16.5 36.375 \r\nQ 16.5 21.390625 20.328125 13.890625 \r\nQ 24.171875 6.390625 31.78125 6.390625 \r\nQ 39.453125 6.390625 43.28125 13.890625 \r\nQ 47.125 21.390625 47.125 36.375 \r\nQ 47.125 51.421875 43.28125 58.90625 \r\nQ 39.453125 66.40625 31.78125 66.40625 \r\nz\r\nM 31.78125 74.21875 \r\nQ 44.046875 74.21875 50.515625 64.515625 \r\nQ 56.984375 54.828125 56.984375 36.375 \r\nQ 56.984375 17.96875 50.515625 8.265625 \r\nQ 44.046875 -1.421875 31.78125 -1.421875 \r\nQ 19.53125 -1.421875 13.0625 8.265625 \r\nQ 6.59375 17.96875 6.59375 36.375 \r\nQ 6.59375 54.828125 13.0625 64.515625 \r\nQ 19.53125 74.21875 31.78125 74.21875 \r\nz\r\n\" id=\"DejaVuSans-48\"/>\r\n      </defs>\r\n      <g transform=\"translate(596.928807 450.695312)scale(0.1 -0.1)\">\r\n       <use xlink:href=\"#DejaVuSans-51\"/>\r\n       <use x=\"63.623047\" xlink:href=\"#DejaVuSans-48\"/>\r\n      </g>\r\n     </g>\r\n    </g>\r\n    <g id=\"xtick_6\">\r\n     <g id=\"line2d_6\">\r\n      <g>\r\n       <use style=\"stroke:#000000;stroke-width:0.8;\" x=\"722.183352\" xlink:href=\"#m2a985a277c\" y=\"436.096875\"/>\r\n      </g>\r\n     </g>\r\n     <g id=\"text_6\">\r\n      <!-- 32 -->\r\n      <g transform=\"translate(715.820852 450.695312)scale(0.1 -0.1)\">\r\n       <use xlink:href=\"#DejaVuSans-51\"/>\r\n       <use x=\"63.623047\" xlink:href=\"#DejaVuSans-50\"/>\r\n      </g>\r\n     </g>\r\n    </g>\r\n    <g id=\"xtick_7\">\r\n     <g id=\"line2d_7\">\r\n      <g>\r\n       <use style=\"stroke:#000000;stroke-width:0.8;\" x=\"841.075398\" xlink:href=\"#m2a985a277c\" y=\"436.096875\"/>\r\n      </g>\r\n     </g>\r\n     <g id=\"text_7\">\r\n      <!-- 34 -->\r\n      <g transform=\"translate(834.712898 450.695312)scale(0.1 -0.1)\">\r\n       <use xlink:href=\"#DejaVuSans-51\"/>\r\n       <use x=\"63.623047\" xlink:href=\"#DejaVuSans-52\"/>\r\n      </g>\r\n     </g>\r\n    </g>\r\n    <g id=\"text_8\">\r\n     <!-- Ages -->\r\n     <defs>\r\n      <path d=\"M 34.1875 63.1875 \r\nL 20.796875 26.90625 \r\nL 47.609375 26.90625 \r\nz\r\nM 28.609375 72.90625 \r\nL 39.796875 72.90625 \r\nL 67.578125 0 \r\nL 57.328125 0 \r\nL 50.6875 18.703125 \r\nL 17.828125 18.703125 \r\nL 11.1875 0 \r\nL 0.78125 0 \r\nz\r\n\" id=\"DejaVuSans-65\"/>\r\n      <path d=\"M 45.40625 27.984375 \r\nQ 45.40625 37.75 41.375 43.109375 \r\nQ 37.359375 48.484375 30.078125 48.484375 \r\nQ 22.859375 48.484375 18.828125 43.109375 \r\nQ 14.796875 37.75 14.796875 27.984375 \r\nQ 14.796875 18.265625 18.828125 12.890625 \r\nQ 22.859375 7.515625 30.078125 7.515625 \r\nQ 37.359375 7.515625 41.375 12.890625 \r\nQ 45.40625 18.265625 45.40625 27.984375 \r\nz\r\nM 54.390625 6.78125 \r\nQ 54.390625 -7.171875 48.1875 -13.984375 \r\nQ 42 -20.796875 29.203125 -20.796875 \r\nQ 24.46875 -20.796875 20.265625 -20.09375 \r\nQ 16.0625 -19.390625 12.109375 -17.921875 \r\nL 12.109375 -9.1875 \r\nQ 16.0625 -11.328125 19.921875 -12.34375 \r\nQ 23.78125 -13.375 27.78125 -13.375 \r\nQ 36.625 -13.375 41.015625 -8.765625 \r\nQ 45.40625 -4.15625 45.40625 5.171875 \r\nL 45.40625 9.625 \r\nQ 42.625 4.78125 38.28125 2.390625 \r\nQ 33.9375 0 27.875 0 \r\nQ 17.828125 0 11.671875 7.65625 \r\nQ 5.515625 15.328125 5.515625 27.984375 \r\nQ 5.515625 40.671875 11.671875 48.328125 \r\nQ 17.828125 56 27.875 56 \r\nQ 33.9375 56 38.28125 53.609375 \r\nQ 42.625 51.21875 45.40625 46.390625 \r\nL 45.40625 54.6875 \r\nL 54.390625 54.6875 \r\nz\r\n\" id=\"DejaVuSans-103\"/>\r\n      <path d=\"M 56.203125 29.59375 \r\nL 56.203125 25.203125 \r\nL 14.890625 25.203125 \r\nQ 15.484375 15.921875 20.484375 11.0625 \r\nQ 25.484375 6.203125 34.421875 6.203125 \r\nQ 39.59375 6.203125 44.453125 7.46875 \r\nQ 49.3125 8.734375 54.109375 11.28125 \r\nL 54.109375 2.78125 \r\nQ 49.265625 0.734375 44.1875 -0.34375 \r\nQ 39.109375 -1.421875 33.890625 -1.421875 \r\nQ 20.796875 -1.421875 13.15625 6.1875 \r\nQ 5.515625 13.8125 5.515625 26.8125 \r\nQ 5.515625 40.234375 12.765625 48.109375 \r\nQ 20.015625 56 32.328125 56 \r\nQ 43.359375 56 49.78125 48.890625 \r\nQ 56.203125 41.796875 56.203125 29.59375 \r\nz\r\nM 47.21875 32.234375 \r\nQ 47.125 39.59375 43.09375 43.984375 \r\nQ 39.0625 48.390625 32.421875 48.390625 \r\nQ 24.90625 48.390625 20.390625 44.140625 \r\nQ 15.875 39.890625 15.1875 32.171875 \r\nz\r\n\" id=\"DejaVuSans-101\"/>\r\n      <path d=\"M 44.28125 53.078125 \r\nL 44.28125 44.578125 \r\nQ 40.484375 46.53125 36.375 47.5 \r\nQ 32.28125 48.484375 27.875 48.484375 \r\nQ 21.1875 48.484375 17.84375 46.4375 \r\nQ 14.5 44.390625 14.5 40.28125 \r\nQ 14.5 37.15625 16.890625 35.375 \r\nQ 19.28125 33.59375 26.515625 31.984375 \r\nL 29.59375 31.296875 \r\nQ 39.15625 29.25 43.1875 25.515625 \r\nQ 47.21875 21.78125 47.21875 15.09375 \r\nQ 47.21875 7.46875 41.1875 3.015625 \r\nQ 35.15625 -1.421875 24.609375 -1.421875 \r\nQ 20.21875 -1.421875 15.453125 -0.5625 \r\nQ 10.6875 0.296875 5.421875 2 \r\nL 5.421875 11.28125 \r\nQ 10.40625 8.6875 15.234375 7.390625 \r\nQ 20.0625 6.109375 24.8125 6.109375 \r\nQ 31.15625 6.109375 34.5625 8.28125 \r\nQ 37.984375 10.453125 37.984375 14.40625 \r\nQ 37.984375 18.0625 35.515625 20.015625 \r\nQ 33.0625 21.96875 24.703125 23.78125 \r\nL 21.578125 24.515625 \r\nQ 13.234375 26.265625 9.515625 29.90625 \r\nQ 5.8125 33.546875 5.8125 39.890625 \r\nQ 5.8125 47.609375 11.28125 51.796875 \r\nQ 16.75 56 26.8125 56 \r\nQ 31.78125 56 36.171875 55.265625 \r\nQ 40.578125 54.546875 44.28125 53.078125 \r\nz\r\n\" id=\"DejaVuSans-115\"/>\r\n     </defs>\r\n     <g transform=\"translate(439.945312 465.893125)scale(0.12 -0.12)\">\r\n      <use xlink:href=\"#DejaVuSans-65\"/>\r\n      <use x=\"68.408203\" xlink:href=\"#DejaVuSans-103\"/>\r\n      <use x=\"131.884766\" xlink:href=\"#DejaVuSans-101\"/>\r\n      <use x=\"193.408203\" xlink:href=\"#DejaVuSans-115\"/>\r\n     </g>\r\n    </g>\r\n   </g>\r\n   <g id=\"matplotlib.axis_2\">\r\n    <g id=\"ytick_1\">\r\n     <g id=\"line2d_8\">\r\n      <defs>\r\n       <path d=\"M 0 0 \r\nL -3.5 0 \r\n\" id=\"m02a76f2c6a\" style=\"stroke:#000000;stroke-width:0.8;\"/>\r\n      </defs>\r\n      <g>\r\n       <use style=\"stroke:#000000;stroke-width:0.8;\" x=\"36.17625\" xlink:href=\"#m02a76f2c6a\" y=\"436.096875\"/>\r\n      </g>\r\n     </g>\r\n     <g id=\"text_9\">\r\n      <!-- 0 -->\r\n      <g transform=\"translate(22.81375 439.896094)scale(0.1 -0.1)\">\r\n       <use xlink:href=\"#DejaVuSans-48\"/>\r\n      </g>\r\n     </g>\r\n    </g>\r\n    <g id=\"ytick_2\">\r\n     <g id=\"line2d_9\">\r\n      <g>\r\n       <use style=\"stroke:#000000;stroke-width:0.8;\" x=\"36.17625\" xlink:href=\"#m02a76f2c6a\" y=\"349.811161\"/>\r\n      </g>\r\n     </g>\r\n     <g id=\"text_10\">\r\n      <!-- 2 -->\r\n      <g transform=\"translate(22.81375 353.610379)scale(0.1 -0.1)\">\r\n       <use xlink:href=\"#DejaVuSans-50\"/>\r\n      </g>\r\n     </g>\r\n    </g>\r\n    <g id=\"ytick_3\">\r\n     <g id=\"line2d_10\">\r\n      <g>\r\n       <use style=\"stroke:#000000;stroke-width:0.8;\" x=\"36.17625\" xlink:href=\"#m02a76f2c6a\" y=\"263.525446\"/>\r\n      </g>\r\n     </g>\r\n     <g id=\"text_11\">\r\n      <!-- 4 -->\r\n      <g transform=\"translate(22.81375 267.324665)scale(0.1 -0.1)\">\r\n       <use xlink:href=\"#DejaVuSans-52\"/>\r\n      </g>\r\n     </g>\r\n    </g>\r\n    <g id=\"ytick_4\">\r\n     <g id=\"line2d_11\">\r\n      <g>\r\n       <use style=\"stroke:#000000;stroke-width:0.8;\" x=\"36.17625\" xlink:href=\"#m02a76f2c6a\" y=\"177.239732\"/>\r\n      </g>\r\n     </g>\r\n     <g id=\"text_12\">\r\n      <!-- 6 -->\r\n      <g transform=\"translate(22.81375 181.038951)scale(0.1 -0.1)\">\r\n       <use xlink:href=\"#DejaVuSans-54\"/>\r\n      </g>\r\n     </g>\r\n    </g>\r\n    <g id=\"ytick_5\">\r\n     <g id=\"line2d_12\">\r\n      <g>\r\n       <use style=\"stroke:#000000;stroke-width:0.8;\" x=\"36.17625\" xlink:href=\"#m02a76f2c6a\" y=\"90.954018\"/>\r\n      </g>\r\n     </g>\r\n     <g id=\"text_13\">\r\n      <!-- 8 -->\r\n      <g transform=\"translate(22.81375 94.753237)scale(0.1 -0.1)\">\r\n       <use xlink:href=\"#DejaVuSans-56\"/>\r\n      </g>\r\n     </g>\r\n    </g>\r\n    <g id=\"text_14\">\r\n     <!-- Number of Contestants -->\r\n     <defs>\r\n      <path d=\"M 9.8125 72.90625 \r\nL 23.09375 72.90625 \r\nL 55.421875 11.921875 \r\nL 55.421875 72.90625 \r\nL 64.984375 72.90625 \r\nL 64.984375 0 \r\nL 51.703125 0 \r\nL 19.390625 60.984375 \r\nL 19.390625 0 \r\nL 9.8125 0 \r\nz\r\n\" id=\"DejaVuSans-78\"/>\r\n      <path d=\"M 8.5 21.578125 \r\nL 8.5 54.6875 \r\nL 17.484375 54.6875 \r\nL 17.484375 21.921875 \r\nQ 17.484375 14.15625 20.5 10.265625 \r\nQ 23.53125 6.390625 29.59375 6.390625 \r\nQ 36.859375 6.390625 41.078125 11.03125 \r\nQ 45.3125 15.671875 45.3125 23.6875 \r\nL 45.3125 54.6875 \r\nL 54.296875 54.6875 \r\nL 54.296875 0 \r\nL 45.3125 0 \r\nL 45.3125 8.40625 \r\nQ 42.046875 3.421875 37.71875 1 \r\nQ 33.40625 -1.421875 27.6875 -1.421875 \r\nQ 18.265625 -1.421875 13.375 4.4375 \r\nQ 8.5 10.296875 8.5 21.578125 \r\nz\r\nM 31.109375 56 \r\nz\r\n\" id=\"DejaVuSans-117\"/>\r\n      <path d=\"M 52 44.1875 \r\nQ 55.375 50.25 60.0625 53.125 \r\nQ 64.75 56 71.09375 56 \r\nQ 79.640625 56 84.28125 50.015625 \r\nQ 88.921875 44.046875 88.921875 33.015625 \r\nL 88.921875 0 \r\nL 79.890625 0 \r\nL 79.890625 32.71875 \r\nQ 79.890625 40.578125 77.09375 44.375 \r\nQ 74.3125 48.1875 68.609375 48.1875 \r\nQ 61.625 48.1875 57.5625 43.546875 \r\nQ 53.515625 38.921875 53.515625 30.90625 \r\nL 53.515625 0 \r\nL 44.484375 0 \r\nL 44.484375 32.71875 \r\nQ 44.484375 40.625 41.703125 44.40625 \r\nQ 38.921875 48.1875 33.109375 48.1875 \r\nQ 26.21875 48.1875 22.15625 43.53125 \r\nQ 18.109375 38.875 18.109375 30.90625 \r\nL 18.109375 0 \r\nL 9.078125 0 \r\nL 9.078125 54.6875 \r\nL 18.109375 54.6875 \r\nL 18.109375 46.1875 \r\nQ 21.1875 51.21875 25.484375 53.609375 \r\nQ 29.78125 56 35.6875 56 \r\nQ 41.65625 56 45.828125 52.96875 \r\nQ 50 49.953125 52 44.1875 \r\nz\r\n\" id=\"DejaVuSans-109\"/>\r\n      <path d=\"M 48.6875 27.296875 \r\nQ 48.6875 37.203125 44.609375 42.84375 \r\nQ 40.53125 48.484375 33.40625 48.484375 \r\nQ 26.265625 48.484375 22.1875 42.84375 \r\nQ 18.109375 37.203125 18.109375 27.296875 \r\nQ 18.109375 17.390625 22.1875 11.75 \r\nQ 26.265625 6.109375 33.40625 6.109375 \r\nQ 40.53125 6.109375 44.609375 11.75 \r\nQ 48.6875 17.390625 48.6875 27.296875 \r\nz\r\nM 18.109375 46.390625 \r\nQ 20.953125 51.265625 25.265625 53.625 \r\nQ 29.59375 56 35.59375 56 \r\nQ 45.5625 56 51.78125 48.09375 \r\nQ 58.015625 40.1875 58.015625 27.296875 \r\nQ 58.015625 14.40625 51.78125 6.484375 \r\nQ 45.5625 -1.421875 35.59375 -1.421875 \r\nQ 29.59375 -1.421875 25.265625 0.953125 \r\nQ 20.953125 3.328125 18.109375 8.203125 \r\nL 18.109375 0 \r\nL 9.078125 0 \r\nL 9.078125 75.984375 \r\nL 18.109375 75.984375 \r\nz\r\n\" id=\"DejaVuSans-98\"/>\r\n      <path d=\"M 41.109375 46.296875 \r\nQ 39.59375 47.171875 37.8125 47.578125 \r\nQ 36.03125 48 33.890625 48 \r\nQ 26.265625 48 22.1875 43.046875 \r\nQ 18.109375 38.09375 18.109375 28.8125 \r\nL 18.109375 0 \r\nL 9.078125 0 \r\nL 9.078125 54.6875 \r\nL 18.109375 54.6875 \r\nL 18.109375 46.1875 \r\nQ 20.953125 51.171875 25.484375 53.578125 \r\nQ 30.03125 56 36.53125 56 \r\nQ 37.453125 56 38.578125 55.875 \r\nQ 39.703125 55.765625 41.0625 55.515625 \r\nz\r\n\" id=\"DejaVuSans-114\"/>\r\n      <path id=\"DejaVuSans-32\"/>\r\n      <path d=\"M 30.609375 48.390625 \r\nQ 23.390625 48.390625 19.1875 42.75 \r\nQ 14.984375 37.109375 14.984375 27.296875 \r\nQ 14.984375 17.484375 19.15625 11.84375 \r\nQ 23.34375 6.203125 30.609375 6.203125 \r\nQ 37.796875 6.203125 41.984375 11.859375 \r\nQ 46.1875 17.53125 46.1875 27.296875 \r\nQ 46.1875 37.015625 41.984375 42.703125 \r\nQ 37.796875 48.390625 30.609375 48.390625 \r\nz\r\nM 30.609375 56 \r\nQ 42.328125 56 49.015625 48.375 \r\nQ 55.71875 40.765625 55.71875 27.296875 \r\nQ 55.71875 13.875 49.015625 6.21875 \r\nQ 42.328125 -1.421875 30.609375 -1.421875 \r\nQ 18.84375 -1.421875 12.171875 6.21875 \r\nQ 5.515625 13.875 5.515625 27.296875 \r\nQ 5.515625 40.765625 12.171875 48.375 \r\nQ 18.84375 56 30.609375 56 \r\nz\r\n\" id=\"DejaVuSans-111\"/>\r\n      <path d=\"M 37.109375 75.984375 \r\nL 37.109375 68.5 \r\nL 28.515625 68.5 \r\nQ 23.6875 68.5 21.796875 66.546875 \r\nQ 19.921875 64.59375 19.921875 59.515625 \r\nL 19.921875 54.6875 \r\nL 34.71875 54.6875 \r\nL 34.71875 47.703125 \r\nL 19.921875 47.703125 \r\nL 19.921875 0 \r\nL 10.890625 0 \r\nL 10.890625 47.703125 \r\nL 2.296875 47.703125 \r\nL 2.296875 54.6875 \r\nL 10.890625 54.6875 \r\nL 10.890625 58.5 \r\nQ 10.890625 67.625 15.140625 71.796875 \r\nQ 19.390625 75.984375 28.609375 75.984375 \r\nz\r\n\" id=\"DejaVuSans-102\"/>\r\n      <path d=\"M 64.40625 67.28125 \r\nL 64.40625 56.890625 \r\nQ 59.421875 61.53125 53.78125 63.8125 \r\nQ 48.140625 66.109375 41.796875 66.109375 \r\nQ 29.296875 66.109375 22.65625 58.46875 \r\nQ 16.015625 50.828125 16.015625 36.375 \r\nQ 16.015625 21.96875 22.65625 14.328125 \r\nQ 29.296875 6.6875 41.796875 6.6875 \r\nQ 48.140625 6.6875 53.78125 8.984375 \r\nQ 59.421875 11.28125 64.40625 15.921875 \r\nL 64.40625 5.609375 \r\nQ 59.234375 2.09375 53.4375 0.328125 \r\nQ 47.65625 -1.421875 41.21875 -1.421875 \r\nQ 24.65625 -1.421875 15.125 8.703125 \r\nQ 5.609375 18.84375 5.609375 36.375 \r\nQ 5.609375 53.953125 15.125 64.078125 \r\nQ 24.65625 74.21875 41.21875 74.21875 \r\nQ 47.75 74.21875 53.53125 72.484375 \r\nQ 59.328125 70.75 64.40625 67.28125 \r\nz\r\n\" id=\"DejaVuSans-67\"/>\r\n      <path d=\"M 54.890625 33.015625 \r\nL 54.890625 0 \r\nL 45.90625 0 \r\nL 45.90625 32.71875 \r\nQ 45.90625 40.484375 42.875 44.328125 \r\nQ 39.84375 48.1875 33.796875 48.1875 \r\nQ 26.515625 48.1875 22.3125 43.546875 \r\nQ 18.109375 38.921875 18.109375 30.90625 \r\nL 18.109375 0 \r\nL 9.078125 0 \r\nL 9.078125 54.6875 \r\nL 18.109375 54.6875 \r\nL 18.109375 46.1875 \r\nQ 21.34375 51.125 25.703125 53.5625 \r\nQ 30.078125 56 35.796875 56 \r\nQ 45.21875 56 50.046875 50.171875 \r\nQ 54.890625 44.34375 54.890625 33.015625 \r\nz\r\n\" id=\"DejaVuSans-110\"/>\r\n      <path d=\"M 18.3125 70.21875 \r\nL 18.3125 54.6875 \r\nL 36.8125 54.6875 \r\nL 36.8125 47.703125 \r\nL 18.3125 47.703125 \r\nL 18.3125 18.015625 \r\nQ 18.3125 11.328125 20.140625 9.421875 \r\nQ 21.96875 7.515625 27.59375 7.515625 \r\nL 36.8125 7.515625 \r\nL 36.8125 0 \r\nL 27.59375 0 \r\nQ 17.1875 0 13.234375 3.875 \r\nQ 9.28125 7.765625 9.28125 18.015625 \r\nL 9.28125 47.703125 \r\nL 2.6875 47.703125 \r\nL 2.6875 54.6875 \r\nL 9.28125 54.6875 \r\nL 9.28125 70.21875 \r\nz\r\n\" id=\"DejaVuSans-116\"/>\r\n      <path d=\"M 34.28125 27.484375 \r\nQ 23.390625 27.484375 19.1875 25 \r\nQ 14.984375 22.515625 14.984375 16.5 \r\nQ 14.984375 11.71875 18.140625 8.90625 \r\nQ 21.296875 6.109375 26.703125 6.109375 \r\nQ 34.1875 6.109375 38.703125 11.40625 \r\nQ 43.21875 16.703125 43.21875 25.484375 \r\nL 43.21875 27.484375 \r\nz\r\nM 52.203125 31.203125 \r\nL 52.203125 0 \r\nL 43.21875 0 \r\nL 43.21875 8.296875 \r\nQ 40.140625 3.328125 35.546875 0.953125 \r\nQ 30.953125 -1.421875 24.3125 -1.421875 \r\nQ 15.921875 -1.421875 10.953125 3.296875 \r\nQ 6 8.015625 6 15.921875 \r\nQ 6 25.140625 12.171875 29.828125 \r\nQ 18.359375 34.515625 30.609375 34.515625 \r\nL 43.21875 34.515625 \r\nL 43.21875 35.40625 \r\nQ 43.21875 41.609375 39.140625 45 \r\nQ 35.0625 48.390625 27.6875 48.390625 \r\nQ 23 48.390625 18.546875 47.265625 \r\nQ 14.109375 46.140625 10.015625 43.890625 \r\nL 10.015625 52.203125 \r\nQ 14.9375 54.109375 19.578125 55.046875 \r\nQ 24.21875 56 28.609375 56 \r\nQ 40.484375 56 46.34375 49.84375 \r\nQ 52.203125 43.703125 52.203125 31.203125 \r\nz\r\n\" id=\"DejaVuSans-97\"/>\r\n     </defs>\r\n     <g transform=\"translate(16.318125 302.089687)rotate(-90)scale(0.12 -0.12)\">\r\n      <use xlink:href=\"#DejaVuSans-78\"/>\r\n      <use x=\"74.804688\" xlink:href=\"#DejaVuSans-117\"/>\r\n      <use x=\"138.183594\" xlink:href=\"#DejaVuSans-109\"/>\r\n      <use x=\"235.595703\" xlink:href=\"#DejaVuSans-98\"/>\r\n      <use x=\"299.072266\" xlink:href=\"#DejaVuSans-101\"/>\r\n      <use x=\"360.595703\" xlink:href=\"#DejaVuSans-114\"/>\r\n      <use x=\"401.708984\" xlink:href=\"#DejaVuSans-32\"/>\r\n      <use x=\"433.496094\" xlink:href=\"#DejaVuSans-111\"/>\r\n      <use x=\"494.677734\" xlink:href=\"#DejaVuSans-102\"/>\r\n      <use x=\"529.882812\" xlink:href=\"#DejaVuSans-32\"/>\r\n      <use x=\"561.669922\" xlink:href=\"#DejaVuSans-67\"/>\r\n      <use x=\"631.494141\" xlink:href=\"#DejaVuSans-111\"/>\r\n      <use x=\"692.675781\" xlink:href=\"#DejaVuSans-110\"/>\r\n      <use x=\"756.054688\" xlink:href=\"#DejaVuSans-116\"/>\r\n      <use x=\"795.263672\" xlink:href=\"#DejaVuSans-101\"/>\r\n      <use x=\"856.787109\" xlink:href=\"#DejaVuSans-115\"/>\r\n      <use x=\"908.886719\" xlink:href=\"#DejaVuSans-116\"/>\r\n      <use x=\"948.095703\" xlink:href=\"#DejaVuSans-97\"/>\r\n      <use x=\"1009.375\" xlink:href=\"#DejaVuSans-110\"/>\r\n      <use x=\"1072.753906\" xlink:href=\"#DejaVuSans-116\"/>\r\n      <use x=\"1111.962891\" xlink:href=\"#DejaVuSans-115\"/>\r\n     </g>\r\n    </g>\r\n   </g>\r\n   <g id=\"patch_66\">\r\n    <path d=\"M 36.17625 436.096875 \r\nL 36.17625 28.396875 \r\n\" style=\"fill:none;stroke:#000000;stroke-linecap:square;stroke-linejoin:miter;stroke-width:0.8;\"/>\r\n   </g>\r\n   <g id=\"patch_67\">\r\n    <path d=\"M 873.17625 436.096875 \r\nL 873.17625 28.396875 \r\n\" style=\"fill:none;stroke:#000000;stroke-linecap:square;stroke-linejoin:miter;stroke-width:0.8;\"/>\r\n   </g>\r\n   <g id=\"patch_68\">\r\n    <path d=\"M 36.17625 436.096875 \r\nL 873.17625 436.096875 \r\n\" style=\"fill:none;stroke:#000000;stroke-linecap:square;stroke-linejoin:miter;stroke-width:0.8;\"/>\r\n   </g>\r\n   <g id=\"patch_69\">\r\n    <path d=\"M 36.17625 28.396875 \r\nL 873.17625 28.396875 \r\n\" style=\"fill:none;stroke:#000000;stroke-linecap:square;stroke-linejoin:miter;stroke-width:0.8;\"/>\r\n   </g>\r\n   <g id=\"text_15\">\r\n    <!-- Number of Contestants at Each Age -->\r\n    <defs>\r\n     <path d=\"M 9.8125 72.90625 \r\nL 55.90625 72.90625 \r\nL 55.90625 64.59375 \r\nL 19.671875 64.59375 \r\nL 19.671875 43.015625 \r\nL 54.390625 43.015625 \r\nL 54.390625 34.71875 \r\nL 19.671875 34.71875 \r\nL 19.671875 8.296875 \r\nL 56.78125 8.296875 \r\nL 56.78125 0 \r\nL 9.8125 0 \r\nz\r\n\" id=\"DejaVuSans-69\"/>\r\n     <path d=\"M 48.78125 52.59375 \r\nL 48.78125 44.1875 \r\nQ 44.96875 46.296875 41.140625 47.34375 \r\nQ 37.3125 48.390625 33.40625 48.390625 \r\nQ 24.65625 48.390625 19.8125 42.84375 \r\nQ 14.984375 37.3125 14.984375 27.296875 \r\nQ 14.984375 17.28125 19.8125 11.734375 \r\nQ 24.65625 6.203125 33.40625 6.203125 \r\nQ 37.3125 6.203125 41.140625 7.25 \r\nQ 44.96875 8.296875 48.78125 10.40625 \r\nL 48.78125 2.09375 \r\nQ 45.015625 0.34375 40.984375 -0.53125 \r\nQ 36.96875 -1.421875 32.421875 -1.421875 \r\nQ 20.0625 -1.421875 12.78125 6.34375 \r\nQ 5.515625 14.109375 5.515625 27.296875 \r\nQ 5.515625 40.671875 12.859375 48.328125 \r\nQ 20.21875 56 33.015625 56 \r\nQ 37.15625 56 41.109375 55.140625 \r\nQ 45.0625 54.296875 48.78125 52.59375 \r\nz\r\n\" id=\"DejaVuSans-99\"/>\r\n     <path d=\"M 54.890625 33.015625 \r\nL 54.890625 0 \r\nL 45.90625 0 \r\nL 45.90625 32.71875 \r\nQ 45.90625 40.484375 42.875 44.328125 \r\nQ 39.84375 48.1875 33.796875 48.1875 \r\nQ 26.515625 48.1875 22.3125 43.546875 \r\nQ 18.109375 38.921875 18.109375 30.90625 \r\nL 18.109375 0 \r\nL 9.078125 0 \r\nL 9.078125 75.984375 \r\nL 18.109375 75.984375 \r\nL 18.109375 46.1875 \r\nQ 21.34375 51.125 25.703125 53.5625 \r\nQ 30.078125 56 35.796875 56 \r\nQ 45.21875 56 50.046875 50.171875 \r\nQ 54.890625 44.34375 54.890625 33.015625 \r\nz\r\n\" id=\"DejaVuSans-104\"/>\r\n    </defs>\r\n    <g transform=\"translate(275.06375 22.396875)scale(0.2 -0.2)\">\r\n     <use xlink:href=\"#DejaVuSans-78\"/>\r\n     <use x=\"74.804688\" xlink:href=\"#DejaVuSans-117\"/>\r\n     <use x=\"138.183594\" xlink:href=\"#DejaVuSans-109\"/>\r\n     <use x=\"235.595703\" xlink:href=\"#DejaVuSans-98\"/>\r\n     <use x=\"299.072266\" xlink:href=\"#DejaVuSans-101\"/>\r\n     <use x=\"360.595703\" xlink:href=\"#DejaVuSans-114\"/>\r\n     <use x=\"401.708984\" xlink:href=\"#DejaVuSans-32\"/>\r\n     <use x=\"433.496094\" xlink:href=\"#DejaVuSans-111\"/>\r\n     <use x=\"494.677734\" xlink:href=\"#DejaVuSans-102\"/>\r\n     <use x=\"529.882812\" xlink:href=\"#DejaVuSans-32\"/>\r\n     <use x=\"561.669922\" xlink:href=\"#DejaVuSans-67\"/>\r\n     <use x=\"631.494141\" xlink:href=\"#DejaVuSans-111\"/>\r\n     <use x=\"692.675781\" xlink:href=\"#DejaVuSans-110\"/>\r\n     <use x=\"756.054688\" xlink:href=\"#DejaVuSans-116\"/>\r\n     <use x=\"795.263672\" xlink:href=\"#DejaVuSans-101\"/>\r\n     <use x=\"856.787109\" xlink:href=\"#DejaVuSans-115\"/>\r\n     <use x=\"908.886719\" xlink:href=\"#DejaVuSans-116\"/>\r\n     <use x=\"948.095703\" xlink:href=\"#DejaVuSans-97\"/>\r\n     <use x=\"1009.375\" xlink:href=\"#DejaVuSans-110\"/>\r\n     <use x=\"1072.753906\" xlink:href=\"#DejaVuSans-116\"/>\r\n     <use x=\"1111.962891\" xlink:href=\"#DejaVuSans-115\"/>\r\n     <use x=\"1164.0625\" xlink:href=\"#DejaVuSans-32\"/>\r\n     <use x=\"1195.849609\" xlink:href=\"#DejaVuSans-97\"/>\r\n     <use x=\"1257.128906\" xlink:href=\"#DejaVuSans-116\"/>\r\n     <use x=\"1296.337891\" xlink:href=\"#DejaVuSans-32\"/>\r\n     <use x=\"1328.125\" xlink:href=\"#DejaVuSans-69\"/>\r\n     <use x=\"1391.308594\" xlink:href=\"#DejaVuSans-97\"/>\r\n     <use x=\"1452.587891\" xlink:href=\"#DejaVuSans-99\"/>\r\n     <use x=\"1507.568359\" xlink:href=\"#DejaVuSans-104\"/>\r\n     <use x=\"1570.947266\" xlink:href=\"#DejaVuSans-32\"/>\r\n     <use x=\"1602.734375\" xlink:href=\"#DejaVuSans-65\"/>\r\n     <use x=\"1671.142578\" xlink:href=\"#DejaVuSans-103\"/>\r\n     <use x=\"1734.619141\" xlink:href=\"#DejaVuSans-101\"/>\r\n    </g>\r\n   </g>\r\n   <g id=\"legend_1\">\r\n    <g id=\"patch_70\">\r\n     <path d=\"M 786.295 139.14375 \r\nL 866.17625 139.14375 \r\nQ 868.17625 139.14375 868.17625 137.14375 \r\nL 868.17625 35.396875 \r\nQ 868.17625 33.396875 866.17625 33.396875 \r\nL 786.295 33.396875 \r\nQ 784.295 33.396875 784.295 35.396875 \r\nL 784.295 137.14375 \r\nQ 784.295 139.14375 786.295 139.14375 \r\nz\r\n\" style=\"fill:#ffffff;opacity:0.8;stroke:#cccccc;stroke-linejoin:miter;\"/>\r\n    </g>\r\n    <g id=\"patch_71\">\r\n     <path d=\"M 788.295 44.995312 \r\nL 808.295 44.995312 \r\nL 808.295 37.995312 \r\nL 788.295 37.995312 \r\nz\r\n\"/>\r\n    </g>\r\n    <g id=\"text_16\">\r\n     <!-- season18 -->\r\n     <defs>\r\n      <path d=\"M 12.40625 8.296875 \r\nL 28.515625 8.296875 \r\nL 28.515625 63.921875 \r\nL 10.984375 60.40625 \r\nL 10.984375 69.390625 \r\nL 28.421875 72.90625 \r\nL 38.28125 72.90625 \r\nL 38.28125 8.296875 \r\nL 54.390625 8.296875 \r\nL 54.390625 0 \r\nL 12.40625 0 \r\nz\r\n\" id=\"DejaVuSans-49\"/>\r\n     </defs>\r\n     <g transform=\"translate(816.295 44.995312)scale(0.1 -0.1)\">\r\n      <use xlink:href=\"#DejaVuSans-115\"/>\r\n      <use x=\"52.099609\" xlink:href=\"#DejaVuSans-101\"/>\r\n      <use x=\"113.623047\" xlink:href=\"#DejaVuSans-97\"/>\r\n      <use x=\"174.902344\" xlink:href=\"#DejaVuSans-115\"/>\r\n      <use x=\"227.001953\" xlink:href=\"#DejaVuSans-111\"/>\r\n      <use x=\"288.183594\" xlink:href=\"#DejaVuSans-110\"/>\r\n      <use x=\"351.5625\" xlink:href=\"#DejaVuSans-49\"/>\r\n      <use x=\"415.185547\" xlink:href=\"#DejaVuSans-56\"/>\r\n     </g>\r\n    </g>\r\n    <g id=\"patch_72\">\r\n     <path d=\"M 788.295 59.673437 \r\nL 808.295 59.673437 \r\nL 808.295 52.673437 \r\nL 788.295 52.673437 \r\nz\r\n\" style=\"fill:#ff00ff;\"/>\r\n    </g>\r\n    <g id=\"text_17\">\r\n     <!-- season19 -->\r\n     <defs>\r\n      <path d=\"M 10.984375 1.515625 \r\nL 10.984375 10.5 \r\nQ 14.703125 8.734375 18.5 7.8125 \r\nQ 22.3125 6.890625 25.984375 6.890625 \r\nQ 35.75 6.890625 40.890625 13.453125 \r\nQ 46.046875 20.015625 46.78125 33.40625 \r\nQ 43.953125 29.203125 39.59375 26.953125 \r\nQ 35.25 24.703125 29.984375 24.703125 \r\nQ 19.046875 24.703125 12.671875 31.3125 \r\nQ 6.296875 37.9375 6.296875 49.421875 \r\nQ 6.296875 60.640625 12.9375 67.421875 \r\nQ 19.578125 74.21875 30.609375 74.21875 \r\nQ 43.265625 74.21875 49.921875 64.515625 \r\nQ 56.59375 54.828125 56.59375 36.375 \r\nQ 56.59375 19.140625 48.40625 8.859375 \r\nQ 40.234375 -1.421875 26.421875 -1.421875 \r\nQ 22.703125 -1.421875 18.890625 -0.6875 \r\nQ 15.09375 0.046875 10.984375 1.515625 \r\nz\r\nM 30.609375 32.421875 \r\nQ 37.25 32.421875 41.125 36.953125 \r\nQ 45.015625 41.5 45.015625 49.421875 \r\nQ 45.015625 57.28125 41.125 61.84375 \r\nQ 37.25 66.40625 30.609375 66.40625 \r\nQ 23.96875 66.40625 20.09375 61.84375 \r\nQ 16.21875 57.28125 16.21875 49.421875 \r\nQ 16.21875 41.5 20.09375 36.953125 \r\nQ 23.96875 32.421875 30.609375 32.421875 \r\nz\r\n\" id=\"DejaVuSans-57\"/>\r\n     </defs>\r\n     <g transform=\"translate(816.295 59.673437)scale(0.1 -0.1)\">\r\n      <use xlink:href=\"#DejaVuSans-115\"/>\r\n      <use x=\"52.099609\" xlink:href=\"#DejaVuSans-101\"/>\r\n      <use x=\"113.623047\" xlink:href=\"#DejaVuSans-97\"/>\r\n      <use x=\"174.902344\" xlink:href=\"#DejaVuSans-115\"/>\r\n      <use x=\"227.001953\" xlink:href=\"#DejaVuSans-111\"/>\r\n      <use x=\"288.183594\" xlink:href=\"#DejaVuSans-110\"/>\r\n      <use x=\"351.5625\" xlink:href=\"#DejaVuSans-49\"/>\r\n      <use x=\"415.185547\" xlink:href=\"#DejaVuSans-57\"/>\r\n     </g>\r\n    </g>\r\n    <g id=\"patch_73\">\r\n     <path d=\"M 788.295 74.351562 \r\nL 808.295 74.351562 \r\nL 808.295 67.351562 \r\nL 788.295 67.351562 \r\nz\r\n\" style=\"fill:#191970;\"/>\r\n    </g>\r\n    <g id=\"text_18\">\r\n     <!-- season20 -->\r\n     <g transform=\"translate(816.295 74.351562)scale(0.1 -0.1)\">\r\n      <use xlink:href=\"#DejaVuSans-115\"/>\r\n      <use x=\"52.099609\" xlink:href=\"#DejaVuSans-101\"/>\r\n      <use x=\"113.623047\" xlink:href=\"#DejaVuSans-97\"/>\r\n      <use x=\"174.902344\" xlink:href=\"#DejaVuSans-115\"/>\r\n      <use x=\"227.001953\" xlink:href=\"#DejaVuSans-111\"/>\r\n      <use x=\"288.183594\" xlink:href=\"#DejaVuSans-110\"/>\r\n      <use x=\"351.5625\" xlink:href=\"#DejaVuSans-50\"/>\r\n      <use x=\"415.185547\" xlink:href=\"#DejaVuSans-48\"/>\r\n     </g>\r\n    </g>\r\n    <g id=\"patch_74\">\r\n     <path d=\"M 788.295 89.029687 \r\nL 808.295 89.029687 \r\nL 808.295 82.029687 \r\nL 788.295 82.029687 \r\nz\r\n\" style=\"fill:#ff0000;\"/>\r\n    </g>\r\n    <g id=\"text_19\">\r\n     <!-- season21 -->\r\n     <g transform=\"translate(816.295 89.029687)scale(0.1 -0.1)\">\r\n      <use xlink:href=\"#DejaVuSans-115\"/>\r\n      <use x=\"52.099609\" xlink:href=\"#DejaVuSans-101\"/>\r\n      <use x=\"113.623047\" xlink:href=\"#DejaVuSans-97\"/>\r\n      <use x=\"174.902344\" xlink:href=\"#DejaVuSans-115\"/>\r\n      <use x=\"227.001953\" xlink:href=\"#DejaVuSans-111\"/>\r\n      <use x=\"288.183594\" xlink:href=\"#DejaVuSans-110\"/>\r\n      <use x=\"351.5625\" xlink:href=\"#DejaVuSans-50\"/>\r\n      <use x=\"415.185547\" xlink:href=\"#DejaVuSans-49\"/>\r\n     </g>\r\n    </g>\r\n    <g id=\"patch_75\">\r\n     <path d=\"M 788.295 103.707812 \r\nL 808.295 103.707812 \r\nL 808.295 96.707812 \r\nL 788.295 96.707812 \r\nz\r\n\" style=\"fill:#ffff00;\"/>\r\n    </g>\r\n    <g id=\"text_20\">\r\n     <!-- season22 -->\r\n     <g transform=\"translate(816.295 103.707812)scale(0.1 -0.1)\">\r\n      <use xlink:href=\"#DejaVuSans-115\"/>\r\n      <use x=\"52.099609\" xlink:href=\"#DejaVuSans-101\"/>\r\n      <use x=\"113.623047\" xlink:href=\"#DejaVuSans-97\"/>\r\n      <use x=\"174.902344\" xlink:href=\"#DejaVuSans-115\"/>\r\n      <use x=\"227.001953\" xlink:href=\"#DejaVuSans-111\"/>\r\n      <use x=\"288.183594\" xlink:href=\"#DejaVuSans-110\"/>\r\n      <use x=\"351.5625\" xlink:href=\"#DejaVuSans-50\"/>\r\n      <use x=\"415.185547\" xlink:href=\"#DejaVuSans-50\"/>\r\n     </g>\r\n    </g>\r\n    <g id=\"patch_76\">\r\n     <path d=\"M 788.295 118.385937 \r\nL 808.295 118.385937 \r\nL 808.295 111.385937 \r\nL 788.295 111.385937 \r\nz\r\n\" style=\"fill:#ffa500;\"/>\r\n    </g>\r\n    <g id=\"text_21\">\r\n     <!-- season23 -->\r\n     <g transform=\"translate(816.295 118.385937)scale(0.1 -0.1)\">\r\n      <use xlink:href=\"#DejaVuSans-115\"/>\r\n      <use x=\"52.099609\" xlink:href=\"#DejaVuSans-101\"/>\r\n      <use x=\"113.623047\" xlink:href=\"#DejaVuSans-97\"/>\r\n      <use x=\"174.902344\" xlink:href=\"#DejaVuSans-115\"/>\r\n      <use x=\"227.001953\" xlink:href=\"#DejaVuSans-111\"/>\r\n      <use x=\"288.183594\" xlink:href=\"#DejaVuSans-110\"/>\r\n      <use x=\"351.5625\" xlink:href=\"#DejaVuSans-50\"/>\r\n      <use x=\"415.185547\" xlink:href=\"#DejaVuSans-51\"/>\r\n     </g>\r\n    </g>\r\n    <g id=\"patch_77\">\r\n     <path d=\"M 788.295 133.064062 \r\nL 808.295 133.064062 \r\nL 808.295 126.064062 \r\nL 788.295 126.064062 \r\nz\r\n\" style=\"fill:#008000;\"/>\r\n    </g>\r\n    <g id=\"text_22\">\r\n     <!-- season24 -->\r\n     <g transform=\"translate(816.295 133.064062)scale(0.1 -0.1)\">\r\n      <use xlink:href=\"#DejaVuSans-115\"/>\r\n      <use x=\"52.099609\" xlink:href=\"#DejaVuSans-101\"/>\r\n      <use x=\"113.623047\" xlink:href=\"#DejaVuSans-97\"/>\r\n      <use x=\"174.902344\" xlink:href=\"#DejaVuSans-115\"/>\r\n      <use x=\"227.001953\" xlink:href=\"#DejaVuSans-111\"/>\r\n      <use x=\"288.183594\" xlink:href=\"#DejaVuSans-110\"/>\r\n      <use x=\"351.5625\" xlink:href=\"#DejaVuSans-50\"/>\r\n      <use x=\"415.185547\" xlink:href=\"#DejaVuSans-52\"/>\r\n     </g>\r\n    </g>\r\n   </g>\r\n  </g>\r\n </g>\r\n <defs>\r\n  <clipPath id=\"p767571bbc6\">\r\n   <rect height=\"407.7\" width=\"837\" x=\"36.17625\" y=\"28.396875\"/>\r\n  </clipPath>\r\n </defs>\r\n</svg>\r\n",
      "image/png": "[encoded data removed]"
     },
     "metadata": {
      "needs_background": "light"
     }
    },
    {
     "output_type": "display_data",
     "data": {
      "text/plain": "<Figure size 432x288 with 0 Axes>"
     },
     "metadata": {}
    }
   ],
   "source": [
    "import numpy as np\n",
    "\n",
    "fig, ax = plt.subplots(figsize = (15, 7.5))\n",
    "\n",
    "x = [x for x in df_18.index]\n",
    "x1 = [x for x in df_19.index]\n",
    "x2 = [x for x in df_20.index]\n",
    "x3 = [x for x in df_21.index]\n",
    "x4 = [x for x in df_22.index]\n",
    "x5 = [x for x in df_23.index]\n",
    "x6 = [x for x in df_24.index]\n",
    "\n",
    "y = list(df_18.values)\n",
    "y1 = list(df_19.values)\n",
    "y2 = list(df_20.values)\n",
    "y3 = list(df_21.values)\n",
    "y4 = list(df_22.values)\n",
    "y5 = list(df_23.values)\n",
    "y6 = list(df_24.values)\n",
    "\n",
    "w = .2\n",
    "plt.bar(np.array(x), y, w, label='Season 19', color = 'black')\n",
    "plt.bar(np.array(x1) + w, y1, w, label=\"Season 20\", color = 'magenta')\n",
    "plt.bar(np.array(x2) + w*2, y2, w, label=\"Season 21\", color = 'midnightblue')\n",
    "plt.bar(np.array(x3) + w*3, y3, w, label=\"Season 22\", color = 'red')\n",
    "plt.bar(np.array(x4) + w*4, y4, w, label=\"Season 23\", color = 'yellow')\n",
    "plt.bar(np.array(x5) + w*5, y5, w, label=\"Season 24\", color = 'orange')\n",
    "plt.bar(np.array(x6) + w*6, y6, w, label=\"Season 25\", color = 'green')\n",
    "ax.set_xlabel('Ages', fontsize = 12)\n",
    "ax.set_ylabel('Number of Contestants', fontsize = 12)\n",
    "ax.set_title('Number of Contestants at Each Age', fontsize = 20)\n",
    "# plt.xticks(x + w*.5, ['20', '21', '22', '23', '24', '25', '26', '27', '28', '29', '30', '31', '32', '33', '34', '35'], fontsize = 11)\n",
    "plt.yticks()\n",
    "plt.legend(['season18', 'season19', 'season20', 'season21', 'season22', 'season23', 'season24'])\n",
    "\n",
    "plt.show()\n",
    "\n",
    "plt.savefig('extendedbachelor')"
   ]
  },
  {
   "cell_type": "code",
   "execution_count": 5,
   "metadata": {},
   "outputs": [],
   "source": [
    "bachelorette = pd.read_csv('../data/realbachelorette.csv')"
   ]
  },
  {
   "cell_type": "code",
   "execution_count": 6,
   "metadata": {},
   "outputs": [
    {
     "output_type": "execute_result",
     "data": {
      "text/plain": [
       "              Name   Age                 Hometown                  Occupation  \\\n",
       "0    Jordan Rodgers   27        Chico, California      Former Pro Quarterback   \n",
       "1      Robert Hayes   27   St. Augustine, Florida  Former Competitive Swimmer   \n",
       "2      Chase McNary   27    Castle Rock, Colorado           Medical Sales Rep   \n",
       "3         Luke Pell   31            Burnet, Texas                 War Veteran   \n",
       "4      James Taylor   29         Denver, Colorado           Singer Songwriter   \n",
       "..              ...  ...                      ...                         ...   \n",
       "141   Jordan Manier   30       Dearborn, Michigan     Cyber Security Engineer   \n",
       "142      Mike Tobin   38         Calgary, Alberta       Digital Media Adviser   \n",
       "143   Page Pressley   37    Stanta Fe, New Mexico                        Chef   \n",
       "144     Robby Stahl   31  St. Pete Beach, Florida            Insurance Broker   \n",
       "145  Tyler Cottrill   27  Gassaway, West Virginia                      Lawyer   \n",
       "\n",
       "     Season  \n",
       "0        12  \n",
       "1        12  \n",
       "2        12  \n",
       "3        12  \n",
       "4        12  \n",
       "..      ...  \n",
       "141      16  \n",
       "142      16  \n",
       "143      16  \n",
       "144      16  \n",
       "145      16  \n",
       "\n",
       "[146 rows x 5 columns]"
      ],
      "text/html": "<div>\n<style scoped>\n    .dataframe tbody tr th:only-of-type {\n        vertical-align: middle;\n    }\n\n    .dataframe tbody tr th {\n        vertical-align: top;\n    }\n\n    .dataframe thead th {\n        text-align: right;\n    }\n</style>\n<table border=\"1\" class=\"dataframe\">\n  <thead>\n    <tr style=\"text-align: right;\">\n      <th></th>\n      <th>Name</th>\n      <th>Age</th>\n      <th>Hometown</th>\n      <th>Occupation</th>\n      <th>Season</th>\n    </tr>\n  </thead>\n  <tbody>\n    <tr>\n      <th>0</th>\n      <td>Jordan Rodgers</td>\n      <td>27</td>\n      <td>Chico, California</td>\n      <td>Former Pro Quarterback</td>\n      <td>12</td>\n    </tr>\n    <tr>\n      <th>1</th>\n      <td>Robert Hayes</td>\n      <td>27</td>\n      <td>St. Augustine, Florida</td>\n      <td>Former Competitive Swimmer</td>\n      <td>12</td>\n    </tr>\n    <tr>\n      <th>2</th>\n      <td>Chase McNary</td>\n      <td>27</td>\n      <td>Castle Rock, Colorado</td>\n      <td>Medical Sales Rep</td>\n      <td>12</td>\n    </tr>\n    <tr>\n      <th>3</th>\n      <td>Luke Pell</td>\n      <td>31</td>\n      <td>Burnet, Texas</td>\n      <td>War Veteran</td>\n      <td>12</td>\n    </tr>\n    <tr>\n      <th>4</th>\n      <td>James Taylor</td>\n      <td>29</td>\n      <td>Denver, Colorado</td>\n      <td>Singer Songwriter</td>\n      <td>12</td>\n    </tr>\n    <tr>\n      <th>...</th>\n      <td>...</td>\n      <td>...</td>\n      <td>...</td>\n      <td>...</td>\n      <td>...</td>\n    </tr>\n    <tr>\n      <th>141</th>\n      <td>Jordan Manier</td>\n      <td>30</td>\n      <td>Dearborn, Michigan</td>\n      <td>Cyber Security Engineer</td>\n      <td>16</td>\n    </tr>\n    <tr>\n      <th>142</th>\n      <td>Mike Tobin</td>\n      <td>38</td>\n      <td>Calgary, Alberta</td>\n      <td>Digital Media Adviser</td>\n      <td>16</td>\n    </tr>\n    <tr>\n      <th>143</th>\n      <td>Page Pressley</td>\n      <td>37</td>\n      <td>Stanta Fe, New Mexico</td>\n      <td>Chef</td>\n      <td>16</td>\n    </tr>\n    <tr>\n      <th>144</th>\n      <td>Robby Stahl</td>\n      <td>31</td>\n      <td>St. Pete Beach, Florida</td>\n      <td>Insurance Broker</td>\n      <td>16</td>\n    </tr>\n    <tr>\n      <th>145</th>\n      <td>Tyler Cottrill</td>\n      <td>27</td>\n      <td>Gassaway, West Virginia</td>\n      <td>Lawyer</td>\n      <td>16</td>\n    </tr>\n  </tbody>\n</table>\n<p>146 rows × 5 columns</p>\n</div>"
     },
     "metadata": {},
     "execution_count": 6
    }
   ],
   "source": [
    "bachelorette"
   ]
  },
  {
   "cell_type": "code",
   "execution_count": null,
   "metadata": {},
   "outputs": [],
   "source": []
  }
 ]
}