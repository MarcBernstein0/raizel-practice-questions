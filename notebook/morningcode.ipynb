{
 "metadata": {
  "language_info": {
   "codemirror_mode": {
    "name": "ipython",
    "version": 3
   },
   "file_extension": ".py",
   "mimetype": "text/x-python",
   "name": "python",
   "nbconvert_exporter": "python",
   "pygments_lexer": "ipython3",
   "version": "3.8.3-final"
  },
  "orig_nbformat": 2,
  "kernelspec": {
   "name": "learn-env",
   "display_name": "learn-env"
  }
 },
 "nbformat": 4,
 "nbformat_minor": 2,
 "cells": [
  {
   "cell_type": "code",
   "execution_count": 2,
   "metadata": {},
   "outputs": [],
   "source": [
    "# Test.describe(\"Basic tests\")\n",
    "# Test.assert_equals(mutually_exclusive([[3,0.4],[4,0.1],[1,0.01],[2,0.09],[5,0.2],[6,0.1]],1,6), None, \"Check the total probability\")\n",
    "# Test.assert_equals(mutually_exclusive([[1,0.1],[2,0.14],[3,0.16],[4,0.2],[5,0.15],[6,0.25]],1,4), \"0.30\", \"Expected 0.30\")\n",
    "# Test.assert_equals(mutually_exclusive([[1,0.6],[2,0.1001],[3,0.0999],[4,0.1],[5,0.05],[6,0.05]],3,4), \"0.20\", \"Expected 0.20\")\n",
    "# Test.assert_equals(mutually_exclusive([[6,0.25],[1,0.1],[3,0.16],[2,0.14],[5,0.15],[4,0.2]],1,6), \"0.35\", \"Expected 0.35\")\n",
    "# Test.assert_equals(mutually_exclusive([[3,0.4],[4,0.1],[1,0.01],[2,0.09],[5,0.2],[6,0.2]],1,6), \"0.21\", \"Expected 0.21\")"
   ]
  },
  {
   "cell_type": "code",
   "execution_count": 11,
   "metadata": {},
   "outputs": [],
   "source": [
    "def mutually_exclusive(dice, call1, call2):\n",
    "    if sum ([i[1] for i in dice]) == 1:\n",
    "        prob = 0\n",
    "        for di in dice:\n",
    "            if di[0] == call1 or di[0] == call2:\n",
    "                prob += di[1]\n",
    "        return \"{:.2f}\".format(prob)\n",
    "    else:\n",
    "        return None"
   ]
  },
  {
   "cell_type": "code",
   "execution_count": 12,
   "metadata": {},
   "outputs": [
    {
     "output_type": "stream",
     "name": "stdout",
     "text": [
      "None\n"
     ]
    }
   ],
   "source": [
    "print(mutually_exclusive([[3,0.4],[4,0.1],[1,0.01],[2,0.09],[5,0.2],[6,0.1]],1,6))"
   ]
  },
  {
   "cell_type": "code",
   "execution_count": 13,
   "metadata": {},
   "outputs": [
    {
     "output_type": "stream",
     "name": "stdout",
     "text": [
      "0.30\n"
     ]
    }
   ],
   "source": [
    "print(mutually_exclusive([[1,0.1],[2,0.14],[3,0.16],[4,0.2],[5,0.15],[6,0.25]],1,4))"
   ]
  },
  {
   "cell_type": "code",
   "execution_count": 8,
   "metadata": {},
   "outputs": [],
   "source": [
    "# def mutually_exclusive(dice, call1, call2):\n",
    "#     if sum([die[1] for die in dice]) != 1:\n",
    "#         return None\n",
    "#     return \"{:.2f}\".format(round(dice.index(call1)[1] + dice.index(call2)[1]), 2)"
   ]
  },
  {
   "cell_type": "code",
   "execution_count": 1,
   "metadata": {},
   "outputs": [],
   "source": [
    "\n",
    "# For this problem, we'll round an int value up to the next multiple of 10 if its rightmost digit is 5 or more, so 15 rounds up to 20. Alternately, round down to the previous multiple of 10 if its rightmost digit is less than 5, so 12 rounds down to 10. Given 3 ints, a b c, return the sum of their rounded values. To avoid code repetition, write a separate helper \"def round10(num):\" and call it 3 times. Write the helper entirely below and at the same indent level as round_sum()."
   ]
  },
  {
   "cell_type": "code",
   "execution_count": 2,
   "metadata": {},
   "outputs": [],
   "source": [
    "def round_sum(a, b, c):\n",
    "  return round10(a) + round10(b) + round10(c)\n",
    "def round10(num):\n",
    "  if num % 10 >= 5:\n",
    "    return num + 10 - num % 10\n",
    "  return num - num % 10  "
   ]
  },
  {
   "cell_type": "code",
   "execution_count": 3,
   "metadata": {},
   "outputs": [
    {
     "output_type": "execute_result",
     "data": {
      "text/plain": [
       "60"
      ]
     },
     "metadata": {},
     "execution_count": 3
    }
   ],
   "source": [
    "round_sum(16, 17, 18)"
   ]
  },
  {
   "cell_type": "code",
   "execution_count": 4,
   "metadata": {},
   "outputs": [
    {
     "output_type": "execute_result",
     "data": {
      "text/plain": [
       "10"
      ]
     },
     "metadata": {},
     "execution_count": 4
    }
   ],
   "source": [
    "round_sum(6, 4, 4)"
   ]
  },
  {
   "cell_type": "code",
   "execution_count": 5,
   "metadata": {},
   "outputs": [
    {
     "output_type": "execute_result",
     "data": {
      "text/plain": [
       "70"
      ]
     },
     "metadata": {},
     "execution_count": 5
    }
   ],
   "source": [
    "round_sum(23, 24, 29)"
   ]
  },
  {
   "cell_type": "code",
   "execution_count": 1,
   "metadata": {},
   "outputs": [],
   "source": [
    "def find_it(seq):\n",
    "    for num in seq:\n",
    "        if seq.count(num) % 2 == 1:\n",
    "            return num"
   ]
  },
  {
   "cell_type": "code",
   "execution_count": 4,
   "metadata": {},
   "outputs": [],
   "source": [
    "(find_it([20,1,-1,2,-2,3,3,5,5,1,2,4,20,4,-1,-2,5]), 5)\n",
    "(find_it([1,1,2,-2,5,2,4,4,-1,-2,5]), -1); \n",
    "(find_it([20,1,1,2,2,3,3,5,5,4,20,4,5]), 5);\n",
    "(find_it([10]), 10);\n",
    "(find_it([1,1,1,1,1,1,10,1,1,1,1]), 10);\n",
    "(find_it([5,4,3,2,1,5,4,3,2,10,10]), 1);"
   ]
  },
  {
   "cell_type": "code",
   "execution_count": 1,
   "metadata": {},
   "outputs": [],
   "source": [
    "# Create a function that accepts dimensions, of Rows x Columns, as parameters in order to create a multiplication table sized according to the given dimensions. **The return value of the function must be an array, and the numbers must be Fixnums, NOT strings.\n",
    "\n",
    "# Example:\n",
    "\n",
    "# multiplication_table(3,3)\n",
    "\n",
    "# 1 2 3\n",
    "# 2 4 6\n",
    "# 3 6 9\n",
    "\n",
    "# -->[[1,2,3],[2,4,6],[3,6,9]]\n",
    "\n",
    "# Each value on the table should be equal to the value of multiplying the number in its first row times the number in its first column."
   ]
  },
  {
   "cell_type": "code",
   "execution_count": 2,
   "metadata": {},
   "outputs": [],
   "source": [
    "def multiplication_table(row,col):\n",
    "    table = []\n",
    "    for num in range(1, row + 1):\n",
    "        row = []\n",
    "        for colum in range(1, col + 1):\n",
    "            row.append(num * colum)\n",
    "        table.append(row)\n",
    "    return table"
   ]
  },
  {
   "cell_type": "code",
   "execution_count": 3,
   "metadata": {},
   "outputs": [
    {
     "output_type": "execute_result",
     "data": {
      "text/plain": [
       "([[1, 2], [2, 4]], [[1, 2], [2, 4]])"
      ]
     },
     "metadata": {},
     "execution_count": 3
    }
   ],
   "source": [
    "multiplication_table(2,2), [[1,2],[2,4]]"
   ]
  },
  {
   "cell_type": "code",
   "execution_count": 4,
   "metadata": {},
   "outputs": [
    {
     "output_type": "execute_result",
     "data": {
      "text/plain": [
       "([[1, 2, 3], [2, 4, 6], [3, 6, 9]], [[1, 2, 3], [2, 4, 6], [3, 6, 9]])"
      ]
     },
     "metadata": {},
     "execution_count": 4
    }
   ],
   "source": [
    "multiplication_table(3,3), [[1,2,3],[2,4,6],[3,6,9]]"
   ]
  },
  {
   "cell_type": "code",
   "execution_count": null,
   "metadata": {},
   "outputs": [],
   "source": []
  }
 ]
}