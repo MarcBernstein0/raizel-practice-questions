{
 "metadata": {
  "language_info": {
   "codemirror_mode": {
    "name": "ipython",
    "version": 3
   },
   "file_extension": ".py",
   "mimetype": "text/x-python",
   "name": "python",
   "nbconvert_exporter": "python",
   "pygments_lexer": "ipython3",
   "version": "3.8.3-final"
  },
  "orig_nbformat": 2,
  "kernelspec": {
   "name": "learn-env",
   "display_name": "learn-env",
   "language": "python"
  }
 },
 "nbformat": 4,
 "nbformat_minor": 2,
 "cells": [
  {
   "cell_type": "code",
   "execution_count": 2,
   "metadata": {},
   "outputs": [],
   "source": [
    "# Test.describe(\"Basic tests\")\n",
    "# Test.assert_equals(mutually_exclusive([[3,0.4],[4,0.1],[1,0.01],[2,0.09],[5,0.2],[6,0.1]],1,6), None, \"Check the total probability\")\n",
    "# Test.assert_equals(mutually_exclusive([[1,0.1],[2,0.14],[3,0.16],[4,0.2],[5,0.15],[6,0.25]],1,4), \"0.30\", \"Expected 0.30\")\n",
    "# Test.assert_equals(mutually_exclusive([[1,0.6],[2,0.1001],[3,0.0999],[4,0.1],[5,0.05],[6,0.05]],3,4), \"0.20\", \"Expected 0.20\")\n",
    "# Test.assert_equals(mutually_exclusive([[6,0.25],[1,0.1],[3,0.16],[2,0.14],[5,0.15],[4,0.2]],1,6), \"0.35\", \"Expected 0.35\")\n",
    "# Test.assert_equals(mutually_exclusive([[3,0.4],[4,0.1],[1,0.01],[2,0.09],[5,0.2],[6,0.2]],1,6), \"0.21\", \"Expected 0.21\")"
   ]
  },
  {
   "cell_type": "code",
   "execution_count": 11,
   "metadata": {},
   "outputs": [],
   "source": [
    "def mutually_exclusive(dice, call1, call2):\n",
    "    if sum ([i[1] for i in dice]) == 1:\n",
    "        prob = 0\n",
    "        for di in dice:\n",
    "            if di[0] == call1 or di[0] == call2:\n",
    "                prob += di[1]\n",
    "        return \"{:.2f}\".format(prob)\n",
    "    else:\n",
    "        return None"
   ]
  },
  {
   "cell_type": "code",
   "execution_count": 12,
   "metadata": {},
   "outputs": [
    {
     "output_type": "stream",
     "name": "stdout",
     "text": [
      "None\n"
     ]
    }
   ],
   "source": [
    "print(mutually_exclusive([[3,0.4],[4,0.1],[1,0.01],[2,0.09],[5,0.2],[6,0.1]],1,6))"
   ]
  },
  {
   "cell_type": "code",
   "execution_count": 13,
   "metadata": {},
   "outputs": [
    {
     "output_type": "stream",
     "name": "stdout",
     "text": [
      "0.30\n"
     ]
    }
   ],
   "source": [
    "print(mutually_exclusive([[1,0.1],[2,0.14],[3,0.16],[4,0.2],[5,0.15],[6,0.25]],1,4))"
   ]
  },
  {
   "cell_type": "code",
   "execution_count": 8,
   "metadata": {},
   "outputs": [],
   "source": [
    "# def mutually_exclusive(dice, call1, call2):\n",
    "#     if sum([die[1] for die in dice]) != 1:\n",
    "#         return None\n",
    "#     return \"{:.2f}\".format(round(dice.index(call1)[1] + dice.index(call2)[1]), 2)"
   ]
  },
  {
   "cell_type": "code",
   "execution_count": 1,
   "metadata": {},
   "outputs": [],
   "source": [
    "\n",
    "# For this problem, we'll round an int value up to the next multiple of 10 if its rightmost digit is 5 or more, so 15 rounds up to 20. Alternately, round down to the previous multiple of 10 if its rightmost digit is less than 5, so 12 rounds down to 10. Given 3 ints, a b c, return the sum of their rounded values. To avoid code repetition, write a separate helper \"def round10(num):\" and call it 3 times. Write the helper entirely below and at the same indent level as round_sum()."
   ]
  },
  {
   "cell_type": "code",
   "execution_count": 2,
   "metadata": {},
   "outputs": [],
   "source": [
    "def round_sum(a, b, c):\n",
    "  return round10(a) + round10(b) + round10(c)\n",
    "def round10(num):\n",
    "  if num % 10 >= 5:\n",
    "    return num + 10 - num % 10\n",
    "  return num - num % 10  "
   ]
  },
  {
   "cell_type": "code",
   "execution_count": 3,
   "metadata": {},
   "outputs": [
    {
     "output_type": "execute_result",
     "data": {
      "text/plain": [
       "60"
      ]
     },
     "metadata": {},
     "execution_count": 3
    }
   ],
   "source": [
    "round_sum(16, 17, 18)"
   ]
  },
  {
   "cell_type": "code",
   "execution_count": 4,
   "metadata": {},
   "outputs": [
    {
     "output_type": "execute_result",
     "data": {
      "text/plain": [
       "10"
      ]
     },
     "metadata": {},
     "execution_count": 4
    }
   ],
   "source": [
    "round_sum(6, 4, 4)"
   ]
  },
  {
   "cell_type": "code",
   "execution_count": 5,
   "metadata": {},
   "outputs": [
    {
     "output_type": "execute_result",
     "data": {
      "text/plain": [
       "70"
      ]
     },
     "metadata": {},
     "execution_count": 5
    }
   ],
   "source": [
    "round_sum(23, 24, 29)"
   ]
  },
  {
   "cell_type": "code",
   "execution_count": 1,
   "metadata": {},
   "outputs": [],
   "source": [
    "def find_it(seq):\n",
    "    for num in seq:\n",
    "        if seq.count(num) % 2 == 1:\n",
    "            return num"
   ]
  },
  {
   "cell_type": "code",
   "execution_count": 4,
   "metadata": {},
   "outputs": [],
   "source": [
    "(find_it([20,1,-1,2,-2,3,3,5,5,1,2,4,20,4,-1,-2,5]), 5)\n",
    "(find_it([1,1,2,-2,5,2,4,4,-1,-2,5]), -1); \n",
    "(find_it([20,1,1,2,2,3,3,5,5,4,20,4,5]), 5);\n",
    "(find_it([10]), 10);\n",
    "(find_it([1,1,1,1,1,1,10,1,1,1,1]), 10);\n",
    "(find_it([5,4,3,2,1,5,4,3,2,10,10]), 1);"
   ]
  },
  {
   "cell_type": "code",
   "execution_count": 1,
   "metadata": {},
   "outputs": [],
   "source": [
    "# Create a function that accepts dimensions, of Rows x Columns, as parameters in order to create a multiplication table sized according to the given dimensions. **The return value of the function must be an array, and the numbers must be Fixnums, NOT strings.\n",
    "\n",
    "# Example:\n",
    "\n",
    "# multiplication_table(3,3)\n",
    "\n",
    "# 1 2 3\n",
    "# 2 4 6\n",
    "# 3 6 9\n",
    "\n",
    "# -->[[1,2,3],[2,4,6],[3,6,9]]\n",
    "\n",
    "# Each value on the table should be equal to the value of multiplying the number in its first row times the number in its first column."
   ]
  },
  {
   "cell_type": "code",
   "execution_count": 2,
   "metadata": {},
   "outputs": [],
   "source": [
    "def multiplication_table(row,col):\n",
    "    table = []\n",
    "    for num in range(1, row + 1):\n",
    "        row = []\n",
    "        for colum in range(1, col + 1):\n",
    "            row.append(num * colum)\n",
    "        table.append(row)\n",
    "    return table"
   ]
  },
  {
   "cell_type": "code",
   "execution_count": 3,
   "metadata": {},
   "outputs": [
    {
     "output_type": "execute_result",
     "data": {
      "text/plain": [
       "([[1, 2], [2, 4]], [[1, 2], [2, 4]])"
      ]
     },
     "metadata": {},
     "execution_count": 3
    }
   ],
   "source": [
    "multiplication_table(2,2), [[1,2],[2,4]]"
   ]
  },
  {
   "cell_type": "code",
   "execution_count": 4,
   "metadata": {},
   "outputs": [
    {
     "output_type": "execute_result",
     "data": {
      "text/plain": [
       "([[1, 2, 3], [2, 4, 6], [3, 6, 9]], [[1, 2, 3], [2, 4, 6], [3, 6, 9]])"
      ]
     },
     "metadata": {},
     "execution_count": 4
    }
   ],
   "source": [
    "multiplication_table(3,3), [[1,2,3],[2,4,6],[3,6,9]]"
   ]
  },
  {
   "cell_type": "code",
   "execution_count": 7,
   "metadata": {},
   "outputs": [],
   "source": [
    "def domain_name(url):\n",
    "    if 'www' in url:\n",
    "        url = url.split('www.')\n",
    "        return url[1].split('.')[0]\n",
    "    elif '//' in url:\n",
    "        url = url.split('//')\n",
    "        return url[1].split('.')[0]\n",
    "    return url[1].split('.')[0]"
   ]
  },
  {
   "cell_type": "code",
   "execution_count": 8,
   "metadata": {},
   "outputs": [
    {
     "output_type": "execute_result",
     "data": {
      "text/plain": [
       "('google', 'google')"
      ]
     },
     "metadata": {},
     "execution_count": 8
    }
   ],
   "source": [
    "domain_name(\"http://google.com\"), \"google\""
   ]
  },
  {
   "cell_type": "code",
   "execution_count": 9,
   "metadata": {},
   "outputs": [
    {
     "output_type": "execute_result",
     "data": {
      "text/plain": [
       "('xakep', 'xakep')"
      ]
     },
     "metadata": {},
     "execution_count": 9
    }
   ],
   "source": [
    "domain_name(\"www.xakep.ru\"), \"xakep\""
   ]
  },
  {
   "cell_type": "code",
   "execution_count": 1,
   "metadata": {},
   "outputs": [],
   "source": [
    "from collections import Counter\n",
    "\n",
    "def anagrams(word, words):\n",
    "    return [w for w in words if Counter(word) == Counter(w)]"
   ]
  },
  {
   "cell_type": "code",
   "execution_count": 2,
   "metadata": {},
   "outputs": [
    {
     "output_type": "execute_result",
     "data": {
      "text/plain": [
       "(['aabb', 'bbaa'], ['aabb', 'bbaa'])"
      ]
     },
     "metadata": {},
     "execution_count": 2
    }
   ],
   "source": [
    "anagrams('abba', ['aabb', 'abcd', 'bbaa', 'dada']), ['aabb', 'bbaa']"
   ]
  },
  {
   "cell_type": "code",
   "execution_count": 5,
   "metadata": {},
   "outputs": [
    {
     "output_type": "execute_result",
     "data": {
      "text/plain": [
       "(['carer', 'racer'], ['carer', 'racer'])"
      ]
     },
     "metadata": {},
     "execution_count": 5
    }
   ],
   "source": [
    "anagrams('racer', ['crazer', 'carer', 'racar', 'caers', 'racer']), ['carer', 'racer']"
   ]
  },
  {
   "cell_type": "code",
   "execution_count": 6,
   "metadata": {},
   "outputs": [],
   "source": [
    "# return [w for w in words if set(word) == set(w) and Counter(word) == Counter(w)]\n",
    "# return [item for item in words if sorted(item) == sorted(word)]"
   ]
  },
  {
   "cell_type": "code",
   "execution_count": 9,
   "metadata": {},
   "outputs": [],
   "source": [
    "lst = '''1348\n",
    "1621\n",
    "1500\n",
    "1818\n",
    "1266\n",
    "1449\n",
    "1880\n",
    "1416\n",
    "1862\n",
    "1665\n",
    "1588\n",
    "1704\n",
    "1922\n",
    "1482\n",
    "1679\n",
    "1263\n",
    "1137\n",
    "1045\n",
    "1405\n",
    "1048\n",
    "1619\n",
    "1520\n",
    "455\n",
    "1142\n",
    "1415\n",
    "1554\n",
    "1690\n",
    "1886\n",
    "1891\n",
    "1701\n",
    "1915\n",
    "1521\n",
    "1253\n",
    "1580\n",
    "1376\n",
    "1564\n",
    "1747\n",
    "1814\n",
    "1749\n",
    "1485\n",
    "1969\n",
    "974\n",
    "1566\n",
    "1413\n",
    "1451\n",
    "1200\n",
    "1558\n",
    "1756\n",
    "1910\n",
    "1044\n",
    "470\n",
    "1620\n",
    "1772\n",
    "1066\n",
    "1261\n",
    "1776\n",
    "988\n",
    "1976\n",
    "1834\n",
    "1896\n",
    "1646\n",
    "1626\n",
    "1300\n",
    "1692\n",
    "1204\n",
    "2006\n",
    "1265\n",
    "1911\n",
    "1361\n",
    "1766\n",
    "1750\n",
    "2000\n",
    "1824\n",
    "1726\n",
    "1672\n",
    "651\n",
    "1226\n",
    "1954\n",
    "1055\n",
    "1999\n",
    "1793\n",
    "1640\n",
    "1567\n",
    "1040\n",
    "1426\n",
    "1717\n",
    "1658\n",
    "1864\n",
    "1917\n",
    "695\n",
    "1071\n",
    "1573\n",
    "1897\n",
    "1546\n",
    "1727\n",
    "1801\n",
    "1259\n",
    "1290\n",
    "1481\n",
    "1148\n",
    "1332\n",
    "1262\n",
    "1536\n",
    "1184\n",
    "1821\n",
    "1681\n",
    "1671\n",
    "1612\n",
    "1678\n",
    "1703\n",
    "1604\n",
    "1697\n",
    "2003\n",
    "1453\n",
    "1493\n",
    "1797\n",
    "1180\n",
    "1234\n",
    "1775\n",
    "1859\n",
    "1388\n",
    "1393\n",
    "667\n",
    "1767\n",
    "1429\n",
    "1990\n",
    "1322\n",
    "1684\n",
    "1696\n",
    "1565\n",
    "1380\n",
    "1745\n",
    "1685\n",
    "1189\n",
    "1396\n",
    "1593\n",
    "1850\n",
    "1722\n",
    "1495\n",
    "1844\n",
    "1285\n",
    "1483\n",
    "1635\n",
    "1072\n",
    "1947\n",
    "1109\n",
    "1586\n",
    "1730\n",
    "1723\n",
    "1246\n",
    "1389\n",
    "1135\n",
    "1827\n",
    "1531\n",
    "1583\n",
    "1743\n",
    "1958\n",
    "183\n",
    "1323\n",
    "1949\n",
    "1799\n",
    "1269\n",
    "1379\n",
    "1950\n",
    "1592\n",
    "1467\n",
    "1052\n",
    "1418\n",
    "2009\n",
    "1227\n",
    "1254\n",
    "1865\n",
    "1609\n",
    "1848\n",
    "1653\n",
    "1691\n",
    "1633\n",
    "1349\n",
    "1104\n",
    "1790\n",
    "1755\n",
    "1847\n",
    "1598\n",
    "1872\n",
    "1478\n",
    "1778\n",
    "1952\n",
    "1694\n",
    "1238\n",
    "1825\n",
    "1508\n",
    "1141\n",
    "1464\n",
    "1838\n",
    "1292\n",
    "1403\n",
    "1365\n",
    "1494\n",
    "934\n",
    "1235'''\n",
    "lst = lst.replace('\\n',',')"
   ]
  },
  {
   "cell_type": "code",
   "execution_count": 10,
   "metadata": {},
   "outputs": [],
   "source": [
    "lst = lst.split(',')"
   ]
  },
  {
   "cell_type": "code",
   "execution_count": 16,
   "metadata": {},
   "outputs": [
    {
     "output_type": "stream",
     "name": "stdout",
     "text": [
      "712075\n712075\n"
     ]
    }
   ],
   "source": [
    "for num in lst:\n",
    "    ans = 2020 - int(num)\n",
    "    if str(ans) in lst:\n",
    "        print(ans*int(num))"
   ]
  },
  {
   "cell_type": "code",
   "execution_count": 22,
   "metadata": {},
   "outputs": [
    {
     "output_type": "stream",
     "name": "stdout",
     "text": [
      "145245270\n145245270\n145245270\n145245270\n145245270\n145245270\n"
     ]
    }
   ],
   "source": [
    "for num in lst:\n",
    "    ans = 2020 - int(num)\n",
    "    for num2 in lst:\n",
    "        ans2 = ans - int(num2)\n",
    "        if str(ans2) in lst:\n",
    "            print(int(num)*int(num2)*ans2)"
   ]
  },
  {
   "cell_type": "code",
   "execution_count": 6,
   "metadata": {},
   "outputs": [],
   "source": [
    "import numpy as np\n",
    "\n",
    "def matrix_addition(a, b):\n",
    "\n",
    "    a = np.array(a)\n",
    "    b = np.array(b)\n",
    "    return (a + b).tolist()"
   ]
  },
  {
   "cell_type": "code",
   "execution_count": 10,
   "metadata": {},
   "outputs": [
    {
     "output_type": "error",
     "ename": "IndentationError",
     "evalue": "unexpected indent (<ipython-input-10-b3fef6a5272e>, line 8)",
     "traceback": [
      "\u001b[1;36m  File \u001b[1;32m\"<ipython-input-10-b3fef6a5272e>\"\u001b[1;36m, line \u001b[1;32m8\u001b[0m\n\u001b[1;33m    [[3, 5],\u001b[0m\n\u001b[1;37m    ^\u001b[0m\n\u001b[1;31mIndentationError\u001b[0m\u001b[1;31m:\u001b[0m unexpected indent\n"
     ]
    }
   ],
   "source": [
    "matrix_addition(\n",
    "  [[1, 2],\n",
    "    [1, 2]],\n",
    "#     +\n",
    "  [[2, 3],\n",
    "    [2, 3]] ),\n",
    "#     =\n",
    "  [[3, 5],\n",
    "    [3, 5]] )"
   ]
  },
  {
   "cell_type": "code",
   "execution_count": 8,
   "metadata": {},
   "outputs": [
    {
     "output_type": "execute_result",
     "data": {
      "text/plain": [
       "(array([[3]]), [[3]])"
      ]
     },
     "metadata": {},
     "execution_count": 8
    }
   ],
   "source": [
    "(matrix_addition(\n",
    "  [ [1] ],\n",
    "#    +\n",
    "  [ [2] ] ),\n",
    "#    =\n",
    "  [ [3] ] )"
   ]
  },
  {
   "cell_type": "code",
   "execution_count": 9,
   "metadata": {},
   "outputs": [
    {
     "output_type": "error",
     "ename": "IndentationError",
     "evalue": "unexpected indent (<ipython-input-9-d67fe36e4e47>, line 10)",
     "traceback": [
      "\u001b[1;36m  File \u001b[1;32m\"<ipython-input-9-d67fe36e4e47>\"\u001b[1;36m, line \u001b[1;32m10\u001b[0m\n\u001b[1;33m    [ [3, 4, 4],\u001b[0m\n\u001b[1;37m    ^\u001b[0m\n\u001b[1;31mIndentationError\u001b[0m\u001b[1;31m:\u001b[0m unexpected indent\n"
     ]
    }
   ],
   "source": [
    "matrix_addition(\n",
    "  [ [1, 2, 3],\n",
    "    [3, 2, 1],\n",
    "    [1, 1, 1] ],\n",
    "#       +\n",
    "  [ [2, 2, 1],\n",
    "    [3, 2, 3],\n",
    "    [1, 1, 3] ] ),\n",
    "#       =\n",
    "  [ [3, 4, 4],\n",
    "    [6, 4, 4],\n",
    "    [2, 2, 4] ] )"
   ]
  },
  {
   "cell_type": "code",
   "execution_count": 1,
   "metadata": {},
   "outputs": [],
   "source": [
    "import numpy as np\n",
    "def matrix_mult(a, b):\n",
    "    a = np.array(a)\n",
    "    b = np.array(b)\n",
    "    return np.dot(a,b).tolist()"
   ]
  },
  {
   "cell_type": "code",
   "execution_count": null,
   "metadata": {},
   "outputs": [],
   "source": []
  }
 ]
}