{
 "metadata": {
  "language_info": {
   "codemirror_mode": {
    "name": "ipython",
    "version": 3
   },
   "file_extension": ".py",
   "mimetype": "text/x-python",
   "name": "python",
   "nbconvert_exporter": "python",
   "pygments_lexer": "ipython3",
   "version": "3.8.3-final"
  },
  "orig_nbformat": 2,
  "kernelspec": {
   "name": "learn-env",
   "display_name": "learn-env"
  }
 },
 "nbformat": 4,
 "nbformat_minor": 2,
 "cells": [
  {
   "cell_type": "code",
   "execution_count": 2,
   "metadata": {},
   "outputs": [],
   "source": [
    "# Test.describe(\"Basic tests\")\n",
    "# Test.assert_equals(mutually_exclusive([[3,0.4],[4,0.1],[1,0.01],[2,0.09],[5,0.2],[6,0.1]],1,6), None, \"Check the total probability\")\n",
    "# Test.assert_equals(mutually_exclusive([[1,0.1],[2,0.14],[3,0.16],[4,0.2],[5,0.15],[6,0.25]],1,4), \"0.30\", \"Expected 0.30\")\n",
    "# Test.assert_equals(mutually_exclusive([[1,0.6],[2,0.1001],[3,0.0999],[4,0.1],[5,0.05],[6,0.05]],3,4), \"0.20\", \"Expected 0.20\")\n",
    "# Test.assert_equals(mutually_exclusive([[6,0.25],[1,0.1],[3,0.16],[2,0.14],[5,0.15],[4,0.2]],1,6), \"0.35\", \"Expected 0.35\")\n",
    "# Test.assert_equals(mutually_exclusive([[3,0.4],[4,0.1],[1,0.01],[2,0.09],[5,0.2],[6,0.2]],1,6), \"0.21\", \"Expected 0.21\")"
   ]
  },
  {
   "cell_type": "code",
   "execution_count": 11,
   "metadata": {},
   "outputs": [],
   "source": [
    "def mutually_exclusive(dice, call1, call2):\n",
    "    if sum ([i[1] for i in dice]) == 1:\n",
    "        prob = 0\n",
    "        for di in dice:\n",
    "            if di[0] == call1 or di[0] == call2:\n",
    "                prob += di[1]\n",
    "        return \"{:.2f}\".format(prob)\n",
    "    else:\n",
    "        return None"
   ]
  },
  {
   "cell_type": "code",
   "execution_count": 12,
   "metadata": {},
   "outputs": [
    {
     "output_type": "stream",
     "name": "stdout",
     "text": [
      "None\n"
     ]
    }
   ],
   "source": [
    "print(mutually_exclusive([[3,0.4],[4,0.1],[1,0.01],[2,0.09],[5,0.2],[6,0.1]],1,6))"
   ]
  },
  {
   "cell_type": "code",
   "execution_count": 13,
   "metadata": {},
   "outputs": [
    {
     "output_type": "stream",
     "name": "stdout",
     "text": [
      "0.30\n"
     ]
    }
   ],
   "source": [
    "print(mutually_exclusive([[1,0.1],[2,0.14],[3,0.16],[4,0.2],[5,0.15],[6,0.25]],1,4))"
   ]
  },
  {
   "cell_type": "code",
   "execution_count": 8,
   "metadata": {},
   "outputs": [],
   "source": [
    "# def mutually_exclusive(dice, call1, call2):\n",
    "#     if sum([die[1] for die in dice]) != 1:\n",
    "#         return None\n",
    "#     return \"{:.2f}\".format(round(dice.index(call1)[1] + dice.index(call2)[1]), 2)"
   ]
  },
  {
   "cell_type": "code",
   "execution_count": null,
   "metadata": {},
   "outputs": [],
   "source": []
  }
 ]
}