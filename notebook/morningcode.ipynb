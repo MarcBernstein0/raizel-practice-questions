{
 "metadata": {
  "language_info": {
   "codemirror_mode": {
    "name": "ipython",
    "version": 3
   },
   "file_extension": ".py",
   "mimetype": "text/x-python",
   "name": "python",
   "nbconvert_exporter": "python",
   "pygments_lexer": "ipython3",
   "version": "3.8.3-final"
  },
  "orig_nbformat": 2,
  "kernelspec": {
   "name": "learn-env",
   "display_name": "learn-env",
   "language": "python"
  }
 },
 "nbformat": 4,
 "nbformat_minor": 2,
 "cells": [
  {
   "cell_type": "code",
   "execution_count": 2,
   "metadata": {},
   "outputs": [],
   "source": [
    "# Test.describe(\"Basic tests\")\n",
    "# Test.assert_equals(mutually_exclusive([[3,0.4],[4,0.1],[1,0.01],[2,0.09],[5,0.2],[6,0.1]],1,6), None, \"Check the total probability\")\n",
    "# Test.assert_equals(mutually_exclusive([[1,0.1],[2,0.14],[3,0.16],[4,0.2],[5,0.15],[6,0.25]],1,4), \"0.30\", \"Expected 0.30\")\n",
    "# Test.assert_equals(mutually_exclusive([[1,0.6],[2,0.1001],[3,0.0999],[4,0.1],[5,0.05],[6,0.05]],3,4), \"0.20\", \"Expected 0.20\")\n",
    "# Test.assert_equals(mutually_exclusive([[6,0.25],[1,0.1],[3,0.16],[2,0.14],[5,0.15],[4,0.2]],1,6), \"0.35\", \"Expected 0.35\")\n",
    "# Test.assert_equals(mutually_exclusive([[3,0.4],[4,0.1],[1,0.01],[2,0.09],[5,0.2],[6,0.2]],1,6), \"0.21\", \"Expected 0.21\")"
   ]
  },
  {
   "cell_type": "code",
   "execution_count": 11,
   "metadata": {},
   "outputs": [],
   "source": [
    "def mutually_exclusive(dice, call1, call2):\n",
    "    if sum ([i[1] for i in dice]) == 1:\n",
    "        prob = 0\n",
    "        for di in dice:\n",
    "            if di[0] == call1 or di[0] == call2:\n",
    "                prob += di[1]\n",
    "        return \"{:.2f}\".format(prob)\n",
    "    else:\n",
    "        return None"
   ]
  },
  {
   "cell_type": "code",
   "execution_count": 12,
   "metadata": {},
   "outputs": [
    {
     "output_type": "stream",
     "name": "stdout",
     "text": [
      "None\n"
     ]
    }
   ],
   "source": [
    "print(mutually_exclusive([[3,0.4],[4,0.1],[1,0.01],[2,0.09],[5,0.2],[6,0.1]],1,6))"
   ]
  },
  {
   "cell_type": "code",
   "execution_count": 13,
   "metadata": {},
   "outputs": [
    {
     "output_type": "stream",
     "name": "stdout",
     "text": [
      "0.30\n"
     ]
    }
   ],
   "source": [
    "print(mutually_exclusive([[1,0.1],[2,0.14],[3,0.16],[4,0.2],[5,0.15],[6,0.25]],1,4))"
   ]
  },
  {
   "cell_type": "code",
   "execution_count": 8,
   "metadata": {},
   "outputs": [],
   "source": [
    "# def mutually_exclusive(dice, call1, call2):\n",
    "#     if sum([die[1] for die in dice]) != 1:\n",
    "#         return None\n",
    "#     return \"{:.2f}\".format(round(dice.index(call1)[1] + dice.index(call2)[1]), 2)"
   ]
  },
  {
   "cell_type": "code",
   "execution_count": 1,
   "metadata": {},
   "outputs": [],
   "source": [
    "\n",
    "# For this problem, we'll round an int value up to the next multiple of 10 if its rightmost digit is 5 or more, so 15 rounds up to 20. Alternately, round down to the previous multiple of 10 if its rightmost digit is less than 5, so 12 rounds down to 10. Given 3 ints, a b c, return the sum of their rounded values. To avoid code repetition, write a separate helper \"def round10(num):\" and call it 3 times. Write the helper entirely below and at the same indent level as round_sum()."
   ]
  },
  {
   "cell_type": "code",
   "execution_count": 2,
   "metadata": {},
   "outputs": [],
   "source": [
    "def round_sum(a, b, c):\n",
    "  return round10(a) + round10(b) + round10(c)\n",
    "def round10(num):\n",
    "  if num % 10 >= 5:\n",
    "    return num + 10 - num % 10\n",
    "  return num - num % 10  "
   ]
  },
  {
   "cell_type": "code",
   "execution_count": 3,
   "metadata": {},
   "outputs": [
    {
     "output_type": "execute_result",
     "data": {
      "text/plain": [
       "60"
      ]
     },
     "metadata": {},
     "execution_count": 3
    }
   ],
   "source": [
    "round_sum(16, 17, 18)"
   ]
  },
  {
   "cell_type": "code",
   "execution_count": 4,
   "metadata": {},
   "outputs": [
    {
     "output_type": "execute_result",
     "data": {
      "text/plain": [
       "10"
      ]
     },
     "metadata": {},
     "execution_count": 4
    }
   ],
   "source": [
    "round_sum(6, 4, 4)"
   ]
  },
  {
   "cell_type": "code",
   "execution_count": 5,
   "metadata": {},
   "outputs": [
    {
     "output_type": "execute_result",
     "data": {
      "text/plain": [
       "70"
      ]
     },
     "metadata": {},
     "execution_count": 5
    }
   ],
   "source": [
    "round_sum(23, 24, 29)"
   ]
  },
  {
   "cell_type": "code",
   "execution_count": 1,
   "metadata": {},
   "outputs": [],
   "source": [
    "def find_it(seq):\n",
    "    for num in seq:\n",
    "        if seq.count(num) % 2 == 1:\n",
    "            return num"
   ]
  },
  {
   "cell_type": "code",
   "execution_count": 4,
   "metadata": {},
   "outputs": [],
   "source": [
    "(find_it([20,1,-1,2,-2,3,3,5,5,1,2,4,20,4,-1,-2,5]), 5)\n",
    "(find_it([1,1,2,-2,5,2,4,4,-1,-2,5]), -1); \n",
    "(find_it([20,1,1,2,2,3,3,5,5,4,20,4,5]), 5);\n",
    "(find_it([10]), 10);\n",
    "(find_it([1,1,1,1,1,1,10,1,1,1,1]), 10);\n",
    "(find_it([5,4,3,2,1,5,4,3,2,10,10]), 1);"
   ]
  },
  {
   "cell_type": "code",
   "execution_count": 1,
   "metadata": {},
   "outputs": [],
   "source": [
    "# Create a function that accepts dimensions, of Rows x Columns, as parameters in order to create a multiplication table sized according to the given dimensions. **The return value of the function must be an array, and the numbers must be Fixnums, NOT strings.\n",
    "\n",
    "# Example:\n",
    "\n",
    "# multiplication_table(3,3)\n",
    "\n",
    "# 1 2 3\n",
    "# 2 4 6\n",
    "# 3 6 9\n",
    "\n",
    "# -->[[1,2,3],[2,4,6],[3,6,9]]\n",
    "\n",
    "# Each value on the table should be equal to the value of multiplying the number in its first row times the number in its first column."
   ]
  },
  {
   "cell_type": "code",
   "execution_count": 2,
   "metadata": {},
   "outputs": [],
   "source": [
    "def multiplication_table(row,col):\n",
    "    table = []\n",
    "    for num in range(1, row + 1):\n",
    "        row = []\n",
    "        for colum in range(1, col + 1):\n",
    "            row.append(num * colum)\n",
    "        table.append(row)\n",
    "    return table"
   ]
  },
  {
   "cell_type": "code",
   "execution_count": 3,
   "metadata": {},
   "outputs": [
    {
     "output_type": "execute_result",
     "data": {
      "text/plain": [
       "([[1, 2], [2, 4]], [[1, 2], [2, 4]])"
      ]
     },
     "metadata": {},
     "execution_count": 3
    }
   ],
   "source": [
    "multiplication_table(2,2), [[1,2],[2,4]]"
   ]
  },
  {
   "cell_type": "code",
   "execution_count": 4,
   "metadata": {},
   "outputs": [
    {
     "output_type": "execute_result",
     "data": {
      "text/plain": [
       "([[1, 2, 3], [2, 4, 6], [3, 6, 9]], [[1, 2, 3], [2, 4, 6], [3, 6, 9]])"
      ]
     },
     "metadata": {},
     "execution_count": 4
    }
   ],
   "source": [
    "multiplication_table(3,3), [[1,2,3],[2,4,6],[3,6,9]]"
   ]
  },
  {
   "cell_type": "code",
   "execution_count": 7,
   "metadata": {},
   "outputs": [],
   "source": [
    "def domain_name(url):\n",
    "    if 'www' in url:\n",
    "        url = url.split('www.')\n",
    "        return url[1].split('.')[0]\n",
    "    elif '//' in url:\n",
    "        url = url.split('//')\n",
    "        return url[1].split('.')[0]\n",
    "    return url[1].split('.')[0]"
   ]
  },
  {
   "cell_type": "code",
   "execution_count": 8,
   "metadata": {},
   "outputs": [
    {
     "output_type": "execute_result",
     "data": {
      "text/plain": [
       "('google', 'google')"
      ]
     },
     "metadata": {},
     "execution_count": 8
    }
   ],
   "source": [
    "domain_name(\"http://google.com\"), \"google\""
   ]
  },
  {
   "cell_type": "code",
   "execution_count": 9,
   "metadata": {},
   "outputs": [
    {
     "output_type": "execute_result",
     "data": {
      "text/plain": [
       "('xakep', 'xakep')"
      ]
     },
     "metadata": {},
     "execution_count": 9
    }
   ],
   "source": [
    "domain_name(\"www.xakep.ru\"), \"xakep\""
   ]
  },
  {
   "cell_type": "code",
   "execution_count": 1,
   "metadata": {},
   "outputs": [],
   "source": [
    "from collections import Counter\n",
    "\n",
    "def anagrams(word, words):\n",
    "    return [w for w in words if Counter(word) == Counter(w)]"
   ]
  },
  {
   "cell_type": "code",
   "execution_count": 2,
   "metadata": {},
   "outputs": [
    {
     "output_type": "execute_result",
     "data": {
      "text/plain": [
       "(['aabb', 'bbaa'], ['aabb', 'bbaa'])"
      ]
     },
     "metadata": {},
     "execution_count": 2
    }
   ],
   "source": [
    "anagrams('abba', ['aabb', 'abcd', 'bbaa', 'dada']), ['aabb', 'bbaa']"
   ]
  },
  {
   "cell_type": "code",
   "execution_count": 5,
   "metadata": {},
   "outputs": [
    {
     "output_type": "execute_result",
     "data": {
      "text/plain": [
       "(['carer', 'racer'], ['carer', 'racer'])"
      ]
     },
     "metadata": {},
     "execution_count": 5
    }
   ],
   "source": [
    "anagrams('racer', ['crazer', 'carer', 'racar', 'caers', 'racer']), ['carer', 'racer']"
   ]
  },
  {
   "cell_type": "code",
   "execution_count": 6,
   "metadata": {},
   "outputs": [],
   "source": [
    "# return [w for w in words if set(word) == set(w) and Counter(word) == Counter(w)]\n",
    "# return [item for item in words if sorted(item) == sorted(word)]"
   ]
  },
  {
   "cell_type": "code",
   "execution_count": 9,
   "metadata": {},
   "outputs": [],
   "source": [
    "lst = '''1348\n",
    "1621\n",
    "1500\n",
    "1818\n",
    "1266\n",
    "1449\n",
    "1880\n",
    "1416\n",
    "1862\n",
    "1665\n",
    "1588\n",
    "1704\n",
    "1922\n",
    "1482\n",
    "1679\n",
    "1263\n",
    "1137\n",
    "1045\n",
    "1405\n",
    "1048\n",
    "1619\n",
    "1520\n",
    "455\n",
    "1142\n",
    "1415\n",
    "1554\n",
    "1690\n",
    "1886\n",
    "1891\n",
    "1701\n",
    "1915\n",
    "1521\n",
    "1253\n",
    "1580\n",
    "1376\n",
    "1564\n",
    "1747\n",
    "1814\n",
    "1749\n",
    "1485\n",
    "1969\n",
    "974\n",
    "1566\n",
    "1413\n",
    "1451\n",
    "1200\n",
    "1558\n",
    "1756\n",
    "1910\n",
    "1044\n",
    "470\n",
    "1620\n",
    "1772\n",
    "1066\n",
    "1261\n",
    "1776\n",
    "988\n",
    "1976\n",
    "1834\n",
    "1896\n",
    "1646\n",
    "1626\n",
    "1300\n",
    "1692\n",
    "1204\n",
    "2006\n",
    "1265\n",
    "1911\n",
    "1361\n",
    "1766\n",
    "1750\n",
    "2000\n",
    "1824\n",
    "1726\n",
    "1672\n",
    "651\n",
    "1226\n",
    "1954\n",
    "1055\n",
    "1999\n",
    "1793\n",
    "1640\n",
    "1567\n",
    "1040\n",
    "1426\n",
    "1717\n",
    "1658\n",
    "1864\n",
    "1917\n",
    "695\n",
    "1071\n",
    "1573\n",
    "1897\n",
    "1546\n",
    "1727\n",
    "1801\n",
    "1259\n",
    "1290\n",
    "1481\n",
    "1148\n",
    "1332\n",
    "1262\n",
    "1536\n",
    "1184\n",
    "1821\n",
    "1681\n",
    "1671\n",
    "1612\n",
    "1678\n",
    "1703\n",
    "1604\n",
    "1697\n",
    "2003\n",
    "1453\n",
    "1493\n",
    "1797\n",
    "1180\n",
    "1234\n",
    "1775\n",
    "1859\n",
    "1388\n",
    "1393\n",
    "667\n",
    "1767\n",
    "1429\n",
    "1990\n",
    "1322\n",
    "1684\n",
    "1696\n",
    "1565\n",
    "1380\n",
    "1745\n",
    "1685\n",
    "1189\n",
    "1396\n",
    "1593\n",
    "1850\n",
    "1722\n",
    "1495\n",
    "1844\n",
    "1285\n",
    "1483\n",
    "1635\n",
    "1072\n",
    "1947\n",
    "1109\n",
    "1586\n",
    "1730\n",
    "1723\n",
    "1246\n",
    "1389\n",
    "1135\n",
    "1827\n",
    "1531\n",
    "1583\n",
    "1743\n",
    "1958\n",
    "183\n",
    "1323\n",
    "1949\n",
    "1799\n",
    "1269\n",
    "1379\n",
    "1950\n",
    "1592\n",
    "1467\n",
    "1052\n",
    "1418\n",
    "2009\n",
    "1227\n",
    "1254\n",
    "1865\n",
    "1609\n",
    "1848\n",
    "1653\n",
    "1691\n",
    "1633\n",
    "1349\n",
    "1104\n",
    "1790\n",
    "1755\n",
    "1847\n",
    "1598\n",
    "1872\n",
    "1478\n",
    "1778\n",
    "1952\n",
    "1694\n",
    "1238\n",
    "1825\n",
    "1508\n",
    "1141\n",
    "1464\n",
    "1838\n",
    "1292\n",
    "1403\n",
    "1365\n",
    "1494\n",
    "934\n",
    "1235'''\n",
    "lst = lst.replace('\\n',',')"
   ]
  },
  {
   "cell_type": "code",
   "execution_count": 10,
   "metadata": {},
   "outputs": [],
   "source": [
    "lst = lst.split(',')"
   ]
  },
  {
   "cell_type": "code",
   "execution_count": 16,
   "metadata": {},
   "outputs": [
    {
     "output_type": "stream",
     "name": "stdout",
     "text": [
      "712075\n712075\n"
     ]
    }
   ],
   "source": [
    "for num in lst:\n",
    "    ans = 2020 - int(num)\n",
    "    if str(ans) in lst:\n",
    "        print(ans*int(num))"
   ]
  },
  {
   "cell_type": "code",
   "execution_count": 21,
   "metadata": {},
   "outputs": [
    {
     "output_type": "stream",
     "name": "stdout",
     "text": [
      "133094780\n-41303080\n44362500\n-209279070\n172232970\n76478220\n-269451000\n95997720\n-251621370\n-75757500\n-16618420\n-107769480\n-312200070\n55967730\n-87089730\n173548830\n221419380\n247247000\n102284000\n246526280\n-39778830\n31122000\n229797750\n219795030\n96573750\n7777770\n-96118750\n-275459730\n-280492030\n-105257880\n-304963750\n30450420\n177875880\n-10783500\n118329120\n711620\n-144669070\n-205517130\n-146426280\n54054000\n-361941580\n261913470\n-712530\n97723080\n75263370\n199290000\n4962230\n-152605180\n-299822250\n247485420\n234165750\n-40540500\n-166895820\n242029970\n174421520\n-170504880\n259384580\n-369521880\n-224472430\n-285547080\n-60663330\n-45129630\n156747500\n-97772220\n197763020\n-402513930\n172672500\n-300848730\n126328020\n-161509530\n-147306250\n-395850000\n-214949280\n-126438130\n-81401320\n270731370\n189104370\n-345848230\n244812750\n-394742530\n-186005820\n-55965000\n-1425970\n248430000\n90187370\n-118747720\n-70158270\n-253587880\n-307026720\n275115750\n240728670\n-5725720\n-286560820\n13365170\n-127297170\n-193391380\n175290570\n161411250\n56603820\n217815780\n141211980\n173985630\n20267520\n205252320\n-212110080\n-88723180\n-80592330\n-34472620\n-86274370\n-106931370\n-28462980\n-101921820\n-399177870\n74044880\n48910680\n-189691320\n206706500\n185846570\n-169601250\n-248678430\n111782580\n109016180\n272529530\n-162404970\n88426520\n-384816250\n146166930\n-91180180\n-101090080\n0\n116161500\n-142915500\n-92001000\n203414120\n107345420\n-20294820\n-239898750\n-123011070\n47615750\n-234086580\n163709000\n55330730\n-52074750\n240465680\n-338408070\n230095320\n-15154230\n-129879750\n-123866470\n180850670\n111231120\n222062750\n-217796670\n23684570\n-12964770\n-141165570\n-350119770\n115072230\n145675530\n-340529280\n-191539530\n170908920\n116704770\n-341591250\n-19557720\n65413530\n245552580\n94842930\n-405858180\n188700330\n177447270\n-254572500\n-32212180\n-237957720\n-66186120\n-96945030\n-50525020\n132579720\n231569520\n-183251250\n-151719750\n-236988570\n-23993970\n-261490320\n58506630\n-172314870\n-343717920\n-99429330\n184195830\n-215897500\n39109980\n220121720\n67278120\n-228307170\n160485780\n103415130\n124215000\n48263670\n268156070\n185435250\n-1883890660\n-2957984590\n-2453137500\n-3877966710\n-1606826190\n-2254078890\n-4192635000\n-2129614440\n-4100040210\n-3152927250\n-2815754260\n-3330783240\n-4412633310\n-2381951910\n-3216225240\n-1597088760\n-1213554210\n-964900750\n-2088883750\n-972591160\n-2949267540\n-2533422000\n0\n-1227827010\n-2125896000\n-2672778990\n-3266389750\n-4223725290\n-4249719940\n-3316932990\n-4375583500\n-2537469090\n-1564834110\n-2781787500\n-1983318240\n-2714454940\n-3532399060\n-3858078690\n-3541917390\n-2393745750\n-4665368290\n-791116890\n-2722827690\n-2118468510\n-2261731740\n-1399110000\n-2689411810\n-3575330140\n-4349213250\n-962343540\n-11033250\n-2953624500\n-3652278060\n-1019325190\n-1590612790\n-3671640240\n-824135260\n-4703601240\n-3958019590\n-4275792840\n-3068004090\n-2979831990\n-1719152500\n-3275551260\n-1411310740\n-4869193890\n-1603577250\n-4354481040\n-1929748290\n-3623328690\n-3546681250\n-4835850000\n-3907892640\n-3433212490\n-3184499560\n-199687740\n-1479309990\n-4583956990\n-990645000\n-4830303640\n-3754488210\n-3041421000\n-2727018760\n-952146000\n-2166970990\n-3391126510\n-3121508310\n-4110278440\n-4386153510\n-261042000\n-1032486840\n-2752230910\n-4281016810\n-2639663590\n-3437904360\n-3793788490\n-1584149340\n-1685739750\n-2378026890\n-1245057660\n-1828176660\n-1593849210\n-2598551040\n-1350807840\n-3892915590\n-3225317890\n-3179979840\n-2918856460\n-3211683610\n-3326163360\n-2884288740\n-3298509810\n-4852507860\n-2269397110\n-2425333710\n-3774113310\n-1338857500\n-1504412590\n-3666795000\n-4084706340\n-2026681260\n-2044882210\n-221297260\n-3628145760\n-2178238990\n-4780527250\n-1793762310\n-3238980340\n-3293911840\n-2718639750\n-1997722500\n-3522893250\n-3243540750\n-1365816190\n-2055840340\n-2837085210\n-4038873750\n-3414476310\n-2433262000\n-4008459540\n-1669150750\n-2385880060\n-3019354500\n-1035128560\n-4546206060\n-1135072590\n-2807243790\n-3451998750\n-3419155660\n-1542442090\n-2030315190\n-1207867000\n-3922897860\n-2578112140\n-2794501560\n-3513399960\n-4605597810\n77899440\n-1797189660\n-4556976390\n-3783944640\n-1616591790\n-1994116740\n-4562366250\n-2832812760\n-2323405260\n-982888860\n-2137060710\n-4885908090\n-1482436860\n-1568045490\n-4115402250\n-2905870090\n-4028723160\n-3099160110\n-3270968940\n-3010549810\n-1887399390\n-1121316240\n-3739802250\n-3570547500\n-4023652560\n-2858494410\n-4151356560\n-2366270610\n-3681340110\n-4573155360\n-3284725290\n-1517039010\n-3912891250\n-2485101060\n-1224966190\n-2311780440\n-3978158010\n-1692397260\n-2081518860\n-1943964750\n-2429296290\n-700159090\n-1507564500\n"
     ]
    }
   ],
   "source": [
    "for num in lst:\n",
    "    ans = 2020 - int(num)\n",
    "    for num2 in lst:\n",
    "        ans2 = ans - int(num2)\n",
    "        if str(ans) in lst:\n",
    "            print(int(num)*int(num2)*ans2)"
   ]
  },
  {
   "cell_type": "code",
   "execution_count": null,
   "metadata": {},
   "outputs": [],
   "source": []
  }
 ]
}