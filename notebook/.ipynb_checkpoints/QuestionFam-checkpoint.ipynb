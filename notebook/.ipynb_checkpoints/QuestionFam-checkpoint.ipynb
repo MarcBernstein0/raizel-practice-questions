{
 "cells": [
  {
   "cell_type": "code",
   "execution_count": 1,
   "metadata": {},
   "outputs": [],
   "source": [
    "import pandas as pd\n",
    "import matplotlib.pyplot as plt"
   ]
  },
  {
   "cell_type": "code",
   "execution_count": 2,
   "metadata": {},
   "outputs": [],
   "source": [
    "df = pd.read_csv('../data/Questionnaire.csv')"
   ]
  },
  {
   "cell_type": "code",
   "execution_count": 3,
   "metadata": {},
   "outputs": [
    {
     "data": {
      "text/html": [
       "<div>\n",
       "<style scoped>\n",
       "    .dataframe tbody tr th:only-of-type {\n",
       "        vertical-align: middle;\n",
       "    }\n",
       "\n",
       "    .dataframe tbody tr th {\n",
       "        vertical-align: top;\n",
       "    }\n",
       "\n",
       "    .dataframe thead th {\n",
       "        text-align: right;\n",
       "    }\n",
       "</style>\n",
       "<table border=\"1\" class=\"dataframe\">\n",
       "  <thead>\n",
       "    <tr style=\"text-align: right;\">\n",
       "      <th></th>\n",
       "      <th>Timestamp</th>\n",
       "      <th>What is your name</th>\n",
       "      <th>Blood Type</th>\n",
       "      <th>What is your birthday</th>\n",
       "      <th>Do you have pets? How many? What kind (cat, dog, etc), provide names</th>\n",
       "      <th>If you can have any super power what power would you have?</th>\n",
       "      <th>What are your top 3 activities to do (hobbies, sports, crafts, etc)?</th>\n",
       "      <th>What is your favorite holiday?</th>\n",
       "      <th>Introvert or Extrovert</th>\n",
       "      <th>Podcast or Music</th>\n",
       "      <th>...</th>\n",
       "      <th>If Rafi and Jeffrey were playing a board game who would win?</th>\n",
       "      <th>Besides Anita Pola and Juan, which relative knows the most Spanish?</th>\n",
       "      <th>Which relative do you think is most likely to win mario kart?</th>\n",
       "      <th>Attachment Style</th>\n",
       "      <th>Which is best?</th>\n",
       "      <th>Which describes you best?</th>\n",
       "      <th>Mask or no mask</th>\n",
       "      <th>Raizel, HOW MANY MORE QUESTIONS ARE THERE?</th>\n",
       "      <th>What is your best failure?</th>\n",
       "      <th>Top 3 songs you want to hear at Club Turkey?</th>\n",
       "    </tr>\n",
       "  </thead>\n",
       "  <tbody>\n",
       "    <tr>\n",
       "      <th>0</th>\n",
       "      <td>2021/04/02 2:15:22 PM AST</td>\n",
       "      <td>Eliana</td>\n",
       "      <td>O</td>\n",
       "      <td>3/31/1995</td>\n",
       "      <td>No</td>\n",
       "      <td>Teleportation</td>\n",
       "      <td>Frisbee, eatting, sleeping</td>\n",
       "      <td>Thanksgiving</td>\n",
       "      <td>Introvert</td>\n",
       "      <td>Music</td>\n",
       "      <td>...</td>\n",
       "      <td>Jeffrey</td>\n",
       "      <td>Beatrice</td>\n",
       "      <td>Eliana</td>\n",
       "      <td>Anxious</td>\n",
       "      <td>Middle children</td>\n",
       "      <td>Liberal</td>\n",
       "      <td>mask</td>\n",
       "      <td>I expect an open bar at Sean's Bar mitzvah</td>\n",
       "      <td>One time raizel and Marc both stole sodas out ...</td>\n",
       "      <td>1. Anything Shakira 2. Petron tequila I’m drun...</td>\n",
       "    </tr>\n",
       "    <tr>\n",
       "      <th>1</th>\n",
       "      <td>2021/04/02 2:31:29 PM AST</td>\n",
       "      <td>Miriam Bradman Abrahams</td>\n",
       "      <td>O</td>\n",
       "      <td>1/27/1961</td>\n",
       "      <td>Nope</td>\n",
       "      <td>Flying</td>\n",
       "      <td>Reading, yoga, crocheting</td>\n",
       "      <td>Thanksgiving</td>\n",
       "      <td>Extrovert</td>\n",
       "      <td>Music</td>\n",
       "      <td>...</td>\n",
       "      <td>Jeffrey</td>\n",
       "      <td>Yo hablo español mejor que los otros;) jajaja</td>\n",
       "      <td>Rafi</td>\n",
       "      <td>Anxious</td>\n",
       "      <td>Oldest children (duh)</td>\n",
       "      <td>Liberal</td>\n",
       "      <td>mask</td>\n",
       "      <td>I expect an open bar at Sean's Bar mitzvah</td>\n",
       "      <td>Wtf does that mean?! Failure is no fun</td>\n",
       "      <td>Anything by Justin Timberlake</td>\n",
       "    </tr>\n",
       "    <tr>\n",
       "      <th>2</th>\n",
       "      <td>2021/04/02 2:33:30 PM AST</td>\n",
       "      <td>Bebe Bernstein</td>\n",
       "      <td>O</td>\n",
       "      <td>9/19/1962</td>\n",
       "      <td>no</td>\n",
       "      <td>healing the sick</td>\n",
       "      <td>read, walking, shopping</td>\n",
       "      <td>thanksgiving</td>\n",
       "      <td>Introvert</td>\n",
       "      <td>Podcast</td>\n",
       "      <td>...</td>\n",
       "      <td>Rafi</td>\n",
       "      <td>Aida</td>\n",
       "      <td>Marc</td>\n",
       "      <td>N/A (idk)</td>\n",
       "      <td>Oldest children (duh)</td>\n",
       "      <td>Liberal</td>\n",
       "      <td>mask</td>\n",
       "      <td>shut the **** up</td>\n",
       "      <td>NJ License project sending someone to jail</td>\n",
       "      <td>Copacabana, Living la vida loca, We are family</td>\n",
       "    </tr>\n",
       "    <tr>\n",
       "      <th>3</th>\n",
       "      <td>2021/04/02 2:47:53 PM AST</td>\n",
       "      <td>Briana</td>\n",
       "      <td>O</td>\n",
       "      <td>10/5/1996</td>\n",
       "      <td>No</td>\n",
       "      <td>Teleportation</td>\n",
       "      <td>Cooking, watching hockey, bravo tv shows</td>\n",
       "      <td>Thanksgiving</td>\n",
       "      <td>Extrovert</td>\n",
       "      <td>Music</td>\n",
       "      <td>...</td>\n",
       "      <td>Jeffrey</td>\n",
       "      <td>Juan</td>\n",
       "      <td>Not marc</td>\n",
       "      <td>N/A (idk)</td>\n",
       "      <td>Youngest children</td>\n",
       "      <td>Liberal</td>\n",
       "      <td>mask</td>\n",
       "      <td>I expect an open bar at Sean's Bar mitzvah</td>\n",
       "      <td>Getting rejected by my top 5 grad programs</td>\n",
       "      <td>In da club, toxic, discovery channel song</td>\n",
       "    </tr>\n",
       "    <tr>\n",
       "      <th>4</th>\n",
       "      <td>2021/04/02 3:06:52 PM AST</td>\n",
       "      <td>Sean Fitter</td>\n",
       "      <td>O</td>\n",
       "      <td>9/24/2009</td>\n",
       "      <td>Nope</td>\n",
       "      <td>The ability to grow money trees</td>\n",
       "      <td>Play video games, play football, watch YouTube/tv</td>\n",
       "      <td>Thanksgiving (duh)</td>\n",
       "      <td>Introvert</td>\n",
       "      <td>Music</td>\n",
       "      <td>...</td>\n",
       "      <td>Rafi</td>\n",
       "      <td>Sean Fitter</td>\n",
       "      <td>Marc</td>\n",
       "      <td>N/A (idk)</td>\n",
       "      <td>Oldest children (duh)</td>\n",
       "      <td>Liberal</td>\n",
       "      <td>mask</td>\n",
       "      <td>I expect an open bar at Sean's Bar mitzvah</td>\n",
       "      <td>This years March madness bracket</td>\n",
       "      <td>Tootsie slide, lucid dreams, robbery</td>\n",
       "    </tr>\n",
       "    <tr>\n",
       "      <th>5</th>\n",
       "      <td>2021/04/02 3:11:01 PM AST</td>\n",
       "      <td>Bryan Fitter</td>\n",
       "      <td>O</td>\n",
       "      <td>4/9/1972</td>\n",
       "      <td>No pets</td>\n",
       "      <td>Invisibility</td>\n",
       "      <td>Read, run, watch sports</td>\n",
       "      <td>Thanksgiving</td>\n",
       "      <td>Introvert</td>\n",
       "      <td>Podcast</td>\n",
       "      <td>...</td>\n",
       "      <td>Jeffrey</td>\n",
       "      <td>Alex shub</td>\n",
       "      <td>Marc</td>\n",
       "      <td>Secure</td>\n",
       "      <td>Youngest children</td>\n",
       "      <td>Liberal</td>\n",
       "      <td>mask</td>\n",
       "      <td>I expect an open bar at Sean's Bar mitzvah</td>\n",
       "      <td>My MasterCard conversion project at Citi. Did ...</td>\n",
       "      <td>As long as it does not give me a headache, I d...</td>\n",
       "    </tr>\n",
       "    <tr>\n",
       "      <th>6</th>\n",
       "      <td>2021/04/02 3:38:48 PM AST</td>\n",
       "      <td>Ana Fitter</td>\n",
       "      <td>O</td>\n",
       "      <td>8/12/1940</td>\n",
       "      <td>No pets</td>\n",
       "      <td>Keep my family healthy</td>\n",
       "      <td>Read, travel, play bridge</td>\n",
       "      <td>Rosh Hashanah</td>\n",
       "      <td>Extrovert</td>\n",
       "      <td>Podcast</td>\n",
       "      <td>...</td>\n",
       "      <td>Jeffrey</td>\n",
       "      <td>Sean</td>\n",
       "      <td>Anita</td>\n",
       "      <td>Secure</td>\n",
       "      <td>Oldest children (duh)</td>\n",
       "      <td>Conservative</td>\n",
       "      <td>mask</td>\n",
       "      <td>I love this survey!</td>\n",
       "      <td>Not following my instincts</td>\n",
       "      <td>A Cuban song, a yidish song, an Israeli song</td>\n",
       "    </tr>\n",
       "    <tr>\n",
       "      <th>7</th>\n",
       "      <td>2021/04/02 3:56:20 PM AST</td>\n",
       "      <td>Megan</td>\n",
       "      <td>not sure</td>\n",
       "      <td>10/2/1992</td>\n",
       "      <td>1 mini poodle named Lexie (nicknames: fluffern...</td>\n",
       "      <td>Pause time so I could workout more</td>\n",
       "      <td>Obstacle racing, rock climbing, drinking tequila</td>\n",
       "      <td>Thanksgiving</td>\n",
       "      <td>Extrovert</td>\n",
       "      <td>Music</td>\n",
       "      <td>...</td>\n",
       "      <td>Rafi</td>\n",
       "      <td>Sean</td>\n",
       "      <td>Marc</td>\n",
       "      <td>Avoidant</td>\n",
       "      <td>Oldest children (duh)</td>\n",
       "      <td>Liberal</td>\n",
       "      <td>mask</td>\n",
       "      <td>I expect an open bar at Sean's Bar mitzvah</td>\n",
       "      <td>I work too hard and am too successful and good...</td>\n",
       "      <td>1. Patron, 2. tequila, 3. I'm drunk on margarita</td>\n",
       "    </tr>\n",
       "    <tr>\n",
       "      <th>8</th>\n",
       "      <td>2021/04/02 5:18:38 PM AST</td>\n",
       "      <td>Sheila Feirstein</td>\n",
       "      <td>O</td>\n",
       "      <td>12/19/1964</td>\n",
       "      <td>One dog</td>\n",
       "      <td>To be invisible</td>\n",
       "      <td>Taking nature walks, painting,crafts</td>\n",
       "      <td>Sabbath</td>\n",
       "      <td>Extrovert</td>\n",
       "      <td>Music</td>\n",
       "      <td>...</td>\n",
       "      <td>Jeffrey</td>\n",
       "      <td>Sean</td>\n",
       "      <td>Briana</td>\n",
       "      <td>N/A (idk)</td>\n",
       "      <td>Youngest children</td>\n",
       "      <td>Liberal</td>\n",
       "      <td>mask</td>\n",
       "      <td>I expect an open bar at Sean's Bar mitzvah</td>\n",
       "      <td>Giving in to filling out this form</td>\n",
       "      <td>Staying alive, living on a prayer , we are the...</td>\n",
       "    </tr>\n",
       "    <tr>\n",
       "      <th>9</th>\n",
       "      <td>2021/04/02 5:50:16 PM AST</td>\n",
       "      <td>Marc Bernstein</td>\n",
       "      <td>A</td>\n",
       "      <td>6/24/1998</td>\n",
       "      <td>NaN</td>\n",
       "      <td>Teleportation</td>\n",
       "      <td>Video Games, Running, Watching TV</td>\n",
       "      <td>Thanksgiving</td>\n",
       "      <td>Introvert</td>\n",
       "      <td>Music</td>\n",
       "      <td>...</td>\n",
       "      <td>Jeffrey</td>\n",
       "      <td>Aida</td>\n",
       "      <td>Marc</td>\n",
       "      <td>Avoidant</td>\n",
       "      <td>Youngest children</td>\n",
       "      <td>Liberal</td>\n",
       "      <td>mask</td>\n",
       "      <td>I expect an open bar at Sean's Bar mitzvah</td>\n",
       "      <td>Thinking I am athletic</td>\n",
       "      <td>In Da Club, Drop It Like It's Hot, Low</td>\n",
       "    </tr>\n",
       "    <tr>\n",
       "      <th>10</th>\n",
       "      <td>2021/04/02 6:05:04 PM AST</td>\n",
       "      <td>Jay</td>\n",
       "      <td>A</td>\n",
       "      <td>4/19/1962</td>\n",
       "      <td>No</td>\n",
       "      <td>Control over time</td>\n",
       "      <td>Hiking, astronomy, trumpet</td>\n",
       "      <td>My birthday</td>\n",
       "      <td>Introvert</td>\n",
       "      <td>Music</td>\n",
       "      <td>...</td>\n",
       "      <td>Jeffrey</td>\n",
       "      <td>Miriam</td>\n",
       "      <td>Marc</td>\n",
       "      <td>Anxious</td>\n",
       "      <td>Jessica and Jay (is anyone else a 3rd child?)</td>\n",
       "      <td>Liberal</td>\n",
       "      <td>mask</td>\n",
       "      <td>I expect an open bar at Sean's Bar mitzvah</td>\n",
       "      <td>The bar exam</td>\n",
       "      <td>New versions of the Rolling Stones</td>\n",
       "    </tr>\n",
       "    <tr>\n",
       "      <th>11</th>\n",
       "      <td>2021/04/02 7:05:09 PM AST</td>\n",
       "      <td>Rafi</td>\n",
       "      <td>O</td>\n",
       "      <td>8/23/1990</td>\n",
       "      <td>Fuzz (cat, age 8)</td>\n",
       "      <td>talk to bugs</td>\n",
       "      <td>board games and video games, hike and camp, li...</td>\n",
       "      <td>jewish christmas</td>\n",
       "      <td>Introvert</td>\n",
       "      <td>Music</td>\n",
       "      <td>...</td>\n",
       "      <td>Jeffrey</td>\n",
       "      <td>aida lol</td>\n",
       "      <td>marc :( unless nick is playing</td>\n",
       "      <td>Secure</td>\n",
       "      <td>Middle children</td>\n",
       "      <td>Liberal</td>\n",
       "      <td>mask</td>\n",
       "      <td>I expect an open bar at Sean's Bar mitzvah</td>\n",
       "      <td>quitting my job</td>\n",
       "      <td>drivers license, beez in the trap, baby (justi...</td>\n",
       "    </tr>\n",
       "    <tr>\n",
       "      <th>12</th>\n",
       "      <td>2021/04/02 10:14:08 PM AST</td>\n",
       "      <td>Nina</td>\n",
       "      <td>not sure</td>\n",
       "      <td>4/25/1994</td>\n",
       "      <td>Plant, 1, menashe</td>\n",
       "      <td>Teleportation</td>\n",
       "      <td>Dance, drawing, ping pong</td>\n",
       "      <td>Thanksgiving</td>\n",
       "      <td>Introvert</td>\n",
       "      <td>Music</td>\n",
       "      <td>...</td>\n",
       "      <td>NaN</td>\n",
       "      <td>Jay</td>\n",
       "      <td>Sean</td>\n",
       "      <td>NaN</td>\n",
       "      <td>Youngest children</td>\n",
       "      <td>Liberal</td>\n",
       "      <td>mask</td>\n",
       "      <td>I expect an open bar at Sean's Bar mitzvah</td>\n",
       "      <td>NaN</td>\n",
       "      <td>Bye bye bye</td>\n",
       "    </tr>\n",
       "    <tr>\n",
       "      <th>13</th>\n",
       "      <td>2021/04/04 8:26:34 AM AST</td>\n",
       "      <td>Pola Bradman</td>\n",
       "      <td>A</td>\n",
       "      <td>3/20/1937</td>\n",
       "      <td>NO</td>\n",
       "      <td>To eliminate the pandemic forever.</td>\n",
       "      <td>Painting, writing poetry, reading books.</td>\n",
       "      <td>Channukah</td>\n",
       "      <td>Introvert</td>\n",
       "      <td>Music</td>\n",
       "      <td>...</td>\n",
       "      <td>Rafi</td>\n",
       "      <td>Miriam</td>\n",
       "      <td>I don´t know.</td>\n",
       "      <td>Secure</td>\n",
       "      <td>Youngest children</td>\n",
       "      <td>Conservative</td>\n",
       "      <td>mask</td>\n",
       "      <td>I love this survey!</td>\n",
       "      <td>To understand some of the questions.</td>\n",
       "      <td>Old Cuban songs.</td>\n",
       "    </tr>\n",
       "    <tr>\n",
       "      <th>14</th>\n",
       "      <td>2021/04/04 12:09:28 PM AST</td>\n",
       "      <td>Myles Fitter</td>\n",
       "      <td>O</td>\n",
       "      <td>5/15/2012</td>\n",
       "      <td>No</td>\n",
       "      <td>To shoot lightning out of my hands</td>\n",
       "      <td>Playing video games, sports, spending time wit...</td>\n",
       "      <td>Chanukah</td>\n",
       "      <td>Extrovert</td>\n",
       "      <td>Music</td>\n",
       "      <td>...</td>\n",
       "      <td>Rafi</td>\n",
       "      <td>Bebe</td>\n",
       "      <td>Marc</td>\n",
       "      <td>N/A (idk)</td>\n",
       "      <td>Youngest children</td>\n",
       "      <td>Liberal</td>\n",
       "      <td>mask</td>\n",
       "      <td>I expect an open bar at Sean's Bar mitzvah</td>\n",
       "      <td>Trying to create a musical group</td>\n",
       "      <td>Year 3000, burning up, what a man gotta do</td>\n",
       "    </tr>\n",
       "    <tr>\n",
       "      <th>15</th>\n",
       "      <td>2021/04/06 9:30:20 AM AST</td>\n",
       "      <td>Ariel</td>\n",
       "      <td>not sure</td>\n",
       "      <td>1/30/1988</td>\n",
       "      <td>1 Kiwi Dog</td>\n",
       "      <td>Fly</td>\n",
       "      <td>Gaming, Nature Walks, Reading</td>\n",
       "      <td>Thanksgiving</td>\n",
       "      <td>Introvert</td>\n",
       "      <td>Podcast</td>\n",
       "      <td>...</td>\n",
       "      <td>Rafi</td>\n",
       "      <td>Mimi payed me to say her</td>\n",
       "      <td>Lori</td>\n",
       "      <td>N/A (idk)</td>\n",
       "      <td>Oldest children (duh)</td>\n",
       "      <td>Liberal</td>\n",
       "      <td>mask</td>\n",
       "      <td>I expect an open bar at Sean's Bar mitzvah</td>\n",
       "      <td>Too many</td>\n",
       "      <td>Beyonce only</td>\n",
       "    </tr>\n",
       "    <tr>\n",
       "      <th>16</th>\n",
       "      <td>2021/04/06 10:06:10 PM AST</td>\n",
       "      <td>Jeffrey</td>\n",
       "      <td>O</td>\n",
       "      <td>2/5/1965</td>\n",
       "      <td>1 dog Lexie</td>\n",
       "      <td>Healing</td>\n",
       "      <td>NaN</td>\n",
       "      <td>Thanksgiving</td>\n",
       "      <td>Introvert</td>\n",
       "      <td>Music</td>\n",
       "      <td>...</td>\n",
       "      <td>Jeffrey</td>\n",
       "      <td>Aida</td>\n",
       "      <td>Mark</td>\n",
       "      <td>Secure</td>\n",
       "      <td>Middle children</td>\n",
       "      <td>Liberal</td>\n",
       "      <td>mask</td>\n",
       "      <td>I expect an open bar at Sean's Bar mitzvah</td>\n",
       "      <td>NaN</td>\n",
       "      <td>NaN</td>\n",
       "    </tr>\n",
       "    <tr>\n",
       "      <th>17</th>\n",
       "      <td>2021/04/09 3:09:37 PM AST</td>\n",
       "      <td>Lori Krantz Fitter</td>\n",
       "      <td>O</td>\n",
       "      <td>1/11/1978</td>\n",
       "      <td>No</td>\n",
       "      <td>ability to fly</td>\n",
       "      <td>walking, reading, listening to music</td>\n",
       "      <td>My birthday</td>\n",
       "      <td>Extrovert</td>\n",
       "      <td>Music</td>\n",
       "      <td>...</td>\n",
       "      <td>Rafi</td>\n",
       "      <td>Miriam</td>\n",
       "      <td>Marc</td>\n",
       "      <td>Secure</td>\n",
       "      <td>Youngest children</td>\n",
       "      <td>Liberal</td>\n",
       "      <td>mask</td>\n",
       "      <td>shut the **** up</td>\n",
       "      <td>My first teaching job.</td>\n",
       "      <td>1999, Jersey Girl, Brown Eyed Girl</td>\n",
       "    </tr>\n",
       "    <tr>\n",
       "      <th>18</th>\n",
       "      <td>2021/04/11 5:17:27 PM AST</td>\n",
       "      <td>Jessica Fitter</td>\n",
       "      <td>not sure</td>\n",
       "      <td>5/19/1998</td>\n",
       "      <td>Dog, little girl lexie</td>\n",
       "      <td>Flying</td>\n",
       "      <td>Reading, walking, traveling</td>\n",
       "      <td>Thanksgiving</td>\n",
       "      <td>Extrovert</td>\n",
       "      <td>Music</td>\n",
       "      <td>...</td>\n",
       "      <td>Jeffrey</td>\n",
       "      <td>Jeffrey</td>\n",
       "      <td>Raizel</td>\n",
       "      <td>Avoidant</td>\n",
       "      <td>Jessica and Jay (is anyone else a 3rd child?)</td>\n",
       "      <td>Liberal</td>\n",
       "      <td>mask</td>\n",
       "      <td>I expect an open bar at Sean's Bar mitzvah</td>\n",
       "      <td>I’ve never found the afikomen</td>\n",
       "      <td>Drivers license, WAP, patron tequila</td>\n",
       "    </tr>\n",
       "  </tbody>\n",
       "</table>\n",
       "<p>19 rows × 34 columns</p>\n",
       "</div>"
      ],
      "text/plain": [
       "                     Timestamp        What is your name Blood Type  \\\n",
       "0    2021/04/02 2:15:22 PM AST                   Eliana          O   \n",
       "1    2021/04/02 2:31:29 PM AST  Miriam Bradman Abrahams          O   \n",
       "2    2021/04/02 2:33:30 PM AST           Bebe Bernstein          O   \n",
       "3    2021/04/02 2:47:53 PM AST                   Briana          O   \n",
       "4    2021/04/02 3:06:52 PM AST              Sean Fitter          O   \n",
       "5    2021/04/02 3:11:01 PM AST             Bryan Fitter          O   \n",
       "6    2021/04/02 3:38:48 PM AST               Ana Fitter          O   \n",
       "7    2021/04/02 3:56:20 PM AST                    Megan   not sure   \n",
       "8    2021/04/02 5:18:38 PM AST         Sheila Feirstein          O   \n",
       "9    2021/04/02 5:50:16 PM AST           Marc Bernstein          A   \n",
       "10   2021/04/02 6:05:04 PM AST                      Jay          A   \n",
       "11   2021/04/02 7:05:09 PM AST                     Rafi          O   \n",
       "12  2021/04/02 10:14:08 PM AST                     Nina   not sure   \n",
       "13   2021/04/04 8:26:34 AM AST             Pola Bradman          A   \n",
       "14  2021/04/04 12:09:28 PM AST             Myles Fitter          O   \n",
       "15   2021/04/06 9:30:20 AM AST                    Ariel   not sure   \n",
       "16  2021/04/06 10:06:10 PM AST                  Jeffrey          O   \n",
       "17   2021/04/09 3:09:37 PM AST       Lori Krantz Fitter          O   \n",
       "18   2021/04/11 5:17:27 PM AST           Jessica Fitter   not sure   \n",
       "\n",
       "   What is your birthday  \\\n",
       "0              3/31/1995   \n",
       "1              1/27/1961   \n",
       "2              9/19/1962   \n",
       "3              10/5/1996   \n",
       "4              9/24/2009   \n",
       "5               4/9/1972   \n",
       "6              8/12/1940   \n",
       "7              10/2/1992   \n",
       "8             12/19/1964   \n",
       "9              6/24/1998   \n",
       "10             4/19/1962   \n",
       "11             8/23/1990   \n",
       "12             4/25/1994   \n",
       "13             3/20/1937   \n",
       "14             5/15/2012   \n",
       "15             1/30/1988   \n",
       "16              2/5/1965   \n",
       "17             1/11/1978   \n",
       "18             5/19/1998   \n",
       "\n",
       "   Do you have pets? How many? What kind (cat, dog, etc), provide names  \\\n",
       "0                                                  No                     \n",
       "1                                               Nope                      \n",
       "2                                                  no                     \n",
       "3                                                  No                     \n",
       "4                                                Nope                     \n",
       "5                                             No pets                     \n",
       "6                                             No pets                     \n",
       "7   1 mini poodle named Lexie (nicknames: fluffern...                     \n",
       "8                                             One dog                     \n",
       "9                                                 NaN                     \n",
       "10                                                 No                     \n",
       "11                                  Fuzz (cat, age 8)                     \n",
       "12                                 Plant, 1, menashe                      \n",
       "13                                                 NO                     \n",
       "14                                                 No                     \n",
       "15                                         1 Kiwi Dog                     \n",
       "16                                       1 dog Lexie                      \n",
       "17                                                 No                     \n",
       "18                             Dog, little girl lexie                     \n",
       "\n",
       "   If you can have any super power what power would you have?  \\\n",
       "0                                       Teleportation           \n",
       "1                                             Flying            \n",
       "2                                    healing the sick           \n",
       "3                                       Teleportation           \n",
       "4                     The ability to grow money trees           \n",
       "5                                        Invisibility           \n",
       "6                              Keep my family healthy           \n",
       "7                  Pause time so I could workout more           \n",
       "8                                     To be invisible           \n",
       "9                                      Teleportation            \n",
       "10                                  Control over time           \n",
       "11                                       talk to bugs           \n",
       "12                                     Teleportation            \n",
       "13                 To eliminate the pandemic forever.           \n",
       "14                 To shoot lightning out of my hands           \n",
       "15                                                Fly           \n",
       "16                                           Healing            \n",
       "17                                     ability to fly           \n",
       "18                                             Flying           \n",
       "\n",
       "   What are your top 3 activities to do (hobbies, sports, crafts, etc)?  \\\n",
       "0                          Frisbee, eatting, sleeping                     \n",
       "1                          Reading, yoga, crocheting                      \n",
       "2                             read, walking, shopping                     \n",
       "3            Cooking, watching hockey, bravo tv shows                     \n",
       "4   Play video games, play football, watch YouTube/tv                     \n",
       "5                             Read, run, watch sports                     \n",
       "6                           Read, travel, play bridge                     \n",
       "7    Obstacle racing, rock climbing, drinking tequila                     \n",
       "8                Taking nature walks, painting,crafts                     \n",
       "9                   Video Games, Running, Watching TV                     \n",
       "10                         Hiking, astronomy, trumpet                     \n",
       "11  board games and video games, hike and camp, li...                     \n",
       "12                          Dance, drawing, ping pong                     \n",
       "13           Painting, writing poetry, reading books.                     \n",
       "14  Playing video games, sports, spending time wit...                     \n",
       "15                      Gaming, Nature Walks, Reading                     \n",
       "16                                                NaN                     \n",
       "17               walking, reading, listening to music                     \n",
       "18                        Reading, walking, traveling                     \n",
       "\n",
       "   What is your favorite holiday? Introvert or Extrovert Podcast or Music  \\\n",
       "0                    Thanksgiving              Introvert            Music   \n",
       "1                   Thanksgiving               Extrovert            Music   \n",
       "2                    thanksgiving              Introvert          Podcast   \n",
       "3                   Thanksgiving               Extrovert            Music   \n",
       "4              Thanksgiving (duh)              Introvert            Music   \n",
       "5                   Thanksgiving               Introvert          Podcast   \n",
       "6                   Rosh Hashanah              Extrovert          Podcast   \n",
       "7                    Thanksgiving              Extrovert            Music   \n",
       "8                         Sabbath              Extrovert            Music   \n",
       "9                    Thanksgiving              Introvert            Music   \n",
       "10                    My birthday              Introvert            Music   \n",
       "11               jewish christmas              Introvert            Music   \n",
       "12                  Thanksgiving               Introvert            Music   \n",
       "13                      Channukah              Introvert            Music   \n",
       "14                       Chanukah              Extrovert            Music   \n",
       "15                   Thanksgiving              Introvert          Podcast   \n",
       "16                  Thanksgiving               Introvert            Music   \n",
       "17                    My birthday              Extrovert            Music   \n",
       "18                   Thanksgiving              Extrovert            Music   \n",
       "\n",
       "    ... If Rafi and Jeffrey were playing a board game who would win?  \\\n",
       "0   ...                                            Jeffrey             \n",
       "1   ...                                            Jeffrey             \n",
       "2   ...                                               Rafi             \n",
       "3   ...                                            Jeffrey             \n",
       "4   ...                                               Rafi             \n",
       "5   ...                                            Jeffrey             \n",
       "6   ...                                            Jeffrey             \n",
       "7   ...                                               Rafi             \n",
       "8   ...                                            Jeffrey             \n",
       "9   ...                                            Jeffrey             \n",
       "10  ...                                            Jeffrey             \n",
       "11  ...                                            Jeffrey             \n",
       "12  ...                                                NaN             \n",
       "13  ...                                               Rafi             \n",
       "14  ...                                               Rafi             \n",
       "15  ...                                               Rafi             \n",
       "16  ...                                            Jeffrey             \n",
       "17  ...                                               Rafi             \n",
       "18  ...                                            Jeffrey             \n",
       "\n",
       "   Besides Anita Pola and Juan, which relative knows the most Spanish?  \\\n",
       "0                                           Beatrice                     \n",
       "1      Yo hablo español mejor que los otros;) jajaja                     \n",
       "2                                                Aida                    \n",
       "3                                                Juan                    \n",
       "4                                         Sean Fitter                    \n",
       "5                                           Alex shub                    \n",
       "6                                                Sean                    \n",
       "7                                                Sean                    \n",
       "8                                                Sean                    \n",
       "9                                                Aida                    \n",
       "10                                             Miriam                    \n",
       "11                                           aida lol                    \n",
       "12                                                Jay                    \n",
       "13                                             Miriam                    \n",
       "14                                               Bebe                    \n",
       "15                           Mimi payed me to say her                    \n",
       "16                                               Aida                    \n",
       "17                                             Miriam                    \n",
       "18                                            Jeffrey                    \n",
       "\n",
       "   Which relative do you think is most likely to win mario kart?  \\\n",
       "0                                              Eliana              \n",
       "1                                                Rafi              \n",
       "2                                                Marc              \n",
       "3                                            Not marc              \n",
       "4                                                Marc              \n",
       "5                                                Marc              \n",
       "6                                               Anita              \n",
       "7                                                Marc              \n",
       "8                                              Briana              \n",
       "9                                                Marc              \n",
       "10                                               Marc              \n",
       "11                     marc :( unless nick is playing              \n",
       "12                                               Sean              \n",
       "13                                      I don´t know.              \n",
       "14                                               Marc              \n",
       "15                                              Lori               \n",
       "16                                               Mark              \n",
       "17                                               Marc              \n",
       "18                                             Raizel              \n",
       "\n",
       "   Attachment Style                                 Which is best?  \\\n",
       "0           Anxious                                Middle children   \n",
       "1           Anxious                          Oldest children (duh)   \n",
       "2         N/A (idk)                          Oldest children (duh)   \n",
       "3         N/A (idk)                              Youngest children   \n",
       "4         N/A (idk)                          Oldest children (duh)   \n",
       "5            Secure                              Youngest children   \n",
       "6            Secure                          Oldest children (duh)   \n",
       "7          Avoidant                          Oldest children (duh)   \n",
       "8         N/A (idk)                              Youngest children   \n",
       "9          Avoidant                              Youngest children   \n",
       "10          Anxious  Jessica and Jay (is anyone else a 3rd child?)   \n",
       "11           Secure                                Middle children   \n",
       "12              NaN                              Youngest children   \n",
       "13           Secure                              Youngest children   \n",
       "14        N/A (idk)                              Youngest children   \n",
       "15        N/A (idk)                          Oldest children (duh)   \n",
       "16           Secure                                Middle children   \n",
       "17           Secure                              Youngest children   \n",
       "18         Avoidant  Jessica and Jay (is anyone else a 3rd child?)   \n",
       "\n",
       "   Which describes you best? Mask or no mask  \\\n",
       "0                    Liberal            mask   \n",
       "1                    Liberal            mask   \n",
       "2                    Liberal            mask   \n",
       "3                    Liberal            mask   \n",
       "4                    Liberal            mask   \n",
       "5                    Liberal            mask   \n",
       "6               Conservative            mask   \n",
       "7                    Liberal            mask   \n",
       "8                    Liberal            mask   \n",
       "9                    Liberal            mask   \n",
       "10                   Liberal            mask   \n",
       "11                   Liberal            mask   \n",
       "12                   Liberal            mask   \n",
       "13              Conservative            mask   \n",
       "14                   Liberal            mask   \n",
       "15                   Liberal            mask   \n",
       "16                   Liberal            mask   \n",
       "17                   Liberal            mask   \n",
       "18                   Liberal            mask   \n",
       "\n",
       "    Raizel, HOW MANY MORE QUESTIONS ARE THERE?  \\\n",
       "0   I expect an open bar at Sean's Bar mitzvah   \n",
       "1   I expect an open bar at Sean's Bar mitzvah   \n",
       "2                             shut the **** up   \n",
       "3   I expect an open bar at Sean's Bar mitzvah   \n",
       "4   I expect an open bar at Sean's Bar mitzvah   \n",
       "5   I expect an open bar at Sean's Bar mitzvah   \n",
       "6                          I love this survey!   \n",
       "7   I expect an open bar at Sean's Bar mitzvah   \n",
       "8   I expect an open bar at Sean's Bar mitzvah   \n",
       "9   I expect an open bar at Sean's Bar mitzvah   \n",
       "10  I expect an open bar at Sean's Bar mitzvah   \n",
       "11  I expect an open bar at Sean's Bar mitzvah   \n",
       "12  I expect an open bar at Sean's Bar mitzvah   \n",
       "13                         I love this survey!   \n",
       "14  I expect an open bar at Sean's Bar mitzvah   \n",
       "15  I expect an open bar at Sean's Bar mitzvah   \n",
       "16  I expect an open bar at Sean's Bar mitzvah   \n",
       "17                            shut the **** up   \n",
       "18  I expect an open bar at Sean's Bar mitzvah   \n",
       "\n",
       "                           What is your best failure?  \\\n",
       "0   One time raizel and Marc both stole sodas out ...   \n",
       "1             Wtf does that mean?! Failure is no fun    \n",
       "2          NJ License project sending someone to jail   \n",
       "3          Getting rejected by my top 5 grad programs   \n",
       "4                    This years March madness bracket   \n",
       "5   My MasterCard conversion project at Citi. Did ...   \n",
       "6                          Not following my instincts   \n",
       "7   I work too hard and am too successful and good...   \n",
       "8                  Giving in to filling out this form   \n",
       "9                              Thinking I am athletic   \n",
       "10                                       The bar exam   \n",
       "11                                    quitting my job   \n",
       "12                                                NaN   \n",
       "13               To understand some of the questions.   \n",
       "14                   Trying to create a musical group   \n",
       "15                                           Too many   \n",
       "16                                                NaN   \n",
       "17                             My first teaching job.   \n",
       "18                      I’ve never found the afikomen   \n",
       "\n",
       "         Top 3 songs you want to hear at Club Turkey?  \n",
       "0   1. Anything Shakira 2. Petron tequila I’m drun...  \n",
       "1                      Anything by Justin Timberlake   \n",
       "2      Copacabana, Living la vida loca, We are family  \n",
       "3           In da club, toxic, discovery channel song  \n",
       "4                Tootsie slide, lucid dreams, robbery  \n",
       "5   As long as it does not give me a headache, I d...  \n",
       "6        A Cuban song, a yidish song, an Israeli song  \n",
       "7    1. Patron, 2. tequila, 3. I'm drunk on margarita  \n",
       "8   Staying alive, living on a prayer , we are the...  \n",
       "9              In Da Club, Drop It Like It's Hot, Low  \n",
       "10                 New versions of the Rolling Stones  \n",
       "11  drivers license, beez in the trap, baby (justi...  \n",
       "12                                       Bye bye bye   \n",
       "13                                   Old Cuban songs.  \n",
       "14         Year 3000, burning up, what a man gotta do  \n",
       "15                                       Beyonce only  \n",
       "16                                                NaN  \n",
       "17                 1999, Jersey Girl, Brown Eyed Girl  \n",
       "18               Drivers license, WAP, patron tequila  \n",
       "\n",
       "[19 rows x 34 columns]"
      ]
     },
     "execution_count": 3,
     "metadata": {},
     "output_type": "execute_result"
    }
   ],
   "source": [
    "df"
   ]
  },
  {
   "cell_type": "code",
   "execution_count": 4,
   "metadata": {},
   "outputs": [
    {
     "data": {
      "text/plain": [
       "array(['Eliana', 'Miriam Bradman Abrahams', 'Bebe Bernstein', 'Briana',\n",
       "       'Sean Fitter', 'Bryan Fitter', 'Ana Fitter', 'Megan',\n",
       "       'Sheila Feirstein', 'Marc Bernstein', 'Jay', 'Rafi', 'Nina',\n",
       "       'Pola Bradman', 'Myles Fitter', 'Ariel', 'Jeffrey',\n",
       "       'Lori Krantz Fitter', 'Jessica Fitter'], dtype=object)"
      ]
     },
     "execution_count": 4,
     "metadata": {},
     "output_type": "execute_result"
    }
   ],
   "source": [
    "df['What is your name'].unique()"
   ]
  },
  {
   "cell_type": "code",
   "execution_count": 5,
   "metadata": {},
   "outputs": [
    {
     "data": {
      "text/plain": [
       "Lori Krantz Fitter         1\n",
       "Sheila Feirstein           1\n",
       "Marc Bernstein             1\n",
       "Jeffrey                    1\n",
       "Bryan Fitter               1\n",
       "Briana                     1\n",
       "Pola Bradman               1\n",
       "Ana Fitter                 1\n",
       "Rafi                       1\n",
       "Bebe Bernstein             1\n",
       "Jessica Fitter             1\n",
       "Myles Fitter               1\n",
       "Nina                       1\n",
       "Eliana                     1\n",
       "Ariel                      1\n",
       "Miriam Bradman Abrahams    1\n",
       "Jay                        1\n",
       "Megan                      1\n",
       "Sean Fitter                1\n",
       "Name: What is your name, dtype: int64"
      ]
     },
     "execution_count": 5,
     "metadata": {},
     "output_type": "execute_result"
    }
   ],
   "source": [
    "df['What is your name'].value_counts()"
   ]
  },
  {
   "cell_type": "code",
   "execution_count": 6,
   "metadata": {},
   "outputs": [],
   "source": [
    "import seaborn as sns\n",
    "import numpy as np "
   ]
  },
  {
   "cell_type": "code",
   "execution_count": 7,
   "metadata": {},
   "outputs": [
    {
     "data": {
      "text/html": [
       "<div>\n",
       "<style scoped>\n",
       "    .dataframe tbody tr th:only-of-type {\n",
       "        vertical-align: middle;\n",
       "    }\n",
       "\n",
       "    .dataframe tbody tr th {\n",
       "        vertical-align: top;\n",
       "    }\n",
       "\n",
       "    .dataframe thead th {\n",
       "        text-align: right;\n",
       "    }\n",
       "</style>\n",
       "<table border=\"1\" class=\"dataframe\">\n",
       "  <thead>\n",
       "    <tr style=\"text-align: right;\">\n",
       "      <th></th>\n",
       "      <th>Timestamp</th>\n",
       "      <th>What is your name</th>\n",
       "      <th>Blood Type</th>\n",
       "      <th>What is your birthday</th>\n",
       "      <th>Do you have pets? How many? What kind (cat, dog, etc), provide names</th>\n",
       "      <th>If you can have any super power what power would you have?</th>\n",
       "      <th>What are your top 3 activities to do (hobbies, sports, crafts, etc)?</th>\n",
       "      <th>What is your favorite holiday?</th>\n",
       "      <th>Introvert or Extrovert</th>\n",
       "      <th>Podcast or Music</th>\n",
       "      <th>...</th>\n",
       "      <th>If Rafi and Jeffrey were playing a board game who would win?</th>\n",
       "      <th>Besides Anita Pola and Juan, which relative knows the most Spanish?</th>\n",
       "      <th>Which relative do you think is most likely to win mario kart?</th>\n",
       "      <th>Attachment Style</th>\n",
       "      <th>Which is best?</th>\n",
       "      <th>Which describes you best?</th>\n",
       "      <th>Mask or no mask</th>\n",
       "      <th>Raizel, HOW MANY MORE QUESTIONS ARE THERE?</th>\n",
       "      <th>What is your best failure?</th>\n",
       "      <th>Top 3 songs you want to hear at Club Turkey?</th>\n",
       "    </tr>\n",
       "  </thead>\n",
       "  <tbody>\n",
       "    <tr>\n",
       "      <th>17</th>\n",
       "      <td>2021/04/09 3:09:37 PM AST</td>\n",
       "      <td>Lori Krantz Fitter</td>\n",
       "      <td>O</td>\n",
       "      <td>1/11/1978</td>\n",
       "      <td>No</td>\n",
       "      <td>ability to fly</td>\n",
       "      <td>walking, reading, listening to music</td>\n",
       "      <td>My birthday</td>\n",
       "      <td>Extrovert</td>\n",
       "      <td>Music</td>\n",
       "      <td>...</td>\n",
       "      <td>Rafi</td>\n",
       "      <td>Miriam</td>\n",
       "      <td>Marc</td>\n",
       "      <td>Secure</td>\n",
       "      <td>Youngest children</td>\n",
       "      <td>Liberal</td>\n",
       "      <td>mask</td>\n",
       "      <td>shut the **** up</td>\n",
       "      <td>My first teaching job.</td>\n",
       "      <td>1999, Jersey Girl, Brown Eyed Girl</td>\n",
       "    </tr>\n",
       "    <tr>\n",
       "      <th>1</th>\n",
       "      <td>2021/04/02 2:31:29 PM AST</td>\n",
       "      <td>Miriam Bradman Abrahams</td>\n",
       "      <td>O</td>\n",
       "      <td>1/27/1961</td>\n",
       "      <td>Nope</td>\n",
       "      <td>Flying</td>\n",
       "      <td>Reading, yoga, crocheting</td>\n",
       "      <td>Thanksgiving</td>\n",
       "      <td>Extrovert</td>\n",
       "      <td>Music</td>\n",
       "      <td>...</td>\n",
       "      <td>Jeffrey</td>\n",
       "      <td>Yo hablo español mejor que los otros;) jajaja</td>\n",
       "      <td>Rafi</td>\n",
       "      <td>Anxious</td>\n",
       "      <td>Oldest children (duh)</td>\n",
       "      <td>Liberal</td>\n",
       "      <td>mask</td>\n",
       "      <td>I expect an open bar at Sean's Bar mitzvah</td>\n",
       "      <td>Wtf does that mean?! Failure is no fun</td>\n",
       "      <td>Anything by Justin Timberlake</td>\n",
       "    </tr>\n",
       "    <tr>\n",
       "      <th>15</th>\n",
       "      <td>2021/04/06 9:30:20 AM AST</td>\n",
       "      <td>Ariel</td>\n",
       "      <td>not sure</td>\n",
       "      <td>1/30/1988</td>\n",
       "      <td>1 Kiwi Dog</td>\n",
       "      <td>Fly</td>\n",
       "      <td>Gaming, Nature Walks, Reading</td>\n",
       "      <td>Thanksgiving</td>\n",
       "      <td>Introvert</td>\n",
       "      <td>Podcast</td>\n",
       "      <td>...</td>\n",
       "      <td>Rafi</td>\n",
       "      <td>Mimi payed me to say her</td>\n",
       "      <td>Lori</td>\n",
       "      <td>N/A (idk)</td>\n",
       "      <td>Oldest children (duh)</td>\n",
       "      <td>Liberal</td>\n",
       "      <td>mask</td>\n",
       "      <td>I expect an open bar at Sean's Bar mitzvah</td>\n",
       "      <td>Too many</td>\n",
       "      <td>Beyonce only</td>\n",
       "    </tr>\n",
       "    <tr>\n",
       "      <th>7</th>\n",
       "      <td>2021/04/02 3:56:20 PM AST</td>\n",
       "      <td>Megan</td>\n",
       "      <td>not sure</td>\n",
       "      <td>10/2/1992</td>\n",
       "      <td>1 mini poodle named Lexie (nicknames: fluffern...</td>\n",
       "      <td>Pause time so I could workout more</td>\n",
       "      <td>Obstacle racing, rock climbing, drinking tequila</td>\n",
       "      <td>Thanksgiving</td>\n",
       "      <td>Extrovert</td>\n",
       "      <td>Music</td>\n",
       "      <td>...</td>\n",
       "      <td>Rafi</td>\n",
       "      <td>Sean</td>\n",
       "      <td>Marc</td>\n",
       "      <td>Avoidant</td>\n",
       "      <td>Oldest children (duh)</td>\n",
       "      <td>Liberal</td>\n",
       "      <td>mask</td>\n",
       "      <td>I expect an open bar at Sean's Bar mitzvah</td>\n",
       "      <td>I work too hard and am too successful and good...</td>\n",
       "      <td>1. Patron, 2. tequila, 3. I'm drunk on margarita</td>\n",
       "    </tr>\n",
       "    <tr>\n",
       "      <th>3</th>\n",
       "      <td>2021/04/02 2:47:53 PM AST</td>\n",
       "      <td>Briana</td>\n",
       "      <td>O</td>\n",
       "      <td>10/5/1996</td>\n",
       "      <td>No</td>\n",
       "      <td>Teleportation</td>\n",
       "      <td>Cooking, watching hockey, bravo tv shows</td>\n",
       "      <td>Thanksgiving</td>\n",
       "      <td>Extrovert</td>\n",
       "      <td>Music</td>\n",
       "      <td>...</td>\n",
       "      <td>Jeffrey</td>\n",
       "      <td>Juan</td>\n",
       "      <td>Not marc</td>\n",
       "      <td>N/A (idk)</td>\n",
       "      <td>Youngest children</td>\n",
       "      <td>Liberal</td>\n",
       "      <td>mask</td>\n",
       "      <td>I expect an open bar at Sean's Bar mitzvah</td>\n",
       "      <td>Getting rejected by my top 5 grad programs</td>\n",
       "      <td>In da club, toxic, discovery channel song</td>\n",
       "    </tr>\n",
       "    <tr>\n",
       "      <th>8</th>\n",
       "      <td>2021/04/02 5:18:38 PM AST</td>\n",
       "      <td>Sheila Feirstein</td>\n",
       "      <td>O</td>\n",
       "      <td>12/19/1964</td>\n",
       "      <td>One dog</td>\n",
       "      <td>To be invisible</td>\n",
       "      <td>Taking nature walks, painting,crafts</td>\n",
       "      <td>Sabbath</td>\n",
       "      <td>Extrovert</td>\n",
       "      <td>Music</td>\n",
       "      <td>...</td>\n",
       "      <td>Jeffrey</td>\n",
       "      <td>Sean</td>\n",
       "      <td>Briana</td>\n",
       "      <td>N/A (idk)</td>\n",
       "      <td>Youngest children</td>\n",
       "      <td>Liberal</td>\n",
       "      <td>mask</td>\n",
       "      <td>I expect an open bar at Sean's Bar mitzvah</td>\n",
       "      <td>Giving in to filling out this form</td>\n",
       "      <td>Staying alive, living on a prayer , we are the...</td>\n",
       "    </tr>\n",
       "    <tr>\n",
       "      <th>16</th>\n",
       "      <td>2021/04/06 10:06:10 PM AST</td>\n",
       "      <td>Jeffrey</td>\n",
       "      <td>O</td>\n",
       "      <td>2/5/1965</td>\n",
       "      <td>1 dog Lexie</td>\n",
       "      <td>Healing</td>\n",
       "      <td>NaN</td>\n",
       "      <td>Thanksgiving</td>\n",
       "      <td>Introvert</td>\n",
       "      <td>Music</td>\n",
       "      <td>...</td>\n",
       "      <td>Jeffrey</td>\n",
       "      <td>Aida</td>\n",
       "      <td>Mark</td>\n",
       "      <td>Secure</td>\n",
       "      <td>Middle children</td>\n",
       "      <td>Liberal</td>\n",
       "      <td>mask</td>\n",
       "      <td>I expect an open bar at Sean's Bar mitzvah</td>\n",
       "      <td>NaN</td>\n",
       "      <td>NaN</td>\n",
       "    </tr>\n",
       "    <tr>\n",
       "      <th>13</th>\n",
       "      <td>2021/04/04 8:26:34 AM AST</td>\n",
       "      <td>Pola Bradman</td>\n",
       "      <td>A</td>\n",
       "      <td>3/20/1937</td>\n",
       "      <td>NO</td>\n",
       "      <td>To eliminate the pandemic forever.</td>\n",
       "      <td>Painting, writing poetry, reading books.</td>\n",
       "      <td>Channukah</td>\n",
       "      <td>Introvert</td>\n",
       "      <td>Music</td>\n",
       "      <td>...</td>\n",
       "      <td>Rafi</td>\n",
       "      <td>Miriam</td>\n",
       "      <td>I don´t know.</td>\n",
       "      <td>Secure</td>\n",
       "      <td>Youngest children</td>\n",
       "      <td>Conservative</td>\n",
       "      <td>mask</td>\n",
       "      <td>I love this survey!</td>\n",
       "      <td>To understand some of the questions.</td>\n",
       "      <td>Old Cuban songs.</td>\n",
       "    </tr>\n",
       "    <tr>\n",
       "      <th>0</th>\n",
       "      <td>2021/04/02 2:15:22 PM AST</td>\n",
       "      <td>Eliana</td>\n",
       "      <td>O</td>\n",
       "      <td>3/31/1995</td>\n",
       "      <td>No</td>\n",
       "      <td>Teleportation</td>\n",
       "      <td>Frisbee, eatting, sleeping</td>\n",
       "      <td>Thanksgiving</td>\n",
       "      <td>Introvert</td>\n",
       "      <td>Music</td>\n",
       "      <td>...</td>\n",
       "      <td>Jeffrey</td>\n",
       "      <td>Beatrice</td>\n",
       "      <td>Eliana</td>\n",
       "      <td>Anxious</td>\n",
       "      <td>Middle children</td>\n",
       "      <td>Liberal</td>\n",
       "      <td>mask</td>\n",
       "      <td>I expect an open bar at Sean's Bar mitzvah</td>\n",
       "      <td>One time raizel and Marc both stole sodas out ...</td>\n",
       "      <td>1. Anything Shakira 2. Petron tequila I’m drun...</td>\n",
       "    </tr>\n",
       "    <tr>\n",
       "      <th>10</th>\n",
       "      <td>2021/04/02 6:05:04 PM AST</td>\n",
       "      <td>Jay</td>\n",
       "      <td>A</td>\n",
       "      <td>4/19/1962</td>\n",
       "      <td>No</td>\n",
       "      <td>Control over time</td>\n",
       "      <td>Hiking, astronomy, trumpet</td>\n",
       "      <td>My birthday</td>\n",
       "      <td>Introvert</td>\n",
       "      <td>Music</td>\n",
       "      <td>...</td>\n",
       "      <td>Jeffrey</td>\n",
       "      <td>Miriam</td>\n",
       "      <td>Marc</td>\n",
       "      <td>Anxious</td>\n",
       "      <td>Jessica and Jay (is anyone else a 3rd child?)</td>\n",
       "      <td>Liberal</td>\n",
       "      <td>mask</td>\n",
       "      <td>I expect an open bar at Sean's Bar mitzvah</td>\n",
       "      <td>The bar exam</td>\n",
       "      <td>New versions of the Rolling Stones</td>\n",
       "    </tr>\n",
       "    <tr>\n",
       "      <th>12</th>\n",
       "      <td>2021/04/02 10:14:08 PM AST</td>\n",
       "      <td>Nina</td>\n",
       "      <td>not sure</td>\n",
       "      <td>4/25/1994</td>\n",
       "      <td>Plant, 1, menashe</td>\n",
       "      <td>Teleportation</td>\n",
       "      <td>Dance, drawing, ping pong</td>\n",
       "      <td>Thanksgiving</td>\n",
       "      <td>Introvert</td>\n",
       "      <td>Music</td>\n",
       "      <td>...</td>\n",
       "      <td>NaN</td>\n",
       "      <td>Jay</td>\n",
       "      <td>Sean</td>\n",
       "      <td>NaN</td>\n",
       "      <td>Youngest children</td>\n",
       "      <td>Liberal</td>\n",
       "      <td>mask</td>\n",
       "      <td>I expect an open bar at Sean's Bar mitzvah</td>\n",
       "      <td>NaN</td>\n",
       "      <td>Bye bye bye</td>\n",
       "    </tr>\n",
       "    <tr>\n",
       "      <th>5</th>\n",
       "      <td>2021/04/02 3:11:01 PM AST</td>\n",
       "      <td>Bryan Fitter</td>\n",
       "      <td>O</td>\n",
       "      <td>4/9/1972</td>\n",
       "      <td>No pets</td>\n",
       "      <td>Invisibility</td>\n",
       "      <td>Read, run, watch sports</td>\n",
       "      <td>Thanksgiving</td>\n",
       "      <td>Introvert</td>\n",
       "      <td>Podcast</td>\n",
       "      <td>...</td>\n",
       "      <td>Jeffrey</td>\n",
       "      <td>Alex shub</td>\n",
       "      <td>Marc</td>\n",
       "      <td>Secure</td>\n",
       "      <td>Youngest children</td>\n",
       "      <td>Liberal</td>\n",
       "      <td>mask</td>\n",
       "      <td>I expect an open bar at Sean's Bar mitzvah</td>\n",
       "      <td>My MasterCard conversion project at Citi. Did ...</td>\n",
       "      <td>As long as it does not give me a headache, I d...</td>\n",
       "    </tr>\n",
       "    <tr>\n",
       "      <th>14</th>\n",
       "      <td>2021/04/04 12:09:28 PM AST</td>\n",
       "      <td>Myles Fitter</td>\n",
       "      <td>O</td>\n",
       "      <td>5/15/2012</td>\n",
       "      <td>No</td>\n",
       "      <td>To shoot lightning out of my hands</td>\n",
       "      <td>Playing video games, sports, spending time wit...</td>\n",
       "      <td>Chanukah</td>\n",
       "      <td>Extrovert</td>\n",
       "      <td>Music</td>\n",
       "      <td>...</td>\n",
       "      <td>Rafi</td>\n",
       "      <td>Bebe</td>\n",
       "      <td>Marc</td>\n",
       "      <td>N/A (idk)</td>\n",
       "      <td>Youngest children</td>\n",
       "      <td>Liberal</td>\n",
       "      <td>mask</td>\n",
       "      <td>I expect an open bar at Sean's Bar mitzvah</td>\n",
       "      <td>Trying to create a musical group</td>\n",
       "      <td>Year 3000, burning up, what a man gotta do</td>\n",
       "    </tr>\n",
       "    <tr>\n",
       "      <th>18</th>\n",
       "      <td>2021/04/11 5:17:27 PM AST</td>\n",
       "      <td>Jessica Fitter</td>\n",
       "      <td>not sure</td>\n",
       "      <td>5/19/1998</td>\n",
       "      <td>Dog, little girl lexie</td>\n",
       "      <td>Flying</td>\n",
       "      <td>Reading, walking, traveling</td>\n",
       "      <td>Thanksgiving</td>\n",
       "      <td>Extrovert</td>\n",
       "      <td>Music</td>\n",
       "      <td>...</td>\n",
       "      <td>Jeffrey</td>\n",
       "      <td>Jeffrey</td>\n",
       "      <td>Raizel</td>\n",
       "      <td>Avoidant</td>\n",
       "      <td>Jessica and Jay (is anyone else a 3rd child?)</td>\n",
       "      <td>Liberal</td>\n",
       "      <td>mask</td>\n",
       "      <td>I expect an open bar at Sean's Bar mitzvah</td>\n",
       "      <td>I’ve never found the afikomen</td>\n",
       "      <td>Drivers license, WAP, patron tequila</td>\n",
       "    </tr>\n",
       "    <tr>\n",
       "      <th>9</th>\n",
       "      <td>2021/04/02 5:50:16 PM AST</td>\n",
       "      <td>Marc Bernstein</td>\n",
       "      <td>A</td>\n",
       "      <td>6/24/1998</td>\n",
       "      <td>NaN</td>\n",
       "      <td>Teleportation</td>\n",
       "      <td>Video Games, Running, Watching TV</td>\n",
       "      <td>Thanksgiving</td>\n",
       "      <td>Introvert</td>\n",
       "      <td>Music</td>\n",
       "      <td>...</td>\n",
       "      <td>Jeffrey</td>\n",
       "      <td>Aida</td>\n",
       "      <td>Marc</td>\n",
       "      <td>Avoidant</td>\n",
       "      <td>Youngest children</td>\n",
       "      <td>Liberal</td>\n",
       "      <td>mask</td>\n",
       "      <td>I expect an open bar at Sean's Bar mitzvah</td>\n",
       "      <td>Thinking I am athletic</td>\n",
       "      <td>In Da Club, Drop It Like It's Hot, Low</td>\n",
       "    </tr>\n",
       "    <tr>\n",
       "      <th>6</th>\n",
       "      <td>2021/04/02 3:38:48 PM AST</td>\n",
       "      <td>Ana Fitter</td>\n",
       "      <td>O</td>\n",
       "      <td>8/12/1940</td>\n",
       "      <td>No pets</td>\n",
       "      <td>Keep my family healthy</td>\n",
       "      <td>Read, travel, play bridge</td>\n",
       "      <td>Rosh Hashanah</td>\n",
       "      <td>Extrovert</td>\n",
       "      <td>Podcast</td>\n",
       "      <td>...</td>\n",
       "      <td>Jeffrey</td>\n",
       "      <td>Sean</td>\n",
       "      <td>Anita</td>\n",
       "      <td>Secure</td>\n",
       "      <td>Oldest children (duh)</td>\n",
       "      <td>Conservative</td>\n",
       "      <td>mask</td>\n",
       "      <td>I love this survey!</td>\n",
       "      <td>Not following my instincts</td>\n",
       "      <td>A Cuban song, a yidish song, an Israeli song</td>\n",
       "    </tr>\n",
       "    <tr>\n",
       "      <th>11</th>\n",
       "      <td>2021/04/02 7:05:09 PM AST</td>\n",
       "      <td>Rafi</td>\n",
       "      <td>O</td>\n",
       "      <td>8/23/1990</td>\n",
       "      <td>Fuzz (cat, age 8)</td>\n",
       "      <td>talk to bugs</td>\n",
       "      <td>board games and video games, hike and camp, li...</td>\n",
       "      <td>jewish christmas</td>\n",
       "      <td>Introvert</td>\n",
       "      <td>Music</td>\n",
       "      <td>...</td>\n",
       "      <td>Jeffrey</td>\n",
       "      <td>aida lol</td>\n",
       "      <td>marc :( unless nick is playing</td>\n",
       "      <td>Secure</td>\n",
       "      <td>Middle children</td>\n",
       "      <td>Liberal</td>\n",
       "      <td>mask</td>\n",
       "      <td>I expect an open bar at Sean's Bar mitzvah</td>\n",
       "      <td>quitting my job</td>\n",
       "      <td>drivers license, beez in the trap, baby (justi...</td>\n",
       "    </tr>\n",
       "    <tr>\n",
       "      <th>2</th>\n",
       "      <td>2021/04/02 2:33:30 PM AST</td>\n",
       "      <td>Bebe Bernstein</td>\n",
       "      <td>O</td>\n",
       "      <td>9/19/1962</td>\n",
       "      <td>no</td>\n",
       "      <td>healing the sick</td>\n",
       "      <td>read, walking, shopping</td>\n",
       "      <td>thanksgiving</td>\n",
       "      <td>Introvert</td>\n",
       "      <td>Podcast</td>\n",
       "      <td>...</td>\n",
       "      <td>Rafi</td>\n",
       "      <td>Aida</td>\n",
       "      <td>Marc</td>\n",
       "      <td>N/A (idk)</td>\n",
       "      <td>Oldest children (duh)</td>\n",
       "      <td>Liberal</td>\n",
       "      <td>mask</td>\n",
       "      <td>shut the **** up</td>\n",
       "      <td>NJ License project sending someone to jail</td>\n",
       "      <td>Copacabana, Living la vida loca, We are family</td>\n",
       "    </tr>\n",
       "    <tr>\n",
       "      <th>4</th>\n",
       "      <td>2021/04/02 3:06:52 PM AST</td>\n",
       "      <td>Sean Fitter</td>\n",
       "      <td>O</td>\n",
       "      <td>9/24/2009</td>\n",
       "      <td>Nope</td>\n",
       "      <td>The ability to grow money trees</td>\n",
       "      <td>Play video games, play football, watch YouTube/tv</td>\n",
       "      <td>Thanksgiving (duh)</td>\n",
       "      <td>Introvert</td>\n",
       "      <td>Music</td>\n",
       "      <td>...</td>\n",
       "      <td>Rafi</td>\n",
       "      <td>Sean Fitter</td>\n",
       "      <td>Marc</td>\n",
       "      <td>N/A (idk)</td>\n",
       "      <td>Oldest children (duh)</td>\n",
       "      <td>Liberal</td>\n",
       "      <td>mask</td>\n",
       "      <td>I expect an open bar at Sean's Bar mitzvah</td>\n",
       "      <td>This years March madness bracket</td>\n",
       "      <td>Tootsie slide, lucid dreams, robbery</td>\n",
       "    </tr>\n",
       "  </tbody>\n",
       "</table>\n",
       "<p>19 rows × 34 columns</p>\n",
       "</div>"
      ],
      "text/plain": [
       "                     Timestamp        What is your name Blood Type  \\\n",
       "17   2021/04/09 3:09:37 PM AST       Lori Krantz Fitter          O   \n",
       "1    2021/04/02 2:31:29 PM AST  Miriam Bradman Abrahams          O   \n",
       "15   2021/04/06 9:30:20 AM AST                    Ariel   not sure   \n",
       "7    2021/04/02 3:56:20 PM AST                    Megan   not sure   \n",
       "3    2021/04/02 2:47:53 PM AST                   Briana          O   \n",
       "8    2021/04/02 5:18:38 PM AST         Sheila Feirstein          O   \n",
       "16  2021/04/06 10:06:10 PM AST                  Jeffrey          O   \n",
       "13   2021/04/04 8:26:34 AM AST             Pola Bradman          A   \n",
       "0    2021/04/02 2:15:22 PM AST                   Eliana          O   \n",
       "10   2021/04/02 6:05:04 PM AST                      Jay          A   \n",
       "12  2021/04/02 10:14:08 PM AST                     Nina   not sure   \n",
       "5    2021/04/02 3:11:01 PM AST             Bryan Fitter          O   \n",
       "14  2021/04/04 12:09:28 PM AST             Myles Fitter          O   \n",
       "18   2021/04/11 5:17:27 PM AST           Jessica Fitter   not sure   \n",
       "9    2021/04/02 5:50:16 PM AST           Marc Bernstein          A   \n",
       "6    2021/04/02 3:38:48 PM AST               Ana Fitter          O   \n",
       "11   2021/04/02 7:05:09 PM AST                     Rafi          O   \n",
       "2    2021/04/02 2:33:30 PM AST           Bebe Bernstein          O   \n",
       "4    2021/04/02 3:06:52 PM AST              Sean Fitter          O   \n",
       "\n",
       "   What is your birthday  \\\n",
       "17             1/11/1978   \n",
       "1              1/27/1961   \n",
       "15             1/30/1988   \n",
       "7              10/2/1992   \n",
       "3              10/5/1996   \n",
       "8             12/19/1964   \n",
       "16              2/5/1965   \n",
       "13             3/20/1937   \n",
       "0              3/31/1995   \n",
       "10             4/19/1962   \n",
       "12             4/25/1994   \n",
       "5               4/9/1972   \n",
       "14             5/15/2012   \n",
       "18             5/19/1998   \n",
       "9              6/24/1998   \n",
       "6              8/12/1940   \n",
       "11             8/23/1990   \n",
       "2              9/19/1962   \n",
       "4              9/24/2009   \n",
       "\n",
       "   Do you have pets? How many? What kind (cat, dog, etc), provide names  \\\n",
       "17                                                 No                     \n",
       "1                                               Nope                      \n",
       "15                                         1 Kiwi Dog                     \n",
       "7   1 mini poodle named Lexie (nicknames: fluffern...                     \n",
       "3                                                  No                     \n",
       "8                                             One dog                     \n",
       "16                                       1 dog Lexie                      \n",
       "13                                                 NO                     \n",
       "0                                                  No                     \n",
       "10                                                 No                     \n",
       "12                                 Plant, 1, menashe                      \n",
       "5                                             No pets                     \n",
       "14                                                 No                     \n",
       "18                             Dog, little girl lexie                     \n",
       "9                                                 NaN                     \n",
       "6                                             No pets                     \n",
       "11                                  Fuzz (cat, age 8)                     \n",
       "2                                                  no                     \n",
       "4                                                Nope                     \n",
       "\n",
       "   If you can have any super power what power would you have?  \\\n",
       "17                                     ability to fly           \n",
       "1                                             Flying            \n",
       "15                                                Fly           \n",
       "7                  Pause time so I could workout more           \n",
       "3                                       Teleportation           \n",
       "8                                     To be invisible           \n",
       "16                                           Healing            \n",
       "13                 To eliminate the pandemic forever.           \n",
       "0                                       Teleportation           \n",
       "10                                  Control over time           \n",
       "12                                     Teleportation            \n",
       "5                                        Invisibility           \n",
       "14                 To shoot lightning out of my hands           \n",
       "18                                             Flying           \n",
       "9                                      Teleportation            \n",
       "6                              Keep my family healthy           \n",
       "11                                       talk to bugs           \n",
       "2                                    healing the sick           \n",
       "4                     The ability to grow money trees           \n",
       "\n",
       "   What are your top 3 activities to do (hobbies, sports, crafts, etc)?  \\\n",
       "17               walking, reading, listening to music                     \n",
       "1                          Reading, yoga, crocheting                      \n",
       "15                      Gaming, Nature Walks, Reading                     \n",
       "7    Obstacle racing, rock climbing, drinking tequila                     \n",
       "3            Cooking, watching hockey, bravo tv shows                     \n",
       "8                Taking nature walks, painting,crafts                     \n",
       "16                                                NaN                     \n",
       "13           Painting, writing poetry, reading books.                     \n",
       "0                          Frisbee, eatting, sleeping                     \n",
       "10                         Hiking, astronomy, trumpet                     \n",
       "12                          Dance, drawing, ping pong                     \n",
       "5                             Read, run, watch sports                     \n",
       "14  Playing video games, sports, spending time wit...                     \n",
       "18                        Reading, walking, traveling                     \n",
       "9                   Video Games, Running, Watching TV                     \n",
       "6                           Read, travel, play bridge                     \n",
       "11  board games and video games, hike and camp, li...                     \n",
       "2                             read, walking, shopping                     \n",
       "4   Play video games, play football, watch YouTube/tv                     \n",
       "\n",
       "   What is your favorite holiday? Introvert or Extrovert Podcast or Music  \\\n",
       "17                    My birthday              Extrovert            Music   \n",
       "1                   Thanksgiving               Extrovert            Music   \n",
       "15                   Thanksgiving              Introvert          Podcast   \n",
       "7                    Thanksgiving              Extrovert            Music   \n",
       "3                   Thanksgiving               Extrovert            Music   \n",
       "8                         Sabbath              Extrovert            Music   \n",
       "16                  Thanksgiving               Introvert            Music   \n",
       "13                      Channukah              Introvert            Music   \n",
       "0                    Thanksgiving              Introvert            Music   \n",
       "10                    My birthday              Introvert            Music   \n",
       "12                  Thanksgiving               Introvert            Music   \n",
       "5                   Thanksgiving               Introvert          Podcast   \n",
       "14                       Chanukah              Extrovert            Music   \n",
       "18                   Thanksgiving              Extrovert            Music   \n",
       "9                    Thanksgiving              Introvert            Music   \n",
       "6                   Rosh Hashanah              Extrovert          Podcast   \n",
       "11               jewish christmas              Introvert            Music   \n",
       "2                    thanksgiving              Introvert          Podcast   \n",
       "4              Thanksgiving (duh)              Introvert            Music   \n",
       "\n",
       "    ... If Rafi and Jeffrey were playing a board game who would win?  \\\n",
       "17  ...                                               Rafi             \n",
       "1   ...                                            Jeffrey             \n",
       "15  ...                                               Rafi             \n",
       "7   ...                                               Rafi             \n",
       "3   ...                                            Jeffrey             \n",
       "8   ...                                            Jeffrey             \n",
       "16  ...                                            Jeffrey             \n",
       "13  ...                                               Rafi             \n",
       "0   ...                                            Jeffrey             \n",
       "10  ...                                            Jeffrey             \n",
       "12  ...                                                NaN             \n",
       "5   ...                                            Jeffrey             \n",
       "14  ...                                               Rafi             \n",
       "18  ...                                            Jeffrey             \n",
       "9   ...                                            Jeffrey             \n",
       "6   ...                                            Jeffrey             \n",
       "11  ...                                            Jeffrey             \n",
       "2   ...                                               Rafi             \n",
       "4   ...                                               Rafi             \n",
       "\n",
       "   Besides Anita Pola and Juan, which relative knows the most Spanish?  \\\n",
       "17                                             Miriam                    \n",
       "1      Yo hablo español mejor que los otros;) jajaja                     \n",
       "15                           Mimi payed me to say her                    \n",
       "7                                                Sean                    \n",
       "3                                                Juan                    \n",
       "8                                                Sean                    \n",
       "16                                               Aida                    \n",
       "13                                             Miriam                    \n",
       "0                                           Beatrice                     \n",
       "10                                             Miriam                    \n",
       "12                                                Jay                    \n",
       "5                                           Alex shub                    \n",
       "14                                               Bebe                    \n",
       "18                                            Jeffrey                    \n",
       "9                                                Aida                    \n",
       "6                                                Sean                    \n",
       "11                                           aida lol                    \n",
       "2                                                Aida                    \n",
       "4                                         Sean Fitter                    \n",
       "\n",
       "   Which relative do you think is most likely to win mario kart?  \\\n",
       "17                                               Marc              \n",
       "1                                                Rafi              \n",
       "15                                              Lori               \n",
       "7                                                Marc              \n",
       "3                                            Not marc              \n",
       "8                                              Briana              \n",
       "16                                               Mark              \n",
       "13                                      I don´t know.              \n",
       "0                                              Eliana              \n",
       "10                                               Marc              \n",
       "12                                               Sean              \n",
       "5                                                Marc              \n",
       "14                                               Marc              \n",
       "18                                             Raizel              \n",
       "9                                                Marc              \n",
       "6                                               Anita              \n",
       "11                     marc :( unless nick is playing              \n",
       "2                                                Marc              \n",
       "4                                                Marc              \n",
       "\n",
       "   Attachment Style                                 Which is best?  \\\n",
       "17           Secure                              Youngest children   \n",
       "1           Anxious                          Oldest children (duh)   \n",
       "15        N/A (idk)                          Oldest children (duh)   \n",
       "7          Avoidant                          Oldest children (duh)   \n",
       "3         N/A (idk)                              Youngest children   \n",
       "8         N/A (idk)                              Youngest children   \n",
       "16           Secure                                Middle children   \n",
       "13           Secure                              Youngest children   \n",
       "0           Anxious                                Middle children   \n",
       "10          Anxious  Jessica and Jay (is anyone else a 3rd child?)   \n",
       "12              NaN                              Youngest children   \n",
       "5            Secure                              Youngest children   \n",
       "14        N/A (idk)                              Youngest children   \n",
       "18         Avoidant  Jessica and Jay (is anyone else a 3rd child?)   \n",
       "9          Avoidant                              Youngest children   \n",
       "6            Secure                          Oldest children (duh)   \n",
       "11           Secure                                Middle children   \n",
       "2         N/A (idk)                          Oldest children (duh)   \n",
       "4         N/A (idk)                          Oldest children (duh)   \n",
       "\n",
       "   Which describes you best? Mask or no mask  \\\n",
       "17                   Liberal            mask   \n",
       "1                    Liberal            mask   \n",
       "15                   Liberal            mask   \n",
       "7                    Liberal            mask   \n",
       "3                    Liberal            mask   \n",
       "8                    Liberal            mask   \n",
       "16                   Liberal            mask   \n",
       "13              Conservative            mask   \n",
       "0                    Liberal            mask   \n",
       "10                   Liberal            mask   \n",
       "12                   Liberal            mask   \n",
       "5                    Liberal            mask   \n",
       "14                   Liberal            mask   \n",
       "18                   Liberal            mask   \n",
       "9                    Liberal            mask   \n",
       "6               Conservative            mask   \n",
       "11                   Liberal            mask   \n",
       "2                    Liberal            mask   \n",
       "4                    Liberal            mask   \n",
       "\n",
       "    Raizel, HOW MANY MORE QUESTIONS ARE THERE?  \\\n",
       "17                            shut the **** up   \n",
       "1   I expect an open bar at Sean's Bar mitzvah   \n",
       "15  I expect an open bar at Sean's Bar mitzvah   \n",
       "7   I expect an open bar at Sean's Bar mitzvah   \n",
       "3   I expect an open bar at Sean's Bar mitzvah   \n",
       "8   I expect an open bar at Sean's Bar mitzvah   \n",
       "16  I expect an open bar at Sean's Bar mitzvah   \n",
       "13                         I love this survey!   \n",
       "0   I expect an open bar at Sean's Bar mitzvah   \n",
       "10  I expect an open bar at Sean's Bar mitzvah   \n",
       "12  I expect an open bar at Sean's Bar mitzvah   \n",
       "5   I expect an open bar at Sean's Bar mitzvah   \n",
       "14  I expect an open bar at Sean's Bar mitzvah   \n",
       "18  I expect an open bar at Sean's Bar mitzvah   \n",
       "9   I expect an open bar at Sean's Bar mitzvah   \n",
       "6                          I love this survey!   \n",
       "11  I expect an open bar at Sean's Bar mitzvah   \n",
       "2                             shut the **** up   \n",
       "4   I expect an open bar at Sean's Bar mitzvah   \n",
       "\n",
       "                           What is your best failure?  \\\n",
       "17                             My first teaching job.   \n",
       "1             Wtf does that mean?! Failure is no fun    \n",
       "15                                           Too many   \n",
       "7   I work too hard and am too successful and good...   \n",
       "3          Getting rejected by my top 5 grad programs   \n",
       "8                  Giving in to filling out this form   \n",
       "16                                                NaN   \n",
       "13               To understand some of the questions.   \n",
       "0   One time raizel and Marc both stole sodas out ...   \n",
       "10                                       The bar exam   \n",
       "12                                                NaN   \n",
       "5   My MasterCard conversion project at Citi. Did ...   \n",
       "14                   Trying to create a musical group   \n",
       "18                      I’ve never found the afikomen   \n",
       "9                              Thinking I am athletic   \n",
       "6                          Not following my instincts   \n",
       "11                                    quitting my job   \n",
       "2          NJ License project sending someone to jail   \n",
       "4                    This years March madness bracket   \n",
       "\n",
       "         Top 3 songs you want to hear at Club Turkey?  \n",
       "17                 1999, Jersey Girl, Brown Eyed Girl  \n",
       "1                      Anything by Justin Timberlake   \n",
       "15                                       Beyonce only  \n",
       "7    1. Patron, 2. tequila, 3. I'm drunk on margarita  \n",
       "3           In da club, toxic, discovery channel song  \n",
       "8   Staying alive, living on a prayer , we are the...  \n",
       "16                                                NaN  \n",
       "13                                   Old Cuban songs.  \n",
       "0   1. Anything Shakira 2. Petron tequila I’m drun...  \n",
       "10                 New versions of the Rolling Stones  \n",
       "12                                       Bye bye bye   \n",
       "5   As long as it does not give me a headache, I d...  \n",
       "14         Year 3000, burning up, what a man gotta do  \n",
       "18               Drivers license, WAP, patron tequila  \n",
       "9              In Da Club, Drop It Like It's Hot, Low  \n",
       "6        A Cuban song, a yidish song, an Israeli song  \n",
       "11  drivers license, beez in the trap, baby (justi...  \n",
       "2      Copacabana, Living la vida loca, We are family  \n",
       "4                Tootsie slide, lucid dreams, robbery  \n",
       "\n",
       "[19 rows x 34 columns]"
      ]
     },
     "execution_count": 7,
     "metadata": {},
     "output_type": "execute_result"
    }
   ],
   "source": [
    "df.sort_values(by = 'What is your birthday', ascending = True)"
   ]
  },
  {
   "cell_type": "code",
   "execution_count": 8,
   "metadata": {},
   "outputs": [],
   "source": [
    "# sns.barplot(x=\"Blood Type\", data = df, palette=\"Set3\")"
   ]
  },
  {
   "cell_type": "code",
   "execution_count": 9,
   "metadata": {},
   "outputs": [
    {
     "ename": "TypeError",
     "evalue": "'numpy.ndarray' object is not callable",
     "output_type": "error",
     "traceback": [
      "\u001b[1;31m---------------------------------------------------------------------------\u001b[0m",
      "\u001b[1;31mTypeError\u001b[0m                                 Traceback (most recent call last)",
      "\u001b[1;32m<ipython-input-9-c44632e9c95b>\u001b[0m in \u001b[0;36m<module>\u001b[1;34m\u001b[0m\n\u001b[0;32m      1\u001b[0m \u001b[1;31m# fig, ax = plt.subplots(figsize = (11,11))\u001b[0m\u001b[1;33m\u001b[0m\u001b[1;33m\u001b[0m\u001b[1;33m\u001b[0m\u001b[0m\n\u001b[0;32m      2\u001b[0m \u001b[0mx\u001b[0m \u001b[1;33m=\u001b[0m \u001b[0mdf\u001b[0m\u001b[1;33m[\u001b[0m\u001b[1;34m'Blood Type'\u001b[0m\u001b[1;33m]\u001b[0m\u001b[1;33m.\u001b[0m\u001b[0mkeys\u001b[0m\u001b[1;33m(\u001b[0m\u001b[1;33m)\u001b[0m\u001b[1;33m\u001b[0m\u001b[1;33m\u001b[0m\u001b[0m\n\u001b[1;32m----> 3\u001b[1;33m \u001b[0my\u001b[0m \u001b[1;33m=\u001b[0m \u001b[0mdf\u001b[0m\u001b[1;33m.\u001b[0m\u001b[0mvalues\u001b[0m\u001b[1;33m(\u001b[0m\u001b[1;33m)\u001b[0m\u001b[1;33m\u001b[0m\u001b[1;33m\u001b[0m\u001b[0m\n\u001b[0m",
      "\u001b[1;31mTypeError\u001b[0m: 'numpy.ndarray' object is not callable"
     ]
    }
   ],
   "source": [
    "# fig, ax = plt.subplots(figsize = (11,11))\n",
    "x = df['Blood Type'].keys()\n",
    "y = df.values()"
   ]
  },
  {
   "cell_type": "code",
   "execution_count": null,
   "metadata": {},
   "outputs": [],
   "source": [
    "df['Blood Type'].keys()\n",
    "df['Blood Type'].value_counts()"
   ]
  },
  {
   "cell_type": "code",
   "execution_count": null,
   "metadata": {},
   "outputs": [],
   "source": [
    "df.drop_duplicates(subset='What is your name', keep='first', inplace=True)"
   ]
  },
  {
   "cell_type": "code",
   "execution_count": 10,
   "metadata": {},
   "outputs": [
    {
     "data": {
      "text/plain": [
       "O           12\n",
       "not sure     4\n",
       "A            3\n",
       "Name: Blood Type, dtype: int64"
      ]
     },
     "execution_count": 10,
     "metadata": {},
     "output_type": "execute_result"
    }
   ],
   "source": [
    "df['Blood Type'].keys()\n",
    "df['Blood Type'].value_counts()"
   ]
  },
  {
   "cell_type": "code",
   "execution_count": 11,
   "metadata": {},
   "outputs": [
    {
     "data": {
      "text/plain": [
       "RangeIndex(start=0, stop=19, step=1)"
      ]
     },
     "execution_count": 11,
     "metadata": {},
     "output_type": "execute_result"
    }
   ],
   "source": [
    "df['Blood Type'].index"
   ]
  },
  {
   "cell_type": "code",
   "execution_count": 12,
   "metadata": {},
   "outputs": [
    {
     "data": {
      "text/plain": [
       "array(['O', 'O', 'O', 'O', 'O', 'O', 'O', 'not sure', 'O', 'A', 'A', 'O',\n",
       "       'not sure', 'A', 'O', 'not sure', 'O', 'O', 'not sure'],\n",
       "      dtype=object)"
      ]
     },
     "execution_count": 12,
     "metadata": {},
     "output_type": "execute_result"
    }
   ],
   "source": [
    "df['Blood Type'].values"
   ]
  },
  {
   "cell_type": "code",
   "execution_count": 13,
   "metadata": {},
   "outputs": [
    {
     "data": {
      "text/plain": [
       "<BarContainer object of 3 artists>"
      ]
     },
     "execution_count": 13,
     "metadata": {},
     "output_type": "execute_result"
    },
    {
     "data": {
      "image/png": "[encoded data removed]",
      "text/plain": [
       "<Figure size 1080x540 with 1 Axes>"
      ]
     },
     "metadata": {
      "needs_background": "light"
     },
     "output_type": "display_data"
    }
   ],
   "source": [
    "fig, ax = plt.subplots(figsize = (15, 7.5))\n",
    "plt.bar(df['Blood Type'].value_counts().index, df['Blood Type'].value_counts().values )"
   ]
  },
  {
   "cell_type": "code",
   "execution_count": 14,
   "metadata": {},
   "outputs": [
    {
     "data": {
      "text/plain": [
       "<AxesSubplot:>"
      ]
     },
     "execution_count": 14,
     "metadata": {},
     "output_type": "execute_result"
    },
    {
     "data": {
      "image/png": "[encoded data removed]",
      "text/plain": [
       "<Figure size 432x288 with 1 Axes>"
      ]
     },
     "metadata": {
      "needs_background": "light"
     },
     "output_type": "display_data"
    }
   ],
   "source": [
    "df['Blood Type'].value_counts().plot(kind='bar')"
   ]
  },
  {
   "cell_type": "code",
   "execution_count": 15,
   "metadata": {},
   "outputs": [
    {
     "data": {
      "text/plain": [
       "0      3/31/1995\n",
       "1      1/27/1961\n",
       "2      9/19/1962\n",
       "3      10/5/1996\n",
       "4      9/24/2009\n",
       "5       4/9/1972\n",
       "6      8/12/1940\n",
       "7      10/2/1992\n",
       "8     12/19/1964\n",
       "9      6/24/1998\n",
       "10     4/19/1962\n",
       "11     8/23/1990\n",
       "12     4/25/1994\n",
       "13     3/20/1937\n",
       "14     5/15/2012\n",
       "15     1/30/1988\n",
       "16      2/5/1965\n",
       "17     1/11/1978\n",
       "18     5/19/1998\n",
       "Name: What is your birthday, dtype: object"
      ]
     },
     "execution_count": 15,
     "metadata": {},
     "output_type": "execute_result"
    }
   ],
   "source": [
    "df['What is your birthday']"
   ]
  },
  {
   "cell_type": "code",
   "execution_count": 16,
   "metadata": {},
   "outputs": [
    {
     "data": {
      "text/plain": [
       "0     1995\n",
       "1     1961\n",
       "2     1962\n",
       "3     1996\n",
       "4     2009\n",
       "5     1972\n",
       "6     1940\n",
       "7     1992\n",
       "8     1964\n",
       "9     1998\n",
       "10    1962\n",
       "11    1990\n",
       "12    1994\n",
       "13    1937\n",
       "14    2012\n",
       "15    1988\n",
       "16    1965\n",
       "17    1978\n",
       "18    1998\n",
       "Name: Year, dtype: object"
      ]
     },
     "execution_count": 16,
     "metadata": {},
     "output_type": "execute_result"
    }
   ],
   "source": [
    "df['Year'] = df['What is your birthday'].map(lambda x: x.replace('/', '')[-4:])\n",
    "df['Year']"
   ]
  },
  {
   "cell_type": "code",
   "execution_count": 17,
   "metadata": {},
   "outputs": [
    {
     "data": {
      "text/plain": [
       "['1937',\n",
       " '1940',\n",
       " '1961',\n",
       " '1962',\n",
       " '1962',\n",
       " '1964',\n",
       " '1965',\n",
       " '1972',\n",
       " '1978',\n",
       " '1988',\n",
       " '1990',\n",
       " '1992',\n",
       " '1994',\n",
       " '1995',\n",
       " '1996',\n",
       " '1998',\n",
       " '1998',\n",
       " '2009',\n",
       " '2012']"
      ]
     },
     "execution_count": 17,
     "metadata": {},
     "output_type": "execute_result"
    }
   ],
   "source": [
    "sorted(list(df['Year'].values))"
   ]
  },
  {
   "cell_type": "code",
   "execution_count": 18,
   "metadata": {},
   "outputs": [
    {
     "data": {
      "text/plain": [
       "<BarContainer object of 19 artists>"
      ]
     },
     "execution_count": 18,
     "metadata": {},
     "output_type": "execute_result"
    },
    {
     "data": {
      "image/png": "[encoded data removed]",
      "text/plain": [
       "<Figure size 1080x540 with 1 Axes>"
      ]
     },
     "metadata": {
      "needs_background": "light"
     },
     "output_type": "display_data"
    }
   ],
   "source": [
    "fig, ax = plt.subplots(figsize = (15, 7.5))\n",
    "plt.bar(sorted(list(df['Year'].values)), len(sorted(list(df['Year'].values))))"
   ]
  },
  {
   "cell_type": "code",
   "execution_count": 19,
   "metadata": {},
   "outputs": [
    {
     "data": {
      "text/plain": [
       "0     1995\n",
       "1     1961\n",
       "2     1962\n",
       "3     1996\n",
       "4     2009\n",
       "5     1972\n",
       "6     1940\n",
       "7     1992\n",
       "8     1964\n",
       "9     1998\n",
       "10    1962\n",
       "11    1990\n",
       "12    1994\n",
       "13    1937\n",
       "14    2012\n",
       "15    1988\n",
       "16    1965\n",
       "17    1978\n",
       "18    1998\n",
       "Name: Year, dtype: int32"
      ]
     },
     "execution_count": 19,
     "metadata": {},
     "output_type": "execute_result"
    }
   ],
   "source": [
    "df['Year'].astype(int)"
   ]
  },
  {
   "cell_type": "code",
   "execution_count": 20,
   "metadata": {},
   "outputs": [
    {
     "data": {
      "text/plain": [
       "13    1937\n",
       "6     1940\n",
       "1     1961\n",
       "2     1962\n",
       "10    1962\n",
       "8     1964\n",
       "16    1965\n",
       "5     1972\n",
       "17    1978\n",
       "15    1988\n",
       "11    1990\n",
       "7     1992\n",
       "12    1994\n",
       "0     1995\n",
       "3     1996\n",
       "9     1998\n",
       "18    1998\n",
       "4     2009\n",
       "14    2012\n",
       "Name: Year, dtype: object"
      ]
     },
     "execution_count": 20,
     "metadata": {},
     "output_type": "execute_result"
    }
   ],
   "source": [
    "df['Year'].sort_values(ascending=True)"
   ]
  },
  {
   "cell_type": "code",
   "execution_count": 21,
   "metadata": {},
   "outputs": [
    {
     "data": {
      "text/plain": [
       "1998    2\n",
       "1962    2\n",
       "1995    1\n",
       "1964    1\n",
       "1937    1\n",
       "1940    1\n",
       "1990    1\n",
       "1994    1\n",
       "1992    1\n",
       "2009    1\n",
       "1978    1\n",
       "1996    1\n",
       "1972    1\n",
       "1961    1\n",
       "1965    1\n",
       "1988    1\n",
       "2012    1\n",
       "Name: Year, dtype: int64"
      ]
     },
     "execution_count": 21,
     "metadata": {},
     "output_type": "execute_result"
    }
   ],
   "source": [
    "df['Year'].value_counts()"
   ]
  },
  {
   "cell_type": "code",
   "execution_count": 22,
   "metadata": {},
   "outputs": [
    {
     "data": {
      "text/plain": [
       "1998    2\n",
       "1962    2\n",
       "1995    1\n",
       "1964    1\n",
       "1937    1\n",
       "1940    1\n",
       "1990    1\n",
       "1994    1\n",
       "1992    1\n",
       "2009    1\n",
       "1978    1\n",
       "1996    1\n",
       "1972    1\n",
       "1961    1\n",
       "1965    1\n",
       "1988    1\n",
       "2012    1\n",
       "Name: Year, dtype: int64"
      ]
     },
     "execution_count": 22,
     "metadata": {},
     "output_type": "execute_result"
    }
   ],
   "source": [
    "df['Year'].sort_values(ascending=True).value_counts()"
   ]
  },
  {
   "cell_type": "code",
   "execution_count": 23,
   "metadata": {},
   "outputs": [
    {
     "data": {
      "text/plain": [
       "['1937',\n",
       " '1940',\n",
       " '1961',\n",
       " '1962',\n",
       " '1962',\n",
       " '1964',\n",
       " '1965',\n",
       " '1972',\n",
       " '1978',\n",
       " '1988',\n",
       " '1990',\n",
       " '1992',\n",
       " '1994',\n",
       " '1995',\n",
       " '1996',\n",
       " '1998',\n",
       " '1998',\n",
       " '2009',\n",
       " '2012']"
      ]
     },
     "execution_count": 23,
     "metadata": {},
     "output_type": "execute_result"
    }
   ],
   "source": [
    "[str(x) for x in df['Year'].sort_values(ascending=True)]"
   ]
  },
  {
   "cell_type": "code",
   "execution_count": 24,
   "metadata": {},
   "outputs": [],
   "source": [
    "from collections import Counter"
   ]
  },
  {
   "cell_type": "code",
   "execution_count": 25,
   "metadata": {},
   "outputs": [
    {
     "data": {
      "text/plain": [
       "array([2, 2, 1, 1, 1, 1, 1, 1, 1, 1, 1, 1, 1, 1, 1, 1, 1], dtype=int64)"
      ]
     },
     "execution_count": 25,
     "metadata": {},
     "output_type": "execute_result"
    }
   ],
   "source": [
    "df['Year'].sort_values(ascending=True).value_counts().values"
   ]
  },
  {
   "cell_type": "code",
   "execution_count": 26,
   "metadata": {},
   "outputs": [
    {
     "data": {
      "text/plain": [
       "<BarContainer object of 17 artists>"
      ]
     },
     "execution_count": 26,
     "metadata": {},
     "output_type": "execute_result"
    },
    {
     "data": {
      "image/png": "[encoded data removed]",
      "text/plain": [
       "<Figure size 1080x540 with 1 Axes>"
      ]
     },
     "metadata": {
      "needs_background": "light"
     },
     "output_type": "display_data"
    }
   ],
   "source": [
    "fig, ax = plt.subplots(figsize = (15, 7.5))\n",
    "years = df['Year'].value_counts().sort_index(ascending=True)\n",
    "plt.yticks(np.arange(0, 3))\n",
    "plt.bar(years.index, years.values)"
   ]
  },
  {
   "cell_type": "code",
   "execution_count": 27,
   "metadata": {},
   "outputs": [
    {
     "data": {
      "text/plain": [
       "0                          Teleportation\n",
       "1                                Flying \n",
       "2                       healing the sick\n",
       "3                          Teleportation\n",
       "4        The ability to grow money trees\n",
       "5                           Invisibility\n",
       "6                 Keep my family healthy\n",
       "7     Pause time so I could workout more\n",
       "8                        To be invisible\n",
       "9                         Teleportation \n",
       "10                     Control over time\n",
       "11                          talk to bugs\n",
       "12                        Teleportation \n",
       "13    To eliminate the pandemic forever.\n",
       "14    To shoot lightning out of my hands\n",
       "15                                   Fly\n",
       "16                              Healing \n",
       "17                        ability to fly\n",
       "18                                Flying\n",
       "Name: If you can have any super power what power would you have?, dtype: object"
      ]
     },
     "execution_count": 27,
     "metadata": {},
     "output_type": "execute_result"
    }
   ],
   "source": [
    "df['If you can have any super power what power would you have?']"
   ]
  },
  {
   "cell_type": "code",
   "execution_count": 28,
   "metadata": {},
   "outputs": [],
   "source": [
    "# import random\n",
    "# def random_colors(nums_gen):\n",
    "#     colors = [(random.random(), random.random(), random.random()) for i in range(nums_gen)]\n",
    "#     print(colors)\n",
    "#     return colors"
   ]
  },
  {
   "cell_type": "code",
   "execution_count": 29,
   "metadata": {},
   "outputs": [
    {
     "data": {
      "text/plain": [
       "<BarContainer object of 10 artists>"
      ]
     },
     "execution_count": 29,
     "metadata": {},
     "output_type": "execute_result"
    },
    {
     "data": {
      "image/png": "[encoded data removed]",
      "text/plain": [
       "<Figure size 1080x540 with 1 Axes>"
      ]
     },
     "metadata": {
      "needs_background": "light"
     },
     "output_type": "display_data"
    }
   ],
   "source": [
    "fig, ax = plt.subplots(figsize = (15, 7.5))\n",
    "x = ['control over time','eliminate the pandemic','flying', 'healing sick/keeping family healthy', 'invisible',\n",
    "     'grow money on trees','pause time to workout more','shoot lightning out of my hands','talk to bugs','telepathy' ]\n",
    "y = [1, 1, 4, 3, 2, 1, 1, 1, 1, 4]\n",
    "color = [\"midnightblue\", \"fuchsia\", \"darkmagenta\"]\n",
    "# color = random_colors(len(y))\n",
    "plt.yticks(np.arange(0, 7))\n",
    "plt.xticks(rotation = 90)\n",
    "plt.title(label = 'Super Power', fontsize = 22)\n",
    "plt.xlabel('superpower', fontdict={'fontsize': 15})\n",
    "plt.ylabel('number of people', fontdict={'fontsize': 15})\n",
    "plt.bar(x, y, color=color)"
   ]
  },
  {
   "cell_type": "code",
   "execution_count": 30,
   "metadata": {},
   "outputs": [
    {
     "data": {
      "text/plain": [
       "0                            Frisbee, eatting, sleeping\n",
       "1                            Reading, yoga, crocheting \n",
       "2                               read, walking, shopping\n",
       "3              Cooking, watching hockey, bravo tv shows\n",
       "4     Play video games, play football, watch YouTube/tv\n",
       "5                               Read, run, watch sports\n",
       "6                             Read, travel, play bridge\n",
       "7      Obstacle racing, rock climbing, drinking tequila\n",
       "8                  Taking nature walks, painting,crafts\n",
       "9                     Video Games, Running, Watching TV\n",
       "10                           Hiking, astronomy, trumpet\n",
       "11    board games and video games, hike and camp, li...\n",
       "12                            Dance, drawing, ping pong\n",
       "13             Painting, writing poetry, reading books.\n",
       "14    Playing video games, sports, spending time wit...\n",
       "15                        Gaming, Nature Walks, Reading\n",
       "16                                                  NaN\n",
       "17                 walking, reading, listening to music\n",
       "18                          Reading, walking, traveling\n",
       "Name: What are your top 3 activities to do (hobbies, sports, crafts, etc)?, dtype: object"
      ]
     },
     "execution_count": 30,
     "metadata": {},
     "output_type": "execute_result"
    }
   ],
   "source": [
    "df['What are your top 3 activities to do (hobbies, sports, crafts, etc)?'].explode()"
   ]
  },
  {
   "cell_type": "code",
   "execution_count": 31,
   "metadata": {},
   "outputs": [],
   "source": [
    "# fig, ax = plt.subplots(figsize = (15, 7.5))\n",
    "# x = ['frisbee','eating','sleeping', 'reading', 'yoga', 'crocheting', 'walking', 'shopping', 'cooking', 'watching hockey', \n",
    "#      'bravo tv', 'video games', 'play football', 'watch youtube', 'watch tv', 'run', 'watch sports', 'travel', 'play bridge',\n",
    "#     'obstacle racing', 'rock climbing', 'tequila drinking', 'nature walk', 'painting', 'crafts', 'hiking', 'astronomy', \n",
    "#      'trumpet', 'camp', 'listening to music', 'dance', 'drawing', 'poetry', 'paint', 'ping pong', 'family time']\n",
    "# y = []\n",
    "# color = [\"yellow\", \"pink\", \"orange\"]\n",
    "# # color = random_colors(len(y))\n",
    "# plt.yticks(np.arange(0, 7))\n",
    "# plt.xticks(rotation = 90)\n",
    "# plt.title(label = 'activities', fontsize = 22)\n",
    "# plt.xlabel('activities', fontdict={'fontsize': 15})\n",
    "# plt.ylabel('number of people', fontdict={'fontsize': 15})\n",
    "# plt.bar(x, y, color=color)"
   ]
  },
  {
   "cell_type": "code",
   "execution_count": 32,
   "metadata": {},
   "outputs": [
    {
     "data": {
      "text/plain": [
       "0         thanksgiving\n",
       "1         thanksgiving\n",
       "2         thanksgiving\n",
       "3         thanksgiving\n",
       "4         thanksgiving\n",
       "5         thanksgiving\n",
       "6         rosh hashana\n",
       "7         thanksgiving\n",
       "8               sabbat\n",
       "9         thanksgiving\n",
       "10         my birthday\n",
       "11    jewish christmas\n",
       "12        thanksgiving\n",
       "13            channuka\n",
       "14             chanuka\n",
       "15        thanksgiving\n",
       "16        thanksgiving\n",
       "17         my birthday\n",
       "18        thanksgiving\n",
       "Name: What is your favorite holiday?, dtype: object"
      ]
     },
     "execution_count": 32,
     "metadata": {},
     "output_type": "execute_result"
    }
   ],
   "source": [
    "df['What is your favorite holiday?'] = df['What is your favorite holiday?'].map(lambda x: x.lower().strip(' (duh)')) \n",
    "df['What is your favorite holiday?']"
   ]
  },
  {
   "cell_type": "code",
   "execution_count": 33,
   "metadata": {
    "scrolled": true
   },
   "outputs": [
    {
     "data": {
      "text/plain": [
       "thanksgiving        12\n",
       "my birthday          2\n",
       "jewish christmas     1\n",
       "chanuka              1\n",
       "channuka             1\n",
       "rosh hashana         1\n",
       "sabbat               1\n",
       "Name: What is your favorite holiday?, dtype: int64"
      ]
     },
     "execution_count": 33,
     "metadata": {},
     "output_type": "execute_result"
    }
   ],
   "source": [
    "# df['What is your favorite holiday?'].map(lambda x: x.strip()) \n",
    "df['What is your favorite holiday?'].map(lambda x: x.lower().strip(' (duh)')).value_counts()"
   ]
  },
  {
   "cell_type": "code",
   "execution_count": 34,
   "metadata": {},
   "outputs": [
    {
     "data": {
      "text/plain": [
       "array(['thanksgiving', 'thanksgiving', 'thanksgiving', 'thanksgiving',\n",
       "       'thanksgiving', 'thanksgiving', 'rosh hashana', 'thanksgiving',\n",
       "       'sabbat', 'thanksgiving', 'my birthday', 'jewish christmas',\n",
       "       'thanksgiving', 'channuka', 'channukah', 'thanksgiving',\n",
       "       'thanksgiving', 'my birthday', 'thanksgiving'], dtype=object)"
      ]
     },
     "execution_count": 34,
     "metadata": {},
     "output_type": "execute_result"
    }
   ],
   "source": [
    "holiday = np.where(df['What is your favorite holiday?'] == 'chanuka', 'channukah', df['What is your favorite holiday?'].map(lambda x: x.lower().strip(' (duh)')))\n",
    "holiday"
   ]
  },
  {
   "cell_type": "code",
   "execution_count": 44,
   "metadata": {},
   "outputs": [
    {
     "data": {
      "text/plain": [
       "0         thanksgiving\n",
       "1         thanksgiving\n",
       "2         thanksgiving\n",
       "3         thanksgiving\n",
       "4         thanksgiving\n",
       "5         thanksgiving\n",
       "6         rosh hashana\n",
       "7         thanksgiving\n",
       "8               sabbat\n",
       "9         thanksgiving\n",
       "10         my birthday\n",
       "11    jewish christmas\n",
       "12        thanksgiving\n",
       "13            channuka\n",
       "14             chanuka\n",
       "15        thanksgiving\n",
       "16        thanksgiving\n",
       "17         my birthday\n",
       "18        thanksgiving\n",
       "Name: Holiday, dtype: object"
      ]
     },
     "execution_count": 44,
     "metadata": {},
     "output_type": "execute_result"
    }
   ],
   "source": [
    "df['Holiday'] = df['What is your favorite holiday?'].replace(['chanukah', 'channukah'],'channukah')\n",
    "df['Holiday']"
   ]
  },
  {
   "cell_type": "code",
   "execution_count": 46,
   "metadata": {},
   "outputs": [
    {
     "data": {
      "text/plain": [
       "<BarContainer object of 7 artists>"
      ]
     },
     "execution_count": 46,
     "metadata": {},
     "output_type": "execute_result"
    },
    {
     "data": {
      "image/png": "[encoded data removed]",
      "text/plain": [
       "<Figure size 1152x576 with 1 Axes>"
      ]
     },
     "metadata": {
      "needs_background": "light"
     },
     "output_type": "display_data"
    }
   ],
   "source": [
    "fig, ax = plt.subplots(figsize = (16, 8))\n",
    "# x = df['What is your favorite holiday?'].map(lambda x: x.lower().strip(' (duh)')) \n",
    "# y = df['What is your favorite holiday?'].map(lambda x: x.lower().strip(' (duh)')).value_counts()\n",
    "y = df['Holiday'].value_counts()\n",
    "plt.yticks(np.arange(0, 15))\n",
    "plt.title(label = 'Favorite Holidays', fontsize = 22)\n",
    "plt.xlabel('Holidays', fontdict={'fontsize': 15})\n",
    "plt.ylabel('Number of Family', fontdict={'fontsize': 15})\n",
    "plt.bar(y.index, y.values, color = ['sandybrown', 'mediumpurple', 'springgreen', 'dodgerblue', 'dodgerblue', 'silver', 'lightcoral'])"
   ]
  },
  {
   "cell_type": "code",
   "execution_count": 37,
   "metadata": {},
   "outputs": [
    {
     "name": "stdout",
     "output_type": "stream",
     "text": [
      "['thanksgiving' 'thanksgiving' 'thanksgiving' 'thanksgiving'\n",
      " 'thanksgiving' 'thanksgiving' 'rosh hashana' 'thanksgiving' 'sabbat'\n",
      " 'thanksgiving' 'my birthday' 'jewish christmas' 'thanksgiving' 'channuka'\n",
      " 'channukah' 'thanksgiving' 'thanksgiving' 'my birthday' 'thanksgiving']\n",
      "thanksgiving        12\n",
      "my birthday          2\n",
      "jewish christmas     1\n",
      "channuka             1\n",
      "rosh hashana         1\n",
      "sabbat               1\n",
      "channukah            1\n",
      "dtype: int64\n"
     ]
    },
    {
     "data": {
      "text/plain": [
       "<BarContainer object of 7 artists>"
      ]
     },
     "execution_count": 37,
     "metadata": {},
     "output_type": "execute_result"
    },
    {
     "data": {
      "image/png": "[encoded data removed]",
      "text/plain": [
       "<Figure size 1152x576 with 1 Axes>"
      ]
     },
     "metadata": {
      "needs_background": "light"
     },
     "output_type": "display_data"
    }
   ],
   "source": [
    "fig, ax = plt.subplots(figsize = (16, 8))\n",
    "plt.yticks(np.arange(0, 15))\n",
    "plt.title(label = 'Favorite Holidays', fontsize = 22)\n",
    "plt.xlabel('Holidays', fontdict={'fontsize': 15})\n",
    "plt.ylabel('Number of Family', fontdict={'fontsize': 15})\n",
    "print(holiday)\n",
    "holiday_counts = pd.Series(holiday).value_counts()\n",
    "print(holiday_counts)\n",
    "plt.bar(holiday_counts.index, holiday_counts.values)"
   ]
  },
  {
   "cell_type": "code",
   "execution_count": 47,
   "metadata": {},
   "outputs": [
    {
     "data": {
      "text/plain": [
       "0     Introvert\n",
       "1     Extrovert\n",
       "2     Introvert\n",
       "3     Extrovert\n",
       "4     Introvert\n",
       "5     Introvert\n",
       "6     Extrovert\n",
       "7     Extrovert\n",
       "8     Extrovert\n",
       "9     Introvert\n",
       "10    Introvert\n",
       "11    Introvert\n",
       "12    Introvert\n",
       "13    Introvert\n",
       "14    Extrovert\n",
       "15    Introvert\n",
       "16    Introvert\n",
       "17    Extrovert\n",
       "18    Extrovert\n",
       "Name: Introvert or Extrovert, dtype: object"
      ]
     },
     "execution_count": 47,
     "metadata": {},
     "output_type": "execute_result"
    }
   ],
   "source": [
    "df['Introvert or Extrovert']"
   ]
  },
  {
   "cell_type": "code",
   "execution_count": 49,
   "metadata": {},
   "outputs": [
    {
     "data": {
      "text/plain": [
       "<BarContainer object of 2 artists>"
      ]
     },
     "execution_count": 49,
     "metadata": {},
     "output_type": "execute_result"
    },
    {
     "data": {
      "image/png": "[encoded data removed]",
      "text/plain": [
       "<Figure size 1152x540 with 1 Axes>"
      ]
     },
     "metadata": {
      "needs_background": "light"
     },
     "output_type": "display_data"
    }
   ],
   "source": [
    "fig, ax = plt.subplots(figsize = (16, 7.5))\n",
    "plt.title(label = 'Introvert or Extrovert', fontsize = 22)\n",
    "plt.xlabel('Can you hang?', fontdict={'fontsize': 15})\n",
    "plt.ylabel('Number of Family Members', fontdict={'fontsize': 15})\n",
    "plt.bar(df['Introvert or Extrovert'].value_counts().index, df['Introvert or Extrovert'].value_counts().values, \n",
    "        color = ['royalblue', 'red'])"
   ]
  },
  {
   "cell_type": "code",
   "execution_count": 50,
   "metadata": {},
   "outputs": [
    {
     "data": {
      "text/plain": [
       "<BarContainer object of 2 artists>"
      ]
     },
     "execution_count": 50,
     "metadata": {},
     "output_type": "execute_result"
    },
    {
     "data": {
      "image/png": "[encoded data removed]",
      "text/plain": [
       "<Figure size 1152x540 with 1 Axes>"
      ]
     },
     "metadata": {
      "needs_background": "light"
     },
     "output_type": "display_data"
    }
   ],
   "source": [
    "fig, ax = plt.subplots(figsize = (16, 7.5))\n",
    "plt.title(label = 'Podcast or Music', fontsize = 22)\n",
    "plt.xlabel('What do you want to listen to?', fontdict={'fontsize': 15})\n",
    "plt.ylabel('Number of Family Members', fontdict={'fontsize': 15})\n",
    "plt.bar(df['Podcast or Music'].value_counts().index, df['Podcast or Music'].value_counts().values, \n",
    "        color = ['plum', 'pink'])"
   ]
  },
  {
   "cell_type": "code",
   "execution_count": 55,
   "metadata": {},
   "outputs": [
    {
     "data": {
      "text/plain": [
       "<BarContainer object of 2 artists>"
      ]
     },
     "execution_count": 55,
     "metadata": {},
     "output_type": "execute_result"
    },
    {
     "data": {
      "image/png": "[encoded data removed]",
      "text/plain": [
       "<Figure size 1152x540 with 1 Axes>"
      ]
     },
     "metadata": {
      "needs_background": "light"
     },
     "output_type": "display_data"
    }
   ],
   "source": [
    "fig, ax = plt.subplots(figsize = (16, 7.5))\n",
    "plt.title(label = 'Beach or Mountains', fontsize = 22)\n",
    "plt.xlabel('Would you rather', fontdict={'fontsize': 15})\n",
    "plt.ylabel('Number of Family Members', fontdict={'fontsize': 15})\n",
    "plt.bar(df['beach or mountains'].value_counts().index, df['beach or mountains'].value_counts().values, \n",
    "        color = ['mistyrose', 'darkgreen'])"
   ]
  },
  {
   "cell_type": "code",
   "execution_count": 57,
   "metadata": {},
   "outputs": [
    {
     "data": {
      "text/plain": [
       "<BarContainer object of 3 artists>"
      ]
     },
     "execution_count": 57,
     "metadata": {},
     "output_type": "execute_result"
    },
    {
     "data": {
      "image/png": "[encoded data removed]",
      "text/plain": [
       "<Figure size 1152x540 with 1 Axes>"
      ]
     },
     "metadata": {
      "needs_background": "light"
     },
     "output_type": "display_data"
    }
   ],
   "source": [
    "fig, ax = plt.subplots(figsize = (16, 7.5))\n",
    "plt.title(label = 'Meals', fontsize = 22)\n",
    "plt.xlabel(\"What's your fav?\", fontdict={'fontsize': 15})\n",
    "plt.ylabel('Number of Family Members', fontdict={'fontsize': 15})\n",
    "plt.bar(df[\"what's your favorite: breakfast, lunch, dinner\"].value_counts().index, df[\"what's your favorite: breakfast, lunch, dinner\"].value_counts().values, \n",
    "        color = ['salmon', 'firebrick', 'maroon'])"
   ]
  },
  {
   "cell_type": "code",
   "execution_count": 59,
   "metadata": {},
   "outputs": [
    {
     "data": {
      "text/plain": [
       "<BarContainer object of 2 artists>"
      ]
     },
     "execution_count": 59,
     "metadata": {},
     "output_type": "execute_result"
    },
    {
     "data": {
      "image/png": "[encoded data removed]",
      "text/plain": [
       "<Figure size 1152x540 with 1 Axes>"
      ]
     },
     "metadata": {
      "needs_background": "light"
     },
     "output_type": "display_data"
    }
   ],
   "source": [
    "fig, ax = plt.subplots(figsize = (16, 7.5))\n",
    "plt.title(label = 'Ugh', fontsize = 22)\n",
    "plt.xlabel('Are you brainwashed by an evil monopoly?', fontdict={'fontsize': 15})\n",
    "plt.ylabel('Number of Family Members', fontdict={'fontsize': 15})\n",
    "plt.bar(df['apple products or not apple products'].value_counts().index, df['apple products or not apple products'].value_counts().values, \n",
    "        color = ['red', 'gray'])"
   ]
  },
  {
   "cell_type": "code",
   "execution_count": 62,
   "metadata": {},
   "outputs": [
    {
     "data": {
      "text/plain": [
       "<BarContainer object of 7 artists>"
      ]
     },
     "execution_count": 62,
     "metadata": {},
     "output_type": "execute_result"
    },
    {
     "data": {
      "image/png": "[encoded data removed]",
      "text/plain": [
       "<Figure size 1152x540 with 1 Axes>"
      ]
     },
     "metadata": {
      "needs_background": "light"
     },
     "output_type": "display_data"
    }
   ],
   "source": [
    "fig, ax = plt.subplots(figsize = (16, 7.5))\n",
    "plt.title(label = 'Dranks', fontsize = 22)\n",
    "plt.xlabel('Coffee Tea or Other', fontdict={'fontsize': 15})\n",
    "plt.ylabel('Number of Family Members', fontdict={'fontsize': 15})\n",
    "plt.bar(df['coffee or tea'].value_counts().index, df['coffee or tea'].value_counts().values, \n",
    "        color = ['peru', 'coral', 'sienna', 'deeppink', 'aqua', 'gainsboro', 'saddlebrown'])"
   ]
  },
  {
   "cell_type": "code",
   "execution_count": 64,
   "metadata": {},
   "outputs": [
    {
     "data": {
      "text/plain": [
       "0     Adventure;Belonging;Community;Compassion;Coope...\n",
       "1     Adaptability;Authenticity;Caring;Community;Com...\n",
       "2     Accountability;Ambition;Authenticity;Balance;C...\n",
       "3     Accountability;Adaptability;Adventure;Altruism...\n",
       "4     Accountability;Caring;Commitment;Compassion;Co...\n",
       "5     Accountability;Caring;Family;Friendship;Honest...\n",
       "6                       Optimism;Parenting;Spirituality\n",
       "7     Accountability;Achievement;Ambition;Authentici...\n",
       "8     Belonging;Caring;Commitment;Compassion;Courage...\n",
       "9     Accountability;Adaptability;Authenticity;Commi...\n",
       "10    Altruism;Community;Compassion;Contentment;Curi...\n",
       "11                     Joy;Justice;Learning;Love;Nature\n",
       "12                                         Authenticity\n",
       "13    Adaptability;Altruism;Caring;Contentment;Creat...\n",
       "14    Confidence;Courage;Curiosity;Equality;Freedom;...\n",
       "15                   Authenticity;Commitment;Simplicity\n",
       "16    Accountability;Authenticity;Friendship;Health;...\n",
       "17                                     Honesty;Patience\n",
       "18    Adaptability;Adventure;Ambition;Authenticity;C...\n",
       "Name: Which value(s) is most important to you? [It should allow you to choose more than one but if not oh well this is my first time using this thing], dtype: object"
      ]
     },
     "execution_count": 64,
     "metadata": {},
     "output_type": "execute_result"
    }
   ],
   "source": [
    "df[\"Which value(s) is most important to you? [It should allow you to choose more than one but if not oh well this is my first time using this thing]\"].explode()"
   ]
  },
  {
   "cell_type": "code",
   "execution_count": 67,
   "metadata": {},
   "outputs": [
    {
     "data": {
      "text/plain": [
       "<BarContainer object of 2 artists>"
      ]
     },
     "execution_count": 67,
     "metadata": {},
     "output_type": "execute_result"
    },
    {
     "data": {
      "image/png": "[encoded data removed]",
      "text/plain": [
       "<Figure size 1152x540 with 1 Axes>"
      ]
     },
     "metadata": {
      "needs_background": "light"
     },
     "output_type": "display_data"
    }
   ],
   "source": [
    "fig, ax = plt.subplots(figsize = (16, 7.5))\n",
    "plt.title(label = 'Jeffrey v Rafi', fontsize = 22)\n",
    "plt.xlabel('Which is the stronger competitor?', fontdict={'fontsize': 15})\n",
    "plt.ylabel('Number of Family Members', fontdict={'fontsize': 15})\n",
    "plt.bar(df['If Rafi and Jeffrey were playing a board game who would win?'].value_counts().index, \n",
    "        df['If Rafi and Jeffrey were playing a board game who would win?'].value_counts().values, \n",
    "        color = ['black', 'lightgray'])"
   ]
  },
  {
   "cell_type": "code",
   "execution_count": 70,
   "metadata": {},
   "outputs": [
    {
     "data": {
      "text/plain": [
       "<BarContainer object of 4 artists>"
      ]
     },
     "execution_count": 70,
     "metadata": {},
     "output_type": "execute_result"
    },
    {
     "data": {
      "image/png": "[encoded data removed]",
      "text/plain": [
       "<Figure size 1152x540 with 1 Axes>"
      ]
     },
     "metadata": {
      "needs_background": "light"
     },
     "output_type": "display_data"
    }
   ],
   "source": [
    "fig, ax = plt.subplots(figsize = (16, 7.5))\n",
    "plt.title(label = 'Attachment Style', fontsize = 22)\n",
    "plt.xlabel('Liars', fontdict={'fontsize': 15})\n",
    "plt.ylabel('Number of Family Members', fontdict={'fontsize': 15})\n",
    "plt.bar(df['Attachment Style'].value_counts().index, \n",
    "        df['Attachment Style'].value_counts().values, \n",
    "        color = ['indigo', 'cyan', 'deeppink', 'lime'])"
   ]
  },
  {
   "cell_type": "code",
   "execution_count": 72,
   "metadata": {},
   "outputs": [
    {
     "data": {
      "text/plain": [
       "<BarContainer object of 4 artists>"
      ]
     },
     "execution_count": 72,
     "metadata": {},
     "output_type": "execute_result"
    },
    {
     "data": {
      "image/png": "[encoded data removed]",
      "text/plain": [
       "<Figure size 1152x540 with 1 Axes>"
      ]
     },
     "metadata": {
      "needs_background": "light"
     },
     "output_type": "display_data"
    }
   ],
   "source": [
    "fig, ax = plt.subplots(figsize = (16, 7.5))\n",
    "plt.title(label = 'Birth Order', fontsize = 22)\n",
    "plt.xlabel('Which is the best?', fontdict={'fontsize': 15})\n",
    "plt.ylabel('Number of Family Members', fontdict={'fontsize': 15})\n",
    "plt.bar(df['Which is best?'].value_counts().index, \n",
    "        df['Which is best?'].value_counts().values, \n",
    "        color = ['lightpink', 'deepskyblue'])"
   ]
  },
  {
   "cell_type": "code",
   "execution_count": 74,
   "metadata": {},
   "outputs": [
    {
     "data": {
      "text/plain": [
       "<BarContainer object of 2 artists>"
      ]
     },
     "execution_count": 74,
     "metadata": {},
     "output_type": "execute_result"
    },
    {
     "data": {
      "image/png": "[encoded data removed]",
      "text/plain": [
       "<Figure size 1152x540 with 1 Axes>"
      ]
     },
     "metadata": {
      "needs_background": "light"
     },
     "output_type": "display_data"
    }
   ],
   "source": [
    "fig, ax = plt.subplots(figsize = (16, 7.5))\n",
    "plt.title(label = 'Political Stance', fontsize = 22)\n",
    "plt.xlabel('Politiking', fontdict={'fontsize': 15})\n",
    "plt.ylabel('Number of Family Members', fontdict={'fontsize': 15})\n",
    "plt.bar(df['Which describes you best?'].value_counts().index, \n",
    "        df['Which describes you best?'].value_counts().values, \n",
    "        color = ['blue', 'red'])"
   ]
  },
  {
   "cell_type": "code",
   "execution_count": 76,
   "metadata": {},
   "outputs": [
    {
     "data": {
      "text/plain": [
       "<BarContainer object of 1 artists>"
      ]
     },
     "execution_count": 76,
     "metadata": {},
     "output_type": "execute_result"
    },
    {
     "data": {
      "image/png": "[encoded data removed]",
      "text/plain": [
       "<Figure size 1152x540 with 1 Axes>"
      ]
     },
     "metadata": {
      "needs_background": "light"
     },
     "output_type": "display_data"
    }
   ],
   "source": [
    "fig, ax = plt.subplots(figsize = (16, 7.5))\n",
    "plt.title(label = 'Mask Stance', fontsize = 22)\n",
    "plt.xlabel('Protection or No Protection', fontdict={'fontsize': 15})\n",
    "plt.ylabel('Number of Family Members', fontdict={'fontsize': 15})\n",
    "plt.yticks(np.arange(0, 25))\n",
    "plt.bar(df['Mask or no mask'].value_counts().index, \n",
    "        df['Mask or no mask'].value_counts().values, \n",
    "        color = ['blue', 'red'])"
   ]
  },
  {
   "cell_type": "code",
   "execution_count": null,
   "metadata": {},
   "outputs": [],
   "source": []
  }
 ],
 "metadata": {
  "kernelspec": {
   "display_name": "Python 3",
   "language": "python",
   "name": "python3"
  },
  "language_info": {
   "codemirror_mode": {
    "name": "ipython",
    "version": 3
   },
   "file_extension": ".py",
   "mimetype": "text/x-python",
   "name": "python",
   "nbconvert_exporter": "python",
   "pygments_lexer": "ipython3",
   "version": "3.8.3"
  }
 },
 "nbformat": 4,
 "nbformat_minor": 2
}
