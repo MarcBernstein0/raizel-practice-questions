{
 "metadata": {
  "language_info": {
   "codemirror_mode": {
    "name": "ipython",
    "version": 3
   },
   "file_extension": ".py",
   "mimetype": "text/x-python",
   "name": "python",
   "nbconvert_exporter": "python",
   "pygments_lexer": "ipython3",
   "version": "3.9.2-final"
  },
  "orig_nbformat": 2,
  "kernelspec": {
   "name": "python3",
   "display_name": "Python 3.9.2 64-bit",
   "metadata": {
    "interpreter": {
     "hash": "df56e8424239ddc5b421a87dee45347b20fa14a2b9d87cc6a553f8f948329429"
    }
   }
  }
 },
 "nbformat": 4,
 "nbformat_minor": 2,
 "cells": [
  {
   "source": [
    "write a Python function to identify all the duplicates in a given list of numbers\n",
    "\n",
    "a = [1,2,3,4,3,4,3] output: 3, 4"
   ],
   "cell_type": "markdown",
   "metadata": {}
  },
  {
   "cell_type": "code",
   "execution_count": 35,
   "metadata": {},
   "outputs": [],
   "source": [
    "def repeat(lst):\n",
    "    output = []\n",
    "    for num in range(0,len(lst)):\n",
    "        for next_num in range(num+1,len(lst)):\n",
    "            if lst[num] == lst[next_num] and lst[num] not in output:\n",
    "                output.append(lst[num])\n",
    "    return output"
   ]
  },
  {
   "cell_type": "code",
   "execution_count": 36,
   "metadata": {},
   "outputs": [
    {
     "output_type": "execute_result",
     "data": {
      "text/plain": [
       "[3, 4]"
      ]
     },
     "metadata": {},
     "execution_count": 36
    }
   ],
   "source": [
    "# a = [1,2,3,4,3,4,3] output: 3, 4\n",
    "repeat([1,2,3,4,3,4,3])"
   ]
  },
  {
   "cell_type": "code",
   "execution_count": 26,
   "metadata": {},
   "outputs": [],
   "source": [
    "def repeat_elem(lst):\n",
    "    seen = {}\n",
    "    output = []\n",
    "    for i in range(len(lst)):\n",
    "        current_elem = lst[i]\n",
    "        if current_elem not in seen:\n",
    "            seen[current_elem] = 1\n",
    "        else:\n",
    "            if seen[current_elem] == 1:\n",
    "                output.append(current_elem)\n",
    "            seen[current_elem] += 1\n",
    "        \n",
    "    \n",
    "    return output"
   ]
  },
  {
   "cell_type": "code",
   "execution_count": 27,
   "metadata": {},
   "outputs": [
    {
     "output_type": "execute_result",
     "data": {
      "text/plain": [
       "[3, 4]"
      ]
     },
     "metadata": {},
     "execution_count": 27
    }
   ],
   "source": [
    "repeat_elem([1,2,3,4,3,4,3])\n"
   ]
  },
  {
   "cell_type": "code",
   "execution_count": 31,
   "metadata": {},
   "outputs": [],
   "source": [
    "import collections\n",
    "\n",
    "def repeat_elem_collections(lst):\n",
    "    output = []\n",
    "    for item, count in collections.Counter(lst).items():\n",
    "        if count > 1:\n",
    "            output.append(item)\n",
    "    return output"
   ]
  },
  {
   "cell_type": "code",
   "execution_count": 32,
   "metadata": {},
   "outputs": [
    {
     "output_type": "execute_result",
     "data": {
      "text/plain": [
       "[3, 4]"
      ]
     },
     "metadata": {},
     "execution_count": 32
    }
   ],
   "source": [
    "repeat_elem_collections([1,2,3,4,3,4,3])\n"
   ]
  },
  {
   "cell_type": "code",
   "execution_count": null,
   "metadata": {},
   "outputs": [],
   "source": []
  }
 ]
}