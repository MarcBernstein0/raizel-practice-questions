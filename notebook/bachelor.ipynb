{
 "metadata": {
  "language_info": {
   "codemirror_mode": {
    "name": "ipython",
    "version": 3
   },
   "file_extension": ".py",
   "mimetype": "text/x-python",
   "name": "python",
   "nbconvert_exporter": "python",
   "pygments_lexer": "ipython3",
   "version": "3.8.3-final"
  },
  "orig_nbformat": 2,
  "kernelspec": {
   "name": "Python 3.8.3 64-bit ('berns': virtualenv)",
   "display_name": "Python 3.8.3 64-bit ('berns': virtualenv)",
   "metadata": {
    "interpreter": {
     "hash": "7e56207c1ecf5e070ccde26abc0e05f3d6c0c3ae8cb038c6d1936758cd8e50c2"
    }
   }
  }
 },
 "nbformat": 4,
 "nbformat_minor": 2,
 "cells": [
  {
   "cell_type": "code",
   "execution_count": 1,
   "metadata": {},
   "outputs": [],
   "source": [
    "import pandas as pd \n",
    "import matplotlib.pyplot as plt"
   ]
  },
  {
   "cell_type": "code",
   "execution_count": 2,
   "metadata": {},
   "outputs": [],
   "source": [
    "df = pd.read_csv('../data/bachelor_contestants.csv')"
   ]
  },
  {
   "cell_type": "code",
   "execution_count": 3,
   "metadata": {},
   "outputs": [
    {
     "output_type": "execute_result",
     "data": {
      "text/plain": [
       "             Name   Age                       Occupation  \\\n",
       "0    Amanda Marsh  23.0                    Event Planner   \n",
       "1     Trista Rehn  29.0                Miami Heat Dancer   \n",
       "2  Shannon Oliver  24.0  Financial Management Consultant   \n",
       "3             Kim  24.0                            Nanny   \n",
       "4    Cathy Grimes  22.0                 Graduate Student   \n",
       "\n",
       "               Hometown  Height  ElimWeek  Season  \n",
       "0       Chanute, Kansas     NaN       NaN       1  \n",
       "1        Miami, Florida     NaN       6.0       1  \n",
       "2         Dallas, Texas     NaN       5.0       1  \n",
       "3        Tempe, Arizona     NaN       4.0       1  \n",
       "4  Terra Haute, Indiana     NaN       3.0       1  "
      ],
      "text/html": "<div>\n<style scoped>\n    .dataframe tbody tr th:only-of-type {\n        vertical-align: middle;\n    }\n\n    .dataframe tbody tr th {\n        vertical-align: top;\n    }\n\n    .dataframe thead th {\n        text-align: right;\n    }\n</style>\n<table border=\"1\" class=\"dataframe\">\n  <thead>\n    <tr style=\"text-align: right;\">\n      <th></th>\n      <th>Name</th>\n      <th>Age</th>\n      <th>Occupation</th>\n      <th>Hometown</th>\n      <th>Height</th>\n      <th>ElimWeek</th>\n      <th>Season</th>\n    </tr>\n  </thead>\n  <tbody>\n    <tr>\n      <th>0</th>\n      <td>Amanda Marsh</td>\n      <td>23.0</td>\n      <td>Event Planner</td>\n      <td>Chanute, Kansas</td>\n      <td>NaN</td>\n      <td>NaN</td>\n      <td>1</td>\n    </tr>\n    <tr>\n      <th>1</th>\n      <td>Trista Rehn</td>\n      <td>29.0</td>\n      <td>Miami Heat Dancer</td>\n      <td>Miami, Florida</td>\n      <td>NaN</td>\n      <td>6.0</td>\n      <td>1</td>\n    </tr>\n    <tr>\n      <th>2</th>\n      <td>Shannon Oliver</td>\n      <td>24.0</td>\n      <td>Financial Management Consultant</td>\n      <td>Dallas, Texas</td>\n      <td>NaN</td>\n      <td>5.0</td>\n      <td>1</td>\n    </tr>\n    <tr>\n      <th>3</th>\n      <td>Kim</td>\n      <td>24.0</td>\n      <td>Nanny</td>\n      <td>Tempe, Arizona</td>\n      <td>NaN</td>\n      <td>4.0</td>\n      <td>1</td>\n    </tr>\n    <tr>\n      <th>4</th>\n      <td>Cathy Grimes</td>\n      <td>22.0</td>\n      <td>Graduate Student</td>\n      <td>Terra Haute, Indiana</td>\n      <td>NaN</td>\n      <td>3.0</td>\n      <td>1</td>\n    </tr>\n  </tbody>\n</table>\n</div>"
     },
     "metadata": {},
     "execution_count": 3
    }
   ],
   "source": [
    "df.head()"
   ]
  },
  {
   "cell_type": "code",
   "execution_count": 4,
   "metadata": {},
   "outputs": [
    {
     "output_type": "execute_result",
     "data": {
      "text/plain": [
       "               Name   Age                       Occupation  \\\n",
       "0      Amanda Marsh  23.0                    Event Planner   \n",
       "1       Trista Rehn  29.0                Miami Heat Dancer   \n",
       "2    Shannon Oliver  24.0  Financial Management Consultant   \n",
       "3               Kim  24.0                            Nanny   \n",
       "4      Cathy Grimes  22.0                 Graduate Student   \n",
       "..              ...   ...                              ...   \n",
       "418           Sarah  26.0             Grade School Teacher   \n",
       "419        Susannah  26.0                  Account Manager   \n",
       "420          Taylor  23.0          Mental Health Counselor   \n",
       "421         Vanessa  29.0        Special Education Teacher   \n",
       "422         Whitney  25.0               Pilates Instructor   \n",
       "\n",
       "                     Hometown  Height  ElimWeek  Season  \n",
       "0             Chanute, Kansas     NaN       NaN       1  \n",
       "1              Miami, Florida     NaN       6.0       1  \n",
       "2               Dallas, Texas     NaN       5.0       1  \n",
       "3              Tempe, Arizona     NaN       4.0       1  \n",
       "4        Terra Haute, Indiana     NaN       3.0       1  \n",
       "..                        ...     ...       ...     ...  \n",
       "418         Newport Beach, CA    65.0       4.0      21  \n",
       "419             San Diego, CA    66.0       1.0      21  \n",
       "420               Seattle, WA    64.0       5.0      21  \n",
       "421  Montreal, Quebec, Canada    63.5       NaN      21  \n",
       "422            Chanhassen, MN    68.0       6.0      21  \n",
       "\n",
       "[423 rows x 7 columns]"
      ],
      "text/html": "<div>\n<style scoped>\n    .dataframe tbody tr th:only-of-type {\n        vertical-align: middle;\n    }\n\n    .dataframe tbody tr th {\n        vertical-align: top;\n    }\n\n    .dataframe thead th {\n        text-align: right;\n    }\n</style>\n<table border=\"1\" class=\"dataframe\">\n  <thead>\n    <tr style=\"text-align: right;\">\n      <th></th>\n      <th>Name</th>\n      <th>Age</th>\n      <th>Occupation</th>\n      <th>Hometown</th>\n      <th>Height</th>\n      <th>ElimWeek</th>\n      <th>Season</th>\n    </tr>\n  </thead>\n  <tbody>\n    <tr>\n      <th>0</th>\n      <td>Amanda Marsh</td>\n      <td>23.0</td>\n      <td>Event Planner</td>\n      <td>Chanute, Kansas</td>\n      <td>NaN</td>\n      <td>NaN</td>\n      <td>1</td>\n    </tr>\n    <tr>\n      <th>1</th>\n      <td>Trista Rehn</td>\n      <td>29.0</td>\n      <td>Miami Heat Dancer</td>\n      <td>Miami, Florida</td>\n      <td>NaN</td>\n      <td>6.0</td>\n      <td>1</td>\n    </tr>\n    <tr>\n      <th>2</th>\n      <td>Shannon Oliver</td>\n      <td>24.0</td>\n      <td>Financial Management Consultant</td>\n      <td>Dallas, Texas</td>\n      <td>NaN</td>\n      <td>5.0</td>\n      <td>1</td>\n    </tr>\n    <tr>\n      <th>3</th>\n      <td>Kim</td>\n      <td>24.0</td>\n      <td>Nanny</td>\n      <td>Tempe, Arizona</td>\n      <td>NaN</td>\n      <td>4.0</td>\n      <td>1</td>\n    </tr>\n    <tr>\n      <th>4</th>\n      <td>Cathy Grimes</td>\n      <td>22.0</td>\n      <td>Graduate Student</td>\n      <td>Terra Haute, Indiana</td>\n      <td>NaN</td>\n      <td>3.0</td>\n      <td>1</td>\n    </tr>\n    <tr>\n      <th>...</th>\n      <td>...</td>\n      <td>...</td>\n      <td>...</td>\n      <td>...</td>\n      <td>...</td>\n      <td>...</td>\n      <td>...</td>\n    </tr>\n    <tr>\n      <th>418</th>\n      <td>Sarah</td>\n      <td>26.0</td>\n      <td>Grade School Teacher</td>\n      <td>Newport Beach, CA</td>\n      <td>65.0</td>\n      <td>4.0</td>\n      <td>21</td>\n    </tr>\n    <tr>\n      <th>419</th>\n      <td>Susannah</td>\n      <td>26.0</td>\n      <td>Account Manager</td>\n      <td>San Diego, CA</td>\n      <td>66.0</td>\n      <td>1.0</td>\n      <td>21</td>\n    </tr>\n    <tr>\n      <th>420</th>\n      <td>Taylor</td>\n      <td>23.0</td>\n      <td>Mental Health Counselor</td>\n      <td>Seattle, WA</td>\n      <td>64.0</td>\n      <td>5.0</td>\n      <td>21</td>\n    </tr>\n    <tr>\n      <th>421</th>\n      <td>Vanessa</td>\n      <td>29.0</td>\n      <td>Special Education Teacher</td>\n      <td>Montreal, Quebec, Canada</td>\n      <td>63.5</td>\n      <td>NaN</td>\n      <td>21</td>\n    </tr>\n    <tr>\n      <th>422</th>\n      <td>Whitney</td>\n      <td>25.0</td>\n      <td>Pilates Instructor</td>\n      <td>Chanhassen, MN</td>\n      <td>68.0</td>\n      <td>6.0</td>\n      <td>21</td>\n    </tr>\n  </tbody>\n</table>\n<p>423 rows × 7 columns</p>\n</div>"
     },
     "metadata": {},
     "execution_count": 4
    }
   ],
   "source": [
    "df"
   ]
  },
  {
   "cell_type": "code",
   "execution_count": null,
   "metadata": {},
   "outputs": [],
   "source": []
  }
 ]
}