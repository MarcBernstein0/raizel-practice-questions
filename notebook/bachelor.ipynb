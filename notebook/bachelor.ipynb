{
 "metadata": {
  "language_info": {
   "codemirror_mode": {
    "name": "ipython",
    "version": 3
   },
   "file_extension": ".py",
   "mimetype": "text/x-python",
   "name": "python",
   "nbconvert_exporter": "python",
   "pygments_lexer": "ipython3",
   "version": "3.8.3-final"
  },
  "orig_nbformat": 2,
  "kernelspec": {
   "name": "Python 3.8.3 64-bit ('berns': virtualenv)",
   "display_name": "Python 3.8.3 64-bit ('berns': virtualenv)",
   "metadata": {
    "interpreter": {
     "hash": "7e56207c1ecf5e070ccde26abc0e05f3d6c0c3ae8cb038c6d1936758cd8e50c2"
    }
   }
  }
 },
 "nbformat": 4,
 "nbformat_minor": 2,
 "cells": [
  {
   "cell_type": "code",
   "execution_count": 1,
   "metadata": {},
   "outputs": [],
   "source": [
    "import pandas as pd \n",
    "import matplotlib.pyplot as plt"
   ]
  },
  {
   "cell_type": "code",
   "execution_count": 2,
   "metadata": {},
   "outputs": [],
   "source": [
    "df = pd.read_csv('../data/bachelor_contestants.csv')"
   ]
  },
  {
   "cell_type": "code",
   "execution_count": 3,
   "metadata": {},
   "outputs": [
    {
     "output_type": "execute_result",
     "data": {
      "text/plain": [
       "             Name   Age                       Occupation  \\\n",
       "0    Amanda Marsh  23.0                    Event Planner   \n",
       "1     Trista Rehn  29.0                Miami Heat Dancer   \n",
       "2  Shannon Oliver  24.0  Financial Management Consultant   \n",
       "3             Kim  24.0                            Nanny   \n",
       "4    Cathy Grimes  22.0                 Graduate Student   \n",
       "\n",
       "               Hometown  Height  ElimWeek  Season  \n",
       "0       Chanute, Kansas     NaN       NaN       1  \n",
       "1        Miami, Florida     NaN       6.0       1  \n",
       "2         Dallas, Texas     NaN       5.0       1  \n",
       "3        Tempe, Arizona     NaN       4.0       1  \n",
       "4  Terra Haute, Indiana     NaN       3.0       1  "
      ],
      "text/html": "<div>\n<style scoped>\n    .dataframe tbody tr th:only-of-type {\n        vertical-align: middle;\n    }\n\n    .dataframe tbody tr th {\n        vertical-align: top;\n    }\n\n    .dataframe thead th {\n        text-align: right;\n    }\n</style>\n<table border=\"1\" class=\"dataframe\">\n  <thead>\n    <tr style=\"text-align: right;\">\n      <th></th>\n      <th>Name</th>\n      <th>Age</th>\n      <th>Occupation</th>\n      <th>Hometown</th>\n      <th>Height</th>\n      <th>ElimWeek</th>\n      <th>Season</th>\n    </tr>\n  </thead>\n  <tbody>\n    <tr>\n      <th>0</th>\n      <td>Amanda Marsh</td>\n      <td>23.0</td>\n      <td>Event Planner</td>\n      <td>Chanute, Kansas</td>\n      <td>NaN</td>\n      <td>NaN</td>\n      <td>1</td>\n    </tr>\n    <tr>\n      <th>1</th>\n      <td>Trista Rehn</td>\n      <td>29.0</td>\n      <td>Miami Heat Dancer</td>\n      <td>Miami, Florida</td>\n      <td>NaN</td>\n      <td>6.0</td>\n      <td>1</td>\n    </tr>\n    <tr>\n      <th>2</th>\n      <td>Shannon Oliver</td>\n      <td>24.0</td>\n      <td>Financial Management Consultant</td>\n      <td>Dallas, Texas</td>\n      <td>NaN</td>\n      <td>5.0</td>\n      <td>1</td>\n    </tr>\n    <tr>\n      <th>3</th>\n      <td>Kim</td>\n      <td>24.0</td>\n      <td>Nanny</td>\n      <td>Tempe, Arizona</td>\n      <td>NaN</td>\n      <td>4.0</td>\n      <td>1</td>\n    </tr>\n    <tr>\n      <th>4</th>\n      <td>Cathy Grimes</td>\n      <td>22.0</td>\n      <td>Graduate Student</td>\n      <td>Terra Haute, Indiana</td>\n      <td>NaN</td>\n      <td>3.0</td>\n      <td>1</td>\n    </tr>\n  </tbody>\n</table>\n</div>"
     },
     "metadata": {},
     "execution_count": 3
    }
   ],
   "source": [
    "df.head()"
   ]
  },
  {
   "cell_type": "code",
   "execution_count": 4,
   "metadata": {},
   "outputs": [
    {
     "output_type": "execute_result",
     "data": {
      "text/plain": [
       "               Name   Age                       Occupation  \\\n",
       "0      Amanda Marsh  23.0                    Event Planner   \n",
       "1       Trista Rehn  29.0                Miami Heat Dancer   \n",
       "2    Shannon Oliver  24.0  Financial Management Consultant   \n",
       "3               Kim  24.0                            Nanny   \n",
       "4      Cathy Grimes  22.0                 Graduate Student   \n",
       "..              ...   ...                              ...   \n",
       "418           Sarah  26.0             Grade School Teacher   \n",
       "419        Susannah  26.0                  Account Manager   \n",
       "420          Taylor  23.0          Mental Health Counselor   \n",
       "421         Vanessa  29.0        Special Education Teacher   \n",
       "422         Whitney  25.0               Pilates Instructor   \n",
       "\n",
       "                     Hometown  Height  ElimWeek  Season  \n",
       "0             Chanute, Kansas     NaN       NaN       1  \n",
       "1              Miami, Florida     NaN       6.0       1  \n",
       "2               Dallas, Texas     NaN       5.0       1  \n",
       "3              Tempe, Arizona     NaN       4.0       1  \n",
       "4        Terra Haute, Indiana     NaN       3.0       1  \n",
       "..                        ...     ...       ...     ...  \n",
       "418         Newport Beach, CA    65.0       4.0      21  \n",
       "419             San Diego, CA    66.0       1.0      21  \n",
       "420               Seattle, WA    64.0       5.0      21  \n",
       "421  Montreal, Quebec, Canada    63.5       NaN      21  \n",
       "422            Chanhassen, MN    68.0       6.0      21  \n",
       "\n",
       "[423 rows x 7 columns]"
      ],
      "text/html": "<div>\n<style scoped>\n    .dataframe tbody tr th:only-of-type {\n        vertical-align: middle;\n    }\n\n    .dataframe tbody tr th {\n        vertical-align: top;\n    }\n\n    .dataframe thead th {\n        text-align: right;\n    }\n</style>\n<table border=\"1\" class=\"dataframe\">\n  <thead>\n    <tr style=\"text-align: right;\">\n      <th></th>\n      <th>Name</th>\n      <th>Age</th>\n      <th>Occupation</th>\n      <th>Hometown</th>\n      <th>Height</th>\n      <th>ElimWeek</th>\n      <th>Season</th>\n    </tr>\n  </thead>\n  <tbody>\n    <tr>\n      <th>0</th>\n      <td>Amanda Marsh</td>\n      <td>23.0</td>\n      <td>Event Planner</td>\n      <td>Chanute, Kansas</td>\n      <td>NaN</td>\n      <td>NaN</td>\n      <td>1</td>\n    </tr>\n    <tr>\n      <th>1</th>\n      <td>Trista Rehn</td>\n      <td>29.0</td>\n      <td>Miami Heat Dancer</td>\n      <td>Miami, Florida</td>\n      <td>NaN</td>\n      <td>6.0</td>\n      <td>1</td>\n    </tr>\n    <tr>\n      <th>2</th>\n      <td>Shannon Oliver</td>\n      <td>24.0</td>\n      <td>Financial Management Consultant</td>\n      <td>Dallas, Texas</td>\n      <td>NaN</td>\n      <td>5.0</td>\n      <td>1</td>\n    </tr>\n    <tr>\n      <th>3</th>\n      <td>Kim</td>\n      <td>24.0</td>\n      <td>Nanny</td>\n      <td>Tempe, Arizona</td>\n      <td>NaN</td>\n      <td>4.0</td>\n      <td>1</td>\n    </tr>\n    <tr>\n      <th>4</th>\n      <td>Cathy Grimes</td>\n      <td>22.0</td>\n      <td>Graduate Student</td>\n      <td>Terra Haute, Indiana</td>\n      <td>NaN</td>\n      <td>3.0</td>\n      <td>1</td>\n    </tr>\n    <tr>\n      <th>...</th>\n      <td>...</td>\n      <td>...</td>\n      <td>...</td>\n      <td>...</td>\n      <td>...</td>\n      <td>...</td>\n      <td>...</td>\n    </tr>\n    <tr>\n      <th>418</th>\n      <td>Sarah</td>\n      <td>26.0</td>\n      <td>Grade School Teacher</td>\n      <td>Newport Beach, CA</td>\n      <td>65.0</td>\n      <td>4.0</td>\n      <td>21</td>\n    </tr>\n    <tr>\n      <th>419</th>\n      <td>Susannah</td>\n      <td>26.0</td>\n      <td>Account Manager</td>\n      <td>San Diego, CA</td>\n      <td>66.0</td>\n      <td>1.0</td>\n      <td>21</td>\n    </tr>\n    <tr>\n      <th>420</th>\n      <td>Taylor</td>\n      <td>23.0</td>\n      <td>Mental Health Counselor</td>\n      <td>Seattle, WA</td>\n      <td>64.0</td>\n      <td>5.0</td>\n      <td>21</td>\n    </tr>\n    <tr>\n      <th>421</th>\n      <td>Vanessa</td>\n      <td>29.0</td>\n      <td>Special Education Teacher</td>\n      <td>Montreal, Quebec, Canada</td>\n      <td>63.5</td>\n      <td>NaN</td>\n      <td>21</td>\n    </tr>\n    <tr>\n      <th>422</th>\n      <td>Whitney</td>\n      <td>25.0</td>\n      <td>Pilates Instructor</td>\n      <td>Chanhassen, MN</td>\n      <td>68.0</td>\n      <td>6.0</td>\n      <td>21</td>\n    </tr>\n  </tbody>\n</table>\n<p>423 rows × 7 columns</p>\n</div>"
     },
     "metadata": {},
     "execution_count": 4
    }
   ],
   "source": [
    "df"
   ]
  },
  {
   "cell_type": "code",
   "execution_count": 8,
   "metadata": {},
   "outputs": [
    {
     "output_type": "execute_result",
     "data": {
      "text/plain": [
       "array(['Event Planner', 'Miami Heat Dancer',\n",
       "       'Financial Management Consultant', 'Nanny', 'Graduate Student',\n",
       "       'Attorney', 'Actress', 'Commercial Real Estate Agent',\n",
       "       'Special Ed. Teacher', 'Production Coordinator',\n",
       "       'Hooters Waitress', 'Power Tool Sales Rep.', 'Photographer',\n",
       "       'Business Development Director', 'Neuropsychologist', 'Doctor',\n",
       "       'Bar Manager', 'Retail Manager', 'Advertising Executive',\n",
       "       'Insurance Representative', '6th Grade Teacher',\n",
       "       'Technology Specialist', 'School Psychologist', 'College Student',\n",
       "       'Executive Recruiter', 'Registered Nurse', 'Flight Attendant',\n",
       "       'Assistant Financial Advisor', 'Marriage Therapy Trainee',\n",
       "       'Airline Supervisor', 'Graphic Artist', 'Radio Sales',\n",
       "       'Publications Quality Control', 'Strategic Planning Analyst',\n",
       "       'Psychologist', '3rd Grade Teacher', 'Radiological Technologist',\n",
       "       'Interior Designer', 'Paralegal', 'Former NBA Cheerleader',\n",
       "       '1st Grade Teacher', 'Communications Specialist', 'Student',\n",
       "       'General contractor', 'Designer for an architect firm', 'Model',\n",
       "       'Prosthetic technician', 'Pharmaceutical sales',\n",
       "       'Professional Cheerleader',\n",
       "       'Swim instructor/nanny/personal trainer',\n",
       "       'LASIK Eye and Skin Center manager', 'Hair stylist',\n",
       "       'Massage therapist/bartender', 'Model/make-up artist',\n",
       "       'Consultant', 'Professional soccer player',\n",
       "       'Model/executive assistant', 'Retail manager', 'Account manager',\n",
       "       'Account manager/sales', 'Bank representative',\n",
       "       'Fashion public relations manager', 'Singer', 'Teacher',\n",
       "       'Publicist', 'Marketing manager', 'Realtor', 'Event planner',\n",
       "       'Ultrasound technician', 'Socialite', 'Journalist',\n",
       "       'Interior designer', 'Make-up artist', 'Policy advisor',\n",
       "       'Broadcast marketer', 'Dolphin trainer', 'Assistant buyer',\n",
       "       'Registered nurse', 'Physician', 'Dancer', 'Restaurateur',\n",
       "       'Beer chemist', 'Hotel concierge', 'Social Worker', 'Assistant',\n",
       "       'Graphic Designer', 'Project Manager', 'Medical student',\n",
       "       'Boutique owner', 'Sales Manager', 'Organ donor coordinator',\n",
       "       'Financial analyst', 'Sorority recruiter', 'Boutique manager',\n",
       "       'Medical equipment sales rep', 'Radio sales', 'Waitress',\n",
       "       'Former Miss Illinois', 'Executive coordinator',\n",
       "       'Health care manager', 'Hedge fund analyst',\n",
       "       'Real estate sales/development', 'Phoenix Suns\\xa0Cheerleader',\n",
       "       'Internet marketing executive', 'Acupuncturist',\n",
       "       'Executive assistant', 'Boutique sales worker', 'Bar manager',\n",
       "       'Esthetician', 'Publishing sales executive', 'News anchor',\n",
       "       'Law student', 'Biology teacher', 'Graduate student',\n",
       "       'Account representative', 'Emergency room nurse',\n",
       "       'Project analyst', 'Pharmaceutical sales rep.',\n",
       "       'Account Executive', 'Fashion designer', 'Advertising coordinator',\n",
       "       'Singer-songwriter', 'Medical sales rep.',\n",
       "       \"Children's book author\", 'Hot-dog vendor', 'Personal trainer',\n",
       "       'Church marketing rep.', 'Administrative assistant',\n",
       "       'Biology student', 'Attorney and former\\xa0White House\\xa0aide',\n",
       "       'Makeup artist', 'Youth minister', 'Cocktail waitress',\n",
       "       'Real estate marketing rep.', 'Sales Representative',\n",
       "       'Department Store Buyer', 'Single Mother & Medical Marketing Rep.',\n",
       "       'Single Mother and Lacrosse Coach', 'Dental Hygienist',\n",
       "       'Administrative Assistant', 'Human Resources Recruiter',\n",
       "       'Medical Student', 'Public Relations Associate',\n",
       "       'Medical Sales Rep.', 'Casino Marketing Rep.',\n",
       "       'Wedding Coordinator', 'Menswear Buyer', 'Jewelry Designer',\n",
       "       'Single Mother & Charity Accountant',\n",
       "       'Single Mother and Nurse Practitioner', 'Marketing Representative',\n",
       "       'College Admissions', 'Swimsuit Model',\n",
       "       'Advertising Account Manager', 'Wardrobe Consultant',\n",
       "       'Account Manager', 'Cosmetic Sales Manager',\n",
       "       'Corporate Flight Attendant', 'Hair Stylist', 'Homemaker',\n",
       "       'Office Manager', 'Restaurant Manager', 'Model/Make-Up Artist',\n",
       "       'Entrepreneur', 'Spokesmodel', 'Mortgage Loan Officer',\n",
       "       'Captain, Air National Guard', 'Fitness Model', 'NBA Dancer',\n",
       "       'Commercial Pilot', 'Dance Teacher', 'Medical Technician',\n",
       "       \"Children's Hospital Event Planner\", 'Executive Assistant',\n",
       "       'Dental Student', 'Funeral Director', 'Food writer', 'Artist',\n",
       "       'Apparel merchant', 'Marketing Coordinator', 'Sports Publicist',\n",
       "       'First grade teacher', 'Fashion Marketer', 'Bartender',\n",
       "       'Real Estate Broker', 'Radio City Rockette', 'Manscaper',\n",
       "       'Operations Manager', 'Sales director', 'Insurance agent',\n",
       "       'High School Teacher', 'Sales Consultant',\n",
       "       'Musical Theatre Performer', 'Business development manager',\n",
       "       'Dental hygienist', 'PhD Student', 'Fashion sales representative',\n",
       "       'Trading clerk', 'VIP cocktail waitress', 'Accountant',\n",
       "       'Dental consultant', 'Advertising account manager',\n",
       "       'Medical sales representative', 'Blogger', 'Financial advisor',\n",
       "       'Labor and delivery nurse', 'Critical care nurse',\n",
       "       'Nonprofit director', 'Pharmaceutical sales representative',\n",
       "       'Internet entrepreneur', 'Substitute Teacher',\n",
       "       'Personal Organizer', 'Bridal Stylist', 'Political Consultant',\n",
       "       'Leasing Consultant', 'Commercial Casting Associate',\n",
       "       'Real Estate Dealer', 'Oil Field Account Manager',\n",
       "       'Cosmetics Consultant', 'Fit Model', 'Poker Dealer',\n",
       "       'Health Club Manager', 'Community Organizer', 'Salon Owner',\n",
       "       'Yoga Instructor', 'Fashion Model', 'Cruise Ship Entertainer',\n",
       "       'Jumbotron Operator', 'Pediatric Nurse', 'Hairstylist',\n",
       "       'Assistant District Attorney', 'Real Estate Agent',\n",
       "       'Science Educator', 'Opera Singer',\n",
       "       'Medical Sales Representative/NBA Dancer', 'Former NBA Dancer',\n",
       "       'Psychiatric Nurse', 'Dog Lover', 'First Grade Teacher',\n",
       "       'Music Composer', 'Marketing Manager', 'Free Spirit',\n",
       "       'Local News Reporter', 'Legal Assistant',\n",
       "       'Communications Director/NHL\\xa0Ice Girl', 'Massage Therapist',\n",
       "       'Grade School Teacher', 'Police Support Specialist',\n",
       "       'Nursing Home Owner', 'Mineral Coordinator', 'Personal Banker',\n",
       "       'Personal Trainer', 'Fertility Nurse', 'Chiropractic Assistant',\n",
       "       'Dance Instructor', 'Cosmetics Developer', 'Cruise Ship Singer',\n",
       "       'Make-Up Artist', 'Guidance Counselor',\n",
       "       'Nanny/Freelance Journalist', 'Dental Assistant',\n",
       "       'Fashion Designer', 'Former NFL Cheerleader', 'News Producer',\n",
       "       'Fourth Grade Teacher', 'Special Education Teacher',\n",
       "       'Sport Fishing Enthusiast', 'Ballet Teacher', 'Plus-Size Model',\n",
       "       'WWE Diva-in-Training', 'High School Soccer Coach',\n",
       "       'Wedding Cake Baker', 'Cadaver Tissue Saleswoman',\n",
       "       'Real Estate Developer', 'Software Sales Representative',\n",
       "       'Kindergarten Teacher', 'Former News Anchor',\n",
       "       'Small Business Owner', 'War Veteran', 'Unemployed',\n",
       "       'Mathematician', 'Dentist', 'Gerontologist', 'Fashion Buyer',\n",
       "       'Nutritional Therapist', 'Math Teacher', 'Cowgirl',\n",
       "       'Chicken Enthusiast', 'Aspiring Dolphin Trainer',\n",
       "       'Plastic Surgery Office Manager', 'Surgical Unit Nurse',\n",
       "       'Travel Nurse', 'Wedding Videographer', 'Business Owner',\n",
       "       'Neonatal Nurse', 'Restaurant Server', 'Doula', 'Chef',\n",
       "       'Pro Basketball Dancer', 'Digital Marketing Manager',\n",
       "       'Law School Graduate', 'Food Truck Owner',\n",
       "       'Apparel Sales Representative', 'Fashion Boutique Owner',\n",
       "       'Mental Health Counselor', 'Pilates Instructor'], dtype=object)"
      ]
     },
     "metadata": {},
     "execution_count": 8
    }
   ],
   "source": [
    "df['Occupation'].unique()"
   ]
  },
  {
   "cell_type": "code",
   "execution_count": 9,
   "metadata": {},
   "outputs": [
    {
     "output_type": "execute_result",
     "data": {
      "text/plain": [
       "RangeIndex(start=0, stop=423, step=1)"
      ]
     },
     "metadata": {},
     "execution_count": 9
    }
   ],
   "source": [
    "df.index"
   ]
  },
  {
   "cell_type": "code",
   "execution_count": 10,
   "metadata": {},
   "outputs": [
    {
     "output_type": "execute_result",
     "data": {
      "text/plain": [
       "Index(['Name', 'Age', 'Occupation', 'Hometown', 'Height', 'ElimWeek',\n",
       "       'Season'],\n",
       "      dtype='object')"
      ]
     },
     "metadata": {},
     "execution_count": 10
    }
   ],
   "source": [
    "df.columns"
   ]
  },
  {
   "cell_type": "code",
   "execution_count": 11,
   "metadata": {},
   "outputs": [
    {
     "output_type": "execute_result",
     "data": {
      "text/plain": [
       "Name           object\n",
       "Age           float64\n",
       "Occupation     object\n",
       "Hometown       object\n",
       "Height        float64\n",
       "ElimWeek      float64\n",
       "Season          int64\n",
       "dtype: object"
      ]
     },
     "metadata": {},
     "execution_count": 11
    }
   ],
   "source": [
    "df.dtypes"
   ]
  },
  {
   "cell_type": "code",
   "execution_count": 12,
   "metadata": {},
   "outputs": [
    {
     "output_type": "execute_result",
     "data": {
      "text/plain": [
       "(423, 7)"
      ]
     },
     "metadata": {},
     "execution_count": 12
    }
   ],
   "source": [
    "df.shape"
   ]
  },
  {
   "cell_type": "code",
   "execution_count": 26,
   "metadata": {},
   "outputs": [],
   "source": [
    "# df.iloc[365:423]"
   ]
  },
  {
   "cell_type": "code",
   "execution_count": 27,
   "metadata": {},
   "outputs": [],
   "source": [
    "# df.iloc[365:423, 0:3]"
   ]
  },
  {
   "cell_type": "code",
   "execution_count": 34,
   "metadata": {},
   "outputs": [],
   "source": [
    "# df.loc[365:423, 'Name'] #only one column"
   ]
  },
  {
   "cell_type": "code",
   "execution_count": 41,
   "metadata": {},
   "outputs": [],
   "source": [
    "# df.loc[df['Age'] > 30]"
   ]
  },
  {
   "cell_type": "code",
   "execution_count": 44,
   "metadata": {},
   "outputs": [
    {
     "output_type": "execute_result",
     "data": {
      "text/plain": [
       "                         Name   Age                      Occupation  \\\n",
       "365           Lauren Bushnell  25.0                Flight Attendant   \n",
       "366    Joelle \"JoJo\" Fletcher  24.0           Real Estate Developer   \n",
       "367               Caila Quinn  24.0   Software Sales Representative   \n",
       "368            Amanda Stanton  25.0                     Esthetician   \n",
       "369              Becca Tilley  26.0          Chiropractic Assistant   \n",
       "370            Emily Ferguson  23.0                        Waitress   \n",
       "371              Lauren Himle  25.0            Kindergarten Teacher   \n",
       "372             Olivia Caridi  23.0              Former News Anchor   \n",
       "373                Leah Block  25.0                   Event Planner   \n",
       "374          Jennifer Saviano  25.0            Small Business Owner   \n",
       "375            Jubilee Sharpe  24.0                     War Veteran   \n",
       "376               Amber James  30.0                       Bartender   \n",
       "377              Rachel Tchen  23.0                      Unemployed   \n",
       "378            Haley Ferguson  23.0                        Waitress   \n",
       "379               Jami Letain  23.0                       Bartender   \n",
       "380      Shushanna Mkrtychyan  27.0                   Mathematician   \n",
       "381               Lace Morris  25.0               Real Estate Agent   \n",
       "382     Amanda \"Mandi\" Kremer  28.0                         Dentist   \n",
       "383  Jacqueline \"Jackie\" Dion  23.0                   Gerontologist   \n",
       "384         Samantha Passmore  26.0                        Attorney   \n",
       "385          Lauren \"LB\" Barr  23.0                   Fashion Buyer   \n",
       "386              Breanne Rice  30.0           Nutritional Therapist   \n",
       "387    Isabel \"Izzy\" Goodkind  24.0                Graphic Designer   \n",
       "388             Jessica Moser  23.0                      Accountant   \n",
       "389            Laura Esselman  24.0               Account Executive   \n",
       "390            Lauren Russell  26.0                    Math Teacher   \n",
       "391             Maegan Miller  30.0                         Cowgirl   \n",
       "392              Tiara Soleim  27.0              Chicken Enthusiast   \n",
       "393                    Alexis  23.0        Aspiring Dolphin Trainer   \n",
       "394                    Angela  26.0                           Model   \n",
       "395                    Astrid  26.0  Plastic Surgery Office Manager   \n",
       "396                    Briana  28.0             Surgical Unit Nurse   \n",
       "397                  Brittany  26.0                    Travel Nurse   \n",
       "398                  Christen  25.0            Wedding Videographer   \n",
       "399                   Corinne  24.0                  Business Owner   \n",
       "400               Danielle L.  27.0            Small Business Owner   \n",
       "401               Danielle M.  31.0                  Neonatal Nurse   \n",
       "402                 Dominique  25.0               Restaurant Server   \n",
       "403                       Liz  29.0                           Doula   \n",
       "404                 Elizabeth  24.0               Marketing Manager   \n",
       "405                    Hailey  23.0                    Photographer   \n",
       "406                 Ida Marie  23.0                   Sales Manager   \n",
       "407                     Jaimi  28.0                            Chef   \n",
       "408                Jasmine B.  25.0                Flight Attendant   \n",
       "409                Jasmine G.  29.0           Pro Basketball Dancer   \n",
       "410                 Josephine  24.0                Registered Nurse   \n",
       "411                  Kristina  24.0                Dental Hygienist   \n",
       "412                     Lacey  25.0       Digital Marketing Manager   \n",
       "413                    Lauren  30.0             Law School Graduate   \n",
       "414                  Michelle  24.0                Food Truck Owner   \n",
       "415                    Olivia  25.0    Apparel Sales Representative   \n",
       "416                    Rachel  31.0                        Attorney   \n",
       "417                     Raven  25.0          Fashion Boutique Owner   \n",
       "418                     Sarah  26.0            Grade School Teacher   \n",
       "419                  Susannah  26.0                 Account Manager   \n",
       "420                    Taylor  23.0         Mental Health Counselor   \n",
       "421                   Vanessa  29.0       Special Education Teacher   \n",
       "422                   Whitney  25.0              Pilates Instructor   \n",
       "\n",
       "                                Hometown  Height  ElimWeek  Season  \n",
       "365                    West Linn, Oregon     NaN       NaN      20  \n",
       "366                        Dallas, Texas     NaN      10.0      20  \n",
       "367                         Hudson, Ohio     NaN       9.0      20  \n",
       "368   Rancho Santa Margarita, California     NaN       8.0      20  \n",
       "369                Shreveport, Louisiana     NaN       7.0      20  \n",
       "370                    Las Vegas, Nevada     NaN       7.0      20  \n",
       "371                     Dexter, Michigan     NaN       6.0      20  \n",
       "372                    Bristol, Virginia     NaN       6.0      20  \n",
       "373          Greenwood Village, Colorado     NaN       6.0      20  \n",
       "374            Lauderdale Lakes, Florida     NaN       5.0      20  \n",
       "375             Fort Lauderdale, Florida     NaN       5.0      20  \n",
       "376                   Kankakee, Illinois     NaN       4.0      20  \n",
       "377                Little Rock, Arkansas     NaN       4.0      20  \n",
       "378                    Las Vegas, Nevada     NaN       4.0      20  \n",
       "379                  St. Albert, Alberta     NaN       3.0      20  \n",
       "380                 Salt Lake City, Utah     NaN       3.0      20  \n",
       "381                     Denver, Colorado     NaN       3.0      20  \n",
       "382                     Portland, Oregon     NaN       2.0      20  \n",
       "383            Newport Beach, California     NaN       2.0      20  \n",
       "384            New Smyrna Beach, Florida     NaN       2.0      20  \n",
       "385                 Stillwater, Oklahoma     NaN       2.0      20  \n",
       "386                  Seattle, Washington     NaN       1.0      20  \n",
       "387                Branford, Connecticut     NaN       1.0      20  \n",
       "388                  Boca Raton, Florida     NaN       1.0      20  \n",
       "389                 Louisville, Kentucky     NaN       1.0      20  \n",
       "390                       Houston, Texas     NaN       1.0      20  \n",
       "391                  Visalia, California     NaN       1.0      20  \n",
       "392                  Redmond, Washington     NaN       1.0      20  \n",
       "393                         Secaucus, NJ   66.00       5.0      21  \n",
       "394                       Greenville, SC   67.00       1.0      21  \n",
       "395                            Tampa, FL   67.50       4.0      21  \n",
       "396                   Salt Lake City, UT   64.00       1.0      21  \n",
       "397                     Santa Monica, CA   62.00       3.0      21  \n",
       "398                            Tulsa, OK   65.00       3.0      21  \n",
       "399                            Miami, FL   61.00       8.0      21  \n",
       "400                      Los Angeles, CA   65.00       6.0      21  \n",
       "401                        Nashville, TN   70.00       7.0      21  \n",
       "402                      Los Angeles, CA   64.00       3.0      21  \n",
       "403                        Las Vegas, NV   64.00       2.0      21  \n",
       "404                           Dallas, TX   67.00       2.0      21  \n",
       "405  Vancouver, British Columbia, Canada   67.00       2.0      21  \n",
       "406                        Harlingen, TX   68.00       1.0      21  \n",
       "407                      New Orleans, LA   62.00       5.0      21  \n",
       "408                           Tacoma, WA   62.50       1.0      21  \n",
       "409                    San Francisco, CA   67.00       6.0      21  \n",
       "410                       Santa Cruz, CA   67.75       5.0      21  \n",
       "411                        Lexington, KY   62.00       7.0      21  \n",
       "412                        Manhattan, NY   63.00       2.0      21  \n",
       "413                           Naples, FL   67.00       1.0      21  \n",
       "414                      Los Angeles, CA   61.00       1.0      21  \n",
       "415                        Anchorage, AK   67.00       1.0      21  \n",
       "416                           Dallas, TX   64.00       NaN      21  \n",
       "417                            Hoxie, AR   66.00       NaN      21  \n",
       "418                    Newport Beach, CA   65.00       4.0      21  \n",
       "419                        San Diego, CA   66.00       1.0      21  \n",
       "420                          Seattle, WA   64.00       5.0      21  \n",
       "421             Montreal, Quebec, Canada   63.50       NaN      21  \n",
       "422                       Chanhassen, MN   68.00       6.0      21  "
      ],
      "text/html": "<div>\n<style scoped>\n    .dataframe tbody tr th:only-of-type {\n        vertical-align: middle;\n    }\n\n    .dataframe tbody tr th {\n        vertical-align: top;\n    }\n\n    .dataframe thead th {\n        text-align: right;\n    }\n</style>\n<table border=\"1\" class=\"dataframe\">\n  <thead>\n    <tr style=\"text-align: right;\">\n      <th></th>\n      <th>Name</th>\n      <th>Age</th>\n      <th>Occupation</th>\n      <th>Hometown</th>\n      <th>Height</th>\n      <th>ElimWeek</th>\n      <th>Season</th>\n    </tr>\n  </thead>\n  <tbody>\n    <tr>\n      <th>365</th>\n      <td>Lauren Bushnell</td>\n      <td>25.0</td>\n      <td>Flight Attendant</td>\n      <td>West Linn, Oregon</td>\n      <td>NaN</td>\n      <td>NaN</td>\n      <td>20</td>\n    </tr>\n    <tr>\n      <th>366</th>\n      <td>Joelle \"JoJo\" Fletcher</td>\n      <td>24.0</td>\n      <td>Real Estate Developer</td>\n      <td>Dallas, Texas</td>\n      <td>NaN</td>\n      <td>10.0</td>\n      <td>20</td>\n    </tr>\n    <tr>\n      <th>367</th>\n      <td>Caila Quinn</td>\n      <td>24.0</td>\n      <td>Software Sales Representative</td>\n      <td>Hudson, Ohio</td>\n      <td>NaN</td>\n      <td>9.0</td>\n      <td>20</td>\n    </tr>\n    <tr>\n      <th>368</th>\n      <td>Amanda Stanton</td>\n      <td>25.0</td>\n      <td>Esthetician</td>\n      <td>Rancho Santa Margarita, California</td>\n      <td>NaN</td>\n      <td>8.0</td>\n      <td>20</td>\n    </tr>\n    <tr>\n      <th>369</th>\n      <td>Becca Tilley</td>\n      <td>26.0</td>\n      <td>Chiropractic Assistant</td>\n      <td>Shreveport, Louisiana</td>\n      <td>NaN</td>\n      <td>7.0</td>\n      <td>20</td>\n    </tr>\n    <tr>\n      <th>370</th>\n      <td>Emily Ferguson</td>\n      <td>23.0</td>\n      <td>Waitress</td>\n      <td>Las Vegas, Nevada</td>\n      <td>NaN</td>\n      <td>7.0</td>\n      <td>20</td>\n    </tr>\n    <tr>\n      <th>371</th>\n      <td>Lauren Himle</td>\n      <td>25.0</td>\n      <td>Kindergarten Teacher</td>\n      <td>Dexter, Michigan</td>\n      <td>NaN</td>\n      <td>6.0</td>\n      <td>20</td>\n    </tr>\n    <tr>\n      <th>372</th>\n      <td>Olivia Caridi</td>\n      <td>23.0</td>\n      <td>Former News Anchor</td>\n      <td>Bristol, Virginia</td>\n      <td>NaN</td>\n      <td>6.0</td>\n      <td>20</td>\n    </tr>\n    <tr>\n      <th>373</th>\n      <td>Leah Block</td>\n      <td>25.0</td>\n      <td>Event Planner</td>\n      <td>Greenwood Village, Colorado</td>\n      <td>NaN</td>\n      <td>6.0</td>\n      <td>20</td>\n    </tr>\n    <tr>\n      <th>374</th>\n      <td>Jennifer Saviano</td>\n      <td>25.0</td>\n      <td>Small Business Owner</td>\n      <td>Lauderdale Lakes, Florida</td>\n      <td>NaN</td>\n      <td>5.0</td>\n      <td>20</td>\n    </tr>\n    <tr>\n      <th>375</th>\n      <td>Jubilee Sharpe</td>\n      <td>24.0</td>\n      <td>War Veteran</td>\n      <td>Fort Lauderdale, Florida</td>\n      <td>NaN</td>\n      <td>5.0</td>\n      <td>20</td>\n    </tr>\n    <tr>\n      <th>376</th>\n      <td>Amber James</td>\n      <td>30.0</td>\n      <td>Bartender</td>\n      <td>Kankakee, Illinois</td>\n      <td>NaN</td>\n      <td>4.0</td>\n      <td>20</td>\n    </tr>\n    <tr>\n      <th>377</th>\n      <td>Rachel Tchen</td>\n      <td>23.0</td>\n      <td>Unemployed</td>\n      <td>Little Rock, Arkansas</td>\n      <td>NaN</td>\n      <td>4.0</td>\n      <td>20</td>\n    </tr>\n    <tr>\n      <th>378</th>\n      <td>Haley Ferguson</td>\n      <td>23.0</td>\n      <td>Waitress</td>\n      <td>Las Vegas, Nevada</td>\n      <td>NaN</td>\n      <td>4.0</td>\n      <td>20</td>\n    </tr>\n    <tr>\n      <th>379</th>\n      <td>Jami Letain</td>\n      <td>23.0</td>\n      <td>Bartender</td>\n      <td>St. Albert, Alberta</td>\n      <td>NaN</td>\n      <td>3.0</td>\n      <td>20</td>\n    </tr>\n    <tr>\n      <th>380</th>\n      <td>Shushanna Mkrtychyan</td>\n      <td>27.0</td>\n      <td>Mathematician</td>\n      <td>Salt Lake City, Utah</td>\n      <td>NaN</td>\n      <td>3.0</td>\n      <td>20</td>\n    </tr>\n    <tr>\n      <th>381</th>\n      <td>Lace Morris</td>\n      <td>25.0</td>\n      <td>Real Estate Agent</td>\n      <td>Denver, Colorado</td>\n      <td>NaN</td>\n      <td>3.0</td>\n      <td>20</td>\n    </tr>\n    <tr>\n      <th>382</th>\n      <td>Amanda \"Mandi\" Kremer</td>\n      <td>28.0</td>\n      <td>Dentist</td>\n      <td>Portland, Oregon</td>\n      <td>NaN</td>\n      <td>2.0</td>\n      <td>20</td>\n    </tr>\n    <tr>\n      <th>383</th>\n      <td>Jacqueline \"Jackie\" Dion</td>\n      <td>23.0</td>\n      <td>Gerontologist</td>\n      <td>Newport Beach, California</td>\n      <td>NaN</td>\n      <td>2.0</td>\n      <td>20</td>\n    </tr>\n    <tr>\n      <th>384</th>\n      <td>Samantha Passmore</td>\n      <td>26.0</td>\n      <td>Attorney</td>\n      <td>New Smyrna Beach, Florida</td>\n      <td>NaN</td>\n      <td>2.0</td>\n      <td>20</td>\n    </tr>\n    <tr>\n      <th>385</th>\n      <td>Lauren \"LB\" Barr</td>\n      <td>23.0</td>\n      <td>Fashion Buyer</td>\n      <td>Stillwater, Oklahoma</td>\n      <td>NaN</td>\n      <td>2.0</td>\n      <td>20</td>\n    </tr>\n    <tr>\n      <th>386</th>\n      <td>Breanne Rice</td>\n      <td>30.0</td>\n      <td>Nutritional Therapist</td>\n      <td>Seattle, Washington</td>\n      <td>NaN</td>\n      <td>1.0</td>\n      <td>20</td>\n    </tr>\n    <tr>\n      <th>387</th>\n      <td>Isabel \"Izzy\" Goodkind</td>\n      <td>24.0</td>\n      <td>Graphic Designer</td>\n      <td>Branford, Connecticut</td>\n      <td>NaN</td>\n      <td>1.0</td>\n      <td>20</td>\n    </tr>\n    <tr>\n      <th>388</th>\n      <td>Jessica Moser</td>\n      <td>23.0</td>\n      <td>Accountant</td>\n      <td>Boca Raton, Florida</td>\n      <td>NaN</td>\n      <td>1.0</td>\n      <td>20</td>\n    </tr>\n    <tr>\n      <th>389</th>\n      <td>Laura Esselman</td>\n      <td>24.0</td>\n      <td>Account Executive</td>\n      <td>Louisville, Kentucky</td>\n      <td>NaN</td>\n      <td>1.0</td>\n      <td>20</td>\n    </tr>\n    <tr>\n      <th>390</th>\n      <td>Lauren Russell</td>\n      <td>26.0</td>\n      <td>Math Teacher</td>\n      <td>Houston, Texas</td>\n      <td>NaN</td>\n      <td>1.0</td>\n      <td>20</td>\n    </tr>\n    <tr>\n      <th>391</th>\n      <td>Maegan Miller</td>\n      <td>30.0</td>\n      <td>Cowgirl</td>\n      <td>Visalia, California</td>\n      <td>NaN</td>\n      <td>1.0</td>\n      <td>20</td>\n    </tr>\n    <tr>\n      <th>392</th>\n      <td>Tiara Soleim</td>\n      <td>27.0</td>\n      <td>Chicken Enthusiast</td>\n      <td>Redmond, Washington</td>\n      <td>NaN</td>\n      <td>1.0</td>\n      <td>20</td>\n    </tr>\n    <tr>\n      <th>393</th>\n      <td>Alexis</td>\n      <td>23.0</td>\n      <td>Aspiring Dolphin Trainer</td>\n      <td>Secaucus, NJ</td>\n      <td>66.00</td>\n      <td>5.0</td>\n      <td>21</td>\n    </tr>\n    <tr>\n      <th>394</th>\n      <td>Angela</td>\n      <td>26.0</td>\n      <td>Model</td>\n      <td>Greenville, SC</td>\n      <td>67.00</td>\n      <td>1.0</td>\n      <td>21</td>\n    </tr>\n    <tr>\n      <th>395</th>\n      <td>Astrid</td>\n      <td>26.0</td>\n      <td>Plastic Surgery Office Manager</td>\n      <td>Tampa, FL</td>\n      <td>67.50</td>\n      <td>4.0</td>\n      <td>21</td>\n    </tr>\n    <tr>\n      <th>396</th>\n      <td>Briana</td>\n      <td>28.0</td>\n      <td>Surgical Unit Nurse</td>\n      <td>Salt Lake City, UT</td>\n      <td>64.00</td>\n      <td>1.0</td>\n      <td>21</td>\n    </tr>\n    <tr>\n      <th>397</th>\n      <td>Brittany</td>\n      <td>26.0</td>\n      <td>Travel Nurse</td>\n      <td>Santa Monica, CA</td>\n      <td>62.00</td>\n      <td>3.0</td>\n      <td>21</td>\n    </tr>\n    <tr>\n      <th>398</th>\n      <td>Christen</td>\n      <td>25.0</td>\n      <td>Wedding Videographer</td>\n      <td>Tulsa, OK</td>\n      <td>65.00</td>\n      <td>3.0</td>\n      <td>21</td>\n    </tr>\n    <tr>\n      <th>399</th>\n      <td>Corinne</td>\n      <td>24.0</td>\n      <td>Business Owner</td>\n      <td>Miami, FL</td>\n      <td>61.00</td>\n      <td>8.0</td>\n      <td>21</td>\n    </tr>\n    <tr>\n      <th>400</th>\n      <td>Danielle L.</td>\n      <td>27.0</td>\n      <td>Small Business Owner</td>\n      <td>Los Angeles, CA</td>\n      <td>65.00</td>\n      <td>6.0</td>\n      <td>21</td>\n    </tr>\n    <tr>\n      <th>401</th>\n      <td>Danielle M.</td>\n      <td>31.0</td>\n      <td>Neonatal Nurse</td>\n      <td>Nashville, TN</td>\n      <td>70.00</td>\n      <td>7.0</td>\n      <td>21</td>\n    </tr>\n    <tr>\n      <th>402</th>\n      <td>Dominique</td>\n      <td>25.0</td>\n      <td>Restaurant Server</td>\n      <td>Los Angeles, CA</td>\n      <td>64.00</td>\n      <td>3.0</td>\n      <td>21</td>\n    </tr>\n    <tr>\n      <th>403</th>\n      <td>Liz</td>\n      <td>29.0</td>\n      <td>Doula</td>\n      <td>Las Vegas, NV</td>\n      <td>64.00</td>\n      <td>2.0</td>\n      <td>21</td>\n    </tr>\n    <tr>\n      <th>404</th>\n      <td>Elizabeth</td>\n      <td>24.0</td>\n      <td>Marketing Manager</td>\n      <td>Dallas, TX</td>\n      <td>67.00</td>\n      <td>2.0</td>\n      <td>21</td>\n    </tr>\n    <tr>\n      <th>405</th>\n      <td>Hailey</td>\n      <td>23.0</td>\n      <td>Photographer</td>\n      <td>Vancouver, British Columbia, Canada</td>\n      <td>67.00</td>\n      <td>2.0</td>\n      <td>21</td>\n    </tr>\n    <tr>\n      <th>406</th>\n      <td>Ida Marie</td>\n      <td>23.0</td>\n      <td>Sales Manager</td>\n      <td>Harlingen, TX</td>\n      <td>68.00</td>\n      <td>1.0</td>\n      <td>21</td>\n    </tr>\n    <tr>\n      <th>407</th>\n      <td>Jaimi</td>\n      <td>28.0</td>\n      <td>Chef</td>\n      <td>New Orleans, LA</td>\n      <td>62.00</td>\n      <td>5.0</td>\n      <td>21</td>\n    </tr>\n    <tr>\n      <th>408</th>\n      <td>Jasmine B.</td>\n      <td>25.0</td>\n      <td>Flight Attendant</td>\n      <td>Tacoma, WA</td>\n      <td>62.50</td>\n      <td>1.0</td>\n      <td>21</td>\n    </tr>\n    <tr>\n      <th>409</th>\n      <td>Jasmine G.</td>\n      <td>29.0</td>\n      <td>Pro Basketball Dancer</td>\n      <td>San Francisco, CA</td>\n      <td>67.00</td>\n      <td>6.0</td>\n      <td>21</td>\n    </tr>\n    <tr>\n      <th>410</th>\n      <td>Josephine</td>\n      <td>24.0</td>\n      <td>Registered Nurse</td>\n      <td>Santa Cruz, CA</td>\n      <td>67.75</td>\n      <td>5.0</td>\n      <td>21</td>\n    </tr>\n    <tr>\n      <th>411</th>\n      <td>Kristina</td>\n      <td>24.0</td>\n      <td>Dental Hygienist</td>\n      <td>Lexington, KY</td>\n      <td>62.00</td>\n      <td>7.0</td>\n      <td>21</td>\n    </tr>\n    <tr>\n      <th>412</th>\n      <td>Lacey</td>\n      <td>25.0</td>\n      <td>Digital Marketing Manager</td>\n      <td>Manhattan, NY</td>\n      <td>63.00</td>\n      <td>2.0</td>\n      <td>21</td>\n    </tr>\n    <tr>\n      <th>413</th>\n      <td>Lauren</td>\n      <td>30.0</td>\n      <td>Law School Graduate</td>\n      <td>Naples, FL</td>\n      <td>67.00</td>\n      <td>1.0</td>\n      <td>21</td>\n    </tr>\n    <tr>\n      <th>414</th>\n      <td>Michelle</td>\n      <td>24.0</td>\n      <td>Food Truck Owner</td>\n      <td>Los Angeles, CA</td>\n      <td>61.00</td>\n      <td>1.0</td>\n      <td>21</td>\n    </tr>\n    <tr>\n      <th>415</th>\n      <td>Olivia</td>\n      <td>25.0</td>\n      <td>Apparel Sales Representative</td>\n      <td>Anchorage, AK</td>\n      <td>67.00</td>\n      <td>1.0</td>\n      <td>21</td>\n    </tr>\n    <tr>\n      <th>416</th>\n      <td>Rachel</td>\n      <td>31.0</td>\n      <td>Attorney</td>\n      <td>Dallas, TX</td>\n      <td>64.00</td>\n      <td>NaN</td>\n      <td>21</td>\n    </tr>\n    <tr>\n      <th>417</th>\n      <td>Raven</td>\n      <td>25.0</td>\n      <td>Fashion Boutique Owner</td>\n      <td>Hoxie, AR</td>\n      <td>66.00</td>\n      <td>NaN</td>\n      <td>21</td>\n    </tr>\n    <tr>\n      <th>418</th>\n      <td>Sarah</td>\n      <td>26.0</td>\n      <td>Grade School Teacher</td>\n      <td>Newport Beach, CA</td>\n      <td>65.00</td>\n      <td>4.0</td>\n      <td>21</td>\n    </tr>\n    <tr>\n      <th>419</th>\n      <td>Susannah</td>\n      <td>26.0</td>\n      <td>Account Manager</td>\n      <td>San Diego, CA</td>\n      <td>66.00</td>\n      <td>1.0</td>\n      <td>21</td>\n    </tr>\n    <tr>\n      <th>420</th>\n      <td>Taylor</td>\n      <td>23.0</td>\n      <td>Mental Health Counselor</td>\n      <td>Seattle, WA</td>\n      <td>64.00</td>\n      <td>5.0</td>\n      <td>21</td>\n    </tr>\n    <tr>\n      <th>421</th>\n      <td>Vanessa</td>\n      <td>29.0</td>\n      <td>Special Education Teacher</td>\n      <td>Montreal, Quebec, Canada</td>\n      <td>63.50</td>\n      <td>NaN</td>\n      <td>21</td>\n    </tr>\n    <tr>\n      <th>422</th>\n      <td>Whitney</td>\n      <td>25.0</td>\n      <td>Pilates Instructor</td>\n      <td>Chanhassen, MN</td>\n      <td>68.00</td>\n      <td>6.0</td>\n      <td>21</td>\n    </tr>\n  </tbody>\n</table>\n</div>"
     },
     "metadata": {},
     "execution_count": 44
    }
   ],
   "source": [
    "df.loc[df['Season'] >= 20]"
   ]
  },
  {
   "cell_type": "code",
   "execution_count": null,
   "metadata": {},
   "outputs": [],
   "source": []
  }
 ]
}