{
 "metadata": {
  "language_info": {
   "codemirror_mode": {
    "name": "ipython",
    "version": 3
   },
   "file_extension": ".py",
   "mimetype": "text/x-python",
   "name": "python",
   "nbconvert_exporter": "python",
   "pygments_lexer": "ipython3",
   "version": "3.8.3-final"
  },
  "orig_nbformat": 2,
  "kernelspec": {
   "name": "learn-env",
   "display_name": "learn-env",
   "language": "python"
  }
 },
 "nbformat": 4,
 "nbformat_minor": 2,
 "cells": [
  {
   "cell_type": "code",
   "execution_count": 1,
   "metadata": {},
   "outputs": [],
   "source": [
    "#defining a class\n",
    "#the class is blueprint that defines how data will be stored and manipulated\n",
    "class Gingerbread_Houses:\n",
    "    #__init__ is the constructor method and the double underscore is known as a dunder\n",
    "    #__init__ is a constructor because it builds the class\n",
    "    def __init__(self, name, sober, contents): #self is the object, self is an object of the class Gingerbread_Houses\n",
    "        #self is the object in memory\n",
    "        #name, sober, contents are the parameters\n",
    "\n",
    "        #name is a local variable (within the __init__ method as oppose to being a global variable outside the           class)\n",
    "        #self.name, self.sober, self.contents are attributes of the Gingerbread_Houses class\n",
    "        self.name = name #will pass in string parameter\n",
    "        self.sober = sober #will pass in bool parameter\n",
    "        self.contents = contents #will pass in list parameter\n",
    "\n",
    "#any function inside the class is a method\n",
    "#call self in is_sober because you will be passing in an instance, of the gingerbread house class, when you call the method\n",
    "    def is_sober(self): #self is a paremeter and the type is object \n",
    "    # -----self.sober is an attribute and the type is a boolean----    \n",
    "        if self.sober: \n",
    "            return 'drink more'\n",
    "        else:\n",
    "            return 'drunk'\n",
    "    \n",
    "    def build(self):\n",
    "        for i in self.contents:\n",
    "            if i == 'graham crackers':\n",
    "                return 'necessary foundation'\n",
    "            elif i == 'icing':\n",
    "                return 'the glue that holds it all together'\n",
    "            elif i == 'jelly beans' or 'gummies' or 'skittles':\n",
    "                return 'candy decorations'\n",
    "    \n",
    "    def family(self):\n",
    "        if self.name == 'Abuelita':\n",
    "            return 'grandma'\n",
    "        elif self.name == 'Bebe':\n",
    "            return 'Momager'\n",
    "        elif self.name == 'Jay':\n",
    "            return 'father'\n",
    "        elif self.name == 'Marc':\n",
    "            return 'brother'\n",
    "        elif self.name == 'Raizel':\n",
    "            return 'the sun ... everything revolves around her'\n",
    "        else:\n",
    "            return 'who are you?'"
   ]
  },
  {
   "cell_type": "code",
   "execution_count": 5,
   "metadata": {},
   "outputs": [],
   "source": [
    "person_1 = Gingerbread_Houses('Raizel', False, ['graham crackers', 'icing', 'jelly beans', 'gummies', 'skittles'])\n",
    "person_2 = Gingerbread_Houses('Abuelita', False, ['graham crackers', 'icing', 'jelly beans', 'gummies', 'skittles'])\n",
    "person_3 = Gingerbread_Houses('Bebe', True, ['graham crackers', 'icing', 'jelly beans', 'gummies', 'skittles'])\n",
    "person_4 = Gingerbread_Houses('Jay', False, ['graham crackers', 'icing', 'jelly beans'])\n",
    "person_5 = Gingerbread_Houses('Marc', False, ['graham crackers', 'icing', 'jelly beans', 'gummies', 'skittles'])"
   ]
  },
  {
   "cell_type": "code",
   "execution_count": 6,
   "metadata": {},
   "outputs": [
    {
     "output_type": "stream",
     "name": "stdout",
     "text": [
      "False\n['graham crackers', 'icing', 'jelly beans']\n['graham crackers', 'icing', 'jelly beans', 'gummies', 'skittles']\n"
     ]
    }
   ],
   "source": [
    "print(person_2.sober)\n",
    "print(person_4.contents)\n",
    "print(person_5.contents)"
   ]
  },
  {
   "cell_type": "code",
   "execution_count": 3,
   "metadata": {},
   "outputs": [
    {
     "output_type": "stream",
     "name": "stdout",
     "text": [
      "False\n"
     ]
    }
   ],
   "source": [
    "print(person_1.sober)"
   ]
  },
  {
   "cell_type": "code",
   "execution_count": 113,
   "metadata": {},
   "outputs": [
    {
     "output_type": "stream",
     "name": "stdout",
     "text": [
      "False\n"
     ]
    }
   ],
   "source": [
    "print(person_2.sober)"
   ]
  },
  {
   "cell_type": "code",
   "execution_count": 114,
   "metadata": {},
   "outputs": [
    {
     "output_type": "stream",
     "name": "stdout",
     "text": [
      "['graham crackers', 'icing', 'jelly beans', 'gummies', 'skittles']\n"
     ]
    }
   ],
   "source": [
    "print(person_1.contents)"
   ]
  },
  {
   "cell_type": "code",
   "execution_count": 115,
   "metadata": {},
   "outputs": [
    {
     "output_type": "execute_result",
     "data": {
      "text/plain": [
       "'necessary foundation'"
      ]
     },
     "metadata": {},
     "execution_count": 115
    }
   ],
   "source": [
    "#person_1 is the self, replace self with the instance (which is person 1)\n",
    "person_1.build()"
   ]
  },
  {
   "cell_type": "code",
   "execution_count": 116,
   "metadata": {},
   "outputs": [
    {
     "output_type": "execute_result",
     "data": {
      "text/plain": [
       "'drunk'"
      ]
     },
     "metadata": {},
     "execution_count": 116
    }
   ],
   "source": [
    "#person_2 is the self\n",
    "person_2.is_sober()"
   ]
  },
  {
   "cell_type": "code",
   "execution_count": 117,
   "metadata": {},
   "outputs": [
    {
     "output_type": "execute_result",
     "data": {
      "text/plain": [
       "'Momager'"
      ]
     },
     "metadata": {},
     "execution_count": 117
    }
   ],
   "source": [
    "#person 3 is the self\n",
    "person_3.family()"
   ]
  },
  {
   "cell_type": "code",
   "execution_count": 7,
   "metadata": {},
   "outputs": [
    {
     "output_type": "stream",
     "name": "stdout",
     "text": [
      "necessary foundation\ndrunk\nMomager\n"
     ]
    }
   ],
   "source": [
    "print(person_1.build())\n",
    "print(person_2.is_sober())\n",
    "print(person_3.family())"
   ]
  },
  {
   "cell_type": "code",
   "execution_count": null,
   "metadata": {},
   "outputs": [],
   "source": []
  }
 ]
}