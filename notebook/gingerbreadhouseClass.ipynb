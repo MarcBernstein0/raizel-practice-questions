{
 "metadata": {
  "language_info": {
   "codemirror_mode": {
    "name": "ipython",
    "version": 3
   },
   "file_extension": ".py",
   "mimetype": "text/x-python",
   "name": "python",
   "nbconvert_exporter": "python",
   "pygments_lexer": "ipython3",
   "version": "3.8.3-final"
  },
  "orig_nbformat": 2,
  "kernelspec": {
   "name": "learn-env",
   "display_name": "learn-env",
   "language": "python"
  }
 },
 "nbformat": 4,
 "nbformat_minor": 2,
 "cells": [
  {
   "cell_type": "code",
   "execution_count": 79,
   "metadata": {},
   "outputs": [],
   "source": [
    "class Gingerbread_Houses:\n",
    "    def __init__(self, name, sober, contents):\n",
    "        self.name = name\n",
    "        self.sober = sober \n",
    "        self.contents = contents\n",
    "\n",
    "    def is_sober(self):\n",
    "        if self.sober:\n",
    "            return 'drink more'\n",
    "        else:\n",
    "            return 'drunk'\n",
    "    \n",
    "    def build(self):\n",
    "        for i in self.contents:\n",
    "            if i == 'graham crackers':\n",
    "                return 'necessary foundation'\n",
    "            elif i == 'icing':\n",
    "                return 'the glue that holds it all together'\n",
    "            elif i == 'jelly beans' or 'gummies' or 'skittles':\n",
    "                return 'candy decorations'"
   ]
  },
  {
   "cell_type": "code",
   "execution_count": 80,
   "metadata": {},
   "outputs": [],
   "source": [
    "person_1 = Gingerbread_Houses('Raizel', False, ['graham crackers', 'icing', 'jelly beans', 'gummies', 'skittles'])\n",
    "person_2 = Gingerbread_Houses('Abuelita', False, ['graham crackers', 'icing', 'jelly beans', 'gummies', 'skittles'])\n",
    "person_3 = Gingerbread_Houses('Bebe', True, ['graham crackers', 'icing', 'jelly beans', 'gummies', 'skittles'])\n",
    "person_4 = Gingerbread_Houses('Jay', False, ['graham crackers', 'icing', 'jelly beans', 'gummies', 'skittles'])\n",
    "person_5 = Gingerbread_Houses('Marc', False, ['graham crackers', 'icing', 'jelly beans', 'gummies', 'skittles'])"
   ]
  },
  {
   "cell_type": "code",
   "execution_count": 81,
   "metadata": {},
   "outputs": [
    {
     "output_type": "stream",
     "name": "stdout",
     "text": [
      "False\n"
     ]
    }
   ],
   "source": [
    "print(person_1.sober)"
   ]
  },
  {
   "cell_type": "code",
   "execution_count": 82,
   "metadata": {},
   "outputs": [
    {
     "output_type": "stream",
     "name": "stdout",
     "text": [
      "False\n"
     ]
    }
   ],
   "source": [
    "print(person_2.sober)"
   ]
  },
  {
   "cell_type": "code",
   "execution_count": 83,
   "metadata": {},
   "outputs": [
    {
     "output_type": "stream",
     "name": "stdout",
     "text": [
      "['graham crackers', 'icing', 'jelly beans', 'gummies', 'skittles']\n"
     ]
    }
   ],
   "source": [
    "print(person_1.contents)"
   ]
  },
  {
   "cell_type": "code",
   "execution_count": 84,
   "metadata": {},
   "outputs": [
    {
     "output_type": "execute_result",
     "data": {
      "text/plain": [
       "'necessary foundation'"
      ]
     },
     "metadata": {},
     "execution_count": 84
    }
   ],
   "source": [
    "person_1.build()"
   ]
  },
  {
   "cell_type": "code",
   "execution_count": 85,
   "metadata": {},
   "outputs": [
    {
     "output_type": "execute_result",
     "data": {
      "text/plain": [
       "'drunk'"
      ]
     },
     "metadata": {},
     "execution_count": 85
    }
   ],
   "source": [
    "person_2.is_sober()"
   ]
  },
  {
   "cell_type": "code",
   "execution_count": null,
   "metadata": {},
   "outputs": [],
   "source": []
  }
 ]
}