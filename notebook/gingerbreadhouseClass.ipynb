{
 "metadata": {
  "language_info": {
   "codemirror_mode": {
    "name": "ipython",
    "version": 3
   },
   "file_extension": ".py",
   "mimetype": "text/x-python",
   "name": "python",
   "nbconvert_exporter": "python",
   "pygments_lexer": "ipython3",
   "version": "3.8.3-final"
  },
  "orig_nbformat": 2,
  "kernelspec": {
   "name": "learn-env",
   "display_name": "learn-env",
   "language": "python"
  }
 },
 "nbformat": 4,
 "nbformat_minor": 2,
 "cells": [
  {
   "cell_type": "code",
   "execution_count": 110,
   "metadata": {},
   "outputs": [],
   "source": [
    "class Gingerbread_Houses:\n",
    "    def __init__(self, name, sober, contents):\n",
    "        self.name = name\n",
    "        self.sober = sober \n",
    "        self.contents = contents\n",
    "\n",
    "    def is_sober(self):\n",
    "        if self.sober:\n",
    "            return 'drink more'\n",
    "        else:\n",
    "            return 'drunk'\n",
    "    \n",
    "    def build(self):\n",
    "        for i in self.contents:\n",
    "            if i == 'graham crackers':\n",
    "                return 'necessary foundation'\n",
    "            elif i == 'icing':\n",
    "                return 'the glue that holds it all together'\n",
    "            elif i == 'jelly beans' or 'gummies' or 'skittles':\n",
    "                return 'candy decorations'\n",
    "    \n",
    "    def family(self):\n",
    "        if self.name == 'Abuelita':\n",
    "            return 'grandma'\n",
    "        elif self.name == 'Bebe':\n",
    "            return 'Momager'\n",
    "        elif self.name == 'Jay':\n",
    "            return 'father'\n",
    "        elif self.name == 'Marc':\n",
    "            return 'brother'\n",
    "        elif self.name == 'Raizel':\n",
    "            return 'the sun ... everything revolves around her'\n",
    "        else:\n",
    "            'who are you?'"
   ]
  },
  {
   "cell_type": "code",
   "execution_count": 111,
   "metadata": {},
   "outputs": [],
   "source": [
    "person_1 = Gingerbread_Houses('Raizel', False, ['graham crackers', 'icing', 'jelly beans', 'gummies', 'skittles'])\n",
    "person_2 = Gingerbread_Houses('Abuelita', False, ['graham crackers', 'icing', 'jelly beans', 'gummies', 'skittles'])\n",
    "person_3 = Gingerbread_Houses('Bebe', True, ['graham crackers', 'icing', 'jelly beans', 'gummies', 'skittles'])\n",
    "person_4 = Gingerbread_Houses('Jay', False, ['graham crackers', 'icing', 'jelly beans', 'gummies', 'skittles'])\n",
    "person_5 = Gingerbread_Houses('Marc', False, ['graham crackers', 'icing', 'jelly beans', 'gummies', 'skittles'])"
   ]
  },
  {
   "cell_type": "code",
   "execution_count": 112,
   "metadata": {},
   "outputs": [
    {
     "output_type": "stream",
     "name": "stdout",
     "text": [
      "False\n"
     ]
    }
   ],
   "source": [
    "print(person_1.sober)"
   ]
  },
  {
   "cell_type": "code",
   "execution_count": 113,
   "metadata": {},
   "outputs": [
    {
     "output_type": "stream",
     "name": "stdout",
     "text": [
      "False\n"
     ]
    }
   ],
   "source": [
    "print(person_2.sober)"
   ]
  },
  {
   "cell_type": "code",
   "execution_count": 114,
   "metadata": {},
   "outputs": [
    {
     "output_type": "stream",
     "name": "stdout",
     "text": [
      "['graham crackers', 'icing', 'jelly beans', 'gummies', 'skittles']\n"
     ]
    }
   ],
   "source": [
    "print(person_1.contents)"
   ]
  },
  {
   "cell_type": "code",
   "execution_count": 115,
   "metadata": {},
   "outputs": [
    {
     "output_type": "execute_result",
     "data": {
      "text/plain": [
       "'necessary foundation'"
      ]
     },
     "metadata": {},
     "execution_count": 115
    }
   ],
   "source": [
    "person_1.build()"
   ]
  },
  {
   "cell_type": "code",
   "execution_count": 116,
   "metadata": {},
   "outputs": [
    {
     "output_type": "execute_result",
     "data": {
      "text/plain": [
       "'drunk'"
      ]
     },
     "metadata": {},
     "execution_count": 116
    }
   ],
   "source": [
    "person_2.is_sober()"
   ]
  },
  {
   "cell_type": "code",
   "execution_count": 117,
   "metadata": {},
   "outputs": [
    {
     "output_type": "execute_result",
     "data": {
      "text/plain": [
       "'Momager'"
      ]
     },
     "metadata": {},
     "execution_count": 117
    }
   ],
   "source": [
    "person_3.family()"
   ]
  }
 ]
}