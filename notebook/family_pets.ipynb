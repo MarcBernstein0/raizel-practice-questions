{
 "metadata": {
  "language_info": {
   "codemirror_mode": {
    "name": "ipython",
    "version": 3
   },
   "file_extension": ".py",
   "mimetype": "text/x-python",
   "name": "python",
   "nbconvert_exporter": "python",
   "pygments_lexer": "ipython3",
   "version": "3.8.3-final"
  },
  "orig_nbformat": 2,
  "kernelspec": {
   "name": "Python 3.8.3 64-bit ('base': conda)",
   "display_name": "Python 3.8.3 64-bit ('base': conda)",
   "metadata": {
    "interpreter": {
     "hash": "7e56207c1ecf5e070ccde26abc0e05f3d6c0c3ae8cb038c6d1936758cd8e50c2"
    }
   }
  }
 },
 "nbformat": 4,
 "nbformat_minor": 2,
 "cells": [
  {
   "cell_type": "code",
   "execution_count": 2,
   "metadata": {},
   "outputs": [],
   "source": [
    "import pandas as pd \n",
    "import matplotlib.pyplot as plt"
   ]
  },
  {
   "cell_type": "code",
   "execution_count": 8,
   "metadata": {},
   "outputs": [],
   "source": [
    "df = pd.read_csv('../data/pets.csv')"
   ]
  },
  {
   "cell_type": "code",
   "execution_count": 9,
   "metadata": {},
   "outputs": [
    {
     "output_type": "execute_result",
     "data": {
      "text/plain": [
       "      Name   Owner  Pet   Birthday               Favorite Toy\n",
       "0     Wind  Denise  Cat  7/21/2019  Jackson galaxy satellites\n",
       "1  Clayton  Denise  Cat   8/1/2019  Jackson galaxy satellites\n",
       "2  Charlie  Briana  NaN  10/1/2016         insoles from shoes\n",
       "3     Fuzz    Rafi  Cat   4/1/2013               plastic bags"
      ],
      "text/html": "<div>\n<style scoped>\n    .dataframe tbody tr th:only-of-type {\n        vertical-align: middle;\n    }\n\n    .dataframe tbody tr th {\n        vertical-align: top;\n    }\n\n    .dataframe thead th {\n        text-align: right;\n    }\n</style>\n<table border=\"1\" class=\"dataframe\">\n  <thead>\n    <tr style=\"text-align: right;\">\n      <th></th>\n      <th>Name</th>\n      <th>Owner</th>\n      <th>Pet</th>\n      <th>Birthday</th>\n      <th>Favorite Toy</th>\n    </tr>\n  </thead>\n  <tbody>\n    <tr>\n      <th>0</th>\n      <td>Wind</td>\n      <td>Denise</td>\n      <td>Cat</td>\n      <td>7/21/2019</td>\n      <td>Jackson galaxy satellites</td>\n    </tr>\n    <tr>\n      <th>1</th>\n      <td>Clayton</td>\n      <td>Denise</td>\n      <td>Cat</td>\n      <td>8/1/2019</td>\n      <td>Jackson galaxy satellites</td>\n    </tr>\n    <tr>\n      <th>2</th>\n      <td>Charlie</td>\n      <td>Briana</td>\n      <td>NaN</td>\n      <td>10/1/2016</td>\n      <td>insoles from shoes</td>\n    </tr>\n    <tr>\n      <th>3</th>\n      <td>Fuzz</td>\n      <td>Rafi</td>\n      <td>Cat</td>\n      <td>4/1/2013</td>\n      <td>plastic bags</td>\n    </tr>\n  </tbody>\n</table>\n</div>"
     },
     "metadata": {},
     "execution_count": 9
    }
   ],
   "source": [
    "df"
   ]
  },
  {
   "cell_type": "code",
   "execution_count": null,
   "metadata": {},
   "outputs": [],
   "source": []
  }
 ]
}