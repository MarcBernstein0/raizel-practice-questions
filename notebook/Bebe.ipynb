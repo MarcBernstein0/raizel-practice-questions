{
 "metadata": {
  "language_info": {
   "codemirror_mode": {
    "name": "ipython",
    "version": 3
   },
   "file_extension": ".py",
   "mimetype": "text/x-python",
   "name": "python",
   "nbconvert_exporter": "python",
   "pygments_lexer": "ipython3",
   "version": "3.8.3-final"
  },
  "orig_nbformat": 2,
  "kernelspec": {
   "name": "learn-env",
   "display_name": "learn-env"
  }
 },
 "nbformat": 4,
 "nbformat_minor": 2,
 "cells": [
  {
   "cell_type": "code",
   "execution_count": 10,
   "metadata": {},
   "outputs": [],
   "source": [
    "import pandas as pd\n",
    "import matplotlib.pyplot as plt \n",
    "import numpy as np\n",
    "pd.set_option(\"display.max_rows\", 40)"
   ]
  },
  {
   "cell_type": "code",
   "execution_count": 11,
   "metadata": {},
   "outputs": [],
   "source": [
    "twenty16 = pd.read_csv('../data/Bebe2016.csv')\n",
    "twenty17 = pd.read_csv('../data/Bebe2017.csv')\n",
    "twenty18 = pd.read_csv('../data/Bebe2018.csv')\n",
    "twenty19 = pd.read_csv('../data/Bebe2019.csv')\n",
    "twenty20 = pd.read_csv('../data/Bebe2020.csv')"
   ]
  },
  {
   "cell_type": "code",
   "execution_count": 16,
   "metadata": {},
   "outputs": [],
   "source": [
    "df = pd.concat([twenty16, twenty17, twenty18, twenty19, twenty20], join = 'outer')"
   ]
  },
  {
   "cell_type": "code",
   "execution_count": 17,
   "metadata": {},
   "outputs": [
    {
     "output_type": "execute_result",
     "data": {
      "text/plain": [
       "    Check Number Unnamed: 1       Date Unnamed: 3               Description  \\\n",
       "0            NaN        NaN        NaN        NaN                       NaN   \n",
       "1            144        NaN  7/24/2012        NaN                      GRJC   \n",
       "2            186        NaN  3/21/2013        NaN  Jay Volunteer for Israel   \n",
       "3            187        NaN  3/25/2013        NaN     Glen Rock High School   \n",
       "4            NaN        NaN  4/18/2013        NaN   Glen Rock Jewish Center   \n",
       "..           ...        ...        ...        ...                       ...   \n",
       "367          NaN        NaN        NaN        NaN                       NaN   \n",
       "368          NaN        NaN        NaN        NaN                       NaN   \n",
       "369          NaN        NaN        NaN        NaN                       NaN   \n",
       "370          NaN        NaN        NaN        NaN                       NaN   \n",
       "371          NaN        NaN        NaN        NaN                       NaN   \n",
       "\n",
       "     Unnamed: 5    Debit Unnamed: 7 Credit   Unnamed: 9  ... Unnamed: 19  \\\n",
       "0           NaN      NaN        NaN     NaN         NaN  ...         NaN   \n",
       "1           NaN   74.00         NaN   0.00          NaN  ...         NaN   \n",
       "2           NaN  100.00         NaN     NaN         NaN  ...         NaN   \n",
       "3           NaN  267.00         NaN     NaN         NaN  ...         NaN   \n",
       "4           NaN   35.00         NaN     NaN         NaN  ...         NaN   \n",
       "..          ...      ...        ...     ...         ...  ...         ...   \n",
       "367         NaN      NaN        NaN     NaN         NaN  ...         NaN   \n",
       "368         NaN      NaN        NaN     NaN         NaN  ...         NaN   \n",
       "369         NaN      NaN        NaN     NaN         NaN  ...         NaN   \n",
       "370         NaN      NaN        NaN     NaN         NaN  ...         NaN   \n",
       "371         NaN      NaN        NaN     NaN         NaN  ...         NaN   \n",
       "\n",
       "     Unnamed: 20 Unnamed: 21  Unnamed: 22 Unnamed: 23 Unnamed: 24 Unnamed: 25  \\\n",
       "0            NaN         NaN          NaN         NaN         NaN         NaN   \n",
       "1            NaN         NaN          NaN         NaN         NaN         NaN   \n",
       "2            NaN         NaN                      NaN         NaN         NaN   \n",
       "3            NaN         NaN          NaN         NaN         NaN         NaN   \n",
       "4            NaN         NaN          NaN         NaN         NaN         NaN   \n",
       "..           ...         ...          ...         ...         ...         ...   \n",
       "367          NaN         NaN          NaN         NaN         NaN         NaN   \n",
       "368          NaN         NaN          NaN         NaN         NaN         NaN   \n",
       "369          NaN         NaN          NaN         NaN         NaN         NaN   \n",
       "370          NaN         NaN          NaN         NaN         NaN         NaN   \n",
       "371          NaN         NaN          NaN         NaN         NaN         NaN   \n",
       "\n",
       "    Unnamed: 26 Unnamed: 27 Unnamed: 28  \n",
       "0           NaN         NaN         NaN  \n",
       "1           NaN         NaN         NaN  \n",
       "2           NaN         NaN         NaN  \n",
       "3           NaN         NaN         NaN  \n",
       "4           NaN         NaN         NaN  \n",
       "..          ...         ...         ...  \n",
       "367         NaN         NaN         NaN  \n",
       "368         NaN         NaN         NaN  \n",
       "369         NaN         NaN         NaN  \n",
       "370         NaN         NaN         NaN  \n",
       "371         NaN         NaN         NaN  \n",
       "\n",
       "[3691 rows x 29 columns]"
      ],
      "text/html": "<div>\n<style scoped>\n    .dataframe tbody tr th:only-of-type {\n        vertical-align: middle;\n    }\n\n    .dataframe tbody tr th {\n        vertical-align: top;\n    }\n\n    .dataframe thead th {\n        text-align: right;\n    }\n</style>\n<table border=\"1\" class=\"dataframe\">\n  <thead>\n    <tr style=\"text-align: right;\">\n      <th></th>\n      <th>Check Number</th>\n      <th>Unnamed: 1</th>\n      <th>Date</th>\n      <th>Unnamed: 3</th>\n      <th>Description</th>\n      <th>Unnamed: 5</th>\n      <th>Debit</th>\n      <th>Unnamed: 7</th>\n      <th>Credit</th>\n      <th>Unnamed: 9</th>\n      <th>...</th>\n      <th>Unnamed: 19</th>\n      <th>Unnamed: 20</th>\n      <th>Unnamed: 21</th>\n      <th>Unnamed: 22</th>\n      <th>Unnamed: 23</th>\n      <th>Unnamed: 24</th>\n      <th>Unnamed: 25</th>\n      <th>Unnamed: 26</th>\n      <th>Unnamed: 27</th>\n      <th>Unnamed: 28</th>\n    </tr>\n  </thead>\n  <tbody>\n    <tr>\n      <th>0</th>\n      <td>NaN</td>\n      <td>NaN</td>\n      <td>NaN</td>\n      <td>NaN</td>\n      <td>NaN</td>\n      <td>NaN</td>\n      <td>NaN</td>\n      <td>NaN</td>\n      <td>NaN</td>\n      <td>NaN</td>\n      <td>...</td>\n      <td>NaN</td>\n      <td>NaN</td>\n      <td>NaN</td>\n      <td>NaN</td>\n      <td>NaN</td>\n      <td>NaN</td>\n      <td>NaN</td>\n      <td>NaN</td>\n      <td>NaN</td>\n      <td>NaN</td>\n    </tr>\n    <tr>\n      <th>1</th>\n      <td>144</td>\n      <td>NaN</td>\n      <td>7/24/2012</td>\n      <td>NaN</td>\n      <td>GRJC</td>\n      <td>NaN</td>\n      <td>74.00</td>\n      <td>NaN</td>\n      <td>0.00</td>\n      <td>NaN</td>\n      <td>...</td>\n      <td>NaN</td>\n      <td>NaN</td>\n      <td>NaN</td>\n      <td>NaN</td>\n      <td>NaN</td>\n      <td>NaN</td>\n      <td>NaN</td>\n      <td>NaN</td>\n      <td>NaN</td>\n      <td>NaN</td>\n    </tr>\n    <tr>\n      <th>2</th>\n      <td>186</td>\n      <td>NaN</td>\n      <td>3/21/2013</td>\n      <td>NaN</td>\n      <td>Jay Volunteer for Israel</td>\n      <td>NaN</td>\n      <td>100.00</td>\n      <td>NaN</td>\n      <td>NaN</td>\n      <td>NaN</td>\n      <td>...</td>\n      <td>NaN</td>\n      <td>NaN</td>\n      <td>NaN</td>\n      <td></td>\n      <td>NaN</td>\n      <td>NaN</td>\n      <td>NaN</td>\n      <td>NaN</td>\n      <td>NaN</td>\n      <td>NaN</td>\n    </tr>\n    <tr>\n      <th>3</th>\n      <td>187</td>\n      <td>NaN</td>\n      <td>3/25/2013</td>\n      <td>NaN</td>\n      <td>Glen Rock High School</td>\n      <td>NaN</td>\n      <td>267.00</td>\n      <td>NaN</td>\n      <td>NaN</td>\n      <td>NaN</td>\n      <td>...</td>\n      <td>NaN</td>\n      <td>NaN</td>\n      <td>NaN</td>\n      <td>NaN</td>\n      <td>NaN</td>\n      <td>NaN</td>\n      <td>NaN</td>\n      <td>NaN</td>\n      <td>NaN</td>\n      <td>NaN</td>\n    </tr>\n    <tr>\n      <th>4</th>\n      <td>NaN</td>\n      <td>NaN</td>\n      <td>4/18/2013</td>\n      <td>NaN</td>\n      <td>Glen Rock Jewish Center</td>\n      <td>NaN</td>\n      <td>35.00</td>\n      <td>NaN</td>\n      <td>NaN</td>\n      <td>NaN</td>\n      <td>...</td>\n      <td>NaN</td>\n      <td>NaN</td>\n      <td>NaN</td>\n      <td>NaN</td>\n      <td>NaN</td>\n      <td>NaN</td>\n      <td>NaN</td>\n      <td>NaN</td>\n      <td>NaN</td>\n      <td>NaN</td>\n    </tr>\n    <tr>\n      <th>...</th>\n      <td>...</td>\n      <td>...</td>\n      <td>...</td>\n      <td>...</td>\n      <td>...</td>\n      <td>...</td>\n      <td>...</td>\n      <td>...</td>\n      <td>...</td>\n      <td>...</td>\n      <td>...</td>\n      <td>...</td>\n      <td>...</td>\n      <td>...</td>\n      <td>...</td>\n      <td>...</td>\n      <td>...</td>\n      <td>...</td>\n      <td>...</td>\n      <td>...</td>\n      <td>...</td>\n    </tr>\n    <tr>\n      <th>367</th>\n      <td>NaN</td>\n      <td>NaN</td>\n      <td>NaN</td>\n      <td>NaN</td>\n      <td>NaN</td>\n      <td>NaN</td>\n      <td>NaN</td>\n      <td>NaN</td>\n      <td>NaN</td>\n      <td>NaN</td>\n      <td>...</td>\n      <td>NaN</td>\n      <td>NaN</td>\n      <td>NaN</td>\n      <td>NaN</td>\n      <td>NaN</td>\n      <td>NaN</td>\n      <td>NaN</td>\n      <td>NaN</td>\n      <td>NaN</td>\n      <td>NaN</td>\n    </tr>\n    <tr>\n      <th>368</th>\n      <td>NaN</td>\n      <td>NaN</td>\n      <td>NaN</td>\n      <td>NaN</td>\n      <td>NaN</td>\n      <td>NaN</td>\n      <td>NaN</td>\n      <td>NaN</td>\n      <td>NaN</td>\n      <td>NaN</td>\n      <td>...</td>\n      <td>NaN</td>\n      <td>NaN</td>\n      <td>NaN</td>\n      <td>NaN</td>\n      <td>NaN</td>\n      <td>NaN</td>\n      <td>NaN</td>\n      <td>NaN</td>\n      <td>NaN</td>\n      <td>NaN</td>\n    </tr>\n    <tr>\n      <th>369</th>\n      <td>NaN</td>\n      <td>NaN</td>\n      <td>NaN</td>\n      <td>NaN</td>\n      <td>NaN</td>\n      <td>NaN</td>\n      <td>NaN</td>\n      <td>NaN</td>\n      <td>NaN</td>\n      <td>NaN</td>\n      <td>...</td>\n      <td>NaN</td>\n      <td>NaN</td>\n      <td>NaN</td>\n      <td>NaN</td>\n      <td>NaN</td>\n      <td>NaN</td>\n      <td>NaN</td>\n      <td>NaN</td>\n      <td>NaN</td>\n      <td>NaN</td>\n    </tr>\n    <tr>\n      <th>370</th>\n      <td>NaN</td>\n      <td>NaN</td>\n      <td>NaN</td>\n      <td>NaN</td>\n      <td>NaN</td>\n      <td>NaN</td>\n      <td>NaN</td>\n      <td>NaN</td>\n      <td>NaN</td>\n      <td>NaN</td>\n      <td>...</td>\n      <td>NaN</td>\n      <td>NaN</td>\n      <td>NaN</td>\n      <td>NaN</td>\n      <td>NaN</td>\n      <td>NaN</td>\n      <td>NaN</td>\n      <td>NaN</td>\n      <td>NaN</td>\n      <td>NaN</td>\n    </tr>\n    <tr>\n      <th>371</th>\n      <td>NaN</td>\n      <td>NaN</td>\n      <td>NaN</td>\n      <td>NaN</td>\n      <td>NaN</td>\n      <td>NaN</td>\n      <td>NaN</td>\n      <td>NaN</td>\n      <td>NaN</td>\n      <td>NaN</td>\n      <td>...</td>\n      <td>NaN</td>\n      <td>NaN</td>\n      <td>NaN</td>\n      <td>NaN</td>\n      <td>NaN</td>\n      <td>NaN</td>\n      <td>NaN</td>\n      <td>NaN</td>\n      <td>NaN</td>\n      <td>NaN</td>\n    </tr>\n  </tbody>\n</table>\n<p>3691 rows × 29 columns</p>\n</div>"
     },
     "metadata": {},
     "execution_count": 17
    }
   ],
   "source": [
    "df"
   ]
  },
  {
   "cell_type": "code",
   "execution_count": null,
   "metadata": {},
   "outputs": [],
   "source": []
  }
 ]
}