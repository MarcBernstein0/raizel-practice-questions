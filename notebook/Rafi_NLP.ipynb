{
 "cells": [
  {
   "cell_type": "code",
   "execution_count": 3,
   "metadata": {},
   "outputs": [
    {
     "name": "stderr",
     "output_type": "stream",
     "text": [
      "[nltk_data] Downloading package stopwords to\n",
      "[nltk_data]     C:\\Users\\berns\\AppData\\Roaming\\nltk_data...\n",
      "[nltk_data]   Package stopwords is already up-to-date!\n",
      "[nltk_data] Downloading package punkt to\n",
      "[nltk_data]     C:\\Users\\berns\\AppData\\Roaming\\nltk_data...\n",
      "[nltk_data]   Package punkt is already up-to-date!\n",
      "[nltk_data] Downloading package wordnet to\n",
      "[nltk_data]     C:\\Users\\berns\\AppData\\Roaming\\nltk_data...\n",
      "[nltk_data]   Package wordnet is already up-to-date!\n"
     ]
    },
    {
     "data": {
      "text/plain": [
       "True"
      ]
     },
     "execution_count": 3,
     "metadata": {},
     "output_type": "execute_result"
    }
   ],
   "source": [
    "import nltk\n",
    "import matplotlib.pyplot as plt\n",
    "import pandas as pd\n",
    "from sklearn.feature_extraction.text import CountVectorizer\n",
    "from sklearn.feature_extraction.text import TfidfVectorizer\n",
    "from sklearn.feature_extraction.text import TfidfTransformer\n",
    "from nltk.probability import FreqDist\n",
    "from nltk.corpus import stopwords\n",
    "from nltk.stem import PorterStemmer\n",
    "from sklearn.metrics import confusion_matrix\n",
    "import seaborn as sns\n",
    "from sklearn.naive_bayes import MultinomialNB\n",
    "from sklearn import metrics\n",
    "from sklearn.model_selection import train_test_split\n",
    "from matplotlib import cm\n",
    "import numpy as np\n",
    "from sklearn.ensemble import RandomForestClassifier\n",
    "from sklearn.metrics import accuracy_score\n",
    "from sklearn.metrics import f1_score\n",
    "from sklearn.naive_bayes import MultinomialNB\n",
    "\n",
    "nltk.download('stopwords')\n",
    "nltk.download('punkt')\n",
    "nltk.download('wordnet')"
   ]
  },
  {
   "cell_type": "markdown",
   "metadata": {},
   "source": [
    "- count len of sentences, words, text, paragraphs"
   ]
  },
  {
   "cell_type": "code",
   "execution_count": 28,
   "metadata": {},
   "outputs": [
    {
     "name": "stdout",
     "output_type": "stream",
     "text": [
      "Twice in the 1920s, the small city of Muncie, Indiana, population 38,000, found itself thrust\n",
      "under the spotlight of national prominence. In 1929, the sociologists Robert and Helen Lynd\n",
      "published Middletown: A Study in Contemporary American Culture, a groundbreaking work that\n",
      "purported to analyze and quantify the life of an average American city. Middletown portrayed\n",
      "Muncie as a representative microcosm of the United States, and diagnosed the ills of the\n",
      "industrial age-- corrupt politics, hollowed out religious life, a bought-and-paid-for press as the\n",
      "consequences of voracious capitalism.1 Middletown became a surprise best-seller, garnering\n",
      "praise from academics, public intellectuals, and lay readers alike, and reshaping the field of\n",
      "sociology for years to come. Indeed, a generation of sociologists and advertisers bought into the\n",
      "myth of Muncie's typicality, and considered Middletown a window into the heart of normal\n",
      "American life. Three years prior, Muncie appeared in newspapers around the country painted in quite a\n",
      "different light, as a town where American civic values were under the threat of an abnormal\n",
      "assailant: the Ku Klux Klan. In 1923, editor George R. Dale published an article in his weekly\n",
      "paper, the Muncie Post-Democrat, alleging that the local county judge was a member of the Klan\n",
      "and had packed juries with Klansmen, and the judge convicted him of contempt of court. In\n",
      "1926, after appealing his case, the Supreme Court of Indiana upheld Dale's conviction. Daleâ€™s\n",
      "guilty verdict was predicated on the Indiana judgesâ€™ holding that the Truth is No Defense the\n",
      "mere act of alleging corruption in the courts was found illegal, irrespective of the claimâ€™s\n",
      "veracity. Coverage of the Dale trial depicted Muncie as a battleground where the American institution of the free press was under siege precisely because of the atypicality of the Ku Klux\n",
      "Klan and its repressive regime.\n",
      "While Middletown exposed many crooked elements of civic life in Muncie, the Klan\n",
      "occupied only a marginal presence in the Lynds' analysis, and the Dale trial went entirely\n",
      "unmentioned. This paper examines the meaning of this lacuna-- what was at stake for the Lynds\n",
      "in writing Middletown, and what message did they hope to convey through their work? Why did\n",
      "the Lynds as sociologists understand Muncie differently than Dale did as a journalist, and what\n",
      "does this tell us about the strengths and limitations of these two disciplines? If we think of the\n",
      "sociological study as a news medium, then what aspects of American life did Middletown present\n",
      "as new, and why was the Klan not among them?\n",
      "These questions take on greater significance when we consider the intellectual climate of\n",
      "the 1920s, particularly the work of the philosopher John Dewey. In 1927, Dewey published The\n",
      "Public and Its Problems, which expressed a fear of the insufficiency of public discourse for the\n",
      "operation of democracy. While newspapers were printed en masse and widely available, their\n",
      "contents were often trivial and sensational. A nation of newspaper readers did not guarantee an\n",
      "informed public equipped to make measured, considered decisions at the polls; rather, the\n",
      "public's information and opinions were tainted by the pecuniary interests of the advertisers and\n",
      "sponsors who funded their news sources.4\n",
      " Dewey, who taught Robert Lynd at Columbia\n",
      "University, saw in his student's magnum opus a solution to this quandary: Middletown was an\n",
      "impartial, scientifically rigorous study free from the newspapers' pandering to advertisers, and\n",
      "simultaneously a popular and enjoyable read for regular folks who resided far beyond the ivory tower.5\n",
      "News,' Dewey explained in The Public, signifies something which has just happened,\n",
      "and which is new because it deviates from the old and regular.6 Middletown and the Muncie\n",
      "Post-Democrat were two parallel purveyors of the news, each with a different perspective on\n",
      "the old and regular. As sociologists who distanced themselves from journalism, the Lynds'\n",
      "medium was new in itself: an impartial, expert opinion on social trends in an industrializing\n",
      "small city. As for their message, the Lynds reported that over the past thirty years, business\n",
      "interests had effectively consigned working class Hoosiers to an impotent politics and a barren\n",
      "culture-- and because Middletown represented the country at large, its residents were stand-ins\n",
      "for average Americans nationwide. In contrast, Dale's vision of the news fit neatly within the\n",
      "realm of traditional journalism. Unlike the Lynds, Dale maintained faith that the newspaper\n",
      "could speak truth to power without crumbling under the weight of advertisers' agendas. As the\n",
      "editor of a local politically-minded weekly, Dale made it his business to report events that\n",
      "disrupted civic values and warn his community of eminent threats to their liberties. In the mid1920s, the Klan rose to power in Muncie. While Dale scribbled urgently about the KKK, the\n",
      "Lynds barely noticed the white hoods on their radar.\n",
      "In 1929, sociology was a relatively young academic discipline. Previous social surveys of\n",
      "the late nineteenth and early twentieth centuries tended to focus on populations understood as\n",
      "problematic, like immigrants, working girls, and black migrants. Landmark studies like Jane\n",
      "Addams and Florence Kelleyâ€™s 1895 Hull-House Maps and Papers, W.E.B. Du Boisâ€™s 1899 The\n",
      "Philadelphia Negro, and Paul Kelloggâ€™s 1909-1914 Pittsburgh Survey series sought to make\n",
      "sense of the emergent social ills of industrial capitalism and urban life, like poverty, crime, and\n",
      "pollution. Middletown departed from this model by investigating Muncie, Indiana-- in the Lyndsâ€™\n",
      "view, a representative mainstream community-- as proxy for the nation writ large. As Sarah\n",
      "Igo explains in The Averaged American, The Lyndsâ€™ quarry was not the problematic or\n",
      "particular but the normal and the whole, and the scope of their conclusions was much more\n",
      "sweeping than that of any other contemporary survey. 7 To accomplish this goal, the Lynds drew inspiration less from social surveyors than from\n",
      "anthropologists. In a private notation, Robert wrote that his intention in writing Middletown was\n",
      "to occupy the role of naive observer and thus look at the life of a city objectively.This was\n",
      "easier said than done considering the Lyndsâ€™ upbringing-- though they were educated in the\n",
      "Northeast and resided in New York City before departing for Muncie, Helen was a native of\n",
      "Illinois, and Robert, of Indiana. Robert even conceded that the ideal person for this job wâ€™d\n",
      "have been a Chinese anthropologist.8 Yet they insisted that they could treat their former\n",
      "neighbors with the same detachment that their English contemporary A. R. Radcliffe-Brown held\n",
      "in his study of the fundamental human activities of his Aboriginal subjects in Australia.9\n",
      "Taking a page from Radcliffe-Brownâ€™s work, Middletown boiled down all the things people do\n",
      "into six categories: Getting a living. Making a home. Training the young. Using leisure in\n",
      "various forms of play, art, and so on. Engaging in religious practices. Engaging in community\n",
      "activities. The Lynds acknowledged the distaste that a reader might have for discussing their\n",
      "own lifestyles with the same dispassion and candor typically reserved for an Arunta village in\n",
      "central Australia, but asserted that this approach was necessary to gain a clearer vision of\n",
      "contemporary society: Nothing can be more enlightening than to gain precisely the degree of\n",
      "objectivity and perspective with which we view â€˜savageâ€™ people.'10\n",
      "The Lynds committed to studying Muncie because by their calculations, it was the locus\n",
      "of American normalcy. In the introduction to Middletown, the sociologists explained their two\n",
      "primary criteria for choosing a model city: it should be as representative as possible of\n",
      "contemporary American life, and also â€œcompact and homogeneous enough to be manageable in\n",
      "such a total-situation study. To achieve the former qualification, the Lynds outlined seven\n",
      "subcategories their subject city must meet: a temperate climate; a rapid rate of economic growth\n",
      "to insure a plentiful assortment of the growing pains accompanying contemporary social\n",
      "change; an industrial culture centered on high-speed machine production; the absence of a\n",
      "single, dominating plant; a local, self-contained artistic life, not like a college town that might\n",
      "import music and lectures; the absence of any outstanding particularities or acute local\n",
      "problems that would nullify its representativeness; and finally, a geographic location within\n",
      "that common-denominator of America, the Middle West. 11 The summation of these criteria\n",
      "yields a vision of contemporary American life to be one of a local, independent people\n",
      "rehashing their customs and traditions under the shadow of industrial transformation. This vision\n",
      "follows Robert Lyndâ€™s personal history and previous pursuits-- in 1922, while serving as a\n",
      "student preacher in the Standard Oil workersâ€™ camp in Elk Basin, Wyoming, he published a\n",
      "muckraking account of the campâ€™s working and living conditions in Harperâ€™s and the Survey.12\n"
     ]
    }
   ],
   "source": [
    "with open(\"../data/raf.txt\", 'r') as text:\n",
    "    textfile = text.read()\n",
    "    print(textfile)"
   ]
  },
  {
   "cell_type": "code",
   "execution_count": 5,
   "metadata": {},
   "outputs": [
    {
     "data": {
      "text/plain": [
       "str"
      ]
     },
     "execution_count": 5,
     "metadata": {},
     "output_type": "execute_result"
    }
   ],
   "source": [
    "type(rafi)"
   ]
  },
  {
   "cell_type": "code",
   "execution_count": 6,
   "metadata": {},
   "outputs": [],
   "source": [
    "from nltk.tokenize import RegexpTokenizer\n",
    "tokenizer = RegexpTokenizer(r'[a-zA-Z0-9]+')\n",
    "\n",
    "tokenized_review = tokenizer.tokenize(rafi)"
   ]
  },
  {
   "cell_type": "code",
   "execution_count": 7,
   "metadata": {},
   "outputs": [
    {
     "name": "stdout",
     "output_type": "stream",
     "text": [
      "<FreqDist with 3196 samples and 11715 outcomes>\n"
     ]
    }
   ],
   "source": [
    "fdist = FreqDist(tokenized_review)\n",
    "print(fdist)"
   ]
  },
  {
   "cell_type": "code",
   "execution_count": 9,
   "metadata": {},
   "outputs": [
    {
     "data": {
      "image/png": "[encoded data removed]",
      "text/plain": [
       "<Figure size 1224x360 with 1 Axes>"
      ]
     },
     "metadata": {
      "needs_background": "light"
     },
     "output_type": "display_data"
    },
    {
     "data": {
      "text/plain": [
       "<AxesSubplot:xlabel='Samples', ylabel='Counts'>"
      ]
     },
     "execution_count": 9,
     "metadata": {},
     "output_type": "execute_result"
    }
   ],
   "source": [
    "plt.figure(figsize=(17,5))\n",
    "fdist.plot(40)"
   ]
  },
  {
   "cell_type": "code",
   "execution_count": 10,
   "metadata": {},
   "outputs": [
    {
     "name": "stdout",
     "output_type": "stream",
     "text": [
      "{'few', 's', 'don', 'once', 'only', \"mustn't\", 'wasn', 'what', 'here', 'your', 'll', \"she's\", 'below', 'needn', \"shouldn't\", \"hasn't\", 'can', 'their', 'ain', 'have', 'being', 'itself', 'had', 'by', 'me', 'a', 'under', 'hers', 'about', \"don't\", 'do', 'himself', \"needn't\", 'o', 'than', \"hadn't\", 'am', 'wouldn', 'our', \"isn't\", 'then', 'herself', 'to', 'when', 'themselves', \"didn't\", 'them', 'shan', 'where', 'y', 'myself', 'does', 'her', \"wasn't\", 'is', 'other', 'some', 'on', 'and', 'any', 'shouldn', 'which', 'further', 'but', \"you're\", 'm', 'ours', 'off', 'before', 'was', 'in', \"doesn't\", 'doing', 'up', 'against', 'just', 'how', 'into', \"couldn't\", 'hasn', 'yourself', 'those', 'the', 'won', 'too', 'd', 'hadn', 'has', 'very', 'for', 'will', 'own', 'my', 'i', 'having', 'its', \"mightn't\", 'mustn', 'between', 'at', 'from', 'again', \"you'd\", 'or', 'did', 'doesn', 'over', 'both', 'why', 'she', 'out', 'after', 'such', 'it', 'while', 'him', 'whom', 'ma', 'now', 'most', \"that'll\", \"it's\", \"won't\", 'we', \"haven't\", 've', 'until', 'if', 'there', \"you'll\", 'yourselves', 'who', 'isn', \"should've\", \"wouldn't\", \"weren't\", 'mightn', 't', \"aren't\", 'ourselves', 'an', 'with', 'theirs', \"shan't\", 'because', 'been', 'aren', 'no', 'couldn', 'this', 'these', 're', 'as', 'his', 'nor', 'didn', 'he', 'each', 'they', 'down', 'are', 'all', \"you've\", 'that', 'should', 'during', 'weren', 'you', 'same', 'through', 'above', 'be', 'yours', 'more', 'so', 'were', 'haven', 'of', 'not'}\n"
     ]
    }
   ],
   "source": [
    "stop_words=set(stopwords.words(\"english\"))\n",
    "print(stop_words)"
   ]
  },
  {
   "cell_type": "code",
   "execution_count": 12,
   "metadata": {},
   "outputs": [],
   "source": [
    "filtered_review=[]\n",
    "for w in tokenized_review:\n",
    "    if w not in stop_words:\n",
    "        filtered_review.append(w)\n",
    "# print(\"Filterd Sentence:\",filtered_review)"
   ]
  },
  {
   "cell_type": "code",
   "execution_count": 13,
   "metadata": {},
   "outputs": [
    {
     "name": "stdout",
     "output_type": "stream",
     "text": [
      "11715\n",
      "7315\n"
     ]
    }
   ],
   "source": [
    "print(len(tokenized_review))\n",
    "print(len(filtered_review))"
   ]
  },
  {
   "cell_type": "code",
   "execution_count": 15,
   "metadata": {},
   "outputs": [
    {
     "data": {
      "image/png": "[encoded data removed]",
      "text/plain": [
       "<Figure size 1080x360 with 1 Axes>"
      ]
     },
     "metadata": {
      "needs_background": "light"
     },
     "output_type": "display_data"
    },
    {
     "data": {
      "text/plain": [
       "<AxesSubplot:xlabel='Samples', ylabel='Counts'>"
      ]
     },
     "execution_count": 15,
     "metadata": {},
     "output_type": "execute_result"
    }
   ],
   "source": [
    "fdist = FreqDist(filtered_review)\n",
    "plt.figure(figsize=(15,5))\n",
    "fdist.plot(10)"
   ]
  },
  {
   "cell_type": "code",
   "execution_count": null,
   "metadata": {},
   "outputs": [],
   "source": []
  }
 ],
 "metadata": {
  "kernelspec": {
   "display_name": "Python 3",
   "language": "python",
   "name": "python3"
  },
  "language_info": {
   "codemirror_mode": {
    "name": "ipython",
    "version": 3
   },
   "file_extension": ".py",
   "mimetype": "text/x-python",
   "name": "python",
   "nbconvert_exporter": "python",
   "pygments_lexer": "ipython3",
   "version": "3.8.3"
  }
 },
 "nbformat": 4,
 "nbformat_minor": 4
}
