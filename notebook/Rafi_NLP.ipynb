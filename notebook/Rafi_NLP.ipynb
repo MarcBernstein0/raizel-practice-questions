{
 "cells": [
  {
   "cell_type": "code",
   "execution_count": 1,
   "metadata": {},
   "outputs": [
    {
     "name": "stderr",
     "output_type": "stream",
     "text": [
      "[nltk_data] Downloading package stopwords to\n",
      "[nltk_data]     C:\\Users\\berns\\AppData\\Roaming\\nltk_data...\n",
      "[nltk_data]   Package stopwords is already up-to-date!\n",
      "[nltk_data] Downloading package punkt to\n",
      "[nltk_data]     C:\\Users\\berns\\AppData\\Roaming\\nltk_data...\n",
      "[nltk_data]   Package punkt is already up-to-date!\n",
      "[nltk_data] Downloading package wordnet to\n",
      "[nltk_data]     C:\\Users\\berns\\AppData\\Roaming\\nltk_data...\n",
      "[nltk_data]   Package wordnet is already up-to-date!\n"
     ]
    },
    {
     "data": {
      "text/plain": [
       "True"
      ]
     },
     "execution_count": 1,
     "metadata": {},
     "output_type": "execute_result"
    }
   ],
   "source": [
    "import nltk\n",
    "import matplotlib.pyplot as plt\n",
    "import pandas as pd\n",
    "from sklearn.feature_extraction.text import CountVectorizer\n",
    "from sklearn.feature_extraction.text import TfidfVectorizer\n",
    "from sklearn.feature_extraction.text import TfidfTransformer\n",
    "from nltk.probability import FreqDist\n",
    "from nltk.corpus import stopwords\n",
    "from nltk.stem import PorterStemmer\n",
    "from sklearn.metrics import confusion_matrix\n",
    "import seaborn as sns\n",
    "from sklearn.naive_bayes import MultinomialNB\n",
    "from sklearn import metrics\n",
    "from sklearn.model_selection import train_test_split\n",
    "from matplotlib import cm\n",
    "import numpy as np\n",
    "from sklearn.ensemble import RandomForestClassifier\n",
    "from sklearn.metrics import accuracy_score\n",
    "from sklearn.metrics import f1_score\n",
    "from sklearn.naive_bayes import MultinomialNB\n",
    "\n",
    "nltk.download('stopwords')\n",
    "nltk.download('punkt')\n",
    "nltk.download('wordnet')"
   ]
  },
  {
   "cell_type": "markdown",
   "metadata": {},
   "source": [
    "- count len of sentences, words, text, paragraphs"
   ]
  },
  {
   "cell_type": "code",
   "execution_count": 2,
   "metadata": {},
   "outputs": [],
   "source": [
    "with open(\"../data/raf.txt\", 'r') as text:\n",
    "    textfile = text.read()\n",
    "#     print(textfile)"
   ]
  },
  {
   "cell_type": "code",
   "execution_count": 3,
   "metadata": {},
   "outputs": [
    {
     "data": {
      "text/plain": [
       "str"
      ]
     },
     "execution_count": 3,
     "metadata": {},
     "output_type": "execute_result"
    }
   ],
   "source": [
    "type(textfile)"
   ]
  },
  {
   "cell_type": "code",
   "execution_count": 4,
   "metadata": {},
   "outputs": [],
   "source": [
    "from nltk.tokenize import RegexpTokenizer\n",
    "tokenizer = RegexpTokenizer(r'[a-zA-Z0-9]+')\n",
    "\n",
    "tokenized_review = tokenizer.tokenize(textfile)"
   ]
  },
  {
   "cell_type": "code",
   "execution_count": 5,
   "metadata": {},
   "outputs": [
    {
     "name": "stdout",
     "output_type": "stream",
     "text": [
      "<FreqDist with 2944 samples and 10531 outcomes>\n"
     ]
    }
   ],
   "source": [
    "fdist = FreqDist(tokenized_review)\n",
    "print(fdist)"
   ]
  },
  {
   "cell_type": "code",
   "execution_count": 6,
   "metadata": {},
   "outputs": [
    {
     "data": {
      "image/png": "[encoded data removed]",
      "text/plain": [
       "<Figure size 1224x360 with 1 Axes>"
      ]
     },
     "metadata": {
      "needs_background": "light"
     },
     "output_type": "display_data"
    },
    {
     "data": {
      "text/plain": [
       "<AxesSubplot:xlabel='Samples', ylabel='Counts'>"
      ]
     },
     "execution_count": 6,
     "metadata": {},
     "output_type": "execute_result"
    }
   ],
   "source": [
    "plt.figure(figsize=(17,5))\n",
    "fdist.plot(40)"
   ]
  },
  {
   "cell_type": "code",
   "execution_count": 7,
   "metadata": {},
   "outputs": [
    {
     "name": "stdout",
     "output_type": "stream",
     "text": [
      "{'shan', 'hadn', 'couldn', 'few', 'under', 'was', 'theirs', 'some', 'those', 'through', 'my', \"shan't\", 'having', 'no', 'isn', 't', 'all', \"you've\", 'himself', 'and', 'don', 'this', \"should've\", 'mustn', 'whom', 'been', 'both', 'than', \"aren't\", 'about', \"mustn't\", 'myself', 'each', 'didn', 'doing', 'while', 'its', 'ours', 'be', 'of', 'on', 'again', 'does', 'before', 'do', 'too', 'during', 'at', 'am', 'why', \"mightn't\", 'after', 'ourselves', 'being', 'as', 'ain', 'mightn', 'but', 've', 'has', 'yourself', 'i', \"needn't\", 'over', 'above', 'can', 'so', 'more', 'further', 'such', 'yours', 'into', 'nor', 'once', 'same', \"shouldn't\", \"you'll\", \"you'd\", 'because', 'hers', 'an', 'weren', 'doesn', 'haven', 'herself', 'them', 'own', 'very', \"isn't\", 'if', \"couldn't\", 's', 'hasn', 'out', 'they', 'where', 'aren', \"hadn't\", 'm', \"weren't\", 'we', 'me', 'these', 'up', 'against', 'needn', 'below', 'your', 'in', 'wasn', 'his', 'now', \"hasn't\", 'you', \"she's\", 'ma', 'll', 'the', 're', 'o', 'have', 'he', 'not', 'to', 'did', 'what', 'a', 'which', 'down', 'with', 'there', 'any', 'are', 'yourselves', 'other', \"that'll\", 'only', 'that', 'then', 'him', 'from', 'our', \"wouldn't\", 'y', \"don't\", \"you're\", 'most', \"haven't\", 'here', 'who', 'itself', \"won't\", 'won', 'for', 'should', 'her', \"it's\", 'shouldn', 'how', 'themselves', 'she', \"doesn't\", 'by', 'just', 'off', 'were', 'when', 'between', 'had', 'wouldn', \"didn't\", 'until', 'or', 'will', \"wasn't\", 'it', 'is', 'd', 'their'}\n"
     ]
    }
   ],
   "source": [
    "stop_words=set(stopwords.words(\"english\"))\n",
    "print(stop_words)"
   ]
  },
  {
   "cell_type": "code",
   "execution_count": 42,
   "metadata": {},
   "outputs": [],
   "source": [
    "import string\n",
    "\n",
    "#adding additional words I don't find to be that valuable\n",
    "additional_stopwords = ['https', 'I', 'com', 'http', 'RT', 'co', 'the', 'amp', 'the', 'lt', 'A', 'www', 'rt', 'got', 'get', \n",
    "                        'ly', 'u', 'In', 'in', 'The', 'the', 'Ibid']\n",
    "\n",
    "stop_words = stopwords.words('english')\n",
    "\n",
    "stop_words += list(string.punctuation)\n",
    "\n",
    "stop_words += additional_stopwords"
   ]
  },
  {
   "cell_type": "code",
   "execution_count": 43,
   "metadata": {},
   "outputs": [],
   "source": [
    "filtered_review=[]\n",
    "for w in tokenized_review:\n",
    "    if w not in stop_words:\n",
    "        filtered_review.append(w)\n",
    "# print(\"Filterd Sentence:\",filtered_review)"
   ]
  },
  {
   "cell_type": "code",
   "execution_count": 44,
   "metadata": {},
   "outputs": [
    {
     "name": "stdout",
     "output_type": "stream",
     "text": [
      "10531\n",
      "6312\n"
     ]
    }
   ],
   "source": [
    "print(len(tokenized_review))\n",
    "print(len(filtered_review))"
   ]
  },
  {
   "cell_type": "code",
   "execution_count": 45,
   "metadata": {},
   "outputs": [
    {
     "data": {
      "image/png": "[encoded data removed]",
      "text/plain": [
       "<Figure size 1080x360 with 1 Axes>"
      ]
     },
     "metadata": {
      "needs_background": "light"
     },
     "output_type": "display_data"
    },
    {
     "data": {
      "text/plain": [
       "<AxesSubplot:xlabel='Samples', ylabel='Counts'>"
      ]
     },
     "execution_count": 45,
     "metadata": {},
     "output_type": "execute_result"
    }
   ],
   "source": [
    "fdist = FreqDist(filtered_review)\n",
    "plt.figure(figsize=(15,5))\n",
    "fdist.plot(10)"
   ]
  },
  {
   "cell_type": "code",
   "execution_count": 75,
   "metadata": {},
   "outputs": [
    {
     "data": {
      "text/html": [
       "<div>\n",
       "<style scoped>\n",
       "    .dataframe tbody tr th:only-of-type {\n",
       "        vertical-align: middle;\n",
       "    }\n",
       "\n",
       "    .dataframe tbody tr th {\n",
       "        vertical-align: top;\n",
       "    }\n",
       "\n",
       "    .dataframe thead th {\n",
       "        text-align: right;\n",
       "    }\n",
       "</style>\n",
       "<table border=\"1\" class=\"dataframe\">\n",
       "  <thead>\n",
       "    <tr style=\"text-align: right;\">\n",
       "      <th></th>\n",
       "      <th>00</th>\n",
       "      <th>000</th>\n",
       "      <th>10</th>\n",
       "      <th>100</th>\n",
       "      <th>103</th>\n",
       "      <th>104</th>\n",
       "      <th>106</th>\n",
       "      <th>107</th>\n",
       "      <th>109</th>\n",
       "      <th>11</th>\n",
       "      <th>...</th>\n",
       "      <th>yields</th>\n",
       "      <th>york</th>\n",
       "      <th>yorker</th>\n",
       "      <th>you</th>\n",
       "      <th>young</th>\n",
       "      <th>your</th>\n",
       "      <th>youths</th>\n",
       "      <th>zeitgeist</th>\n",
       "      <th>œcommon</th>\n",
       "      <th>œcompact</th>\n",
       "    </tr>\n",
       "  </thead>\n",
       "  <tbody>\n",
       "    <tr>\n",
       "      <th>0</th>\n",
       "      <td>1</td>\n",
       "      <td>3</td>\n",
       "      <td>4</td>\n",
       "      <td>2</td>\n",
       "      <td>1</td>\n",
       "      <td>2</td>\n",
       "      <td>1</td>\n",
       "      <td>2</td>\n",
       "      <td>1</td>\n",
       "      <td>5</td>\n",
       "      <td>...</td>\n",
       "      <td>1</td>\n",
       "      <td>23</td>\n",
       "      <td>2</td>\n",
       "      <td>1</td>\n",
       "      <td>4</td>\n",
       "      <td>1</td>\n",
       "      <td>1</td>\n",
       "      <td>1</td>\n",
       "      <td>1</td>\n",
       "      <td>1</td>\n",
       "    </tr>\n",
       "  </tbody>\n",
       "</table>\n",
       "<p>1 rows × 2784 columns</p>\n",
       "</div>"
      ],
      "text/plain": [
       "   00  000  10  100  103  104  106  107  109  11  ...  yields  york  yorker  \\\n",
       "0   1    3   4    2    1    2    1    2    1   5  ...       1    23       2   \n",
       "\n",
       "   you  young  your  youths  zeitgeist  œcommon  œcompact  \n",
       "0    1      4     1       1          1        1         1  \n",
       "\n",
       "[1 rows x 2784 columns]"
      ]
     },
     "execution_count": 75,
     "metadata": {},
     "output_type": "execute_result"
    }
   ],
   "source": [
    "# implementing it in python\n",
    "import pandas as pd\n",
    "from sklearn.feature_extraction.text import CountVectorizer\n",
    "# Convert a collection of text documents to a matrix of token counts\n",
    "\n",
    "vec = CountVectorizer(stop_words=None)\n",
    "X = vec.fit_transform([textfile])\n",
    "\n",
    "\n",
    "df = pd.DataFrame(X.toarray(), columns = vec.get_feature_names())\n",
    "df"
   ]
  },
  {
   "cell_type": "code",
   "execution_count": 76,
   "metadata": {},
   "outputs": [
    {
     "data": {
      "text/plain": [
       "RangeIndex(start=0, stop=1, step=1)"
      ]
     },
     "execution_count": 76,
     "metadata": {},
     "output_type": "execute_result"
    }
   ],
   "source": [
    "df.index"
   ]
  },
  {
   "cell_type": "code",
   "execution_count": 77,
   "metadata": {},
   "outputs": [
    {
     "data": {
      "text/plain": [
       "Index(['00', '000', '10', '100', '103', '104', '106', '107', '109', '11',\n",
       "       '113', '116', '12', '120', '124', '13', '14', '15', '151', '152', '155',\n",
       "       '16', '166', '167', '17', '18', '180', '182', '183', '1867', '188',\n",
       "       '1886', '1890', '1895', '1899', '19', '1909', '1914', '1915', '1920',\n",
       "       '1920s', '1921', '1922', '1923', '1924', '1925', '1926', '1927', '1928',\n",
       "       '1929', '1930', '1931', '1932', '1933', '1936', '1947', '1954', '1955',\n",
       "       '1960s', '1963', '1965', '1967', '1991', '20', '2003', '2004', '2010',\n",
       "       '2011', '2015', '2016', '2017', '2018', '21', '210', '22', '221', '23',\n",
       "       '24', '25', '26', '27', '28', '29', '291', '30', '31', '315', '32',\n",
       "       '33', '34', '35', '358', '36', '364', '366', '37', '38', '381', '39',\n",
       "       '40', '400', '41', '414', '415', '42', '421', '43', '434', '44', '45',\n",
       "       '46', '47', '471', '472', '475', '476', '477', '478', '48', '485', '49',\n",
       "       '50', '500', '51', '52', '53', '532', '54', '55', '56', '57', '58',\n",
       "       '59', '60', '61', '62', '63', '64', '65', '66', '67', '68', '69', '70',\n",
       "       '71', '72', '73', '74', '75', '76', '77', '78', '79', '80', '81', '82',\n",
       "       '83', '84', '85', '86', '87', '88', '89', '90', '91', '92', '93', '94',\n",
       "       '96', 'aberrant', 'abnormal', 'abolitionist', 'aboriginal', 'about',\n",
       "       'above', 'absence', 'absent', 'absentia', 'academic', 'academics',\n",
       "       'academicsâ', 'accept', 'acceptance', 'accepts', 'access', 'accessed',\n",
       "       'accident', 'accidentally', 'accompanying', 'accomplish', 'according',\n",
       "       'account', 'accountability', 'accuracy', 'accurate', 'accuse',\n",
       "       'accused', 'achieve', 'acknowledged', 'acquire', 'acquired', 'across',\n",
       "       'act', 'action', 'actions', 'activities', 'activity', 'acts', 'acute',\n",
       "       'ad', 'addams', 'additional', 'addressed', 'adherence', 'adjudicator',\n",
       "       'administration', 'administrator', 'admiration', 'ads', 'advancing',\n",
       "       'adverif', 'advertisements', 'advertiser', 'advertisers',\n",
       "       'advertisersâ', 'advertising', 'advised', 'advocated', 'affairs',\n",
       "       'affiliated', 'affiliation', 'affirmation', 'afforded', 'affronts',\n",
       "       'afraid', 'after', 'again', 'against', 'age', 'agendas', 'ago', 'ai',\n",
       "       'aid', 'aims', 'ainâ', 'aiâ', 'al', 'albany', 'alcohol', 'alexander',\n",
       "       'alexanderâ', 'algorithm', 'alien', 'alienated', 'alienation',\n",
       "       'aligned', 'alike', 'all', 'allegations', 'allegedly', 'allegiance',\n",
       "       'alleging', 'allies', 'almost', 'along', 'alongside', 'already', 'also',\n",
       "       'although', 'always', 'am', 'ambitious', 'amendment', 'america',\n",
       "       'american', 'americanism', 'americans', 'americaâ', 'among', 'amount',\n",
       "       'an', 'anachronism', 'anachronistic', 'analysis', 'analyze', 'ancient',\n",
       "       'and', 'anderson', 'angeles', 'angles', 'anonymous', 'another',\n",
       "       'answer', 'answered', 'anthropologist', 'anthropologists',\n",
       "       'anthropology', 'anti', 'antiamerican', 'anticipated', 'antithetical',\n",
       "       'any', 'anything', 'anytown', 'apart', 'apathy', 'apparent', 'appeal',\n",
       "       'appealed', 'appealing', 'appearance', 'appeared', 'appears',\n",
       "       'applauded', 'approach', 'approaching', 'appropriate', 'approved',\n",
       "       'april', 'arbiter', 'arbitrary', 'archives', 'are', 'areas', 'aren',\n",
       "       'argued', 'argument', 'arguments', 'arms', 'around', 'arrangement',\n",
       "       'array', 'arrest', 'arrested', 'arrive', 'art', 'article', 'articles',\n",
       "       'articulated', 'artificial', 'artistic', 'arunta', 'as', 'ascension',\n",
       "       'aspect', 'aspects', 'asperity', 'assailant', 'asserted', 'assertion',\n",
       "       'associated', 'assortment', 'assumption', 'at', 'athletes', 'attack',\n",
       "       'attempted', 'attendance', 'attended', 'attention', 'attorney',\n",
       "       'attorneys', 'attract', 'attraction', 'attributed', 'atypicality',\n",
       "       'august', 'australia', 'authoritative', 'authors', 'availability',\n",
       "       'available', 'average', 'averaged', 'avid', 'avidly', 'avoid', 'aware',\n",
       "       'away', 'axes', 'background', 'baker', 'bakerâ', 'ball', 'ballot',\n",
       "       'baltimore', 'banished', 'banker', 'bankers', 'bankruptcy', 'banning',\n",
       "       'barely', 'barred', 'barren', 'barriers', 'base', 'based', 'basic',\n",
       "       'basin', 'basis', 'basketball', 'battle', 'battleground', 'be',\n",
       "       'bearcats', 'beat', 'became', 'because', 'becomes', 'been', 'before',\n",
       "       'began', 'begins', 'begun', 'behalf', 'behind', 'being', 'belief',\n",
       "       'believed', 'belonging', 'beloved', 'beneath', 'best', 'bethlehem',\n",
       "       'between', 'beyond', 'bias', 'biases', 'bid', 'birth', 'birthplace',\n",
       "       'bit', 'bitterness', 'black', 'blind', 'bloc', 'bodies', 'boiled',\n",
       "       'boisâ', 'boldly', 'bond', 'book', 'books', 'bookâ', 'boom',\n",
       "       'bootlegger', 'bootlegging', 'booze', 'bore', 'born', 'both', 'bought',\n",
       "       'bound', 'bout', 'boycott', 'brazenly', 'breadth', 'break', 'breaking',\n",
       "       'brief', 'broad', 'brought', 'brown', 'brownâ', 'browser', 'brunt',\n",
       "       'bulk', 'burst', 'business', 'businesses', 'businessmen', 'busy', 'but',\n",
       "       'by', 'calculations', 'calibrations', 'call', 'called', 'calls', 'came',\n",
       "       'camp', 'campaign', 'campâ', 'can', 'cancels', 'candidate',\n",
       "       'candidates', 'candidateâ', 'candor', 'capable', 'capital',\n",
       "       'capitalism', 'capitalist', 'capped', 'carolina', 'carried', 'carries',\n",
       "       'carry', 'case', 'cases', 'cash', 'cast', 'catalyzed', 'catching',\n",
       "       'categories', 'category', 'catered', 'caters', 'catholic', 'catholics',\n",
       "       'cause', 'celebrated', 'census', 'centered', 'central', 'centuries',\n",
       "       'challenge', 'chalmersâ', 'chambers', 'champion', 'chance', 'change',\n",
       "       'changes', 'chapel', 'chapter', 'chapters', 'character',\n",
       "       'characteristic', 'characterized', 'characterizes', 'charge', 'charged',\n",
       "       'charges', 'charging', 'charles', 'check', 'checking', 'chicago',\n",
       "       'chief', 'children', 'china', 'chinese', 'choice', 'choosing', 'chose',\n",
       "       'christian', 'christianity', 'christianâ', 'chronicle', 'chronicled',\n",
       "       'church', 'churches', 'churchgoers', 'churchgoing', 'circuit', 'cited',\n",
       "       'cities', 'citizen', 'citizenry', 'citizens', 'citizensâ', 'citizenâ',\n",
       "       'city', 'civic', 'civil', 'civilizedâ', 'claimâ', 'clapp', 'clarence',\n",
       "       'class', 'classic', 'classical', 'clean', 'clear', 'clearer',\n",
       "       'cleverly', 'climate', 'close', 'closed', 'club', 'coastal', 'coined',\n",
       "       'cold', 'collection', 'collections', 'collective', 'college',\n",
       "       'columbia', 'columbus', 'column', 'columns', 'com', 'come', 'comes',\n",
       "       'comment', 'comments', 'commitment', 'committed', 'committee', 'common',\n",
       "       'communications', 'community', 'compactness', 'company', 'comparing',\n",
       "       'compelled', 'compete', 'competent', 'compiled', 'complete',\n",
       "       'complicates', 'complied', 'composed', 'comprised', 'compromised',\n",
       "       'computer', 'conceded', 'concentrate', 'conception', 'conceptions',\n",
       "       'concern', 'concerning', 'concerns', 'concluded', 'conclusions',\n",
       "       'condemning', 'conditions', 'conduct', 'confiscate', 'confiscating',\n",
       "       'conflict', 'conflicting', 'confronted', 'connection', 'consciously',\n",
       "       'consensus', 'consequences', 'conservation', 'consider', 'considered',\n",
       "       'considering', 'consigned', 'conspiracy', 'constant', 'constituents',\n",
       "       'construct', 'construction', 'consumerism', 'consumers', 'consumption',\n",
       "       'contained', 'containedness', 'contemporary', 'contempt', 'content',\n",
       "       'contentious', 'contents', 'continued', 'contradictions', 'contrast',\n",
       "       'contributed', 'control', 'controversy', 'convention', 'conventional',\n",
       "       'convey', 'convicted', 'conviction', 'copies', 'copy', 'corporation',\n",
       "       'correspondence', 'corrupt', 'corruption', 'costs', 'could',\n",
       "       'councilman', 'counsel', 'counterpoint', 'country', 'counts', 'county',\n",
       "       'course', 'court', 'courts', 'courtâ', 'coverage', 'covered',\n",
       "       'covering', 'cox', 'craig', 'crave', 'create', 'created', 'creation',\n",
       "       'credit', 'crime', 'criminal', 'criteria', 'criterion', 'critic',\n",
       "       'critical', 'criticizing', 'critique', 'critiqued', 'crooked', 'cross',\n",
       "       'crossâ', 'crumbling', 'crunching', 'crusade', 'crying', 'cultural',\n",
       "       'culture', 'customs', 'dailies', 'daily', 'dale', 'daleâ', 'damaged',\n",
       "       'danger', 'dangerous', 'dangers', 'dared', 'dartmouth', 'data', 'date',\n",
       "       'david', 'day', 'days', 'dearth', 'dearthâ', 'death', 'debriefings',\n",
       "       'decades', 'december', 'decision', 'decisions', 'declared', 'decline',\n",
       "       'decrease', 'deeper', 'deeply', 'defective', 'defense', 'defiance',\n",
       "       'defined', 'defunct', 'degree', 'delaware', 'delay', 'delegate',\n",
       "       'delivered', 'delved', 'delves', 'demanded', 'demands', 'demise',\n",
       "       'democracy', 'democracyâ', 'democrat', 'democratic', 'democratizing',\n",
       "       'democrats', 'democratâ', 'demonstrate', 'denominator', 'denver',\n",
       "       'departed', 'departing', 'department', 'dependence', 'depends',\n",
       "       'depicted', 'depravity', 'derive', 'described', 'describing', 'desk',\n",
       "       'despite', 'despot', 'despotism', 'detached', 'detachment', 'detail',\n",
       "       'detector', 'determined', 'dethrone', 'dethroned', 'detroit', 'develop',\n",
       "       'developing', 'development', 'developments', 'deviates', 'devoted',\n",
       "       'dewey', 'deweyâ', 'diagnosed', 'diagnosing', 'dictation', 'did',\n",
       "       'didn', 'died', 'dies', 'difference', 'different', 'differently',\n",
       "       'differing', 'diffusion', 'digital', 'direct', 'directing', 'directly',\n",
       "       'disappeared', 'discipline', 'disciplines', 'discourse', 'discovered',\n",
       "       'discovery', 'discrepancy', 'discrimination', 'discussed', 'discussing',\n",
       "       'discussion', 'disenchantment', 'dismal', 'dismiss', 'dismissal',\n",
       "       'dismissed', 'dispassion', 'disqualified', 'disrupted',\n",
       "       'dissatisfaction', 'dissection', 'distanced', 'distant', 'distaste',\n",
       "       'distinctions', 'distortion', 'distrust', 'disturbance', 'diversion',\n",
       "       'divorced', 'do', 'doctrines', 'does', 'dominant', 'dominated',\n",
       "       'dominates', 'dominating', 'donald', 'done', 'donned', 'donâ', 'doomed',\n",
       "       'door', 'doubled', 'doubt', 'doubted', 'down', 'drab', 'drastic',\n",
       "       'drew', 'drove', 'droves', 'drug', 'dry', 'du', 'due', 'dullards',\n",
       "       'duped', 'during', 'duties', 'dwarf', 'dwyer', 'dwyerâ', 'each',\n",
       "       'early', 'earn', 'earned', 'earthquake', 'easier', 'easily', 'eat',\n",
       "       'echoed', 'economic', 'ecosystem', 'ed', 'edited', 'edition', 'editor',\n",
       "       'editorial', 'editorials', 'editorâ', 'educated', 'education', 'edward',\n",
       "       'effect', 'effective', 'effectively', 'effort', 'efforts', 'eighteen',\n",
       "       'either', 'elected', 'election', 'electoral', 'elements', 'eleven',\n",
       "       'eliding', 'elision', 'elite', 'elites', 'elk', 'em', 'embroiled',\n",
       "       'emerged', 'emergent', 'eminent', 'emperor', 'employed', 'empowered',\n",
       "       'en', 'enable', 'enabled', 'enchanting', 'enchantment', 'end',\n",
       "       'endemic', 'endorsed', 'endured', 'enemies', 'enemy', 'energy',\n",
       "       'engage', 'engaged', 'engagement', 'engaging', 'engineers', 'english',\n",
       "       'enjoy', 'enjoyable', 'enjoyed', 'enlightening', 'enormous', 'enough',\n",
       "       'enshrined', 'entire', 'entirely', 'envelopment', 'environment',\n",
       "       'envisioned', 'episode', 'equation', 'equipped', 'era', 'erect',\n",
       "       'escaped', 'especially', 'essential', 'essentially', 'established',\n",
       "       'even', 'evening', 'event', 'events', 'ever', 'every', 'everyone',\n",
       "       'evidence', 'evidenced', 'examines', 'example', 'exceeded', 'except',\n",
       "       'exceptionalism', 'excluded', 'exclusion', 'exclusive', 'execution',\n",
       "       'exert', 'existence', 'expanding', 'expansion', 'expect', 'expected',\n",
       "       'expert', 'expertise', 'explain', 'explained', 'explaining', 'explains',\n",
       "       'explanation', 'exploited', 'exploring', 'explosion', 'expose',\n",
       "       'exposed', 'exposing', 'expressed', 'expression', 'extended',\n",
       "       'extension', 'extensive', 'eye', 'eyes', 'fabricated', 'face', 'fact',\n",
       "       'factor', 'facts', 'fad', 'fail', 'failed', 'failing', 'failure',\n",
       "       'faith', 'fake', 'fall', 'false', 'fame', 'families', 'family',\n",
       "       'fandom', 'far', 'farm', 'farmers', 'fashioned', 'fates', 'fault',\n",
       "       'faulty', 'fear', 'feared', 'feature', 'features', 'february',\n",
       "       'federal', 'felix', 'fell', 'fellow', 'felt', 'female', 'females',\n",
       "       'fervor', 'few', 'fiction', 'fictional', 'fictitious', 'field', 'fiery',\n",
       "       'fifty', 'fight', 'fighting', 'figure', 'figures', 'fill', 'filled',\n",
       "       'final', 'finally', 'finance', 'findings', 'fine', 'firemen', 'first',\n",
       "       'fit', 'five', 'fled', 'floor', 'florence', 'focal', 'focus',\n",
       "       'focusing', 'foe', 'folks', 'follow', 'followed', 'following',\n",
       "       'follows', 'fondness', 'food', 'for', 'force', 'forced', 'forces',\n",
       "       'forcibly', 'foreign', 'foremost', 'forest', 'form', 'formation',\n",
       "       'formed', 'former', 'forms', 'forth', 'forty', 'fought', 'found',\n",
       "       'founder', 'four', 'fourteenth', 'fragile', 'franklin', 'fraud',\n",
       "       'fraudulent', 'free', 'freedom', 'freely', 'frequently', 'friendly',\n",
       "       'friendships', 'from', 'front', 'frustrated', 'frustrations', 'fueled',\n",
       "       'full', 'fully', 'function', 'fundamental', 'fundamentally', 'funded',\n",
       "       'funding', 'furnish', 'furthermore', 'gain', 'galvanized', 'gambling',\n",
       "       'game', 'gap', 'garnered', 'garnering', 'gary', 'gas', 'gatherings',\n",
       "       'gender', 'general', 'generally', 'generation', 'genuine', 'geographic',\n",
       "       'geographical', 'george', 'georgia', 'gets', 'getting', 'girls',\n",
       "       'gitlow', 'given', 'giving', 'glaring', 'glowing', 'goal', 'goats',\n",
       "       'god', 'goes', 'going', 'goings', 'good', 'google', 'gop', 'gordon',\n",
       "       'gorge', 'gospel', 'got', 'goverment', 'govern', 'government',\n",
       "       'governor', 'grand', 'grant', 'granted', 'grasp', 'grassroots', 'great',\n",
       "       'greater', 'greenville', 'grew', 'grinding', 'ground', 'groundbreaking',\n",
       "       'grounds', 'group', 'growing', 'grows', 'growsâ', 'growth', 'guarantee',\n",
       "       'guilty', 'gullible', 'guys', 'habits', 'habitually', 'had', 'hampton',\n",
       "       'hand', 'handle', 'hands', 'happened', 'happens', 'harassment',\n",
       "       'harcourt', 'harmful', 'harperâ', 'has', 'hatred', 'hatreds', 'have',\n",
       "       'he', 'head', 'headed', 'headline', 'headlines', 'heart', 'heaven',\n",
       "       'height', 'held', 'helen', 'hello', 'help', 'helped', 'henry', 'her',\n",
       "       'herald', 'here', 'hero', 'herring', 'hierarchical', 'high', 'higher',\n",
       "       'highest', 'highlighted', 'highly', 'hill', 'him', 'himself', 'his',\n",
       "       'historians', 'historiography', 'history', 'hofstader', 'hoisted',\n",
       "       'holding', 'holistic', 'hollowed', 'holt', 'home', 'homogeneity',\n",
       "       'homogeneous', 'honest', 'hood', 'hooded', 'hoods', 'hoosier',\n",
       "       'hoosiers', 'hope', 'hopefully', 'hours', 'house', 'houses', 'how',\n",
       "       'however', 'https', 'hull', 'human', 'humdrum', 'hundred', 'hurry',\n",
       "       'ibid', 'idea', 'ideal', 'idealized', 'ideas', 'identified', 'identify',\n",
       "       'identity', 'ideological', 'ideology', 'idiosyncratic', 'if',\n",
       "       'ignominious', 'ignorance', 'ignore', 'igo', 'ill', 'illegal',\n",
       "       'illinois', 'ills', 'image', 'imaginations', 'imagine', 'imagined',\n",
       "       'immediate', 'immediately', 'immense', 'immensely', 'immigrants',\n",
       "       'immigration', 'impartial', 'impartiality', 'impartially', 'impeach',\n",
       "       'impeached', 'impeachment', 'import', 'importance', 'important',\n",
       "       'importantly', 'impossible', 'impotence', 'impotent', 'in', 'inc',\n",
       "       'incited', 'included', 'including', 'increasingly', 'indeed',\n",
       "       'independence', 'independent', 'indiana', 'indianapolis', 'indicted',\n",
       "       'indicting', 'indictment', 'indirect', 'individual', 'individualism',\n",
       "       'individuals', 'industrial', 'industrialization', 'industrializationâ',\n",
       "       'industrialized', 'industrializing', 'industries', 'industry', 'inept',\n",
       "       'inevitably', 'influence', 'influenced', 'influential', 'inform',\n",
       "       'information', 'informed', 'infrequency', 'ingrained', 'inhabiting',\n",
       "       'initial', 'injustice', 'ink', 'innate', 'innocence', 'ins',\n",
       "       'insecurity', 'insidious', 'insignificant', 'insisted', 'inspiration',\n",
       "       'inspired', 'instant', 'instead', 'instinctive', 'institute',\n",
       "       'institution', 'institutions', 'insufficiency', 'insure', 'integrity',\n",
       "       'intellectual', 'intellectually', 'intellectuals', 'intelligence',\n",
       "       'intelligible', 'intensify', 'intention', 'interest', 'interested',\n",
       "       'interests', 'interim', 'interpret', 'interpretation', 'interpreted',\n",
       "       'interpreting', 'intertwining', 'intervention', 'interviewed',\n",
       "       'interviewee', 'interviews', 'into', 'intolerable', 'introduced',\n",
       "       'introducing', 'introduction', 'introspection', 'invention', 'inverse',\n",
       "       'inversion', 'invested', 'investigated', 'investigating',\n",
       "       'investigation', 'investigators', 'involvement', 'ironic', 'irony',\n",
       "       'irrational', 'irrespective', 'is', 'israeli', 'issue', 'issues',\n",
       "       'issueâ', 'it', 'item', 'items', 'its', 'itself', 'itâ', 'ivory', 'iâ',\n",
       "       'jackson', 'jacksonâ', 'jail', 'jane', 'january', 'japan', 'jewish',\n",
       "       'job', 'john', 'johnson', 'joined', 'joseph', 'journal', 'journalism',\n",
       "       'journalismâ', 'journalist', 'journalistic', 'journalists', 'journey',\n",
       "       'judge', 'judgesâ', 'judicial', 'july', 'june', 'juries', 'jury',\n",
       "       'just', 'justice', 'justify', 'kansas', 'keep', 'kelleyâ', 'kelloggâ',\n",
       "       'kelly', 'kenneth', 'kentucky', 'kept', 'killing', 'kinds', 'kkk',\n",
       "       'klan', 'klannishness', 'klansman', 'klansmen', 'klanswomen', 'klanâ',\n",
       "       'klavern', 'klux', 'kluxer', 'know', 'knowledge', 'known', 'ks', 'ku',\n",
       "       'kulture', 'labor', 'laborers', 'laborerâ', 'lack', 'lacuna',\n",
       "       'lamented', 'land', 'landed', 'landmark', 'landscape', 'language',\n",
       "       'large', 'largely', 'larger', 'largest', 'last', 'late', 'later',\n",
       "       'latter', 'law', 'lawrence', 'laws', 'lawyer', 'lawyers', 'lawyerâ',\n",
       "       'lay', 'leader', 'leaders', 'leadership', 'leading', 'leaving',\n",
       "       'lectures', 'lede', 'left', 'legacy', 'legal', 'legally', 'legislature',\n",
       "       'lehigh', 'leisure', 'lemann', 'lemannâ', 'leonard', 'less', 'let',\n",
       "       'letter', 'level', 'levi', 'lewis', 'lexington', 'libel', 'liberties',\n",
       "       'life', 'lifestyles', 'lifeâ', 'light', 'like', 'likely', 'limitations',\n",
       "       'limits', 'line', 'lineage', 'lines', 'lining', 'lippmann', 'lippmannâ',\n",
       "       'liquor', 'listings', 'little', 'lives', 'living', 'local', 'locally',\n",
       "       'location', 'locus', 'lodge', 'lodges', 'long', 'longer', 'look', 'los',\n",
       "       'lose', 'loses', 'lucre', 'lynd', 'lynds', 'lyndsâ', 'lyndâ', 'machine',\n",
       "       'machinery', 'machinist', 'macmillan', 'made', 'magazine', 'magnum',\n",
       "       'main', 'mainly', 'mainstream', 'maintained', 'major', 'majority',\n",
       "       'make', 'makes', 'making', 'male', 'males', 'man', 'manageability',\n",
       "       'manageable', 'manifestation', 'manifested', 'manner', 'manufacturers',\n",
       "       'manufacturing', 'many', 'manâ', 'maps', 'march', 'marginal',\n",
       "       'marginalized', 'marriage', 'marshaled', 'martyr', 'martyred',\n",
       "       'marveled', 'marxist', 'mass', 'masse', 'masses', 'matches', 'matter',\n",
       "       'matured', 'may', 'mayor', 'mayoral', 'me', 'meaning', 'meaningless',\n",
       "       'meant', 'meantime', 'measured', 'mechanics', 'mecklin', 'mecklinesque',\n",
       "       'mecklinâ', 'media', 'mediator', 'mediocre', 'medium', 'meet',\n",
       "       'meeting', 'meetings', 'member', 'members', 'membership', 'membersâ',\n",
       "       'men', 'mental', 'mentioned', 'mere', 'merely', 'message', 'methods',\n",
       "       'microcosm', 'mid', 'mid1920s', 'middle', 'middletown', 'middletowns',\n",
       "       'middletownâ', 'midwest', 'might', 'migrants', 'milieu', 'militant',\n",
       "       'mind', 'minded', 'minister', 'ministers', 'minnesota', 'minor',\n",
       "       'misguided', 'mishandling', 'misinformation', 'misrepresenting',\n",
       "       'missed', 'mix', 'model', 'modern', 'modest', 'moffat', 'monitors',\n",
       "       'monograph', 'monolith', 'monotonous', 'monotony', 'monstrosity',\n",
       "       'month', 'months', 'moore', 'moral', 'more', 'morning', 'moses', 'most',\n",
       "       'motion', 'mouthpiece', 'mouthpieces', 'movement', 'moves', 'mr',\n",
       "       'much', 'muckraking', 'muncie', 'muncieâ', 'music', 'mussolini', 'must',\n",
       "       'mutual', 'muzzle', 'my', 'mystery', 'myth', 'mythos', 'naive',\n",
       "       'namely', 'names', 'narrative', 'narrow', 'nation', 'national',\n",
       "       'nationally', 'nationwide', 'nationâ', 'native', 'natural', 'nature',\n",
       "       'nbc', 'near', 'nearly', 'nearness', 'neatly', 'necessarily',\n",
       "       'necessary', 'necessity', 'need', 'needed', 'negro', 'neighbor',\n",
       "       'neighborhood', 'neighbors', 'neutral', 'never', 'new', 'newfound',\n",
       "       'news', 'newsboys', 'newspaper', 'newspapers', 'newspapersâ',\n",
       "       'newsstands', 'newsworthy', 'newsâ', 'newyorker', 'next', 'nicholas',\n",
       "       'nickname', 'nicolas', 'nine', 'nineteenth', 'nineties', 'ninety', 'no',\n",
       "       'noble', 'nominal', 'non', 'none', 'normal', 'normalcy', 'north',\n",
       "       'northeast', 'nostalgia', 'not', 'notation', 'noted', 'notes',\n",
       "       'nothing', 'noticed', 'notion', 'notions', 'notorious', 'november',\n",
       "       'nullify', 'number', 'oath', 'obituaries', 'objected', 'objectively',\n",
       "       'objectivity', 'obliteration', 'observances', 'observer', 'obstruct',\n",
       "       'obvious', 'occupied', 'occupy', 'occurred', 'october', 'odds', 'of',\n",
       "       'off', 'offend', 'offer', 'offered', 'offering', 'office', 'offices',\n",
       "       'official', 'often', 'ohio', 'oil', 'old', 'omission', 'omitted',\n",
       "       'omnipresence', 'on', 'once', 'one', 'oneâ', 'only', 'open', 'opened',\n",
       "       'opening', 'operation', 'operatives', 'opinion', 'opinions',\n",
       "       'opponents', 'opposed', 'opus', 'or', 'order', 'ordered', 'orderâ',\n",
       "       'organ', 'organization', 'organizationâ', 'organizer', 'organizing',\n",
       "       'original', 'originally', 'origins', 'orville', 'ossification',\n",
       "       'ostensible', 'other', 'others', 'otherwise', 'our', 'out', 'outlawed',\n",
       "       'outlet', 'outlets', 'outlier', 'outlined', 'outraged', 'outstanding',\n",
       "       'outweighed', 'over', 'overcome', 'oversight', 'owed', 'own', 'owned',\n",
       "       'owners', 'oxford', 'pa', 'packed', 'page', 'pages', 'paid', 'pains',\n",
       "       'painted', 'pamphlets', 'panacea', 'pandering', 'paper', 'papers',\n",
       "       'papersâ', 'paradigm', 'parallel', 'parameters', 'pardoned', 'parent',\n",
       "       'part', 'participation', 'particular', 'particularities',\n",
       "       'particularly', 'parties', 'partisan', 'partisanship', 'party',\n",
       "       'passed', 'passionate', 'past', 'pastors', 'paucity', 'paul',\n",
       "       'pecuniary', 'peers', 'peersâ', 'penal', 'penalty', 'pennsylvania',\n",
       "       'penultimate', 'people', 'peopleâ', 'per', 'percent', 'perhaps',\n",
       "       'peril', 'period', 'periodical', 'periphery', 'person', 'personal',\n",
       "       'persons', 'perspective', 'persuasive', 'petard', 'petty',\n",
       "       'philadelphia', 'phillips', 'philosopher', 'phrase', 'phraseology',\n",
       "       'physical', 'physicians', 'picked', 'picture', 'piece', 'pillar',\n",
       "       'pithy', 'pittsburgh', 'place', 'placed', 'placid', 'plain', 'plant',\n",
       "       'planting', 'platform', 'play', 'played', 'plentiful', 'plot', 'point',\n",
       "       'police', 'policy', 'political', 'politically', 'politicians',\n",
       "       'politics', 'politicsas', 'polls', 'pollution', 'pope', 'popular',\n",
       "       'popularity', 'population', 'populations', 'portrayal', 'portrayed',\n",
       "       'portrays', 'posited', 'position', 'positioned', 'positions', 'possess',\n",
       "       'possession', 'possibility', 'possible', 'post', 'postdemocrat',\n",
       "       'postdemocratâ', 'potent', 'poverty', 'power', 'powerful', 'practice',\n",
       "       'practiced', 'practices', 'pragmatic', 'praise', 'pre', 'preacher',\n",
       "       'preachers', 'preaching', 'precious', 'precise', 'precisely',\n",
       "       'predicated', 'predicted', 'predominantly', 'preindustrial',\n",
       "       'prejudice', 'prejudices', 'presence', 'present', 'presented',\n",
       "       'presided', 'president', 'presidential', 'press', 'presses', 'pressing',\n",
       "       'prestige', 'prevent', 'prevention', 'previous', 'primarily', 'primary',\n",
       "       'print', 'printed', 'prior', 'private', 'prize', 'prizes', 'problem',\n",
       "       'problematic', 'problems', 'procedure', 'product', 'production',\n",
       "       'products', 'professional', 'professionals', 'professor', 'professors',\n",
       "       'profile', 'profit', 'program', 'project', 'prominence', 'prominent',\n",
       "       'promoted', 'pronounced', 'proper', 'properly', 'proponent', 'propose',\n",
       "       'proposed', 'prosaic', 'prosperity', 'protects', 'protestant',\n",
       "       'protestantism', 'protestants', 'proto', 'prove', 'proved', 'proven',\n",
       "       'provide', 'provided', 'provides', 'providing', 'provincial', 'proving',\n",
       "       'provocative', 'proxy', 'psychology', 'public', 'publication',\n",
       "       'publicized', 'publicâ', 'publish', 'published', 'publishing', 'pure',\n",
       "       'purge', 'purported', 'purportedly', 'purpose', 'purse', 'pursuits',\n",
       "       'purvey', 'purveyors', 'put', 'qualification', 'quandary', 'quantify',\n",
       "       'quarry', 'quarterly', 'question', 'questioning', 'questions',\n",
       "       'quickly', 'quite', 'quo', 'quotation', 'quotations', 'quote', 'quoted',\n",
       "       'race', 'racial', 'radar', 'radcliffe', 'radical', 'ramifications',\n",
       "       'ran', 'ranks', 'rapid', 'rate', 'rather', 'ratio', 'rationale', 're',\n",
       "       'reach', 'reached', 'reactionary', 'read', 'reader', 'readers',\n",
       "       'readership', 'reading', 'reads', 'reaffirmation', 'real', 'realistic',\n",
       "       'reality', 'realized', 'realm', 'realms', 'realnews', 'reason',\n",
       "       'recent', 'recently', 'reckoning', 'recognize', 'recognized',\n",
       "       'recommended', 'reconsideration', 'records', 'recounted', 'red', 'reed',\n",
       "       'reelection', 'referenced', 'reflect', 'reflecting', 'reflects',\n",
       "       'reform', 'regarded', 'regarding', 'regime', 'regionally', 'regnant',\n",
       "       'regular', 'regularly', 'rehashed', 'rehashing', 'reign', 'reinstate',\n",
       "       'rejected', 'relations', 'relationships', 'relative', 'relatively',\n",
       "       'relic', 'religion', 'religious', 'rely', 'remained', 'remarkable',\n",
       "       'remarkably', 'remedy', 'remnants', 'removal', 'remove', 'renowned',\n",
       "       'replacement', 'replied', 'report', 'reportage', 'reported',\n",
       "       'reporting', 'represent', 'representation', 'representative',\n",
       "       'representativeness', 'representatives', 'represented', 'representing',\n",
       "       'repressive', 'reprinted', 'republican', 'republished', 'repugnance',\n",
       "       'reputable', 'reputation', 'required', 'requires', 'research',\n",
       "       'researchers', 'resented', 'reserved', 'reshaping', 'resided',\n",
       "       'resident', 'residents', 'residentsâ', 'resistant', 'resonant',\n",
       "       'respect', 'respite', 'responded', 'restoring', 'restraint', 'result',\n",
       "       'retaliated', 'retribution', 'return', 'returned', 'reveals',\n",
       "       'reversed', 'review', 'rhetoric', 'richard', 'right', 'righteously',\n",
       "       'rights', 'rigorous', 'rise', 'ritual', 'robe', 'robert', 'robes',\n",
       "       'role', 'roll', 'ron', 'rooker', 'rookerâ', 'room', 'roosevelt',\n",
       "       'rooted', 'rose', 'rotten', 'rough', 'run', 'russell', 'sacrificed',\n",
       "       'saga', 'said', 'sale', 'salesmen', 'saloons', 'salvage', 'same',\n",
       "       'sang', 'sarah', 'satellite', 'satirical', 'satirizing', 'savageâ',\n",
       "       'saw', 'say', 'scandal', 'scandals', 'scape', 'scholars', 'science',\n",
       "       'scientific', 'scientifically', 'scientist', 'scientists', 'scope',\n",
       "       'scott', 'scribbled', 'seat', 'seattle', 'second', 'secret', 'section',\n",
       "       'sectional', 'see', 'seek', 'seeking', 'seem', 'seems', 'selected',\n",
       "       'self', 'seller', 'senator', 'sensational', 'sensationalist', 'sense',\n",
       "       'sent', 'sentence', 'sentenced', 'sentences', 'series', 'serve',\n",
       "       'served', 'services', 'serving', 'set', 'seven', 'shadow', 'shanghai',\n",
       "       'shape', 'shaping', 'shared', 'shareholders', 'sharing', 'shatter',\n",
       "       'she', 'sheer', 'sheet', 'shield', 'shines', 'shocking', 'should',\n",
       "       'shout', 'shouted', 'show', 'showed', 'shows', 'shut', 'shy', 'side',\n",
       "       'siege', 'sight', 'significance', 'significant', 'signifies', 'signs',\n",
       "       'silicon', 'similar', 'similarly', 'simmons', 'simply',\n",
       "       'simultaneously', 'since', 'single', 'sinister', 'sink', 'situation',\n",
       "       'six', 'size', 'skeptical', 'skew', 'slate', 'slimness', 'small',\n",
       "       'smallest', 'smear', 'smith', 'so', 'sober', 'social', 'societies',\n",
       "       'society', 'sociological', 'sociologist', 'sociologists', 'sociology',\n",
       "       'sold', 'solidarity', 'solos', 'solution', 'solutions', 'solved',\n",
       "       'solving', 'some', 'somerset', 'something', 'son', 'sought', 'source',\n",
       "       'sources', 'south', 'southwest', 'space', 'sparked', 'speak', 'special',\n",
       "       'specifically', 'specifics', 'speech', 'speeches', 'speed', 'spent',\n",
       "       'spilled', 'spiritual', 'spite', 'spoils', 'spoke', 'sponsors',\n",
       "       'spotlight', 'spotty', 'spread', 'staff', 'stake', 'stand', 'standard',\n",
       "       'starr', 'startup', 'starved', 'state', 'stated', 'states', 'stateâ',\n",
       "       'statistics', 'status', 'staunch', 'step', 'stereotype', 'stereotypes',\n",
       "       'stigma', 'still', 'stinks', 'stock', 'stood', 'stop', 'stories',\n",
       "       'story', 'straight', 'strategy', 'strengths', 'strictly', 'strive',\n",
       "       'stroke', 'struck', 'structure', 'student', 'studentâ', 'studies',\n",
       "       'study', 'studying', 'subcategories', 'subject', 'subjects',\n",
       "       'subsequent', 'subtext', 'succeeded', 'succeeding', 'success', 'such',\n",
       "       'sudden', 'suffer', 'suffered', 'suggested', 'suggestive', 'suggests',\n",
       "       'summation', 'sun', 'sunday', 'sundays', 'supergovernment',\n",
       "       'supermajority', 'superseded', 'support', 'supported', 'supporters',\n",
       "       'supportive', 'suppressing', 'suppression', 'supremacist', 'supremacy',\n",
       "       'supreme', 'surprise', 'surprising', 'surrounding', 'survey',\n",
       "       'surveyors', 'surveys', 'suspicious', 'sweeping', 'swept',\n",
       "       'sympathetic', 'synonymous', 'system', 'tainted', 'take', 'taken',\n",
       "       'taking', 'tales', 'tampering', 'tanks', 'taught', 'team', 'tech',\n",
       "       'technical', 'technology', 'telephone', 'tell', 'temperate', 'tempered',\n",
       "       'temporary', 'ten', 'tenacious', 'tended', 'tendency', 'tending',\n",
       "       'tends', 'tensions', 'test', 'testified', 'than', 'that', 'thatâ',\n",
       "       'the', 'their', 'them', 'themselves', 'then', 'theologies', 'there',\n",
       "       'thereafter', 'therefore', 'these', 'thesis', 'they', 'theâ', 'thing',\n",
       "       'things', 'think', 'thinkers', 'third', 'thirds', 'thirty', 'this',\n",
       "       'thoroughly', 'those', 'though', 'thought', 'thoughts', 'threat',\n",
       "       'threats', 'three', 'through', 'throughout', 'thrown', 'thrust', 'thus',\n",
       "       'ticket', 'tide', 'tightening', 'time', 'times', 'tipping', 'title',\n",
       "       'titled', 'to', 'today', 'together', 'togetherness', 'told',\n",
       "       'tolerating', 'toll', 'tone', 'too', 'took', 'tools', 'top', 'topics',\n",
       "       'topple', 'total', 'touch', 'tournament', 'toward', 'tower', 'town',\n",
       "       'townspeople', 'townâ', 'track', 'tradition', 'traditional',\n",
       "       'traditions', 'tragic', 'training', 'transcendence', 'transcendent',\n",
       "       'transform', 'transformation', 'transformed', 'treat', 'treated',\n",
       "       'treating', 'treatment', 'trend', 'trends', 'trial', 'tribune', 'tried',\n",
       "       'trivial', 'trope', 'trouble', 'troubles', 'true', 'trump', 'trumpâ',\n",
       "       'trusted', 'trusts', 'trustworthy', 'truth', 'tuberculosis', 'turn',\n",
       "       'turned', 'turns', 'twentieth', 'twice', 'two', 'type', 'types',\n",
       "       'typical', 'typicality', 'typically', 'ultimately', 'uncertain',\n",
       "       'unchallenged', 'unconstitutional', 'uncultivated', 'under',\n",
       "       'undergraduate', 'understand', 'understanding', 'understood',\n",
       "       'underworld', 'undoubtedly', 'unfortunate', 'uninformed', 'union',\n",
       "       'uniquely', 'united', 'universally', 'university', 'unjustly',\n",
       "       'unlawful', 'unlike', 'unmaking', 'unmentioned', 'unpoetic',\n",
       "       'unquestioning', 'unraveled', 'unseen', 'unthinking', 'until',\n",
       "       'untrustworthy', 'unusual', 'unworkable', 'unworthy', 'unwritten', 'up',\n",
       "       'upbringing', 'upcoming', 'upheld', 'upon', 'urban', 'urbanization',\n",
       "       'urged', 'urgent', 'urgently', 'us', 'use', 'used', 'uses', 'usher',\n",
       "       'using', 'usual', 'vacuum', 'valley', 'valuable', 'values', 'variables',\n",
       "       'varied', 'variety', 'various', 'vast', 'vented', 'veracity',\n",
       "       'verbiage', 'verdict', 'version', 'versions', 'very', 'victim',\n",
       "       'victorious', 'victory', 'view', 'vigilance', 'village', 'violation',\n",
       "       'violators', 'violence', 'violent', 'virtue', 'virtuous', 'vision',\n",
       "       'vociferously', 'voice', 'volume', 'voracious', 'vote', 'voted',\n",
       "       'voter', 'voters', 'votes', 'wait', 'wake', 'walter', 'war', 'warfare',\n",
       "       'warn', 'warnings', 'warp', 'warriors', 'was', 'washed', 'washington',\n",
       "       'wasnâ', 'wave', 'way', 'ways', 'we', 'weaklings', 'wealth', 'wealthy',\n",
       "       'webpage', 'week', 'weekly', 'weeklyâ', 'weeks', 'weighed', 'weighing',\n",
       "       'weight', 'well', 'wendrell', 'went', 'were', 'west', 'western', 'what',\n",
       "       'when', 'where', 'whereas', 'whether', 'which', 'while', 'whim',\n",
       "       'white', 'who', 'whole', 'wholesome', 'wholly', 'whom', 'why', 'wide',\n",
       "       'widely', 'wife', 'will', 'william', 'window', 'wing', 'wish', 'with',\n",
       "       'withdrew', 'withholding', 'within', 'without', 'witnesses', 'woman',\n",
       "       'women', 'won', 'word', 'words', 'work', 'worked', 'workersâ',\n",
       "       'working', 'works', 'world', 'worship', 'would', 'wrath', 'writ',\n",
       "       'writers', 'writes', 'writing', 'written', 'wrong', 'wrote', 'www',\n",
       "       'wyoming', 'wâ', 'xii', 'year', 'years', 'yet', 'yields', 'york',\n",
       "       'yorker', 'you', 'young', 'your', 'youths', 'zeitgeist', 'œcommon',\n",
       "       'œcompact'],\n",
       "      dtype='object')"
      ]
     },
     "execution_count": 77,
     "metadata": {},
     "output_type": "execute_result"
    }
   ],
   "source": [
    "df.columns"
   ]
  },
  {
   "cell_type": "code",
   "execution_count": 78,
   "metadata": {},
   "outputs": [],
   "source": [
    "# df1 = df.stack()"
   ]
  },
  {
   "cell_type": "code",
   "execution_count": 52,
   "metadata": {},
   "outputs": [],
   "source": [
    "# df.unstack()"
   ]
  },
  {
   "cell_type": "code",
   "execution_count": 61,
   "metadata": {},
   "outputs": [],
   "source": [
    "pd.options.display.max_seq_items = None\n",
    "# df.columns"
   ]
  },
  {
   "cell_type": "code",
   "execution_count": 79,
   "metadata": {},
   "outputs": [],
   "source": [
    "df = df.transpose()"
   ]
  },
  {
   "cell_type": "code",
   "execution_count": 80,
   "metadata": {},
   "outputs": [
    {
     "data": {
      "text/html": [
       "<div>\n",
       "<style scoped>\n",
       "    .dataframe tbody tr th:only-of-type {\n",
       "        vertical-align: middle;\n",
       "    }\n",
       "\n",
       "    .dataframe tbody tr th {\n",
       "        vertical-align: top;\n",
       "    }\n",
       "\n",
       "    .dataframe thead th {\n",
       "        text-align: right;\n",
       "    }\n",
       "</style>\n",
       "<table border=\"1\" class=\"dataframe\">\n",
       "  <thead>\n",
       "    <tr style=\"text-align: right;\">\n",
       "      <th></th>\n",
       "      <th>0</th>\n",
       "    </tr>\n",
       "  </thead>\n",
       "  <tbody>\n",
       "    <tr>\n",
       "      <th>00</th>\n",
       "      <td>1</td>\n",
       "    </tr>\n",
       "    <tr>\n",
       "      <th>000</th>\n",
       "      <td>3</td>\n",
       "    </tr>\n",
       "    <tr>\n",
       "      <th>10</th>\n",
       "      <td>4</td>\n",
       "    </tr>\n",
       "    <tr>\n",
       "      <th>100</th>\n",
       "      <td>2</td>\n",
       "    </tr>\n",
       "    <tr>\n",
       "      <th>103</th>\n",
       "      <td>1</td>\n",
       "    </tr>\n",
       "  </tbody>\n",
       "</table>\n",
       "</div>"
      ],
      "text/plain": [
       "     0\n",
       "00   1\n",
       "000  3\n",
       "10   4\n",
       "100  2\n",
       "103  1"
      ]
     },
     "execution_count": 80,
     "metadata": {},
     "output_type": "execute_result"
    }
   ],
   "source": [
    "df.head()"
   ]
  },
  {
   "cell_type": "code",
   "execution_count": 89,
   "metadata": {},
   "outputs": [],
   "source": [
    "df = df.reset_index()"
   ]
  },
  {
   "cell_type": "code",
   "execution_count": 73,
   "metadata": {},
   "outputs": [],
   "source": [
    "# df.rename(columns={'index':'word'})"
   ]
  },
  {
   "cell_type": "code",
   "execution_count": 90,
   "metadata": {},
   "outputs": [
    {
     "data": {
      "text/plain": [
       "Index(['index', 0], dtype='object')"
      ]
     },
     "execution_count": 90,
     "metadata": {},
     "output_type": "execute_result"
    }
   ],
   "source": [
    "df.columns"
   ]
  },
  {
   "cell_type": "code",
   "execution_count": 91,
   "metadata": {},
   "outputs": [
    {
     "data": {
      "text/plain": [
       "0              00\n",
       "1             000\n",
       "2              10\n",
       "3             100\n",
       "4             103\n",
       "          ...    \n",
       "2779         your\n",
       "2780       youths\n",
       "2781    zeitgeist\n",
       "2782      œcommon\n",
       "2783     œcompact\n",
       "Name: index, Length: 2784, dtype: object"
      ]
     },
     "execution_count": 91,
     "metadata": {},
     "output_type": "execute_result"
    }
   ],
   "source": [
    "df['index']"
   ]
  },
  {
   "cell_type": "code",
   "execution_count": 96,
   "metadata": {},
   "outputs": [],
   "source": [
    "df_g = df.groupby(['index']).nunique()"
   ]
  },
  {
   "cell_type": "code",
   "execution_count": 100,
   "metadata": {},
   "outputs": [
    {
     "data": {
      "text/html": [
       "<div>\n",
       "<style scoped>\n",
       "    .dataframe tbody tr th:only-of-type {\n",
       "        vertical-align: middle;\n",
       "    }\n",
       "\n",
       "    .dataframe tbody tr th {\n",
       "        vertical-align: top;\n",
       "    }\n",
       "\n",
       "    .dataframe thead th {\n",
       "        text-align: right;\n",
       "    }\n",
       "</style>\n",
       "<table border=\"1\" class=\"dataframe\">\n",
       "  <thead>\n",
       "    <tr style=\"text-align: right;\">\n",
       "      <th></th>\n",
       "      <th>index</th>\n",
       "      <th>0</th>\n",
       "    </tr>\n",
       "  </thead>\n",
       "  <tbody>\n",
       "    <tr>\n",
       "      <th>0</th>\n",
       "      <td>00</td>\n",
       "      <td>1</td>\n",
       "    </tr>\n",
       "    <tr>\n",
       "      <th>1</th>\n",
       "      <td>000</td>\n",
       "      <td>1</td>\n",
       "    </tr>\n",
       "    <tr>\n",
       "      <th>2</th>\n",
       "      <td>10</td>\n",
       "      <td>1</td>\n",
       "    </tr>\n",
       "    <tr>\n",
       "      <th>3</th>\n",
       "      <td>100</td>\n",
       "      <td>1</td>\n",
       "    </tr>\n",
       "    <tr>\n",
       "      <th>4</th>\n",
       "      <td>103</td>\n",
       "      <td>1</td>\n",
       "    </tr>\n",
       "    <tr>\n",
       "      <th>...</th>\n",
       "      <td>...</td>\n",
       "      <td>...</td>\n",
       "    </tr>\n",
       "    <tr>\n",
       "      <th>2779</th>\n",
       "      <td>your</td>\n",
       "      <td>1</td>\n",
       "    </tr>\n",
       "    <tr>\n",
       "      <th>2780</th>\n",
       "      <td>youths</td>\n",
       "      <td>1</td>\n",
       "    </tr>\n",
       "    <tr>\n",
       "      <th>2781</th>\n",
       "      <td>zeitgeist</td>\n",
       "      <td>1</td>\n",
       "    </tr>\n",
       "    <tr>\n",
       "      <th>2782</th>\n",
       "      <td>œcommon</td>\n",
       "      <td>1</td>\n",
       "    </tr>\n",
       "    <tr>\n",
       "      <th>2783</th>\n",
       "      <td>œcompact</td>\n",
       "      <td>1</td>\n",
       "    </tr>\n",
       "  </tbody>\n",
       "</table>\n",
       "<p>2784 rows × 2 columns</p>\n",
       "</div>"
      ],
      "text/plain": [
       "          index  0\n",
       "0            00  1\n",
       "1           000  1\n",
       "2            10  1\n",
       "3           100  1\n",
       "4           103  1\n",
       "...         ... ..\n",
       "2779       your  1\n",
       "2780     youths  1\n",
       "2781  zeitgeist  1\n",
       "2782    œcommon  1\n",
       "2783   œcompact  1\n",
       "\n",
       "[2784 rows x 2 columns]"
      ]
     },
     "execution_count": 100,
     "metadata": {},
     "output_type": "execute_result"
    }
   ],
   "source": [
    "df_g.reset_index()"
   ]
  },
  {
   "cell_type": "code",
   "execution_count": 101,
   "metadata": {},
   "outputs": [
    {
     "data": {
      "text/html": [
       "<div>\n",
       "<style scoped>\n",
       "    .dataframe tbody tr th:only-of-type {\n",
       "        vertical-align: middle;\n",
       "    }\n",
       "\n",
       "    .dataframe tbody tr th {\n",
       "        vertical-align: top;\n",
       "    }\n",
       "\n",
       "    .dataframe thead th {\n",
       "        text-align: right;\n",
       "    }\n",
       "</style>\n",
       "<table border=\"1\" class=\"dataframe\">\n",
       "  <thead>\n",
       "    <tr style=\"text-align: right;\">\n",
       "      <th></th>\n",
       "      <th>0</th>\n",
       "    </tr>\n",
       "    <tr>\n",
       "      <th>index</th>\n",
       "      <th></th>\n",
       "    </tr>\n",
       "  </thead>\n",
       "  <tbody>\n",
       "  </tbody>\n",
       "</table>\n",
       "</div>"
      ],
      "text/plain": [
       "Empty DataFrame\n",
       "Columns: [0]\n",
       "Index: []"
      ]
     },
     "execution_count": 101,
     "metadata": {},
     "output_type": "execute_result"
    }
   ],
   "source": [
    "df_g[df_g[0] > 2]"
   ]
  },
  {
   "cell_type": "code",
   "execution_count": null,
   "metadata": {},
   "outputs": [],
   "source": []
  }
 ],
 "metadata": {
  "kernelspec": {
   "display_name": "Python 3",
   "language": "python",
   "name": "python3"
  },
  "language_info": {
   "codemirror_mode": {
    "name": "ipython",
    "version": 3
   },
   "file_extension": ".py",
   "mimetype": "text/x-python",
   "name": "python",
   "nbconvert_exporter": "python",
   "pygments_lexer": "ipython3",
   "version": "3.8.3"
  }
 },
 "nbformat": 4,
 "nbformat_minor": 4
}
