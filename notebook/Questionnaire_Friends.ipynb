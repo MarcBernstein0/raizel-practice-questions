{
 "cells": [
  {
   "cell_type": "code",
   "execution_count": 2,
   "metadata": {},
   "outputs": [],
   "source": [
    "import pandas as pd"
   ]
  },
  {
   "cell_type": "code",
   "execution_count": 3,
   "metadata": {},
   "outputs": [],
   "source": [
    "df = pd.read_csv('../data/Questionnaire_Friends.csv')"
   ]
  },
  {
   "cell_type": "code",
   "execution_count": 4,
   "metadata": {},
   "outputs": [
    {
     "data": {
      "text/html": [
       "<div>\n",
       "<style scoped>\n",
       "    .dataframe tbody tr th:only-of-type {\n",
       "        vertical-align: middle;\n",
       "    }\n",
       "\n",
       "    .dataframe tbody tr th {\n",
       "        vertical-align: top;\n",
       "    }\n",
       "\n",
       "    .dataframe thead th {\n",
       "        text-align: right;\n",
       "    }\n",
       "</style>\n",
       "<table border=\"1\" class=\"dataframe\">\n",
       "  <thead>\n",
       "    <tr style=\"text-align: right;\">\n",
       "      <th></th>\n",
       "      <th>Timestamp</th>\n",
       "      <th>What is your name</th>\n",
       "      <th>Blood Type</th>\n",
       "      <th>What is your birthday</th>\n",
       "      <th>Do you have pets?</th>\n",
       "      <th>How many pets?</th>\n",
       "      <th>What animal is your pet (ex. cat, dog, fish, etc.)</th>\n",
       "      <th>If you can have any super power what power would you have?</th>\n",
       "      <th>What are your top 3 activities to do (hobbies, sports, crafts, etc)?</th>\n",
       "      <th>What is your favorite holiday?</th>\n",
       "      <th>...</th>\n",
       "      <th>Favorite beverage to order at a bar?</th>\n",
       "      <th>Who is most likely to get pregnant first (and keep the baby)?</th>\n",
       "      <th>Which vaccine did you get?</th>\n",
       "      <th>Favorite social media?</th>\n",
       "      <th>Electronic books or paper books?</th>\n",
       "      <th>Describe the best day ever (imagine unlimited funds, access to whatever)</th>\n",
       "      <th>Name three songs you'd like to listen to if we (the gang) we're all in a car together</th>\n",
       "      <th>Which is best?</th>\n",
       "      <th>Write a short thank you note to someone.</th>\n",
       "      <th>What's something you learned during quarantine?</th>\n",
       "    </tr>\n",
       "  </thead>\n",
       "  <tbody>\n",
       "    <tr>\n",
       "      <th>0</th>\n",
       "      <td>2021/04/23 12:53:44 PM AST</td>\n",
       "      <td>CayCay</td>\n",
       "      <td>O</td>\n",
       "      <td>1993-08-12</td>\n",
       "      <td>yes</td>\n",
       "      <td>1</td>\n",
       "      <td>Dog</td>\n",
       "      <td>Invisibility</td>\n",
       "      <td>Dance, bask in sunshine, eat</td>\n",
       "      <td>Christmas</td>\n",
       "      <td>...</td>\n",
       "      <td>G&amp;T</td>\n",
       "      <td>Adrian</td>\n",
       "      <td>Pfizer</td>\n",
       "      <td>facebook</td>\n",
       "      <td>book book</td>\n",
       "      <td>Flying to a tropical destination, lounging on ...</td>\n",
       "      <td>Best Friend (Doja cat), Good Kisser, what a ma...</td>\n",
       "      <td>Bubble Tea</td>\n",
       "      <td>Thank you Raizel for giving us daily inspo in ...</td>\n",
       "      <td>Embroidery!!</td>\n",
       "    </tr>\n",
       "    <tr>\n",
       "      <th>1</th>\n",
       "      <td>2021/04/25 12:51:26 PM AST</td>\n",
       "      <td>Nicole Boschetti</td>\n",
       "      <td>O</td>\n",
       "      <td>1993-01-26</td>\n",
       "      <td>yes</td>\n",
       "      <td>2</td>\n",
       "      <td>Frog 🐸&amp; Tortoise 🐢</td>\n",
       "      <td>invulnerability</td>\n",
       "      <td>1. Exercise (Running, Yoga, Strength Train)  2...</td>\n",
       "      <td>Halloween</td>\n",
       "      <td>...</td>\n",
       "      <td>Piña Colada</td>\n",
       "      <td>Musto</td>\n",
       "      <td>Pfizer</td>\n",
       "      <td>twitter</td>\n",
       "      <td>audiobooks</td>\n",
       "      <td>Wake up SUPER early (like 1 am), have a cup of...</td>\n",
       "      <td>1.  Absolutely (Story of a Girl)  2.  All the ...</td>\n",
       "      <td>Starbucks</td>\n",
       "      <td>Dear Cayla,\\nThanks for being so supportive th...</td>\n",
       "      <td>A lot about myself.</td>\n",
       "    </tr>\n",
       "    <tr>\n",
       "      <th>2</th>\n",
       "      <td>2021/04/28 8:56:16 PM AST</td>\n",
       "      <td>Raizel</td>\n",
       "      <td>A</td>\n",
       "      <td>1993-06-27</td>\n",
       "      <td>no</td>\n",
       "      <td>0</td>\n",
       "      <td>NaN</td>\n",
       "      <td>To eat anything and as much as I want while be...</td>\n",
       "      <td>sit outside, run, procrastinate looking for jobs</td>\n",
       "      <td>Thanksgiving</td>\n",
       "      <td>...</td>\n",
       "      <td>alagash white</td>\n",
       "      <td>Adrian</td>\n",
       "      <td>Moderna</td>\n",
       "      <td>tiktok</td>\n",
       "      <td>book book</td>\n",
       "      <td>wake up late but energized bc I got a great ni...</td>\n",
       "      <td>Girls Just Want to Have Fun by Cyndi Lauper, C...</td>\n",
       "      <td>Dunkin</td>\n",
       "      <td>Thank you Marina Keegan for your essay on the ...</td>\n",
       "      <td>Python (coding)</td>\n",
       "    </tr>\n",
       "  </tbody>\n",
       "</table>\n",
       "<p>3 rows × 46 columns</p>\n",
       "</div>"
      ],
      "text/plain": [
       "                    Timestamp What is your name Blood Type  \\\n",
       "0  2021/04/23 12:53:44 PM AST            CayCay          O   \n",
       "1  2021/04/25 12:51:26 PM AST  Nicole Boschetti          O   \n",
       "2   2021/04/28 8:56:16 PM AST           Raizel           A   \n",
       "\n",
       "  What is your birthday Do you have pets?   How many pets?  \\\n",
       "0            1993-08-12                yes               1   \n",
       "1            1993-01-26                yes               2   \n",
       "2            1993-06-27                 no               0   \n",
       "\n",
       "  What animal is your pet (ex. cat, dog, fish, etc.)  \\\n",
       "0                                                Dog   \n",
       "1                                 Frog 🐸& Tortoise 🐢   \n",
       "2                                                NaN   \n",
       "\n",
       "  If you can have any super power what power would you have?  \\\n",
       "0                                       Invisibility           \n",
       "1                                    invulnerability           \n",
       "2  To eat anything and as much as I want while be...           \n",
       "\n",
       "  What are your top 3 activities to do (hobbies, sports, crafts, etc)?  \\\n",
       "0                       Dance, bask in sunshine, eat                     \n",
       "1  1. Exercise (Running, Yoga, Strength Train)  2...                     \n",
       "2   sit outside, run, procrastinate looking for jobs                     \n",
       "\n",
       "  What is your favorite holiday?  ... Favorite beverage to order at a bar?  \\\n",
       "0                     Christmas   ...                                  G&T   \n",
       "1                      Halloween  ...                          Piña Colada   \n",
       "2                   Thanksgiving  ...                        alagash white   \n",
       "\n",
       "  Who is most likely to get pregnant first (and keep the baby)?  \\\n",
       "0                                             Adrian              \n",
       "1                                              Musto              \n",
       "2                                             Adrian              \n",
       "\n",
       "  Which vaccine did you get? Favorite social media?  \\\n",
       "0                     Pfizer               facebook   \n",
       "1                     Pfizer                twitter   \n",
       "2                    Moderna                 tiktok   \n",
       "\n",
       "  Electronic books or paper books?  \\\n",
       "0                        book book   \n",
       "1                       audiobooks   \n",
       "2                        book book   \n",
       "\n",
       "  Describe the best day ever (imagine unlimited funds, access to whatever)  \\\n",
       "0  Flying to a tropical destination, lounging on ...                         \n",
       "1  Wake up SUPER early (like 1 am), have a cup of...                         \n",
       "2  wake up late but energized bc I got a great ni...                         \n",
       "\n",
       "  Name three songs you'd like to listen to if we (the gang) we're all in a car together  \\\n",
       "0  Best Friend (Doja cat), Good Kisser, what a ma...                                      \n",
       "1  1.  Absolutely (Story of a Girl)  2.  All the ...                                      \n",
       "2  Girls Just Want to Have Fun by Cyndi Lauper, C...                                      \n",
       "\n",
       "  Which is best?           Write a short thank you note to someone.  \\\n",
       "0     Bubble Tea  Thank you Raizel for giving us daily inspo in ...   \n",
       "1      Starbucks  Dear Cayla,\\nThanks for being so supportive th...   \n",
       "2         Dunkin  Thank you Marina Keegan for your essay on the ...   \n",
       "\n",
       "  What's something you learned during quarantine?   \n",
       "0                                     Embroidery!!  \n",
       "1                              A lot about myself.  \n",
       "2                                  Python (coding)  \n",
       "\n",
       "[3 rows x 46 columns]"
      ]
     },
     "execution_count": 4,
     "metadata": {},
     "output_type": "execute_result"
    }
   ],
   "source": [
    "df"
   ]
  },
  {
   "cell_type": "code",
   "execution_count": 5,
   "metadata": {},
   "outputs": [],
   "source": [
    "import matplotlib.pyplot as plt\n",
    "import seaborn as sns\n",
    "import numpy as np "
   ]
  },
  {
   "cell_type": "code",
   "execution_count": 6,
   "metadata": {},
   "outputs": [
    {
     "data": {
      "text/plain": [
       "<BarContainer object of 2 artists>"
      ]
     },
     "execution_count": 6,
     "metadata": {},
     "output_type": "execute_result"
    },
    {
     "data": {
      "image/png": "[encoded data removed]",
      "text/plain": [
       "<Figure size 1080x540 with 1 Axes>"
      ]
     },
     "metadata": {
      "needs_background": "light"
     },
     "output_type": "display_data"
    }
   ],
   "source": [
    "fig, ax = plt.subplots(figsize = (15, 7.5))\n",
    "plt.title(label = 'Blood Type', fontsize = 22, color = 'red')\n",
    "plt.yticks(np.arange(0, 4))\n",
    "plt.xlabel('Blood Type', fontdict={'fontsize': 15})\n",
    "plt.ylabel('Amount of Friends', fontdict={'fontsize': 15})\n",
    "plt.bar(df['Blood Type'].value_counts().index, df['Blood Type'].value_counts().values, color = ['goldenrod', 'silver'])"
   ]
  },
  {
   "cell_type": "code",
   "execution_count": 7,
   "metadata": {},
   "outputs": [
    {
     "data": {
      "text/plain": [
       "0    08\n",
       "1    01\n",
       "2    06\n",
       "Name: Month, dtype: object"
      ]
     },
     "execution_count": 7,
     "metadata": {},
     "output_type": "execute_result"
    }
   ],
   "source": [
    "df['Month'] = df['What is your birthday'].map(lambda x: x.replace('/', '')[-5:-3])\n",
    "df['Month']"
   ]
  },
  {
   "cell_type": "code",
   "execution_count": 24,
   "metadata": {},
   "outputs": [],
   "source": [
    "def month(df):\n",
    "    months = ['January', 'February', 'March', 'April', 'May', 'June', 'July', 'August', 'September', 'October', 'November', 'December']\n",
    "    \n",
    "    birthday_months = []\n",
    "    for month in df['Month']:\n",
    "        birthday_months.append(int(month)-1)\n",
    "    \n",
    "    birthday_months.sort()\n",
    "    \n",
    "    return list(map(lambda x: months[x], birthday_months))"
   ]
  },
  {
   "cell_type": "code",
   "execution_count": 30,
   "metadata": {},
   "outputs": [
    {
     "name": "stdout",
     "output_type": "stream",
     "text": [
      "Counter({'January': 1, 'June': 1, 'August': 1})\n"
     ]
    },
    {
     "data": {
      "text/plain": [
       "<BarContainer object of 3 artists>"
      ]
     },
     "execution_count": 30,
     "metadata": {},
     "output_type": "execute_result"
    },
    {
     "data": {
      "image/png": "[encoded data removed]",
      "text/plain": [
       "<Figure size 1080x540 with 1 Axes>"
      ]
     },
     "metadata": {
      "needs_background": "light"
     },
     "output_type": "display_data"
    }
   ],
   "source": [
    "from collections import Counter\n",
    "\n",
    "months = Counter(month(df)) # Counter creates a Counter type which is a wrapper for a dictionary \n",
    "                            # that counts repeat elements in a list\n",
    "print(months)\n",
    "\n",
    "fig, ax = plt.subplots(figsize = (15, 7.5))\n",
    "plt.title(label = 'Birth Month', fontsize = 22, color = 'black')\n",
    "plt.yticks(np.arange(0, 4))\n",
    "plt.xlabel('Birthday Month', fontdict={'fontsize': 15})\n",
    "plt.ylabel('Amount of Friends', fontdict={'fontsize': 15})\n",
    "plt.bar(months.keys(), months.values(), color = ['blue', 'green', 'purple'])"
   ]
  },
  {
   "cell_type": "code",
   "execution_count": null,
   "metadata": {},
   "outputs": [],
   "source": []
  }
 ],
 "metadata": {
  "kernelspec": {
   "display_name": "Python 3",
   "language": "python",
   "name": "python3"
  },
  "language_info": {
   "codemirror_mode": {
    "name": "ipython",
    "version": 3
   },
   "file_extension": ".py",
   "mimetype": "text/x-python",
   "name": "python",
   "nbconvert_exporter": "python",
   "pygments_lexer": "ipython3",
   "version": "3.8.3"
  }
 },
 "nbformat": 4,
 "nbformat_minor": 4
}
