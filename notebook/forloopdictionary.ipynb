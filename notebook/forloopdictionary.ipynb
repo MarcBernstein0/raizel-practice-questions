{
 "metadata": {
  "language_info": {
   "codemirror_mode": {
    "name": "ipython",
    "version": 3
   },
   "file_extension": ".py",
   "mimetype": "text/x-python",
   "name": "python",
   "nbconvert_exporter": "python",
   "pygments_lexer": "ipython3",
   "version": "3.8.3-final"
  },
  "orig_nbformat": 2,
  "kernelspec": {
   "name": "Python 3.8.3 64-bit ('berns': virtualenv)",
   "display_name": "Python 3.8.3 64-bit ('berns': virtualenv)",
   "metadata": {
    "interpreter": {
     "hash": "7e56207c1ecf5e070ccde26abc0e05f3d6c0c3ae8cb038c6d1936758cd8e50c2"
    }
   }
  }
 },
 "nbformat": 4,
 "nbformat_minor": 2,
 "cells": [
  {
   "cell_type": "code",
   "execution_count": 1,
   "metadata": {},
   "outputs": [],
   "source": [
    "players = {\n",
    "    'L. Messi': {\n",
    "        'age': 31,\n",
    "        'nationality': 'Argentina',\n",
    "        'teams': ['Barcelona']\n",
    "    },\n",
    "    'Cristiano Ronaldo': {\n",
    "        'age': 33,\n",
    "        'nationality': 'Portugal',\n",
    "        'teams': ['Juventus', 'Real Madrid', 'Manchester United']\n",
    "    },\n",
    "    'Neymar Jr': {\n",
    "        'age': 26,\n",
    "        'nationality': 'Brazil',\n",
    "        'teams': ['Santos', 'Barcelona', 'Paris Saint-German']\n",
    "    },\n",
    "    'De Gea': {\n",
    "        'age': 27,\n",
    "        'nationality': 'Spain',\n",
    "        'teams': ['Atletico Madrid', 'Manchester United']\n",
    "    },\n",
    "    'K. De Bruyne': {\n",
    "        'age': 27,\n",
    "        'nationality': 'Belgium',\n",
    "        'teams': ['Chelsea', 'Manchester City']\n",
    "    }\n",
    "}"
   ]
  },
  {
   "cell_type": "code",
   "execution_count": 2,
   "metadata": {
    "tags": []
   },
   "outputs": [
    {
     "output_type": "stream",
     "name": "stdout",
     "text": "L. Messi\nCristiano Ronaldo\nNeymar Jr\nDe Gea\nK. De Bruyne\n"
    }
   ],
   "source": [
    "for key in players:\n",
    "    print(key)"
   ]
  },
  {
   "cell_type": "code",
   "execution_count": 3,
   "metadata": {
    "tags": []
   },
   "outputs": [
    {
     "output_type": "stream",
     "name": "stdout",
     "text": "{&#39;age&#39;: 31, &#39;nationality&#39;: &#39;Argentina&#39;, &#39;teams&#39;: [&#39;Barcelona&#39;]}\n{&#39;age&#39;: 33, &#39;nationality&#39;: &#39;Portugal&#39;, &#39;teams&#39;: [&#39;Juventus&#39;, &#39;Real Madrid&#39;, &#39;Manchester United&#39;]}\n{&#39;age&#39;: 26, &#39;nationality&#39;: &#39;Brazil&#39;, &#39;teams&#39;: [&#39;Santos&#39;, &#39;Barcelona&#39;, &#39;Paris Saint-German&#39;]}\n{&#39;age&#39;: 27, &#39;nationality&#39;: &#39;Spain&#39;, &#39;teams&#39;: [&#39;Atletico Madrid&#39;, &#39;Manchester United&#39;]}\n{&#39;age&#39;: 27, &#39;nationality&#39;: &#39;Belgium&#39;, &#39;teams&#39;: [&#39;Chelsea&#39;, &#39;Manchester City&#39;]}\n"
    }
   ],
   "source": [
    "for key in players.values():\n",
    "    print(key) "
   ]
  },
  {
   "cell_type": "code",
   "execution_count": 4,
   "metadata": {
    "tags": []
   },
   "outputs": [
    {
     "output_type": "stream",
     "name": "stdout",
     "text": "{&#39;age&#39;: 31, &#39;nationality&#39;: &#39;Argentina&#39;, &#39;teams&#39;: [&#39;Barcelona&#39;]}\n{&#39;age&#39;: 33, &#39;nationality&#39;: &#39;Portugal&#39;, &#39;teams&#39;: [&#39;Juventus&#39;, &#39;Real Madrid&#39;, &#39;Manchester United&#39;]}\n{&#39;age&#39;: 26, &#39;nationality&#39;: &#39;Brazil&#39;, &#39;teams&#39;: [&#39;Santos&#39;, &#39;Barcelona&#39;, &#39;Paris Saint-German&#39;]}\n{&#39;age&#39;: 27, &#39;nationality&#39;: &#39;Spain&#39;, &#39;teams&#39;: [&#39;Atletico Madrid&#39;, &#39;Manchester United&#39;]}\n{&#39;age&#39;: 27, &#39;nationality&#39;: &#39;Belgium&#39;, &#39;teams&#39;: [&#39;Chelsea&#39;, &#39;Manchester City&#39;]}\n"
    }
   ],
   "source": [
    "for key in players:\n",
    "    print(players[key])"
   ]
  },
  {
   "cell_type": "code",
   "execution_count": 5,
   "metadata": {
    "tags": []
   },
   "outputs": [
    {
     "output_type": "stream",
     "name": "stdout",
     "text": "Argentina\nPortugal\nBrazil\nSpain\nBelgium\n"
    }
   ],
   "source": [
    "for key in players:\n",
    "    print(players[key]['nationality'])"
   ]
  },
  {
   "cell_type": "code",
   "execution_count": 6,
   "metadata": {
    "tags": []
   },
   "outputs": [
    {
     "output_type": "stream",
     "name": "stdout",
     "text": "[&#39;L. Messi&#39;, &#39;Cristiano Ronaldo&#39;, &#39;Neymar Jr&#39;, &#39;De Gea&#39;, &#39;K. De Bruyne&#39;]\n31\n"
    }
   ],
   "source": [
    "lst_of_keys = list(players.keys())\n",
    "print(lst_of_keys)\n",
    "print(players[lst_of_keys[0]]['age'])"
   ]
  },
  {
   "cell_type": "code",
   "execution_count": 7,
   "metadata": {
    "tags": []
   },
   "outputs": [
    {
     "output_type": "stream",
     "name": "stdout",
     "text": "[&#39;L. Messi&#39;, &#39;Cristiano Ronaldo&#39;, &#39;Neymar Jr&#39;, &#39;De Gea&#39;, &#39;K. De Bruyne&#39;]\n"
    }
   ],
   "source": [
    "player_names = []\n",
    "for player in players:\n",
    "    player_names.append(player)\n",
    "print(player_names)"
   ]
  },
  {
   "cell_type": "code",
   "execution_count": 8,
   "metadata": {
    "tags": []
   },
   "outputs": [
    {
     "output_type": "stream",
     "name": "stdout",
     "text": "[&#39;Argentina&#39;, &#39;Portugal&#39;, &#39;Brazil&#39;, &#39;Spain&#39;, &#39;Belgium&#39;]\n"
    }
   ],
   "source": [
    "player_nationalities = []\n",
    "for name in player_names:\n",
    "    player_nationalities.append(players[name]['nationality'])\n",
    "print(player_nationalities)"
   ]
  },
  {
   "cell_type": "code",
   "execution_count": 9,
   "metadata": {},
   "outputs": [],
   "source": [
    "def get_players_on_team(player_dict, team_name):\n",
    "    player_list = []\n",
    "    for player in player_dict:\n",
    "        if team_name in player_dict[player]['teams']:\n",
    "            player_list.append(player)\n",
    "    return player_list"
   ]
  },
  {
   "cell_type": "code",
   "execution_count": 10,
   "metadata": {},
   "outputs": [
    {
     "output_type": "execute_result",
     "data": {
      "text/plain": "[&#39;Alert&#39;, &#39;Independent&#39;, &#39;Playful&#39;]"
     },
     "metadata": {},
     "execution_count": 10
    }
   ],
   "source": [
    "human = { 'people':\n",
    "    [{'Ginger': [{\n",
    "        'age': 5,\n",
    "        'teams': ['Playful','Cheery','Hyper']\n",
    "    }],\n",
    "    'Chloe': [{\n",
    "        'age': 1,\n",
    "        'teams': ['Alert','Independent','Playful']\n",
    "    }],\n",
    "    'Chuck Norris': [{\n",
    "        'age': 8,\n",
    "        'teams': ['Talkative','Independent','Cheery']\n",
    "    }],\n",
    "    'Joe Rogan': [{\n",
    "        'age': 2,\n",
    "        'teams': ['Hyper','Playful','Energetic']\n",
    "    }]}]\n",
    "} \n",
    "\n",
    "human['people'][0]['Chloe'][0]['teams']\n",
    "people_value = human['people']\n",
    "people_value_dict = people_value[0]\n",
    "people_value_dict_Chloe_value = people_value_dict['Chloe']\n",
    "people_value_dict_Chloe_value_dict = people_value_dict_Chloe_value[0]\n",
    "people_value_dict_Chloe_value_dict_teams = people_value_dict_Chloe_value_dict['teams']\n",
    "people_value_dict_Chloe_value_dict_teams"
   ]
  },
  {
   "cell_type": "code",
   "execution_count": 11,
   "metadata": {
    "tags": []
   },
   "outputs": [
    {
     "output_type": "execute_result",
     "data": {
      "text/plain": "[(&#39;Ginger&#39;, [&#39;Playful&#39;, &#39;Cheery&#39;, &#39;Hyper&#39;]),\n (&#39;Chloe&#39;, [&#39;Alert&#39;, &#39;Independent&#39;, &#39;Playful&#39;]),\n (&#39;Chuck Norris&#39;, [&#39;Talkative&#39;, &#39;Independent&#39;, &#39;Cheery&#39;]),\n (&#39;Joe Rogan&#39;, [&#39;Hyper&#39;, &#39;Playful&#39;, &#39;Energetic&#39;])]"
     },
     "metadata": {},
     "execution_count": 11
    }
   ],
   "source": [
    "def get_names_and_teams(human):\n",
    "    name_team_lst = []\n",
    "    for key in human:\n",
    "        people_dict = human[key][0]\n",
    "        for names in people_dict:\n",
    "            # print(names, people_dict[names][0]['teams'])\n",
    "            pairs = (names, people_dict[names][0]['teams'])\n",
    "            name_team_lst.append(pairs)\n",
    "    return name_team_lst\n",
    "\n",
    "get_names_and_teams(human)"
   ]
  },
  {
   "cell_type": "code",
   "execution_count": 12,
   "metadata": {
    "tags": []
   },
   "outputs": [
    {
     "output_type": "stream",
     "name": "stdout",
     "text": "[&#39;Ginger&#39;, &#39;Chloe&#39;, &#39;Chuck Norris&#39;, &#39;Joe Rogan&#39;]\n"
    }
   ],
   "source": [
    "names = list(human['people'][0].keys())\n",
    "print(names)"
   ]
  },
  {
   "cell_type": "code",
   "execution_count": 13,
   "metadata": {},
   "outputs": [
    {
     "output_type": "execute_result",
     "data": {
      "text/plain": "[&#39;Playful&#39;, &#39;Cheery&#39;, &#39;Hyper&#39;]"
     },
     "metadata": {},
     "execution_count": 13
    }
   ],
   "source": [
    "human['people'][0]['Ginger'][0]['teams']"
   ]
  },
  {
   "cell_type": "code",
   "execution_count": 14,
   "metadata": {
    "tags": []
   },
   "outputs": [
    {
     "output_type": "stream",
     "name": "stdout",
     "text": "[&#39;Ginger&#39;, &#39;Chloe&#39;, &#39;Chuck Norris&#39;, &#39;Joe Rogan&#39;]\n"
    }
   ],
   "source": [
    "#create a list of names containing all people names\n",
    "for key in human:\n",
    "    print(list(human[key][0].keys()))"
   ]
  },
  {
   "cell_type": "code",
   "execution_count": 15,
   "metadata": {
    "tags": []
   },
   "outputs": [
    {
     "output_type": "stream",
     "name": "stdout",
     "text": "{&#39;Ginger&#39;: [{&#39;age&#39;: 5, &#39;teams&#39;: [&#39;Playful&#39;, &#39;Cheery&#39;, &#39;Hyper&#39;]}], &#39;Chloe&#39;: [{&#39;age&#39;: 1, &#39;teams&#39;: [&#39;Alert&#39;, &#39;Independent&#39;, &#39;Playful&#39;]}], &#39;Chuck Norris&#39;: [{&#39;age&#39;: 8, &#39;teams&#39;: [&#39;Talkative&#39;, &#39;Independent&#39;, &#39;Cheery&#39;]}], &#39;Joe Rogan&#39;: [{&#39;age&#39;: 2, &#39;teams&#39;: [&#39;Hyper&#39;, &#39;Playful&#39;, &#39;Energetic&#39;]}]}\n"
    }
   ],
   "source": [
    "for key in human:\n",
    "    for value in human[key]:\n",
    "        print(value)"
   ]
  },
  {
   "cell_type": "code",
   "execution_count": 16,
   "metadata": {
    "tags": []
   },
   "outputs": [
    {
     "output_type": "execute_result",
     "data": {
      "text/plain": "[(&#39;Ginger&#39;, [&#39;Playful&#39;, &#39;Cheery&#39;, &#39;Hyper&#39;]),\n (&#39;Chloe&#39;, [&#39;Alert&#39;, &#39;Independent&#39;, &#39;Playful&#39;]),\n (&#39;Chuck Norris&#39;, [&#39;Talkative&#39;, &#39;Independent&#39;, &#39;Cheery&#39;]),\n (&#39;Joe Rogan&#39;, [&#39;Hyper&#39;, &#39;Playful&#39;, &#39;Energetic&#39;])]"
     },
     "metadata": {},
     "execution_count": 16
    }
   ],
   "source": [
    "# loop through the collection, create a list that contain all names teams and desired output\n",
    "def get_names_and_teams(human):\n",
    "    name_team_lst = []\n",
    "    for key in human:\n",
    "        people_dict = human[key][0]\n",
    "        for names in people_dict:\n",
    "            # print(names, people_dict[names][0]['teams'])\n",
    "            pairs = (names, people_dict[names][0]['teams'])\n",
    "            name_team_lst.append(pairs)\n",
    "    return name_team_lst\n",
    "\n",
    "get_names_and_teams(human)"
   ]
  },
  {
   "cell_type": "code",
   "execution_count": 17,
   "metadata": {},
   "outputs": [],
   "source": [
    "# create a function that returns the names of people who is older than x years old\n",
    "\n",
    "# the function should take in a dictionary containing all people information, \n",
    "# and an integer indicating age you want to compare\n",
    "\n",
    "def people_older_than(people, age):\n",
    "    names = list(human['people'][0].keys())\n",
    "    old_ppl = []\n",
    "    for name in names:\n",
    "        if human['people'][0][name][0]['age'] > age:\n",
    "            old_ppl.append(name)\n",
    "    return old_ppl"
   ]
  },
  {
   "cell_type": "code",
   "execution_count": 18,
   "metadata": {},
   "outputs": [
    {
     "output_type": "execute_result",
     "data": {
      "text/plain": "[&#39;Ginger&#39;, &#39;Chuck Norris&#39;]"
     },
     "metadata": {},
     "execution_count": 18
    }
   ],
   "source": [
    "people_older_than(human, 4)"
   ]
  },
  {
   "source": [
    "products = [{\n",
    "        \"productId\": 1,\n",
    "        \"manufacturer\": \"Johns-Jenkins\",\n",
    "        \"sku\": \"p5z343vdS\",\n",
    "        \"upc\": \"939581000000\",\n",
    "        \"pricePerUnit\": \"497.45\",\n",
    "        \"quantityOnHand\": 9703,\n",
    "        \"productName\": \"sticky note\"\n",
    "    },\n",
    "    {\n",
    "        \"productId\": 2,\n",
    "        \"manufacturer\": \"Hessel, Schimmel and Feeney\",\n",
    "        \"sku\": \"i7v300kmx\",\n",
    "        \"upc\": \"740979000000\",\n",
    "        \"pricePerUnit\": \"282.29\",\n",
    "        \"quantityOnHand\": 9217,\n",
    "        \"productName\": \"leg warmers\"\n",
    "    },\n",
    "    {\n",
    "        \"productId\": 3,\n",
    "        \"manufacturer\": \"Swaniawski, Bartoletti and Bruen\",\n",
    "        \"sku\": \"q0L657ys7\",\n",
    "        \"upc\": \"111730000000\",\n",
    "        \"pricePerUnit\": \"436.26\",\n",
    "        \"quantityOnHand\": 5905,\n",
    "        \"productName\": \"lamp shade\"\n",
    "    },\n",
    "    {\n",
    "        \"productId\": 4,\n",
    "        \"manufacturer\": \"Runolfsdottir, Littel and Dicki\",\n",
    "        \"sku\": \"x78426lq1\",\n",
    "        \"upc\": \"93986215015\",\n",
    "        \"pricePerUnit\": \"537.90\",\n",
    "        \"quantityOnHand\": 2642,\n",
    "        \"productName\": \"flowers\"\n",
    "    },\n",
    "    {\n",
    "        \"productId\": 5,\n",
    "        \"manufacturer\": \"Kuhn, Cronin and Spencer\",\n",
    "        \"sku\": \"r4X793mdR\",\n",
    "        \"upc\": \"260149000000\",\n",
    "        \"pricePerUnit\": \"112.10\",\n",
    "        \"quantityOnHand\": 6144,\n",
    "        \"productName\": \"clamp\"\n",
    "    },\n",
    "    {\n",
    "        \"productId\": 6,\n",
    "        \"manufacturer\": \"Quigley, Casper and Boyer\",\n",
    "        \"sku\": \"g2P499xrM\",\n",
    "        \"upc\": \"390162000000\",\n",
    "        \"pricePerUnit\": \"593.53\",\n",
    "        \"quantityOnHand\": 6507,\n",
    "        \"productName\": \"twister\"\n",
    "    },\n",
    "    {\n",
    "        \"productId\": 7,\n",
    "        \"manufacturer\": \"Gutmann and Sons\",\n",
    "        \"sku\": \"v4j250hbi\",\n",
    "        \"upc\": \"465922000000\",\n",
    "        \"pricePerUnit\": \"88.97\",\n",
    "        \"quantityOnHand\": 4348,\n",
    "        \"productName\": \"clay pot\"\n",
    "    },\n",
    "    {\n",
    "        \"productId\": 8,\n",
    "        \"manufacturer\": \"Bins-Hansen\",\n",
    "        \"sku\": \"d3E278nk2\",\n",
    "        \"upc\": \"20072026056\",\n",
    "        \"pricePerUnit\": \"933.35\",\n",
    "        \"quantityOnHand\": 4577,\n",
    "        \"productName\": \"tooth picks\"\n",
    "    },\n",
    "    {\n",
    "        \"productId\": 9,\n",
    "        \"manufacturer\": \"Jones, Braun and Ratke\",\n",
    "        \"sku\": \"o3w911oal\",\n",
    "        \"upc\": \"879638000000\",\n",
    "        \"pricePerUnit\": \"426.23\",\n",
    "        \"quantityOnHand\": 1882,\n",
    "        \"productName\": \"mirror\"\n",
    "    },\n",
    "    {\n",
    "        \"productId\": 10,\n",
    "        \"manufacturer\": \"Upton-Mraz\",\n",
    "        \"sku\": \"k0R875prt\",\n",
    "        \"upc\": \"877387000000\",\n",
    "        \"pricePerUnit\": \"630.61\",\n",
    "        \"quantityOnHand\": 4035,\n",
    "        \"productName\": \"rug\"\n",
    "    },\n",
    "    {\n",
    "        \"productId\": 11,\n",
    "        \"manufacturer\": \"Schneider, Douglas and Franecki\",\n",
    "        \"sku\": \"h3t822kaB\",\n",
    "        \"upc\": \"507019000000\",\n",
    "        \"pricePerUnit\": \"13.67\",\n",
    "        \"quantityOnHand\": 2285,\n",
    "        \"productName\": \"headphones\"\n",
    "    },\n",
    "    {\n",
    "        \"productId\": 12,\n",
    "        \"manufacturer\": \"Weimann, Waelchi and Kassulke\",\n",
    "        \"sku\": \"t8A474iuv\",\n",
    "        \"upc\": \"669100000000\",\n",
    "        \"pricePerUnit\": \"369.46\",\n",
    "        \"quantityOnHand\": 5409,\n",
    "        \"productName\": \"balloon\"\n",
    "    },\n",
    "    {\n",
    "        \"productId\": 13,\n",
    "        \"manufacturer\": \"Moore-Gibson\",\n",
    "        \"sku\": \"c4i321mvh\",\n",
    "        \"upc\": \"600535000000\",\n",
    "        \"pricePerUnit\": \"250.98\",\n",
    "        \"quantityOnHand\": 6219,\n",
    "        \"productName\": \"lip gloss\"\n",
    "    },\n",
    "    {\n",
    "        \"productId\": 14,\n",
    "        \"manufacturer\": \"Schuppe, Cummerata and Hammes\",\n",
    "        \"sku\": \"l9V771xw1\",\n",
    "        \"upc\": \"677102000000\",\n",
    "        \"pricePerUnit\": \"577.90\",\n",
    "        \"quantityOnHand\": 1104,\n",
    "        \"productName\": \"sidewalk\"\n",
    "    },\n",
    "    {\n",
    "        \"productId\": 15,\n",
    "        \"manufacturer\": \"Ward-Quigley\",\n",
    "        \"sku\": \"x7b275hk2\",\n",
    "        \"upc\": \"110459000000\",\n",
    "        \"pricePerUnit\": \"642.19\",\n",
    "        \"quantityOnHand\": 9371,\n",
    "        \"productName\": \"pen\"\n",
    "    },\n",
    "    {\n",
    "        \"productId\": 16,\n",
    "        \"manufacturer\": \"Cassin Inc\",\n",
    "        \"sku\": \"b27590nys\",\n",
    "        \"upc\": \"920302000000\",\n",
    "        \"pricePerUnit\": \"145.19\",\n",
    "        \"quantityOnHand\": 5382,\n",
    "        \"productName\": \"outlet\"\n",
    "    },\n",
    "    {\n",
    "        \"productId\": 17,\n",
    "        \"manufacturer\": \"Shanahan Inc\",\n",
    "        \"sku\": \"j4y570kml\",\n",
    "        \"upc\": \"850798000000\",\n",
    "        \"pricePerUnit\": \"409.02\",\n",
    "        \"quantityOnHand\": 4567,\n",
    "        \"productName\": \"blanket\"\n",
    "    },\n",
    "    {\n",
    "        \"productId\": 18,\n",
    "        \"manufacturer\": \"Upton-Runolfsdottir\",\n",
    "        \"sku\": \"m2K116lkV\",\n",
    "        \"upc\": \"10335859487\",\n",
    "        \"pricePerUnit\": \"815.26\",\n",
    "        \"quantityOnHand\": 7083,\n",
    "        \"productName\": \"lotion\"\n",
    "    },\n",
    "    {\n",
    "        \"productId\": 19,\n",
    "        \"manufacturer\": \"Lubowitz Group\",\n",
    "        \"sku\": \"w61375szc\",\n",
    "        \"upc\": \"286418000000\",\n",
    "        \"pricePerUnit\": \"700.53\",\n",
    "        \"quantityOnHand\": 2224,\n",
    "        \"productName\": \"socks\"\n",
    "    },\n",
    "    {\n",
    "        \"productId\": 20,\n",
    "        \"manufacturer\": \"Padberg, Grady and Mueller\",\n",
    "        \"sku\": \"f1D653dwZ\",\n",
    "        \"upc\": \"62442197606\",\n",
    "        \"pricePerUnit\": \"176.67\",\n",
    "        \"quantityOnHand\": 4544,\n",
    "        \"productName\": \"CD\"\n",
    "    },\n",
    "    {\n",
    "        \"productId\": 21,\n",
    "        \"manufacturer\": \"Barrows-Gibson\",\n",
    "        \"sku\": \"g5F556bj2\",\n",
    "        \"upc\": \"667449000000\",\n",
    "        \"pricePerUnit\": \"66.44\",\n",
    "        \"quantityOnHand\": 138,\n",
    "        \"productName\": \"model car\"\n",
    "    },\n",
    "    {\n",
    "        \"productId\": 22,\n",
    "        \"manufacturer\": \"Feeney, Glover and Johns\",\n",
    "        \"sku\": \"o72175oxZ\",\n",
    "        \"upc\": \"353375000000\",\n",
    "        \"pricePerUnit\": \"454.12\",\n",
    "        \"quantityOnHand\": 4712,\n",
    "        \"productName\": \"soda can\"\n",
    "    },\n",
    "    {\n",
    "        \"productId\": 23,\n",
    "        \"manufacturer\": \"Ankunding, Haag and Corwin\",\n",
    "        \"sku\": \"n5m968dmo\",\n",
    "        \"upc\": \"356116000000\",\n",
    "        \"pricePerUnit\": \"852.15\",\n",
    "        \"quantityOnHand\": 5325,\n",
    "        \"productName\": \"fridge\"\n",
    "    },\n",
    "    {\n",
    "        \"productId\": 24,\n",
    "        \"manufacturer\": \"Armstrong, Mohr and Bradtke\",\n",
    "        \"sku\": \"o6O935rpv\",\n",
    "        \"upc\": \"451505000000\",\n",
    "        \"pricePerUnit\": \"275.21\",\n",
    "        \"quantityOnHand\": 7339,\n",
    "        \"productName\": \"bottle cap\"\n",
    "    },\n",
    "    {\n",
    "        \"productId\": 25,\n",
    "        \"manufacturer\": \"Schmidt and Sons\",\n",
    "        \"sku\": \"j32187bai\",\n",
    "        \"upc\": \"393839000000\",\n",
    "        \"pricePerUnit\": \"425.45\",\n",
    "        \"quantityOnHand\": 5434,\n",
    "        \"productName\": \"photo album\"\n",
    "    },\n",
    "    {\n",
    "        \"productId\": 26,\n",
    "        \"manufacturer\": \"Fadel, Robel and Turner\",\n",
    "        \"sku\": \"g7K279msW\",\n",
    "        \"upc\": \"227667000000\",\n",
    "        \"pricePerUnit\": \"774.24\",\n",
    "        \"quantityOnHand\": 2224,\n",
    "        \"productName\": \"twezzers\"\n",
    "    },\n",
    "    {\n",
    "        \"productId\": 27,\n",
    "        \"manufacturer\": \"Cassin, Kreiger and Wisoky\",\n",
    "        \"sku\": \"o4o723dsy\",\n",
    "        \"upc\": \"663345000000\",\n",
    "        \"pricePerUnit\": \"899.61\",\n",
    "        \"quantityOnHand\": 3985,\n",
    "        \"productName\": \"glow stick\"\n",
    "    },\n",
    "    {\n",
    "        \"productId\": 28,\n",
    "        \"manufacturer\": \"Baumbach LLC\",\n",
    "        \"sku\": \"m8p061fi3\",\n",
    "        \"upc\": \"156939000000\",\n",
    "        \"pricePerUnit\": \"663.10\",\n",
    "        \"quantityOnHand\": 9644,\n",
    "        \"productName\": \"truck\"\n",
    "    },\n",
    "    {\n",
    "        \"productId\": 29,\n",
    "        \"manufacturer\": \"Cummerata, Hills and Anderson\",\n",
    "        \"sku\": \"v4d029mtP\",\n",
    "        \"upc\": \"130529000000\",\n",
    "        \"pricePerUnit\": \"223.74\",\n",
    "        \"quantityOnHand\": 4173,\n",
    "        \"productName\": \"purse\"\n",
    "    },\n",
    "    {\n",
    "        \"productId\": 30,\n",
    "        \"manufacturer\": \"Kautzer, Bradtke and Stracke\",\n",
    "        \"sku\": \"i2w704pvs\",\n",
    "        \"upc\": \"498143000000\",\n",
    "        \"pricePerUnit\": \"929.37\",\n",
    "        \"quantityOnHand\": 1465,\n",
    "        \"productName\": \"bowl\"\n",
    "    },\n",
    "    {\n",
    "        \"productId\": 31,\n",
    "        \"manufacturer\": \"Bernhard, Fisher and Reinger\",\n",
    "        \"sku\": \"p8A041wxj\",\n",
    "        \"upc\": \"302419000000\",\n",
    "        \"pricePerUnit\": \"935.96\",\n",
    "        \"quantityOnHand\": 7069,\n",
    "        \"productName\": \"sketch pad\"\n",
    "    },\n",
    "    {\n",
    "        \"productId\": 32,\n",
    "        \"manufacturer\": \"Stamm and Sons\",\n",
    "        \"sku\": \"i1q225viC\",\n",
    "        \"upc\": \"190041000000\",\n",
    "        \"pricePerUnit\": \"341.29\",\n",
    "        \"quantityOnHand\": 9364,\n",
    "        \"productName\": \"sponge\"\n",
    "    },\n",
    "    {\n",
    "        \"productId\": 33,\n",
    "        \"manufacturer\": \"Senger Group\",\n",
    "        \"sku\": \"y6u840ste\",\n",
    "        \"upc\": \"981691000000\",\n",
    "        \"pricePerUnit\": \"785.00\",\n",
    "        \"quantityOnHand\": 9635,\n",
    "        \"productName\": \"cookie jar\"\n",
    "    },\n",
    "    {\n",
    "        \"productId\": 34,\n",
    "        \"manufacturer\": \"Conroy-Little\",\n",
    "        \"sku\": \"i2b810vfi\",\n",
    "        \"upc\": \"151356000000\",\n",
    "        \"pricePerUnit\": \"956.12\",\n",
    "        \"quantityOnHand\": 8016,\n",
    "        \"productName\": \"sharpie\"\n",
    "    },\n",
    "    {\n",
    "        \"productId\": 35,\n",
    "        \"manufacturer\": \"Huels Inc\",\n",
    "        \"sku\": \"r2Y361mak\",\n",
    "        \"upc\": \"315225000000\",\n",
    "        \"pricePerUnit\": \"78.00\",\n",
    "        \"quantityOnHand\": 8471,\n",
    "        \"productName\": \"shawl\"\n",
    "    },\n",
    "    {\n",
    "        \"productId\": 36,\n",
    "        \"manufacturer\": \"Pacocha and Sons\",\n",
    "        \"sku\": \"m6f710dvL\",\n",
    "        \"upc\": \"54158362672\",\n",
    "        \"pricePerUnit\": \"392.98\",\n",
    "        \"quantityOnHand\": 5583,\n",
    "        \"productName\": \"face wash\"\n",
    "    },\n",
    "    {\n",
    "        \"productId\": 37,\n",
    "        \"manufacturer\": \"Bednar, Bednar and Skiles\",\n",
    "        \"sku\": \"d3l280ulV\",\n",
    "        \"upc\": \"916805000000\",\n",
    "        \"pricePerUnit\": \"761.49\",\n",
    "        \"quantityOnHand\": 5408,\n",
    "        \"productName\": \"toothpaste\"\n",
    "    },\n",
    "    {\n",
    "        \"productId\": 38,\n",
    "        \"manufacturer\": \"Pouros Group\",\n",
    "        \"sku\": \"h9z038nu2\",\n",
    "        \"upc\": \"213707000000\",\n",
    "        \"pricePerUnit\": \"49.02\",\n",
    "        \"quantityOnHand\": 8531,\n",
    "        \"productName\": \"ring\"\n",
    "    },\n",
    "    {\n",
    "        \"productId\": 39,\n",
    "        \"manufacturer\": \"Feil, Wehner and Russel\",\n",
    "        \"sku\": \"j9X185vnN\",\n",
    "        \"upc\": \"959689000000\",\n",
    "        \"pricePerUnit\": \"828.92\",\n",
    "        \"quantityOnHand\": 3896,\n",
    "        \"productName\": \"door\"\n",
    "    },\n",
    "    {\n",
    "        \"productId\": 40,\n",
    "        \"manufacturer\": \"Mayert, Barton and Feeney\",\n",
    "        \"sku\": \"b9J149udy\",\n",
    "        \"upc\": \"377314000000\",\n",
    "        \"pricePerUnit\": \"863.18\",\n",
    "        \"quantityOnHand\": 1618,\n",
    "        \"productName\": \"towel\"\n",
    "    },\n",
    "    {\n",
    "        \"productId\": 41,\n",
    "        \"manufacturer\": \"Lindgren and Sons\",\n",
    "        \"sku\": \"d5X474kg4\",\n",
    "        \"upc\": \"544254000000\",\n",
    "        \"pricePerUnit\": \"139.86\",\n",
    "        \"quantityOnHand\": 7135,\n",
    "        \"productName\": \"vase\"\n",
    "    },\n",
    "    {\n",
    "        \"productId\": 42,\n",
    "        \"manufacturer\": \"Lueilwitz-Stehr\",\n",
    "        \"sku\": \"b81957uq9\",\n",
    "        \"upc\": \"766152000000\",\n",
    "        \"pricePerUnit\": \"758.59\",\n",
    "        \"quantityOnHand\": 352,\n",
    "        \"productName\": \"sun glasses\"\n",
    "    },\n",
    "    {\n",
    "        \"productId\": 43,\n",
    "        \"manufacturer\": \"Goldner, Bogisich and Zieme\",\n",
    "        \"sku\": \"o1O578rpk\",\n",
    "        \"upc\": \"541391000000\",\n",
    "        \"pricePerUnit\": \"146.27\",\n",
    "        \"quantityOnHand\": 332,\n",
    "        \"productName\": \"soy sauce packet\"\n",
    "    },\n",
    "    {\n",
    "        \"productId\": 44,\n",
    "        \"manufacturer\": \"Braun-Auer\",\n",
    "        \"sku\": \"o1d743wqj\",\n",
    "        \"upc\": \"234837000000\",\n",
    "        \"pricePerUnit\": \"205.50\",\n",
    "        \"quantityOnHand\": 6497,\n",
    "        \"productName\": \"thermostat\"\n",
    "    },\n",
    "    {\n",
    "        \"productId\": 45,\n",
    "        \"manufacturer\": \"Block, Wehner and Mann\",\n",
    "        \"sku\": \"a7b451lhB\",\n",
    "        \"upc\": \"211640000000\",\n",
    "        \"pricePerUnit\": \"658.75\",\n",
    "        \"quantityOnHand\": 795,\n",
    "        \"productName\": \"playing card\"\n",
    "    },\n",
    "    {\n",
    "        \"productId\": 46,\n",
    "        \"manufacturer\": \"Jenkins, Hickle and Zemlak\",\n",
    "        \"sku\": \"a7F511yoM\",\n",
    "        \"upc\": \"262647000000\",\n",
    "        \"pricePerUnit\": \"0.95\",\n",
    "        \"quantityOnHand\": 7017,\n",
    "        \"productName\": \"camera\"\n",
    "    },\n",
    "    {\n",
    "        \"productId\": 47,\n",
    "        \"manufacturer\": \"Cassin, Jaskolski and Glover\",\n",
    "        \"sku\": \"l2D749trK\",\n",
    "        \"upc\": \"507953000000\",\n",
    "        \"pricePerUnit\": \"414.79\",\n",
    "        \"quantityOnHand\": 2005,\n",
    "        \"productName\": \"key chain\"\n",
    "    }]"
   ],
   "cell_type": "code",
   "metadata": {},
   "execution_count": 50,
   "outputs": []
  },
  {
   "source": [
    "'''Question 1: return to me a list containing all the products with a quantityOnHand greater then 2000 but less then 4000\n",
    "    Requirements: must be a function, do not manipulate the global products variable but pass that into the function as an argument\n",
    "'''\n",
    "# TODO: add code below in this cell\n",
    "\n",
    "def quantityOnHand(products):\n",
    "    quantityOnHand = []\n",
    "    for product in products:\n",
    "        if product[\"quantityOnHand\"] > 2000 and product[\"quantityOnHand\"] <4000:\n",
    "            quantityOnHand.append(product)\n",
    "    # print(quantityOnHand)\n",
    "    return quantityOnHand"
   ],
   "cell_type": "code",
   "metadata": {
    "tags": []
   },
   "execution_count": 51,
   "outputs": []
  },
  {
   "cell_type": "code",
   "execution_count": 52,
   "metadata": {},
   "outputs": [
    {
     "output_type": "execute_result",
     "data": {
      "text/plain": "[{&#39;productId&#39;: 4,\n  &#39;manufacturer&#39;: &#39;Runolfsdottir, Littel and Dicki&#39;,\n  &#39;sku&#39;: &#39;x78426lq1&#39;,\n  &#39;upc&#39;: &#39;93986215015&#39;,\n  &#39;pricePerUnit&#39;: &#39;537.90&#39;,\n  &#39;quantityOnHand&#39;: 2642,\n  &#39;productName&#39;: &#39;flowers&#39;},\n {&#39;productId&#39;: 11,\n  &#39;manufacturer&#39;: &#39;Schneider, Douglas and Franecki&#39;,\n  &#39;sku&#39;: &#39;h3t822kaB&#39;,\n  &#39;upc&#39;: &#39;507019000000&#39;,\n  &#39;pricePerUnit&#39;: &#39;13.67&#39;,\n  &#39;quantityOnHand&#39;: 2285,\n  &#39;productName&#39;: &#39;headphones&#39;},\n {&#39;productId&#39;: 19,\n  &#39;manufacturer&#39;: &#39;Lubowitz Group&#39;,\n  &#39;sku&#39;: &#39;w61375szc&#39;,\n  &#39;upc&#39;: &#39;286418000000&#39;,\n  &#39;pricePerUnit&#39;: &#39;700.53&#39;,\n  &#39;quantityOnHand&#39;: 2224,\n  &#39;productName&#39;: &#39;socks&#39;},\n {&#39;productId&#39;: 26,\n  &#39;manufacturer&#39;: &#39;Fadel, Robel and Turner&#39;,\n  &#39;sku&#39;: &#39;g7K279msW&#39;,\n  &#39;upc&#39;: &#39;227667000000&#39;,\n  &#39;pricePerUnit&#39;: &#39;774.24&#39;,\n  &#39;quantityOnHand&#39;: 2224,\n  &#39;productName&#39;: &#39;twezzers&#39;},\n {&#39;productId&#39;: 27,\n  &#39;manufacturer&#39;: &#39;Cassin, Kreiger and Wisoky&#39;,\n  &#39;sku&#39;: &#39;o4o723dsy&#39;,\n  &#39;upc&#39;: &#39;663345000000&#39;,\n  &#39;pricePerUnit&#39;: &#39;899.61&#39;,\n  &#39;quantityOnHand&#39;: 3985,\n  &#39;productName&#39;: &#39;glow stick&#39;},\n {&#39;productId&#39;: 39,\n  &#39;manufacturer&#39;: &#39;Feil, Wehner and Russel&#39;,\n  &#39;sku&#39;: &#39;j9X185vnN&#39;,\n  &#39;upc&#39;: &#39;959689000000&#39;,\n  &#39;pricePerUnit&#39;: &#39;828.92&#39;,\n  &#39;quantityOnHand&#39;: 3896,\n  &#39;productName&#39;: &#39;door&#39;},\n {&#39;productId&#39;: 47,\n  &#39;manufacturer&#39;: &#39;Cassin, Jaskolski and Glover&#39;,\n  &#39;sku&#39;: &#39;l2D749trK&#39;,\n  &#39;upc&#39;: &#39;507953000000&#39;,\n  &#39;pricePerUnit&#39;: &#39;414.79&#39;,\n  &#39;quantityOnHand&#39;: 2005,\n  &#39;productName&#39;: &#39;key chain&#39;}]"
     },
     "metadata": {},
     "execution_count": 52
    }
   ],
   "source": [
    "quantityOnHand(products)"
   ]
  },
  {
   "cell_type": "code",
   "execution_count": 53,
   "metadata": {},
   "outputs": [],
   "source": [
    "# df[(df['quantityOnHand'] >= 2000) & (df['quantityOnHand'] <= 4000)]"
   ]
  },
  {
   "cell_type": "code",
   "execution_count": 63,
   "metadata": {},
   "outputs": [],
   "source": [
    "'''Question 2: return to me a list of all the product names and their corresponding product id\n",
    "    Requirements: must be a function, do not manipulate the global products variable but pass that into the function as an argument\n",
    "'''\n",
    "# TODO: add code below in this cell\n",
    "\n",
    "def productnameID(products):\n",
    "    names_ID = []\n",
    "    for product in products:\n",
    "        product['productName'] \n",
    "        names_ID.append(product['productID'], product['productName'])\n",
    "    return names_ID\n"
   ]
  },
  {
   "cell_type": "code",
   "execution_count": 64,
   "metadata": {},
   "outputs": [
    {
     "output_type": "execute_result",
     "data": {
      "text/plain": "([1,\n  2,\n  3,\n  4,\n  5,\n  6,\n  7,\n  8,\n  9,\n  10,\n  11,\n  12,\n  13,\n  14,\n  15,\n  16,\n  17,\n  18,\n  19,\n  20,\n  21,\n  22,\n  23,\n  24,\n  25,\n  26,\n  27,\n  28,\n  29,\n  30,\n  31,\n  32,\n  33,\n  34,\n  35,\n  36,\n  37,\n  38,\n  39,\n  40,\n  41,\n  42,\n  43,\n  44,\n  45,\n  46,\n  47],\n [&#39;sticky note&#39;,\n  &#39;leg warmers&#39;,\n  &#39;lamp shade&#39;,\n  &#39;flowers&#39;,\n  &#39;clamp&#39;,\n  &#39;twister&#39;,\n  &#39;clay pot&#39;,\n  &#39;tooth picks&#39;,\n  &#39;mirror&#39;,\n  &#39;rug&#39;,\n  &#39;headphones&#39;,\n  &#39;balloon&#39;,\n  &#39;lip gloss&#39;,\n  &#39;sidewalk&#39;,\n  &#39;pen&#39;,\n  &#39;outlet&#39;,\n  &#39;blanket&#39;,\n  &#39;lotion&#39;,\n  &#39;socks&#39;,\n  &#39;CD&#39;,\n  &#39;model car&#39;,\n  &#39;soda can&#39;,\n  &#39;fridge&#39;,\n  &#39;bottle cap&#39;,\n  &#39;photo album&#39;,\n  &#39;twezzers&#39;,\n  &#39;glow stick&#39;,\n  &#39;truck&#39;,\n  &#39;purse&#39;,\n  &#39;bowl&#39;,\n  &#39;sketch pad&#39;,\n  &#39;sponge&#39;,\n  &#39;cookie jar&#39;,\n  &#39;sharpie&#39;,\n  &#39;shawl&#39;,\n  &#39;face wash&#39;,\n  &#39;toothpaste&#39;,\n  &#39;ring&#39;,\n  &#39;door&#39;,\n  &#39;towel&#39;,\n  &#39;vase&#39;,\n  &#39;sun glasses&#39;,\n  &#39;soy sauce packet&#39;,\n  &#39;thermostat&#39;,\n  &#39;playing card&#39;,\n  &#39;camera&#39;,\n  &#39;key chain&#39;])"
     },
     "metadata": {},
     "execution_count": 64
    }
   ],
   "source": [
    "productnameID(products)"
   ]
  },
  {
   "cell_type": "code",
   "execution_count": 1,
   "metadata": {},
   "outputs": [],
   "source": [
    "cousins = {\n",
    "    'Briana': {\n",
    "        'age': 25,\n",
    "        'occupation': 'Genetic Counselor',\n",
    "        'sports': ['Hockey', 'American Ninja Warrior']\n",
    "    },\n",
    "    'Marc': {\n",
    "        'age': 22,\n",
    "        'occupation': 'Software Engineer',\n",
    "        'sports': ['Basketball', 'Super Smash Bros']\n",
    "    },\n",
    "    'Nina': {\n",
    "        'age': 26,\n",
    "        'occupation': 'Nonprofit Administrator',\n",
    "        'sports': ['Board Games', 'Israeli dances']\n",
    "    },\n",
    "    'Megan': {\n",
    "        'age': 28,\n",
    "        'occupation': 'Psychology PhD',\n",
    "        'sports': ['Rock Climbing', 'Spartan Racing', 'Singing']\n",
    "    },\n",
    "    'Rafi': {\n",
    "        'age': 30,\n",
    "        'occupation': 'History PhD',\n",
    "        'sports': ['Getting High', 'Doing Passover']\n",
    "    },\n",
    "    'Myles': {\n",
    "        'age': 8,\n",
    "        'occupation': '3rd grade',\n",
    "        'sports': ['Climbing to the roof of his playset', 'TKD']\n",
    "    },\n",
    "}"
   ]
  },
  {
   "cell_type": "code",
   "execution_count": 2,
   "metadata": {
    "tags": []
   },
   "outputs": [
    {
     "output_type": "stream",
     "name": "stdout",
     "text": "[&#39;s&#39;, &#39;t&#39;, &#39;r&#39;, &#39;i&#39;, &#39;n&#39;, &#39;g&#39;]\n"
    }
   ],
   "source": [
    "print(list(\"string\"))"
   ]
  },
  {
   "cell_type": "code",
   "execution_count": 3,
   "metadata": {
    "tags": []
   },
   "outputs": [
    {
     "output_type": "stream",
     "name": "stdout",
     "text": "[&#39;Briana&#39;, &#39;Marc&#39;, &#39;Nina&#39;, &#39;Megan&#39;, &#39;Rafi&#39;, &#39;Myles&#39;]\n"
    }
   ],
   "source": [
    "names = []\n",
    "for key in cousins:\n",
    "    # print(key)\n",
    "    names.append(key)\n",
    "print(names)"
   ]
  },
  {
   "cell_type": "code",
   "execution_count": 9,
   "metadata": {},
   "outputs": [
    {
     "output_type": "execute_result",
     "data": {
      "text/plain": "[25, 22, 26, 28, 30, 8]"
     },
     "metadata": {},
     "execution_count": 9
    }
   ],
   "source": [
    "age = []\n",
    "for name in names:\n",
    "    age.append(cousins[name]['age'])\n",
    "age"
   ]
  },
  {
   "cell_type": "code",
   "execution_count": 10,
   "metadata": {
    "tags": []
   },
   "outputs": [
    {
     "output_type": "stream",
     "name": "stdout",
     "text": "[&#39;Genetic Counselor&#39;, &#39;Software Engineer&#39;, &#39;Nonprofit Administrator&#39;, &#39;Psychology PhD&#39;, &#39;History PhD&#39;, &#39;3rd grade&#39;]\n"
    }
   ],
   "source": [
    "occupation = []\n",
    "for name in names:\n",
    "    occupation.append(cousins[name]['occupation'])\n",
    "print(occupation)"
   ]
  },
  {
   "cell_type": "code",
   "execution_count": 12,
   "metadata": {
    "tags": []
   },
   "outputs": [
    {
     "output_type": "stream",
     "name": "stdout",
     "text": "[&#39;Hockey&#39;, &#39;American Ninja Warrior&#39;]\n[&#39;Basketball&#39;, &#39;Super Smash Bros&#39;]\n[&#39;Board Games&#39;, &#39;Israeli dances&#39;]\n[&#39;Rock Climbing&#39;, &#39;Spartan Racing&#39;, &#39;Singing&#39;]\n[&#39;Getting High&#39;, &#39;Doing Passover&#39;]\n[&#39;Climbing to the roof of his playset&#39;, &#39;TKD&#39;]\n"
    }
   ],
   "source": [
    "for name in names:\n",
    "    print(cousins[name]['sports'])"
   ]
  },
  {
   "cell_type": "code",
   "execution_count": 24,
   "metadata": {},
   "outputs": [],
   "source": [
    "Halloween = { 'costumes':\n",
    "    [{'ghost': [{\n",
    "        'age': 5,\n",
    "        'traits': ['spooky','flies','go through things']\n",
    "    }],\n",
    "    'pumpkin': [{\n",
    "        'age': 1,\n",
    "        'traits': ['cute','orange']\n",
    "    }],\n",
    "    'nurse': [{\n",
    "        'age': 21,\n",
    "        'traits': ['helpful','not greys anatomy','profession']\n",
    "    }],\n",
    "    'vampire': [{\n",
    "        'age': 9,\n",
    "        'traits': ['blood sucking','likes dark','sharp teeth']\n",
    "    }]}]\n",
    "} "
   ]
  },
  {
   "cell_type": "code",
   "execution_count": 25,
   "metadata": {
    "tags": []
   },
   "outputs": [
    {
     "output_type": "stream",
     "name": "stdout",
     "text": "costumes\n"
    }
   ],
   "source": [
    "for key in Halloween:\n",
    "    print(key)"
   ]
  },
  {
   "cell_type": "code",
   "execution_count": 26,
   "metadata": {
    "tags": []
   },
   "outputs": [
    {
     "output_type": "stream",
     "name": "stdout",
     "text": "costumes\n"
    }
   ],
   "source": [
    "for costumes in Halloween:\n",
    "    print(costumes)"
   ]
  },
  {
   "cell_type": "code",
   "execution_count": 27,
   "metadata": {
    "tags": []
   },
   "outputs": [
    {
     "output_type": "stream",
     "name": "stdout",
     "text": "{&#39;ghost&#39;: [{&#39;age&#39;: 5, &#39;traits&#39;: [&#39;spooky&#39;, &#39;flies&#39;, &#39;go through things&#39;]}], &#39;pumpkin&#39;: [{&#39;age&#39;: 1, &#39;traits&#39;: [&#39;cute&#39;, &#39;orange&#39;]}], &#39;nurse&#39;: [{&#39;age&#39;: 21, &#39;traits&#39;: [&#39;helpful&#39;, &#39;not greys anatomy&#39;, &#39;profession&#39;]}], &#39;vampire&#39;: [{&#39;age&#39;: 9, &#39;traits&#39;: [&#39;blood sucking&#39;, &#39;likes dark&#39;, &#39;sharp teeth&#39;]}]}\n"
    }
   ],
   "source": [
    "for costumes in Halloween:\n",
    "    print(Halloween['costumes'][0])"
   ]
  },
  {
   "cell_type": "code",
   "execution_count": 28,
   "metadata": {
    "tags": []
   },
   "outputs": [
    {
     "output_type": "stream",
     "name": "stdout",
     "text": "dict_keys([&#39;ghost&#39;, &#39;pumpkin&#39;, &#39;nurse&#39;, &#39;vampire&#39;])\n"
    }
   ],
   "source": [
    "for costumes in Halloween:\n",
    "    print(Halloween['costumes'][0].keys())"
   ]
  },
  {
   "cell_type": "code",
   "execution_count": 29,
   "metadata": {},
   "outputs": [
    {
     "output_type": "execute_result",
     "data": {
      "text/plain": "[&#39;ghost&#39;, &#39;pumpkin&#39;, &#39;nurse&#39;, &#39;vampire&#39;]"
     },
     "metadata": {},
     "execution_count": 29
    }
   ],
   "source": [
    "list(Halloween['costumes'][0].keys())"
   ]
  },
  {
   "cell_type": "code",
   "execution_count": 30,
   "metadata": {
    "tags": []
   },
   "outputs": [
    {
     "output_type": "stream",
     "name": "stdout",
     "text": "[{&#39;age&#39;: 5, &#39;traits&#39;: [&#39;spooky&#39;, &#39;flies&#39;, &#39;go through things&#39;]}]\n"
    }
   ],
   "source": [
    "for costumes in Halloween:\n",
    "    print(Halloween['costumes'][0]['ghost'])"
   ]
  },
  {
   "cell_type": "code",
   "execution_count": 34,
   "metadata": {
    "tags": []
   },
   "outputs": [
    {
     "output_type": "stream",
     "name": "stdout",
     "text": "[&#39;cute&#39;, &#39;orange&#39;]\n"
    }
   ],
   "source": [
    "for costumes in Halloween:\n",
    "    print(Halloween['costumes'][0]['ghost']['age'])"
   ]
  },
  {
   "cell_type": "code",
   "execution_count": 35,
   "metadata": {
    "tags": []
   },
   "outputs": [
    {
     "output_type": "stream",
     "name": "stdout",
     "text": "[&#39;cute&#39;, &#39;orange&#39;]\n"
    }
   ],
   "source": [
    "for costumes in Halloween:\n",
    "    print(Halloween['costumes'][0]['pumpkin'][0]['traits'])"
   ]
  },
  {
   "cell_type": "code",
   "execution_count": 39,
   "metadata": {
    "tags": []
   },
   "outputs": [
    {
     "output_type": "stream",
     "name": "stdout",
     "text": "dict_keys([&#39;age&#39;, &#39;traits&#39;])\n"
    }
   ],
   "source": [
    "for costumes in Halloween:\n",
    "    print(Halloween['costumes'][0]['ghost'][0].keys())"
   ]
  },
  {
   "cell_type": "code",
   "execution_count": 40,
   "metadata": {
    "tags": []
   },
   "outputs": [
    {
     "output_type": "stream",
     "name": "stdout",
     "text": "dict_values([5, [&#39;spooky&#39;, &#39;flies&#39;, &#39;go through things&#39;]])\n"
    }
   ],
   "source": [
    "for costumes in Halloween:\n",
    "    print(Halloween['costumes'][0]['ghost'][0].values())"
   ]
  },
  {
   "cell_type": "code",
   "execution_count": 41,
   "metadata": {
    "tags": []
   },
   "outputs": [
    {
     "output_type": "stream",
     "name": "stdout",
     "text": "{&#39;age&#39;: 5, &#39;traits&#39;: [&#39;spooky&#39;, &#39;flies&#39;, &#39;go through things&#39;]}\n"
    }
   ],
   "source": [
    "for costumes in Halloween:\n",
    "    print(Halloween['costumes'][0]['ghost'][0])"
   ]
  },
  {
   "cell_type": "code",
   "execution_count": null,
   "metadata": {},
   "outputs": [],
   "source": []
  }
 ]
}