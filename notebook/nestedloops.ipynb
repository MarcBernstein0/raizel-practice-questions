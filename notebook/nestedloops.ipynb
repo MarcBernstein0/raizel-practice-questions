{
 "metadata": {
  "language_info": {
   "codemirror_mode": {
    "name": "ipython",
    "version": 3
   },
   "file_extension": ".py",
   "mimetype": "text/x-python",
   "name": "python",
   "nbconvert_exporter": "python",
   "pygments_lexer": "ipython3",
   "version": "3.8.3-final"
  },
  "orig_nbformat": 2,
  "kernelspec": {
   "name": "Python 3.8.3 64-bit ('base': conda)",
   "display_name": "Python 3.8.3 64-bit ('base': conda)",
   "metadata": {
    "interpreter": {
     "hash": "7e56207c1ecf5e070ccde26abc0e05f3d6c0c3ae8cb038c6d1936758cd8e50c2"
    }
   }
  }
 },
 "nbformat": 4,
 "nbformat_minor": 2,
 "cells": [
  {
   "cell_type": "code",
   "execution_count": 4,
   "metadata": {},
   "outputs": [],
   "source": [
    "soccer_match = [\n",
    "  { \"home_team\": True,\n",
    "    \"away_team\": False,\n",
    "    \"country\": \"France\",\n",
    "    \"num_passes\": 484,\n",
    "    \"passes_completed\": 423,\n",
    "    \"fouls_committed\": 16,\n",
    "    \"colors\": [\"blue\", \"white\", \"red\"],\n",
    "    \"players\": [\n",
    "      {\n",
    "        \"name\": \"Hugo LLORIS\",\n",
    "        \"captain\": True,\n",
    "        \"shirt_number\": 1,\n",
    "        \"position\": \"Goalie\"\n",
    "      },\n",
    "      {\n",
    "        \"name\": \"Benjamin PAVARD\",\n",
    "        \"captain\": False,\n",
    "        \"shirt_number\": 2,\n",
    "        \"position\": \"Defender\"\n",
    "      },\n",
    "      {\n",
    "        \"name\": \"Raphael VARANE\",\n",
    "        \"captain\": False,\n",
    "        \"shirt_number\": 4,\n",
    "        \"position\": \"Defender\"\n",
    "      },\n",
    "      {\n",
    "        \"name\": \"Samuel UMTITI\",\n",
    "        \"captain\": False,\n",
    "        \"shirt_number\": 5,\n",
    "        \"position\": \"Defender\"\n",
    "      },\n",
    "      {\n",
    "        \"name\": \"Paul POGBA\",\n",
    "        \"captain\": False,\n",
    "        \"shirt_number\": 6,\n",
    "        \"position\": \"Midfield\"\n",
    "      },\n",
    "      {\n",
    "        \"name\": \"Antoine GRIEZMANN\",\n",
    "        \"captain\": False,\n",
    "        \"shirt_number\": 7,\n",
    "        \"position\": \"Forward\"\n",
    "      },\n",
    "      {\n",
    "        \"name\": \"Kylian MBAPPE\",\n",
    "        \"captain\": False,\n",
    "        \"shirt_number\": 10,\n",
    "        \"position\": \"Forward\"\n",
    "      },\n",
    "      {\n",
    "        \"name\": \"Ousmane DEMBELE\",\n",
    "        \"captain\": False,\n",
    "        \"shirt_number\": 11,\n",
    "        \"position\": \"Forward\"\n",
    "      },\n",
    "      {\n",
    "        \"name\": \"Corentin TOLISSO\",\n",
    "        \"captain\": False,\n",
    "        \"shirt_number\": 12,\n",
    "        \"position\": \"Midfield\"\n",
    "      },\n",
    "      {\n",
    "        \"name\": \"Ngolo KANTE\",\n",
    "        \"captain\": False,\n",
    "        \"shirt_number\": 13,\n",
    "        \"position\": \"Midfield\"\n",
    "      },\n",
    "      {\n",
    "        \"name\": \"Lucas HERNANDEZ\",\n",
    "        \"captain\": False,\n",
    "        \"shirt_number\": 21,\n",
    "        \"position\": \"Defender\"\n",
    "      }\n",
    "    ],\n",
    "  },\n",
    "  { \"home_team\": False,\n",
    "    \"away_team\": True,\n",
    "    \"country\": \"Australia\",\n",
    "    \"num_passes\": 390,\n",
    "    \"passes_completed\": 332,\n",
    "    \"fouls_committed\": 19,\n",
    "    \"colors\": [\"green\", \"gold\"],\n",
    "    \"players\": [\n",
    "      {\n",
    "        \"name\": \"Mathew RYAN\",\n",
    "        \"captain\": False,\n",
    "        \"shirt_number\": 1,\n",
    "        \"position\": \"Goalie\"\n",
    "      },\n",
    "      {\n",
    "        \"name\": \"Mark MILLIGAN\",\n",
    "        \"captain\": False,\n",
    "        \"shirt_number\": 5,\n",
    "        \"position\": \"Defender\"\n",
    "      },\n",
    "      {\n",
    "        \"name\": \"Mathew LECKIE\",\n",
    "        \"captain\": False,\n",
    "        \"shirt_number\": 7,\n",
    "        \"position\": \"Forward\"\n",
    "      },\n",
    "      {\n",
    "        \"name\": \"Robbie KRUSE\",\n",
    "        \"captain\": False,\n",
    "        \"shirt_number\": 10,\n",
    "        \"position\": \"Forward\"\n",
    "      },\n",
    "      {\n",
    "        \"name\": \"Andrew NABBOUT\",\n",
    "        \"captain\": False,\n",
    "        \"shirt_number\": 11,\n",
    "        \"position\": \"Forward\"\n",
    "      },\n",
    "      {\n",
    "        \"name\": \"Aaron MOOY\",\n",
    "        \"captain\": False,\n",
    "        \"shirt_number\": 13,\n",
    "        \"position\": \"Midfield\"\n",
    "      },\n",
    "      {\n",
    "        \"name\": \"Mile JEDINAK\",\n",
    "        \"captain\": True,\n",
    "        \"shirt_number\": 15,\n",
    "        \"position\": \"Midfield\"\n",
    "      },\n",
    "      {\n",
    "        \"name\": \"Aziz BEHICH\",\n",
    "        \"captain\": False,\n",
    "        \"shirt_number\": 16,\n",
    "        \"position\": \"Defender\"\n",
    "      },\n",
    "      {\n",
    "        \"name\": \"Joshua RISDON\",\n",
    "        \"captain\": False,\n",
    "        \"shirt_number\": 19,\n",
    "        \"position\": \"Defender\"\n",
    "      },\n",
    "      {\n",
    "        \"name\": \"Trent SAINSBURY\",\n",
    "        \"captain\": False,\n",
    "        \"shirt_number\": 20,\n",
    "        \"position\": \"Defender\"\n",
    "      },\n",
    "      {\n",
    "        \"name\": \"Tom ROGIC\",\n",
    "        \"captain\": False,\n",
    "        \"shirt_number\": 23,\n",
    "        \"position\": \"Midfield\"\n",
    "      }\n",
    "    ]\n",
    "  }\n",
    "]"
   ]
  },
  {
   "cell_type": "code",
   "execution_count": 5,
   "metadata": {},
   "outputs": [],
   "source": [
    "# In the cell below, iterate over the soccer_match list to create a new list with the name of the country for each team."
   ]
  },
  {
   "cell_type": "code",
   "execution_count": 7,
   "metadata": {},
   "outputs": [
    {
     "output_type": "execute_result",
     "data": {
      "text/plain": [
       "['France', 'Australia']"
      ]
     },
     "metadata": {},
     "execution_count": 7
    }
   ],
   "source": [
    "countries = []\n",
    "for team in soccer_match:\n",
    "    countries.append(team['country'])\n",
    "countries"
   ]
  },
  {
   "cell_type": "code",
   "execution_count": 8,
   "metadata": {},
   "outputs": [],
   "source": [
    "# iterate over the soccer_match list to create a new list with the colors for each team this should be only one list containing strings for each of the country's colors."
   ]
  },
  {
   "cell_type": "code",
   "execution_count": 9,
   "metadata": {},
   "outputs": [
    {
     "output_type": "stream",
     "name": "stdout",
     "text": [
      "blue\nwhite\nred\ngreen\ngold\n['blue', 'white', 'red', 'green', 'gold']\n"
     ]
    }
   ],
   "source": [
    "colors = []\n",
    "for team in soccer_match:\n",
    "    for color in team[\"colors\"]:\n",
    "        print(color)\n",
    "        colors.append(color)\n",
    "print(colors)"
   ]
  },
  {
   "cell_type": "code",
   "execution_count": 10,
   "metadata": {},
   "outputs": [],
   "source": [
    "#  iterate over the soccer_match list to create a new list with the players from each team. players should be a single list containing the dictionaries for each of the country's players."
   ]
  },
  {
   "cell_type": "code",
   "execution_count": 11,
   "metadata": {},
   "outputs": [
    {
     "output_type": "stream",
     "name": "stdout",
     "text": [
      "{'name': 'Hugo LLORIS', 'captain': True, 'shirt_number': 1, 'position': 'Goalie'}\n{'name': 'Benjamin PAVARD', 'captain': False, 'shirt_number': 2, 'position': 'Defender'}\n{'name': 'Raphael VARANE', 'captain': False, 'shirt_number': 4, 'position': 'Defender'}\n{'name': 'Samuel UMTITI', 'captain': False, 'shirt_number': 5, 'position': 'Defender'}\n{'name': 'Paul POGBA', 'captain': False, 'shirt_number': 6, 'position': 'Midfield'}\n{'name': 'Antoine GRIEZMANN', 'captain': False, 'shirt_number': 7, 'position': 'Forward'}\n{'name': 'Kylian MBAPPE', 'captain': False, 'shirt_number': 10, 'position': 'Forward'}\n{'name': 'Ousmane DEMBELE', 'captain': False, 'shirt_number': 11, 'position': 'Forward'}\n{'name': 'Corentin TOLISSO', 'captain': False, 'shirt_number': 12, 'position': 'Midfield'}\n{'name': 'Ngolo KANTE', 'captain': False, 'shirt_number': 13, 'position': 'Midfield'}\n{'name': 'Lucas HERNANDEZ', 'captain': False, 'shirt_number': 21, 'position': 'Defender'}\n{'name': 'Mathew RYAN', 'captain': False, 'shirt_number': 1, 'position': 'Goalie'}\n{'name': 'Mark MILLIGAN', 'captain': False, 'shirt_number': 5, 'position': 'Defender'}\n{'name': 'Mathew LECKIE', 'captain': False, 'shirt_number': 7, 'position': 'Forward'}\n{'name': 'Robbie KRUSE', 'captain': False, 'shirt_number': 10, 'position': 'Forward'}\n{'name': 'Andrew NABBOUT', 'captain': False, 'shirt_number': 11, 'position': 'Forward'}\n{'name': 'Aaron MOOY', 'captain': False, 'shirt_number': 13, 'position': 'Midfield'}\n{'name': 'Mile JEDINAK', 'captain': True, 'shirt_number': 15, 'position': 'Midfield'}\n{'name': 'Aziz BEHICH', 'captain': False, 'shirt_number': 16, 'position': 'Defender'}\n{'name': 'Joshua RISDON', 'captain': False, 'shirt_number': 19, 'position': 'Defender'}\n{'name': 'Trent SAINSBURY', 'captain': False, 'shirt_number': 20, 'position': 'Defender'}\n{'name': 'Tom ROGIC', 'captain': False, 'shirt_number': 23, 'position': 'Midfield'}\n"
     ]
    },
    {
     "output_type": "execute_result",
     "data": {
      "text/plain": [
       "[{'name': 'Hugo LLORIS',\n",
       "  'captain': True,\n",
       "  'shirt_number': 1,\n",
       "  'position': 'Goalie'},\n",
       " {'name': 'Benjamin PAVARD',\n",
       "  'captain': False,\n",
       "  'shirt_number': 2,\n",
       "  'position': 'Defender'},\n",
       " {'name': 'Raphael VARANE',\n",
       "  'captain': False,\n",
       "  'shirt_number': 4,\n",
       "  'position': 'Defender'},\n",
       " {'name': 'Samuel UMTITI',\n",
       "  'captain': False,\n",
       "  'shirt_number': 5,\n",
       "  'position': 'Defender'},\n",
       " {'name': 'Paul POGBA',\n",
       "  'captain': False,\n",
       "  'shirt_number': 6,\n",
       "  'position': 'Midfield'},\n",
       " {'name': 'Antoine GRIEZMANN',\n",
       "  'captain': False,\n",
       "  'shirt_number': 7,\n",
       "  'position': 'Forward'},\n",
       " {'name': 'Kylian MBAPPE',\n",
       "  'captain': False,\n",
       "  'shirt_number': 10,\n",
       "  'position': 'Forward'},\n",
       " {'name': 'Ousmane DEMBELE',\n",
       "  'captain': False,\n",
       "  'shirt_number': 11,\n",
       "  'position': 'Forward'},\n",
       " {'name': 'Corentin TOLISSO',\n",
       "  'captain': False,\n",
       "  'shirt_number': 12,\n",
       "  'position': 'Midfield'},\n",
       " {'name': 'Ngolo KANTE',\n",
       "  'captain': False,\n",
       "  'shirt_number': 13,\n",
       "  'position': 'Midfield'},\n",
       " {'name': 'Lucas HERNANDEZ',\n",
       "  'captain': False,\n",
       "  'shirt_number': 21,\n",
       "  'position': 'Defender'},\n",
       " {'name': 'Mathew RYAN',\n",
       "  'captain': False,\n",
       "  'shirt_number': 1,\n",
       "  'position': 'Goalie'},\n",
       " {'name': 'Mark MILLIGAN',\n",
       "  'captain': False,\n",
       "  'shirt_number': 5,\n",
       "  'position': 'Defender'},\n",
       " {'name': 'Mathew LECKIE',\n",
       "  'captain': False,\n",
       "  'shirt_number': 7,\n",
       "  'position': 'Forward'},\n",
       " {'name': 'Robbie KRUSE',\n",
       "  'captain': False,\n",
       "  'shirt_number': 10,\n",
       "  'position': 'Forward'},\n",
       " {'name': 'Andrew NABBOUT',\n",
       "  'captain': False,\n",
       "  'shirt_number': 11,\n",
       "  'position': 'Forward'},\n",
       " {'name': 'Aaron MOOY',\n",
       "  'captain': False,\n",
       "  'shirt_number': 13,\n",
       "  'position': 'Midfield'},\n",
       " {'name': 'Mile JEDINAK',\n",
       "  'captain': True,\n",
       "  'shirt_number': 15,\n",
       "  'position': 'Midfield'},\n",
       " {'name': 'Aziz BEHICH',\n",
       "  'captain': False,\n",
       "  'shirt_number': 16,\n",
       "  'position': 'Defender'},\n",
       " {'name': 'Joshua RISDON',\n",
       "  'captain': False,\n",
       "  'shirt_number': 19,\n",
       "  'position': 'Defender'},\n",
       " {'name': 'Trent SAINSBURY',\n",
       "  'captain': False,\n",
       "  'shirt_number': 20,\n",
       "  'position': 'Defender'},\n",
       " {'name': 'Tom ROGIC',\n",
       "  'captain': False,\n",
       "  'shirt_number': 23,\n",
       "  'position': 'Midfield'}]"
      ]
     },
     "metadata": {},
     "execution_count": 11
    }
   ],
   "source": [
    "players = []\n",
    "for team in soccer_match:\n",
    "    for player in team[\"players\"]:\n",
    "        print(player)\n",
    "        players.append(player)\n",
    "players"
   ]
  },
  {
   "cell_type": "code",
   "execution_count": 12,
   "metadata": {},
   "outputs": [],
   "source": [
    "# Iterate over the soccer_match list to create a new list with the captains from each team. This should be a single list containing the dictionaries for each of the country's captains."
   ]
  },
  {
   "cell_type": "code",
   "execution_count": 13,
   "metadata": {},
   "outputs": [
    {
     "output_type": "execute_result",
     "data": {
      "text/plain": [
       "[{'name': 'Hugo LLORIS',\n",
       "  'captain': True,\n",
       "  'shirt_number': 1,\n",
       "  'position': 'Goalie'},\n",
       " {'name': 'Mile JEDINAK',\n",
       "  'captain': True,\n",
       "  'shirt_number': 15,\n",
       "  'position': 'Midfield'}]"
      ]
     },
     "metadata": {},
     "execution_count": 13
    }
   ],
   "source": [
    "captains = []\n",
    "for player in players:\n",
    "    if player['captain']== True:\n",
    "#         print(player)\n",
    "        captains.append(player)\n",
    "captains"
   ]
  },
  {
   "cell_type": "code",
   "execution_count": 14,
   "metadata": {},
   "outputs": [],
   "source": [
    "# Iterate over the soccer_match list to create a new list with the players from ONLY the home team."
   ]
  },
  {
   "cell_type": "code",
   "execution_count": 15,
   "metadata": {},
   "outputs": [
    {
     "output_type": "execute_result",
     "data": {
      "text/plain": [
       "[{'name': 'Hugo LLORIS',\n",
       "  'captain': True,\n",
       "  'shirt_number': 1,\n",
       "  'position': 'Goalie'},\n",
       " {'name': 'Benjamin PAVARD',\n",
       "  'captain': False,\n",
       "  'shirt_number': 2,\n",
       "  'position': 'Defender'},\n",
       " {'name': 'Raphael VARANE',\n",
       "  'captain': False,\n",
       "  'shirt_number': 4,\n",
       "  'position': 'Defender'},\n",
       " {'name': 'Samuel UMTITI',\n",
       "  'captain': False,\n",
       "  'shirt_number': 5,\n",
       "  'position': 'Defender'},\n",
       " {'name': 'Paul POGBA',\n",
       "  'captain': False,\n",
       "  'shirt_number': 6,\n",
       "  'position': 'Midfield'},\n",
       " {'name': 'Antoine GRIEZMANN',\n",
       "  'captain': False,\n",
       "  'shirt_number': 7,\n",
       "  'position': 'Forward'},\n",
       " {'name': 'Kylian MBAPPE',\n",
       "  'captain': False,\n",
       "  'shirt_number': 10,\n",
       "  'position': 'Forward'},\n",
       " {'name': 'Ousmane DEMBELE',\n",
       "  'captain': False,\n",
       "  'shirt_number': 11,\n",
       "  'position': 'Forward'},\n",
       " {'name': 'Corentin TOLISSO',\n",
       "  'captain': False,\n",
       "  'shirt_number': 12,\n",
       "  'position': 'Midfield'},\n",
       " {'name': 'Ngolo KANTE',\n",
       "  'captain': False,\n",
       "  'shirt_number': 13,\n",
       "  'position': 'Midfield'},\n",
       " {'name': 'Lucas HERNANDEZ',\n",
       "  'captain': False,\n",
       "  'shirt_number': 21,\n",
       "  'position': 'Defender'}]"
      ]
     },
     "metadata": {},
     "execution_count": 15
    }
   ],
   "source": [
    "home_team_players = []\n",
    "for team in soccer_match:\n",
    "    if team['home_team'] == True:\n",
    "        for player in team[\"players\"]:\n",
    "            home_team_players.append(player)\n",
    "home_team_players"
   ]
  },
  {
   "cell_type": "code",
   "execution_count": 16,
   "metadata": {},
   "outputs": [],
   "source": [
    "# Iterate over the soccer_match list to create a new list with the information for each of the away team players whose position is \"Forward\"."
   ]
  },
  {
   "cell_type": "code",
   "execution_count": 17,
   "metadata": {},
   "outputs": [
    {
     "output_type": "execute_result",
     "data": {
      "text/plain": [
       "[{'name': 'Mathew LECKIE',\n",
       "  'captain': False,\n",
       "  'shirt_number': 7,\n",
       "  'position': 'Forward'},\n",
       " {'name': 'Robbie KRUSE',\n",
       "  'captain': False,\n",
       "  'shirt_number': 10,\n",
       "  'position': 'Forward'},\n",
       " {'name': 'Andrew NABBOUT',\n",
       "  'captain': False,\n",
       "  'shirt_number': 11,\n",
       "  'position': 'Forward'}]"
      ]
     },
     "metadata": {},
     "execution_count": 17
    }
   ],
   "source": [
    "away_team_forwards = []\n",
    "for team in soccer_match:\n",
    "    if team['away_team'] == True:\n",
    "        for player in team[\"players\"]:\n",
    "            if player[\"position\"] == \"Forward\":\n",
    "                away_team_forwards.append(player)\n",
    "away_team_forwards   "
   ]
  },
  {
   "cell_type": "code",
   "execution_count": 18,
   "metadata": {},
   "outputs": [],
   "source": [
    "# Iterate over the soccer_match list and find the player with the highest shirt_number.\n",
    "# Store this player's information in the player_with_highest_num variable."
   ]
  },
  {
   "cell_type": "code",
   "execution_count": 19,
   "metadata": {},
   "outputs": [
    {
     "output_type": "execute_result",
     "data": {
      "text/plain": [
       "{'name': 'Tom ROGIC',\n",
       " 'captain': False,\n",
       " 'shirt_number': 23,\n",
       " 'position': 'Midfield'}"
      ]
     },
     "metadata": {},
     "execution_count": 19
    }
   ],
   "source": [
    "player_with_highest_num = []\n",
    "for team in soccer_match:\n",
    "    for player in team['players']:\n",
    "        if not player_with_highest_num or player_with_highest_num['shirt_number'] < player['shirt_number']:\n",
    "            player_with_highest_num = player\n",
    "player_with_highest_num"
   ]
  },
  {
   "cell_type": "code",
   "execution_count": 20,
   "metadata": {},
   "outputs": [],
   "source": [
    "# Notice that the players oddly have their last name's in all caps. Create a list of all the names of the players in this match. Be sure to make sure their first and last names are properly capitalized (first letter upper case, proceeding letters lower case), as opposed to how they are currently formatted."
   ]
  },
  {
   "cell_type": "code",
   "execution_count": 21,
   "metadata": {},
   "outputs": [
    {
     "output_type": "execute_result",
     "data": {
      "text/plain": [
       "['Hugo Lloris',\n",
       " 'Benjamin Pavard',\n",
       " 'Raphael Varane',\n",
       " 'Samuel Umtiti',\n",
       " 'Paul Pogba',\n",
       " 'Antoine Griezmann',\n",
       " 'Kylian Mbappe',\n",
       " 'Ousmane Dembele',\n",
       " 'Corentin Tolisso',\n",
       " 'Ngolo Kante',\n",
       " 'Lucas Hernandez',\n",
       " 'Mathew Ryan',\n",
       " 'Mark Milligan',\n",
       " 'Mathew Leckie',\n",
       " 'Robbie Kruse',\n",
       " 'Andrew Nabbout',\n",
       " 'Aaron Mooy',\n",
       " 'Mile Jedinak',\n",
       " 'Aziz Behich',\n",
       " 'Joshua Risdon',\n",
       " 'Trent Sainsbury',\n",
       " 'Tom Rogic']"
      ]
     },
     "metadata": {},
     "execution_count": 21
    }
   ],
   "source": [
    "player_names = []\n",
    "for team in soccer_match:\n",
    "    for player in team[\"players\"]:\n",
    "            player_names.append(player['name'].title())\n",
    "player_names    "
   ]
  },
  {
   "cell_type": "code",
   "execution_count": null,
   "metadata": {},
   "outputs": [],
   "source": []
  }
 ]
}