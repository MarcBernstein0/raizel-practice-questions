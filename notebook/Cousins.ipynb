{
 "cells": [
  {
   "cell_type": "code",
   "execution_count": 1,
   "metadata": {},
   "outputs": [
    {
     "name": "stderr",
     "output_type": "stream",
     "text": [
      "<ipython-input-1-4ecfe1fceff7>:4: FutureWarning: Passing a negative integer is deprecated in version 1.0 and will not be supported in future version. Instead, use None to not limit the column width.\n",
      "  pd.set_option('display.max_colwidth', -1)\n"
     ]
    }
   ],
   "source": [
    "import pandas as pd\n",
    "import seaborn as sns\n",
    "import matplotlib.pyplot as plt\n",
    "pd.set_option('display.max_colwidth', -1)"
   ]
  },
  {
   "cell_type": "code",
   "execution_count": 2,
   "metadata": {},
   "outputs": [],
   "source": [
    "cuz = pd.read_csv('../data/Cuz.csv')"
   ]
  },
  {
   "cell_type": "code",
   "execution_count": 4,
   "metadata": {},
   "outputs": [
    {
     "data": {
      "text/plain": [
       "Index(['Timestamp', 'Username', 'Your name',\n",
       "       'Question created by Ariel - Sometime in the Near Future: In the short break between the Torah portion and Sean's Haftorah, the Rabbi, of all people, invites us to join them through a secret door in the back of the Synagogue. Of course, we cannot resist. Down we go. A seemingly endless, winding flight of stairs leads us to a cellar, in which there appears to be a speakeasy of some sort. A strange old man asks us each what we would like. We are confused. \"To drink!\" he grumbles. \"Que quires a beber?\" The Rabbi, or all people has brought us to the open bar. What would you like to drink?',\n",
       "       'Favorite beer', 'Favorite wine', 'Favorite alcoholic beverage',\n",
       "       'Top 3 favorite snacks/desserts/treats', 'Do you want to scuba dive?',\n",
       "       'Did you know Marc's golden birthday is friday (24 yrs old june 24th!)',\n",
       "       'What should Nina name her baby (girl name)',\n",
       "       'What should Nina name her baby (boy name)',\n",
       "       'What should Nina name her baby (gender neutral name)',\n",
       "       'If you could have any job in the world, what would it be? ',\n",
       "       'Juda and Zoey are hanging out on there phones texting in Gen-new. None of us can understand what they're saying because we're old. What do we think they're saying?',\n",
       "       'Who will win coke and pepsi at Sean's bar mitzvah? ',\n",
       "       'We are called up to the dance floor, it is time: the hora. The music gets louder and the beat speeds up. Sean is hoisted into the air, but Juan is not carrying the weight of the chair like the other helpers. Juan lets go and Sean falls down. What do you do?',\n",
       "       'What is the third picture of on your phone? '],\n",
       "      dtype='object')"
      ]
     },
     "execution_count": 4,
     "metadata": {},
     "output_type": "execute_result"
    }
   ],
   "source": [
    "cuz.columns"
   ]
  },
  {
   "cell_type": "code",
   "execution_count": 6,
   "metadata": {},
   "outputs": [],
   "source": [
    "cuz = cuz.rename(columns={\"\"\"Question created by Ariel - Sometime in the Near Future: In the short break between the Torah portion and Sean's Haftorah, the Rabbi, of all people, invites us to join them through a secret door in the back of the Synagogue. Of course, we cannot resist. Down we go. A seemingly endless, winding flight of stairs leads us to a cellar, in which there appears to be a speakeasy of some sort. A strange old man asks us each what we would like. We are confused. \"To drink!\" he grumbles. \"Que quires a beber?\" The Rabbi, or all people has brought us to the open bar. What would you like to drink?\"\"\"\n",
    "                          : 'Ariel',\n",
    "                         \"'Juda and Zoey are hanging out on there phones texting in Gen-new. None of us can understand what they're saying because we're old. What do we think they're saying?'\":\n",
    "                          'Gen New',\n",
    "                         \"'We are called up to the dance floor, it is time: the hora. The music gets louder and the beat speeds up. Sean is hoisted into the air, but Juan is not carrying the weight of the chair like the other helpers. Juan lets go and Sean falls down. What do you do?\":\n",
    "                         'Sean barmitzvah'})"
   ]
  },
  {
   "cell_type": "code",
   "execution_count": null,
   "metadata": {},
   "outputs": [],
   "source": []
  }
 ],
 "metadata": {
  "kernelspec": {
   "display_name": "Python 3",
   "language": "python",
   "name": "python3"
  },
  "language_info": {
   "codemirror_mode": {
    "name": "ipython",
    "version": 3
   },
   "file_extension": ".py",
   "mimetype": "text/x-python",
   "name": "python",
   "nbconvert_exporter": "python",
   "pygments_lexer": "ipython3",
   "version": "3.8.3"
  }
 },
 "nbformat": 4,
 "nbformat_minor": 4
}
