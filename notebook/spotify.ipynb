{
 "metadata": {
  "language_info": {
   "codemirror_mode": {
    "name": "ipython",
    "version": 3
   },
   "file_extension": ".py",
   "mimetype": "text/x-python",
   "name": "python",
   "nbconvert_exporter": "python",
   "pygments_lexer": "ipython3",
   "version": "3.8.3-final"
  },
  "orig_nbformat": 2,
  "kernelspec": {
   "name": "learn-env",
   "display_name": "learn-env"
  }
 },
 "nbformat": 4,
 "nbformat_minor": 2,
 "cells": [
  {
   "cell_type": "code",
   "execution_count": 6,
   "metadata": {},
   "outputs": [],
   "source": [
    "import pandas as pd \n",
    "import matplotlib.pyplot as plt\n",
    "import numpy as np\n",
    "import matplotlib.pyplot as plt\n",
    "import spotipy\n",
    "from spotipy.oauth2 import SpotifyClientCredentials\n",
    "import lyricsgenius\n",
    "pd.options.display.max_columns = 120"
   ]
  },
  {
   "cell_type": "code",
   "execution_count": 4,
   "metadata": {},
   "outputs": [],
   "source": [
    "# url = 'https://api.spotify.com/v1'\n",
    "# response = requests.get(url)\n",
    "# response"
   ]
  },
  {
   "cell_type": "code",
   "execution_count": null,
   "metadata": {},
   "outputs": [],
   "source": [
    "sp = spotipy.Spotify(auth_manager=SpotifyClientCredentials(client_id=\"YOUR_APP_CLIENT_ID\",\n",
    "                                                           client_secret=\"YOUR_APP_CLIENT_SECRET\"))\n",
    "\n",
    "results = sp.search(q='insert-artist-or-song-here', limit=20)\n",
    "for idx, track in enumerate(results['tracks']['items']):\n",
    "    print(idx, track['name'])"
   ]
  },
  {
   "cell_type": "code",
   "execution_count": null,
   "metadata": {},
   "outputs": [],
   "source": [
    "genius = lyricsgenius.Genius(\"my_client_access_token_here\")\n",
    "artist = genius.search_artist(\"insert_artist_here\", max_songs=insert_number_here, sort=\"title\")\n",
    "print(artist.songs)"
   ]
  },
  {
   "cell_type": "code",
   "execution_count": null,
   "metadata": {},
   "outputs": [],
   "source": [
    "song = genius.search_song(\"insert_song_name_here\", artist.name)\n",
    "print(song.lyrics)"
   ]
  },
  {
   "cell_type": "code",
   "execution_count": null,
   "metadata": {},
   "outputs": [],
   "source": [
    "song = {}\n",
    "\n",
    "results = sp.search(q='call me maybe', limit=1)\n",
    "for idx, track in enumerate(results['tracks']['items']):\n",
    "    song[track['name']] = track['popularity']\n",
    "\n",
    "results = sp.search(q='despacito', limit=1)\n",
    "for idx, track in enumerate(results['tracks']['items']):\n",
    "    song[track['name']] = track['popularity']\n",
    "\n",
    "results = sp.search(q='mo bamba', limit=1)\n",
    "for idx, track in enumerate(results['tracks']['items']):\n",
    "    song[track['name']] = track['popularity']\n",
    "\n",
    "results = sp.search(q='WAP', limit=1)\n",
    "for idx, track in enumerate(results['tracks']['items']):\n",
    "    song[track['name']] = track['popularity']\n",
    "\n",
    "results = sp.search(q='Sicko Mode', limit=1)\n",
    "for idx, track in enumerate(results['tracks']['items']):\n",
    "    song[track['name']] = track['popularity']\n",
    "\n",
    "results = sp.search(q='trap queen', limit=1)\n",
    "for idx, track in enumerate(results['tracks']['items']):\n",
    "    song[track['name']] = track['popularity']\n",
    "\n",
    "song"
   ]
  },
  {
   "cell_type": "code",
   "execution_count": null,
   "metadata": {},
   "outputs": [],
   "source": [
    "import matplotlib.pyplot as plt\n",
    "%matplotlib inline\n",
    "\n",
    "\n",
    "fig , axes = plt.subplots(2,3, figsize = (27,20))\n",
    "\n",
    "axes[0][0].set_title('Britney', fontsize = 22)\n",
    "axes[0][1].set_title('Beyonce', fontsize = 22)\n",
    "axes[0][2].set_title('Rihanna', fontsize = 22)\n",
    "axes[1][0].set_title('Weekend', fontsize = 22)\n",
    "axes[1][1].set_title('J. Cole', fontsize = 22)\n",
    "axes[1][2].set_title('Drake', fontsize = 22)\n",
    "\n",
    "\n",
    "axes[0][0].set_xlabel('Songs', fontsize = 16)\n",
    "axes[0][1].set_xlabel('Songs', fontsize = 16)\n",
    "axes[0][2].set_xlabel('Songs', fontsize = 16)\n",
    "axes[1][0].set_xlabel('Songs', fontsize = 16)\n",
    "axes[1][1].set_xlabel('Songs', fontsize = 16)\n",
    "axes[1][2].set_xlabel('Songs', fontsize = 16)\n",
    "\n",
    "\n",
    "axes[0][0].set_ylabel('Popularity', fontsize = 16)\n",
    "axes[0][1].set_ylabel('Popularity', fontsize = 16)\n",
    "axes[0][2].set_ylabel('Popularity', fontsize = 16)\n",
    "axes[1][0].set_ylabel('Popularity', fontsize = 16)\n",
    "axes[1][1].set_ylabel('Popularity', fontsize = 16)\n",
    "axes[1][2].set_ylabel('Popularity', fontsize = 16)\n",
    "\n",
    "\n",
    "x = df_artists['Song']\n",
    "y = df_artists['Popularity']\n",
    "\n",
    "axes[0][0].bar(x[:15], y[:15], color = 'magenta')\n",
    "axes[0][0].set_xticklabels(x, rotation = 'vertical', fontsize = 12)\n",
    "axes[0][1].bar(x[15:30], y[15:30], color = 'black')\n",
    "axes[0][1].set_xticklabels(x[15:30], rotation = 'vertical', fontsize = 12)\n",
    "axes[0][2].bar(x[30:45], y[30:45], color = 'dodgerblue')\n",
    "axes[0][2].set_xticklabels(x[30:45], rotation = 'vertical', fontsize = 12)\n",
    "axes[1][0].bar(x[45:60], y[45:60], color = 'black')\n",
    "axes[1][0].set_xticklabels(x[45:60], rotation = 'vertical', fontsize = 12)\n",
    "axes[1][1].bar(x[60:75], y[60:75], color = 'dodgerblue')\n",
    "axes[1][1].set_xticklabels(x[60:75], rotation = 'vertical', fontsize = 12)\n",
    "axes[1][2].bar(x[75:], y[75:], color = 'magenta')\n",
    "axes[1][2].set_xticklabels(x[75:], rotation = 'vertical', fontsize = 12)\n",
    "\n",
    "plt.subplots_adjust(hspace = .6)"
   ]
  }
 ]
}